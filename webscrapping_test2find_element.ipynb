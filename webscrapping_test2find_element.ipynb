{
 "cells": [
  {
   "cell_type": "code",
   "execution_count": 28,
   "metadata": {},
   "outputs": [],
   "source": [
    "from selenium import webdriver #the webdriver package\n",
    "from selenium.webdriver.common.by import By #use the method to select\n",
    "from selenium.webdriver.common.keys import Keys \n",
    "\n",
    "from selenium.webdriver.support.ui import WebDriverWait #enables to wait until condition is fullfilled or just until a timeout exception is returned\n",
    "from selenium.webdriver.support import expected_conditions as ec #enables to create the conditions\n",
    "from selenium.common.exceptions import TimeoutException #enables to retrieve the exceptions type\n",
    "from selenium.common.exceptions import NoSuchElementException #enables to retrieve the exceptions type"
   ]
  },
  {
   "cell_type": "code",
   "execution_count": 191,
   "metadata": {},
   "outputs": [],
   "source": [
    "## Options for the web driver (here incognito mode for Chrome, better to be prompted again the password each time we open a new web-browser)\n",
    "options = webdriver.ChromeOptions()\n",
    "options.add_argument(' - incognito')\n",
    "## Get the webdriver from its location path\n",
    "driver = webdriver.Chrome(options = options)"
   ]
  },
  {
   "cell_type": "code",
   "execution_count": 192,
   "metadata": {},
   "outputs": [],
   "source": [
    "## Get the webdriver from its location path\n",
    "driver = webdriver.Chrome(options = options)"
   ]
  },
  {
   "cell_type": "code",
   "execution_count": 199,
   "metadata": {},
   "outputs": [],
   "source": [
    "driver.get(\"https://en.wikipedia.org/wiki/Napoleon\")"
   ]
  },
  {
   "cell_type": "code",
   "execution_count": 201,
   "metadata": {},
   "outputs": [],
   "source": [
    "element_table = driver.find_element_by_id(\"toc\")"
   ]
  },
  {
   "cell_type": "code",
   "execution_count": 214,
   "metadata": {},
   "outputs": [],
   "source": [
    "elements = driver.find_elements_by_css_selector(\"div.thumbinner a[href='/wiki/File:Carlo_Buonaparte.jpg']\")"
   ]
  },
  {
   "cell_type": "code",
   "execution_count": 219,
   "metadata": {},
   "outputs": [],
   "source": [
    "\n",
    "first_element =elements[0]"
   ]
  },
  {
   "cell_type": "code",
   "execution_count": 216,
   "metadata": {},
   "outputs": [
    {
     "data": {
      "text/plain": [
       "'a'"
      ]
     },
     "execution_count": 216,
     "metadata": {},
     "output_type": "execute_result"
    }
   ],
   "source": [
    "elements[1].tag_name"
   ]
  },
  {
   "cell_type": "code",
   "execution_count": 218,
   "metadata": {},
   "outputs": [
    {
     "data": {
      "text/plain": [
       "<selenium.webdriver.remote.webelement.WebElement (session=\"aa56a5914784fba847ab15e6d6b4fbba\", element=\"a5dce9a1-1de1-4629-b3d1-94d04ca0e0cd\")>"
      ]
     },
     "execution_count": 218,
     "metadata": {},
     "output_type": "execute_result"
    }
   ],
   "source": [
    "element_table.find_element_by_partial_link_text(\"War of\")"
   ]
  },
  {
   "cell_type": "code",
   "execution_count": 221,
   "metadata": {
    "scrolled": true
   },
   "outputs": [
    {
     "name": "stdout",
     "output_type": "stream",
     "text": [
      "Message: no such element: Unable to locate element: {\"method\":\"partial link text\",\"selector\":\"War of\"}\n",
      "  (Session info: chrome=85.0.4183.83)\n",
      "\n"
     ]
    }
   ],
   "source": [
    "try:\n",
    "    first_element.find_element_by_partial_link_text(\"War of\")\n",
    "except Exception as e:\n",
    "    print(e)"
   ]
  },
  {
   "cell_type": "code",
   "execution_count": null,
   "metadata": {},
   "outputs": [],
   "source": []
  }
 ],
 "metadata": {
  "kernelspec": {
   "display_name": "Python 3",
   "language": "python",
   "name": "python3"
  },
  "language_info": {
   "codemirror_mode": {
    "name": "ipython",
    "version": 3
   },
   "file_extension": ".py",
   "mimetype": "text/x-python",
   "name": "python",
   "nbconvert_exporter": "python",
   "pygments_lexer": "ipython3",
   "version": "3.5.7"
  }
 },
 "nbformat": 4,
 "nbformat_minor": 4
}
