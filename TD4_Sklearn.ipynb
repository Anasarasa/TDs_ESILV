{
 "cells": [
  {
   "cell_type": "markdown",
   "metadata": {},
   "source": [
    "# Introduction to Scikit Learn library"
   ]
  },
  {
   "cell_type": "code",
   "execution_count": 122,
   "metadata": {},
   "outputs": [],
   "source": [
    "import github_command as gt"
   ]
  },
  {
   "cell_type": "code",
   "execution_count": 998,
   "metadata": {},
   "outputs": [],
   "source": [
    "gt.push(file_to_transfer=\"TD4_Sklearn.ipynb\", message=\"ElasticNet\", repos=\"TDs_ESILV\")"
   ]
  },
  {
   "cell_type": "markdown",
   "metadata": {},
   "source": [
    "## Import du dataset"
   ]
  },
  {
   "cell_type": "code",
   "execution_count": 123,
   "metadata": {},
   "outputs": [],
   "source": [
    "from sklearn import datasets"
   ]
  },
  {
   "cell_type": "code",
   "execution_count": 124,
   "metadata": {},
   "outputs": [],
   "source": [
    "boston = datasets.load_boston()"
   ]
  },
  {
   "cell_type": "code",
   "execution_count": 125,
   "metadata": {},
   "outputs": [
    {
     "data": {
      "text/plain": [
       "dict_keys(['data', 'target', 'feature_names', 'DESCR'])"
      ]
     },
     "execution_count": 125,
     "metadata": {},
     "output_type": "execute_result"
    }
   ],
   "source": [
    "boston.keys()"
   ]
  },
  {
   "cell_type": "code",
   "execution_count": 126,
   "metadata": {},
   "outputs": [
    {
     "name": "stdout",
     "output_type": "stream",
     "text": [
      "Boston House Prices dataset\n",
      "===========================\n",
      "\n",
      "Notes\n",
      "------\n",
      "Data Set Characteristics:  \n",
      "\n",
      "    :Number of Instances: 506 \n",
      "\n",
      "    :Number of Attributes: 13 numeric/categorical predictive\n",
      "    \n",
      "    :Median Value (attribute 14) is usually the target\n",
      "\n",
      "    :Attribute Information (in order):\n",
      "        - CRIM     per capita crime rate by town\n",
      "        - ZN       proportion of residential land zoned for lots over 25,000 sq.ft.\n",
      "        - INDUS    proportion of non-retail business acres per town\n",
      "        - CHAS     Charles River dummy variable (= 1 if tract bounds river; 0 otherwise)\n",
      "        - NOX      nitric oxides concentration (parts per 10 million)\n",
      "        - RM       average number of rooms per dwelling\n",
      "        - AGE      proportion of owner-occupied units built prior to 1940\n",
      "        - DIS      weighted distances to five Boston employment centres\n",
      "        - RAD      index of accessibility to radial highways\n",
      "        - TAX      full-value property-tax rate per $10,000\n",
      "        - PTRATIO  pupil-teacher ratio by town\n",
      "        - B        1000(Bk - 0.63)^2 where Bk is the proportion of blacks by town\n",
      "        - LSTAT    % lower status of the population\n",
      "        - MEDV     Median value of owner-occupied homes in $1000's\n",
      "\n",
      "    :Missing Attribute Values: None\n",
      "\n",
      "    :Creator: Harrison, D. and Rubinfeld, D.L.\n",
      "\n",
      "This is a copy of UCI ML housing dataset.\n",
      "http://archive.ics.uci.edu/ml/datasets/Housing\n",
      "\n",
      "\n",
      "This dataset was taken from the StatLib library which is maintained at Carnegie Mellon University.\n",
      "\n",
      "The Boston house-price data of Harrison, D. and Rubinfeld, D.L. 'Hedonic\n",
      "prices and the demand for clean air', J. Environ. Economics & Management,\n",
      "vol.5, 81-102, 1978.   Used in Belsley, Kuh & Welsch, 'Regression diagnostics\n",
      "...', Wiley, 1980.   N.B. Various transformations are used in the table on\n",
      "pages 244-261 of the latter.\n",
      "\n",
      "The Boston house-price data has been used in many machine learning papers that address regression\n",
      "problems.   \n",
      "     \n",
      "**References**\n",
      "\n",
      "   - Belsley, Kuh & Welsch, 'Regression diagnostics: Identifying Influential Data and Sources of Collinearity', Wiley, 1980. 244-261.\n",
      "   - Quinlan,R. (1993). Combining Instance-Based and Model-Based Learning. In Proceedings on the Tenth International Conference of Machine Learning, 236-243, University of Massachusetts, Amherst. Morgan Kaufmann.\n",
      "   - many more! (see http://archive.ics.uci.edu/ml/datasets/Housing)\n",
      "\n"
     ]
    }
   ],
   "source": [
    "print(boston.DESCR)"
   ]
  },
  {
   "cell_type": "markdown",
   "metadata": {},
   "source": [
    "discussion sur des critères discriminatoires : https://mail.python.org/pipermail/scikit-learn/2017-July/001683.html"
   ]
  },
  {
   "cell_type": "markdown",
   "metadata": {},
   "source": [
    "## Récupérer x et y"
   ]
  },
  {
   "cell_type": "code",
   "execution_count": 861,
   "metadata": {},
   "outputs": [],
   "source": [
    "X = boston.data"
   ]
  },
  {
   "cell_type": "code",
   "execution_count": 862,
   "metadata": {},
   "outputs": [],
   "source": [
    "y = boston.target"
   ]
  },
  {
   "cell_type": "code",
   "execution_count": 863,
   "metadata": {},
   "outputs": [
    {
     "data": {
      "text/plain": [
       "((506, 13), (506,))"
      ]
     },
     "execution_count": 863,
     "metadata": {},
     "output_type": "execute_result"
    }
   ],
   "source": [
    "X.shape, y.shape"
   ]
  },
  {
   "cell_type": "markdown",
   "metadata": {},
   "source": [
    "## Diviser en jeu de test et apprentissage"
   ]
  },
  {
   "cell_type": "code",
   "execution_count": 870,
   "metadata": {},
   "outputs": [],
   "source": [
    "from sklearn.model_selection import train_test_split"
   ]
  },
  {
   "cell_type": "code",
   "execution_count": 871,
   "metadata": {},
   "outputs": [],
   "source": [
    "X_train, X_test, y_train, y_test = train_test_split(X, y, random_state=1234)"
   ]
  },
  {
   "cell_type": "code",
   "execution_count": 872,
   "metadata": {},
   "outputs": [
    {
     "data": {
      "text/plain": [
       "((379, 13), (127, 13), (379,), (127,))"
      ]
     },
     "execution_count": 872,
     "metadata": {},
     "output_type": "execute_result"
    }
   ],
   "source": [
    "X_train.shape, X_test.shape, y_train.shape, y_test.shape"
   ]
  },
  {
   "cell_type": "markdown",
   "metadata": {},
   "source": [
    "On retrouve bien le splitage ratio"
   ]
  },
  {
   "cell_type": "code",
   "execution_count": 873,
   "metadata": {},
   "outputs": [
    {
     "data": {
      "text/plain": [
       "[0.7490118577075099,\n",
       " 0.2509881422924901,\n",
       " 0.7490118577075099,\n",
       " 0.2509881422924901]"
      ]
     },
     "execution_count": 873,
     "metadata": {},
     "output_type": "execute_result"
    }
   ],
   "source": [
    "[tuple_[0]/X.shape[0] for tuple_ in (X_train.shape, X_test.shape, y_train.shape, y_test.shape)]"
   ]
  },
  {
   "cell_type": "markdown",
   "metadata": {},
   "source": [
    "## Utilisation d'un modèle simplement"
   ]
  },
  {
   "cell_type": "code",
   "execution_count": 874,
   "metadata": {},
   "outputs": [],
   "source": [
    "performances = dict()"
   ]
  },
  {
   "cell_type": "code",
   "execution_count": 875,
   "metadata": {},
   "outputs": [
    {
     "data": {
      "image/png": "[encoded data removed]",
      "text/plain": [
       "<IPython.core.display.Image object>"
      ]
     },
     "execution_count": 875,
     "metadata": {
      "image/png": {
       "height": 189,
       "width": 501
      }
     },
     "output_type": "execute_result"
    }
   ],
   "source": [
    "from IPython.display import Image\n",
    "Image(filename=\"td4_ressources/img_sklearn.png\", retina = True)"
   ]
  },
  {
   "cell_type": "code",
   "execution_count": 876,
   "metadata": {},
   "outputs": [],
   "source": [
    "from sklearn.linear_model import LinearRegression"
   ]
  },
  {
   "cell_type": "code",
   "execution_count": 877,
   "metadata": {},
   "outputs": [
    {
     "data": {
      "text/plain": [
       "LinearRegression(copy_X=True, fit_intercept=True, n_jobs=1, normalize=False)"
      ]
     },
     "execution_count": 877,
     "metadata": {},
     "output_type": "execute_result"
    }
   ],
   "source": [
    "algorithme = LinearRegression()\n",
    "algorithme.fit(X_train, y_train)"
   ]
  },
  {
   "cell_type": "code",
   "execution_count": 878,
   "metadata": {},
   "outputs": [
    {
     "data": {
      "text/plain": [
       "0.7323523347366852"
      ]
     },
     "execution_count": 878,
     "metadata": {},
     "output_type": "execute_result"
    }
   ],
   "source": [
    "algorithme.score(X_test, y_test)"
   ]
  },
  {
   "cell_type": "code",
   "execution_count": 879,
   "metadata": {},
   "outputs": [
    {
     "data": {
      "text/plain": [
       "<matplotlib.collections.PathCollection at 0x1a2fb8e278>"
      ]
     },
     "execution_count": 879,
     "metadata": {},
     "output_type": "execute_result"
    },
    {
     "data": {
      "image/png": "[encoded data removed]",
      "text/plain": [
       "<Figure size 432x288 with 1 Axes>"
      ]
     },
     "metadata": {},
     "output_type": "display_data"
    }
   ],
   "source": [
    "## Predictions against True values\n",
    "%matplotlib inline\n",
    "import matplotlib.pyplot as plt\n",
    "plt.scatter(x=y_test, y=algorithme.predict(X_test))"
   ]
  },
  {
   "cell_type": "code",
   "execution_count": 880,
   "metadata": {},
   "outputs": [
    {
     "data": {
      "text/plain": [
       "array([-9.66378735e-02,  6.31080432e-02, -1.38069045e-02,  2.84516261e+00,\n",
       "       -2.19347661e+01,  2.40835980e+00,  2.45246610e-03, -1.89020994e+00,\n",
       "        3.56217021e-01, -1.27942145e-02, -1.05991197e+00,  1.02040679e-02,\n",
       "       -5.63773228e-01])"
      ]
     },
     "execution_count": 880,
     "metadata": {},
     "output_type": "execute_result"
    }
   ],
   "source": [
    "algorithme.coef_"
   ]
  },
  {
   "cell_type": "code",
   "execution_count": 881,
   "metadata": {},
   "outputs": [],
   "source": [
    "performances[algorithme] = algorithme.score(X_test, y_test)"
   ]
  },
  {
   "cell_type": "markdown",
   "metadata": {},
   "source": [
    "But train/test split does have its dangers — what if the split we make isn’t random? "
   ]
  },
  {
   "cell_type": "markdown",
   "metadata": {},
   "source": [
    "Instead of algo1 we can use directly LinearRegression() as it will fit it anyway on the different splits"
   ]
  },
  {
   "cell_type": "markdown",
   "metadata": {},
   "source": [
    "## Mettre tout ceci sous forme d'une fonction"
   ]
  },
  {
   "cell_type": "code",
   "execution_count": 932,
   "metadata": {},
   "outputs": [],
   "source": [
    "def get_score(algorithme, X_train, X_test, y_train, y_test, display_graph=False, display_options=True):\n",
    "    if display_options:\n",
    "        print(\"fitting :\\n\"+ str(algorithme))\n",
    "        print(\"X_train:{} , X_test:{} ,  y_train:{} ,  y_test:{}\".format(X_train.shape, X_test.shape, y_train.shape, y_test.shape))\n",
    "    modele = algorithme.fit(X_train, y_train)\n",
    "    score  = modele.score(X_test, y_test)\n",
    "    if display:\n",
    "        import matplotlib.pyplot as plt\n",
    "        plt.scatter(x=y_test, y=algorithme.predict(X_test)) ## Predictions against True values\n",
    "    return score"
   ]
  },
  {
   "cell_type": "code",
   "execution_count": 933,
   "metadata": {},
   "outputs": [
    {
     "name": "stdout",
     "output_type": "stream",
     "text": [
      "fitting :\n",
      "LinearRegression(copy_X=True, fit_intercept=True, n_jobs=1, normalize=False)\n",
      "X_train:(379, 13) , X_test:(127, 13) ,  y_train:(379,) ,  y_test:(127,)\n"
     ]
    },
    {
     "data": {
      "text/plain": [
       "0.7323523347366852"
      ]
     },
     "execution_count": 933,
     "metadata": {},
     "output_type": "execute_result"
    },
    {
     "data": {
      "image/png": "[encoded data removed]",
      "text/plain": [
       "<Figure size 432x288 with 1 Axes>"
      ]
     },
     "metadata": {},
     "output_type": "display_data"
    }
   ],
   "source": [
    "get_score(LinearRegression(), *train_test_split(X, y, random_state=1234))"
   ]
  },
  {
   "cell_type": "markdown",
   "metadata": {},
   "source": [
    "## Avons-nous besoin de Standardizer les valeurs ? "
   ]
  },
  {
   "cell_type": "code",
   "execution_count": 884,
   "metadata": {},
   "outputs": [],
   "source": [
    "from sklearn.preprocessing import StandardScaler\n",
    "scaler   = StandardScaler().fit(X_train)\n",
    "X_train  = scaler.transform(X_train)\n",
    "X_test   = scaler.transform(X_test)"
   ]
  },
  {
   "cell_type": "code",
   "execution_count": 885,
   "metadata": {
    "scrolled": true
   },
   "outputs": [
    {
     "name": "stdout",
     "output_type": "stream",
     "text": [
      "fitting :\n",
      "LinearRegression(copy_X=True, fit_intercept=True, n_jobs=1, normalize=False)\n",
      "X_train:(379, 13) , X_test:(127, 13) ,  y_train:(379,) ,  y_test:(127,)\n"
     ]
    },
    {
     "data": {
      "text/plain": [
       "0.7323523347366848"
      ]
     },
     "execution_count": 885,
     "metadata": {},
     "output_type": "execute_result"
    }
   ],
   "source": [
    "get_score(LinearRegression(), X_train, X_test, y_train, y_test)"
   ]
  },
  {
   "cell_type": "markdown",
   "metadata": {},
   "source": [
    "Pour une régression linéaire non. Expliquer pourquoi."
   ]
  },
  {
   "cell_type": "markdown",
   "metadata": {},
   "source": [
    "Mais c'est toujours mieux de le faire. Expliquer pourquoi."
   ]
  },
  {
   "cell_type": "markdown",
   "metadata": {},
   "source": [
    "## Cross validation"
   ]
  },
  {
   "cell_type": "code",
   "execution_count": 886,
   "metadata": {},
   "outputs": [],
   "source": [
    "from sklearn.model_selection import cross_val_score\n",
    "from sklearn.model_selection import KFold"
   ]
  },
  {
   "cell_type": "code",
   "execution_count": 887,
   "metadata": {},
   "outputs": [
    {
     "data": {
      "text/plain": [
       "array([ 0.5828011 ,  0.53193819, -5.85104986])"
      ]
     },
     "metadata": {},
     "output_type": "display_data"
    },
    {
     "data": {
      "text/plain": [
       "-1.5787701857180003"
      ]
     },
     "metadata": {},
     "output_type": "display_data"
    },
    {
     "data": {
      "text/plain": [
       "3.021029289219623"
      ]
     },
     "metadata": {},
     "output_type": "display_data"
    }
   ],
   "source": [
    "results = cross_val_score(LinearRegression(), X, y, cv=3)\n",
    "display(results, results.mean(), results.std())"
   ]
  },
  {
   "cell_type": "code",
   "execution_count": 888,
   "metadata": {},
   "outputs": [
    {
     "data": {
      "text/plain": [
       "array([ 0.63861069,  0.71334432,  0.58645134,  0.07842495, -0.26312455])"
      ]
     },
     "metadata": {},
     "output_type": "display_data"
    },
    {
     "data": {
      "text/plain": [
       "0.35074135093252234"
      ]
     },
     "metadata": {},
     "output_type": "display_data"
    },
    {
     "data": {
      "text/plain": [
       "0.3797094749826804"
      ]
     },
     "metadata": {},
     "output_type": "display_data"
    }
   ],
   "source": [
    "results = cross_val_score(LinearRegression(), X, y, cv=5)\n",
    "display(results, results.mean(), results.std())"
   ]
  },
  {
   "cell_type": "markdown",
   "metadata": {},
   "source": [
    "Attention : pas randomly selected"
   ]
  },
  {
   "cell_type": "code",
   "execution_count": 890,
   "metadata": {},
   "outputs": [
    {
     "data": {
      "text/plain": [
       "array([0.62837885, 0.73350767, 0.74964312, 0.71077591, 0.78700539])"
      ]
     },
     "metadata": {},
     "output_type": "display_data"
    },
    {
     "data": {
      "text/plain": [
       "0.7218621885865057"
      ]
     },
     "metadata": {},
     "output_type": "display_data"
    },
    {
     "data": {
      "text/plain": [
       "0.05293972623910022"
      ]
     },
     "metadata": {},
     "output_type": "display_data"
    }
   ],
   "source": [
    "random_indexes = np.random.choice(range(0,np.size(X, axis=0)),size=np.size(X, axis=0),replace=False)\n",
    "results = cross_val_score(LinearRegression(), \n",
    "                X[random_indexes,:],\n",
    "                y[random_indexes],\n",
    "                cv=5)\n",
    "display(results, results.mean(), results.std())"
   ]
  },
  {
   "cell_type": "code",
   "execution_count": 640,
   "metadata": {},
   "outputs": [
    {
     "data": {
      "text/plain": [
       "array([0.75741396, 0.65194331, 0.77086256, 0.71925798, 0.67222008])"
      ]
     },
     "metadata": {},
     "output_type": "display_data"
    },
    {
     "data": {
      "text/plain": [
       "0.7143395761930985"
      ]
     },
     "metadata": {},
     "output_type": "display_data"
    },
    {
     "data": {
      "text/plain": [
       "0.046350377005182485"
      ]
     },
     "metadata": {},
     "output_type": "display_data"
    }
   ],
   "source": [
    "results = cross_val_score(LinearRegression(), X, y, cv=KFold(shuffle=True, n_splits=5))\n",
    "display(results, results.mean(), results.std())"
   ]
  },
  {
   "cell_type": "code",
   "execution_count": 562,
   "metadata": {},
   "outputs": [],
   "source": [
    "def multiple_cross_val_scores(algorithme, X, y):\n",
    "    import numpy as np\n",
    "    results=dict()\n",
    "    for kfold in range(3,100, 20):\n",
    "        score = cross_val_score(algorithme, X, y,  cv = KFold(shuffle=True, n_splits=kfold), scoring='r2')\n",
    "        results[kfold] = score.mean(), score.std()\n",
    "    return results"
   ]
  },
  {
   "cell_type": "code",
   "execution_count": 563,
   "metadata": {},
   "outputs": [
    {
     "data": {
      "text/html": [
       "<div>\n",
       "<style scoped>\n",
       "    .dataframe tbody tr th:only-of-type {\n",
       "        vertical-align: middle;\n",
       "    }\n",
       "\n",
       "    .dataframe tbody tr th {\n",
       "        vertical-align: top;\n",
       "    }\n",
       "\n",
       "    .dataframe thead th {\n",
       "        text-align: right;\n",
       "    }\n",
       "</style>\n",
       "<table border=\"1\" class=\"dataframe\">\n",
       "  <thead>\n",
       "    <tr style=\"text-align: right;\">\n",
       "      <th></th>\n",
       "      <th>mean</th>\n",
       "      <th>std</th>\n",
       "    </tr>\n",
       "  </thead>\n",
       "  <tbody>\n",
       "    <tr>\n",
       "      <td>3</td>\n",
       "      <td>0.769915</td>\n",
       "      <td>0.031168</td>\n",
       "    </tr>\n",
       "    <tr>\n",
       "      <td>23</td>\n",
       "      <td>0.694490</td>\n",
       "      <td>0.179229</td>\n",
       "    </tr>\n",
       "    <tr>\n",
       "      <td>43</td>\n",
       "      <td>0.577085</td>\n",
       "      <td>0.565091</td>\n",
       "    </tr>\n",
       "    <tr>\n",
       "      <td>63</td>\n",
       "      <td>0.530908</td>\n",
       "      <td>0.622607</td>\n",
       "    </tr>\n",
       "    <tr>\n",
       "      <td>83</td>\n",
       "      <td>0.423311</td>\n",
       "      <td>1.509752</td>\n",
       "    </tr>\n",
       "  </tbody>\n",
       "</table>\n",
       "</div>"
      ],
      "text/plain": [
       "        mean       std\n",
       "3   0.769915  0.031168\n",
       "23  0.694490  0.179229\n",
       "43  0.577085  0.565091\n",
       "63  0.530908  0.622607\n",
       "83  0.423311  1.509752"
      ]
     },
     "execution_count": 563,
     "metadata": {},
     "output_type": "execute_result"
    }
   ],
   "source": [
    "test = multiple_cross_val_scores(DecisionTreeRegressor(),X, y)\n",
    "test = pd.DataFrame(test, index=[\"mean\", \"std\"]).T\n",
    "test"
   ]
  },
  {
   "cell_type": "code",
   "execution_count": 585,
   "metadata": {},
   "outputs": [],
   "source": [
    "new_index = [str(x) + \" folds\" for x in test.index]\n",
    "test.index = new_index"
   ]
  },
  {
   "cell_type": "code",
   "execution_count": 603,
   "metadata": {},
   "outputs": [
    {
     "data": {
      "text/plain": [
       "<matplotlib.axes._subplots.AxesSubplot at 0x1a2f736668>"
      ]
     },
     "execution_count": 603,
     "metadata": {},
     "output_type": "execute_result"
    },
    {
     "data": {
      "image/png": "[encoded data removed]",
      "text/plain": [
       "<Figure size 432x288 with 1 Axes>"
      ]
     },
     "metadata": {},
     "output_type": "display_data"
    }
   ],
   "source": [
    "test.plot(kind='bar', title='Cross-validation using all data with {} lignes'.format(X.shape[0]))"
   ]
  },
  {
   "cell_type": "markdown",
   "metadata": {},
   "source": [
    "There are cases where the computational definition of R2 can yield negative values, depending on the definition used. This can arise when the predictions that are being compared to the corresponding outcomes have not been derived from a model-fitting procedure using those data. Even if a model-fitting procedure has been used, R2 may still be negative, for example when linear regression is conducted without including an intercept, or when a non-linear function is used to fit the data. In cases where negative values arise, the mean of the data provides a better fit to the outcomes than do the fitted function values, according to this particular criterion."
   ]
  },
  {
   "cell_type": "markdown",
   "metadata": {},
   "source": [
    "The constant minimizing the squared error is the mean. Since you are doing cross validation with left out data, **it can happen that the mean of your test set is wildly different from the mean of your training set**"
   ]
  },
  {
   "cell_type": "markdown",
   "metadata": {},
   "source": [
    "R² = 1 - RSS / TSS, where RSS is the residual sum of squares ∑(y - f(x))² and TSS is the total sum of squares ∑(y - mean(y))². Now for R² ≥ -1, it is required that RSS/TSS ≤ 2, but it's easy to construct a model and dataset for which this is not true:"
   ]
  },
  {
   "cell_type": "markdown",
   "metadata": {},
   "source": [
    "***Inspect shuffling first ! If data is sorted at first !!! *** "
   ]
  },
  {
   "cell_type": "markdown",
   "metadata": {},
   "source": [
    "### Decision Tree Regressor"
   ]
  },
  {
   "cell_type": "code",
   "execution_count": 892,
   "metadata": {},
   "outputs": [],
   "source": [
    "from sklearn.tree import DecisionTreeRegressor"
   ]
  },
  {
   "cell_type": "code",
   "execution_count": 894,
   "metadata": {},
   "outputs": [],
   "source": [
    "algorithme = DecisionTreeRegressor()\n",
    "algorithme.fit(X_train, y_train)\n",
    "score = algorithme.score(X_test, y_test)\n",
    "performances[algorithme] = score"
   ]
  },
  {
   "cell_type": "markdown",
   "metadata": {},
   "source": [
    "### Random Forest example"
   ]
  },
  {
   "cell_type": "code",
   "execution_count": 895,
   "metadata": {},
   "outputs": [
    {
     "name": "stdout",
     "output_type": "stream",
     "text": [
      "fitting :\n",
      "RandomForestRegressor(bootstrap=True, criterion='mse', max_depth=None,\n",
      "           max_features='auto', max_leaf_nodes=None,\n",
      "           min_impurity_decrease=0.0, min_impurity_split=None,\n",
      "           min_samples_leaf=1, min_samples_split=2,\n",
      "           min_weight_fraction_leaf=0.0, n_estimators=30, n_jobs=1,\n",
      "           oob_score=False, random_state=None, verbose=0, warm_start=False)\n",
      "X_train:(379, 13) , X_test:(127, 13) ,  y_train:(379,) ,  y_test:(127,)\n"
     ]
    }
   ],
   "source": [
    "from sklearn.ensemble import RandomForestRegressor\n",
    "hyperparametres = {\n",
    "    'n_estimators':30,\n",
    "}\n",
    "algorithme = RandomForestRegressor(**hyperparametres)\n",
    "score = get_score(algorithme, X_train, X_test, y_train, y_test)\n",
    "performances[algorithme] = score"
   ]
  },
  {
   "cell_type": "code",
   "execution_count": 896,
   "metadata": {},
   "outputs": [
    {
     "name": "stdout",
     "output_type": "stream",
     "text": [
      "fitting :\n",
      "RandomForestRegressor(bootstrap=True, criterion='mse', max_depth=50,\n",
      "           max_features=3, max_leaf_nodes=None, min_impurity_decrease=0.0,\n",
      "           min_impurity_split=None, min_samples_leaf=1,\n",
      "           min_samples_split=2, min_weight_fraction_leaf=0.0,\n",
      "           n_estimators=30, n_jobs=1, oob_score=False, random_state=None,\n",
      "           verbose=0, warm_start=False)\n",
      "X_train:(379, 13) , X_test:(127, 13) ,  y_train:(379,) ,  y_test:(127,)\n"
     ]
    }
   ],
   "source": [
    "hyperparametres = {\"n_estimators\"  :  30, \n",
    "                   \"max_features\"  :  3,\n",
    "                   \"max_depth\"     :  50,}\n",
    "algorithme = RandomForestRegressor(**hyperparametres)\n",
    "score = get_score(algorithme, X_train, X_test, y_train, y_test)\n",
    "performances[algorithme] = score"
   ]
  },
  {
   "cell_type": "markdown",
   "metadata": {},
   "source": [
    "### ExtraTreesRegressor"
   ]
  },
  {
   "cell_type": "code",
   "execution_count": 897,
   "metadata": {},
   "outputs": [
    {
     "name": "stdout",
     "output_type": "stream",
     "text": [
      "fitting :\n",
      "ExtraTreesRegressor(bootstrap=False, criterion='mse', max_depth=None,\n",
      "          max_features='auto', max_leaf_nodes=None,\n",
      "          min_impurity_decrease=0.0, min_impurity_split=None,\n",
      "          min_samples_leaf=1, min_samples_split=2,\n",
      "          min_weight_fraction_leaf=0.0, n_estimators=10, n_jobs=1,\n",
      "          oob_score=False, random_state=None, verbose=0, warm_start=False)\n",
      "X_train:(379, 13) , X_test:(127, 13) ,  y_train:(379,) ,  y_test:(127,)\n"
     ]
    }
   ],
   "source": [
    "from sklearn.ensemble import ExtraTreesRegressor\n",
    "\n",
    "algorithme = ExtraTreesRegressor()\n",
    "score      = get_score(algorithme, X_train, X_test, y_train, y_test)\n",
    "performances[algorithme] = score"
   ]
  },
  {
   "cell_type": "markdown",
   "metadata": {},
   "source": [
    "utiliser n_jobs = -1 c'est mieux pour paralléliser quand on a plusieurs CPUs"
   ]
  },
  {
   "cell_type": "markdown",
   "metadata": {},
   "source": [
    "### SVR "
   ]
  },
  {
   "cell_type": "code",
   "execution_count": 898,
   "metadata": {},
   "outputs": [
    {
     "name": "stdout",
     "output_type": "stream",
     "text": [
      "fitting :\n",
      "SVR(C=1.0, cache_size=200, coef0=0.0, degree=3, epsilon=0.1, gamma='auto',\n",
      "  kernel='linear', max_iter=-1, shrinking=True, tol=0.001, verbose=False)\n",
      "X_train:(379, 13) , X_test:(127, 13) ,  y_train:(379,) ,  y_test:(127,)\n"
     ]
    }
   ],
   "source": [
    "from sklearn import svm\n",
    "algorithme = svm.SVR(kernel = \"linear\")\n",
    "score      = get_score(algorithme, X_train, X_test, y_train, y_test)\n",
    "performances[algorithme] = score"
   ]
  },
  {
   "cell_type": "markdown",
   "metadata": {},
   "source": [
    "### catboost"
   ]
  },
  {
   "cell_type": "markdown",
   "metadata": {},
   "source": [
    "installation : !pip install catboost"
   ]
  },
  {
   "cell_type": "code",
   "execution_count": 899,
   "metadata": {},
   "outputs": [],
   "source": [
    "from catboost import CatBoostRegressor"
   ]
  },
  {
   "cell_type": "code",
   "execution_count": 900,
   "metadata": {},
   "outputs": [
    {
     "name": "stdout",
     "output_type": "stream",
     "text": [
      "0:\tlearn: 8.7204719\ttotal: 12.8ms\tremaining: 12.8s\n",
      "1:\tlearn: 8.5935783\ttotal: 21.5ms\tremaining: 10.7s\n",
      "2:\tlearn: 8.4557656\ttotal: 29.1ms\tremaining: 9.67s\n",
      "3:\tlearn: 8.3357630\ttotal: 35.3ms\tremaining: 8.79s\n",
      "4:\tlearn: 8.2465306\ttotal: 41.2ms\tremaining: 8.19s\n",
      "5:\tlearn: 8.1042568\ttotal: 47.1ms\tremaining: 7.81s\n",
      "6:\tlearn: 7.9615200\ttotal: 53.1ms\tremaining: 7.54s\n",
      "7:\tlearn: 7.8307277\ttotal: 59.2ms\tremaining: 7.34s\n",
      "8:\tlearn: 7.7104981\ttotal: 65ms\tremaining: 7.16s\n",
      "9:\tlearn: 7.5944429\ttotal: 71.1ms\tremaining: 7.04s\n",
      "10:\tlearn: 7.4960127\ttotal: 77.1ms\tremaining: 6.93s\n",
      "11:\tlearn: 7.3870638\ttotal: 83.2ms\tremaining: 6.85s\n",
      "12:\tlearn: 7.2733017\ttotal: 89.3ms\tremaining: 6.78s\n",
      "13:\tlearn: 7.1945331\ttotal: 95.1ms\tremaining: 6.7s\n",
      "14:\tlearn: 7.0865563\ttotal: 101ms\tremaining: 6.61s\n",
      "15:\tlearn: 6.9746485\ttotal: 106ms\tremaining: 6.53s\n",
      "16:\tlearn: 6.8940218\ttotal: 112ms\tremaining: 6.47s\n",
      "17:\tlearn: 6.8365102\ttotal: 117ms\tremaining: 6.41s\n",
      "18:\tlearn: 6.7667920\ttotal: 124ms\tremaining: 6.42s\n",
      "19:\tlearn: 6.6802493\ttotal: 133ms\tremaining: 6.5s\n",
      "20:\tlearn: 6.5999465\ttotal: 141ms\tremaining: 6.58s\n",
      "21:\tlearn: 6.5268754\ttotal: 149ms\tremaining: 6.63s\n",
      "22:\tlearn: 6.4629101\ttotal: 158ms\tremaining: 6.71s\n",
      "23:\tlearn: 6.3846668\ttotal: 169ms\tremaining: 6.86s\n",
      "24:\tlearn: 6.3321174\ttotal: 175ms\tremaining: 6.84s\n",
      "25:\tlearn: 6.2632532\ttotal: 184ms\tremaining: 6.89s\n",
      "26:\tlearn: 6.1818566\ttotal: 190ms\tremaining: 6.84s\n",
      "27:\tlearn: 6.1152730\ttotal: 196ms\tremaining: 6.8s\n",
      "28:\tlearn: 6.0506592\ttotal: 202ms\tremaining: 6.76s\n",
      "29:\tlearn: 5.9896376\ttotal: 211ms\tremaining: 6.81s\n",
      "30:\tlearn: 5.9243006\ttotal: 220ms\tremaining: 6.87s\n",
      "31:\tlearn: 5.8703465\ttotal: 232ms\tremaining: 7s\n",
      "32:\tlearn: 5.8074738\ttotal: 242ms\tremaining: 7.08s\n",
      "33:\tlearn: 5.7562699\ttotal: 249ms\tremaining: 7.07s\n",
      "34:\tlearn: 5.6878754\ttotal: 256ms\tremaining: 7.05s\n",
      "35:\tlearn: 5.6309404\ttotal: 263ms\tremaining: 7.05s\n",
      "36:\tlearn: 5.5694959\ttotal: 271ms\tremaining: 7.05s\n",
      "37:\tlearn: 5.5112598\ttotal: 278ms\tremaining: 7.04s\n",
      "38:\tlearn: 5.4616463\ttotal: 285ms\tremaining: 7.03s\n",
      "39:\tlearn: 5.4139823\ttotal: 292ms\tremaining: 7.02s\n",
      "40:\tlearn: 5.3731153\ttotal: 300ms\tremaining: 7.01s\n",
      "41:\tlearn: 5.3122804\ttotal: 306ms\tremaining: 6.99s\n",
      "42:\tlearn: 5.2709862\ttotal: 314ms\tremaining: 6.98s\n",
      "43:\tlearn: 5.2122094\ttotal: 323ms\tremaining: 7.01s\n",
      "44:\tlearn: 5.1882317\ttotal: 330ms\tremaining: 7s\n",
      "45:\tlearn: 5.1476158\ttotal: 336ms\tremaining: 6.97s\n",
      "46:\tlearn: 5.1018773\ttotal: 342ms\tremaining: 6.93s\n",
      "47:\tlearn: 5.0614128\ttotal: 347ms\tremaining: 6.89s\n",
      "48:\tlearn: 5.0119534\ttotal: 353ms\tremaining: 6.85s\n",
      "49:\tlearn: 4.9875770\ttotal: 357ms\tremaining: 6.78s\n",
      "50:\tlearn: 4.9394617\ttotal: 362ms\tremaining: 6.74s\n",
      "51:\tlearn: 4.9028151\ttotal: 368ms\tremaining: 6.7s\n",
      "52:\tlearn: 4.8621976\ttotal: 373ms\tremaining: 6.67s\n",
      "53:\tlearn: 4.8348756\ttotal: 379ms\tremaining: 6.64s\n",
      "54:\tlearn: 4.8089407\ttotal: 382ms\tremaining: 6.57s\n",
      "55:\tlearn: 4.7698730\ttotal: 388ms\tremaining: 6.54s\n",
      "56:\tlearn: 4.7460917\ttotal: 394ms\tremaining: 6.51s\n",
      "57:\tlearn: 4.7096667\ttotal: 399ms\tremaining: 6.49s\n",
      "58:\tlearn: 4.6629274\ttotal: 406ms\tremaining: 6.48s\n",
      "59:\tlearn: 4.6471680\ttotal: 413ms\tremaining: 6.47s\n",
      "60:\tlearn: 4.6121689\ttotal: 419ms\tremaining: 6.45s\n",
      "61:\tlearn: 4.5862049\ttotal: 427ms\tremaining: 6.47s\n",
      "62:\tlearn: 4.5626028\ttotal: 438ms\tremaining: 6.51s\n",
      "63:\tlearn: 4.5350436\ttotal: 445ms\tremaining: 6.51s\n",
      "64:\tlearn: 4.5122311\ttotal: 451ms\tremaining: 6.49s\n",
      "65:\tlearn: 4.4788562\ttotal: 457ms\tremaining: 6.47s\n",
      "66:\tlearn: 4.4461551\ttotal: 463ms\tremaining: 6.45s\n",
      "67:\tlearn: 4.4036617\ttotal: 469ms\tremaining: 6.43s\n",
      "68:\tlearn: 4.3725735\ttotal: 475ms\tremaining: 6.4s\n",
      "69:\tlearn: 4.3503165\ttotal: 480ms\tremaining: 6.38s\n",
      "70:\tlearn: 4.3147330\ttotal: 486ms\tremaining: 6.36s\n",
      "71:\tlearn: 4.2831905\ttotal: 492ms\tremaining: 6.34s\n",
      "72:\tlearn: 4.2547952\ttotal: 498ms\tremaining: 6.32s\n",
      "73:\tlearn: 4.2256903\ttotal: 504ms\tremaining: 6.31s\n",
      "74:\tlearn: 4.1984678\ttotal: 509ms\tremaining: 6.28s\n",
      "75:\tlearn: 4.1760169\ttotal: 516ms\tremaining: 6.28s\n",
      "76:\tlearn: 4.1616620\ttotal: 522ms\tremaining: 6.26s\n",
      "77:\tlearn: 4.1417257\ttotal: 528ms\tremaining: 6.24s\n",
      "78:\tlearn: 4.1165171\ttotal: 534ms\tremaining: 6.22s\n",
      "79:\tlearn: 4.0972830\ttotal: 540ms\tremaining: 6.2s\n",
      "80:\tlearn: 4.0685926\ttotal: 545ms\tremaining: 6.19s\n",
      "81:\tlearn: 4.0325834\ttotal: 551ms\tremaining: 6.17s\n",
      "82:\tlearn: 4.0013093\ttotal: 557ms\tremaining: 6.15s\n",
      "83:\tlearn: 3.9803400\ttotal: 563ms\tremaining: 6.14s\n",
      "84:\tlearn: 3.9557382\ttotal: 568ms\tremaining: 6.12s\n",
      "85:\tlearn: 3.9144996\ttotal: 574ms\tremaining: 6.1s\n",
      "86:\tlearn: 3.8969193\ttotal: 579ms\tremaining: 6.08s\n",
      "87:\tlearn: 3.8807104\ttotal: 585ms\tremaining: 6.06s\n",
      "88:\tlearn: 3.8587484\ttotal: 590ms\tremaining: 6.04s\n",
      "89:\tlearn: 3.8315719\ttotal: 597ms\tremaining: 6.03s\n",
      "90:\tlearn: 3.7992216\ttotal: 606ms\tremaining: 6.05s\n",
      "91:\tlearn: 3.7683973\ttotal: 614ms\tremaining: 6.05s\n",
      "92:\tlearn: 3.7520047\ttotal: 623ms\tremaining: 6.08s\n",
      "93:\tlearn: 3.7232523\ttotal: 632ms\tremaining: 6.09s\n",
      "94:\tlearn: 3.7069231\ttotal: 638ms\tremaining: 6.08s\n",
      "95:\tlearn: 3.6680399\ttotal: 645ms\tremaining: 6.07s\n",
      "96:\tlearn: 3.6426846\ttotal: 652ms\tremaining: 6.07s\n",
      "97:\tlearn: 3.5986432\ttotal: 660ms\tremaining: 6.07s\n",
      "98:\tlearn: 3.5861907\ttotal: 667ms\tremaining: 6.07s\n",
      "99:\tlearn: 3.5651597\ttotal: 670ms\tremaining: 6.03s\n",
      "100:\tlearn: 3.5469950\ttotal: 677ms\tremaining: 6.02s\n",
      "101:\tlearn: 3.5264376\ttotal: 683ms\tremaining: 6.01s\n",
      "102:\tlearn: 3.5065273\ttotal: 689ms\tremaining: 6s\n",
      "103:\tlearn: 3.4844678\ttotal: 695ms\tremaining: 5.99s\n",
      "104:\tlearn: 3.4698217\ttotal: 703ms\tremaining: 5.99s\n",
      "105:\tlearn: 3.4497049\ttotal: 712ms\tremaining: 6s\n",
      "106:\tlearn: 3.4269020\ttotal: 721ms\tremaining: 6.02s\n",
      "107:\tlearn: 3.4162413\ttotal: 732ms\tremaining: 6.04s\n",
      "108:\tlearn: 3.4030450\ttotal: 742ms\tremaining: 6.07s\n",
      "109:\tlearn: 3.3826091\ttotal: 756ms\tremaining: 6.12s\n",
      "110:\tlearn: 3.3700162\ttotal: 768ms\tremaining: 6.15s\n",
      "111:\tlearn: 3.3530314\ttotal: 780ms\tremaining: 6.18s\n",
      "112:\tlearn: 3.3383306\ttotal: 792ms\tremaining: 6.22s\n",
      "113:\tlearn: 3.3190379\ttotal: 806ms\tremaining: 6.26s\n",
      "114:\tlearn: 3.3015731\ttotal: 818ms\tremaining: 6.3s\n",
      "115:\tlearn: 3.2877707\ttotal: 823ms\tremaining: 6.28s\n",
      "116:\tlearn: 3.2735357\ttotal: 834ms\tremaining: 6.29s\n",
      "117:\tlearn: 3.2512496\ttotal: 844ms\tremaining: 6.3s\n",
      "118:\tlearn: 3.2368749\ttotal: 852ms\tremaining: 6.31s\n",
      "119:\tlearn: 3.2157077\ttotal: 860ms\tremaining: 6.31s\n",
      "120:\tlearn: 3.2061594\ttotal: 869ms\tremaining: 6.31s\n",
      "121:\tlearn: 3.1823114\ttotal: 878ms\tremaining: 6.32s\n",
      "122:\tlearn: 3.1676350\ttotal: 886ms\tremaining: 6.32s\n",
      "123:\tlearn: 3.1526726\ttotal: 894ms\tremaining: 6.32s\n",
      "124:\tlearn: 3.1374382\ttotal: 903ms\tremaining: 6.32s\n",
      "125:\tlearn: 3.1252677\ttotal: 911ms\tremaining: 6.32s\n",
      "126:\tlearn: 3.1141946\ttotal: 919ms\tremaining: 6.32s\n",
      "127:\tlearn: 3.1011484\ttotal: 926ms\tremaining: 6.31s\n",
      "128:\tlearn: 3.0844460\ttotal: 934ms\tremaining: 6.31s\n",
      "129:\tlearn: 3.0708052\ttotal: 942ms\tremaining: 6.3s\n",
      "130:\tlearn: 3.0577263\ttotal: 950ms\tremaining: 6.3s\n",
      "131:\tlearn: 3.0472206\ttotal: 958ms\tremaining: 6.3s\n",
      "132:\tlearn: 3.0359621\ttotal: 966ms\tremaining: 6.3s\n",
      "133:\tlearn: 3.0284745\ttotal: 974ms\tremaining: 6.3s\n",
      "134:\tlearn: 3.0137864\ttotal: 983ms\tremaining: 6.3s\n",
      "135:\tlearn: 3.0035451\ttotal: 996ms\tremaining: 6.33s\n",
      "136:\tlearn: 2.9899557\ttotal: 1.01s\tremaining: 6.34s\n",
      "137:\tlearn: 2.9735377\ttotal: 1.01s\tremaining: 6.34s\n",
      "138:\tlearn: 2.9647656\ttotal: 1.02s\tremaining: 6.33s\n",
      "139:\tlearn: 2.9498936\ttotal: 1.03s\tremaining: 6.33s\n",
      "140:\tlearn: 2.9323910\ttotal: 1.04s\tremaining: 6.31s\n",
      "141:\tlearn: 2.9148993\ttotal: 1.04s\tremaining: 6.3s\n",
      "142:\tlearn: 2.9007740\ttotal: 1.05s\tremaining: 6.28s\n",
      "143:\tlearn: 2.8951797\ttotal: 1.05s\tremaining: 6.27s\n",
      "144:\tlearn: 2.8733500\ttotal: 1.06s\tremaining: 6.25s\n",
      "145:\tlearn: 2.8627657\ttotal: 1.07s\tremaining: 6.24s\n",
      "146:\tlearn: 2.8552693\ttotal: 1.07s\tremaining: 6.23s\n",
      "147:\tlearn: 2.8420135\ttotal: 1.08s\tremaining: 6.21s\n",
      "148:\tlearn: 2.8327176\ttotal: 1.08s\tremaining: 6.2s\n",
      "149:\tlearn: 2.8124045\ttotal: 1.09s\tremaining: 6.18s\n",
      "150:\tlearn: 2.8023092\ttotal: 1.1s\tremaining: 6.16s\n",
      "151:\tlearn: 2.7946490\ttotal: 1.1s\tremaining: 6.15s\n",
      "152:\tlearn: 2.7871694\ttotal: 1.11s\tremaining: 6.14s\n",
      "153:\tlearn: 2.7754172\ttotal: 1.11s\tremaining: 6.12s\n",
      "154:\tlearn: 2.7649268\ttotal: 1.12s\tremaining: 6.1s\n",
      "155:\tlearn: 2.7535971\ttotal: 1.12s\tremaining: 6.09s\n",
      "156:\tlearn: 2.7478728\ttotal: 1.13s\tremaining: 6.07s\n",
      "157:\tlearn: 2.7379692\ttotal: 1.14s\tremaining: 6.06s\n",
      "158:\tlearn: 2.7281840\ttotal: 1.14s\tremaining: 6.04s\n",
      "159:\tlearn: 2.7176670\ttotal: 1.15s\tremaining: 6.02s\n",
      "160:\tlearn: 2.7086940\ttotal: 1.15s\tremaining: 6.01s\n",
      "161:\tlearn: 2.7028431\ttotal: 1.16s\tremaining: 5.99s\n",
      "162:\tlearn: 2.6860672\ttotal: 1.16s\tremaining: 5.98s\n",
      "163:\tlearn: 2.6750788\ttotal: 1.17s\tremaining: 5.96s\n",
      "164:\tlearn: 2.6648544\ttotal: 1.18s\tremaining: 5.95s\n",
      "165:\tlearn: 2.6599612\ttotal: 1.18s\tremaining: 5.93s\n"
     ]
    },
    {
     "name": "stdout",
     "output_type": "stream",
     "text": [
      "166:\tlearn: 2.6527745\ttotal: 1.19s\tremaining: 5.92s\n",
      "167:\tlearn: 2.6462910\ttotal: 1.19s\tremaining: 5.92s\n",
      "168:\tlearn: 2.6259732\ttotal: 1.2s\tremaining: 5.9s\n",
      "169:\tlearn: 2.6144806\ttotal: 1.21s\tremaining: 5.9s\n",
      "170:\tlearn: 2.6073851\ttotal: 1.22s\tremaining: 5.89s\n",
      "171:\tlearn: 2.5985368\ttotal: 1.22s\tremaining: 5.88s\n",
      "172:\tlearn: 2.5947585\ttotal: 1.23s\tremaining: 5.87s\n",
      "173:\tlearn: 2.5882597\ttotal: 1.23s\tremaining: 5.86s\n",
      "174:\tlearn: 2.5734787\ttotal: 1.24s\tremaining: 5.85s\n",
      "175:\tlearn: 2.5626087\ttotal: 1.25s\tremaining: 5.83s\n",
      "176:\tlearn: 2.5559951\ttotal: 1.25s\tremaining: 5.82s\n",
      "177:\tlearn: 2.5502860\ttotal: 1.26s\tremaining: 5.81s\n",
      "178:\tlearn: 2.5438083\ttotal: 1.26s\tremaining: 5.8s\n",
      "179:\tlearn: 2.5358585\ttotal: 1.27s\tremaining: 5.79s\n",
      "180:\tlearn: 2.5301336\ttotal: 1.28s\tremaining: 5.77s\n",
      "181:\tlearn: 2.5186205\ttotal: 1.28s\tremaining: 5.76s\n",
      "182:\tlearn: 2.5082795\ttotal: 1.29s\tremaining: 5.75s\n",
      "183:\tlearn: 2.4971809\ttotal: 1.29s\tremaining: 5.74s\n",
      "184:\tlearn: 2.4909010\ttotal: 1.3s\tremaining: 5.72s\n",
      "185:\tlearn: 2.4821878\ttotal: 1.3s\tremaining: 5.71s\n",
      "186:\tlearn: 2.4750551\ttotal: 1.31s\tremaining: 5.7s\n",
      "187:\tlearn: 2.4655514\ttotal: 1.32s\tremaining: 5.69s\n",
      "188:\tlearn: 2.4607097\ttotal: 1.32s\tremaining: 5.67s\n",
      "189:\tlearn: 2.4531585\ttotal: 1.33s\tremaining: 5.66s\n",
      "190:\tlearn: 2.4409499\ttotal: 1.33s\tremaining: 5.65s\n",
      "191:\tlearn: 2.4369000\ttotal: 1.34s\tremaining: 5.64s\n",
      "192:\tlearn: 2.4321330\ttotal: 1.34s\tremaining: 5.62s\n",
      "193:\tlearn: 2.4203159\ttotal: 1.35s\tremaining: 5.61s\n",
      "194:\tlearn: 2.4135826\ttotal: 1.36s\tremaining: 5.6s\n",
      "195:\tlearn: 2.4024520\ttotal: 1.36s\tremaining: 5.59s\n",
      "196:\tlearn: 2.3938346\ttotal: 1.37s\tremaining: 5.58s\n",
      "197:\tlearn: 2.3845326\ttotal: 1.37s\tremaining: 5.56s\n",
      "198:\tlearn: 2.3750878\ttotal: 1.38s\tremaining: 5.55s\n",
      "199:\tlearn: 2.3704719\ttotal: 1.39s\tremaining: 5.54s\n",
      "200:\tlearn: 2.3603958\ttotal: 1.39s\tremaining: 5.54s\n",
      "201:\tlearn: 2.3499238\ttotal: 1.4s\tremaining: 5.53s\n",
      "202:\tlearn: 2.3404241\ttotal: 1.41s\tremaining: 5.52s\n",
      "203:\tlearn: 2.3330778\ttotal: 1.41s\tremaining: 5.51s\n",
      "204:\tlearn: 2.3269053\ttotal: 1.42s\tremaining: 5.5s\n",
      "205:\tlearn: 2.3221303\ttotal: 1.42s\tremaining: 5.49s\n",
      "206:\tlearn: 2.3165777\ttotal: 1.43s\tremaining: 5.47s\n",
      "207:\tlearn: 2.3116836\ttotal: 1.43s\tremaining: 5.46s\n",
      "208:\tlearn: 2.3043456\ttotal: 1.44s\tremaining: 5.45s\n",
      "209:\tlearn: 2.3000339\ttotal: 1.45s\tremaining: 5.44s\n",
      "210:\tlearn: 2.2934777\ttotal: 1.45s\tremaining: 5.43s\n",
      "211:\tlearn: 2.2853062\ttotal: 1.46s\tremaining: 5.42s\n",
      "212:\tlearn: 2.2825528\ttotal: 1.46s\tremaining: 5.41s\n",
      "213:\tlearn: 2.2751154\ttotal: 1.47s\tremaining: 5.4s\n",
      "214:\tlearn: 2.2695598\ttotal: 1.48s\tremaining: 5.4s\n",
      "215:\tlearn: 2.2621388\ttotal: 1.48s\tremaining: 5.39s\n",
      "216:\tlearn: 2.2587549\ttotal: 1.49s\tremaining: 5.38s\n",
      "217:\tlearn: 2.2496744\ttotal: 1.5s\tremaining: 5.37s\n",
      "218:\tlearn: 2.2470564\ttotal: 1.5s\tremaining: 5.36s\n",
      "219:\tlearn: 2.2421049\ttotal: 1.51s\tremaining: 5.35s\n",
      "220:\tlearn: 2.2379277\ttotal: 1.52s\tremaining: 5.35s\n",
      "221:\tlearn: 2.2348568\ttotal: 1.52s\tremaining: 5.34s\n",
      "222:\tlearn: 2.2269908\ttotal: 1.53s\tremaining: 5.33s\n",
      "223:\tlearn: 2.2192463\ttotal: 1.54s\tremaining: 5.32s\n",
      "224:\tlearn: 2.2112053\ttotal: 1.54s\tremaining: 5.31s\n",
      "225:\tlearn: 2.2040341\ttotal: 1.55s\tremaining: 5.31s\n",
      "226:\tlearn: 2.2003617\ttotal: 1.56s\tremaining: 5.3s\n",
      "227:\tlearn: 2.1929794\ttotal: 1.56s\tremaining: 5.29s\n",
      "228:\tlearn: 2.1898231\ttotal: 1.57s\tremaining: 5.29s\n",
      "229:\tlearn: 2.1861915\ttotal: 1.58s\tremaining: 5.29s\n",
      "230:\tlearn: 2.1831495\ttotal: 1.59s\tremaining: 5.28s\n",
      "231:\tlearn: 2.1793504\ttotal: 1.59s\tremaining: 5.27s\n",
      "232:\tlearn: 2.1755123\ttotal: 1.6s\tremaining: 5.26s\n",
      "233:\tlearn: 2.1690978\ttotal: 1.61s\tremaining: 5.26s\n",
      "234:\tlearn: 2.1615056\ttotal: 1.61s\tremaining: 5.25s\n",
      "235:\tlearn: 2.1578456\ttotal: 1.62s\tremaining: 5.24s\n",
      "236:\tlearn: 2.1526861\ttotal: 1.63s\tremaining: 5.24s\n",
      "237:\tlearn: 2.1498793\ttotal: 1.63s\tremaining: 5.23s\n",
      "238:\tlearn: 2.1435119\ttotal: 1.64s\tremaining: 5.22s\n",
      "239:\tlearn: 2.1399383\ttotal: 1.65s\tremaining: 5.22s\n",
      "240:\tlearn: 2.1336755\ttotal: 1.65s\tremaining: 5.21s\n",
      "241:\tlearn: 2.1319617\ttotal: 1.66s\tremaining: 5.2s\n",
      "242:\tlearn: 2.1269681\ttotal: 1.67s\tremaining: 5.19s\n",
      "243:\tlearn: 2.1239762\ttotal: 1.67s\tremaining: 5.18s\n",
      "244:\tlearn: 2.1203107\ttotal: 1.68s\tremaining: 5.17s\n",
      "245:\tlearn: 2.1177334\ttotal: 1.69s\tremaining: 5.17s\n",
      "246:\tlearn: 2.1146510\ttotal: 1.69s\tremaining: 5.16s\n",
      "247:\tlearn: 2.1124184\ttotal: 1.7s\tremaining: 5.15s\n",
      "248:\tlearn: 2.1080259\ttotal: 1.7s\tremaining: 5.14s\n",
      "249:\tlearn: 2.1041076\ttotal: 1.71s\tremaining: 5.13s\n",
      "250:\tlearn: 2.1008199\ttotal: 1.72s\tremaining: 5.13s\n",
      "251:\tlearn: 2.0975700\ttotal: 1.72s\tremaining: 5.12s\n",
      "252:\tlearn: 2.0934089\ttotal: 1.73s\tremaining: 5.11s\n",
      "253:\tlearn: 2.0909518\ttotal: 1.74s\tremaining: 5.1s\n",
      "254:\tlearn: 2.0860610\ttotal: 1.74s\tremaining: 5.09s\n",
      "255:\tlearn: 2.0828733\ttotal: 1.75s\tremaining: 5.08s\n",
      "256:\tlearn: 2.0782652\ttotal: 1.75s\tremaining: 5.07s\n",
      "257:\tlearn: 2.0744642\ttotal: 1.76s\tremaining: 5.06s\n",
      "258:\tlearn: 2.0704975\ttotal: 1.77s\tremaining: 5.06s\n",
      "259:\tlearn: 2.0673282\ttotal: 1.77s\tremaining: 5.05s\n",
      "260:\tlearn: 2.0635496\ttotal: 1.78s\tremaining: 5.04s\n",
      "261:\tlearn: 2.0605696\ttotal: 1.79s\tremaining: 5.04s\n",
      "262:\tlearn: 2.0582707\ttotal: 1.79s\tremaining: 5.03s\n",
      "263:\tlearn: 2.0529869\ttotal: 1.8s\tremaining: 5.02s\n",
      "264:\tlearn: 2.0475247\ttotal: 1.81s\tremaining: 5.01s\n",
      "265:\tlearn: 2.0450246\ttotal: 1.81s\tremaining: 5s\n",
      "266:\tlearn: 2.0421145\ttotal: 1.82s\tremaining: 4.99s\n",
      "267:\tlearn: 2.0398678\ttotal: 1.82s\tremaining: 4.98s\n",
      "268:\tlearn: 2.0361112\ttotal: 1.83s\tremaining: 4.97s\n",
      "269:\tlearn: 2.0328842\ttotal: 1.84s\tremaining: 4.97s\n",
      "270:\tlearn: 2.0278861\ttotal: 1.84s\tremaining: 4.96s\n",
      "271:\tlearn: 2.0221070\ttotal: 1.85s\tremaining: 4.95s\n",
      "272:\tlearn: 2.0189714\ttotal: 1.85s\tremaining: 4.94s\n",
      "273:\tlearn: 2.0174128\ttotal: 1.86s\tremaining: 4.93s\n",
      "274:\tlearn: 2.0139653\ttotal: 1.87s\tremaining: 4.92s\n",
      "275:\tlearn: 2.0096704\ttotal: 1.87s\tremaining: 4.91s\n",
      "276:\tlearn: 2.0060726\ttotal: 1.88s\tremaining: 4.9s\n",
      "277:\tlearn: 2.0026992\ttotal: 1.88s\tremaining: 4.89s\n",
      "278:\tlearn: 1.9995157\ttotal: 1.89s\tremaining: 4.89s\n",
      "279:\tlearn: 1.9948884\ttotal: 1.9s\tremaining: 4.88s\n",
      "280:\tlearn: 1.9923587\ttotal: 1.9s\tremaining: 4.87s\n",
      "281:\tlearn: 1.9905361\ttotal: 1.91s\tremaining: 4.86s\n",
      "282:\tlearn: 1.9879079\ttotal: 1.91s\tremaining: 4.85s\n",
      "283:\tlearn: 1.9851564\ttotal: 1.92s\tremaining: 4.84s\n",
      "284:\tlearn: 1.9811040\ttotal: 1.92s\tremaining: 4.83s\n",
      "285:\tlearn: 1.9793402\ttotal: 1.93s\tremaining: 4.82s\n",
      "286:\tlearn: 1.9760418\ttotal: 1.94s\tremaining: 4.81s\n",
      "287:\tlearn: 1.9736484\ttotal: 1.94s\tremaining: 4.8s\n",
      "288:\tlearn: 1.9713622\ttotal: 1.95s\tremaining: 4.79s\n",
      "289:\tlearn: 1.9675769\ttotal: 1.95s\tremaining: 4.78s\n",
      "290:\tlearn: 1.9648038\ttotal: 1.96s\tremaining: 4.77s\n",
      "291:\tlearn: 1.9623287\ttotal: 1.96s\tremaining: 4.76s\n",
      "292:\tlearn: 1.9591153\ttotal: 1.97s\tremaining: 4.76s\n",
      "293:\tlearn: 1.9562607\ttotal: 1.98s\tremaining: 4.75s\n",
      "294:\tlearn: 1.9537880\ttotal: 1.98s\tremaining: 4.74s\n",
      "295:\tlearn: 1.9510086\ttotal: 1.99s\tremaining: 4.73s\n",
      "296:\tlearn: 1.9482300\ttotal: 2s\tremaining: 4.72s\n",
      "297:\tlearn: 1.9448051\ttotal: 2s\tremaining: 4.72s\n",
      "298:\tlearn: 1.9417408\ttotal: 2.01s\tremaining: 4.71s\n",
      "299:\tlearn: 1.9375401\ttotal: 2.01s\tremaining: 4.7s\n",
      "300:\tlearn: 1.9342127\ttotal: 2.02s\tremaining: 4.69s\n",
      "301:\tlearn: 1.9304382\ttotal: 2.03s\tremaining: 4.68s\n",
      "302:\tlearn: 1.9280198\ttotal: 2.03s\tremaining: 4.67s\n",
      "303:\tlearn: 1.9258674\ttotal: 2.04s\tremaining: 4.67s\n",
      "304:\tlearn: 1.9235871\ttotal: 2.04s\tremaining: 4.66s\n",
      "305:\tlearn: 1.9215252\ttotal: 2.05s\tremaining: 4.65s\n",
      "306:\tlearn: 1.9176023\ttotal: 2.06s\tremaining: 4.64s\n",
      "307:\tlearn: 1.9144975\ttotal: 2.06s\tremaining: 4.63s\n",
      "308:\tlearn: 1.9108643\ttotal: 2.07s\tremaining: 4.62s\n",
      "309:\tlearn: 1.9060516\ttotal: 2.07s\tremaining: 4.61s\n",
      "310:\tlearn: 1.9029378\ttotal: 2.08s\tremaining: 4.61s\n",
      "311:\tlearn: 1.8991958\ttotal: 2.08s\tremaining: 4.6s\n",
      "312:\tlearn: 1.8963731\ttotal: 2.09s\tremaining: 4.59s\n",
      "313:\tlearn: 1.8942437\ttotal: 2.1s\tremaining: 4.58s\n",
      "314:\tlearn: 1.8930583\ttotal: 2.1s\tremaining: 4.57s\n",
      "315:\tlearn: 1.8906978\ttotal: 2.11s\tremaining: 4.56s\n",
      "316:\tlearn: 1.8883319\ttotal: 2.11s\tremaining: 4.55s\n",
      "317:\tlearn: 1.8867804\ttotal: 2.12s\tremaining: 4.54s\n",
      "318:\tlearn: 1.8843342\ttotal: 2.12s\tremaining: 4.53s\n",
      "319:\tlearn: 1.8818364\ttotal: 2.13s\tremaining: 4.53s\n",
      "320:\tlearn: 1.8787091\ttotal: 2.13s\tremaining: 4.52s\n",
      "321:\tlearn: 1.8761077\ttotal: 2.14s\tremaining: 4.51s\n",
      "322:\tlearn: 1.8733431\ttotal: 2.15s\tremaining: 4.5s\n",
      "323:\tlearn: 1.8705320\ttotal: 2.15s\tremaining: 4.49s\n",
      "324:\tlearn: 1.8694692\ttotal: 2.16s\tremaining: 4.48s\n"
     ]
    },
    {
     "name": "stdout",
     "output_type": "stream",
     "text": [
      "325:\tlearn: 1.8678864\ttotal: 2.16s\tremaining: 4.47s\n",
      "326:\tlearn: 1.8657026\ttotal: 2.17s\tremaining: 4.47s\n",
      "327:\tlearn: 1.8640586\ttotal: 2.18s\tremaining: 4.46s\n",
      "328:\tlearn: 1.8624392\ttotal: 2.18s\tremaining: 4.45s\n",
      "329:\tlearn: 1.8603490\ttotal: 2.19s\tremaining: 4.45s\n",
      "330:\tlearn: 1.8560584\ttotal: 2.19s\tremaining: 4.44s\n",
      "331:\tlearn: 1.8534904\ttotal: 2.2s\tremaining: 4.43s\n",
      "332:\tlearn: 1.8509906\ttotal: 2.21s\tremaining: 4.42s\n",
      "333:\tlearn: 1.8497268\ttotal: 2.21s\tremaining: 4.41s\n",
      "334:\tlearn: 1.8475376\ttotal: 2.22s\tremaining: 4.4s\n",
      "335:\tlearn: 1.8453399\ttotal: 2.23s\tremaining: 4.4s\n",
      "336:\tlearn: 1.8427981\ttotal: 2.24s\tremaining: 4.4s\n",
      "337:\tlearn: 1.8404718\ttotal: 2.25s\tremaining: 4.4s\n",
      "338:\tlearn: 1.8380019\ttotal: 2.26s\tremaining: 4.4s\n",
      "339:\tlearn: 1.8364060\ttotal: 2.27s\tremaining: 4.4s\n",
      "340:\tlearn: 1.8340868\ttotal: 2.27s\tremaining: 4.39s\n",
      "341:\tlearn: 1.8322113\ttotal: 2.28s\tremaining: 4.39s\n",
      "342:\tlearn: 1.8295989\ttotal: 2.29s\tremaining: 4.38s\n",
      "343:\tlearn: 1.8281245\ttotal: 2.29s\tremaining: 4.37s\n",
      "344:\tlearn: 1.8247145\ttotal: 2.3s\tremaining: 4.36s\n",
      "345:\tlearn: 1.8223180\ttotal: 2.3s\tremaining: 4.36s\n",
      "346:\tlearn: 1.8208273\ttotal: 2.31s\tremaining: 4.35s\n",
      "347:\tlearn: 1.8201355\ttotal: 2.32s\tremaining: 4.34s\n",
      "348:\tlearn: 1.8185770\ttotal: 2.32s\tremaining: 4.33s\n",
      "349:\tlearn: 1.8176323\ttotal: 2.33s\tremaining: 4.32s\n",
      "350:\tlearn: 1.8159941\ttotal: 2.33s\tremaining: 4.32s\n",
      "351:\tlearn: 1.8147625\ttotal: 2.34s\tremaining: 4.31s\n",
      "352:\tlearn: 1.8131470\ttotal: 2.35s\tremaining: 4.3s\n",
      "353:\tlearn: 1.8113889\ttotal: 2.35s\tremaining: 4.29s\n",
      "354:\tlearn: 1.8091687\ttotal: 2.36s\tremaining: 4.29s\n",
      "355:\tlearn: 1.8081620\ttotal: 2.36s\tremaining: 4.28s\n",
      "356:\tlearn: 1.8074467\ttotal: 2.37s\tremaining: 4.27s\n",
      "357:\tlearn: 1.8056958\ttotal: 2.38s\tremaining: 4.27s\n",
      "358:\tlearn: 1.8037801\ttotal: 2.39s\tremaining: 4.26s\n",
      "359:\tlearn: 1.8023639\ttotal: 2.39s\tremaining: 4.25s\n",
      "360:\tlearn: 1.7995919\ttotal: 2.4s\tremaining: 4.25s\n",
      "361:\tlearn: 1.7974001\ttotal: 2.4s\tremaining: 4.24s\n",
      "362:\tlearn: 1.7967840\ttotal: 2.41s\tremaining: 4.23s\n",
      "363:\tlearn: 1.7943049\ttotal: 2.42s\tremaining: 4.22s\n",
      "364:\tlearn: 1.7926193\ttotal: 2.42s\tremaining: 4.21s\n",
      "365:\tlearn: 1.7904346\ttotal: 2.43s\tremaining: 4.21s\n",
      "366:\tlearn: 1.7879745\ttotal: 2.43s\tremaining: 4.2s\n",
      "367:\tlearn: 1.7860370\ttotal: 2.44s\tremaining: 4.19s\n",
      "368:\tlearn: 1.7840771\ttotal: 2.44s\tremaining: 4.18s\n",
      "369:\tlearn: 1.7831041\ttotal: 2.45s\tremaining: 4.17s\n",
      "370:\tlearn: 1.7819723\ttotal: 2.46s\tremaining: 4.17s\n",
      "371:\tlearn: 1.7808781\ttotal: 2.46s\tremaining: 4.16s\n",
      "372:\tlearn: 1.7792646\ttotal: 2.47s\tremaining: 4.15s\n",
      "373:\tlearn: 1.7777298\ttotal: 2.47s\tremaining: 4.14s\n",
      "374:\tlearn: 1.7758509\ttotal: 2.48s\tremaining: 4.13s\n",
      "375:\tlearn: 1.7746880\ttotal: 2.48s\tremaining: 4.13s\n",
      "376:\tlearn: 1.7719075\ttotal: 2.49s\tremaining: 4.12s\n",
      "377:\tlearn: 1.7705224\ttotal: 2.5s\tremaining: 4.11s\n",
      "378:\tlearn: 1.7700279\ttotal: 2.5s\tremaining: 4.1s\n",
      "379:\tlearn: 1.7685910\ttotal: 2.51s\tremaining: 4.09s\n",
      "380:\tlearn: 1.7665210\ttotal: 2.51s\tremaining: 4.08s\n",
      "381:\tlearn: 1.7617983\ttotal: 2.52s\tremaining: 4.08s\n",
      "382:\tlearn: 1.7600759\ttotal: 2.52s\tremaining: 4.07s\n",
      "383:\tlearn: 1.7586347\ttotal: 2.53s\tremaining: 4.06s\n",
      "384:\tlearn: 1.7565722\ttotal: 2.54s\tremaining: 4.05s\n",
      "385:\tlearn: 1.7551382\ttotal: 2.54s\tremaining: 4.04s\n",
      "386:\tlearn: 1.7535523\ttotal: 2.55s\tremaining: 4.04s\n",
      "387:\tlearn: 1.7520018\ttotal: 2.56s\tremaining: 4.03s\n",
      "388:\tlearn: 1.7504601\ttotal: 2.56s\tremaining: 4.03s\n",
      "389:\tlearn: 1.7494489\ttotal: 2.57s\tremaining: 4.02s\n",
      "390:\tlearn: 1.7483250\ttotal: 2.58s\tremaining: 4.01s\n",
      "391:\tlearn: 1.7469085\ttotal: 2.58s\tremaining: 4s\n",
      "392:\tlearn: 1.7452300\ttotal: 2.59s\tremaining: 4s\n",
      "393:\tlearn: 1.7437251\ttotal: 2.59s\tremaining: 3.99s\n",
      "394:\tlearn: 1.7425581\ttotal: 2.6s\tremaining: 3.98s\n",
      "395:\tlearn: 1.7415498\ttotal: 2.6s\tremaining: 3.97s\n",
      "396:\tlearn: 1.7391779\ttotal: 2.61s\tremaining: 3.96s\n",
      "397:\tlearn: 1.7383027\ttotal: 2.62s\tremaining: 3.96s\n",
      "398:\tlearn: 1.7364781\ttotal: 2.62s\tremaining: 3.95s\n",
      "399:\tlearn: 1.7356401\ttotal: 2.63s\tremaining: 3.94s\n",
      "400:\tlearn: 1.7341392\ttotal: 2.63s\tremaining: 3.93s\n",
      "401:\tlearn: 1.7326287\ttotal: 2.64s\tremaining: 3.93s\n",
      "402:\tlearn: 1.7302020\ttotal: 2.65s\tremaining: 3.92s\n",
      "403:\tlearn: 1.7286264\ttotal: 2.65s\tremaining: 3.91s\n",
      "404:\tlearn: 1.7265880\ttotal: 2.66s\tremaining: 3.9s\n",
      "405:\tlearn: 1.7219972\ttotal: 2.66s\tremaining: 3.9s\n",
      "406:\tlearn: 1.7214553\ttotal: 2.67s\tremaining: 3.89s\n",
      "407:\tlearn: 1.7203150\ttotal: 2.67s\tremaining: 3.88s\n",
      "408:\tlearn: 1.7188893\ttotal: 2.68s\tremaining: 3.87s\n",
      "409:\tlearn: 1.7153803\ttotal: 2.69s\tremaining: 3.87s\n",
      "410:\tlearn: 1.7144115\ttotal: 2.69s\tremaining: 3.86s\n",
      "411:\tlearn: 1.7127455\ttotal: 2.7s\tremaining: 3.85s\n",
      "412:\tlearn: 1.7119300\ttotal: 2.71s\tremaining: 3.85s\n",
      "413:\tlearn: 1.7108827\ttotal: 2.71s\tremaining: 3.84s\n",
      "414:\tlearn: 1.7099348\ttotal: 2.72s\tremaining: 3.83s\n",
      "415:\tlearn: 1.7087042\ttotal: 2.72s\tremaining: 3.82s\n",
      "416:\tlearn: 1.7069377\ttotal: 2.73s\tremaining: 3.81s\n",
      "417:\tlearn: 1.7060664\ttotal: 2.73s\tremaining: 3.81s\n",
      "418:\tlearn: 1.7048832\ttotal: 2.74s\tremaining: 3.8s\n",
      "419:\tlearn: 1.7038837\ttotal: 2.75s\tremaining: 3.79s\n",
      "420:\tlearn: 1.7012343\ttotal: 2.75s\tremaining: 3.79s\n",
      "421:\tlearn: 1.6999745\ttotal: 2.76s\tremaining: 3.78s\n",
      "422:\tlearn: 1.6992010\ttotal: 2.77s\tremaining: 3.77s\n",
      "423:\tlearn: 1.6981998\ttotal: 2.77s\tremaining: 3.77s\n",
      "424:\tlearn: 1.6965007\ttotal: 2.78s\tremaining: 3.76s\n",
      "425:\tlearn: 1.6958479\ttotal: 2.79s\tremaining: 3.75s\n",
      "426:\tlearn: 1.6943749\ttotal: 2.79s\tremaining: 3.75s\n",
      "427:\tlearn: 1.6930586\ttotal: 2.8s\tremaining: 3.74s\n",
      "428:\tlearn: 1.6911349\ttotal: 2.81s\tremaining: 3.74s\n",
      "429:\tlearn: 1.6896806\ttotal: 2.81s\tremaining: 3.73s\n",
      "430:\tlearn: 1.6876402\ttotal: 2.82s\tremaining: 3.72s\n",
      "431:\tlearn: 1.6850087\ttotal: 2.83s\tremaining: 3.71s\n",
      "432:\tlearn: 1.6837161\ttotal: 2.83s\tremaining: 3.71s\n",
      "433:\tlearn: 1.6827670\ttotal: 2.84s\tremaining: 3.7s\n",
      "434:\tlearn: 1.6791336\ttotal: 2.84s\tremaining: 3.69s\n",
      "435:\tlearn: 1.6782398\ttotal: 2.85s\tremaining: 3.69s\n",
      "436:\tlearn: 1.6770476\ttotal: 2.85s\tremaining: 3.68s\n",
      "437:\tlearn: 1.6751938\ttotal: 2.86s\tremaining: 3.67s\n",
      "438:\tlearn: 1.6703369\ttotal: 2.87s\tremaining: 3.66s\n",
      "439:\tlearn: 1.6694027\ttotal: 2.87s\tremaining: 3.66s\n",
      "440:\tlearn: 1.6679252\ttotal: 2.88s\tremaining: 3.65s\n",
      "441:\tlearn: 1.6666910\ttotal: 2.88s\tremaining: 3.64s\n",
      "442:\tlearn: 1.6659047\ttotal: 2.89s\tremaining: 3.63s\n",
      "443:\tlearn: 1.6649046\ttotal: 2.9s\tremaining: 3.63s\n",
      "444:\tlearn: 1.6634561\ttotal: 2.9s\tremaining: 3.62s\n",
      "445:\tlearn: 1.6617476\ttotal: 2.91s\tremaining: 3.61s\n",
      "446:\tlearn: 1.6606709\ttotal: 2.91s\tremaining: 3.6s\n",
      "447:\tlearn: 1.6594576\ttotal: 2.92s\tremaining: 3.6s\n",
      "448:\tlearn: 1.6578407\ttotal: 2.92s\tremaining: 3.59s\n",
      "449:\tlearn: 1.6566207\ttotal: 2.93s\tremaining: 3.58s\n",
      "450:\tlearn: 1.6554418\ttotal: 2.94s\tremaining: 3.58s\n",
      "451:\tlearn: 1.6546688\ttotal: 2.94s\tremaining: 3.57s\n",
      "452:\tlearn: 1.6541171\ttotal: 2.95s\tremaining: 3.56s\n",
      "453:\tlearn: 1.6534223\ttotal: 2.96s\tremaining: 3.56s\n",
      "454:\tlearn: 1.6524136\ttotal: 2.96s\tremaining: 3.55s\n",
      "455:\tlearn: 1.6505627\ttotal: 2.97s\tremaining: 3.54s\n",
      "456:\tlearn: 1.6487179\ttotal: 2.97s\tremaining: 3.53s\n",
      "457:\tlearn: 1.6474686\ttotal: 2.98s\tremaining: 3.53s\n",
      "458:\tlearn: 1.6461675\ttotal: 2.99s\tremaining: 3.52s\n",
      "459:\tlearn: 1.6447497\ttotal: 3s\tremaining: 3.52s\n",
      "460:\tlearn: 1.6436628\ttotal: 3s\tremaining: 3.51s\n",
      "461:\tlearn: 1.6432951\ttotal: 3.01s\tremaining: 3.5s\n",
      "462:\tlearn: 1.6426246\ttotal: 3.02s\tremaining: 3.5s\n",
      "463:\tlearn: 1.6419677\ttotal: 3.02s\tremaining: 3.49s\n",
      "464:\tlearn: 1.6402723\ttotal: 3.03s\tremaining: 3.48s\n",
      "465:\tlearn: 1.6396242\ttotal: 3.04s\tremaining: 3.48s\n",
      "466:\tlearn: 1.6380001\ttotal: 3.04s\tremaining: 3.47s\n",
      "467:\tlearn: 1.6363209\ttotal: 3.05s\tremaining: 3.47s\n",
      "468:\tlearn: 1.6355382\ttotal: 3.06s\tremaining: 3.46s\n",
      "469:\tlearn: 1.6345066\ttotal: 3.06s\tremaining: 3.46s\n",
      "470:\tlearn: 1.6335023\ttotal: 3.07s\tremaining: 3.45s\n",
      "471:\tlearn: 1.6318069\ttotal: 3.08s\tremaining: 3.44s\n",
      "472:\tlearn: 1.6272480\ttotal: 3.08s\tremaining: 3.44s\n",
      "473:\tlearn: 1.6264256\ttotal: 3.09s\tremaining: 3.43s\n",
      "474:\tlearn: 1.6253044\ttotal: 3.1s\tremaining: 3.42s\n",
      "475:\tlearn: 1.6239202\ttotal: 3.1s\tremaining: 3.41s\n",
      "476:\tlearn: 1.6226023\ttotal: 3.11s\tremaining: 3.41s\n",
      "477:\tlearn: 1.6211085\ttotal: 3.11s\tremaining: 3.4s\n",
      "478:\tlearn: 1.6200762\ttotal: 3.12s\tremaining: 3.39s\n",
      "479:\tlearn: 1.6174625\ttotal: 3.13s\tremaining: 3.38s\n",
      "480:\tlearn: 1.6166581\ttotal: 3.13s\tremaining: 3.38s\n",
      "481:\tlearn: 1.6140007\ttotal: 3.14s\tremaining: 3.37s\n",
      "482:\tlearn: 1.6126212\ttotal: 3.14s\tremaining: 3.37s\n",
      "483:\tlearn: 1.6085801\ttotal: 3.15s\tremaining: 3.36s\n",
      "484:\tlearn: 1.6075507\ttotal: 3.16s\tremaining: 3.35s\n",
      "485:\tlearn: 1.6069246\ttotal: 3.16s\tremaining: 3.34s\n",
      "486:\tlearn: 1.6059128\ttotal: 3.17s\tremaining: 3.34s\n",
      "487:\tlearn: 1.6051504\ttotal: 3.17s\tremaining: 3.33s\n",
      "488:\tlearn: 1.6043540\ttotal: 3.18s\tremaining: 3.32s\n",
      "489:\tlearn: 1.6024268\ttotal: 3.19s\tremaining: 3.31s\n",
      "490:\tlearn: 1.6012787\ttotal: 3.19s\tremaining: 3.31s\n",
      "491:\tlearn: 1.5987901\ttotal: 3.2s\tremaining: 3.3s\n",
      "492:\tlearn: 1.5983267\ttotal: 3.2s\tremaining: 3.29s\n",
      "493:\tlearn: 1.5974983\ttotal: 3.21s\tremaining: 3.29s\n",
      "494:\tlearn: 1.5963213\ttotal: 3.21s\tremaining: 3.28s\n",
      "495:\tlearn: 1.5951684\ttotal: 3.22s\tremaining: 3.27s\n",
      "496:\tlearn: 1.5945400\ttotal: 3.23s\tremaining: 3.27s\n",
      "497:\tlearn: 1.5940393\ttotal: 3.23s\tremaining: 3.26s\n",
      "498:\tlearn: 1.5934209\ttotal: 3.24s\tremaining: 3.25s\n",
      "499:\tlearn: 1.5924761\ttotal: 3.24s\tremaining: 3.24s\n",
      "500:\tlearn: 1.5919745\ttotal: 3.25s\tremaining: 3.24s\n",
      "501:\tlearn: 1.5913030\ttotal: 3.25s\tremaining: 3.23s\n",
      "502:\tlearn: 1.5901992\ttotal: 3.26s\tremaining: 3.22s\n",
      "503:\tlearn: 1.5897147\ttotal: 3.27s\tremaining: 3.21s\n",
      "504:\tlearn: 1.5876846\ttotal: 3.27s\tremaining: 3.21s\n",
      "505:\tlearn: 1.5857479\ttotal: 3.28s\tremaining: 3.2s\n",
      "506:\tlearn: 1.5851003\ttotal: 3.28s\tremaining: 3.19s\n",
      "507:\tlearn: 1.5832565\ttotal: 3.29s\tremaining: 3.19s\n",
      "508:\tlearn: 1.5821947\ttotal: 3.29s\tremaining: 3.18s\n",
      "509:\tlearn: 1.5808957\ttotal: 3.3s\tremaining: 3.17s\n",
      "510:\tlearn: 1.5803866\ttotal: 3.31s\tremaining: 3.16s\n",
      "511:\tlearn: 1.5793828\ttotal: 3.31s\tremaining: 3.16s\n",
      "512:\tlearn: 1.5776098\ttotal: 3.32s\tremaining: 3.15s\n"
     ]
    },
    {
     "name": "stdout",
     "output_type": "stream",
     "text": [
      "513:\tlearn: 1.5767300\ttotal: 3.32s\tremaining: 3.14s\n",
      "514:\tlearn: 1.5762684\ttotal: 3.33s\tremaining: 3.14s\n",
      "515:\tlearn: 1.5742093\ttotal: 3.34s\tremaining: 3.13s\n",
      "516:\tlearn: 1.5733591\ttotal: 3.34s\tremaining: 3.12s\n",
      "517:\tlearn: 1.5729841\ttotal: 3.35s\tremaining: 3.12s\n",
      "518:\tlearn: 1.5720156\ttotal: 3.36s\tremaining: 3.11s\n",
      "519:\tlearn: 1.5711170\ttotal: 3.36s\tremaining: 3.1s\n",
      "520:\tlearn: 1.5699396\ttotal: 3.37s\tremaining: 3.1s\n",
      "521:\tlearn: 1.5691194\ttotal: 3.37s\tremaining: 3.09s\n",
      "522:\tlearn: 1.5682021\ttotal: 3.38s\tremaining: 3.08s\n",
      "523:\tlearn: 1.5666248\ttotal: 3.38s\tremaining: 3.07s\n",
      "524:\tlearn: 1.5664047\ttotal: 3.39s\tremaining: 3.07s\n",
      "525:\tlearn: 1.5655547\ttotal: 3.4s\tremaining: 3.06s\n",
      "526:\tlearn: 1.5633616\ttotal: 3.4s\tremaining: 3.05s\n",
      "527:\tlearn: 1.5623636\ttotal: 3.41s\tremaining: 3.05s\n",
      "528:\tlearn: 1.5612366\ttotal: 3.41s\tremaining: 3.04s\n",
      "529:\tlearn: 1.5601040\ttotal: 3.42s\tremaining: 3.03s\n",
      "530:\tlearn: 1.5594823\ttotal: 3.42s\tremaining: 3.02s\n",
      "531:\tlearn: 1.5589313\ttotal: 3.43s\tremaining: 3.02s\n",
      "532:\tlearn: 1.5570741\ttotal: 3.44s\tremaining: 3.01s\n",
      "533:\tlearn: 1.5550675\ttotal: 3.44s\tremaining: 3s\n",
      "534:\tlearn: 1.5546711\ttotal: 3.45s\tremaining: 3s\n",
      "535:\tlearn: 1.5543240\ttotal: 3.45s\tremaining: 2.99s\n",
      "536:\tlearn: 1.5524441\ttotal: 3.46s\tremaining: 2.98s\n",
      "537:\tlearn: 1.5508376\ttotal: 3.46s\tremaining: 2.98s\n",
      "538:\tlearn: 1.5499285\ttotal: 3.47s\tremaining: 2.97s\n",
      "539:\tlearn: 1.5489183\ttotal: 3.48s\tremaining: 2.96s\n",
      "540:\tlearn: 1.5476952\ttotal: 3.48s\tremaining: 2.95s\n",
      "541:\tlearn: 1.5466270\ttotal: 3.49s\tremaining: 2.95s\n",
      "542:\tlearn: 1.5448244\ttotal: 3.49s\tremaining: 2.94s\n",
      "543:\tlearn: 1.5439226\ttotal: 3.5s\tremaining: 2.93s\n",
      "544:\tlearn: 1.5435956\ttotal: 3.5s\tremaining: 2.92s\n",
      "545:\tlearn: 1.5419015\ttotal: 3.51s\tremaining: 2.92s\n",
      "546:\tlearn: 1.5414641\ttotal: 3.52s\tremaining: 2.91s\n",
      "547:\tlearn: 1.5405789\ttotal: 3.52s\tremaining: 2.91s\n",
      "548:\tlearn: 1.5395161\ttotal: 3.53s\tremaining: 2.9s\n",
      "549:\tlearn: 1.5379501\ttotal: 3.54s\tremaining: 2.89s\n",
      "550:\tlearn: 1.5375061\ttotal: 3.54s\tremaining: 2.89s\n",
      "551:\tlearn: 1.5371544\ttotal: 3.55s\tremaining: 2.88s\n",
      "552:\tlearn: 1.5366617\ttotal: 3.55s\tremaining: 2.87s\n",
      "553:\tlearn: 1.5345760\ttotal: 3.56s\tremaining: 2.87s\n",
      "554:\tlearn: 1.5339902\ttotal: 3.56s\tremaining: 2.86s\n",
      "555:\tlearn: 1.5327592\ttotal: 3.57s\tremaining: 2.85s\n",
      "556:\tlearn: 1.5321381\ttotal: 3.58s\tremaining: 2.84s\n",
      "557:\tlearn: 1.5317068\ttotal: 3.58s\tremaining: 2.84s\n",
      "558:\tlearn: 1.5310778\ttotal: 3.59s\tremaining: 2.83s\n",
      "559:\tlearn: 1.5305480\ttotal: 3.59s\tremaining: 2.82s\n",
      "560:\tlearn: 1.5288586\ttotal: 3.6s\tremaining: 2.82s\n",
      "561:\tlearn: 1.5280227\ttotal: 3.6s\tremaining: 2.81s\n",
      "562:\tlearn: 1.5277277\ttotal: 3.61s\tremaining: 2.8s\n",
      "563:\tlearn: 1.5274846\ttotal: 3.62s\tremaining: 2.8s\n",
      "564:\tlearn: 1.5270900\ttotal: 3.62s\tremaining: 2.79s\n",
      "565:\tlearn: 1.5262980\ttotal: 3.63s\tremaining: 2.78s\n",
      "566:\tlearn: 1.5260828\ttotal: 3.63s\tremaining: 2.77s\n",
      "567:\tlearn: 1.5249693\ttotal: 3.64s\tremaining: 2.77s\n",
      "568:\tlearn: 1.5242788\ttotal: 3.65s\tremaining: 2.76s\n",
      "569:\tlearn: 1.5239908\ttotal: 3.65s\tremaining: 2.75s\n",
      "570:\tlearn: 1.5234444\ttotal: 3.66s\tremaining: 2.75s\n",
      "571:\tlearn: 1.5222678\ttotal: 3.66s\tremaining: 2.74s\n",
      "572:\tlearn: 1.5218746\ttotal: 3.67s\tremaining: 2.73s\n",
      "573:\tlearn: 1.5208055\ttotal: 3.67s\tremaining: 2.73s\n",
      "574:\tlearn: 1.5176080\ttotal: 3.68s\tremaining: 2.72s\n",
      "575:\tlearn: 1.5170012\ttotal: 3.69s\tremaining: 2.71s\n",
      "576:\tlearn: 1.5161061\ttotal: 3.69s\tremaining: 2.71s\n",
      "577:\tlearn: 1.5148374\ttotal: 3.69s\tremaining: 2.7s\n",
      "578:\tlearn: 1.5137198\ttotal: 3.7s\tremaining: 2.69s\n",
      "579:\tlearn: 1.5113800\ttotal: 3.71s\tremaining: 2.68s\n",
      "580:\tlearn: 1.5107762\ttotal: 3.71s\tremaining: 2.68s\n",
      "581:\tlearn: 1.5099108\ttotal: 3.72s\tremaining: 2.67s\n",
      "582:\tlearn: 1.5096317\ttotal: 3.73s\tremaining: 2.67s\n",
      "583:\tlearn: 1.5093573\ttotal: 3.73s\tremaining: 2.66s\n",
      "584:\tlearn: 1.5079369\ttotal: 3.74s\tremaining: 2.65s\n",
      "585:\tlearn: 1.5073833\ttotal: 3.74s\tremaining: 2.64s\n",
      "586:\tlearn: 1.5067610\ttotal: 3.75s\tremaining: 2.64s\n",
      "587:\tlearn: 1.5056726\ttotal: 3.75s\tremaining: 2.63s\n",
      "588:\tlearn: 1.5046376\ttotal: 3.76s\tremaining: 2.62s\n",
      "589:\tlearn: 1.5043742\ttotal: 3.77s\tremaining: 2.62s\n",
      "590:\tlearn: 1.5035192\ttotal: 3.77s\tremaining: 2.61s\n",
      "591:\tlearn: 1.5025664\ttotal: 3.78s\tremaining: 2.6s\n",
      "592:\tlearn: 1.5013201\ttotal: 3.78s\tremaining: 2.6s\n",
      "593:\tlearn: 1.5010251\ttotal: 3.79s\tremaining: 2.59s\n",
      "594:\tlearn: 1.5004447\ttotal: 3.79s\tremaining: 2.58s\n",
      "595:\tlearn: 1.5001870\ttotal: 3.8s\tremaining: 2.58s\n",
      "596:\tlearn: 1.4991014\ttotal: 3.81s\tremaining: 2.57s\n",
      "597:\tlearn: 1.4984985\ttotal: 3.81s\tremaining: 2.56s\n",
      "598:\tlearn: 1.4976984\ttotal: 3.82s\tremaining: 2.56s\n",
      "599:\tlearn: 1.4957604\ttotal: 3.82s\tremaining: 2.55s\n",
      "600:\tlearn: 1.4931301\ttotal: 3.83s\tremaining: 2.54s\n",
      "601:\tlearn: 1.4922080\ttotal: 3.83s\tremaining: 2.54s\n",
      "602:\tlearn: 1.4913982\ttotal: 3.84s\tremaining: 2.53s\n",
      "603:\tlearn: 1.4903571\ttotal: 3.85s\tremaining: 2.52s\n",
      "604:\tlearn: 1.4900871\ttotal: 3.85s\tremaining: 2.52s\n",
      "605:\tlearn: 1.4892293\ttotal: 3.86s\tremaining: 2.51s\n",
      "606:\tlearn: 1.4884915\ttotal: 3.86s\tremaining: 2.5s\n",
      "607:\tlearn: 1.4878189\ttotal: 3.87s\tremaining: 2.5s\n",
      "608:\tlearn: 1.4865967\ttotal: 3.88s\tremaining: 2.49s\n",
      "609:\tlearn: 1.4854554\ttotal: 3.88s\tremaining: 2.48s\n",
      "610:\tlearn: 1.4851984\ttotal: 3.89s\tremaining: 2.47s\n",
      "611:\tlearn: 1.4842474\ttotal: 3.89s\tremaining: 2.47s\n",
      "612:\tlearn: 1.4831625\ttotal: 3.9s\tremaining: 2.46s\n",
      "613:\tlearn: 1.4826325\ttotal: 3.91s\tremaining: 2.46s\n",
      "614:\tlearn: 1.4823592\ttotal: 3.91s\tremaining: 2.45s\n",
      "615:\tlearn: 1.4816391\ttotal: 3.92s\tremaining: 2.44s\n",
      "616:\tlearn: 1.4810472\ttotal: 3.92s\tremaining: 2.44s\n",
      "617:\tlearn: 1.4798438\ttotal: 3.93s\tremaining: 2.43s\n",
      "618:\tlearn: 1.4796020\ttotal: 3.94s\tremaining: 2.42s\n",
      "619:\tlearn: 1.4793399\ttotal: 3.94s\tremaining: 2.42s\n",
      "620:\tlearn: 1.4786243\ttotal: 3.95s\tremaining: 2.41s\n",
      "621:\tlearn: 1.4783414\ttotal: 3.96s\tremaining: 2.4s\n",
      "622:\tlearn: 1.4781062\ttotal: 3.96s\tremaining: 2.4s\n",
      "623:\tlearn: 1.4773754\ttotal: 3.97s\tremaining: 2.39s\n",
      "624:\tlearn: 1.4762736\ttotal: 3.97s\tremaining: 2.38s\n",
      "625:\tlearn: 1.4753769\ttotal: 3.98s\tremaining: 2.38s\n",
      "626:\tlearn: 1.4742362\ttotal: 3.98s\tremaining: 2.37s\n",
      "627:\tlearn: 1.4732144\ttotal: 3.99s\tremaining: 2.36s\n",
      "628:\tlearn: 1.4726476\ttotal: 4s\tremaining: 2.36s\n",
      "629:\tlearn: 1.4718489\ttotal: 4s\tremaining: 2.35s\n",
      "630:\tlearn: 1.4710911\ttotal: 4.01s\tremaining: 2.34s\n",
      "631:\tlearn: 1.4699732\ttotal: 4.01s\tremaining: 2.34s\n",
      "632:\tlearn: 1.4689781\ttotal: 4.02s\tremaining: 2.33s\n",
      "633:\tlearn: 1.4672932\ttotal: 4.02s\tremaining: 2.32s\n",
      "634:\tlearn: 1.4654617\ttotal: 4.03s\tremaining: 2.32s\n",
      "635:\tlearn: 1.4652273\ttotal: 4.04s\tremaining: 2.31s\n",
      "636:\tlearn: 1.4647702\ttotal: 4.04s\tremaining: 2.3s\n",
      "637:\tlearn: 1.4644636\ttotal: 4.05s\tremaining: 2.3s\n",
      "638:\tlearn: 1.4642249\ttotal: 4.05s\tremaining: 2.29s\n",
      "639:\tlearn: 1.4639114\ttotal: 4.06s\tremaining: 2.28s\n",
      "640:\tlearn: 1.4622618\ttotal: 4.06s\tremaining: 2.27s\n",
      "641:\tlearn: 1.4611348\ttotal: 4.07s\tremaining: 2.27s\n",
      "642:\tlearn: 1.4609241\ttotal: 4.07s\tremaining: 2.26s\n",
      "643:\tlearn: 1.4607080\ttotal: 4.08s\tremaining: 2.25s\n",
      "644:\tlearn: 1.4585024\ttotal: 4.08s\tremaining: 2.25s\n",
      "645:\tlearn: 1.4577918\ttotal: 4.09s\tremaining: 2.24s\n",
      "646:\tlearn: 1.4575671\ttotal: 4.1s\tremaining: 2.24s\n",
      "647:\tlearn: 1.4569774\ttotal: 4.11s\tremaining: 2.23s\n",
      "648:\tlearn: 1.4552085\ttotal: 4.11s\tremaining: 2.22s\n",
      "649:\tlearn: 1.4545149\ttotal: 4.12s\tremaining: 2.22s\n",
      "650:\tlearn: 1.4534213\ttotal: 4.12s\tremaining: 2.21s\n",
      "651:\tlearn: 1.4532087\ttotal: 4.13s\tremaining: 2.2s\n",
      "652:\tlearn: 1.4529971\ttotal: 4.13s\tremaining: 2.2s\n",
      "653:\tlearn: 1.4522157\ttotal: 4.14s\tremaining: 2.19s\n",
      "654:\tlearn: 1.4510228\ttotal: 4.14s\tremaining: 2.18s\n",
      "655:\tlearn: 1.4493922\ttotal: 4.15s\tremaining: 2.18s\n",
      "656:\tlearn: 1.4486562\ttotal: 4.16s\tremaining: 2.17s\n",
      "657:\tlearn: 1.4483659\ttotal: 4.16s\tremaining: 2.16s\n",
      "658:\tlearn: 1.4477768\ttotal: 4.17s\tremaining: 2.16s\n",
      "659:\tlearn: 1.4466613\ttotal: 4.17s\tremaining: 2.15s\n",
      "660:\tlearn: 1.4463816\ttotal: 4.18s\tremaining: 2.14s\n",
      "661:\tlearn: 1.4451286\ttotal: 4.19s\tremaining: 2.14s\n",
      "662:\tlearn: 1.4449316\ttotal: 4.19s\tremaining: 2.13s\n",
      "663:\tlearn: 1.4444313\ttotal: 4.2s\tremaining: 2.12s\n",
      "664:\tlearn: 1.4442362\ttotal: 4.2s\tremaining: 2.12s\n",
      "665:\tlearn: 1.4440564\ttotal: 4.21s\tremaining: 2.11s\n",
      "666:\tlearn: 1.4438680\ttotal: 4.21s\tremaining: 2.1s\n",
      "667:\tlearn: 1.4430124\ttotal: 4.22s\tremaining: 2.1s\n",
      "668:\tlearn: 1.4423752\ttotal: 4.23s\tremaining: 2.09s\n",
      "669:\tlearn: 1.4421607\ttotal: 4.23s\tremaining: 2.08s\n",
      "670:\tlearn: 1.4419503\ttotal: 4.24s\tremaining: 2.08s\n",
      "671:\tlearn: 1.4412815\ttotal: 4.24s\tremaining: 2.07s\n",
      "672:\tlearn: 1.4411017\ttotal: 4.25s\tremaining: 2.06s\n",
      "673:\tlearn: 1.4408980\ttotal: 4.25s\tremaining: 2.06s\n",
      "674:\tlearn: 1.4403269\ttotal: 4.26s\tremaining: 2.05s\n",
      "675:\tlearn: 1.4385078\ttotal: 4.27s\tremaining: 2.04s\n",
      "676:\tlearn: 1.4383307\ttotal: 4.27s\tremaining: 2.04s\n",
      "677:\tlearn: 1.4376612\ttotal: 4.28s\tremaining: 2.03s\n"
     ]
    },
    {
     "name": "stdout",
     "output_type": "stream",
     "text": [
      "678:\tlearn: 1.4373887\ttotal: 4.28s\tremaining: 2.02s\n",
      "679:\tlearn: 1.4369739\ttotal: 4.29s\tremaining: 2.02s\n",
      "680:\tlearn: 1.4352593\ttotal: 4.3s\tremaining: 2.01s\n",
      "681:\tlearn: 1.4350574\ttotal: 4.3s\tremaining: 2.01s\n",
      "682:\tlearn: 1.4348843\ttotal: 4.31s\tremaining: 2s\n",
      "683:\tlearn: 1.4343041\ttotal: 4.32s\tremaining: 1.99s\n",
      "684:\tlearn: 1.4341353\ttotal: 4.32s\tremaining: 1.99s\n",
      "685:\tlearn: 1.4339601\ttotal: 4.33s\tremaining: 1.98s\n",
      "686:\tlearn: 1.4324094\ttotal: 4.34s\tremaining: 1.98s\n",
      "687:\tlearn: 1.4321540\ttotal: 4.34s\tremaining: 1.97s\n",
      "688:\tlearn: 1.4315431\ttotal: 4.35s\tremaining: 1.96s\n",
      "689:\tlearn: 1.4305913\ttotal: 4.35s\tremaining: 1.96s\n",
      "690:\tlearn: 1.4304285\ttotal: 4.36s\tremaining: 1.95s\n",
      "691:\tlearn: 1.4302525\ttotal: 4.37s\tremaining: 1.94s\n",
      "692:\tlearn: 1.4301278\ttotal: 4.37s\tremaining: 1.94s\n",
      "693:\tlearn: 1.4288987\ttotal: 4.38s\tremaining: 1.93s\n",
      "694:\tlearn: 1.4284947\ttotal: 4.38s\tremaining: 1.92s\n",
      "695:\tlearn: 1.4283143\ttotal: 4.39s\tremaining: 1.92s\n",
      "696:\tlearn: 1.4281028\ttotal: 4.39s\tremaining: 1.91s\n",
      "697:\tlearn: 1.4272252\ttotal: 4.4s\tremaining: 1.9s\n",
      "698:\tlearn: 1.4270710\ttotal: 4.41s\tremaining: 1.9s\n",
      "699:\tlearn: 1.4260391\ttotal: 4.41s\tremaining: 1.89s\n",
      "700:\tlearn: 1.4255858\ttotal: 4.42s\tremaining: 1.89s\n",
      "701:\tlearn: 1.4254359\ttotal: 4.42s\tremaining: 1.88s\n",
      "702:\tlearn: 1.4252747\ttotal: 4.43s\tremaining: 1.87s\n",
      "703:\tlearn: 1.4251295\ttotal: 4.44s\tremaining: 1.86s\n",
      "704:\tlearn: 1.4246618\ttotal: 4.44s\tremaining: 1.86s\n",
      "705:\tlearn: 1.4241284\ttotal: 4.45s\tremaining: 1.85s\n",
      "706:\tlearn: 1.4239851\ttotal: 4.45s\tremaining: 1.84s\n",
      "707:\tlearn: 1.4233764\ttotal: 4.46s\tremaining: 1.84s\n",
      "708:\tlearn: 1.4232108\ttotal: 4.46s\tremaining: 1.83s\n",
      "709:\tlearn: 1.4230486\ttotal: 4.47s\tremaining: 1.82s\n",
      "710:\tlearn: 1.4228861\ttotal: 4.48s\tremaining: 1.82s\n",
      "711:\tlearn: 1.4216591\ttotal: 4.48s\tremaining: 1.81s\n",
      "712:\tlearn: 1.4209116\ttotal: 4.49s\tremaining: 1.81s\n",
      "713:\tlearn: 1.4206222\ttotal: 4.5s\tremaining: 1.8s\n",
      "714:\tlearn: 1.4203888\ttotal: 4.5s\tremaining: 1.79s\n",
      "715:\tlearn: 1.4187995\ttotal: 4.51s\tremaining: 1.79s\n",
      "716:\tlearn: 1.4186628\ttotal: 4.51s\tremaining: 1.78s\n",
      "717:\tlearn: 1.4182369\ttotal: 4.52s\tremaining: 1.77s\n",
      "718:\tlearn: 1.4176491\ttotal: 4.53s\tremaining: 1.77s\n",
      "719:\tlearn: 1.4168993\ttotal: 4.53s\tremaining: 1.76s\n",
      "720:\tlearn: 1.4167652\ttotal: 4.54s\tremaining: 1.76s\n",
      "721:\tlearn: 1.4162822\ttotal: 4.55s\tremaining: 1.75s\n",
      "722:\tlearn: 1.4161404\ttotal: 4.55s\tremaining: 1.74s\n",
      "723:\tlearn: 1.4153308\ttotal: 4.56s\tremaining: 1.74s\n",
      "724:\tlearn: 1.4143999\ttotal: 4.57s\tremaining: 1.73s\n",
      "725:\tlearn: 1.4136377\ttotal: 4.57s\tremaining: 1.73s\n",
      "726:\tlearn: 1.4132192\ttotal: 4.58s\tremaining: 1.72s\n",
      "727:\tlearn: 1.4126990\ttotal: 4.58s\tremaining: 1.71s\n",
      "728:\tlearn: 1.4123106\ttotal: 4.59s\tremaining: 1.71s\n",
      "729:\tlearn: 1.4121744\ttotal: 4.6s\tremaining: 1.7s\n",
      "730:\tlearn: 1.4116724\ttotal: 4.6s\tremaining: 1.69s\n",
      "731:\tlearn: 1.4115397\ttotal: 4.61s\tremaining: 1.69s\n",
      "732:\tlearn: 1.4109406\ttotal: 4.62s\tremaining: 1.68s\n",
      "733:\tlearn: 1.4106922\ttotal: 4.62s\tremaining: 1.68s\n",
      "734:\tlearn: 1.4105639\ttotal: 4.63s\tremaining: 1.67s\n",
      "735:\tlearn: 1.4099707\ttotal: 4.63s\tremaining: 1.66s\n",
      "736:\tlearn: 1.4097340\ttotal: 4.64s\tremaining: 1.65s\n",
      "737:\tlearn: 1.4094800\ttotal: 4.64s\tremaining: 1.65s\n",
      "738:\tlearn: 1.4083985\ttotal: 4.65s\tremaining: 1.64s\n",
      "739:\tlearn: 1.4081402\ttotal: 4.66s\tremaining: 1.64s\n",
      "740:\tlearn: 1.4079978\ttotal: 4.66s\tremaining: 1.63s\n",
      "741:\tlearn: 1.4077976\ttotal: 4.67s\tremaining: 1.62s\n",
      "742:\tlearn: 1.4071218\ttotal: 4.67s\tremaining: 1.62s\n",
      "743:\tlearn: 1.4069773\ttotal: 4.68s\tremaining: 1.61s\n",
      "744:\tlearn: 1.4061830\ttotal: 4.69s\tremaining: 1.6s\n",
      "745:\tlearn: 1.4056725\ttotal: 4.7s\tremaining: 1.6s\n",
      "746:\tlearn: 1.4050522\ttotal: 4.7s\tremaining: 1.59s\n",
      "747:\tlearn: 1.4049074\ttotal: 4.71s\tremaining: 1.59s\n",
      "748:\tlearn: 1.4039744\ttotal: 4.71s\tremaining: 1.58s\n",
      "749:\tlearn: 1.4038548\ttotal: 4.72s\tremaining: 1.57s\n",
      "750:\tlearn: 1.4033753\ttotal: 4.73s\tremaining: 1.57s\n",
      "751:\tlearn: 1.4030622\ttotal: 4.73s\tremaining: 1.56s\n",
      "752:\tlearn: 1.4029403\ttotal: 4.74s\tremaining: 1.55s\n",
      "753:\tlearn: 1.4028034\ttotal: 4.75s\tremaining: 1.55s\n",
      "754:\tlearn: 1.4014860\ttotal: 4.75s\tremaining: 1.54s\n",
      "755:\tlearn: 1.4012389\ttotal: 4.76s\tremaining: 1.54s\n",
      "756:\tlearn: 1.4010080\ttotal: 4.77s\tremaining: 1.53s\n",
      "757:\tlearn: 1.3994149\ttotal: 4.77s\tremaining: 1.52s\n",
      "758:\tlearn: 1.3992780\ttotal: 4.78s\tremaining: 1.52s\n",
      "759:\tlearn: 1.3976090\ttotal: 4.79s\tremaining: 1.51s\n",
      "760:\tlearn: 1.3970161\ttotal: 4.79s\tremaining: 1.5s\n",
      "761:\tlearn: 1.3964436\ttotal: 4.8s\tremaining: 1.5s\n",
      "762:\tlearn: 1.3958386\ttotal: 4.81s\tremaining: 1.49s\n",
      "763:\tlearn: 1.3957195\ttotal: 4.81s\tremaining: 1.49s\n",
      "764:\tlearn: 1.3955344\ttotal: 4.82s\tremaining: 1.48s\n",
      "765:\tlearn: 1.3952983\ttotal: 4.83s\tremaining: 1.48s\n",
      "766:\tlearn: 1.3945160\ttotal: 4.83s\tremaining: 1.47s\n",
      "767:\tlearn: 1.3943818\ttotal: 4.84s\tremaining: 1.46s\n",
      "768:\tlearn: 1.3938224\ttotal: 4.85s\tremaining: 1.46s\n",
      "769:\tlearn: 1.3936906\ttotal: 4.86s\tremaining: 1.45s\n",
      "770:\tlearn: 1.3931284\ttotal: 4.86s\tremaining: 1.44s\n",
      "771:\tlearn: 1.3923393\ttotal: 4.87s\tremaining: 1.44s\n",
      "772:\tlearn: 1.3912746\ttotal: 4.88s\tremaining: 1.43s\n",
      "773:\tlearn: 1.3903563\ttotal: 4.88s\tremaining: 1.43s\n",
      "774:\tlearn: 1.3896650\ttotal: 4.89s\tremaining: 1.42s\n",
      "775:\tlearn: 1.3886235\ttotal: 4.9s\tremaining: 1.41s\n",
      "776:\tlearn: 1.3885075\ttotal: 4.91s\tremaining: 1.41s\n",
      "777:\tlearn: 1.3882769\ttotal: 4.91s\tremaining: 1.4s\n",
      "778:\tlearn: 1.3874070\ttotal: 4.92s\tremaining: 1.4s\n",
      "779:\tlearn: 1.3872949\ttotal: 4.92s\tremaining: 1.39s\n",
      "780:\tlearn: 1.3871813\ttotal: 4.93s\tremaining: 1.38s\n",
      "781:\tlearn: 1.3870727\ttotal: 4.94s\tremaining: 1.38s\n",
      "782:\tlearn: 1.3862460\ttotal: 4.95s\tremaining: 1.37s\n",
      "783:\tlearn: 1.3859052\ttotal: 4.95s\tremaining: 1.36s\n",
      "784:\tlearn: 1.3855595\ttotal: 4.96s\tremaining: 1.36s\n",
      "785:\tlearn: 1.3854508\ttotal: 4.96s\tremaining: 1.35s\n",
      "786:\tlearn: 1.3847097\ttotal: 4.97s\tremaining: 1.34s\n",
      "787:\tlearn: 1.3838474\ttotal: 4.98s\tremaining: 1.34s\n",
      "788:\tlearn: 1.3837226\ttotal: 4.99s\tremaining: 1.33s\n",
      "789:\tlearn: 1.3826824\ttotal: 4.99s\tremaining: 1.33s\n",
      "790:\tlearn: 1.3818130\ttotal: 5s\tremaining: 1.32s\n",
      "791:\tlearn: 1.3805623\ttotal: 5.01s\tremaining: 1.31s\n",
      "792:\tlearn: 1.3794696\ttotal: 5.01s\tremaining: 1.31s\n",
      "793:\tlearn: 1.3779327\ttotal: 5.02s\tremaining: 1.3s\n",
      "794:\tlearn: 1.3769143\ttotal: 5.03s\tremaining: 1.3s\n",
      "795:\tlearn: 1.3764965\ttotal: 5.03s\tremaining: 1.29s\n",
      "796:\tlearn: 1.3757673\ttotal: 5.04s\tremaining: 1.28s\n",
      "797:\tlearn: 1.3748452\ttotal: 5.05s\tremaining: 1.28s\n",
      "798:\tlearn: 1.3747366\ttotal: 5.05s\tremaining: 1.27s\n",
      "799:\tlearn: 1.3746328\ttotal: 5.06s\tremaining: 1.26s\n",
      "800:\tlearn: 1.3745199\ttotal: 5.07s\tremaining: 1.26s\n",
      "801:\tlearn: 1.3740480\ttotal: 5.08s\tremaining: 1.25s\n",
      "802:\tlearn: 1.3730516\ttotal: 5.08s\tremaining: 1.25s\n",
      "803:\tlearn: 1.3728640\ttotal: 5.09s\tremaining: 1.24s\n",
      "804:\tlearn: 1.3727643\ttotal: 5.1s\tremaining: 1.24s\n",
      "805:\tlearn: 1.3719332\ttotal: 5.11s\tremaining: 1.23s\n",
      "806:\tlearn: 1.3718367\ttotal: 5.11s\tremaining: 1.22s\n",
      "807:\tlearn: 1.3717326\ttotal: 5.12s\tremaining: 1.22s\n",
      "808:\tlearn: 1.3712051\ttotal: 5.13s\tremaining: 1.21s\n",
      "809:\tlearn: 1.3708085\ttotal: 5.13s\tremaining: 1.2s\n",
      "810:\tlearn: 1.3699820\ttotal: 5.14s\tremaining: 1.2s\n",
      "811:\tlearn: 1.3698812\ttotal: 5.14s\tremaining: 1.19s\n",
      "812:\tlearn: 1.3694172\ttotal: 5.15s\tremaining: 1.18s\n",
      "813:\tlearn: 1.3685510\ttotal: 5.15s\tremaining: 1.18s\n",
      "814:\tlearn: 1.3680647\ttotal: 5.16s\tremaining: 1.17s\n",
      "815:\tlearn: 1.3675280\ttotal: 5.17s\tremaining: 1.16s\n",
      "816:\tlearn: 1.3674282\ttotal: 5.17s\tremaining: 1.16s\n",
      "817:\tlearn: 1.3665766\ttotal: 5.18s\tremaining: 1.15s\n",
      "818:\tlearn: 1.3657035\ttotal: 5.18s\tremaining: 1.15s\n",
      "819:\tlearn: 1.3633697\ttotal: 5.19s\tremaining: 1.14s\n",
      "820:\tlearn: 1.3630096\ttotal: 5.2s\tremaining: 1.13s\n",
      "821:\tlearn: 1.3624485\ttotal: 5.2s\tremaining: 1.13s\n",
      "822:\tlearn: 1.3623496\ttotal: 5.21s\tremaining: 1.12s\n",
      "823:\tlearn: 1.3616673\ttotal: 5.21s\tremaining: 1.11s\n",
      "824:\tlearn: 1.3609283\ttotal: 5.22s\tremaining: 1.11s\n",
      "825:\tlearn: 1.3608006\ttotal: 5.22s\tremaining: 1.1s\n",
      "826:\tlearn: 1.3596348\ttotal: 5.23s\tremaining: 1.09s\n",
      "827:\tlearn: 1.3589101\ttotal: 5.23s\tremaining: 1.09s\n",
      "828:\tlearn: 1.3580356\ttotal: 5.24s\tremaining: 1.08s\n",
      "829:\tlearn: 1.3579285\ttotal: 5.25s\tremaining: 1.07s\n",
      "830:\tlearn: 1.3574351\ttotal: 5.25s\tremaining: 1.07s\n",
      "831:\tlearn: 1.3573363\ttotal: 5.26s\tremaining: 1.06s\n",
      "832:\tlearn: 1.3569433\ttotal: 5.26s\tremaining: 1.05s\n",
      "833:\tlearn: 1.3561715\ttotal: 5.27s\tremaining: 1.05s\n",
      "834:\tlearn: 1.3550926\ttotal: 5.28s\tremaining: 1.04s\n",
      "835:\tlearn: 1.3540832\ttotal: 5.28s\tremaining: 1.04s\n",
      "836:\tlearn: 1.3539768\ttotal: 5.29s\tremaining: 1.03s\n",
      "837:\tlearn: 1.3533723\ttotal: 5.29s\tremaining: 1.02s\n",
      "838:\tlearn: 1.3525411\ttotal: 5.3s\tremaining: 1.02s\n",
      "839:\tlearn: 1.3517759\ttotal: 5.3s\tremaining: 1.01s\n",
      "840:\tlearn: 1.3516442\ttotal: 5.31s\tremaining: 1s\n",
      "841:\tlearn: 1.3515531\ttotal: 5.32s\tremaining: 998ms\n",
      "842:\tlearn: 1.3514635\ttotal: 5.32s\tremaining: 991ms\n",
      "843:\tlearn: 1.3510044\ttotal: 5.33s\tremaining: 985ms\n",
      "844:\tlearn: 1.3502378\ttotal: 5.33s\tremaining: 979ms\n",
      "845:\tlearn: 1.3500436\ttotal: 5.34s\tremaining: 972ms\n",
      "846:\tlearn: 1.3499169\ttotal: 5.35s\tremaining: 966ms\n",
      "847:\tlearn: 1.3495803\ttotal: 5.35s\tremaining: 959ms\n",
      "848:\tlearn: 1.3494845\ttotal: 5.36s\tremaining: 953ms\n",
      "849:\tlearn: 1.3491868\ttotal: 5.36s\tremaining: 947ms\n",
      "850:\tlearn: 1.3488676\ttotal: 5.37s\tremaining: 940ms\n",
      "851:\tlearn: 1.3486403\ttotal: 5.38s\tremaining: 934ms\n",
      "852:\tlearn: 1.3475103\ttotal: 5.38s\tremaining: 927ms\n",
      "853:\tlearn: 1.3465896\ttotal: 5.39s\tremaining: 921ms\n",
      "854:\tlearn: 1.3465050\ttotal: 5.39s\tremaining: 915ms\n",
      "855:\tlearn: 1.3460878\ttotal: 5.4s\tremaining: 908ms\n",
      "856:\tlearn: 1.3459399\ttotal: 5.4s\tremaining: 902ms\n",
      "857:\tlearn: 1.3455434\ttotal: 5.41s\tremaining: 895ms\n",
      "858:\tlearn: 1.3451945\ttotal: 5.42s\tremaining: 889ms\n",
      "859:\tlearn: 1.3449324\ttotal: 5.42s\tremaining: 882ms\n",
      "860:\tlearn: 1.3437937\ttotal: 5.43s\tremaining: 876ms\n",
      "861:\tlearn: 1.3436921\ttotal: 5.43s\tremaining: 870ms\n",
      "862:\tlearn: 1.3432775\ttotal: 5.44s\tremaining: 863ms\n",
      "863:\tlearn: 1.3420624\ttotal: 5.44s\tremaining: 857ms\n",
      "864:\tlearn: 1.3419612\ttotal: 5.45s\tremaining: 850ms\n"
     ]
    },
    {
     "name": "stdout",
     "output_type": "stream",
     "text": [
      "865:\tlearn: 1.3418824\ttotal: 5.45s\tremaining: 844ms\n",
      "866:\tlearn: 1.3415881\ttotal: 5.46s\tremaining: 838ms\n",
      "867:\tlearn: 1.3414336\ttotal: 5.47s\tremaining: 832ms\n",
      "868:\tlearn: 1.3413394\ttotal: 5.47s\tremaining: 825ms\n",
      "869:\tlearn: 1.3410061\ttotal: 5.48s\tremaining: 819ms\n",
      "870:\tlearn: 1.3404761\ttotal: 5.49s\tremaining: 813ms\n",
      "871:\tlearn: 1.3401101\ttotal: 5.49s\tremaining: 806ms\n",
      "872:\tlearn: 1.3398127\ttotal: 5.5s\tremaining: 800ms\n",
      "873:\tlearn: 1.3397388\ttotal: 5.5s\tremaining: 793ms\n",
      "874:\tlearn: 1.3390780\ttotal: 5.51s\tremaining: 787ms\n",
      "875:\tlearn: 1.3390017\ttotal: 5.51s\tremaining: 781ms\n",
      "876:\tlearn: 1.3384716\ttotal: 5.52s\tremaining: 774ms\n",
      "877:\tlearn: 1.3375109\ttotal: 5.53s\tremaining: 768ms\n",
      "878:\tlearn: 1.3374346\ttotal: 5.53s\tremaining: 762ms\n",
      "879:\tlearn: 1.3373105\ttotal: 5.54s\tremaining: 756ms\n",
      "880:\tlearn: 1.3372361\ttotal: 5.55s\tremaining: 749ms\n",
      "881:\tlearn: 1.3367877\ttotal: 5.55s\tremaining: 743ms\n",
      "882:\tlearn: 1.3362735\ttotal: 5.56s\tremaining: 736ms\n",
      "883:\tlearn: 1.3356478\ttotal: 5.56s\tremaining: 730ms\n",
      "884:\tlearn: 1.3353005\ttotal: 5.57s\tremaining: 724ms\n",
      "885:\tlearn: 1.3351871\ttotal: 5.57s\tremaining: 717ms\n",
      "886:\tlearn: 1.3347351\ttotal: 5.58s\tremaining: 711ms\n",
      "887:\tlearn: 1.3341167\ttotal: 5.59s\tremaining: 705ms\n",
      "888:\tlearn: 1.3340450\ttotal: 5.59s\tremaining: 698ms\n",
      "889:\tlearn: 1.3333926\ttotal: 5.6s\tremaining: 692ms\n",
      "890:\tlearn: 1.3333218\ttotal: 5.6s\tremaining: 685ms\n",
      "891:\tlearn: 1.3324022\ttotal: 5.61s\tremaining: 679ms\n",
      "892:\tlearn: 1.3319980\ttotal: 5.61s\tremaining: 673ms\n",
      "893:\tlearn: 1.3319280\ttotal: 5.62s\tremaining: 666ms\n",
      "894:\tlearn: 1.3313988\ttotal: 5.63s\tremaining: 660ms\n",
      "895:\tlearn: 1.3307948\ttotal: 5.63s\tremaining: 654ms\n",
      "896:\tlearn: 1.3303048\ttotal: 5.64s\tremaining: 647ms\n",
      "897:\tlearn: 1.3299628\ttotal: 5.64s\tremaining: 641ms\n",
      "898:\tlearn: 1.3291492\ttotal: 5.65s\tremaining: 635ms\n",
      "899:\tlearn: 1.3289126\ttotal: 5.66s\tremaining: 628ms\n",
      "900:\tlearn: 1.3279622\ttotal: 5.66s\tremaining: 622ms\n",
      "901:\tlearn: 1.3276450\ttotal: 5.67s\tremaining: 616ms\n",
      "902:\tlearn: 1.3269137\ttotal: 5.67s\tremaining: 609ms\n",
      "903:\tlearn: 1.3266410\ttotal: 5.68s\tremaining: 603ms\n",
      "904:\tlearn: 1.3265739\ttotal: 5.68s\tremaining: 597ms\n",
      "905:\tlearn: 1.3256204\ttotal: 5.69s\tremaining: 590ms\n",
      "906:\tlearn: 1.3248194\ttotal: 5.7s\tremaining: 584ms\n",
      "907:\tlearn: 1.3241423\ttotal: 5.7s\tremaining: 578ms\n",
      "908:\tlearn: 1.3227945\ttotal: 5.71s\tremaining: 571ms\n",
      "909:\tlearn: 1.3218790\ttotal: 5.71s\tremaining: 565ms\n",
      "910:\tlearn: 1.3212539\ttotal: 5.72s\tremaining: 559ms\n",
      "911:\tlearn: 1.3211862\ttotal: 5.72s\tremaining: 552ms\n",
      "912:\tlearn: 1.3208377\ttotal: 5.73s\tremaining: 546ms\n",
      "913:\tlearn: 1.3203912\ttotal: 5.74s\tremaining: 540ms\n",
      "914:\tlearn: 1.3197553\ttotal: 5.74s\tremaining: 534ms\n",
      "915:\tlearn: 1.3187407\ttotal: 5.75s\tremaining: 527ms\n",
      "916:\tlearn: 1.3185314\ttotal: 5.75s\tremaining: 521ms\n",
      "917:\tlearn: 1.3172250\ttotal: 5.76s\tremaining: 515ms\n",
      "918:\tlearn: 1.3168153\ttotal: 5.76s\tremaining: 508ms\n",
      "919:\tlearn: 1.3166741\ttotal: 5.77s\tremaining: 502ms\n",
      "920:\tlearn: 1.3165809\ttotal: 5.78s\tremaining: 496ms\n",
      "921:\tlearn: 1.3159894\ttotal: 5.78s\tremaining: 489ms\n",
      "922:\tlearn: 1.3159143\ttotal: 5.79s\tremaining: 483ms\n",
      "923:\tlearn: 1.3155037\ttotal: 5.79s\tremaining: 477ms\n",
      "924:\tlearn: 1.3154381\ttotal: 5.8s\tremaining: 470ms\n",
      "925:\tlearn: 1.3153726\ttotal: 5.8s\tremaining: 464ms\n",
      "926:\tlearn: 1.3146492\ttotal: 5.81s\tremaining: 458ms\n",
      "927:\tlearn: 1.3142202\ttotal: 5.82s\tremaining: 451ms\n",
      "928:\tlearn: 1.3138563\ttotal: 5.82s\tremaining: 445ms\n",
      "929:\tlearn: 1.3137450\ttotal: 5.83s\tremaining: 439ms\n",
      "930:\tlearn: 1.3132473\ttotal: 5.83s\tremaining: 432ms\n",
      "931:\tlearn: 1.3129779\ttotal: 5.84s\tremaining: 426ms\n",
      "932:\tlearn: 1.3127581\ttotal: 5.85s\tremaining: 420ms\n",
      "933:\tlearn: 1.3117273\ttotal: 5.85s\tremaining: 414ms\n",
      "934:\tlearn: 1.3108613\ttotal: 5.86s\tremaining: 407ms\n",
      "935:\tlearn: 1.3104170\ttotal: 5.86s\tremaining: 401ms\n",
      "936:\tlearn: 1.3096819\ttotal: 5.87s\tremaining: 395ms\n",
      "937:\tlearn: 1.3096240\ttotal: 5.87s\tremaining: 388ms\n",
      "938:\tlearn: 1.3089956\ttotal: 5.88s\tremaining: 382ms\n",
      "939:\tlearn: 1.3079158\ttotal: 5.88s\tremaining: 376ms\n",
      "940:\tlearn: 1.3078233\ttotal: 5.89s\tremaining: 369ms\n",
      "941:\tlearn: 1.3071844\ttotal: 5.9s\tremaining: 363ms\n",
      "942:\tlearn: 1.3067593\ttotal: 5.9s\tremaining: 357ms\n",
      "943:\tlearn: 1.3065344\ttotal: 5.91s\tremaining: 350ms\n",
      "944:\tlearn: 1.3060860\ttotal: 5.91s\tremaining: 344ms\n",
      "945:\tlearn: 1.3057560\ttotal: 5.92s\tremaining: 338ms\n",
      "946:\tlearn: 1.3056891\ttotal: 5.92s\tremaining: 332ms\n",
      "947:\tlearn: 1.3053336\ttotal: 5.93s\tremaining: 325ms\n",
      "948:\tlearn: 1.3045173\ttotal: 5.94s\tremaining: 319ms\n",
      "949:\tlearn: 1.3039257\ttotal: 5.94s\tremaining: 313ms\n",
      "950:\tlearn: 1.3038440\ttotal: 5.95s\tremaining: 307ms\n",
      "951:\tlearn: 1.3026055\ttotal: 5.95s\tremaining: 300ms\n",
      "952:\tlearn: 1.3018997\ttotal: 5.96s\tremaining: 294ms\n",
      "953:\tlearn: 1.3014141\ttotal: 5.96s\tremaining: 288ms\n",
      "954:\tlearn: 1.3008158\ttotal: 5.97s\tremaining: 281ms\n",
      "955:\tlearn: 1.3004820\ttotal: 5.98s\tremaining: 275ms\n",
      "956:\tlearn: 1.2991232\ttotal: 5.98s\tremaining: 269ms\n",
      "957:\tlearn: 1.2987538\ttotal: 5.99s\tremaining: 263ms\n",
      "958:\tlearn: 1.2971795\ttotal: 5.99s\tremaining: 256ms\n",
      "959:\tlearn: 1.2971237\ttotal: 6s\tremaining: 250ms\n",
      "960:\tlearn: 1.2968367\ttotal: 6s\tremaining: 244ms\n",
      "961:\tlearn: 1.2959994\ttotal: 6.01s\tremaining: 237ms\n",
      "962:\tlearn: 1.2959464\ttotal: 6.02s\tremaining: 231ms\n",
      "963:\tlearn: 1.2958916\ttotal: 6.02s\tremaining: 225ms\n",
      "964:\tlearn: 1.2955123\ttotal: 6.03s\tremaining: 219ms\n",
      "965:\tlearn: 1.2952930\ttotal: 6.03s\tremaining: 212ms\n",
      "966:\tlearn: 1.2947648\ttotal: 6.04s\tremaining: 206ms\n",
      "967:\tlearn: 1.2943029\ttotal: 6.05s\tremaining: 200ms\n",
      "968:\tlearn: 1.2933875\ttotal: 6.05s\tremaining: 194ms\n",
      "969:\tlearn: 1.2930349\ttotal: 6.06s\tremaining: 187ms\n",
      "970:\tlearn: 1.2919309\ttotal: 6.07s\tremaining: 181ms\n",
      "971:\tlearn: 1.2918443\ttotal: 6.07s\tremaining: 175ms\n",
      "972:\tlearn: 1.2917852\ttotal: 6.08s\tremaining: 169ms\n",
      "973:\tlearn: 1.2917333\ttotal: 6.08s\tremaining: 162ms\n",
      "974:\tlearn: 1.2910378\ttotal: 6.09s\tremaining: 156ms\n",
      "975:\tlearn: 1.2905009\ttotal: 6.09s\tremaining: 150ms\n",
      "976:\tlearn: 1.2904384\ttotal: 6.1s\tremaining: 144ms\n",
      "977:\tlearn: 1.2903791\ttotal: 6.11s\tremaining: 137ms\n",
      "978:\tlearn: 1.2898060\ttotal: 6.11s\tremaining: 131ms\n",
      "979:\tlearn: 1.2891443\ttotal: 6.12s\tremaining: 125ms\n",
      "980:\tlearn: 1.2890913\ttotal: 6.12s\tremaining: 119ms\n",
      "981:\tlearn: 1.2888327\ttotal: 6.13s\tremaining: 112ms\n",
      "982:\tlearn: 1.2883610\ttotal: 6.13s\tremaining: 106ms\n",
      "983:\tlearn: 1.2879117\ttotal: 6.14s\tremaining: 99.8ms\n",
      "984:\tlearn: 1.2875437\ttotal: 6.14s\tremaining: 93.6ms\n",
      "985:\tlearn: 1.2870238\ttotal: 6.15s\tremaining: 87.3ms\n",
      "986:\tlearn: 1.2869737\ttotal: 6.16s\tremaining: 81.1ms\n",
      "987:\tlearn: 1.2869008\ttotal: 6.16s\tremaining: 74.8ms\n",
      "988:\tlearn: 1.2865867\ttotal: 6.17s\tremaining: 68.6ms\n",
      "989:\tlearn: 1.2863155\ttotal: 6.17s\tremaining: 62.4ms\n",
      "990:\tlearn: 1.2858371\ttotal: 6.18s\tremaining: 56.1ms\n",
      "991:\tlearn: 1.2852698\ttotal: 6.18s\tremaining: 49.9ms\n",
      "992:\tlearn: 1.2850812\ttotal: 6.19s\tremaining: 43.6ms\n",
      "993:\tlearn: 1.2842911\ttotal: 6.2s\tremaining: 37.4ms\n",
      "994:\tlearn: 1.2834866\ttotal: 6.2s\tremaining: 31.2ms\n",
      "995:\tlearn: 1.2831645\ttotal: 6.21s\tremaining: 24.9ms\n",
      "996:\tlearn: 1.2823828\ttotal: 6.21s\tremaining: 18.7ms\n",
      "997:\tlearn: 1.2823285\ttotal: 6.22s\tremaining: 12.5ms\n",
      "998:\tlearn: 1.2822497\ttotal: 6.22s\tremaining: 6.23ms\n",
      "999:\tlearn: 1.2815964\ttotal: 6.23s\tremaining: 0us\n"
     ]
    }
   ],
   "source": [
    "algorithme = CatBoostRegressor(task_type=\"CPU\")\n",
    "modele     = algorithme.fit(X_train, y_train)\n",
    "score      = algorithme.score(X_test, y_test)\n",
    "performances['catboost'] = score"
   ]
  },
  {
   "cell_type": "markdown",
   "metadata": {},
   "source": [
    "### Simple visualisation des performances des différents algos"
   ]
  },
  {
   "cell_type": "code",
   "execution_count": 901,
   "metadata": {},
   "outputs": [
    {
     "data": {
      "text/html": [
       "<div>\n",
       "<style scoped>\n",
       "    .dataframe tbody tr th:only-of-type {\n",
       "        vertical-align: middle;\n",
       "    }\n",
       "\n",
       "    .dataframe tbody tr th {\n",
       "        vertical-align: top;\n",
       "    }\n",
       "\n",
       "    .dataframe thead th {\n",
       "        text-align: right;\n",
       "    }\n",
       "</style>\n",
       "<table border=\"1\" class=\"dataframe\">\n",
       "  <thead>\n",
       "    <tr style=\"text-align: right;\">\n",
       "      <th></th>\n",
       "      <th>perf</th>\n",
       "      <th>algo</th>\n",
       "    </tr>\n",
       "    <tr>\n",
       "      <th>nom_algo</th>\n",
       "      <th></th>\n",
       "      <th></th>\n",
       "    </tr>\n",
       "  </thead>\n",
       "  <tbody>\n",
       "    <tr>\n",
       "      <td>LinearRegression</td>\n",
       "      <td>0.732352</td>\n",
       "      <td>LinearRegression(copy_X=True, fit_intercept=Tr...</td>\n",
       "    </tr>\n",
       "    <tr>\n",
       "      <td>DecisionTreeRegressor</td>\n",
       "      <td>0.856992</td>\n",
       "      <td>DecisionTreeRegressor(criterion='mse', max_dep...</td>\n",
       "    </tr>\n",
       "    <tr>\n",
       "      <td>RandomForestRegressor</td>\n",
       "      <td>0.900595</td>\n",
       "      <td>(DecisionTreeRegressor(criterion='mse', max_de...</td>\n",
       "    </tr>\n",
       "    <tr>\n",
       "      <td>RandomForestRegressor</td>\n",
       "      <td>0.899518</td>\n",
       "      <td>(DecisionTreeRegressor(criterion='mse', max_de...</td>\n",
       "    </tr>\n",
       "    <tr>\n",
       "      <td>ExtraTreesRegressor</td>\n",
       "      <td>0.907262</td>\n",
       "      <td>(ExtraTreeRegressor(criterion='mse', max_depth...</td>\n",
       "    </tr>\n",
       "    <tr>\n",
       "      <td>SVR</td>\n",
       "      <td>0.746305</td>\n",
       "      <td>SVR(C=1.0, cache_size=200, coef0=0.0, degree=3...</td>\n",
       "    </tr>\n",
       "    <tr>\n",
       "      <td>catboost</td>\n",
       "      <td>0.911539</td>\n",
       "      <td>catboost</td>\n",
       "    </tr>\n",
       "  </tbody>\n",
       "</table>\n",
       "</div>"
      ],
      "text/plain": [
       "                           perf                                               algo\n",
       "nom_algo                                                                          \n",
       "LinearRegression       0.732352  LinearRegression(copy_X=True, fit_intercept=Tr...\n",
       "DecisionTreeRegressor  0.856992  DecisionTreeRegressor(criterion='mse', max_dep...\n",
       "RandomForestRegressor  0.900595  (DecisionTreeRegressor(criterion='mse', max_de...\n",
       "RandomForestRegressor  0.899518  (DecisionTreeRegressor(criterion='mse', max_de...\n",
       "ExtraTreesRegressor    0.907262  (ExtraTreeRegressor(criterion='mse', max_depth...\n",
       "SVR                    0.746305  SVR(C=1.0, cache_size=200, coef0=0.0, degree=3...\n",
       "catboost               0.911539                                           catboost"
      ]
     },
     "execution_count": 901,
     "metadata": {},
     "output_type": "execute_result"
    }
   ],
   "source": [
    "from collections import OrderedDict\n",
    "dico_ordonne = OrderedDict(performances)\n",
    "\n",
    "import pandas as pd\n",
    "df = pd.DataFrame()\n",
    "df[\"perf\"] = dico_ordonne.values()\n",
    "df[\"algo\"] = dico_ordonne.keys()\n",
    "df['nom_algo'] = df.algo.apply(lambda algo: str(algo).split('(')[0])\n",
    "df.set_index('nom_algo', inplace=True)\n",
    "df"
   ]
  },
  {
   "cell_type": "code",
   "execution_count": 908,
   "metadata": {},
   "outputs": [
    {
     "data": {
      "text/plain": [
       "<matplotlib.axes._subplots.AxesSubplot at 0x1a30bef780>"
      ]
     },
     "execution_count": 908,
     "metadata": {},
     "output_type": "execute_result"
    },
    {
     "data": {
      "image/png": "[encoded data removed]",
      "text/plain": [
       "<Figure size 432x288 with 1 Axes>"
      ]
     },
     "metadata": {},
     "output_type": "display_data"
    }
   ],
   "source": [
    "df[[\"perf\"]].plot(kind='line', rot=60)"
   ]
  },
  {
   "cell_type": "markdown",
   "metadata": {},
   "source": [
    "## Aller au delà des hyperparamètres par défaut d'un modèle avec GridSearch"
   ]
  },
  {
   "cell_type": "markdown",
   "metadata": {},
   "source": [
    "mieux d'utiliser n_jobs=-1 si plusieurs CPU pour paralléliser"
   ]
  },
  {
   "cell_type": "markdown",
   "metadata": {},
   "source": [
    "Par défaut scikit-learn optimise les hyperparamètres tout en faisant une **cross-validation**. Sans celle-ci, c’est comme si le modèle optimisait ses coefficients sur la base d’apprentissage et ses hyperparamètres sur la base de test. De ce fait, toutes les données servent à optimiser un paramètre. La cross-validation limite en **vérifiant la stabilité de l’apprentissage sur plusieurs découpages**. On peut également découper en train / test / validation mais cela réduit d’autant le nombre de données pour apprendre."
   ]
  },
  {
   "cell_type": "markdown",
   "metadata": {},
   "source": [
    "Stackoverflow : \n",
    "- All estimators in scikit where name ends with CV perform cross-validation. But you need to keep a separate test set for measuring the performance.\n",
    "\n",
    "- So you need to split your whole data to train and test. Forget about this test data for a while.\n",
    "\n",
    "- And then pass this train data only to grid-search. GridSearch will split this train data further into train and test to tune the hyper-parameters passed to it. And finally fit the model on the whole train data with best found parameters.\n",
    "\n",
    "- Now you need to test this model on the test data you kept aside in the beginning. This will give you the near real world performance of model.\n",
    "\n",
    "- If you use the whole data into GridSearchCV, then there would be leakage of test data into parameter tuning and then the final model may not perform that well on newer unseen data.\n",
    "\n"
   ]
  },
  {
   "cell_type": "code",
   "execution_count": 832,
   "metadata": {},
   "outputs": [],
   "source": [
    "from sklearn import grid_search"
   ]
  },
  {
   "cell_type": "code",
   "execution_count": 833,
   "metadata": {},
   "outputs": [],
   "source": [
    "hyperparametres_possibles = {\n",
    "    'C'     : [0.5, 1, 1.5],\n",
    "    'gamma' :[0.5, 0.1, 0.15]\n",
    "}\n",
    "grid = grid_search.GridSearchCV(estimator=svm.SVR(), \n",
    "                                param_grid=hyperparametres_possibles, \n",
    "                                n_jobs=-1, cv=10, verbose=2)"
   ]
  },
  {
   "cell_type": "markdown",
   "metadata": {},
   "source": [
    "### ON ENTRAINE TOUJOURS LA GRILLE SUR LES DONNÉES D'ENTRAINEMENT !"
   ]
  },
  {
   "cell_type": "code",
   "execution_count": 834,
   "metadata": {},
   "outputs": [
    {
     "name": "stdout",
     "output_type": "stream",
     "text": [
      "Fitting 10 folds for each of 9 candidates, totalling 90 fits\n",
      "[CV] C=0.5, gamma=0.5 ................................................\n",
      "[CV] C=0.5, gamma=0.5 ................................................\n",
      "[CV] C=0.5, gamma=0.5 ................................................\n",
      "[CV] C=0.5, gamma=0.5 ................................................\n",
      "[CV] C=0.5, gamma=0.5 ................................................\n",
      "[CV] C=0.5, gamma=0.5 ................................................\n",
      "[CV] C=0.5, gamma=0.5 ................................................\n",
      "[CV] C=0.5, gamma=0.5 ................................................\n",
      "[CV] ....................................... C=0.5, gamma=0.5 -   0.0s\n",
      "[CV] ....................................... C=0.5, gamma=0.5 -   0.0s\n",
      "[CV] ....................................... C=0.5, gamma=0.5 -   0.0s\n",
      "[CV] C=0.5, gamma=0.5 ................................................\n",
      "[CV] ....................................... C=0.5, gamma=0.5 -   0.0s\n",
      "[CV] C=0.5, gamma=0.5 ................................................\n",
      "[CV] ....................................... C=0.5, gamma=0.5 -   0.0s\n",
      "[CV] ....................................... C=0.5, gamma=0.5 -   0.0s\n",
      "[CV] ....................................... C=0.5, gamma=0.5 -   0.0s\n",
      "[CV] ....................................... C=0.5, gamma=0.5 -   0.0s\n",
      "[CV] C=0.5, gamma=0.1 ................................................\n",
      "[CV] C=0.5, gamma=0.1 ................................................\n",
      "[CV] C=0.5, gamma=0.1 ................................................\n",
      "[CV] ....................................... C=0.5, gamma=0.5 -   0.0s\n",
      "[CV] ....................................... C=0.5, gamma=0.5 -   0.0s\n",
      "[CV] C=0.5, gamma=0.1 ................................................\n",
      "[CV] C=0.5, gamma=0.1 ................................................\n",
      "[CV] C=0.5, gamma=0.1 ................................................\n",
      "[CV] C=0.5, gamma=0.1 ................................................\n",
      "[CV] C=0.5, gamma=0.15 ...............................................\n",
      "[CV] ....................................... C=0.5, gamma=0.1 -   0.0s\n",
      "[CV] ....................................... C=0.5, gamma=0.1 -   0.0s\n",
      "[CV] ....................................... C=0.5, gamma=0.1 -   0.0s\n",
      "[CV] C=0.5, gamma=0.15 ...............................................\n",
      "[CV] ....................................... C=0.5, gamma=0.1 -   0.0s\n",
      "[CV] ....................................... C=0.5, gamma=0.1 -   0.0s\n",
      "[CV] C=1, gamma=0.5 ..................................................\n",
      "[CV] ....................................... C=0.5, gamma=0.1 -   0.0s\n",
      "[CV] ....................................... C=0.5, gamma=0.1 -   0.0s\n",
      "[CV] ...................................... C=0.5, gamma=0.15 -   0.0s\n",
      "[CV] C=0.5, gamma=0.1 ................................................\n",
      "[CV] C=0.5, gamma=0.15 ...............................................\n",
      "[CV] ...................................... C=0.5, gamma=0.15 -   0.0s\n",
      "[CV] ......................................... C=1, gamma=0.5 -   0.0s\n",
      "[CV] C=1, gamma=0.1 ..................................................\n",
      "[CV] C=1, gamma=0.5 ..................................................\n",
      "[CV] C=0.5, gamma=0.15 ...............................................\n",
      "[CV] ....................................... C=0.5, gamma=0.1 -   0.0s\n",
      "[CV] ...................................... C=0.5, gamma=0.15 -   0.0s\n",
      "[CV] C=1, gamma=0.1 ..................................................\n",
      "[CV] C=0.5, gamma=0.1 ................................................\n",
      "[CV] C=0.5, gamma=0.15 ...............................................\n",
      "[CV] C=1, gamma=0.15 .................................................\n",
      "[CV] C=1, gamma=0.15 .................................................\n",
      "[CV] ......................................... C=1, gamma=0.5 -   0.0s\n",
      "[CV] ...................................... C=0.5, gamma=0.15 -   0.0s\n",
      "[CV] ....................................... C=0.5, gamma=0.1 -   0.0s\n",
      "[CV] C=1, gamma=0.5 ..................................................\n",
      "[CV] C=0.5, gamma=0.15 ...............................................\n",
      "[CV] C=0.5, gamma=0.1 ................................................\n",
      "[CV] ........................................ C=1, gamma=0.15 -   0.0s\n",
      "[CV] ........................................ C=1, gamma=0.15 -   0.0s\n",
      "[CV] C=1, gamma=0.15 .................................................\n",
      "[CV] C=1, gamma=0.15 .................................................\n",
      "[CV] ......................................... C=1, gamma=0.5 -   0.0s\n",
      "[CV] C=1, gamma=0.5 ..................................................\n",
      "[CV] ......................................... C=1, gamma=0.1 -   0.0s\n",
      "[CV] ......................................... C=1, gamma=0.1 -   0.0s\n",
      "[CV] C=1, gamma=0.1 ..................................................\n",
      "[CV] C=1, gamma=0.1 ..................................................\n",
      "[CV] ...................................... C=0.5, gamma=0.15 -   0.1s\n",
      "[CV] ........................................ C=1, gamma=0.15 -   0.0s\n",
      "[CV] C=1, gamma=0.15 .................................................\n",
      "[CV] C=1, gamma=0.5 ..................................................\n",
      "[CV] ........................................ C=1, gamma=0.15 -   0.0s\n",
      "[CV] C=1.5, gamma=0.5 ................................................\n",
      "[CV] ......................................... C=1, gamma=0.1 -   0.0s\n",
      "[CV] ......................................... C=1, gamma=0.1 -   0.0s\n",
      "[CV] C=1, gamma=0.1 ..................................................\n",
      "[CV] C=1, gamma=0.1 ..................................................\n",
      "[CV] ........................................ C=1, gamma=0.15 -   0.0s\n",
      "[CV] C=1, gamma=0.15 .................................................\n",
      "[CV] ....................................... C=0.5, gamma=0.1 -   0.1s\n",
      "[CV] ...................................... C=0.5, gamma=0.15 -   0.1s\n",
      "[CV] ......................................... C=1, gamma=0.5 -   0.0s\n",
      "[CV] ....................................... C=1.5, gamma=0.5 -   0.0s\n",
      "[CV] ......................................... C=1, gamma=0.1 -   0.0s\n",
      "[CV] ......................................... C=1, gamma=0.1 -   0.0s\n",
      "[CV] C=0.5, gamma=0.15 ...............................................\n",
      "[CV] C=0.5, gamma=0.15 ...............................................\n",
      "[CV] C=1, gamma=0.5 ..................................................\n",
      "[CV] C=1.5, gamma=0.5 ................................................\n",
      "[CV] C=1, gamma=0.1 ..................................................\n",
      "[CV] C=1, gamma=0.1 ..................................................\n",
      "[CV] ......................................... C=1, gamma=0.5 -   0.1s\n",
      "[CV] ........................................ C=1, gamma=0.15 -   0.0s\n",
      "[CV] ......................................... C=1, gamma=0.5 -   0.0s\n",
      "[CV] C=1, gamma=0.5 ..................................................\n",
      "[CV] C=1, gamma=0.15 .................................................\n",
      "[CV] ...................................... C=0.5, gamma=0.15 -   0.0s\n",
      "[CV] ......................................... C=1, gamma=0.1 -   0.0s\n",
      "[CV] C=1, gamma=0.5 ..................................................\n",
      "[CV] ...................................... C=0.5, gamma=0.15 -   0.0s\n",
      "[CV] C=0.5, gamma=0.15 ...............................................\n",
      "[CV] C=1, gamma=0.1 ..................................................\n",
      "[CV] C=0.5, gamma=0.15 ...............................................\n",
      "[CV] ....................................... C=1.5, gamma=0.5 -   0.0s\n",
      "[CV] ......................................... C=1, gamma=0.5 -   0.0s\n",
      "[CV] ......................................... C=1, gamma=0.1 -   0.0s\n",
      "[CV] C=1, gamma=0.15 .................................................\n",
      "[CV] C=1.5, gamma=0.5 ................................................\n",
      "[CV] C=1, gamma=0.5 ..................................................\n",
      "[CV] ......................................... C=1, gamma=0.1 -   0.0s\n",
      "[CV] C=1, gamma=0.1 ..................................................\n",
      "[CV] ........................................ C=1, gamma=0.15 -   0.0s\n",
      "[CV] ...................................... C=0.5, gamma=0.15 -   0.0s\n",
      "[CV] ......................................... C=1, gamma=0.5 -   0.0s\n"
     ]
    },
    {
     "name": "stdout",
     "output_type": "stream",
     "text": [
      "[CV] ......................................... C=1, gamma=0.5 -   0.0s\n",
      "[CV] ...................................... C=0.5, gamma=0.15 -   0.0s\n",
      "[CV] ........................................ C=1, gamma=0.15 -   0.0s\n",
      "[CV] C=1, gamma=0.15 .................................................\n",
      "[CV] C=1.5, gamma=0.5 ................................................\n",
      "[CV] ......................................... C=1, gamma=0.1 -   0.0s\n",
      "[CV] C=1.5, gamma=0.1 ................................................\n",
      "[CV] C=1, gamma=0.15 .................................................\n",
      "[CV] C=1.5, gamma=0.15 ...............................................\n",
      "[CV] C=1, gamma=0.5 ..................................................\n",
      "[CV] C=1.5, gamma=0.1 ................................................\n",
      "[CV] ....................................... C=1.5, gamma=0.1 -   0.0s\n",
      "[CV] C=1.5, gamma=0.1 ................................................\n",
      "[CV] ...................................... C=1.5, gamma=0.15 -   0.0s\n",
      "[CV] ....................................... C=1.5, gamma=0.1 -   0.0s\n",
      "[CV] C=1.5, gamma=0.15 ...............................................\n",
      "[CV] ....................................... C=1.5, gamma=0.5 -   0.0s\n",
      "[CV] C=1.5, gamma=0.1 ................................................\n",
      "[CV] C=1.5, gamma=0.5 ................................................\n",
      "[CV] ........................................ C=1, gamma=0.15 -   0.0s\n",
      "[CV] ......................................... C=1, gamma=0.5 -   0.0s\n",
      "[CV] ........................................ C=1, gamma=0.15 -   0.0s\n",
      "[CV] C=1.5, gamma=0.15 ...............................................\n",
      "[CV] ....................................... C=1.5, gamma=0.5 -   0.0s\n",
      "[CV] ....................................... C=1.5, gamma=0.1 -   0.0s\n",
      "[CV] ...................................... C=1.5, gamma=0.15 -   0.0s\n",
      "[CV] C=1.5, gamma=0.5 ................................................\n",
      "[CV] ....................................... C=1.5, gamma=0.5 -   0.0s\n",
      "[CV] C=1.5, gamma=0.1 ................................................\n",
      "[CV] C=1.5, gamma=0.15 ...............................................\n",
      "[CV] ....................................... C=1.5, gamma=0.1 -   0.0s\n",
      "[CV] C=1.5, gamma=0.1 ................................................\n",
      "[CV] ...................................... C=1.5, gamma=0.15 -   0.0s\n",
      "[CV] C=1.5, gamma=0.15 ...............................................\n",
      "[CV] ....................................... C=1.5, gamma=0.5 -   0.0s\n",
      "[CV] ....................................... C=1.5, gamma=0.1 -   0.0s\n",
      "[CV] C=1.5, gamma=0.5 ................................................\n",
      "[CV] ...................................... C=1.5, gamma=0.15 -   0.0s\n",
      "[CV] C=1.5, gamma=0.1 ................................................\n",
      "[CV] C=1.5, gamma=0.15 ...............................................\n",
      "[CV] ...................................... C=1.5, gamma=0.15 -   0.0s\n",
      "[CV] ....................................... C=1.5, gamma=0.1 -   0.0s\n",
      "[CV] C=1.5, gamma=0.1 ................................................\n",
      "[CV] ....................................... C=1.5, gamma=0.5 -   0.0s\n",
      "[CV] C=1.5, gamma=0.5 ................................................\n",
      "[CV] ...................................... C=1.5, gamma=0.15 -   0.0s\n",
      "[CV] ....................................... C=1.5, gamma=0.1 -   0.0s\n",
      "[CV] C=1.5, gamma=0.15 ...............................................\n",
      "[CV] C=1.5, gamma=0.1 ................................................\n",
      "[CV] ....................................... C=1.5, gamma=0.1 -   0.0s\n",
      "[CV] C=1.5, gamma=0.15 ...............................................\n",
      "[CV] ....................................... C=1.5, gamma=0.5 -   0.0s\n",
      "[CV] ....................................... C=1.5, gamma=0.1 -   0.0s\n",
      "[CV] ...................................... C=1.5, gamma=0.15 -   0.0s\n",
      "[CV] C=1.5, gamma=0.5 ................................................\n",
      "[CV] C=1.5, gamma=0.1 ................................................\n",
      "[CV] C=1.5, gamma=0.15 ...............................................\n",
      "[CV] ...................................... C=1.5, gamma=0.15 -   0.0s\n",
      "[CV] C=1.5, gamma=0.15 ...............................................\n",
      "[CV] ....................................... C=1.5, gamma=0.5 -   0.0s\n",
      "[CV] ...................................... C=1.5, gamma=0.15 -   0.0s\n",
      "[CV] ....................................... C=1.5, gamma=0.1 -   0.0s\n",
      "[CV] C=1.5, gamma=0.5 ................................................\n",
      "[CV] ...................................... C=1.5, gamma=0.15 -   0.0s\n",
      "[CV] ....................................... C=1.5, gamma=0.5 -   0.0s\n"
     ]
    },
    {
     "name": "stderr",
     "output_type": "stream",
     "text": [
      "[Parallel(n_jobs=-1)]: Done  90 out of  90 | elapsed:    0.4s finished\n"
     ]
    },
    {
     "data": {
      "text/plain": [
       "GridSearchCV(cv=10, error_score='raise',\n",
       "       estimator=SVR(C=1.0, cache_size=200, coef0=0.0, degree=3, epsilon=0.1, gamma='auto',\n",
       "  kernel='rbf', max_iter=-1, shrinking=True, tol=0.001, verbose=False),\n",
       "       fit_params={}, iid=True, n_jobs=-1,\n",
       "       param_grid={'C': [0.5, 1, 1.5], 'gamma': [0.5, 0.1, 0.15]},\n",
       "       pre_dispatch='2*n_jobs', refit=True, scoring=None, verbose=2)"
      ]
     },
     "execution_count": 834,
     "metadata": {},
     "output_type": "execute_result"
    }
   ],
   "source": [
    "grid.fit(X_train, y_train) "
   ]
  },
  {
   "cell_type": "code",
   "execution_count": 835,
   "metadata": {},
   "outputs": [
    {
     "data": {
      "text/plain": [
       "['__abstractmethods__',\n",
       " '__class__',\n",
       " '__delattr__',\n",
       " '__dict__',\n",
       " '__dir__',\n",
       " '__doc__',\n",
       " '__eq__',\n",
       " '__format__',\n",
       " '__ge__',\n",
       " '__getattribute__',\n",
       " '__getstate__',\n",
       " '__gt__',\n",
       " '__hash__',\n",
       " '__init__',\n",
       " '__init_subclass__',\n",
       " '__le__',\n",
       " '__lt__',\n",
       " '__module__',\n",
       " '__ne__',\n",
       " '__new__',\n",
       " '__reduce__',\n",
       " '__reduce_ex__',\n",
       " '__repr__',\n",
       " '__setattr__',\n",
       " '__setstate__',\n",
       " '__sizeof__',\n",
       " '__str__',\n",
       " '__subclasshook__',\n",
       " '__weakref__',\n",
       " '_abc_cache',\n",
       " '_abc_negative_cache',\n",
       " '_abc_negative_cache_version',\n",
       " '_abc_registry',\n",
       " '_estimator_type',\n",
       " '_fit',\n",
       " '_get_param_names',\n",
       " 'best_estimator_',\n",
       " 'best_params_',\n",
       " 'best_score_',\n",
       " 'classes_',\n",
       " 'cv',\n",
       " 'decision_function',\n",
       " 'error_score',\n",
       " 'estimator',\n",
       " 'fit',\n",
       " 'fit_params',\n",
       " 'get_params',\n",
       " 'grid_scores_',\n",
       " 'iid',\n",
       " 'inverse_transform',\n",
       " 'n_jobs',\n",
       " 'param_grid',\n",
       " 'pre_dispatch',\n",
       " 'predict',\n",
       " 'predict_log_proba',\n",
       " 'predict_proba',\n",
       " 'refit',\n",
       " 'score',\n",
       " 'scorer_',\n",
       " 'scoring',\n",
       " 'set_params',\n",
       " 'transform',\n",
       " 'verbose']"
      ]
     },
     "execution_count": 835,
     "metadata": {},
     "output_type": "execute_result"
    }
   ],
   "source": [
    "dir(grid)"
   ]
  },
  {
   "cell_type": "code",
   "execution_count": 836,
   "metadata": {},
   "outputs": [
    {
     "data": {
      "text/plain": [
       "[mean: 0.22374, std: 0.10757, params: {'C': 0.5, 'gamma': 0.5},\n",
       " mean: 0.48645, std: 0.12892, params: {'C': 0.5, 'gamma': 0.1},\n",
       " mean: 0.43267, std: 0.13127, params: {'C': 0.5, 'gamma': 0.15},\n",
       " mean: 0.34845, std: 0.13209, params: {'C': 1, 'gamma': 0.5},\n",
       " mean: 0.60342, std: 0.12992, params: {'C': 1, 'gamma': 0.1},\n",
       " mean: 0.55903, std: 0.13321, params: {'C': 1, 'gamma': 0.15},\n",
       " mean: 0.42076, std: 0.13797, params: {'C': 1.5, 'gamma': 0.5},\n",
       " mean: 0.64370, std: 0.12544, params: {'C': 1.5, 'gamma': 0.1},\n",
       " mean: 0.60802, std: 0.13092, params: {'C': 1.5, 'gamma': 0.15}]"
      ]
     },
     "execution_count": 836,
     "metadata": {},
     "output_type": "execute_result"
    }
   ],
   "source": [
    "grid.grid_scores_"
   ]
  },
  {
   "cell_type": "code",
   "execution_count": 837,
   "metadata": {},
   "outputs": [
    {
     "data": {
      "text/plain": [
       "{'C': 1.5, 'gamma': 0.1}"
      ]
     },
     "execution_count": 837,
     "metadata": {},
     "output_type": "execute_result"
    }
   ],
   "source": [
    "grid.best_params_"
   ]
  },
  {
   "cell_type": "code",
   "execution_count": 838,
   "metadata": {},
   "outputs": [
    {
     "data": {
      "text/plain": [
       "SVR(C=1.5, cache_size=200, coef0=0.0, degree=3, epsilon=0.1, gamma=0.1,\n",
       "  kernel='rbf', max_iter=-1, shrinking=True, tol=0.001, verbose=False)"
      ]
     },
     "execution_count": 838,
     "metadata": {},
     "output_type": "execute_result"
    }
   ],
   "source": [
    "grid.best_estimator_"
   ]
  },
  {
   "cell_type": "code",
   "execution_count": 839,
   "metadata": {},
   "outputs": [
    {
     "data": {
      "text/plain": [
       "0.6436951562472683"
      ]
     },
     "execution_count": 839,
     "metadata": {},
     "output_type": "execute_result"
    }
   ],
   "source": [
    "grid.best_score_"
   ]
  },
  {
   "cell_type": "markdown",
   "metadata": {},
   "source": [
    "### on peut alors réutiliser ce best estimator en le réentrainant sur l'ensemble de X_train et pas un subset de X_train "
   ]
  },
  {
   "cell_type": "code",
   "execution_count": 842,
   "metadata": {},
   "outputs": [],
   "source": [
    "model = svm.SVR(C=1.5, cache_size=200, coef0=0.0, degree=3, epsilon=0.1, gamma=0.1,\n",
    "  kernel='rbf', max_iter=-1, shrinking=True, tol=0.001, verbose=False)"
   ]
  },
  {
   "cell_type": "code",
   "execution_count": 843,
   "metadata": {},
   "outputs": [
    {
     "data": {
      "text/plain": [
       "SVR(C=1.5, cache_size=200, coef0=0.0, degree=3, epsilon=0.1, gamma=0.1,\n",
       "  kernel='rbf', max_iter=-1, shrinking=True, tol=0.001, verbose=False)"
      ]
     },
     "execution_count": 843,
     "metadata": {},
     "output_type": "execute_result"
    }
   ],
   "source": [
    "model.fit(X_train, y_train)"
   ]
  },
  {
   "cell_type": "code",
   "execution_count": 844,
   "metadata": {},
   "outputs": [
    {
     "data": {
      "text/plain": [
       "0.642923260068228"
      ]
     },
     "execution_count": 844,
     "metadata": {},
     "output_type": "execute_result"
    }
   ],
   "source": [
    "model.score(X_test, y_test)"
   ]
  },
  {
   "cell_type": "markdown",
   "metadata": {},
   "source": [
    "performance proche du split"
   ]
  },
  {
   "cell_type": "markdown",
   "metadata": {},
   "source": [
    "### à tâton pour trouver le meilleur modèle "
   ]
  },
  {
   "cell_type": "code",
   "execution_count": 197,
   "metadata": {},
   "outputs": [
    {
     "data": {
      "text/plain": [
       "{'C': 2.5, 'gamma': 0.05}"
      ]
     },
     "execution_count": 197,
     "metadata": {},
     "output_type": "execute_result"
    }
   ],
   "source": [
    "hyperparametres_possibles = {\n",
    "    'C'     : [1.5, 2, 2.5],\n",
    "    'gamma' :[0.01, 0.05, 1]\n",
    "}\n",
    "grid = grid_search.GridSearchCV(estimator=svm.SVR(), \n",
    "                                param_grid=hyperparametres_possibles, \n",
    "                                n_jobs=-1)\n",
    "grid.fit(X_train, y_train)\n",
    "grid.best_score_\n",
    "grid.best_params_"
   ]
  },
  {
   "cell_type": "code",
   "execution_count": 198,
   "metadata": {},
   "outputs": [
    {
     "data": {
      "text/plain": [
       "{'C': 3.5, 'gamma': 0.05}"
      ]
     },
     "execution_count": 198,
     "metadata": {},
     "output_type": "execute_result"
    }
   ],
   "source": [
    "hyperparametres_possibles = {\n",
    "    'C'     : [2.5, 3, 3.5],\n",
    "    'gamma' :[0.01, 0.05, 1]\n",
    "}\n",
    "grid = grid_search.GridSearchCV(estimator=svm.SVR(), \n",
    "                                param_grid=hyperparametres_possibles, \n",
    "                                n_jobs=-1)\n",
    "grid.fit(X_train, y_train)\n",
    "grid.best_score_\n",
    "grid.best_params_"
   ]
  },
  {
   "cell_type": "code",
   "execution_count": 200,
   "metadata": {},
   "outputs": [
    {
     "data": {
      "text/plain": [
       "(0.7501429622074626, {'C': 6, 'gamma': 0.05})"
      ]
     },
     "execution_count": 200,
     "metadata": {},
     "output_type": "execute_result"
    }
   ],
   "source": [
    "hyperparametres_possibles = {\n",
    "    'C'     : [3.5, 4, 5, 6],\n",
    "    'gamma' :[0.01, 0.05, 1]\n",
    "}\n",
    "grid = grid_search.GridSearchCV(estimator=svm.SVR(), \n",
    "                                param_grid=hyperparametres_possibles, \n",
    "                                n_jobs=-1)\n",
    "grid.fit(X_train, y_train)\n",
    "grid.best_score_, grid.best_params_"
   ]
  },
  {
   "cell_type": "code",
   "execution_count": 201,
   "metadata": {},
   "outputs": [
    {
     "data": {
      "text/plain": [
       "(0.7741648460590741, {'C': 10, 'gamma': 0.05})"
      ]
     },
     "execution_count": 201,
     "metadata": {},
     "output_type": "execute_result"
    }
   ],
   "source": [
    "hyperparametres_possibles = {\n",
    "    'C'     : [ 6, 8, 10],\n",
    "    'gamma' :[0.01, 0.05, 1]\n",
    "}\n",
    "grid = grid_search.GridSearchCV(estimator=svm.SVR(), \n",
    "                                param_grid=hyperparametres_possibles, \n",
    "                                n_jobs=-1)\n",
    "grid.fit(X_train, y_train)\n",
    "grid.best_score_, grid.best_params_"
   ]
  },
  {
   "cell_type": "code",
   "execution_count": 202,
   "metadata": {},
   "outputs": [
    {
     "data": {
      "text/plain": [
       "(0.7872540631505356, {'C': 15, 'gamma': 0.05})"
      ]
     },
     "execution_count": 202,
     "metadata": {},
     "output_type": "execute_result"
    }
   ],
   "source": [
    "hyperparametres_possibles = {\n",
    "    'C'     : [ 10, 15, 20],\n",
    "    'gamma' :[0.01, 0.05, 1]\n",
    "}\n",
    "grid = grid_search.GridSearchCV(estimator=svm.SVR(), \n",
    "                                param_grid=hyperparametres_possibles, \n",
    "                                n_jobs=-1)\n",
    "grid.fit(X_train, y_train)\n",
    "grid.best_score_, grid.best_params_"
   ]
  },
  {
   "cell_type": "markdown",
   "metadata": {},
   "source": [
    "## Assess model stability (Using Bootstrap)"
   ]
  },
  {
   "cell_type": "code",
   "execution_count": 909,
   "metadata": {},
   "outputs": [],
   "source": [
    "from sklearn.utils import resample"
   ]
  },
  {
   "cell_type": "code",
   "execution_count": 910,
   "metadata": {},
   "outputs": [
    {
     "data": {
      "text/plain": [
       "[array([[  9.72418,   0.     ,  18.1    ,   0.     ,   0.74   ,   6.406  ,\n",
       "          97.2    ,   2.0651 ,  24.     , 666.     ,  20.2    , 385.96   ,\n",
       "          19.52   ],\n",
       "        [  9.32909,   0.     ,  18.1    ,   0.     ,   0.713  ,   6.185  ,\n",
       "          98.7    ,   2.2616 ,  24.     , 666.     ,  20.2    , 396.9    ,\n",
       "          18.13   ]]), array([17.1, 14.1])]"
      ]
     },
     "execution_count": 910,
     "metadata": {},
     "output_type": "execute_result"
    }
   ],
   "source": [
    "resample(X, y, n_samples = 2, replace=True)"
   ]
  },
  {
   "cell_type": "code",
   "execution_count": 940,
   "metadata": {},
   "outputs": [],
   "source": [
    "def Simulation(algorithme, nb_simulations=100):\n",
    "    from sklearn.utils import resample\n",
    "    from sklearn.model_selection import train_test_split\n",
    "    ## where we store all scores from simulations\n",
    "    scores = []\n",
    "    for i in range(nb_simulations): \n",
    "        ## Resample with replacement in all dataset\n",
    "        Xboot, yboot = resample(X, y, n_samples = np.size(X,axis=0), replace=True)\n",
    "        ## Split in Train, Test (0.75/0.25) and compute score\n",
    "        scores.append(get_score(algorithme, *train_test_split(Xboot, yboot), display_options=False))\n",
    "    return scores"
   ]
  },
  {
   "cell_type": "code",
   "execution_count": 941,
   "metadata": {},
   "outputs": [
    {
     "data": {
      "image/png": "[encoded data removed]",
      "text/plain": [
       "<Figure size 432x288 with 1 Axes>"
      ]
     },
     "metadata": {},
     "output_type": "display_data"
    }
   ],
   "source": [
    "scores_decision_trees = Simulation(DecisionTreeRegressor(), nb_simulations=1000)\n",
    "scores_rf = Simulation(RandomForestRegressor(), nb_simulations=1000)"
   ]
  },
  {
   "cell_type": "code",
   "execution_count": 955,
   "metadata": {},
   "outputs": [
    {
     "data": {
      "image/png": "[encoded data removed]",
      "text/plain": [
       "<Figure size 432x288 with 1 Axes>"
      ]
     },
     "metadata": {},
     "output_type": "display_data"
    }
   ],
   "source": [
    "scores_linear_regression_OLS = Simulation(LinearRegression(), nb_simulations=1000)"
   ]
  },
  {
   "cell_type": "code",
   "execution_count": 963,
   "metadata": {},
   "outputs": [],
   "source": [
    "from sklearn.linear_model import ElasticNet"
   ]
  },
  {
   "cell_type": "code",
   "execution_count": 983,
   "metadata": {},
   "outputs": [],
   "source": [
    "def grid_search_best_score(algorithme, hyperparametres):\n",
    "    from sklearn.grid_search import GridSearchCV\n",
    "    grid = GridSearchCV(algorithme, param_grid=hyperparametres, scoring='r2', n_jobs=-1)\n",
    "    grid.fit(X_train, y_train)\n",
    "    return grid.best_score_, grid.best_estimator_"
   ]
  },
  {
   "cell_type": "code",
   "execution_count": 984,
   "metadata": {},
   "outputs": [
    {
     "data": {
      "text/plain": [
       "(0.5956117516254986,\n",
       " ElasticNet(alpha=1.0, copy_X=True, fit_intercept=True, l1_ratio=0.5,\n",
       "       max_iter=1000, normalize=False, positive=False, precompute=False,\n",
       "       random_state=None, selection='cyclic', tol=0.0001, warm_start=False))"
      ]
     },
     "execution_count": 984,
     "metadata": {},
     "output_type": "execute_result"
    }
   ],
   "source": [
    "hyperparametres = {'alpha':[1.0], 'l1_ratio':[0.5]}\n",
    "grid_search_best_score(ElasticNet(), hyperparametres)"
   ]
  },
  {
   "cell_type": "code",
   "execution_count": 985,
   "metadata": {},
   "outputs": [
    {
     "data": {
      "text/plain": [
       "(0.6702507466626036,\n",
       " ElasticNet(alpha=0.1, copy_X=True, fit_intercept=True, l1_ratio=0.1,\n",
       "       max_iter=1000, normalize=False, positive=False, precompute=False,\n",
       "       random_state=None, selection='cyclic', tol=0.0001, warm_start=False))"
      ]
     },
     "execution_count": 985,
     "metadata": {},
     "output_type": "execute_result"
    }
   ],
   "source": [
    "hyperparametres = {'alpha':np.linspace(0.1,0.9,50), 'l1_ratio':np.linspace(0.1,0.9,50)}\n",
    "grid_search_best_score(ElasticNet(), hyperparametres)"
   ]
  },
  {
   "cell_type": "code",
   "execution_count": 986,
   "metadata": {},
   "outputs": [
    {
     "data": {
      "text/plain": [
       "(0.6724032245604442,\n",
       " ElasticNet(alpha=0.030000000000000006, copy_X=True, fit_intercept=True,\n",
       "       l1_ratio=0.01, max_iter=1000, normalize=False, positive=False,\n",
       "       precompute=False, random_state=None, selection='cyclic', tol=0.0001,\n",
       "       warm_start=False))"
      ]
     },
     "execution_count": 986,
     "metadata": {},
     "output_type": "execute_result"
    }
   ],
   "source": [
    "hyperparametres = {'alpha':np.linspace(0.01,0.1,10), 'l1_ratio':np.linspace(0.01,0.1,10)}\n",
    "grid_search_best_score(ElasticNet(), hyperparametres)"
   ]
  },
  {
   "cell_type": "code",
   "execution_count": 993,
   "metadata": {},
   "outputs": [
    {
     "data": {
      "text/plain": [
       "(0.6724353550037506,\n",
       " ElasticNet(alpha=0.03388888888888889, copy_X=True, fit_intercept=True,\n",
       "       l1_ratio=0.001, max_iter=1000, normalize=False, positive=False,\n",
       "       precompute=False, random_state=None, selection='cyclic', tol=0.0001,\n",
       "       warm_start=False))"
      ]
     },
     "execution_count": 993,
     "metadata": {},
     "output_type": "execute_result"
    }
   ],
   "source": [
    "hyperparametres = {'alpha':np.linspace(0.025, 0.035,10), 'l1_ratio':[0.001]}\n",
    "grid_search_best_score(ElasticNet(), hyperparametres)"
   ]
  },
  {
   "cell_type": "code",
   "execution_count": 1001,
   "metadata": {},
   "outputs": [
    {
     "name": "stderr",
     "output_type": "stream",
     "text": [
      "/Users/lucbertin/anaconda3/lib/python3.6/site-packages/scipy/stats/stats.py:1713: FutureWarning: Using a non-tuple sequence for multidimensional indexing is deprecated; use `arr[tuple(seq)]` instead of `arr[seq]`. In the future this will be interpreted as an array index, `arr[np.array(seq)]`, which will result either in an error or a different result.\n",
      "  return np.add.reduce(sorted[indexer] * weights, axis=axis) / sumval\n",
      "/Users/lucbertin/anaconda3/lib/python3.6/site-packages/matplotlib/axes/_axes.py:6462: UserWarning: The 'normed' kwarg is deprecated, and has been replaced by the 'density' kwarg.\n",
      "  warnings.warn(\"The 'normed' kwarg is deprecated, and has been \"\n",
      "/Users/lucbertin/anaconda3/lib/python3.6/site-packages/matplotlib/axes/_axes.py:6462: UserWarning: The 'normed' kwarg is deprecated, and has been replaced by the 'density' kwarg.\n",
      "  warnings.warn(\"The 'normed' kwarg is deprecated, and has been \"\n",
      "/Users/lucbertin/anaconda3/lib/python3.6/site-packages/matplotlib/axes/_axes.py:6462: UserWarning: The 'normed' kwarg is deprecated, and has been replaced by the 'density' kwarg.\n",
      "  warnings.warn(\"The 'normed' kwarg is deprecated, and has been \"\n"
     ]
    },
    {
     "data": {
      "text/plain": [
       "Text(0.5,1,'Boostrap procedure to assess model stability')"
      ]
     },
     "execution_count": 1001,
     "metadata": {},
     "output_type": "execute_result"
    },
    {
     "data": {
      "image/png": "[encoded data removed]",
      "text/plain": [
       "<Figure size 864x288 with 1 Axes>"
      ]
     },
     "metadata": {},
     "output_type": "display_data"
    }
   ],
   "source": [
    "import seaborn as sns\n",
    "fig, ax = plt.subplots(figsize=(12,4), nrows=1, ncols=1)\n",
    "sns.distplot(scores_decision_trees, ax=ax)\n",
    "sns.distplot(scores_rf, ax=ax)\n",
    "sns.distplot(scores_linear_regression_OLS, ax=ax)\n",
    "plt.legend([\"Decision Tree Regressor\", \"Random Forest Regressor\", \"Linear Regressor\"])\n",
    "plt.title(\"Boostrap procedure to assess model stability\")\n",
    "#sns.distplot(scores_elasticnet, ax=ax)"
   ]
  },
  {
   "cell_type": "code",
   "execution_count": 948,
   "metadata": {},
   "outputs": [
    {
     "data": {
      "text/plain": [
       "(0.8612410198975281, 0.9013224912294563)"
      ]
     },
     "execution_count": 948,
     "metadata": {},
     "output_type": "execute_result"
    }
   ],
   "source": [
    "np.mean(scores_decision_trees), np.mean(scores_rf)"
   ]
  },
  {
   "cell_type": "code",
   "execution_count": 949,
   "metadata": {},
   "outputs": [
    {
     "data": {
      "text/plain": [
       "(0.07729192919704085, 0.04278521561719852)"
      ]
     },
     "execution_count": 949,
     "metadata": {},
     "output_type": "execute_result"
    }
   ],
   "source": [
    "np.std(scores_decision_trees), np.std(scores_rf)"
   ]
  },
  {
   "cell_type": "markdown",
   "metadata": {},
   "source": [
    "# Fin."
   ]
  }
 ],
 "metadata": {
  "kernelspec": {
   "display_name": "Python 3",
   "language": "python",
   "name": "python3"
  },
  "language_info": {
   "codemirror_mode": {
    "name": "ipython",
    "version": 3
   },
   "file_extension": ".py",
   "mimetype": "text/x-python",
   "name": "python",
   "nbconvert_exporter": "python",
   "pygments_lexer": "ipython3",
   "version": "3.6.5"
  }
 },
 "nbformat": 4,
 "nbformat_minor": 2
}
