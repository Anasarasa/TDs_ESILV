{
 "cells": [
  {
   "cell_type": "code",
   "execution_count": null,
   "metadata": {},
   "outputs": [],
   "source": [
    "# Introduction on Scikit Learn library"
   ]
  },
  {
   "cell_type": "code",
   "execution_count": 122,
   "metadata": {},
   "outputs": [],
   "source": [
    "import github_command as gt"
   ]
  },
  {
   "cell_type": "code",
   "execution_count": 552,
   "metadata": {},
   "outputs": [],
   "source": [
    "gt.push(file_to_transfer=\"TD4_Sklearn.ipynb\", message=\"More on cross validation\", \n",
    "        repos=\"TDs_ESILV\")"
   ]
  },
  {
   "cell_type": "markdown",
   "metadata": {},
   "source": [
    "## Import du dataset"
   ]
  },
  {
   "cell_type": "code",
   "execution_count": 123,
   "metadata": {},
   "outputs": [],
   "source": [
    "from sklearn import datasets"
   ]
  },
  {
   "cell_type": "code",
   "execution_count": 124,
   "metadata": {},
   "outputs": [],
   "source": [
    "boston = datasets.load_boston()"
   ]
  },
  {
   "cell_type": "code",
   "execution_count": 125,
   "metadata": {},
   "outputs": [
    {
     "data": {
      "text/plain": [
       "dict_keys(['data', 'target', 'feature_names', 'DESCR'])"
      ]
     },
     "execution_count": 125,
     "metadata": {},
     "output_type": "execute_result"
    }
   ],
   "source": [
    "boston.keys()"
   ]
  },
  {
   "cell_type": "code",
   "execution_count": 126,
   "metadata": {},
   "outputs": [
    {
     "name": "stdout",
     "output_type": "stream",
     "text": [
      "Boston House Prices dataset\n",
      "===========================\n",
      "\n",
      "Notes\n",
      "------\n",
      "Data Set Characteristics:  \n",
      "\n",
      "    :Number of Instances: 506 \n",
      "\n",
      "    :Number of Attributes: 13 numeric/categorical predictive\n",
      "    \n",
      "    :Median Value (attribute 14) is usually the target\n",
      "\n",
      "    :Attribute Information (in order):\n",
      "        - CRIM     per capita crime rate by town\n",
      "        - ZN       proportion of residential land zoned for lots over 25,000 sq.ft.\n",
      "        - INDUS    proportion of non-retail business acres per town\n",
      "        - CHAS     Charles River dummy variable (= 1 if tract bounds river; 0 otherwise)\n",
      "        - NOX      nitric oxides concentration (parts per 10 million)\n",
      "        - RM       average number of rooms per dwelling\n",
      "        - AGE      proportion of owner-occupied units built prior to 1940\n",
      "        - DIS      weighted distances to five Boston employment centres\n",
      "        - RAD      index of accessibility to radial highways\n",
      "        - TAX      full-value property-tax rate per $10,000\n",
      "        - PTRATIO  pupil-teacher ratio by town\n",
      "        - B        1000(Bk - 0.63)^2 where Bk is the proportion of blacks by town\n",
      "        - LSTAT    % lower status of the population\n",
      "        - MEDV     Median value of owner-occupied homes in $1000's\n",
      "\n",
      "    :Missing Attribute Values: None\n",
      "\n",
      "    :Creator: Harrison, D. and Rubinfeld, D.L.\n",
      "\n",
      "This is a copy of UCI ML housing dataset.\n",
      "http://archive.ics.uci.edu/ml/datasets/Housing\n",
      "\n",
      "\n",
      "This dataset was taken from the StatLib library which is maintained at Carnegie Mellon University.\n",
      "\n",
      "The Boston house-price data of Harrison, D. and Rubinfeld, D.L. 'Hedonic\n",
      "prices and the demand for clean air', J. Environ. Economics & Management,\n",
      "vol.5, 81-102, 1978.   Used in Belsley, Kuh & Welsch, 'Regression diagnostics\n",
      "...', Wiley, 1980.   N.B. Various transformations are used in the table on\n",
      "pages 244-261 of the latter.\n",
      "\n",
      "The Boston house-price data has been used in many machine learning papers that address regression\n",
      "problems.   \n",
      "     \n",
      "**References**\n",
      "\n",
      "   - Belsley, Kuh & Welsch, 'Regression diagnostics: Identifying Influential Data and Sources of Collinearity', Wiley, 1980. 244-261.\n",
      "   - Quinlan,R. (1993). Combining Instance-Based and Model-Based Learning. In Proceedings on the Tenth International Conference of Machine Learning, 236-243, University of Massachusetts, Amherst. Morgan Kaufmann.\n",
      "   - many more! (see http://archive.ics.uci.edu/ml/datasets/Housing)\n",
      "\n"
     ]
    }
   ],
   "source": [
    "print(boston.DESCR)"
   ]
  },
  {
   "cell_type": "markdown",
   "metadata": {},
   "source": [
    "discussion sur des critères discriminatoires : https://mail.python.org/pipermail/scikit-learn/2017-July/001683.html"
   ]
  },
  {
   "cell_type": "markdown",
   "metadata": {},
   "source": [
    "## Récupérer x et y"
   ]
  },
  {
   "cell_type": "code",
   "execution_count": 127,
   "metadata": {},
   "outputs": [],
   "source": [
    "X = boston.data"
   ]
  },
  {
   "cell_type": "code",
   "execution_count": 128,
   "metadata": {},
   "outputs": [],
   "source": [
    "y = boston.target"
   ]
  },
  {
   "cell_type": "code",
   "execution_count": 129,
   "metadata": {},
   "outputs": [
    {
     "data": {
      "text/plain": [
       "((506, 13), (506,))"
      ]
     },
     "execution_count": 129,
     "metadata": {},
     "output_type": "execute_result"
    }
   ],
   "source": [
    "X.shape, y.shape"
   ]
  },
  {
   "cell_type": "markdown",
   "metadata": {},
   "source": [
    "## Diviser en jeu de test et apprentissage"
   ]
  },
  {
   "cell_type": "code",
   "execution_count": 402,
   "metadata": {},
   "outputs": [],
   "source": [
    "from sklearn.model_selection import train_test_split"
   ]
  },
  {
   "cell_type": "code",
   "execution_count": 404,
   "metadata": {},
   "outputs": [],
   "source": [
    "X_train, X_test, y_train, y_test = train_test_split(X, y, random_state=1234)"
   ]
  },
  {
   "cell_type": "code",
   "execution_count": 405,
   "metadata": {},
   "outputs": [
    {
     "data": {
      "text/plain": [
       "((379, 13), (127, 13), (379,), (127,))"
      ]
     },
     "execution_count": 405,
     "metadata": {},
     "output_type": "execute_result"
    }
   ],
   "source": [
    "X_train.shape, X_test.shape, y_train.shape, y_test.shape"
   ]
  },
  {
   "cell_type": "markdown",
   "metadata": {},
   "source": [
    "On retrouve bien le splitage ratio"
   ]
  },
  {
   "cell_type": "code",
   "execution_count": 406,
   "metadata": {},
   "outputs": [
    {
     "data": {
      "text/plain": [
       "[0.7490118577075099,\n",
       " 0.2509881422924901,\n",
       " 0.7490118577075099,\n",
       " 0.2509881422924901]"
      ]
     },
     "execution_count": 406,
     "metadata": {},
     "output_type": "execute_result"
    }
   ],
   "source": [
    "[tuple_[0]/X.shape[0] for tuple_ in (X_train.shape, X_test.shape, y_train.shape, y_test.shape)]"
   ]
  },
  {
   "cell_type": "markdown",
   "metadata": {},
   "source": [
    "## Utilisation d'un modèle simplement"
   ]
  },
  {
   "cell_type": "code",
   "execution_count": 536,
   "metadata": {},
   "outputs": [],
   "source": [
    "from sklearn.linear_model import LinearRegression"
   ]
  },
  {
   "cell_type": "code",
   "execution_count": 537,
   "metadata": {},
   "outputs": [
    {
     "data": {
      "text/plain": [
       "LinearRegression(copy_X=True, fit_intercept=True, n_jobs=1, normalize=False)"
      ]
     },
     "execution_count": 537,
     "metadata": {},
     "output_type": "execute_result"
    }
   ],
   "source": [
    "algorithme = LinearRegression()\n",
    "algorithme.fit(X_train, y_train)"
   ]
  },
  {
   "cell_type": "code",
   "execution_count": 538,
   "metadata": {},
   "outputs": [
    {
     "data": {
      "text/plain": [
       "0.7323523347366848"
      ]
     },
     "execution_count": 538,
     "metadata": {},
     "output_type": "execute_result"
    }
   ],
   "source": [
    "algorithme.score(X_test, y_test)"
   ]
  },
  {
   "cell_type": "code",
   "execution_count": 539,
   "metadata": {},
   "outputs": [
    {
     "data": {
      "text/plain": [
       "<matplotlib.collections.PathCollection at 0x1a2def1b70>"
      ]
     },
     "execution_count": 539,
     "metadata": {},
     "output_type": "execute_result"
    },
    {
     "data": {
      "image/png": "[encoded data removed]",
      "text/plain": [
       "<Figure size 432x288 with 1 Axes>"
      ]
     },
     "metadata": {},
     "output_type": "display_data"
    }
   ],
   "source": [
    "## Predictions against True values\n",
    "%matplotlib inline\n",
    "import matplotlib.pyplot as plt\n",
    "plt.scatter(x=y_test, y=algorithme.predict(X_test))"
   ]
  },
  {
   "cell_type": "code",
   "execution_count": 540,
   "metadata": {},
   "outputs": [
    {
     "data": {
      "text/plain": [
       "array([-0.80040389,  1.43722671, -0.09355308,  0.73184835, -2.53389473,\n",
       "        1.63213   ,  0.06733701, -3.68983955,  3.10132529, -2.17039116,\n",
       "       -2.28262926,  0.96734869, -3.98258154])"
      ]
     },
     "execution_count": 540,
     "metadata": {},
     "output_type": "execute_result"
    }
   ],
   "source": [
    "algorithme.coef_"
   ]
  },
  {
   "cell_type": "markdown",
   "metadata": {},
   "source": [
    "But train/test split does have its dangers — what if the split we make isn’t random? "
   ]
  },
  {
   "cell_type": "markdown",
   "metadata": {},
   "source": [
    "Instead of algo1 we can use directly LinearRegression() as it will fit it anyway on the different splits"
   ]
  },
  {
   "cell_type": "markdown",
   "metadata": {},
   "source": [
    "## Mettre tout ceci sous forme d'une fonction"
   ]
  },
  {
   "cell_type": "code",
   "execution_count": 541,
   "metadata": {},
   "outputs": [],
   "source": [
    "def get_score(algorithme, X_train, X_test, y_train, y_test, display=False):\n",
    "    print(\"fitting :\\n\"+ str(algorithme))\n",
    "    print(\"X_train:{} , X_test:{} ,  y_train:{} ,  y_test:{}\".format(X_train.shape, X_test.shape, y_train.shape, y_test.shape))\n",
    "    modele = algorithme.fit(X_train, y_train)\n",
    "    score  = modele.score(X_test, y_test)\n",
    "    if display:\n",
    "        import matplotlib.pyplot as plt\n",
    "        plt.scatter(x=y_test, y=algorithme.predict(X_test)) ## Predictions against True values\n",
    "    return score"
   ]
  },
  {
   "cell_type": "code",
   "execution_count": 542,
   "metadata": {},
   "outputs": [
    {
     "name": "stdout",
     "output_type": "stream",
     "text": [
      "fitting :\n",
      "LinearRegression(copy_X=True, fit_intercept=True, n_jobs=1, normalize=False)\n",
      "X_train:(379, 13) , X_test:(127, 13) ,  y_train:(379,) ,  y_test:(127,)\n"
     ]
    },
    {
     "data": {
      "text/plain": [
       "0.7323523347366852"
      ]
     },
     "execution_count": 542,
     "metadata": {},
     "output_type": "execute_result"
    }
   ],
   "source": [
    "get_score(LinearRegression(), *train_test_split(X, y, random_state=1234))"
   ]
  },
  {
   "cell_type": "markdown",
   "metadata": {},
   "source": [
    "## Avons-nous besoin de Standardizer les valeurs ? "
   ]
  },
  {
   "cell_type": "code",
   "execution_count": 543,
   "metadata": {},
   "outputs": [],
   "source": [
    "from sklearn.preprocessing import StandardScaler\n",
    "scaler   = StandardScaler().fit(X_train)\n",
    "X_train  = scaler.transform(X_train)\n",
    "X_test   = scaler.transform(X_test)"
   ]
  },
  {
   "cell_type": "code",
   "execution_count": 544,
   "metadata": {
    "scrolled": true
   },
   "outputs": [
    {
     "name": "stdout",
     "output_type": "stream",
     "text": [
      "fitting :\n",
      "LinearRegression(copy_X=True, fit_intercept=True, n_jobs=1, normalize=False)\n",
      "X_train:(379, 13) , X_test:(127, 13) ,  y_train:(379,) ,  y_test:(127,)\n"
     ]
    },
    {
     "data": {
      "text/plain": [
       "0.732352334736685"
      ]
     },
     "execution_count": 544,
     "metadata": {},
     "output_type": "execute_result"
    }
   ],
   "source": [
    "get_score(LinearRegression(), X_train, X_test, y_train, y_test)"
   ]
  },
  {
   "cell_type": "markdown",
   "metadata": {},
   "source": [
    "Expliquer pourquoi."
   ]
  },
  {
   "cell_type": "markdown",
   "metadata": {},
   "source": [
    "## Cross validation"
   ]
  },
  {
   "cell_type": "code",
   "execution_count": 545,
   "metadata": {},
   "outputs": [],
   "source": [
    "from sklearn.model_selection import cross_val_score\n",
    "from sklearn.model_selection import KFold"
   ]
  },
  {
   "cell_type": "code",
   "execution_count": 546,
   "metadata": {},
   "outputs": [
    {
     "data": {
      "text/plain": [
       "array([ 0.5828011 ,  0.53193819, -5.85104986])"
      ]
     },
     "metadata": {},
     "output_type": "display_data"
    },
    {
     "data": {
      "text/plain": [
       "-1.5787701857180003"
      ]
     },
     "metadata": {},
     "output_type": "display_data"
    },
    {
     "data": {
      "text/plain": [
       "3.021029289219623"
      ]
     },
     "metadata": {},
     "output_type": "display_data"
    }
   ],
   "source": [
    "results = cross_val_score(LinearRegression(), X, y, cv=3)\n",
    "display(results, results.mean(), results.std())"
   ]
  },
  {
   "cell_type": "code",
   "execution_count": 547,
   "metadata": {},
   "outputs": [
    {
     "data": {
      "text/plain": [
       "array([ 0.63861069,  0.71334432,  0.58645134,  0.07842495, -0.26312455])"
      ]
     },
     "metadata": {},
     "output_type": "display_data"
    },
    {
     "data": {
      "text/plain": [
       "0.35074135093252234"
      ]
     },
     "metadata": {},
     "output_type": "display_data"
    },
    {
     "data": {
      "text/plain": [
       "0.3797094749826804"
      ]
     },
     "metadata": {},
     "output_type": "display_data"
    }
   ],
   "source": [
    "results = cross_val_score(LinearRegression(), X, y, cv=5)\n",
    "display(results, results.mean(), results.std())"
   ]
  },
  {
   "cell_type": "markdown",
   "metadata": {},
   "source": [
    "Attention : pas randomly selected"
   ]
  },
  {
   "cell_type": "code",
   "execution_count": 549,
   "metadata": {},
   "outputs": [
    {
     "data": {
      "text/plain": [
       "array([0.70393415, 0.61819312, 0.7304022 , 0.78163905, 0.72734625])"
      ]
     },
     "metadata": {},
     "output_type": "display_data"
    },
    {
     "data": {
      "text/plain": [
       "0.7123029502697118"
      ]
     },
     "metadata": {},
     "output_type": "display_data"
    },
    {
     "data": {
      "text/plain": [
       "0.053456665486254676"
      ]
     },
     "metadata": {},
     "output_type": "display_data"
    }
   ],
   "source": [
    "results = cross_val_score(LinearRegression(), X, y, cv=KFold(shuffle=True, n_splits=5))\n",
    "display(results, results.mean(), results.std())"
   ]
  },
  {
   "cell_type": "code",
   "execution_count": 550,
   "metadata": {},
   "outputs": [],
   "source": [
    "def multiple_cross_val_scores(algorithme, X, y):\n",
    "    import numpy as np\n",
    "    results=dict()\n",
    "    for kfold in range(3,200, 20):\n",
    "        score = cross_val_score(algorithme, X, y,  cv = KFold(shuffle=True, n_splits=kfold), scoring='r2')\n",
    "        results[kfold] = score.mean(), score.std()\n",
    "    return results"
   ]
  },
  {
   "cell_type": "code",
   "execution_count": 534,
   "metadata": {},
   "outputs": [
    {
     "data": {
      "text/html": [
       "<div>\n",
       "<style scoped>\n",
       "    .dataframe tbody tr th:only-of-type {\n",
       "        vertical-align: middle;\n",
       "    }\n",
       "\n",
       "    .dataframe tbody tr th {\n",
       "        vertical-align: top;\n",
       "    }\n",
       "\n",
       "    .dataframe thead th {\n",
       "        text-align: right;\n",
       "    }\n",
       "</style>\n",
       "<table border=\"1\" class=\"dataframe\">\n",
       "  <thead>\n",
       "    <tr style=\"text-align: right;\">\n",
       "      <th></th>\n",
       "      <th>mean</th>\n",
       "      <th>std</th>\n",
       "    </tr>\n",
       "  </thead>\n",
       "  <tbody>\n",
       "    <tr>\n",
       "      <td>3</td>\n",
       "      <td>0.739005</td>\n",
       "      <td>0.093657</td>\n",
       "    </tr>\n",
       "    <tr>\n",
       "      <td>23</td>\n",
       "      <td>0.725641</td>\n",
       "      <td>0.291633</td>\n",
       "    </tr>\n",
       "    <tr>\n",
       "      <td>43</td>\n",
       "      <td>0.711366</td>\n",
       "      <td>0.311270</td>\n",
       "    </tr>\n",
       "    <tr>\n",
       "      <td>63</td>\n",
       "      <td>0.488870</td>\n",
       "      <td>0.893171</td>\n",
       "    </tr>\n",
       "    <tr>\n",
       "      <td>83</td>\n",
       "      <td>0.364028</td>\n",
       "      <td>1.597978</td>\n",
       "    </tr>\n",
       "    <tr>\n",
       "      <td>103</td>\n",
       "      <td>0.190048</td>\n",
       "      <td>1.901030</td>\n",
       "    </tr>\n",
       "    <tr>\n",
       "      <td>123</td>\n",
       "      <td>0.190497</td>\n",
       "      <td>2.285920</td>\n",
       "    </tr>\n",
       "    <tr>\n",
       "      <td>143</td>\n",
       "      <td>-0.251184</td>\n",
       "      <td>2.370943</td>\n",
       "    </tr>\n",
       "    <tr>\n",
       "      <td>163</td>\n",
       "      <td>-1.175644</td>\n",
       "      <td>6.691691</td>\n",
       "    </tr>\n",
       "    <tr>\n",
       "      <td>183</td>\n",
       "      <td>-13.822943</td>\n",
       "      <td>100.812308</td>\n",
       "    </tr>\n",
       "  </tbody>\n",
       "</table>\n",
       "</div>"
      ],
      "text/plain": [
       "          mean         std\n",
       "3     0.739005    0.093657\n",
       "23    0.725641    0.291633\n",
       "43    0.711366    0.311270\n",
       "63    0.488870    0.893171\n",
       "83    0.364028    1.597978\n",
       "103   0.190048    1.901030\n",
       "123   0.190497    2.285920\n",
       "143  -0.251184    2.370943\n",
       "163  -1.175644    6.691691\n",
       "183 -13.822943  100.812308"
      ]
     },
     "execution_count": 534,
     "metadata": {},
     "output_type": "execute_result"
    }
   ],
   "source": [
    "test = multiple_cross_val_scores(DecisionTreeRegressor(),X, y)\n",
    "test = pd.DataFrame(test, index=[\"mean\", \"std\"]).T\n",
    "test"
   ]
  },
  {
   "cell_type": "code",
   "execution_count": 149,
   "metadata": {},
   "outputs": [
    {
     "data": {
      "text/plain": [
       "[<matplotlib.lines.Line2D at 0x1a2eb95828>]"
      ]
     },
     "execution_count": 149,
     "metadata": {},
     "output_type": "execute_result"
    },
    {
     "data": {
      "image/png": "[encoded data removed]",
      "text/plain": [
       "<Figure size 432x288 with 1 Axes>"
      ]
     },
     "metadata": {},
     "output_type": "display_data"
    }
   ],
   "source": [
    "plt.plot(cross_val_score(DecisionTreeRegressor(), X, y, cv=5))"
   ]
  },
  {
   "cell_type": "markdown",
   "metadata": {},
   "source": [
    "There are cases where the computational definition of R2 can yield negative values, depending on the definition used. This can arise when the predictions that are being compared to the corresponding outcomes have not been derived from a model-fitting procedure using those data. Even if a model-fitting procedure has been used, R2 may still be negative, for example when linear regression is conducted without including an intercept, or when a non-linear function is used to fit the data. In cases where negative values arise, the mean of the data provides a better fit to the outcomes than do the fitted function values, according to this particular criterion."
   ]
  },
  {
   "cell_type": "markdown",
   "metadata": {},
   "source": [
    "The constant minimizing the squared error is the mean. Since you are doing cross validation with left out data, **it can happen that the mean of your test set is wildly different from the mean of your training set**"
   ]
  },
  {
   "cell_type": "markdown",
   "metadata": {},
   "source": [
    "R² = 1 - RSS / TSS, where RSS is the residual sum of squares ∑(y - f(x))² and TSS is the total sum of squares ∑(y - mean(y))². Now for R² ≥ -1, it is required that RSS/TSS ≤ 2, but it's easy to construct a model and dataset for which this is not true:"
   ]
  },
  {
   "cell_type": "markdown",
   "metadata": {},
   "source": [
    "### Random Forest example"
   ]
  },
  {
   "cell_type": "code",
   "execution_count": 150,
   "metadata": {},
   "outputs": [],
   "source": [
    "performances = dict()"
   ]
  },
  {
   "cell_type": "code",
   "execution_count": 151,
   "metadata": {},
   "outputs": [
    {
     "name": "stdout",
     "output_type": "stream",
     "text": [
      "fitting :\n",
      "RandomForestRegressor(bootstrap=True, criterion='mse', max_depth=None,\n",
      "           max_features='auto', max_leaf_nodes=None,\n",
      "           min_impurity_decrease=0.0, min_impurity_split=None,\n",
      "           min_samples_leaf=1, min_samples_split=2,\n",
      "           min_weight_fraction_leaf=0.0, n_estimators=30, n_jobs=1,\n",
      "           oob_score=False, random_state=None, verbose=0, warm_start=False)\n",
      "X_train:(379, 13) , X_test:(127, 13) ,  y_train:(379,) ,  y_test:(127,)\n"
     ]
    }
   ],
   "source": [
    "from sklearn.ensemble import RandomForestRegressor\n",
    "hyperparametres = {\n",
    "    'n_estimators':30\n",
    "}\n",
    "algorithme = RandomForestRegressor(**hyperparametres)\n",
    "score = get_score(algorithme, X_train, X_test, y_train, y_test)\n",
    "performances[algorithme] = score"
   ]
  },
  {
   "cell_type": "code",
   "execution_count": 152,
   "metadata": {},
   "outputs": [
    {
     "name": "stdout",
     "output_type": "stream",
     "text": [
      "fitting :\n",
      "RandomForestRegressor(bootstrap=True, criterion='mse', max_depth=50,\n",
      "           max_features=3, max_leaf_nodes=None, min_impurity_decrease=0.0,\n",
      "           min_impurity_split=None, min_samples_leaf=1,\n",
      "           min_samples_split=2, min_weight_fraction_leaf=0.0,\n",
      "           n_estimators=30, n_jobs=1, oob_score=False, random_state=None,\n",
      "           verbose=0, warm_start=False)\n",
      "X_train:(379, 13) , X_test:(127, 13) ,  y_train:(379,) ,  y_test:(127,)\n"
     ]
    }
   ],
   "source": [
    "hyperparametres = {\"n_estimators\"  :  30, \n",
    "                   \"max_features\"  :  3,\n",
    "                   \"max_depth\"     :  50,}\n",
    "algorithme = RandomForestRegressor(**hyperparametres)\n",
    "score = get_score(algorithme, X_train, X_test, y_train, y_test)\n",
    "performances[algorithme] = score"
   ]
  },
  {
   "cell_type": "markdown",
   "metadata": {},
   "source": [
    "### ExtraTreesRegressor"
   ]
  },
  {
   "cell_type": "code",
   "execution_count": 153,
   "metadata": {},
   "outputs": [
    {
     "name": "stdout",
     "output_type": "stream",
     "text": [
      "fitting :\n",
      "ExtraTreesRegressor(bootstrap=False, criterion='mse', max_depth=None,\n",
      "          max_features='auto', max_leaf_nodes=None,\n",
      "          min_impurity_decrease=0.0, min_impurity_split=None,\n",
      "          min_samples_leaf=1, min_samples_split=2,\n",
      "          min_weight_fraction_leaf=0.0, n_estimators=10, n_jobs=1,\n",
      "          oob_score=False, random_state=None, verbose=0, warm_start=False)\n",
      "X_train:(379, 13) , X_test:(127, 13) ,  y_train:(379,) ,  y_test:(127,)\n"
     ]
    }
   ],
   "source": [
    "from sklearn.ensemble import ExtraTreesRegressor\n",
    "\n",
    "algorithme = ExtraTreesRegressor()\n",
    "score      = get_score(algorithme, X_train, X_test, y_train, y_test)\n",
    "performances[algorithme] = score"
   ]
  },
  {
   "cell_type": "markdown",
   "metadata": {},
   "source": [
    "utiliser n_jobs = -1 c'est mieux pour paralléliser quand on a plusieurs CPUs"
   ]
  },
  {
   "cell_type": "markdown",
   "metadata": {},
   "source": [
    "### SVR "
   ]
  },
  {
   "cell_type": "code",
   "execution_count": 154,
   "metadata": {},
   "outputs": [
    {
     "name": "stdout",
     "output_type": "stream",
     "text": [
      "fitting :\n",
      "SVR(C=1.0, cache_size=200, coef0=0.0, degree=3, epsilon=0.1, gamma='auto',\n",
      "  kernel='linear', max_iter=-1, shrinking=True, tol=0.001, verbose=False)\n",
      "X_train:(379, 13) , X_test:(127, 13) ,  y_train:(379,) ,  y_test:(127,)\n"
     ]
    }
   ],
   "source": [
    "from sklearn import svm\n",
    "algorithme = svm.SVR(kernel = \"linear\")\n",
    "score      = get_score(algorithme, X_train, X_test, y_train, y_test)\n",
    "performances[algorithme] = score"
   ]
  },
  {
   "cell_type": "markdown",
   "metadata": {},
   "source": [
    "### catboost"
   ]
  },
  {
   "cell_type": "markdown",
   "metadata": {},
   "source": [
    "installation : !pip install catboost"
   ]
  },
  {
   "cell_type": "code",
   "execution_count": 155,
   "metadata": {},
   "outputs": [],
   "source": [
    "from catboost import CatBoostRegressor"
   ]
  },
  {
   "cell_type": "code",
   "execution_count": 156,
   "metadata": {},
   "outputs": [
    {
     "name": "stdout",
     "output_type": "stream",
     "text": [
      "0:\tlearn: 8.7204719\ttotal: 16.5ms\tremaining: 16.5s\n",
      "1:\tlearn: 8.5935783\ttotal: 23.5ms\tremaining: 11.7s\n",
      "2:\tlearn: 8.4557656\ttotal: 31.8ms\tremaining: 10.6s\n",
      "3:\tlearn: 8.3357630\ttotal: 38.4ms\tremaining: 9.56s\n",
      "4:\tlearn: 8.2465306\ttotal: 44.2ms\tremaining: 8.79s\n",
      "5:\tlearn: 8.1042568\ttotal: 50.1ms\tremaining: 8.3s\n",
      "6:\tlearn: 7.9615200\ttotal: 55.7ms\tremaining: 7.9s\n",
      "7:\tlearn: 7.8307277\ttotal: 61.6ms\tremaining: 7.63s\n",
      "8:\tlearn: 7.7104981\ttotal: 69.6ms\tremaining: 7.66s\n",
      "9:\tlearn: 7.5944429\ttotal: 78.2ms\tremaining: 7.74s\n",
      "10:\tlearn: 7.4960127\ttotal: 87.1ms\tremaining: 7.83s\n",
      "11:\tlearn: 7.3870638\ttotal: 96.4ms\tremaining: 7.93s\n",
      "12:\tlearn: 7.2733017\ttotal: 106ms\tremaining: 8.05s\n",
      "13:\tlearn: 7.1945331\ttotal: 116ms\tremaining: 8.15s\n",
      "14:\tlearn: 7.0865563\ttotal: 122ms\tremaining: 8.02s\n",
      "15:\tlearn: 6.9746485\ttotal: 128ms\tremaining: 7.87s\n",
      "16:\tlearn: 6.8940218\ttotal: 134ms\tremaining: 7.73s\n",
      "17:\tlearn: 6.8365102\ttotal: 140ms\tremaining: 7.62s\n",
      "18:\tlearn: 6.7667920\ttotal: 148ms\tremaining: 7.62s\n",
      "19:\tlearn: 6.6802493\ttotal: 156ms\tremaining: 7.66s\n",
      "20:\tlearn: 6.5999465\ttotal: 165ms\tremaining: 7.69s\n",
      "21:\tlearn: 6.5268754\ttotal: 173ms\tremaining: 7.68s\n",
      "22:\tlearn: 6.4629101\ttotal: 181ms\tremaining: 7.69s\n",
      "23:\tlearn: 6.3846668\ttotal: 190ms\tremaining: 7.74s\n",
      "24:\tlearn: 6.3321174\ttotal: 199ms\tremaining: 7.78s\n",
      "25:\tlearn: 6.2632532\ttotal: 209ms\tremaining: 7.83s\n",
      "26:\tlearn: 6.1818566\ttotal: 219ms\tremaining: 7.89s\n",
      "27:\tlearn: 6.1152730\ttotal: 230ms\tremaining: 7.99s\n",
      "28:\tlearn: 6.0506592\ttotal: 240ms\tremaining: 8.03s\n",
      "29:\tlearn: 5.9896376\ttotal: 250ms\tremaining: 8.09s\n",
      "30:\tlearn: 5.9243006\ttotal: 260ms\tremaining: 8.14s\n",
      "31:\tlearn: 5.8703465\ttotal: 271ms\tremaining: 8.18s\n",
      "32:\tlearn: 5.8074738\ttotal: 284ms\tremaining: 8.33s\n",
      "33:\tlearn: 5.7562699\ttotal: 292ms\tremaining: 8.3s\n",
      "34:\tlearn: 5.6878754\ttotal: 299ms\tremaining: 8.24s\n",
      "35:\tlearn: 5.6309404\ttotal: 305ms\tremaining: 8.16s\n",
      "36:\tlearn: 5.5694959\ttotal: 313ms\tremaining: 8.15s\n",
      "37:\tlearn: 5.5112598\ttotal: 321ms\tremaining: 8.12s\n",
      "38:\tlearn: 5.4616463\ttotal: 328ms\tremaining: 8.07s\n",
      "39:\tlearn: 5.4139823\ttotal: 334ms\tremaining: 8.01s\n",
      "40:\tlearn: 5.3731153\ttotal: 339ms\tremaining: 7.94s\n",
      "41:\tlearn: 5.3122804\ttotal: 346ms\tremaining: 7.88s\n",
      "42:\tlearn: 5.2709862\ttotal: 351ms\tremaining: 7.82s\n",
      "43:\tlearn: 5.2122094\ttotal: 358ms\tremaining: 7.78s\n",
      "44:\tlearn: 5.1882317\ttotal: 364ms\tremaining: 7.72s\n",
      "45:\tlearn: 5.1476158\ttotal: 370ms\tremaining: 7.67s\n",
      "46:\tlearn: 5.1018773\ttotal: 375ms\tremaining: 7.61s\n",
      "47:\tlearn: 5.0614128\ttotal: 381ms\tremaining: 7.55s\n",
      "48:\tlearn: 5.0119534\ttotal: 387ms\tremaining: 7.52s\n",
      "49:\tlearn: 4.9875770\ttotal: 394ms\tremaining: 7.49s\n",
      "50:\tlearn: 4.9394617\ttotal: 402ms\tremaining: 7.48s\n",
      "51:\tlearn: 4.9028151\ttotal: 410ms\tremaining: 7.48s\n",
      "52:\tlearn: 4.8621976\ttotal: 421ms\tremaining: 7.52s\n",
      "53:\tlearn: 4.8348756\ttotal: 428ms\tremaining: 7.49s\n",
      "54:\tlearn: 4.8089407\ttotal: 434ms\tremaining: 7.45s\n",
      "55:\tlearn: 4.7698730\ttotal: 442ms\tremaining: 7.46s\n",
      "56:\tlearn: 4.7460917\ttotal: 450ms\tremaining: 7.45s\n",
      "57:\tlearn: 4.7096667\ttotal: 458ms\tremaining: 7.43s\n",
      "58:\tlearn: 4.6629274\ttotal: 465ms\tremaining: 7.41s\n",
      "59:\tlearn: 4.6471680\ttotal: 475ms\tremaining: 7.45s\n",
      "60:\tlearn: 4.6121689\ttotal: 484ms\tremaining: 7.45s\n",
      "61:\tlearn: 4.5862049\ttotal: 495ms\tremaining: 7.48s\n",
      "62:\tlearn: 4.5626028\ttotal: 506ms\tremaining: 7.53s\n",
      "63:\tlearn: 4.5350436\ttotal: 519ms\tremaining: 7.59s\n",
      "64:\tlearn: 4.5122311\ttotal: 528ms\tremaining: 7.6s\n",
      "65:\tlearn: 4.4788562\ttotal: 535ms\tremaining: 7.57s\n",
      "66:\tlearn: 4.4461551\ttotal: 542ms\tremaining: 7.54s\n",
      "67:\tlearn: 4.4036617\ttotal: 549ms\tremaining: 7.53s\n",
      "68:\tlearn: 4.3725735\ttotal: 558ms\tremaining: 7.53s\n",
      "69:\tlearn: 4.3503165\ttotal: 567ms\tremaining: 7.53s\n",
      "70:\tlearn: 4.3147330\ttotal: 576ms\tremaining: 7.53s\n",
      "71:\tlearn: 4.2831905\ttotal: 583ms\tremaining: 7.52s\n",
      "72:\tlearn: 4.2547952\ttotal: 592ms\tremaining: 7.52s\n",
      "73:\tlearn: 4.2256903\ttotal: 598ms\tremaining: 7.48s\n",
      "74:\tlearn: 4.1984678\ttotal: 603ms\tremaining: 7.43s\n",
      "75:\tlearn: 4.1760169\ttotal: 609ms\tremaining: 7.41s\n",
      "76:\tlearn: 4.1616620\ttotal: 617ms\tremaining: 7.4s\n",
      "77:\tlearn: 4.1417257\ttotal: 626ms\tremaining: 7.4s\n",
      "78:\tlearn: 4.1165171\ttotal: 639ms\tremaining: 7.44s\n",
      "79:\tlearn: 4.0972830\ttotal: 647ms\tremaining: 7.45s\n",
      "80:\tlearn: 4.0685926\ttotal: 659ms\tremaining: 7.48s\n",
      "81:\tlearn: 4.0325834\ttotal: 668ms\tremaining: 7.48s\n",
      "82:\tlearn: 4.0013093\ttotal: 677ms\tremaining: 7.47s\n",
      "83:\tlearn: 3.9803400\ttotal: 684ms\tremaining: 7.45s\n",
      "84:\tlearn: 3.9557382\ttotal: 694ms\tremaining: 7.47s\n",
      "85:\tlearn: 3.9144996\ttotal: 709ms\tremaining: 7.53s\n",
      "86:\tlearn: 3.8969193\ttotal: 730ms\tremaining: 7.66s\n",
      "87:\tlearn: 3.8807104\ttotal: 747ms\tremaining: 7.74s\n",
      "88:\tlearn: 3.8587484\ttotal: 759ms\tremaining: 7.77s\n",
      "89:\tlearn: 3.8315719\ttotal: 767ms\tremaining: 7.75s\n",
      "90:\tlearn: 3.7992216\ttotal: 774ms\tremaining: 7.73s\n",
      "91:\tlearn: 3.7683973\ttotal: 780ms\tremaining: 7.7s\n",
      "92:\tlearn: 3.7520047\ttotal: 786ms\tremaining: 7.66s\n",
      "93:\tlearn: 3.7232523\ttotal: 794ms\tremaining: 7.65s\n",
      "94:\tlearn: 3.7069231\ttotal: 802ms\tremaining: 7.64s\n",
      "95:\tlearn: 3.6680399\ttotal: 811ms\tremaining: 7.63s\n",
      "96:\tlearn: 3.6426846\ttotal: 822ms\tremaining: 7.65s\n",
      "97:\tlearn: 3.5986432\ttotal: 830ms\tremaining: 7.64s\n",
      "98:\tlearn: 3.5861907\ttotal: 841ms\tremaining: 7.66s\n",
      "99:\tlearn: 3.5651597\ttotal: 848ms\tremaining: 7.63s\n",
      "100:\tlearn: 3.5469950\ttotal: 859ms\tremaining: 7.65s\n",
      "101:\tlearn: 3.5264376\ttotal: 868ms\tremaining: 7.64s\n",
      "102:\tlearn: 3.5065273\ttotal: 878ms\tremaining: 7.64s\n",
      "103:\tlearn: 3.4844678\ttotal: 888ms\tremaining: 7.65s\n",
      "104:\tlearn: 3.4698217\ttotal: 899ms\tremaining: 7.66s\n",
      "105:\tlearn: 3.4497049\ttotal: 908ms\tremaining: 7.66s\n",
      "106:\tlearn: 3.4269020\ttotal: 916ms\tremaining: 7.65s\n",
      "107:\tlearn: 3.4162413\ttotal: 923ms\tremaining: 7.62s\n",
      "108:\tlearn: 3.4030450\ttotal: 930ms\tremaining: 7.6s\n",
      "109:\tlearn: 3.3826091\ttotal: 935ms\tremaining: 7.57s\n",
      "110:\tlearn: 3.3700162\ttotal: 941ms\tremaining: 7.53s\n",
      "111:\tlearn: 3.3530314\ttotal: 946ms\tremaining: 7.5s\n",
      "112:\tlearn: 3.3383306\ttotal: 957ms\tremaining: 7.51s\n",
      "113:\tlearn: 3.3190379\ttotal: 966ms\tremaining: 7.51s\n",
      "114:\tlearn: 3.3015731\ttotal: 975ms\tremaining: 7.5s\n",
      "115:\tlearn: 3.2877707\ttotal: 982ms\tremaining: 7.48s\n",
      "116:\tlearn: 3.2735357\ttotal: 991ms\tremaining: 7.48s\n",
      "117:\tlearn: 3.2512496\ttotal: 999ms\tremaining: 7.47s\n",
      "118:\tlearn: 3.2368749\ttotal: 1.01s\tremaining: 7.48s\n",
      "119:\tlearn: 3.2157077\ttotal: 1.02s\tremaining: 7.46s\n",
      "120:\tlearn: 3.2061594\ttotal: 1.03s\tremaining: 7.46s\n",
      "121:\tlearn: 3.1823114\ttotal: 1.04s\tremaining: 7.47s\n",
      "122:\tlearn: 3.1676350\ttotal: 1.05s\tremaining: 7.48s\n",
      "123:\tlearn: 3.1526726\ttotal: 1.06s\tremaining: 7.47s\n",
      "124:\tlearn: 3.1374382\ttotal: 1.06s\tremaining: 7.45s\n",
      "125:\tlearn: 3.1252677\ttotal: 1.07s\tremaining: 7.43s\n",
      "126:\tlearn: 3.1141946\ttotal: 1.08s\tremaining: 7.4s\n",
      "127:\tlearn: 3.1011484\ttotal: 1.08s\tremaining: 7.37s\n",
      "128:\tlearn: 3.0844460\ttotal: 1.09s\tremaining: 7.35s\n",
      "129:\tlearn: 3.0708052\ttotal: 1.09s\tremaining: 7.33s\n",
      "130:\tlearn: 3.0577263\ttotal: 1.1s\tremaining: 7.3s\n",
      "131:\tlearn: 3.0472206\ttotal: 1.11s\tremaining: 7.27s\n",
      "132:\tlearn: 3.0359621\ttotal: 1.11s\tremaining: 7.26s\n",
      "133:\tlearn: 3.0284745\ttotal: 1.13s\tremaining: 7.27s\n",
      "134:\tlearn: 3.0137864\ttotal: 1.14s\tremaining: 7.3s\n",
      "135:\tlearn: 3.0035451\ttotal: 1.15s\tremaining: 7.29s\n",
      "136:\tlearn: 2.9899557\ttotal: 1.16s\tremaining: 7.28s\n",
      "137:\tlearn: 2.9735377\ttotal: 1.16s\tremaining: 7.27s\n",
      "138:\tlearn: 2.9647656\ttotal: 1.17s\tremaining: 7.26s\n",
      "139:\tlearn: 2.9498936\ttotal: 1.18s\tremaining: 7.25s\n",
      "140:\tlearn: 2.9323910\ttotal: 1.19s\tremaining: 7.23s\n",
      "141:\tlearn: 2.9148993\ttotal: 1.19s\tremaining: 7.22s\n",
      "142:\tlearn: 2.9007740\ttotal: 1.2s\tremaining: 7.22s\n",
      "143:\tlearn: 2.8951797\ttotal: 1.22s\tremaining: 7.22s\n",
      "144:\tlearn: 2.8733500\ttotal: 1.23s\tremaining: 7.23s\n",
      "145:\tlearn: 2.8627657\ttotal: 1.24s\tremaining: 7.24s\n",
      "146:\tlearn: 2.8552693\ttotal: 1.25s\tremaining: 7.23s\n",
      "147:\tlearn: 2.8420135\ttotal: 1.25s\tremaining: 7.21s\n",
      "148:\tlearn: 2.8327176\ttotal: 1.26s\tremaining: 7.19s\n",
      "149:\tlearn: 2.8124045\ttotal: 1.26s\tremaining: 7.17s\n",
      "150:\tlearn: 2.8023092\ttotal: 1.27s\tremaining: 7.14s\n",
      "151:\tlearn: 2.7946490\ttotal: 1.28s\tremaining: 7.12s\n",
      "152:\tlearn: 2.7871694\ttotal: 1.28s\tremaining: 7.1s\n",
      "153:\tlearn: 2.7754172\ttotal: 1.29s\tremaining: 7.08s\n",
      "154:\tlearn: 2.7649268\ttotal: 1.29s\tremaining: 7.05s\n",
      "155:\tlearn: 2.7535971\ttotal: 1.3s\tremaining: 7.04s\n",
      "156:\tlearn: 2.7478728\ttotal: 1.31s\tremaining: 7.02s\n",
      "157:\tlearn: 2.7379692\ttotal: 1.31s\tremaining: 7s\n",
      "158:\tlearn: 2.7281840\ttotal: 1.32s\tremaining: 6.99s\n",
      "159:\tlearn: 2.7176670\ttotal: 1.33s\tremaining: 6.97s\n",
      "160:\tlearn: 2.7086940\ttotal: 1.33s\tremaining: 6.95s\n",
      "161:\tlearn: 2.7028431\ttotal: 1.34s\tremaining: 6.93s\n",
      "162:\tlearn: 2.6860672\ttotal: 1.34s\tremaining: 6.91s\n",
      "163:\tlearn: 2.6750788\ttotal: 1.35s\tremaining: 6.89s\n",
      "164:\tlearn: 2.6648544\ttotal: 1.36s\tremaining: 6.87s\n",
      "165:\tlearn: 2.6599612\ttotal: 1.36s\tremaining: 6.85s\n",
      "166:\tlearn: 2.6527745\ttotal: 1.37s\tremaining: 6.83s\n",
      "167:\tlearn: 2.6462910\ttotal: 1.37s\tremaining: 6.8s\n",
      "168:\tlearn: 2.6259732\ttotal: 1.38s\tremaining: 6.78s\n",
      "169:\tlearn: 2.6144806\ttotal: 1.38s\tremaining: 6.76s\n",
      "170:\tlearn: 2.6073851\ttotal: 1.39s\tremaining: 6.75s\n",
      "171:\tlearn: 2.5985368\ttotal: 1.4s\tremaining: 6.73s\n",
      "172:\tlearn: 2.5947585\ttotal: 1.4s\tremaining: 6.71s\n"
     ]
    },
    {
     "name": "stdout",
     "output_type": "stream",
     "text": [
      "173:\tlearn: 2.5882597\ttotal: 1.41s\tremaining: 6.71s\n",
      "174:\tlearn: 2.5734787\ttotal: 1.42s\tremaining: 6.7s\n",
      "175:\tlearn: 2.5626087\ttotal: 1.43s\tremaining: 6.71s\n",
      "176:\tlearn: 2.5559951\ttotal: 1.44s\tremaining: 6.7s\n",
      "177:\tlearn: 2.5502860\ttotal: 1.45s\tremaining: 6.68s\n",
      "178:\tlearn: 2.5438083\ttotal: 1.45s\tremaining: 6.67s\n",
      "179:\tlearn: 2.5358585\ttotal: 1.46s\tremaining: 6.65s\n",
      "180:\tlearn: 2.5301336\ttotal: 1.47s\tremaining: 6.63s\n",
      "181:\tlearn: 2.5186205\ttotal: 1.47s\tremaining: 6.61s\n",
      "182:\tlearn: 2.5082795\ttotal: 1.48s\tremaining: 6.59s\n",
      "183:\tlearn: 2.4971809\ttotal: 1.48s\tremaining: 6.58s\n",
      "184:\tlearn: 2.4909010\ttotal: 1.49s\tremaining: 6.56s\n",
      "185:\tlearn: 2.4821878\ttotal: 1.49s\tremaining: 6.54s\n",
      "186:\tlearn: 2.4750551\ttotal: 1.5s\tremaining: 6.52s\n",
      "187:\tlearn: 2.4655514\ttotal: 1.5s\tremaining: 6.5s\n",
      "188:\tlearn: 2.4607097\ttotal: 1.51s\tremaining: 6.49s\n",
      "189:\tlearn: 2.4531585\ttotal: 1.52s\tremaining: 6.47s\n",
      "190:\tlearn: 2.4409499\ttotal: 1.52s\tremaining: 6.46s\n",
      "191:\tlearn: 2.4369000\ttotal: 1.53s\tremaining: 6.44s\n",
      "192:\tlearn: 2.4321330\ttotal: 1.54s\tremaining: 6.42s\n",
      "193:\tlearn: 2.4203159\ttotal: 1.54s\tremaining: 6.41s\n",
      "194:\tlearn: 2.4135826\ttotal: 1.55s\tremaining: 6.39s\n",
      "195:\tlearn: 2.4024520\ttotal: 1.55s\tremaining: 6.38s\n",
      "196:\tlearn: 2.3938346\ttotal: 1.56s\tremaining: 6.36s\n",
      "197:\tlearn: 2.3845326\ttotal: 1.57s\tremaining: 6.34s\n",
      "198:\tlearn: 2.3750878\ttotal: 1.57s\tremaining: 6.33s\n",
      "199:\tlearn: 2.3704719\ttotal: 1.58s\tremaining: 6.32s\n",
      "200:\tlearn: 2.3603958\ttotal: 1.58s\tremaining: 6.3s\n",
      "201:\tlearn: 2.3499238\ttotal: 1.59s\tremaining: 6.28s\n",
      "202:\tlearn: 2.3404241\ttotal: 1.6s\tremaining: 6.27s\n",
      "203:\tlearn: 2.3330778\ttotal: 1.6s\tremaining: 6.25s\n",
      "204:\tlearn: 2.3269053\ttotal: 1.61s\tremaining: 6.24s\n",
      "205:\tlearn: 2.3221303\ttotal: 1.62s\tremaining: 6.23s\n",
      "206:\tlearn: 2.3165777\ttotal: 1.62s\tremaining: 6.21s\n",
      "207:\tlearn: 2.3116836\ttotal: 1.63s\tremaining: 6.2s\n",
      "208:\tlearn: 2.3043456\ttotal: 1.63s\tremaining: 6.18s\n",
      "209:\tlearn: 2.3000339\ttotal: 1.64s\tremaining: 6.17s\n",
      "210:\tlearn: 2.2934777\ttotal: 1.65s\tremaining: 6.15s\n",
      "211:\tlearn: 2.2853062\ttotal: 1.65s\tremaining: 6.13s\n",
      "212:\tlearn: 2.2825528\ttotal: 1.66s\tremaining: 6.12s\n",
      "213:\tlearn: 2.2751154\ttotal: 1.66s\tremaining: 6.11s\n",
      "214:\tlearn: 2.2695598\ttotal: 1.67s\tremaining: 6.09s\n",
      "215:\tlearn: 2.2621388\ttotal: 1.68s\tremaining: 6.08s\n",
      "216:\tlearn: 2.2587549\ttotal: 1.68s\tremaining: 6.07s\n",
      "217:\tlearn: 2.2496744\ttotal: 1.69s\tremaining: 6.05s\n",
      "218:\tlearn: 2.2470564\ttotal: 1.69s\tremaining: 6.04s\n",
      "219:\tlearn: 2.2421049\ttotal: 1.7s\tremaining: 6.03s\n",
      "220:\tlearn: 2.2379277\ttotal: 1.71s\tremaining: 6.02s\n",
      "221:\tlearn: 2.2348568\ttotal: 1.71s\tremaining: 6s\n",
      "222:\tlearn: 2.2269908\ttotal: 1.72s\tremaining: 5.99s\n",
      "223:\tlearn: 2.2192463\ttotal: 1.73s\tremaining: 5.98s\n",
      "224:\tlearn: 2.2112053\ttotal: 1.73s\tremaining: 5.96s\n",
      "225:\tlearn: 2.2040341\ttotal: 1.74s\tremaining: 5.96s\n",
      "226:\tlearn: 2.2003617\ttotal: 1.75s\tremaining: 5.94s\n",
      "227:\tlearn: 2.1929794\ttotal: 1.75s\tremaining: 5.93s\n",
      "228:\tlearn: 2.1898231\ttotal: 1.76s\tremaining: 5.92s\n",
      "229:\tlearn: 2.1861915\ttotal: 1.76s\tremaining: 5.91s\n",
      "230:\tlearn: 2.1831495\ttotal: 1.77s\tremaining: 5.9s\n",
      "231:\tlearn: 2.1793504\ttotal: 1.78s\tremaining: 5.89s\n",
      "232:\tlearn: 2.1755123\ttotal: 1.79s\tremaining: 5.88s\n",
      "233:\tlearn: 2.1690978\ttotal: 1.79s\tremaining: 5.87s\n",
      "234:\tlearn: 2.1615056\ttotal: 1.8s\tremaining: 5.86s\n",
      "235:\tlearn: 2.1578456\ttotal: 1.81s\tremaining: 5.85s\n",
      "236:\tlearn: 2.1526861\ttotal: 1.81s\tremaining: 5.84s\n",
      "237:\tlearn: 2.1498793\ttotal: 1.82s\tremaining: 5.83s\n",
      "238:\tlearn: 2.1435119\ttotal: 1.83s\tremaining: 5.82s\n",
      "239:\tlearn: 2.1399383\ttotal: 1.83s\tremaining: 5.81s\n",
      "240:\tlearn: 2.1336755\ttotal: 1.84s\tremaining: 5.8s\n",
      "241:\tlearn: 2.1319617\ttotal: 1.85s\tremaining: 5.79s\n",
      "242:\tlearn: 2.1269681\ttotal: 1.85s\tremaining: 5.78s\n",
      "243:\tlearn: 2.1239762\ttotal: 1.86s\tremaining: 5.77s\n",
      "244:\tlearn: 2.1203107\ttotal: 1.87s\tremaining: 5.75s\n",
      "245:\tlearn: 2.1177334\ttotal: 1.87s\tremaining: 5.74s\n",
      "246:\tlearn: 2.1146510\ttotal: 1.88s\tremaining: 5.73s\n",
      "247:\tlearn: 2.1124184\ttotal: 1.89s\tremaining: 5.72s\n",
      "248:\tlearn: 2.1080259\ttotal: 1.89s\tremaining: 5.71s\n",
      "249:\tlearn: 2.1041076\ttotal: 1.9s\tremaining: 5.7s\n",
      "250:\tlearn: 2.1008199\ttotal: 1.91s\tremaining: 5.68s\n",
      "251:\tlearn: 2.0975700\ttotal: 1.91s\tremaining: 5.68s\n",
      "252:\tlearn: 2.0934089\ttotal: 1.92s\tremaining: 5.66s\n",
      "253:\tlearn: 2.0909518\ttotal: 1.92s\tremaining: 5.65s\n",
      "254:\tlearn: 2.0860610\ttotal: 1.93s\tremaining: 5.64s\n",
      "255:\tlearn: 2.0828733\ttotal: 1.94s\tremaining: 5.64s\n",
      "256:\tlearn: 2.0782652\ttotal: 1.95s\tremaining: 5.63s\n",
      "257:\tlearn: 2.0744642\ttotal: 1.95s\tremaining: 5.62s\n",
      "258:\tlearn: 2.0704975\ttotal: 1.96s\tremaining: 5.61s\n",
      "259:\tlearn: 2.0673282\ttotal: 1.97s\tremaining: 5.6s\n",
      "260:\tlearn: 2.0635496\ttotal: 1.97s\tremaining: 5.58s\n",
      "261:\tlearn: 2.0605696\ttotal: 1.98s\tremaining: 5.57s\n",
      "262:\tlearn: 2.0582707\ttotal: 1.98s\tremaining: 5.56s\n",
      "263:\tlearn: 2.0529869\ttotal: 1.99s\tremaining: 5.54s\n",
      "264:\tlearn: 2.0475247\ttotal: 1.99s\tremaining: 5.53s\n",
      "265:\tlearn: 2.0450246\ttotal: 2s\tremaining: 5.52s\n",
      "266:\tlearn: 2.0421145\ttotal: 2.01s\tremaining: 5.52s\n",
      "267:\tlearn: 2.0398678\ttotal: 2.02s\tremaining: 5.51s\n",
      "268:\tlearn: 2.0361112\ttotal: 2.02s\tremaining: 5.5s\n",
      "269:\tlearn: 2.0328842\ttotal: 2.03s\tremaining: 5.48s\n",
      "270:\tlearn: 2.0278861\ttotal: 2.03s\tremaining: 5.47s\n",
      "271:\tlearn: 2.0221070\ttotal: 2.04s\tremaining: 5.46s\n",
      "272:\tlearn: 2.0189714\ttotal: 2.05s\tremaining: 5.45s\n",
      "273:\tlearn: 2.0174128\ttotal: 2.05s\tremaining: 5.44s\n",
      "274:\tlearn: 2.0139653\ttotal: 2.06s\tremaining: 5.43s\n",
      "275:\tlearn: 2.0096704\ttotal: 2.06s\tremaining: 5.42s\n",
      "276:\tlearn: 2.0060726\ttotal: 2.07s\tremaining: 5.4s\n",
      "277:\tlearn: 2.0026992\ttotal: 2.08s\tremaining: 5.39s\n",
      "278:\tlearn: 1.9995157\ttotal: 2.08s\tremaining: 5.38s\n",
      "279:\tlearn: 1.9948884\ttotal: 2.09s\tremaining: 5.37s\n",
      "280:\tlearn: 1.9923587\ttotal: 2.09s\tremaining: 5.36s\n",
      "281:\tlearn: 1.9905361\ttotal: 2.1s\tremaining: 5.34s\n",
      "282:\tlearn: 1.9879079\ttotal: 2.1s\tremaining: 5.33s\n",
      "283:\tlearn: 1.9851564\ttotal: 2.11s\tremaining: 5.32s\n",
      "284:\tlearn: 1.9811040\ttotal: 2.12s\tremaining: 5.31s\n",
      "285:\tlearn: 1.9793402\ttotal: 2.12s\tremaining: 5.3s\n",
      "286:\tlearn: 1.9760418\ttotal: 2.13s\tremaining: 5.29s\n",
      "287:\tlearn: 1.9736484\ttotal: 2.13s\tremaining: 5.27s\n",
      "288:\tlearn: 1.9713622\ttotal: 2.14s\tremaining: 5.26s\n",
      "289:\tlearn: 1.9675769\ttotal: 2.14s\tremaining: 5.25s\n",
      "290:\tlearn: 1.9648038\ttotal: 2.15s\tremaining: 5.24s\n",
      "291:\tlearn: 1.9623287\ttotal: 2.15s\tremaining: 5.23s\n",
      "292:\tlearn: 1.9591153\ttotal: 2.16s\tremaining: 5.21s\n",
      "293:\tlearn: 1.9562607\ttotal: 2.17s\tremaining: 5.21s\n",
      "294:\tlearn: 1.9537880\ttotal: 2.17s\tremaining: 5.19s\n",
      "295:\tlearn: 1.9510086\ttotal: 2.18s\tremaining: 5.18s\n",
      "296:\tlearn: 1.9482300\ttotal: 2.19s\tremaining: 5.17s\n",
      "297:\tlearn: 1.9448051\ttotal: 2.19s\tremaining: 5.16s\n",
      "298:\tlearn: 1.9417408\ttotal: 2.2s\tremaining: 5.16s\n",
      "299:\tlearn: 1.9375401\ttotal: 2.21s\tremaining: 5.15s\n",
      "300:\tlearn: 1.9342127\ttotal: 2.21s\tremaining: 5.14s\n",
      "301:\tlearn: 1.9304382\ttotal: 2.22s\tremaining: 5.13s\n",
      "302:\tlearn: 1.9280198\ttotal: 2.22s\tremaining: 5.12s\n",
      "303:\tlearn: 1.9258674\ttotal: 2.23s\tremaining: 5.1s\n",
      "304:\tlearn: 1.9235871\ttotal: 2.23s\tremaining: 5.09s\n",
      "305:\tlearn: 1.9215252\ttotal: 2.24s\tremaining: 5.08s\n",
      "306:\tlearn: 1.9176023\ttotal: 2.25s\tremaining: 5.08s\n",
      "307:\tlearn: 1.9144975\ttotal: 2.26s\tremaining: 5.07s\n",
      "308:\tlearn: 1.9108643\ttotal: 2.26s\tremaining: 5.06s\n",
      "309:\tlearn: 1.9060516\ttotal: 2.27s\tremaining: 5.06s\n",
      "310:\tlearn: 1.9029378\ttotal: 2.28s\tremaining: 5.05s\n",
      "311:\tlearn: 1.8991958\ttotal: 2.28s\tremaining: 5.04s\n",
      "312:\tlearn: 1.8963731\ttotal: 2.29s\tremaining: 5.03s\n",
      "313:\tlearn: 1.8942437\ttotal: 2.29s\tremaining: 5.01s\n",
      "314:\tlearn: 1.8930583\ttotal: 2.3s\tremaining: 5s\n",
      "315:\tlearn: 1.8906978\ttotal: 2.31s\tremaining: 4.99s\n",
      "316:\tlearn: 1.8883319\ttotal: 2.31s\tremaining: 4.98s\n",
      "317:\tlearn: 1.8867804\ttotal: 2.32s\tremaining: 4.97s\n",
      "318:\tlearn: 1.8843342\ttotal: 2.32s\tremaining: 4.96s\n",
      "319:\tlearn: 1.8818364\ttotal: 2.33s\tremaining: 4.95s\n",
      "320:\tlearn: 1.8787091\ttotal: 2.33s\tremaining: 4.93s\n",
      "321:\tlearn: 1.8761077\ttotal: 2.34s\tremaining: 4.92s\n",
      "322:\tlearn: 1.8733431\ttotal: 2.34s\tremaining: 4.91s\n",
      "323:\tlearn: 1.8705320\ttotal: 2.35s\tremaining: 4.9s\n",
      "324:\tlearn: 1.8694692\ttotal: 2.35s\tremaining: 4.89s\n",
      "325:\tlearn: 1.8678864\ttotal: 2.36s\tremaining: 4.88s\n",
      "326:\tlearn: 1.8657026\ttotal: 2.37s\tremaining: 4.87s\n",
      "327:\tlearn: 1.8640586\ttotal: 2.37s\tremaining: 4.86s\n",
      "328:\tlearn: 1.8624392\ttotal: 2.38s\tremaining: 4.85s\n",
      "329:\tlearn: 1.8603490\ttotal: 2.38s\tremaining: 4.84s\n",
      "330:\tlearn: 1.8560584\ttotal: 2.39s\tremaining: 4.83s\n",
      "331:\tlearn: 1.8534904\ttotal: 2.4s\tremaining: 4.82s\n",
      "332:\tlearn: 1.8509906\ttotal: 2.4s\tremaining: 4.82s\n",
      "333:\tlearn: 1.8497268\ttotal: 2.41s\tremaining: 4.81s\n",
      "334:\tlearn: 1.8475376\ttotal: 2.42s\tremaining: 4.8s\n",
      "335:\tlearn: 1.8453399\ttotal: 2.42s\tremaining: 4.79s\n",
      "336:\tlearn: 1.8427981\ttotal: 2.43s\tremaining: 4.78s\n",
      "337:\tlearn: 1.8404718\ttotal: 2.43s\tremaining: 4.77s\n",
      "338:\tlearn: 1.8380019\ttotal: 2.44s\tremaining: 4.76s\n",
      "339:\tlearn: 1.8364060\ttotal: 2.44s\tremaining: 4.75s\n",
      "340:\tlearn: 1.8340868\ttotal: 2.45s\tremaining: 4.74s\n",
      "341:\tlearn: 1.8322113\ttotal: 2.46s\tremaining: 4.73s\n",
      "342:\tlearn: 1.8295989\ttotal: 2.46s\tremaining: 4.72s\n",
      "343:\tlearn: 1.8281245\ttotal: 2.47s\tremaining: 4.71s\n",
      "344:\tlearn: 1.8247145\ttotal: 2.47s\tremaining: 4.7s\n",
      "345:\tlearn: 1.8223180\ttotal: 2.48s\tremaining: 4.69s\n",
      "346:\tlearn: 1.8208273\ttotal: 2.49s\tremaining: 4.68s\n",
      "347:\tlearn: 1.8201355\ttotal: 2.49s\tremaining: 4.67s\n",
      "348:\tlearn: 1.8185770\ttotal: 2.5s\tremaining: 4.66s\n",
      "349:\tlearn: 1.8176323\ttotal: 2.5s\tremaining: 4.65s\n",
      "350:\tlearn: 1.8159941\ttotal: 2.51s\tremaining: 4.64s\n",
      "351:\tlearn: 1.8147625\ttotal: 2.51s\tremaining: 4.63s\n",
      "352:\tlearn: 1.8131470\ttotal: 2.52s\tremaining: 4.62s\n",
      "353:\tlearn: 1.8113889\ttotal: 2.52s\tremaining: 4.61s\n",
      "354:\tlearn: 1.8091687\ttotal: 2.53s\tremaining: 4.6s\n",
      "355:\tlearn: 1.8081620\ttotal: 2.54s\tremaining: 4.59s\n",
      "356:\tlearn: 1.8074467\ttotal: 2.54s\tremaining: 4.58s\n",
      "357:\tlearn: 1.8056958\ttotal: 2.55s\tremaining: 4.57s\n",
      "358:\tlearn: 1.8037801\ttotal: 2.55s\tremaining: 4.56s\n",
      "359:\tlearn: 1.8023639\ttotal: 2.56s\tremaining: 4.55s\n",
      "360:\tlearn: 1.7995919\ttotal: 2.56s\tremaining: 4.54s\n",
      "361:\tlearn: 1.7974001\ttotal: 2.57s\tremaining: 4.53s\n",
      "362:\tlearn: 1.7967840\ttotal: 2.58s\tremaining: 4.52s\n"
     ]
    },
    {
     "name": "stdout",
     "output_type": "stream",
     "text": [
      "363:\tlearn: 1.7943049\ttotal: 2.58s\tremaining: 4.51s\n",
      "364:\tlearn: 1.7926193\ttotal: 2.59s\tremaining: 4.5s\n",
      "365:\tlearn: 1.7904346\ttotal: 2.59s\tremaining: 4.49s\n",
      "366:\tlearn: 1.7879745\ttotal: 2.6s\tremaining: 4.49s\n",
      "367:\tlearn: 1.7860370\ttotal: 2.61s\tremaining: 4.48s\n",
      "368:\tlearn: 1.7840771\ttotal: 2.61s\tremaining: 4.47s\n",
      "369:\tlearn: 1.7831041\ttotal: 2.62s\tremaining: 4.46s\n",
      "370:\tlearn: 1.7819723\ttotal: 2.62s\tremaining: 4.45s\n",
      "371:\tlearn: 1.7808781\ttotal: 2.63s\tremaining: 4.44s\n",
      "372:\tlearn: 1.7792646\ttotal: 2.64s\tremaining: 4.43s\n",
      "373:\tlearn: 1.7777298\ttotal: 2.64s\tremaining: 4.42s\n",
      "374:\tlearn: 1.7758509\ttotal: 2.65s\tremaining: 4.41s\n",
      "375:\tlearn: 1.7746880\ttotal: 2.65s\tremaining: 4.4s\n",
      "376:\tlearn: 1.7719075\ttotal: 2.66s\tremaining: 4.39s\n",
      "377:\tlearn: 1.7705224\ttotal: 2.66s\tremaining: 4.38s\n",
      "378:\tlearn: 1.7700279\ttotal: 2.67s\tremaining: 4.37s\n",
      "379:\tlearn: 1.7685910\ttotal: 2.67s\tremaining: 4.37s\n",
      "380:\tlearn: 1.7665210\ttotal: 2.68s\tremaining: 4.36s\n",
      "381:\tlearn: 1.7617983\ttotal: 2.69s\tremaining: 4.35s\n",
      "382:\tlearn: 1.7600759\ttotal: 2.69s\tremaining: 4.34s\n",
      "383:\tlearn: 1.7586347\ttotal: 2.7s\tremaining: 4.33s\n",
      "384:\tlearn: 1.7565722\ttotal: 2.7s\tremaining: 4.32s\n",
      "385:\tlearn: 1.7551382\ttotal: 2.71s\tremaining: 4.31s\n",
      "386:\tlearn: 1.7535523\ttotal: 2.71s\tremaining: 4.3s\n",
      "387:\tlearn: 1.7520018\ttotal: 2.72s\tremaining: 4.29s\n",
      "388:\tlearn: 1.7504601\ttotal: 2.73s\tremaining: 4.28s\n",
      "389:\tlearn: 1.7494489\ttotal: 2.73s\tremaining: 4.27s\n",
      "390:\tlearn: 1.7483250\ttotal: 2.74s\tremaining: 4.26s\n",
      "391:\tlearn: 1.7469085\ttotal: 2.74s\tremaining: 4.25s\n",
      "392:\tlearn: 1.7452300\ttotal: 2.75s\tremaining: 4.25s\n",
      "393:\tlearn: 1.7437251\ttotal: 2.75s\tremaining: 4.24s\n",
      "394:\tlearn: 1.7425581\ttotal: 2.76s\tremaining: 4.23s\n",
      "395:\tlearn: 1.7415498\ttotal: 2.77s\tremaining: 4.22s\n",
      "396:\tlearn: 1.7391779\ttotal: 2.77s\tremaining: 4.21s\n",
      "397:\tlearn: 1.7383027\ttotal: 2.78s\tremaining: 4.2s\n",
      "398:\tlearn: 1.7364781\ttotal: 2.78s\tremaining: 4.19s\n",
      "399:\tlearn: 1.7356401\ttotal: 2.79s\tremaining: 4.19s\n",
      "400:\tlearn: 1.7341392\ttotal: 2.8s\tremaining: 4.18s\n",
      "401:\tlearn: 1.7326287\ttotal: 2.8s\tremaining: 4.17s\n",
      "402:\tlearn: 1.7302020\ttotal: 2.81s\tremaining: 4.16s\n",
      "403:\tlearn: 1.7286264\ttotal: 2.81s\tremaining: 4.15s\n",
      "404:\tlearn: 1.7265880\ttotal: 2.82s\tremaining: 4.14s\n",
      "405:\tlearn: 1.7219972\ttotal: 2.83s\tremaining: 4.13s\n",
      "406:\tlearn: 1.7214553\ttotal: 2.83s\tremaining: 4.12s\n",
      "407:\tlearn: 1.7203150\ttotal: 2.84s\tremaining: 4.12s\n",
      "408:\tlearn: 1.7188893\ttotal: 2.84s\tremaining: 4.11s\n",
      "409:\tlearn: 1.7153803\ttotal: 2.85s\tremaining: 4.1s\n",
      "410:\tlearn: 1.7144115\ttotal: 2.85s\tremaining: 4.09s\n",
      "411:\tlearn: 1.7127455\ttotal: 2.86s\tremaining: 4.08s\n",
      "412:\tlearn: 1.7119300\ttotal: 2.87s\tremaining: 4.07s\n",
      "413:\tlearn: 1.7108827\ttotal: 2.87s\tremaining: 4.06s\n",
      "414:\tlearn: 1.7099348\ttotal: 2.88s\tremaining: 4.05s\n",
      "415:\tlearn: 1.7087042\ttotal: 2.88s\tremaining: 4.04s\n",
      "416:\tlearn: 1.7069377\ttotal: 2.89s\tremaining: 4.04s\n",
      "417:\tlearn: 1.7060664\ttotal: 2.89s\tremaining: 4.03s\n",
      "418:\tlearn: 1.7048832\ttotal: 2.9s\tremaining: 4.02s\n",
      "419:\tlearn: 1.7038837\ttotal: 2.9s\tremaining: 4.01s\n",
      "420:\tlearn: 1.7012343\ttotal: 2.91s\tremaining: 4s\n",
      "421:\tlearn: 1.6999745\ttotal: 2.92s\tremaining: 3.99s\n",
      "422:\tlearn: 1.6992010\ttotal: 2.92s\tremaining: 3.98s\n",
      "423:\tlearn: 1.6981998\ttotal: 2.93s\tremaining: 3.98s\n",
      "424:\tlearn: 1.6965007\ttotal: 2.93s\tremaining: 3.97s\n",
      "425:\tlearn: 1.6958479\ttotal: 2.94s\tremaining: 3.96s\n",
      "426:\tlearn: 1.6943749\ttotal: 2.94s\tremaining: 3.95s\n",
      "427:\tlearn: 1.6930586\ttotal: 2.95s\tremaining: 3.94s\n",
      "428:\tlearn: 1.6911349\ttotal: 2.95s\tremaining: 3.93s\n",
      "429:\tlearn: 1.6896806\ttotal: 2.96s\tremaining: 3.92s\n",
      "430:\tlearn: 1.6876402\ttotal: 2.97s\tremaining: 3.92s\n",
      "431:\tlearn: 1.6850087\ttotal: 2.97s\tremaining: 3.91s\n",
      "432:\tlearn: 1.6837161\ttotal: 2.98s\tremaining: 3.9s\n",
      "433:\tlearn: 1.6827670\ttotal: 2.99s\tremaining: 3.89s\n",
      "434:\tlearn: 1.6791336\ttotal: 2.99s\tremaining: 3.89s\n",
      "435:\tlearn: 1.6782398\ttotal: 3s\tremaining: 3.88s\n",
      "436:\tlearn: 1.6770476\ttotal: 3s\tremaining: 3.87s\n",
      "437:\tlearn: 1.6751938\ttotal: 3.01s\tremaining: 3.86s\n",
      "438:\tlearn: 1.6703369\ttotal: 3.01s\tremaining: 3.85s\n",
      "439:\tlearn: 1.6694027\ttotal: 3.02s\tremaining: 3.84s\n",
      "440:\tlearn: 1.6679252\ttotal: 3.03s\tremaining: 3.84s\n",
      "441:\tlearn: 1.6666910\ttotal: 3.03s\tremaining: 3.83s\n",
      "442:\tlearn: 1.6659047\ttotal: 3.04s\tremaining: 3.82s\n",
      "443:\tlearn: 1.6649046\ttotal: 3.04s\tremaining: 3.81s\n",
      "444:\tlearn: 1.6634561\ttotal: 3.05s\tremaining: 3.8s\n",
      "445:\tlearn: 1.6617476\ttotal: 3.06s\tremaining: 3.79s\n",
      "446:\tlearn: 1.6606709\ttotal: 3.06s\tremaining: 3.79s\n",
      "447:\tlearn: 1.6594576\ttotal: 3.07s\tremaining: 3.78s\n",
      "448:\tlearn: 1.6578407\ttotal: 3.07s\tremaining: 3.77s\n",
      "449:\tlearn: 1.6566207\ttotal: 3.08s\tremaining: 3.76s\n",
      "450:\tlearn: 1.6554418\ttotal: 3.08s\tremaining: 3.75s\n",
      "451:\tlearn: 1.6546688\ttotal: 3.09s\tremaining: 3.75s\n",
      "452:\tlearn: 1.6541171\ttotal: 3.09s\tremaining: 3.74s\n",
      "453:\tlearn: 1.6534223\ttotal: 3.1s\tremaining: 3.73s\n",
      "454:\tlearn: 1.6524136\ttotal: 3.1s\tremaining: 3.72s\n",
      "455:\tlearn: 1.6505627\ttotal: 3.11s\tremaining: 3.71s\n",
      "456:\tlearn: 1.6487179\ttotal: 3.12s\tremaining: 3.7s\n",
      "457:\tlearn: 1.6474686\ttotal: 3.12s\tremaining: 3.69s\n",
      "458:\tlearn: 1.6461675\ttotal: 3.13s\tremaining: 3.69s\n",
      "459:\tlearn: 1.6447497\ttotal: 3.13s\tremaining: 3.68s\n",
      "460:\tlearn: 1.6436628\ttotal: 3.14s\tremaining: 3.67s\n",
      "461:\tlearn: 1.6432951\ttotal: 3.14s\tremaining: 3.66s\n",
      "462:\tlearn: 1.6426246\ttotal: 3.15s\tremaining: 3.65s\n",
      "463:\tlearn: 1.6419677\ttotal: 3.15s\tremaining: 3.65s\n",
      "464:\tlearn: 1.6402723\ttotal: 3.16s\tremaining: 3.64s\n",
      "465:\tlearn: 1.6396242\ttotal: 3.17s\tremaining: 3.63s\n",
      "466:\tlearn: 1.6380001\ttotal: 3.17s\tremaining: 3.62s\n",
      "467:\tlearn: 1.6363209\ttotal: 3.18s\tremaining: 3.61s\n",
      "468:\tlearn: 1.6355382\ttotal: 3.19s\tremaining: 3.61s\n",
      "469:\tlearn: 1.6345066\ttotal: 3.19s\tremaining: 3.6s\n",
      "470:\tlearn: 1.6335023\ttotal: 3.2s\tremaining: 3.59s\n",
      "471:\tlearn: 1.6318069\ttotal: 3.2s\tremaining: 3.58s\n",
      "472:\tlearn: 1.6272480\ttotal: 3.21s\tremaining: 3.58s\n",
      "473:\tlearn: 1.6264256\ttotal: 3.22s\tremaining: 3.57s\n",
      "474:\tlearn: 1.6253044\ttotal: 3.22s\tremaining: 3.56s\n",
      "475:\tlearn: 1.6239202\ttotal: 3.23s\tremaining: 3.55s\n",
      "476:\tlearn: 1.6226023\ttotal: 3.23s\tremaining: 3.54s\n",
      "477:\tlearn: 1.6211085\ttotal: 3.24s\tremaining: 3.54s\n",
      "478:\tlearn: 1.6200762\ttotal: 3.24s\tremaining: 3.53s\n",
      "479:\tlearn: 1.6174625\ttotal: 3.25s\tremaining: 3.52s\n",
      "480:\tlearn: 1.6166581\ttotal: 3.26s\tremaining: 3.51s\n",
      "481:\tlearn: 1.6140007\ttotal: 3.26s\tremaining: 3.5s\n",
      "482:\tlearn: 1.6126212\ttotal: 3.27s\tremaining: 3.5s\n",
      "483:\tlearn: 1.6085801\ttotal: 3.27s\tremaining: 3.49s\n",
      "484:\tlearn: 1.6075507\ttotal: 3.28s\tremaining: 3.48s\n",
      "485:\tlearn: 1.6069246\ttotal: 3.28s\tremaining: 3.47s\n",
      "486:\tlearn: 1.6059128\ttotal: 3.29s\tremaining: 3.46s\n",
      "487:\tlearn: 1.6051504\ttotal: 3.29s\tremaining: 3.46s\n",
      "488:\tlearn: 1.6043540\ttotal: 3.3s\tremaining: 3.45s\n",
      "489:\tlearn: 1.6024268\ttotal: 3.31s\tremaining: 3.44s\n",
      "490:\tlearn: 1.6012787\ttotal: 3.31s\tremaining: 3.43s\n",
      "491:\tlearn: 1.5987901\ttotal: 3.32s\tremaining: 3.43s\n",
      "492:\tlearn: 1.5983267\ttotal: 3.33s\tremaining: 3.42s\n",
      "493:\tlearn: 1.5974983\ttotal: 3.33s\tremaining: 3.41s\n",
      "494:\tlearn: 1.5963213\ttotal: 3.34s\tremaining: 3.4s\n",
      "495:\tlearn: 1.5951684\ttotal: 3.34s\tremaining: 3.4s\n",
      "496:\tlearn: 1.5945400\ttotal: 3.35s\tremaining: 3.39s\n",
      "497:\tlearn: 1.5940393\ttotal: 3.36s\tremaining: 3.38s\n",
      "498:\tlearn: 1.5934209\ttotal: 3.36s\tremaining: 3.38s\n",
      "499:\tlearn: 1.5924761\ttotal: 3.37s\tremaining: 3.37s\n",
      "500:\tlearn: 1.5919745\ttotal: 3.38s\tremaining: 3.36s\n",
      "501:\tlearn: 1.5913030\ttotal: 3.38s\tremaining: 3.35s\n",
      "502:\tlearn: 1.5901992\ttotal: 3.39s\tremaining: 3.35s\n",
      "503:\tlearn: 1.5897147\ttotal: 3.39s\tremaining: 3.34s\n",
      "504:\tlearn: 1.5876846\ttotal: 3.4s\tremaining: 3.33s\n",
      "505:\tlearn: 1.5857479\ttotal: 3.4s\tremaining: 3.32s\n",
      "506:\tlearn: 1.5851003\ttotal: 3.41s\tremaining: 3.32s\n",
      "507:\tlearn: 1.5832565\ttotal: 3.42s\tremaining: 3.31s\n",
      "508:\tlearn: 1.5821947\ttotal: 3.42s\tremaining: 3.3s\n",
      "509:\tlearn: 1.5808957\ttotal: 3.43s\tremaining: 3.29s\n",
      "510:\tlearn: 1.5803866\ttotal: 3.43s\tremaining: 3.29s\n",
      "511:\tlearn: 1.5793828\ttotal: 3.44s\tremaining: 3.28s\n",
      "512:\tlearn: 1.5776098\ttotal: 3.44s\tremaining: 3.27s\n",
      "513:\tlearn: 1.5767300\ttotal: 3.45s\tremaining: 3.26s\n",
      "514:\tlearn: 1.5762684\ttotal: 3.46s\tremaining: 3.26s\n",
      "515:\tlearn: 1.5742093\ttotal: 3.46s\tremaining: 3.25s\n",
      "516:\tlearn: 1.5733591\ttotal: 3.47s\tremaining: 3.24s\n",
      "517:\tlearn: 1.5729841\ttotal: 3.48s\tremaining: 3.23s\n",
      "518:\tlearn: 1.5720156\ttotal: 3.48s\tremaining: 3.23s\n",
      "519:\tlearn: 1.5711170\ttotal: 3.49s\tremaining: 3.22s\n",
      "520:\tlearn: 1.5699396\ttotal: 3.49s\tremaining: 3.21s\n",
      "521:\tlearn: 1.5691194\ttotal: 3.5s\tremaining: 3.2s\n",
      "522:\tlearn: 1.5682021\ttotal: 3.5s\tremaining: 3.19s\n",
      "523:\tlearn: 1.5666248\ttotal: 3.51s\tremaining: 3.19s\n",
      "524:\tlearn: 1.5664047\ttotal: 3.51s\tremaining: 3.18s\n",
      "525:\tlearn: 1.5655547\ttotal: 3.52s\tremaining: 3.17s\n",
      "526:\tlearn: 1.5633616\ttotal: 3.52s\tremaining: 3.16s\n",
      "527:\tlearn: 1.5623636\ttotal: 3.53s\tremaining: 3.16s\n",
      "528:\tlearn: 1.5612366\ttotal: 3.54s\tremaining: 3.15s\n",
      "529:\tlearn: 1.5601040\ttotal: 3.54s\tremaining: 3.14s\n"
     ]
    },
    {
     "name": "stdout",
     "output_type": "stream",
     "text": [
      "530:\tlearn: 1.5594823\ttotal: 3.55s\tremaining: 3.13s\n",
      "531:\tlearn: 1.5589313\ttotal: 3.56s\tremaining: 3.13s\n",
      "532:\tlearn: 1.5570741\ttotal: 3.56s\tremaining: 3.12s\n",
      "533:\tlearn: 1.5550675\ttotal: 3.57s\tremaining: 3.11s\n",
      "534:\tlearn: 1.5546711\ttotal: 3.57s\tremaining: 3.11s\n",
      "535:\tlearn: 1.5543240\ttotal: 3.58s\tremaining: 3.1s\n",
      "536:\tlearn: 1.5524441\ttotal: 3.58s\tremaining: 3.09s\n",
      "537:\tlearn: 1.5508376\ttotal: 3.59s\tremaining: 3.08s\n",
      "538:\tlearn: 1.5499285\ttotal: 3.6s\tremaining: 3.08s\n",
      "539:\tlearn: 1.5489183\ttotal: 3.6s\tremaining: 3.07s\n",
      "540:\tlearn: 1.5476952\ttotal: 3.61s\tremaining: 3.06s\n",
      "541:\tlearn: 1.5466270\ttotal: 3.61s\tremaining: 3.05s\n",
      "542:\tlearn: 1.5448244\ttotal: 3.62s\tremaining: 3.05s\n",
      "543:\tlearn: 1.5439226\ttotal: 3.63s\tremaining: 3.04s\n",
      "544:\tlearn: 1.5435956\ttotal: 3.63s\tremaining: 3.03s\n",
      "545:\tlearn: 1.5419015\ttotal: 3.64s\tremaining: 3.02s\n",
      "546:\tlearn: 1.5414641\ttotal: 3.64s\tremaining: 3.02s\n",
      "547:\tlearn: 1.5405789\ttotal: 3.65s\tremaining: 3.01s\n",
      "548:\tlearn: 1.5395161\ttotal: 3.65s\tremaining: 3s\n",
      "549:\tlearn: 1.5379501\ttotal: 3.66s\tremaining: 3s\n",
      "550:\tlearn: 1.5375061\ttotal: 3.67s\tremaining: 2.99s\n",
      "551:\tlearn: 1.5371544\ttotal: 3.67s\tremaining: 2.98s\n",
      "552:\tlearn: 1.5366617\ttotal: 3.68s\tremaining: 2.97s\n",
      "553:\tlearn: 1.5345760\ttotal: 3.68s\tremaining: 2.96s\n",
      "554:\tlearn: 1.5339902\ttotal: 3.69s\tremaining: 2.96s\n",
      "555:\tlearn: 1.5327592\ttotal: 3.69s\tremaining: 2.95s\n",
      "556:\tlearn: 1.5321381\ttotal: 3.7s\tremaining: 2.94s\n",
      "557:\tlearn: 1.5317068\ttotal: 3.71s\tremaining: 2.94s\n",
      "558:\tlearn: 1.5310778\ttotal: 3.71s\tremaining: 2.93s\n",
      "559:\tlearn: 1.5305480\ttotal: 3.72s\tremaining: 2.92s\n",
      "560:\tlearn: 1.5288586\ttotal: 3.72s\tremaining: 2.91s\n",
      "561:\tlearn: 1.5280227\ttotal: 3.73s\tremaining: 2.91s\n",
      "562:\tlearn: 1.5277277\ttotal: 3.73s\tremaining: 2.9s\n",
      "563:\tlearn: 1.5274846\ttotal: 3.74s\tremaining: 2.89s\n",
      "564:\tlearn: 1.5270900\ttotal: 3.75s\tremaining: 2.89s\n",
      "565:\tlearn: 1.5262980\ttotal: 3.76s\tremaining: 2.88s\n",
      "566:\tlearn: 1.5260828\ttotal: 3.77s\tremaining: 2.88s\n",
      "567:\tlearn: 1.5249693\ttotal: 3.78s\tremaining: 2.88s\n",
      "568:\tlearn: 1.5242788\ttotal: 3.79s\tremaining: 2.87s\n",
      "569:\tlearn: 1.5239908\ttotal: 3.8s\tremaining: 2.86s\n",
      "570:\tlearn: 1.5234444\ttotal: 3.8s\tremaining: 2.86s\n",
      "571:\tlearn: 1.5222678\ttotal: 3.81s\tremaining: 2.85s\n",
      "572:\tlearn: 1.5218746\ttotal: 3.82s\tremaining: 2.85s\n",
      "573:\tlearn: 1.5208055\ttotal: 3.83s\tremaining: 2.84s\n",
      "574:\tlearn: 1.5176080\ttotal: 3.84s\tremaining: 2.83s\n",
      "575:\tlearn: 1.5170012\ttotal: 3.84s\tremaining: 2.83s\n",
      "576:\tlearn: 1.5161061\ttotal: 3.85s\tremaining: 2.82s\n",
      "577:\tlearn: 1.5148374\ttotal: 3.86s\tremaining: 2.82s\n",
      "578:\tlearn: 1.5137198\ttotal: 3.87s\tremaining: 2.81s\n",
      "579:\tlearn: 1.5113800\ttotal: 3.87s\tremaining: 2.8s\n",
      "580:\tlearn: 1.5107762\ttotal: 3.88s\tremaining: 2.8s\n",
      "581:\tlearn: 1.5099108\ttotal: 3.89s\tremaining: 2.79s\n",
      "582:\tlearn: 1.5096317\ttotal: 3.89s\tremaining: 2.78s\n",
      "583:\tlearn: 1.5093573\ttotal: 3.9s\tremaining: 2.78s\n",
      "584:\tlearn: 1.5079369\ttotal: 3.91s\tremaining: 2.77s\n",
      "585:\tlearn: 1.5073833\ttotal: 3.91s\tremaining: 2.76s\n",
      "586:\tlearn: 1.5067610\ttotal: 3.92s\tremaining: 2.76s\n",
      "587:\tlearn: 1.5056726\ttotal: 3.92s\tremaining: 2.75s\n",
      "588:\tlearn: 1.5046376\ttotal: 3.93s\tremaining: 2.74s\n",
      "589:\tlearn: 1.5043742\ttotal: 3.94s\tremaining: 2.74s\n",
      "590:\tlearn: 1.5035192\ttotal: 3.95s\tremaining: 2.73s\n",
      "591:\tlearn: 1.5025664\ttotal: 3.96s\tremaining: 2.73s\n",
      "592:\tlearn: 1.5013201\ttotal: 3.96s\tremaining: 2.72s\n",
      "593:\tlearn: 1.5010251\ttotal: 3.97s\tremaining: 2.71s\n",
      "594:\tlearn: 1.5004447\ttotal: 3.98s\tremaining: 2.71s\n",
      "595:\tlearn: 1.5001870\ttotal: 3.98s\tremaining: 2.7s\n",
      "596:\tlearn: 1.4991014\ttotal: 3.99s\tremaining: 2.69s\n",
      "597:\tlearn: 1.4984985\ttotal: 4s\tremaining: 2.69s\n",
      "598:\tlearn: 1.4976984\ttotal: 4.01s\tremaining: 2.68s\n",
      "599:\tlearn: 1.4957604\ttotal: 4.01s\tremaining: 2.68s\n",
      "600:\tlearn: 1.4931301\ttotal: 4.02s\tremaining: 2.67s\n",
      "601:\tlearn: 1.4922080\ttotal: 4.03s\tremaining: 2.66s\n",
      "602:\tlearn: 1.4913982\ttotal: 4.03s\tremaining: 2.66s\n",
      "603:\tlearn: 1.4903571\ttotal: 4.04s\tremaining: 2.65s\n",
      "604:\tlearn: 1.4900871\ttotal: 4.05s\tremaining: 2.64s\n",
      "605:\tlearn: 1.4892293\ttotal: 4.06s\tremaining: 2.64s\n",
      "606:\tlearn: 1.4884915\ttotal: 4.06s\tremaining: 2.63s\n",
      "607:\tlearn: 1.4878189\ttotal: 4.07s\tremaining: 2.62s\n",
      "608:\tlearn: 1.4865967\ttotal: 4.08s\tremaining: 2.62s\n",
      "609:\tlearn: 1.4854554\ttotal: 4.08s\tremaining: 2.61s\n",
      "610:\tlearn: 1.4851984\ttotal: 4.09s\tremaining: 2.6s\n",
      "611:\tlearn: 1.4842474\ttotal: 4.1s\tremaining: 2.6s\n",
      "612:\tlearn: 1.4831625\ttotal: 4.1s\tremaining: 2.59s\n",
      "613:\tlearn: 1.4826325\ttotal: 4.11s\tremaining: 2.58s\n",
      "614:\tlearn: 1.4823592\ttotal: 4.12s\tremaining: 2.58s\n",
      "615:\tlearn: 1.4816391\ttotal: 4.12s\tremaining: 2.57s\n",
      "616:\tlearn: 1.4810472\ttotal: 4.13s\tremaining: 2.56s\n",
      "617:\tlearn: 1.4798438\ttotal: 4.13s\tremaining: 2.55s\n",
      "618:\tlearn: 1.4796020\ttotal: 4.14s\tremaining: 2.55s\n",
      "619:\tlearn: 1.4793399\ttotal: 4.15s\tremaining: 2.54s\n",
      "620:\tlearn: 1.4786243\ttotal: 4.15s\tremaining: 2.54s\n",
      "621:\tlearn: 1.4783414\ttotal: 4.16s\tremaining: 2.53s\n",
      "622:\tlearn: 1.4781062\ttotal: 4.17s\tremaining: 2.52s\n",
      "623:\tlearn: 1.4773754\ttotal: 4.17s\tremaining: 2.51s\n",
      "624:\tlearn: 1.4762736\ttotal: 4.18s\tremaining: 2.51s\n",
      "625:\tlearn: 1.4753769\ttotal: 4.18s\tremaining: 2.5s\n",
      "626:\tlearn: 1.4742362\ttotal: 4.19s\tremaining: 2.49s\n",
      "627:\tlearn: 1.4732144\ttotal: 4.19s\tremaining: 2.48s\n",
      "628:\tlearn: 1.4726476\ttotal: 4.2s\tremaining: 2.48s\n",
      "629:\tlearn: 1.4718489\ttotal: 4.21s\tremaining: 2.47s\n",
      "630:\tlearn: 1.4710911\ttotal: 4.21s\tremaining: 2.46s\n",
      "631:\tlearn: 1.4699732\ttotal: 4.22s\tremaining: 2.46s\n",
      "632:\tlearn: 1.4689781\ttotal: 4.22s\tremaining: 2.45s\n",
      "633:\tlearn: 1.4672932\ttotal: 4.23s\tremaining: 2.44s\n",
      "634:\tlearn: 1.4654617\ttotal: 4.23s\tremaining: 2.43s\n",
      "635:\tlearn: 1.4652273\ttotal: 4.24s\tremaining: 2.43s\n",
      "636:\tlearn: 1.4647702\ttotal: 4.25s\tremaining: 2.42s\n",
      "637:\tlearn: 1.4644636\ttotal: 4.25s\tremaining: 2.41s\n",
      "638:\tlearn: 1.4642249\ttotal: 4.26s\tremaining: 2.4s\n",
      "639:\tlearn: 1.4639114\ttotal: 4.26s\tremaining: 2.4s\n",
      "640:\tlearn: 1.4622618\ttotal: 4.27s\tremaining: 2.39s\n",
      "641:\tlearn: 1.4611348\ttotal: 4.28s\tremaining: 2.38s\n",
      "642:\tlearn: 1.4609241\ttotal: 4.28s\tremaining: 2.38s\n",
      "643:\tlearn: 1.4607080\ttotal: 4.29s\tremaining: 2.37s\n",
      "644:\tlearn: 1.4585024\ttotal: 4.29s\tremaining: 2.36s\n",
      "645:\tlearn: 1.4577918\ttotal: 4.3s\tremaining: 2.35s\n",
      "646:\tlearn: 1.4575671\ttotal: 4.3s\tremaining: 2.35s\n",
      "647:\tlearn: 1.4569774\ttotal: 4.31s\tremaining: 2.34s\n",
      "648:\tlearn: 1.4552085\ttotal: 4.32s\tremaining: 2.33s\n",
      "649:\tlearn: 1.4545149\ttotal: 4.32s\tremaining: 2.33s\n",
      "650:\tlearn: 1.4534213\ttotal: 4.33s\tremaining: 2.32s\n",
      "651:\tlearn: 1.4532087\ttotal: 4.33s\tremaining: 2.31s\n",
      "652:\tlearn: 1.4529971\ttotal: 4.34s\tremaining: 2.31s\n",
      "653:\tlearn: 1.4522157\ttotal: 4.34s\tremaining: 2.3s\n",
      "654:\tlearn: 1.4510228\ttotal: 4.35s\tremaining: 2.29s\n",
      "655:\tlearn: 1.4493922\ttotal: 4.36s\tremaining: 2.28s\n",
      "656:\tlearn: 1.4486562\ttotal: 4.36s\tremaining: 2.28s\n",
      "657:\tlearn: 1.4483659\ttotal: 4.37s\tremaining: 2.27s\n",
      "658:\tlearn: 1.4477768\ttotal: 4.37s\tremaining: 2.26s\n",
      "659:\tlearn: 1.4466613\ttotal: 4.38s\tremaining: 2.26s\n",
      "660:\tlearn: 1.4463816\ttotal: 4.38s\tremaining: 2.25s\n",
      "661:\tlearn: 1.4451286\ttotal: 4.39s\tremaining: 2.24s\n",
      "662:\tlearn: 1.4449316\ttotal: 4.4s\tremaining: 2.23s\n",
      "663:\tlearn: 1.4444313\ttotal: 4.4s\tremaining: 2.23s\n",
      "664:\tlearn: 1.4442362\ttotal: 4.41s\tremaining: 2.22s\n",
      "665:\tlearn: 1.4440564\ttotal: 4.42s\tremaining: 2.21s\n",
      "666:\tlearn: 1.4438680\ttotal: 4.42s\tremaining: 2.21s\n",
      "667:\tlearn: 1.4430124\ttotal: 4.43s\tremaining: 2.2s\n",
      "668:\tlearn: 1.4423752\ttotal: 4.43s\tremaining: 2.19s\n",
      "669:\tlearn: 1.4421607\ttotal: 4.44s\tremaining: 2.19s\n",
      "670:\tlearn: 1.4419503\ttotal: 4.44s\tremaining: 2.18s\n",
      "671:\tlearn: 1.4412815\ttotal: 4.45s\tremaining: 2.17s\n",
      "672:\tlearn: 1.4411017\ttotal: 4.45s\tremaining: 2.16s\n",
      "673:\tlearn: 1.4408980\ttotal: 4.46s\tremaining: 2.16s\n",
      "674:\tlearn: 1.4403269\ttotal: 4.46s\tremaining: 2.15s\n",
      "675:\tlearn: 1.4385078\ttotal: 4.47s\tremaining: 2.14s\n",
      "676:\tlearn: 1.4383307\ttotal: 4.48s\tremaining: 2.13s\n",
      "677:\tlearn: 1.4376612\ttotal: 4.48s\tremaining: 2.13s\n",
      "678:\tlearn: 1.4373887\ttotal: 4.49s\tremaining: 2.12s\n",
      "679:\tlearn: 1.4369739\ttotal: 4.49s\tremaining: 2.11s\n",
      "680:\tlearn: 1.4352593\ttotal: 4.5s\tremaining: 2.11s\n",
      "681:\tlearn: 1.4350574\ttotal: 4.5s\tremaining: 2.1s\n",
      "682:\tlearn: 1.4348843\ttotal: 4.51s\tremaining: 2.09s\n",
      "683:\tlearn: 1.4343041\ttotal: 4.51s\tremaining: 2.09s\n",
      "684:\tlearn: 1.4341353\ttotal: 4.52s\tremaining: 2.08s\n",
      "685:\tlearn: 1.4339601\ttotal: 4.53s\tremaining: 2.07s\n",
      "686:\tlearn: 1.4324094\ttotal: 4.54s\tremaining: 2.07s\n",
      "687:\tlearn: 1.4321540\ttotal: 4.54s\tremaining: 2.06s\n",
      "688:\tlearn: 1.4315431\ttotal: 4.55s\tremaining: 2.05s\n",
      "689:\tlearn: 1.4305913\ttotal: 4.55s\tremaining: 2.04s\n",
      "690:\tlearn: 1.4304285\ttotal: 4.56s\tremaining: 2.04s\n",
      "691:\tlearn: 1.4302525\ttotal: 4.56s\tremaining: 2.03s\n",
      "692:\tlearn: 1.4301278\ttotal: 4.57s\tremaining: 2.02s\n",
      "693:\tlearn: 1.4288987\ttotal: 4.58s\tremaining: 2.02s\n",
      "694:\tlearn: 1.4284947\ttotal: 4.58s\tremaining: 2.01s\n",
      "695:\tlearn: 1.4283143\ttotal: 4.59s\tremaining: 2s\n",
      "696:\tlearn: 1.4281028\ttotal: 4.59s\tremaining: 2s\n",
      "697:\tlearn: 1.4272252\ttotal: 4.6s\tremaining: 1.99s\n",
      "698:\tlearn: 1.4270710\ttotal: 4.61s\tremaining: 1.98s\n",
      "699:\tlearn: 1.4260391\ttotal: 4.61s\tremaining: 1.98s\n",
      "700:\tlearn: 1.4255858\ttotal: 4.62s\tremaining: 1.97s\n",
      "701:\tlearn: 1.4254359\ttotal: 4.62s\tremaining: 1.96s\n",
      "702:\tlearn: 1.4252747\ttotal: 4.63s\tremaining: 1.96s\n",
      "703:\tlearn: 1.4251295\ttotal: 4.63s\tremaining: 1.95s\n",
      "704:\tlearn: 1.4246618\ttotal: 4.64s\tremaining: 1.94s\n",
      "705:\tlearn: 1.4241284\ttotal: 4.64s\tremaining: 1.93s\n",
      "706:\tlearn: 1.4239851\ttotal: 4.65s\tremaining: 1.93s\n",
      "707:\tlearn: 1.4233764\ttotal: 4.66s\tremaining: 1.92s\n",
      "708:\tlearn: 1.4232108\ttotal: 4.66s\tremaining: 1.91s\n",
      "709:\tlearn: 1.4230486\ttotal: 4.67s\tremaining: 1.91s\n",
      "710:\tlearn: 1.4228861\ttotal: 4.67s\tremaining: 1.9s\n",
      "711:\tlearn: 1.4216591\ttotal: 4.68s\tremaining: 1.89s\n",
      "712:\tlearn: 1.4209116\ttotal: 4.68s\tremaining: 1.88s\n",
      "713:\tlearn: 1.4206222\ttotal: 4.69s\tremaining: 1.88s\n",
      "714:\tlearn: 1.4203888\ttotal: 4.69s\tremaining: 1.87s\n",
      "715:\tlearn: 1.4187995\ttotal: 4.7s\tremaining: 1.86s\n",
      "716:\tlearn: 1.4186628\ttotal: 4.7s\tremaining: 1.86s\n",
      "717:\tlearn: 1.4182369\ttotal: 4.71s\tremaining: 1.85s\n"
     ]
    },
    {
     "name": "stdout",
     "output_type": "stream",
     "text": [
      "718:\tlearn: 1.4176491\ttotal: 4.72s\tremaining: 1.84s\n",
      "719:\tlearn: 1.4168993\ttotal: 4.72s\tremaining: 1.84s\n",
      "720:\tlearn: 1.4167652\ttotal: 4.73s\tremaining: 1.83s\n",
      "721:\tlearn: 1.4162822\ttotal: 4.74s\tremaining: 1.82s\n",
      "722:\tlearn: 1.4161404\ttotal: 4.74s\tremaining: 1.82s\n",
      "723:\tlearn: 1.4153308\ttotal: 4.75s\tremaining: 1.81s\n",
      "724:\tlearn: 1.4143999\ttotal: 4.75s\tremaining: 1.8s\n",
      "725:\tlearn: 1.4136377\ttotal: 4.76s\tremaining: 1.8s\n",
      "726:\tlearn: 1.4132192\ttotal: 4.77s\tremaining: 1.79s\n",
      "727:\tlearn: 1.4126990\ttotal: 4.77s\tremaining: 1.78s\n",
      "728:\tlearn: 1.4123106\ttotal: 4.78s\tremaining: 1.78s\n",
      "729:\tlearn: 1.4121744\ttotal: 4.78s\tremaining: 1.77s\n",
      "730:\tlearn: 1.4116724\ttotal: 4.79s\tremaining: 1.76s\n",
      "731:\tlearn: 1.4115397\ttotal: 4.79s\tremaining: 1.75s\n",
      "732:\tlearn: 1.4109406\ttotal: 4.8s\tremaining: 1.75s\n",
      "733:\tlearn: 1.4106922\ttotal: 4.81s\tremaining: 1.74s\n",
      "734:\tlearn: 1.4105639\ttotal: 4.81s\tremaining: 1.73s\n",
      "735:\tlearn: 1.4099707\ttotal: 4.82s\tremaining: 1.73s\n",
      "736:\tlearn: 1.4097340\ttotal: 4.82s\tremaining: 1.72s\n",
      "737:\tlearn: 1.4094800\ttotal: 4.83s\tremaining: 1.71s\n",
      "738:\tlearn: 1.4083985\ttotal: 4.83s\tremaining: 1.71s\n",
      "739:\tlearn: 1.4081402\ttotal: 4.84s\tremaining: 1.7s\n",
      "740:\tlearn: 1.4079978\ttotal: 4.84s\tremaining: 1.69s\n",
      "741:\tlearn: 1.4077976\ttotal: 4.85s\tremaining: 1.69s\n",
      "742:\tlearn: 1.4071218\ttotal: 4.86s\tremaining: 1.68s\n",
      "743:\tlearn: 1.4069773\ttotal: 4.86s\tremaining: 1.67s\n",
      "744:\tlearn: 1.4061830\ttotal: 4.87s\tremaining: 1.67s\n",
      "745:\tlearn: 1.4056725\ttotal: 4.87s\tremaining: 1.66s\n",
      "746:\tlearn: 1.4050522\ttotal: 4.88s\tremaining: 1.65s\n",
      "747:\tlearn: 1.4049074\ttotal: 4.88s\tremaining: 1.64s\n",
      "748:\tlearn: 1.4039744\ttotal: 4.89s\tremaining: 1.64s\n",
      "749:\tlearn: 1.4038548\ttotal: 4.9s\tremaining: 1.63s\n",
      "750:\tlearn: 1.4033753\ttotal: 4.9s\tremaining: 1.63s\n",
      "751:\tlearn: 1.4030622\ttotal: 4.91s\tremaining: 1.62s\n",
      "752:\tlearn: 1.4029403\ttotal: 4.92s\tremaining: 1.61s\n",
      "753:\tlearn: 1.4028034\ttotal: 4.93s\tremaining: 1.61s\n",
      "754:\tlearn: 1.4014860\ttotal: 4.94s\tremaining: 1.6s\n",
      "755:\tlearn: 1.4012389\ttotal: 4.94s\tremaining: 1.59s\n",
      "756:\tlearn: 1.4010080\ttotal: 4.95s\tremaining: 1.59s\n",
      "757:\tlearn: 1.3994149\ttotal: 4.96s\tremaining: 1.58s\n",
      "758:\tlearn: 1.3992780\ttotal: 4.96s\tremaining: 1.58s\n",
      "759:\tlearn: 1.3976090\ttotal: 4.97s\tremaining: 1.57s\n",
      "760:\tlearn: 1.3970161\ttotal: 4.98s\tremaining: 1.56s\n",
      "761:\tlearn: 1.3964436\ttotal: 4.99s\tremaining: 1.56s\n",
      "762:\tlearn: 1.3958386\ttotal: 4.99s\tremaining: 1.55s\n",
      "763:\tlearn: 1.3957195\ttotal: 5s\tremaining: 1.54s\n",
      "764:\tlearn: 1.3955344\ttotal: 5.01s\tremaining: 1.54s\n",
      "765:\tlearn: 1.3952983\ttotal: 5.02s\tremaining: 1.53s\n",
      "766:\tlearn: 1.3945160\ttotal: 5.02s\tremaining: 1.53s\n",
      "767:\tlearn: 1.3943818\ttotal: 5.03s\tremaining: 1.52s\n",
      "768:\tlearn: 1.3938224\ttotal: 5.04s\tremaining: 1.51s\n",
      "769:\tlearn: 1.3936906\ttotal: 5.04s\tremaining: 1.5s\n",
      "770:\tlearn: 1.3931284\ttotal: 5.05s\tremaining: 1.5s\n",
      "771:\tlearn: 1.3923393\ttotal: 5.05s\tremaining: 1.49s\n",
      "772:\tlearn: 1.3912746\ttotal: 5.06s\tremaining: 1.49s\n",
      "773:\tlearn: 1.3903563\ttotal: 5.07s\tremaining: 1.48s\n",
      "774:\tlearn: 1.3896650\ttotal: 5.07s\tremaining: 1.47s\n",
      "775:\tlearn: 1.3886235\ttotal: 5.08s\tremaining: 1.47s\n",
      "776:\tlearn: 1.3885075\ttotal: 5.08s\tremaining: 1.46s\n",
      "777:\tlearn: 1.3882769\ttotal: 5.09s\tremaining: 1.45s\n",
      "778:\tlearn: 1.3874070\ttotal: 5.09s\tremaining: 1.45s\n",
      "779:\tlearn: 1.3872949\ttotal: 5.1s\tremaining: 1.44s\n",
      "780:\tlearn: 1.3871813\ttotal: 5.11s\tremaining: 1.43s\n",
      "781:\tlearn: 1.3870727\ttotal: 5.12s\tremaining: 1.43s\n",
      "782:\tlearn: 1.3862460\ttotal: 5.12s\tremaining: 1.42s\n",
      "783:\tlearn: 1.3859052\ttotal: 5.13s\tremaining: 1.41s\n",
      "784:\tlearn: 1.3855595\ttotal: 5.13s\tremaining: 1.41s\n",
      "785:\tlearn: 1.3854508\ttotal: 5.14s\tremaining: 1.4s\n",
      "786:\tlearn: 1.3847097\ttotal: 5.15s\tremaining: 1.39s\n",
      "787:\tlearn: 1.3838474\ttotal: 5.16s\tremaining: 1.39s\n",
      "788:\tlearn: 1.3837226\ttotal: 5.16s\tremaining: 1.38s\n",
      "789:\tlearn: 1.3826824\ttotal: 5.17s\tremaining: 1.37s\n",
      "790:\tlearn: 1.3818130\ttotal: 5.17s\tremaining: 1.37s\n",
      "791:\tlearn: 1.3805623\ttotal: 5.18s\tremaining: 1.36s\n",
      "792:\tlearn: 1.3794696\ttotal: 5.19s\tremaining: 1.35s\n",
      "793:\tlearn: 1.3779327\ttotal: 5.19s\tremaining: 1.35s\n",
      "794:\tlearn: 1.3769143\ttotal: 5.2s\tremaining: 1.34s\n",
      "795:\tlearn: 1.3764965\ttotal: 5.2s\tremaining: 1.33s\n",
      "796:\tlearn: 1.3757673\ttotal: 5.21s\tremaining: 1.33s\n",
      "797:\tlearn: 1.3748452\ttotal: 5.21s\tremaining: 1.32s\n",
      "798:\tlearn: 1.3747366\ttotal: 5.22s\tremaining: 1.31s\n",
      "799:\tlearn: 1.3746328\ttotal: 5.23s\tremaining: 1.31s\n",
      "800:\tlearn: 1.3745199\ttotal: 5.23s\tremaining: 1.3s\n",
      "801:\tlearn: 1.3740480\ttotal: 5.24s\tremaining: 1.29s\n",
      "802:\tlearn: 1.3730516\ttotal: 5.24s\tremaining: 1.29s\n",
      "803:\tlearn: 1.3728640\ttotal: 5.25s\tremaining: 1.28s\n",
      "804:\tlearn: 1.3727643\ttotal: 5.25s\tremaining: 1.27s\n",
      "805:\tlearn: 1.3719332\ttotal: 5.26s\tremaining: 1.26s\n",
      "806:\tlearn: 1.3718367\ttotal: 5.26s\tremaining: 1.26s\n",
      "807:\tlearn: 1.3717326\ttotal: 5.27s\tremaining: 1.25s\n",
      "808:\tlearn: 1.3712051\ttotal: 5.27s\tremaining: 1.24s\n",
      "809:\tlearn: 1.3708085\ttotal: 5.28s\tremaining: 1.24s\n",
      "810:\tlearn: 1.3699820\ttotal: 5.28s\tremaining: 1.23s\n",
      "811:\tlearn: 1.3698812\ttotal: 5.29s\tremaining: 1.22s\n",
      "812:\tlearn: 1.3694172\ttotal: 5.29s\tremaining: 1.22s\n",
      "813:\tlearn: 1.3685510\ttotal: 5.3s\tremaining: 1.21s\n",
      "814:\tlearn: 1.3680647\ttotal: 5.31s\tremaining: 1.2s\n",
      "815:\tlearn: 1.3675280\ttotal: 5.31s\tremaining: 1.2s\n",
      "816:\tlearn: 1.3674282\ttotal: 5.32s\tremaining: 1.19s\n",
      "817:\tlearn: 1.3665766\ttotal: 5.33s\tremaining: 1.19s\n",
      "818:\tlearn: 1.3657035\ttotal: 5.33s\tremaining: 1.18s\n",
      "819:\tlearn: 1.3633697\ttotal: 5.34s\tremaining: 1.17s\n",
      "820:\tlearn: 1.3630096\ttotal: 5.35s\tremaining: 1.17s\n",
      "821:\tlearn: 1.3624485\ttotal: 5.35s\tremaining: 1.16s\n",
      "822:\tlearn: 1.3623496\ttotal: 5.36s\tremaining: 1.15s\n",
      "823:\tlearn: 1.3616673\ttotal: 5.36s\tremaining: 1.15s\n",
      "824:\tlearn: 1.3609283\ttotal: 5.37s\tremaining: 1.14s\n",
      "825:\tlearn: 1.3608006\ttotal: 5.37s\tremaining: 1.13s\n",
      "826:\tlearn: 1.3596348\ttotal: 5.38s\tremaining: 1.13s\n",
      "827:\tlearn: 1.3589101\ttotal: 5.39s\tremaining: 1.12s\n",
      "828:\tlearn: 1.3580356\ttotal: 5.39s\tremaining: 1.11s\n",
      "829:\tlearn: 1.3579285\ttotal: 5.4s\tremaining: 1.1s\n",
      "830:\tlearn: 1.3574351\ttotal: 5.4s\tremaining: 1.1s\n",
      "831:\tlearn: 1.3573363\ttotal: 5.41s\tremaining: 1.09s\n",
      "832:\tlearn: 1.3569433\ttotal: 5.41s\tremaining: 1.08s\n",
      "833:\tlearn: 1.3561715\ttotal: 5.42s\tremaining: 1.08s\n",
      "834:\tlearn: 1.3550926\ttotal: 5.42s\tremaining: 1.07s\n",
      "835:\tlearn: 1.3540832\ttotal: 5.43s\tremaining: 1.06s\n",
      "836:\tlearn: 1.3539768\ttotal: 5.44s\tremaining: 1.06s\n",
      "837:\tlearn: 1.3533723\ttotal: 5.44s\tremaining: 1.05s\n",
      "838:\tlearn: 1.3525411\ttotal: 5.45s\tremaining: 1.04s\n",
      "839:\tlearn: 1.3517759\ttotal: 5.46s\tremaining: 1.04s\n",
      "840:\tlearn: 1.3516442\ttotal: 5.46s\tremaining: 1.03s\n",
      "841:\tlearn: 1.3515531\ttotal: 5.47s\tremaining: 1.02s\n",
      "842:\tlearn: 1.3514635\ttotal: 5.47s\tremaining: 1.02s\n",
      "843:\tlearn: 1.3510044\ttotal: 5.48s\tremaining: 1.01s\n",
      "844:\tlearn: 1.3502378\ttotal: 5.48s\tremaining: 1s\n",
      "845:\tlearn: 1.3500436\ttotal: 5.49s\tremaining: 999ms\n",
      "846:\tlearn: 1.3499169\ttotal: 5.49s\tremaining: 992ms\n",
      "847:\tlearn: 1.3495803\ttotal: 5.5s\tremaining: 986ms\n",
      "848:\tlearn: 1.3494845\ttotal: 5.51s\tremaining: 980ms\n",
      "849:\tlearn: 1.3491868\ttotal: 5.51s\tremaining: 973ms\n",
      "850:\tlearn: 1.3488676\ttotal: 5.52s\tremaining: 966ms\n",
      "851:\tlearn: 1.3486403\ttotal: 5.52s\tremaining: 960ms\n",
      "852:\tlearn: 1.3475103\ttotal: 5.53s\tremaining: 953ms\n",
      "853:\tlearn: 1.3465896\ttotal: 5.54s\tremaining: 947ms\n",
      "854:\tlearn: 1.3465050\ttotal: 5.54s\tremaining: 940ms\n",
      "855:\tlearn: 1.3460878\ttotal: 5.55s\tremaining: 933ms\n",
      "856:\tlearn: 1.3459399\ttotal: 5.55s\tremaining: 927ms\n",
      "857:\tlearn: 1.3455434\ttotal: 5.56s\tremaining: 920ms\n",
      "858:\tlearn: 1.3451945\ttotal: 5.57s\tremaining: 913ms\n",
      "859:\tlearn: 1.3449324\ttotal: 5.57s\tremaining: 907ms\n",
      "860:\tlearn: 1.3437937\ttotal: 5.58s\tremaining: 900ms\n",
      "861:\tlearn: 1.3436921\ttotal: 5.58s\tremaining: 894ms\n",
      "862:\tlearn: 1.3432775\ttotal: 5.59s\tremaining: 887ms\n",
      "863:\tlearn: 1.3420624\ttotal: 5.59s\tremaining: 880ms\n",
      "864:\tlearn: 1.3419612\ttotal: 5.6s\tremaining: 874ms\n",
      "865:\tlearn: 1.3418824\ttotal: 5.6s\tremaining: 867ms\n",
      "866:\tlearn: 1.3415881\ttotal: 5.61s\tremaining: 861ms\n",
      "867:\tlearn: 1.3414336\ttotal: 5.62s\tremaining: 854ms\n",
      "868:\tlearn: 1.3413394\ttotal: 5.62s\tremaining: 847ms\n",
      "869:\tlearn: 1.3410061\ttotal: 5.63s\tremaining: 841ms\n",
      "870:\tlearn: 1.3404761\ttotal: 5.63s\tremaining: 834ms\n",
      "871:\tlearn: 1.3401101\ttotal: 5.64s\tremaining: 827ms\n",
      "872:\tlearn: 1.3398127\ttotal: 5.64s\tremaining: 821ms\n",
      "873:\tlearn: 1.3397388\ttotal: 5.65s\tremaining: 814ms\n",
      "874:\tlearn: 1.3390780\ttotal: 5.65s\tremaining: 808ms\n",
      "875:\tlearn: 1.3390017\ttotal: 5.66s\tremaining: 801ms\n",
      "876:\tlearn: 1.3384716\ttotal: 5.66s\tremaining: 794ms\n",
      "877:\tlearn: 1.3375109\ttotal: 5.67s\tremaining: 788ms\n",
      "878:\tlearn: 1.3374346\ttotal: 5.67s\tremaining: 781ms\n",
      "879:\tlearn: 1.3373105\ttotal: 5.68s\tremaining: 775ms\n",
      "880:\tlearn: 1.3372361\ttotal: 5.68s\tremaining: 768ms\n"
     ]
    },
    {
     "name": "stdout",
     "output_type": "stream",
     "text": [
      "881:\tlearn: 1.3367877\ttotal: 5.69s\tremaining: 761ms\n",
      "882:\tlearn: 1.3362735\ttotal: 5.7s\tremaining: 755ms\n",
      "883:\tlearn: 1.3356478\ttotal: 5.7s\tremaining: 749ms\n",
      "884:\tlearn: 1.3353005\ttotal: 5.71s\tremaining: 742ms\n",
      "885:\tlearn: 1.3351871\ttotal: 5.71s\tremaining: 735ms\n",
      "886:\tlearn: 1.3347351\ttotal: 5.72s\tremaining: 729ms\n",
      "887:\tlearn: 1.3341167\ttotal: 5.73s\tremaining: 722ms\n",
      "888:\tlearn: 1.3340450\ttotal: 5.73s\tremaining: 716ms\n",
      "889:\tlearn: 1.3333926\ttotal: 5.74s\tremaining: 709ms\n",
      "890:\tlearn: 1.3333218\ttotal: 5.74s\tremaining: 703ms\n",
      "891:\tlearn: 1.3324022\ttotal: 5.75s\tremaining: 696ms\n",
      "892:\tlearn: 1.3319980\ttotal: 5.76s\tremaining: 690ms\n",
      "893:\tlearn: 1.3319280\ttotal: 5.76s\tremaining: 683ms\n",
      "894:\tlearn: 1.3313988\ttotal: 5.77s\tremaining: 677ms\n",
      "895:\tlearn: 1.3307948\ttotal: 5.77s\tremaining: 670ms\n",
      "896:\tlearn: 1.3303048\ttotal: 5.78s\tremaining: 664ms\n",
      "897:\tlearn: 1.3299628\ttotal: 5.79s\tremaining: 657ms\n",
      "898:\tlearn: 1.3291492\ttotal: 5.79s\tremaining: 651ms\n",
      "899:\tlearn: 1.3289126\ttotal: 5.8s\tremaining: 644ms\n",
      "900:\tlearn: 1.3279622\ttotal: 5.8s\tremaining: 637ms\n",
      "901:\tlearn: 1.3276450\ttotal: 5.81s\tremaining: 631ms\n",
      "902:\tlearn: 1.3269137\ttotal: 5.81s\tremaining: 624ms\n",
      "903:\tlearn: 1.3266410\ttotal: 5.82s\tremaining: 618ms\n",
      "904:\tlearn: 1.3265739\ttotal: 5.82s\tremaining: 611ms\n",
      "905:\tlearn: 1.3256204\ttotal: 5.83s\tremaining: 605ms\n",
      "906:\tlearn: 1.3248194\ttotal: 5.83s\tremaining: 598ms\n",
      "907:\tlearn: 1.3241423\ttotal: 5.84s\tremaining: 592ms\n",
      "908:\tlearn: 1.3227945\ttotal: 5.84s\tremaining: 585ms\n",
      "909:\tlearn: 1.3218790\ttotal: 5.85s\tremaining: 579ms\n",
      "910:\tlearn: 1.3212539\ttotal: 5.86s\tremaining: 572ms\n",
      "911:\tlearn: 1.3211862\ttotal: 5.86s\tremaining: 566ms\n",
      "912:\tlearn: 1.3208377\ttotal: 5.87s\tremaining: 559ms\n",
      "913:\tlearn: 1.3203912\ttotal: 5.87s\tremaining: 553ms\n",
      "914:\tlearn: 1.3197553\ttotal: 5.88s\tremaining: 546ms\n",
      "915:\tlearn: 1.3187407\ttotal: 5.89s\tremaining: 540ms\n",
      "916:\tlearn: 1.3185314\ttotal: 5.89s\tremaining: 534ms\n",
      "917:\tlearn: 1.3172250\ttotal: 5.9s\tremaining: 527ms\n",
      "918:\tlearn: 1.3168153\ttotal: 5.91s\tremaining: 521ms\n",
      "919:\tlearn: 1.3166741\ttotal: 5.91s\tremaining: 514ms\n",
      "920:\tlearn: 1.3165809\ttotal: 5.92s\tremaining: 508ms\n",
      "921:\tlearn: 1.3159894\ttotal: 5.92s\tremaining: 501ms\n",
      "922:\tlearn: 1.3159143\ttotal: 5.93s\tremaining: 495ms\n",
      "923:\tlearn: 1.3155037\ttotal: 5.93s\tremaining: 488ms\n",
      "924:\tlearn: 1.3154381\ttotal: 5.94s\tremaining: 482ms\n",
      "925:\tlearn: 1.3153726\ttotal: 5.95s\tremaining: 475ms\n",
      "926:\tlearn: 1.3146492\ttotal: 5.95s\tremaining: 469ms\n",
      "927:\tlearn: 1.3142202\ttotal: 5.96s\tremaining: 462ms\n",
      "928:\tlearn: 1.3138563\ttotal: 5.96s\tremaining: 456ms\n",
      "929:\tlearn: 1.3137450\ttotal: 5.97s\tremaining: 449ms\n",
      "930:\tlearn: 1.3132473\ttotal: 5.98s\tremaining: 443ms\n",
      "931:\tlearn: 1.3129779\ttotal: 5.98s\tremaining: 437ms\n",
      "932:\tlearn: 1.3127581\ttotal: 5.99s\tremaining: 430ms\n",
      "933:\tlearn: 1.3117273\ttotal: 5.99s\tremaining: 424ms\n",
      "934:\tlearn: 1.3108613\ttotal: 6s\tremaining: 417ms\n",
      "935:\tlearn: 1.3104170\ttotal: 6s\tremaining: 411ms\n",
      "936:\tlearn: 1.3096819\ttotal: 6.01s\tremaining: 404ms\n",
      "937:\tlearn: 1.3096240\ttotal: 6.01s\tremaining: 397ms\n",
      "938:\tlearn: 1.3089956\ttotal: 6.02s\tremaining: 391ms\n",
      "939:\tlearn: 1.3079158\ttotal: 6.02s\tremaining: 385ms\n",
      "940:\tlearn: 1.3078233\ttotal: 6.03s\tremaining: 378ms\n",
      "941:\tlearn: 1.3071844\ttotal: 6.04s\tremaining: 372ms\n",
      "942:\tlearn: 1.3067593\ttotal: 6.04s\tremaining: 365ms\n",
      "943:\tlearn: 1.3065344\ttotal: 6.04s\tremaining: 359ms\n",
      "944:\tlearn: 1.3060860\ttotal: 6.05s\tremaining: 352ms\n",
      "945:\tlearn: 1.3057560\ttotal: 6.06s\tremaining: 346ms\n",
      "946:\tlearn: 1.3056891\ttotal: 6.06s\tremaining: 339ms\n",
      "947:\tlearn: 1.3053336\ttotal: 6.07s\tremaining: 333ms\n",
      "948:\tlearn: 1.3045173\ttotal: 6.07s\tremaining: 326ms\n",
      "949:\tlearn: 1.3039257\ttotal: 6.08s\tremaining: 320ms\n",
      "950:\tlearn: 1.3038440\ttotal: 6.09s\tremaining: 314ms\n",
      "951:\tlearn: 1.3026055\ttotal: 6.09s\tremaining: 307ms\n",
      "952:\tlearn: 1.3018997\ttotal: 6.1s\tremaining: 301ms\n",
      "953:\tlearn: 1.3014141\ttotal: 6.11s\tremaining: 294ms\n",
      "954:\tlearn: 1.3008158\ttotal: 6.11s\tremaining: 288ms\n",
      "955:\tlearn: 1.3004820\ttotal: 6.12s\tremaining: 282ms\n",
      "956:\tlearn: 1.2991232\ttotal: 6.12s\tremaining: 275ms\n",
      "957:\tlearn: 1.2987538\ttotal: 6.13s\tremaining: 269ms\n",
      "958:\tlearn: 1.2971795\ttotal: 6.13s\tremaining: 262ms\n",
      "959:\tlearn: 1.2971237\ttotal: 6.14s\tremaining: 256ms\n",
      "960:\tlearn: 1.2968367\ttotal: 6.14s\tremaining: 249ms\n",
      "961:\tlearn: 1.2959994\ttotal: 6.15s\tremaining: 243ms\n",
      "962:\tlearn: 1.2959464\ttotal: 6.16s\tremaining: 237ms\n",
      "963:\tlearn: 1.2958916\ttotal: 6.16s\tremaining: 230ms\n",
      "964:\tlearn: 1.2955123\ttotal: 6.17s\tremaining: 224ms\n",
      "965:\tlearn: 1.2952930\ttotal: 6.17s\tremaining: 217ms\n",
      "966:\tlearn: 1.2947648\ttotal: 6.18s\tremaining: 211ms\n",
      "967:\tlearn: 1.2943029\ttotal: 6.19s\tremaining: 205ms\n",
      "968:\tlearn: 1.2933875\ttotal: 6.19s\tremaining: 198ms\n",
      "969:\tlearn: 1.2930349\ttotal: 6.2s\tremaining: 192ms\n",
      "970:\tlearn: 1.2919309\ttotal: 6.2s\tremaining: 185ms\n",
      "971:\tlearn: 1.2918443\ttotal: 6.21s\tremaining: 179ms\n",
      "972:\tlearn: 1.2917852\ttotal: 6.21s\tremaining: 172ms\n",
      "973:\tlearn: 1.2917333\ttotal: 6.22s\tremaining: 166ms\n",
      "974:\tlearn: 1.2910378\ttotal: 6.23s\tremaining: 160ms\n",
      "975:\tlearn: 1.2905009\ttotal: 6.23s\tremaining: 153ms\n",
      "976:\tlearn: 1.2904384\ttotal: 6.24s\tremaining: 147ms\n",
      "977:\tlearn: 1.2903791\ttotal: 6.24s\tremaining: 140ms\n",
      "978:\tlearn: 1.2898060\ttotal: 6.25s\tremaining: 134ms\n",
      "979:\tlearn: 1.2891443\ttotal: 6.25s\tremaining: 128ms\n",
      "980:\tlearn: 1.2890913\ttotal: 6.26s\tremaining: 121ms\n",
      "981:\tlearn: 1.2888327\ttotal: 6.27s\tremaining: 115ms\n",
      "982:\tlearn: 1.2883610\ttotal: 6.27s\tremaining: 108ms\n",
      "983:\tlearn: 1.2879117\ttotal: 6.28s\tremaining: 102ms\n",
      "984:\tlearn: 1.2875437\ttotal: 6.29s\tremaining: 95.7ms\n",
      "985:\tlearn: 1.2870238\ttotal: 6.29s\tremaining: 89.3ms\n",
      "986:\tlearn: 1.2869737\ttotal: 6.3s\tremaining: 82.9ms\n",
      "987:\tlearn: 1.2869008\ttotal: 6.3s\tremaining: 76.6ms\n",
      "988:\tlearn: 1.2865867\ttotal: 6.31s\tremaining: 70.2ms\n",
      "989:\tlearn: 1.2863155\ttotal: 6.32s\tremaining: 63.8ms\n",
      "990:\tlearn: 1.2858371\ttotal: 6.32s\tremaining: 57.4ms\n",
      "991:\tlearn: 1.2852698\ttotal: 6.33s\tremaining: 51ms\n",
      "992:\tlearn: 1.2850812\ttotal: 6.33s\tremaining: 44.6ms\n",
      "993:\tlearn: 1.2842911\ttotal: 6.34s\tremaining: 38.3ms\n",
      "994:\tlearn: 1.2834866\ttotal: 6.34s\tremaining: 31.9ms\n",
      "995:\tlearn: 1.2831645\ttotal: 6.35s\tremaining: 25.5ms\n",
      "996:\tlearn: 1.2823828\ttotal: 6.36s\tremaining: 19.1ms\n",
      "997:\tlearn: 1.2823285\ttotal: 6.36s\tremaining: 12.7ms\n",
      "998:\tlearn: 1.2822497\ttotal: 6.37s\tremaining: 6.37ms\n",
      "999:\tlearn: 1.2815964\ttotal: 6.37s\tremaining: 0us\n"
     ]
    }
   ],
   "source": [
    "algorithme = CatBoostRegressor(task_type=\"CPU\")\n",
    "modele     = algorithme.fit(X_train, y_train)\n",
    "score      = algorithme.score(X_test, y_test)\n",
    "performances['catboost'] = score"
   ]
  },
  {
   "cell_type": "markdown",
   "metadata": {},
   "source": [
    "### Simple visualisation des performances des différents algos"
   ]
  },
  {
   "cell_type": "code",
   "execution_count": 157,
   "metadata": {},
   "outputs": [
    {
     "data": {
      "text/html": [
       "<div>\n",
       "<style scoped>\n",
       "    .dataframe tbody tr th:only-of-type {\n",
       "        vertical-align: middle;\n",
       "    }\n",
       "\n",
       "    .dataframe tbody tr th {\n",
       "        vertical-align: top;\n",
       "    }\n",
       "\n",
       "    .dataframe thead th {\n",
       "        text-align: right;\n",
       "    }\n",
       "</style>\n",
       "<table border=\"1\" class=\"dataframe\">\n",
       "  <thead>\n",
       "    <tr style=\"text-align: right;\">\n",
       "      <th></th>\n",
       "      <th>perf</th>\n",
       "      <th>algo</th>\n",
       "    </tr>\n",
       "    <tr>\n",
       "      <th>nom_algo</th>\n",
       "      <th></th>\n",
       "      <th></th>\n",
       "    </tr>\n",
       "  </thead>\n",
       "  <tbody>\n",
       "    <tr>\n",
       "      <td>RandomForestRegressor</td>\n",
       "      <td>0.898967</td>\n",
       "      <td>(DecisionTreeRegressor(criterion='mse', max_de...</td>\n",
       "    </tr>\n",
       "    <tr>\n",
       "      <td>RandomForestRegressor</td>\n",
       "      <td>0.883268</td>\n",
       "      <td>(DecisionTreeRegressor(criterion='mse', max_de...</td>\n",
       "    </tr>\n",
       "    <tr>\n",
       "      <td>ExtraTreesRegressor</td>\n",
       "      <td>0.903336</td>\n",
       "      <td>(ExtraTreeRegressor(criterion='mse', max_depth...</td>\n",
       "    </tr>\n",
       "    <tr>\n",
       "      <td>SVR</td>\n",
       "      <td>0.746305</td>\n",
       "      <td>SVR(C=1.0, cache_size=200, coef0=0.0, degree=3...</td>\n",
       "    </tr>\n",
       "    <tr>\n",
       "      <td>catboost</td>\n",
       "      <td>0.911539</td>\n",
       "      <td>catboost</td>\n",
       "    </tr>\n",
       "  </tbody>\n",
       "</table>\n",
       "</div>"
      ],
      "text/plain": [
       "                           perf                                               algo\n",
       "nom_algo                                                                          \n",
       "RandomForestRegressor  0.898967  (DecisionTreeRegressor(criterion='mse', max_de...\n",
       "RandomForestRegressor  0.883268  (DecisionTreeRegressor(criterion='mse', max_de...\n",
       "ExtraTreesRegressor    0.903336  (ExtraTreeRegressor(criterion='mse', max_depth...\n",
       "SVR                    0.746305  SVR(C=1.0, cache_size=200, coef0=0.0, degree=3...\n",
       "catboost               0.911539                                           catboost"
      ]
     },
     "execution_count": 157,
     "metadata": {},
     "output_type": "execute_result"
    }
   ],
   "source": [
    "from collections import OrderedDict\n",
    "dico_ordonne = OrderedDict(performances)\n",
    "\n",
    "import pandas as pd\n",
    "df = pd.DataFrame()\n",
    "df[\"perf\"] = dico_ordonne.values()\n",
    "df[\"algo\"] = dico_ordonne.keys()\n",
    "df['nom_algo'] = df.algo.apply(lambda algo: str(algo).split('(')[0])\n",
    "df.set_index('nom_algo', inplace=True)\n",
    "df"
   ]
  },
  {
   "cell_type": "code",
   "execution_count": 158,
   "metadata": {},
   "outputs": [
    {
     "data": {
      "text/plain": [
       "<matplotlib.axes._subplots.AxesSubplot at 0x1a2ecc3470>"
      ]
     },
     "execution_count": 158,
     "metadata": {},
     "output_type": "execute_result"
    },
    {
     "data": {
      "image/png": "[encoded data removed]",
      "text/plain": [
       "<Figure size 432x288 with 1 Axes>"
      ]
     },
     "metadata": {},
     "output_type": "display_data"
    }
   ],
   "source": [
    "df[[\"perf\"]].plot(kind='line', rot=60)"
   ]
  },
  {
   "cell_type": "markdown",
   "metadata": {},
   "source": [
    "## Aller au delà des hyperparamètres par défaut d'un modèle avec GridSearch"
   ]
  },
  {
   "cell_type": "markdown",
   "metadata": {},
   "source": [
    "mieux d'utiliser n_jobs=-1 si plusieurs CPU pour paralléliser"
   ]
  },
  {
   "cell_type": "markdown",
   "metadata": {},
   "source": [
    "Par défaut scikit-learn optimise les hyperparamètres tout en faisant une **cross-validation**. Sans celle-ci, c’est comme si le modèle optimisait ses coefficients sur la base d’apprentissage et ses hyperparamètres sur la base de test. De ce fait, toutes les données servent à optimiser un paramètre. La cross-validation limite en **vérifiant la stabilité de l’apprentissage sur plusieurs découpages**. On peut également découper en train / test / validation mais cela réduit d’autant le nombre de données pour apprendre."
   ]
  },
  {
   "cell_type": "code",
   "execution_count": 187,
   "metadata": {},
   "outputs": [],
   "source": [
    "from sklearn import grid_search"
   ]
  },
  {
   "cell_type": "code",
   "execution_count": 213,
   "metadata": {},
   "outputs": [],
   "source": [
    "hyperparametres_possibles = {\n",
    "    'C'     : [0.5, 1, 1.5],\n",
    "    'gamma' :[0.5, 0.1, 0.15]\n",
    "}\n",
    "grid = grid_search.GridSearchCV(estimator=svm.SVR(), \n",
    "                                param_grid=hyperparametres_possibles, \n",
    "                                n_jobs=-1, cv=10, verbose=2)"
   ]
  },
  {
   "cell_type": "code",
   "execution_count": 214,
   "metadata": {},
   "outputs": [
    {
     "name": "stdout",
     "output_type": "stream",
     "text": [
      "Fitting 10 folds for each of 9 candidates, totalling 90 fits\n",
      "[CV] C=0.5, gamma=0.5 ................................................\n",
      "[CV] C=0.5, gamma=0.5 ................................................\n",
      "[CV] C=0.5, gamma=0.5 ................................................\n",
      "[CV] C=0.5, gamma=0.5 ................................................\n",
      "[CV] C=0.5, gamma=0.5 ................................................\n",
      "[CV] C=0.5, gamma=0.5 ................................................\n",
      "[CV] C=0.5, gamma=0.5 ................................................\n",
      "[CV] C=0.5, gamma=0.5 ................................................\n",
      "[CV] ....................................... C=0.5, gamma=0.5 -   0.0s\n",
      "[CV] ....................................... C=0.5, gamma=0.5 -   0.0s\n",
      "[CV] ....................................... C=0.5, gamma=0.5 -   0.0s\n",
      "[CV] ....................................... C=0.5, gamma=0.5 -   0.0s\n",
      "[CV] C=0.5, gamma=0.5 ................................................\n",
      "[CV] ....................................... C=0.5, gamma=0.5 -   0.0s\n",
      "[CV] C=0.5, gamma=0.5 ................................................\n",
      "[CV] C=0.5, gamma=0.1 ................................................\n",
      "[CV] ....................................... C=0.5, gamma=0.5 -   0.0s\n",
      "[CV] ....................................... C=0.5, gamma=0.5 -   0.0s\n",
      "[CV] ....................................... C=0.5, gamma=0.5 -   0.0s\n",
      "[CV] C=0.5, gamma=0.1 ................................................\n",
      "[CV] C=0.5, gamma=0.1 ................................................\n",
      "[CV] C=0.5, gamma=0.1 ................................................\n",
      "[CV] ....................................... C=0.5, gamma=0.1 -   0.0s\n",
      "[CV] ....................................... C=0.5, gamma=0.5 -   0.0s\n",
      "[CV] ....................................... C=0.5, gamma=0.5 -   0.0s\n",
      "[CV] C=0.5, gamma=0.1 ................................................\n",
      "[CV] C=0.5, gamma=0.1 ................................................\n",
      "[CV] ....................................... C=0.5, gamma=0.1 -   0.0s\n",
      "[CV] ....................................... C=0.5, gamma=0.1 -   0.0s\n",
      "[CV] ....................................... C=0.5, gamma=0.1 -   0.0s\n",
      "[CV] C=0.5, gamma=0.1 ................................................\n",
      "[CV] ....................................... C=0.5, gamma=0.1 -   0.0s\n",
      "[CV] ....................................... C=0.5, gamma=0.1 -   0.0s\n",
      "[CV] ....................................... C=0.5, gamma=0.1 -   0.0s\n",
      "[CV] C=0.5, gamma=0.1 ................................................\n",
      "[CV] C=0.5, gamma=0.15 ...............................................\n",
      "[CV] C=1, gamma=0.5 ..................................................\n",
      "[CV] C=1, gamma=0.1 ..................................................\n",
      "[CV] C=1, gamma=0.1 ..................................................\n",
      "[CV] C=1, gamma=0.15 .................................................\n",
      "[CV] C=1.5, gamma=0.5 ................................................\n",
      "[CV] ....................................... C=0.5, gamma=0.1 -   0.0s\n",
      "[CV] C=1.5, gamma=0.1 ................................................\n",
      "[CV] ...................................... C=0.5, gamma=0.15 -   0.0s\n",
      "[CV] ......................................... C=1, gamma=0.5 -   0.0s\n",
      "[CV] C=0.5, gamma=0.1 ................................................\n",
      "[CV] ......................................... C=1, gamma=0.1 -   0.0s\n",
      "[CV] C=0.5, gamma=0.15 ...............................................\n",
      "[CV] C=1, gamma=0.5 ..................................................\n",
      "[CV] ........................................ C=1, gamma=0.15 -   0.0s\n",
      "[CV] C=1, gamma=0.1 ..................................................\n",
      "[CV] ....................................... C=1.5, gamma=0.5 -   0.0s\n",
      "[CV] C=1, gamma=0.15 .................................................\n",
      "[CV] C=1.5, gamma=0.5 ................................................\n",
      "[CV] ...................................... C=0.5, gamma=0.15 -   0.0s\n",
      "[CV] C=0.5, gamma=0.15 ...............................................\n",
      "[CV] ......................................... C=1, gamma=0.1 -   0.0s\n",
      "[CV] C=1, gamma=0.1 ..................................................\n",
      "[CV] ....................................... C=0.5, gamma=0.1 -   0.0s\n",
      "[CV] ......................................... C=1, gamma=0.1 -   0.0s\n",
      "[CV] ....................................... C=1.5, gamma=0.1 -   0.0s\n",
      "[CV] ...................................... C=0.5, gamma=0.15 -   0.0s\n",
      "[CV] C=0.5, gamma=0.1 ................................................\n",
      "[CV] C=0.5, gamma=0.15 ...............................................\n",
      "[CV] ......................................... C=1, gamma=0.5 -   0.0s\n",
      "[CV] C=1, gamma=0.1 ..................................................\n",
      "[CV] C=1.5, gamma=0.1 ................................................\n",
      "[CV] C=1, gamma=0.5 ..................................................\n",
      "[CV] ........................................ C=1, gamma=0.15 -   0.0s\n",
      "[CV] C=1, gamma=0.15 .................................................\n",
      "[CV] ......................................... C=1, gamma=0.1 -   0.0s\n",
      "[CV] C=1, gamma=0.15 .................................................\n",
      "[CV] ....................................... C=1.5, gamma=0.5 -   0.0s\n",
      "[CV] ......................................... C=1, gamma=0.1 -   0.0s\n",
      "[CV] ....................................... C=0.5, gamma=0.1 -   0.0s\n",
      "[CV] ....................................... C=1.5, gamma=0.1 -   0.0s\n",
      "[CV] ......................................... C=1, gamma=0.5 -   0.0s\n",
      "[CV] C=1, gamma=0.1 ..................................................\n",
      "[CV] C=0.5, gamma=0.15 ...............................................\n",
      "[CV] C=1.5, gamma=0.5 ................................................\n",
      "[CV] C=1.5, gamma=0.1 ................................................\n",
      "[CV] C=1, gamma=0.5 ..................................................\n",
      "[CV] ...................................... C=0.5, gamma=0.15 -   0.0s\n",
      "[CV] ........................................ C=1, gamma=0.15 -   0.0s\n",
      "[CV] ........................................ C=1, gamma=0.15 -   0.0s\n",
      "[CV] C=0.5, gamma=0.15 ...............................................\n",
      "[CV] C=1, gamma=0.15 .................................................\n",
      "[CV] C=1, gamma=0.15 .................................................\n",
      "[CV] ......................................... C=1, gamma=0.5 -   0.0s\n",
      "[CV] C=1, gamma=0.5 ..................................................\n",
      "[CV] ...................................... C=0.5, gamma=0.15 -   0.0s\n",
      "[CV] ......................................... C=1, gamma=0.1 -   0.0s\n",
      "[CV] ....................................... C=1.5, gamma=0.1 -   0.0s\n",
      "[CV] C=0.5, gamma=0.15 ...............................................\n",
      "[CV] C=1, gamma=0.1 ..................................................\n",
      "[CV] ....................................... C=1.5, gamma=0.5 -   0.0s\n",
      "[CV] C=1.5, gamma=0.1 ................................................\n",
      "[CV] C=1.5, gamma=0.5 ................................................\n",
      "[CV] ...................................... C=0.5, gamma=0.15 -   0.0s\n",
      "[CV] ........................................ C=1, gamma=0.15 -   0.0s\n",
      "[CV] ......................................... C=1, gamma=0.5 -   0.0s\n",
      "[CV] ........................................ C=1, gamma=0.15 -   0.0s\n",
      "[CV] C=1.5, gamma=0.5 ................................................\n",
      "[CV] C=0.5, gamma=0.15 ...............................................\n",
      "[CV] C=1, gamma=0.15 .................................................\n",
      "[CV] C=1, gamma=0.5 ..................................................\n",
      "[CV] ......................................... C=1, gamma=0.1 -   0.0s\n",
      "[CV] ...................................... C=0.5, gamma=0.15 -   0.0s\n",
      "[CV] ....................................... C=1.5, gamma=0.5 -   0.0s\n",
      "[CV] ....................................... C=1.5, gamma=0.1 -   0.0s\n",
      "[CV] C=1.5, gamma=0.5 ................................................\n",
      "[CV] C=0.5, gamma=0.15 ...............................................\n",
      "[CV] C=1, gamma=0.1 ..................................................\n",
      "[CV] C=1.5, gamma=0.1 ................................................\n",
      "[CV] ....................................... C=1.5, gamma=0.5 -   0.0s\n"
     ]
    },
    {
     "name": "stdout",
     "output_type": "stream",
     "text": [
      "[CV] ...................................... C=0.5, gamma=0.15 -   0.0s\n",
      "[CV] ........................................ C=1, gamma=0.15 -   0.0s\n",
      "[CV] C=1.5, gamma=0.5 ................................................\n",
      "[CV] C=1, gamma=0.5 ..................................................\n",
      "[CV] C=1, gamma=0.15 .................................................\n",
      "[CV] ......................................... C=1, gamma=0.5 -   0.0s\n",
      "[CV] ...................................... C=0.5, gamma=0.15 -   0.0s\n",
      "[CV] ....................................... C=1.5, gamma=0.5 -   0.0s\n",
      "[CV] C=1, gamma=0.5 ..................................................\n",
      "[CV] ......................................... C=1, gamma=0.1 -   0.0s\n",
      "[CV] ....................................... C=1.5, gamma=0.1 -   0.0s\n",
      "[CV] C=1, gamma=0.1 ..................................................\n",
      "[CV] C=1.5, gamma=0.5 ................................................\n",
      "[CV] C=0.5, gamma=0.15 ...............................................\n",
      "[CV] C=1.5, gamma=0.1 ................................................\n",
      "[CV] ......................................... C=1, gamma=0.5 -   0.0s\n",
      "[CV] ....................................... C=1.5, gamma=0.5 -   0.0s\n",
      "[CV] ........................................ C=1, gamma=0.15 -   0.0s\n",
      "[CV] C=1, gamma=0.5 ..................................................\n",
      "[CV] C=1.5, gamma=0.5 ................................................\n",
      "[CV] C=1, gamma=0.15 .................................................\n",
      "[CV] ......................................... C=1, gamma=0.5 -   0.0s\n",
      "[CV] ...................................... C=0.5, gamma=0.15 -   0.0s\n",
      "[CV] C=1, gamma=0.5 ..................................................\n",
      "[CV] ....................................... C=1.5, gamma=0.5 -   0.0s\n",
      "[CV] ....................................... C=1.5, gamma=0.1 -   0.0s\n",
      "[CV] C=1.5, gamma=0.15 ...............................................\n",
      "[CV] ......................................... C=1, gamma=0.1 -   0.0s\n",
      "[CV] C=1.5, gamma=0.1 ................................................\n",
      "[CV] C=1.5, gamma=0.1 ................................................\n",
      "[CV] C=1, gamma=0.1 ..................................................\n",
      "[CV] ........................................ C=1, gamma=0.15 -   0.0s\n",
      "[CV] ......................................... C=1, gamma=0.5 -   0.0s\n",
      "[CV] C=1, gamma=0.15 .................................................\n",
      "[CV] C=1.5, gamma=0.15 ...............................................\n",
      "[CV] ....................................... C=1.5, gamma=0.5 -   0.0s\n",
      "[CV] ....................................... C=1.5, gamma=0.1 -   0.0s\n",
      "[CV] ...................................... C=1.5, gamma=0.15 -   0.0s\n",
      "[CV] ......................................... C=1, gamma=0.1 -   0.0s\n",
      "[CV] ......................................... C=1, gamma=0.5 -   0.0s\n",
      "[CV] ....................................... C=1.5, gamma=0.1 -   0.0s\n",
      "[CV] ........................................ C=1, gamma=0.15 -   0.0s\n",
      "[CV] C=1.5, gamma=0.5 ................................................\n",
      "[CV] C=1.5, gamma=0.15 ...............................................\n",
      "[CV] C=1.5, gamma=0.1 ................................................\n",
      "[CV] C=1.5, gamma=0.1 ................................................\n",
      "[CV] ...................................... C=1.5, gamma=0.15 -   0.0s\n",
      "[CV] ...................................... C=1.5, gamma=0.15 -   0.0s\n",
      "[CV] C=1.5, gamma=0.15 ...............................................\n",
      "[CV] C=1.5, gamma=0.15 ...............................................\n",
      "[CV] ....................................... C=1.5, gamma=0.1 -   0.0s\n",
      "[CV] ....................................... C=1.5, gamma=0.5 -   0.0s\n",
      "[CV] ....................................... C=1.5, gamma=0.1 -   0.0s\n",
      "[CV] ...................................... C=1.5, gamma=0.15 -   0.0s\n",
      "[CV] ...................................... C=1.5, gamma=0.15 -   0.0s\n",
      "[CV] C=1.5, gamma=0.15 ...............................................\n",
      "[CV] ...................................... C=1.5, gamma=0.15 -   0.0s\n",
      "[CV] C=1.5, gamma=0.15 ...............................................\n",
      "[CV] ...................................... C=1.5, gamma=0.15 -   0.0s\n",
      "[CV] C=1.5, gamma=0.15 ...............................................\n",
      "[CV] ...................................... C=1.5, gamma=0.15 -   0.0s\n",
      "[CV] C=1.5, gamma=0.15 ...............................................\n",
      "[CV] ...................................... C=1.5, gamma=0.15 -   0.0s\n",
      "[CV] C=1.5, gamma=0.15 ...............................................\n",
      "[CV] ...................................... C=1.5, gamma=0.15 -   0.0s\n"
     ]
    },
    {
     "name": "stderr",
     "output_type": "stream",
     "text": [
      "[Parallel(n_jobs=-1)]: Done  90 out of  90 | elapsed:    0.4s finished\n"
     ]
    },
    {
     "data": {
      "text/plain": [
       "GridSearchCV(cv=10, error_score='raise',\n",
       "       estimator=SVR(C=1.0, cache_size=200, coef0=0.0, degree=3, epsilon=0.1, gamma='auto',\n",
       "  kernel='rbf', max_iter=-1, shrinking=True, tol=0.001, verbose=False),\n",
       "       fit_params={}, iid=True, n_jobs=-1,\n",
       "       param_grid={'C': [0.5, 1, 1.5], 'gamma': [0.5, 0.1, 0.15]},\n",
       "       pre_dispatch='2*n_jobs', refit=True, scoring=None, verbose=2)"
      ]
     },
     "execution_count": 214,
     "metadata": {},
     "output_type": "execute_result"
    }
   ],
   "source": [
    "grid.fit(X_train, y_train)"
   ]
  },
  {
   "cell_type": "code",
   "execution_count": 191,
   "metadata": {},
   "outputs": [
    {
     "data": {
      "text/plain": [
       "['__abstractmethods__',\n",
       " '__class__',\n",
       " '__delattr__',\n",
       " '__dict__',\n",
       " '__dir__',\n",
       " '__doc__',\n",
       " '__eq__',\n",
       " '__format__',\n",
       " '__ge__',\n",
       " '__getattribute__',\n",
       " '__getstate__',\n",
       " '__gt__',\n",
       " '__hash__',\n",
       " '__init__',\n",
       " '__init_subclass__',\n",
       " '__le__',\n",
       " '__lt__',\n",
       " '__module__',\n",
       " '__ne__',\n",
       " '__new__',\n",
       " '__reduce__',\n",
       " '__reduce_ex__',\n",
       " '__repr__',\n",
       " '__setattr__',\n",
       " '__setstate__',\n",
       " '__sizeof__',\n",
       " '__str__',\n",
       " '__subclasshook__',\n",
       " '__weakref__',\n",
       " '_abc_cache',\n",
       " '_abc_negative_cache',\n",
       " '_abc_negative_cache_version',\n",
       " '_abc_registry',\n",
       " '_estimator_type',\n",
       " '_fit',\n",
       " '_get_param_names',\n",
       " 'best_estimator_',\n",
       " 'best_params_',\n",
       " 'best_score_',\n",
       " 'classes_',\n",
       " 'cv',\n",
       " 'decision_function',\n",
       " 'error_score',\n",
       " 'estimator',\n",
       " 'fit',\n",
       " 'fit_params',\n",
       " 'get_params',\n",
       " 'grid_scores_',\n",
       " 'iid',\n",
       " 'inverse_transform',\n",
       " 'n_jobs',\n",
       " 'param_grid',\n",
       " 'pre_dispatch',\n",
       " 'predict',\n",
       " 'predict_log_proba',\n",
       " 'predict_proba',\n",
       " 'refit',\n",
       " 'score',\n",
       " 'scorer_',\n",
       " 'scoring',\n",
       " 'set_params',\n",
       " 'transform',\n",
       " 'verbose']"
      ]
     },
     "execution_count": 191,
     "metadata": {},
     "output_type": "execute_result"
    }
   ],
   "source": [
    "dir(grid)"
   ]
  },
  {
   "cell_type": "code",
   "execution_count": 218,
   "metadata": {},
   "outputs": [
    {
     "data": {
      "text/plain": [
       "{'C': 1.5, 'gamma': 0.1}"
      ]
     },
     "execution_count": 218,
     "metadata": {},
     "output_type": "execute_result"
    }
   ],
   "source": [
    "grid.best_params_"
   ]
  },
  {
   "cell_type": "code",
   "execution_count": 219,
   "metadata": {},
   "outputs": [
    {
     "data": {
      "text/plain": [
       "SVR(C=1.5, cache_size=200, coef0=0.0, degree=3, epsilon=0.1, gamma=0.1,\n",
       "  kernel='rbf', max_iter=-1, shrinking=True, tol=0.001, verbose=False)"
      ]
     },
     "execution_count": 219,
     "metadata": {},
     "output_type": "execute_result"
    }
   ],
   "source": [
    "grid.best_estimator_"
   ]
  },
  {
   "cell_type": "code",
   "execution_count": 220,
   "metadata": {},
   "outputs": [
    {
     "data": {
      "text/plain": [
       "0.643695156247268"
      ]
     },
     "execution_count": 220,
     "metadata": {},
     "output_type": "execute_result"
    }
   ],
   "source": [
    "grid.best_score_"
   ]
  },
  {
   "cell_type": "code",
   "execution_count": 197,
   "metadata": {},
   "outputs": [
    {
     "data": {
      "text/plain": [
       "{'C': 2.5, 'gamma': 0.05}"
      ]
     },
     "execution_count": 197,
     "metadata": {},
     "output_type": "execute_result"
    }
   ],
   "source": [
    "hyperparametres_possibles = {\n",
    "    'C'     : [1.5, 2, 2.5],\n",
    "    'gamma' :[0.01, 0.05, 1]\n",
    "}\n",
    "grid = grid_search.GridSearchCV(estimator=svm.SVR(), \n",
    "                                param_grid=hyperparametres_possibles, \n",
    "                                n_jobs=-1)\n",
    "grid.fit(X_train, y_train)\n",
    "grid.best_score_\n",
    "grid.best_params_"
   ]
  },
  {
   "cell_type": "code",
   "execution_count": 198,
   "metadata": {},
   "outputs": [
    {
     "data": {
      "text/plain": [
       "{'C': 3.5, 'gamma': 0.05}"
      ]
     },
     "execution_count": 198,
     "metadata": {},
     "output_type": "execute_result"
    }
   ],
   "source": [
    "hyperparametres_possibles = {\n",
    "    'C'     : [2.5, 3, 3.5],\n",
    "    'gamma' :[0.01, 0.05, 1]\n",
    "}\n",
    "grid = grid_search.GridSearchCV(estimator=svm.SVR(), \n",
    "                                param_grid=hyperparametres_possibles, \n",
    "                                n_jobs=-1)\n",
    "grid.fit(X_train, y_train)\n",
    "grid.best_score_\n",
    "grid.best_params_"
   ]
  },
  {
   "cell_type": "code",
   "execution_count": 200,
   "metadata": {},
   "outputs": [
    {
     "data": {
      "text/plain": [
       "(0.7501429622074626, {'C': 6, 'gamma': 0.05})"
      ]
     },
     "execution_count": 200,
     "metadata": {},
     "output_type": "execute_result"
    }
   ],
   "source": [
    "hyperparametres_possibles = {\n",
    "    'C'     : [3.5, 4, 5, 6],\n",
    "    'gamma' :[0.01, 0.05, 1]\n",
    "}\n",
    "grid = grid_search.GridSearchCV(estimator=svm.SVR(), \n",
    "                                param_grid=hyperparametres_possibles, \n",
    "                                n_jobs=-1)\n",
    "grid.fit(X_train, y_train)\n",
    "grid.best_score_, grid.best_params_"
   ]
  },
  {
   "cell_type": "code",
   "execution_count": 201,
   "metadata": {},
   "outputs": [
    {
     "data": {
      "text/plain": [
       "(0.7741648460590741, {'C': 10, 'gamma': 0.05})"
      ]
     },
     "execution_count": 201,
     "metadata": {},
     "output_type": "execute_result"
    }
   ],
   "source": [
    "hyperparametres_possibles = {\n",
    "    'C'     : [ 6, 8, 10],\n",
    "    'gamma' :[0.01, 0.05, 1]\n",
    "}\n",
    "grid = grid_search.GridSearchCV(estimator=svm.SVR(), \n",
    "                                param_grid=hyperparametres_possibles, \n",
    "                                n_jobs=-1)\n",
    "grid.fit(X_train, y_train)\n",
    "grid.best_score_, grid.best_params_"
   ]
  },
  {
   "cell_type": "code",
   "execution_count": 202,
   "metadata": {},
   "outputs": [
    {
     "data": {
      "text/plain": [
       "(0.7872540631505356, {'C': 15, 'gamma': 0.05})"
      ]
     },
     "execution_count": 202,
     "metadata": {},
     "output_type": "execute_result"
    }
   ],
   "source": [
    "hyperparametres_possibles = {\n",
    "    'C'     : [ 10, 15, 20],\n",
    "    'gamma' :[0.01, 0.05, 1]\n",
    "}\n",
    "grid = grid_search.GridSearchCV(estimator=svm.SVR(), \n",
    "                                param_grid=hyperparametres_possibles, \n",
    "                                n_jobs=-1)\n",
    "grid.fit(X_train, y_train)\n",
    "grid.best_score_, grid.best_params_"
   ]
  },
  {
   "cell_type": "markdown",
   "metadata": {},
   "source": [
    "### model stability"
   ]
  },
  {
   "cell_type": "code",
   "execution_count": 172,
   "metadata": {},
   "outputs": [
    {
     "ename": "TypeError",
     "evalue": "score() missing 1 required positional argument: 'X'",
     "output_type": "error",
     "traceback": [
      "\u001b[0;31m---------------------------------------------------------------------------\u001b[0m",
      "\u001b[0;31mTypeError\u001b[0m                                 Traceback (most recent call last)",
      "\u001b[0;32m<ipython-input-172-8641b44b79b7>\u001b[0m in \u001b[0;36m<module>\u001b[0;34m()\u001b[0m\n\u001b[0;32m----> 1\u001b[0;31m \u001b[0mgrid\u001b[0m\u001b[0;34m.\u001b[0m\u001b[0mscore\u001b[0m\u001b[0;34m(\u001b[0m\u001b[0;34m)\u001b[0m\u001b[0;34m\u001b[0m\u001b[0m\n\u001b[0m",
      "\u001b[0;31mTypeError\u001b[0m: score() missing 1 required positional argument: 'X'"
     ]
    }
   ],
   "source": [
    "grid."
   ]
  },
  {
   "cell_type": "code",
   "execution_count": 167,
   "metadata": {},
   "outputs": [
    {
     "ename": "ImportError",
     "evalue": "cannot import name 'Bootstrap'",
     "output_type": "error",
     "traceback": [
      "\u001b[0;31m---------------------------------------------------------------------------\u001b[0m",
      "\u001b[0;31mImportError\u001b[0m                               Traceback (most recent call last)",
      "\u001b[0;32m<ipython-input-167-1735f1dd80bb>\u001b[0m in \u001b[0;36m<module>\u001b[0;34m()\u001b[0m\n\u001b[0;32m----> 1\u001b[0;31m \u001b[0;32mfrom\u001b[0m \u001b[0msklearn\u001b[0m\u001b[0;34m.\u001b[0m\u001b[0mcross_validation\u001b[0m \u001b[0;32mimport\u001b[0m \u001b[0mBootstrap\u001b[0m\u001b[0;34m\u001b[0m\u001b[0m\n\u001b[0m\u001b[1;32m      2\u001b[0m \u001b[0mbs\u001b[0m \u001b[0;34m=\u001b[0m \u001b[0mBootstrap\u001b[0m\u001b[0;34m(\u001b[0m\u001b[0;36m9\u001b[0m\u001b[0;34m,\u001b[0m \u001b[0mrandom_state\u001b[0m\u001b[0;34m=\u001b[0m\u001b[0;36m0\u001b[0m\u001b[0;34m)\u001b[0m\u001b[0;34m\u001b[0m\u001b[0m\n",
      "\u001b[0;31mImportError\u001b[0m: cannot import name 'Bootstrap'"
     ]
    }
   ],
   "source": [
    "from sklearn.cross_validation import Bootstrap\n",
    "bs = Bootstrap(9, random_state=0)"
   ]
  },
  {
   "cell_type": "code",
   "execution_count": null,
   "metadata": {},
   "outputs": [],
   "source": []
  }
 ],
 "metadata": {
  "kernelspec": {
   "display_name": "Python 3",
   "language": "python",
   "name": "python3"
  },
  "language_info": {
   "codemirror_mode": {
    "name": "ipython",
    "version": 3
   },
   "file_extension": ".py",
   "mimetype": "text/x-python",
   "name": "python",
   "nbconvert_exporter": "python",
   "pygments_lexer": "ipython3",
   "version": "3.6.5"
  }
 },
 "nbformat": 4,
 "nbformat_minor": 2
}
