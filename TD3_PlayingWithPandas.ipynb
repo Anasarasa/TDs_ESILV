{
 "cells": [
  {
   "cell_type": "code",
   "execution_count": 2,
   "metadata": {},
   "outputs": [],
   "source": [
    "import github_command as gitcmd"
   ]
  },
  {
   "cell_type": "code",
   "execution_count": 9,
   "metadata": {},
   "outputs": [],
   "source": [
    "gitcmd.push(file_to_transfer='READMe.md',\n",
    "            message = 'update README',\n",
    "            repos = 'TDs_ESILV')"
   ]
  },
  {
   "cell_type": "code",
   "execution_count": 625,
   "metadata": {},
   "outputs": [],
   "source": [
    "gitcmd.push(file_to_transfer='TD3_PlayingWithPandas.ipynb',\n",
    "            message = 'TD3 Jupyter Notebook',\n",
    "            repos = 'TDs_ESILV')"
   ]
  },
  {
   "cell_type": "code",
   "execution_count": 443,
   "metadata": {},
   "outputs": [],
   "source": [
    "#files_to_push = ['TD3_PlayingWithPandas.ipynb', 'data_accidents', 'github_command.py']\n",
    "#commits       = ['Jupyter Notebook', 'datasets + documentation', 'Github synchro']\n",
    "#gitcmd.push_multiple_files(files_to_push, commits, 'TDs_ESILV.git')"
   ]
  },
  {
   "cell_type": "markdown",
   "metadata": {},
   "source": [
    "## 0) Petit aparté sur le téléchargements"
   ]
  },
  {
   "cell_type": "code",
   "execution_count": 108,
   "metadata": {},
   "outputs": [],
   "source": [
    "url_documentation = \"https://www.data.gouv.fr/fr/datasets/r/15fe0ed9-e645-4678-959f-2fa9f41db6b2\""
   ]
  },
  {
   "cell_type": "markdown",
   "metadata": {},
   "source": [
    "### 0.1. On pourrait très bien télécharger les liens avec BeautifulSoup (cf TD précédent)"
   ]
  },
  {
   "cell_type": "code",
   "execution_count": 460,
   "metadata": {},
   "outputs": [],
   "source": [
    "url_vehicules2016        = \"https://www.data.gouv.fr/fr/datasets/r/96aadc9f-0b55-4e9a-a70e-c627ed97e6f7\"\n",
    "url_vehicules2017        = \"https://static.data.gouv.fr/resources/base-de-donnees-accidents-corporels-de-la-circulation/20180927-111247/vehicules-2017.csv\"\n",
    "url_usagers2017          = \"https://www.data.gouv.fr/fr/datasets/r/07bfe612-0ad9-48ef-92d3-f5466f8465fe\"\n",
    "url_lieux2017            = \"https://www.data.gouv.fr/fr/datasets/r/9b76a7b6-3eef-4864-b2da-1834417e305c\"\n",
    "url_caracteristiques2017 = \"https://www.data.gouv.fr/fr/datasets/r/9a7d408b-dd72-4959-ae7d-c854ec505354\""
   ]
  },
  {
   "cell_type": "code",
   "execution_count": 112,
   "metadata": {},
   "outputs": [],
   "source": [
    "url_documentation = \"https://www.data.gouv.fr/fr/datasets/r/15fe0ed9-e645-4678-959f-2fa9f41db6b2\""
   ]
  },
  {
   "cell_type": "code",
   "execution_count": 113,
   "metadata": {},
   "outputs": [],
   "source": [
    "import requests as req"
   ]
  },
  {
   "cell_type": "code",
   "execution_count": 114,
   "metadata": {},
   "outputs": [],
   "source": [
    "reponse = req.get(url_documentation)"
   ]
  },
  {
   "cell_type": "code",
   "execution_count": 115,
   "metadata": {},
   "outputs": [
    {
     "data": {
      "text/plain": [
       "b'%PDF-1.4\\n%\\xc7\\xec\\x8f\\xa2\\n61 0 obj\\n<</Linearized 1/L 54495/H[ 13728 199]/O 63/E 13728/N 10/T 53233>>\\nendobj\\n                                                 \\nxref\\n61 19\\n0000000015 00000 n \\n0000000692 00000 n \\n0000000808 00000 n \\n0000000971 00000 n \\n0000006414 00000 n \\n0000006435 00000 n \\n0000006477 00000 n \\n0000006703 00000 n \\n0000006907 00000 n \\n0000006990 00000 n \\n0000007071 00000 n \\n0000007157 00000 n \\n0000007188 00000 n \\n0000007252 00000 n \\n0000012939 00000 n \\n0000013059 00000 n \\n0000013392 00000 n \\n00'"
      ]
     },
     "execution_count": 115,
     "metadata": {},
     "output_type": "execute_result"
    }
   ],
   "source": [
    "reponse.content[0:500]"
   ]
  },
  {
   "cell_type": "code",
   "execution_count": 116,
   "metadata": {},
   "outputs": [
    {
     "name": "stdout",
     "output_type": "stream",
     "text": [
      "Requirement already satisfied: wget in /Users/lucbertin/anaconda3/lib/python3.6/site-packages (3.2)\r\n"
     ]
    }
   ],
   "source": [
    "!pip install wget"
   ]
  },
  {
   "cell_type": "markdown",
   "metadata": {},
   "source": [
    "### 0.2. Utilisation de wget pour télécharger les fichiers dans un repo local"
   ]
  },
  {
   "cell_type": "markdown",
   "metadata": {},
   "source": [
    "#### 0.2.1. Création d'un directory if not exist pour y mettre la docu et les CSV"
   ]
  },
  {
   "cell_type": "code",
   "execution_count": 118,
   "metadata": {},
   "outputs": [],
   "source": [
    "import wget"
   ]
  },
  {
   "cell_type": "code",
   "execution_count": 125,
   "metadata": {},
   "outputs": [],
   "source": [
    "import os\n",
    "dossier = \"data_accidents/\"\n",
    "if not os.path.exists(dossier):\n",
    "    os.mkdir(dossier)"
   ]
  },
  {
   "cell_type": "code",
   "execution_count": 130,
   "metadata": {},
   "outputs": [
    {
     "data": {
      "text/plain": [
       "'data_accidents/documentation (1).pdf'"
      ]
     },
     "execution_count": 130,
     "metadata": {},
     "output_type": "execute_result"
    }
   ],
   "source": [
    "wget.download(url_documentation, out=dossier+'documentation.pdf')"
   ]
  },
  {
   "cell_type": "markdown",
   "metadata": {},
   "source": [
    "#### 0.2.2. Download les csv (remarque: on aurait pu directement les ouvrir depuis Pandas)"
   ]
  },
  {
   "cell_type": "code",
   "execution_count": 461,
   "metadata": {},
   "outputs": [],
   "source": [
    "to_download = ['url_vehicules2016', 'url_vehicules2017', 'url_usagers2017', 'url_lieux2017', 'url_caracteristiques2017']\n",
    "for dataset in to_download:\n",
    "    wget.download(eval(dataset), out=dossier + dataset.split('_')[1] + '.csv')"
   ]
  },
  {
   "cell_type": "code",
   "execution_count": 457,
   "metadata": {},
   "outputs": [
    {
     "name": "stdout",
     "output_type": "stream",
     "text": [
      "Num_Acc,senc,catv,occutc,obs,obsm,choc,manv,num_veh\r",
      "\r\n",
      "201700000001,0,07,000,00,2,3,09,B01\r",
      "\r\n"
     ]
    }
   ],
   "source": [
    "!head -n 2 data_accidents/vehicules2017.csv"
   ]
  },
  {
   "cell_type": "code",
   "execution_count": 167,
   "metadata": {},
   "outputs": [
    {
     "name": "stdout",
     "output_type": "stream",
     "text": [
      "Num_Acc,an,mois,jour,hrmn,lum,agg,int,atm,col,com,adr,gps,lat,long,dep\r",
      "\r\n",
      "201600000001,16,2,1,1445,1,2,1,8,3,005,\"46, rue Sonneville\",M,0000000,0000000,590\r",
      "\r\n"
     ]
    }
   ],
   "source": [
    "!head -n 2 $dossier/vehicules2017.csv"
   ]
  },
  {
   "cell_type": "markdown",
   "metadata": {},
   "source": [
    "## 1) Ouverture du/des CSV "
   ]
  },
  {
   "cell_type": "code",
   "execution_count": 451,
   "metadata": {},
   "outputs": [],
   "source": [
    "import pandas as pd"
   ]
  },
  {
   "cell_type": "markdown",
   "metadata": {},
   "source": [
    "### 1.1. Bien veiller à mettre les bons séparateurs\n",
    "### 1.2. Bien spécifier l'encodage initial du fichier (car python décode par défaut en utf-8)"
   ]
  },
  {
   "cell_type": "code",
   "execution_count": 462,
   "metadata": {},
   "outputs": [],
   "source": [
    "df = pd.read_csv(dossier+\"vehicules2016.csv\", sep=',', encoding='latin-1') # regardez le séparateur au desus"
   ]
  },
  {
   "cell_type": "code",
   "execution_count": 463,
   "metadata": {},
   "outputs": [
    {
     "data": {
      "text/html": [
       "<div>\n",
       "<style scoped>\n",
       "    .dataframe tbody tr th:only-of-type {\n",
       "        vertical-align: middle;\n",
       "    }\n",
       "\n",
       "    .dataframe tbody tr th {\n",
       "        vertical-align: top;\n",
       "    }\n",
       "\n",
       "    .dataframe thead th {\n",
       "        text-align: right;\n",
       "    }\n",
       "</style>\n",
       "<table border=\"1\" class=\"dataframe\">\n",
       "  <thead>\n",
       "    <tr style=\"text-align: right;\">\n",
       "      <th></th>\n",
       "      <th>Num_Acc</th>\n",
       "      <th>an</th>\n",
       "      <th>mois</th>\n",
       "      <th>jour</th>\n",
       "      <th>hrmn</th>\n",
       "      <th>lum</th>\n",
       "      <th>agg</th>\n",
       "      <th>int</th>\n",
       "      <th>atm</th>\n",
       "      <th>col</th>\n",
       "      <th>com</th>\n",
       "      <th>adr</th>\n",
       "      <th>gps</th>\n",
       "      <th>lat</th>\n",
       "      <th>long</th>\n",
       "      <th>dep</th>\n",
       "    </tr>\n",
       "  </thead>\n",
       "  <tbody>\n",
       "    <tr>\n",
       "      <th>0</th>\n",
       "      <td>201600000001</td>\n",
       "      <td>16</td>\n",
       "      <td>2</td>\n",
       "      <td>1</td>\n",
       "      <td>1445</td>\n",
       "      <td>1</td>\n",
       "      <td>2</td>\n",
       "      <td>1</td>\n",
       "      <td>8</td>\n",
       "      <td>3.0</td>\n",
       "      <td>5</td>\n",
       "      <td>46, rue Sonneville</td>\n",
       "      <td>M</td>\n",
       "      <td>0.0</td>\n",
       "      <td>0.0</td>\n",
       "      <td>590</td>\n",
       "    </tr>\n",
       "    <tr>\n",
       "      <th>1</th>\n",
       "      <td>201600000002</td>\n",
       "      <td>16</td>\n",
       "      <td>3</td>\n",
       "      <td>16</td>\n",
       "      <td>1800</td>\n",
       "      <td>1</td>\n",
       "      <td>2</td>\n",
       "      <td>6</td>\n",
       "      <td>1</td>\n",
       "      <td>6.0</td>\n",
       "      <td>5</td>\n",
       "      <td>1a rue du cimetière</td>\n",
       "      <td>M</td>\n",
       "      <td>0.0</td>\n",
       "      <td>0.0</td>\n",
       "      <td>590</td>\n",
       "    </tr>\n",
       "    <tr>\n",
       "      <th>2</th>\n",
       "      <td>201600000003</td>\n",
       "      <td>16</td>\n",
       "      <td>7</td>\n",
       "      <td>13</td>\n",
       "      <td>1900</td>\n",
       "      <td>1</td>\n",
       "      <td>1</td>\n",
       "      <td>1</td>\n",
       "      <td>1</td>\n",
       "      <td>6.0</td>\n",
       "      <td>11</td>\n",
       "      <td>NaN</td>\n",
       "      <td>M</td>\n",
       "      <td>0.0</td>\n",
       "      <td>0.0</td>\n",
       "      <td>590</td>\n",
       "    </tr>\n",
       "    <tr>\n",
       "      <th>3</th>\n",
       "      <td>201600000004</td>\n",
       "      <td>16</td>\n",
       "      <td>8</td>\n",
       "      <td>15</td>\n",
       "      <td>1930</td>\n",
       "      <td>2</td>\n",
       "      <td>2</td>\n",
       "      <td>1</td>\n",
       "      <td>7</td>\n",
       "      <td>3.0</td>\n",
       "      <td>477</td>\n",
       "      <td>52 rue victor hugo</td>\n",
       "      <td>M</td>\n",
       "      <td>0.0</td>\n",
       "      <td>0.0</td>\n",
       "      <td>590</td>\n",
       "    </tr>\n",
       "    <tr>\n",
       "      <th>4</th>\n",
       "      <td>201600000005</td>\n",
       "      <td>16</td>\n",
       "      <td>12</td>\n",
       "      <td>23</td>\n",
       "      <td>1100</td>\n",
       "      <td>1</td>\n",
       "      <td>2</td>\n",
       "      <td>3</td>\n",
       "      <td>1</td>\n",
       "      <td>3.0</td>\n",
       "      <td>11</td>\n",
       "      <td>rue Joliot curie</td>\n",
       "      <td>M</td>\n",
       "      <td>0.0</td>\n",
       "      <td>0.0</td>\n",
       "      <td>590</td>\n",
       "    </tr>\n",
       "    <tr>\n",
       "      <th>5</th>\n",
       "      <td>201600000006</td>\n",
       "      <td>16</td>\n",
       "      <td>12</td>\n",
       "      <td>23</td>\n",
       "      <td>1115</td>\n",
       "      <td>1</td>\n",
       "      <td>2</td>\n",
       "      <td>1</td>\n",
       "      <td>7</td>\n",
       "      <td>6.0</td>\n",
       "      <td>11</td>\n",
       "      <td>Rue Jean-baptiste LEBAS</td>\n",
       "      <td>M</td>\n",
       "      <td>0.0</td>\n",
       "      <td>0.0</td>\n",
       "      <td>590</td>\n",
       "    </tr>\n",
       "    <tr>\n",
       "      <th>6</th>\n",
       "      <td>201600000007</td>\n",
       "      <td>16</td>\n",
       "      <td>5</td>\n",
       "      <td>1</td>\n",
       "      <td>1145</td>\n",
       "      <td>1</td>\n",
       "      <td>2</td>\n",
       "      <td>1</td>\n",
       "      <td>7</td>\n",
       "      <td>2.0</td>\n",
       "      <td>51</td>\n",
       "      <td>rue Jules FERRY</td>\n",
       "      <td>M</td>\n",
       "      <td>0.0</td>\n",
       "      <td>0.0</td>\n",
       "      <td>590</td>\n",
       "    </tr>\n",
       "    <tr>\n",
       "      <th>7</th>\n",
       "      <td>201600000008</td>\n",
       "      <td>16</td>\n",
       "      <td>5</td>\n",
       "      <td>14</td>\n",
       "      <td>1915</td>\n",
       "      <td>2</td>\n",
       "      <td>1</td>\n",
       "      <td>1</td>\n",
       "      <td>1</td>\n",
       "      <td>1.0</td>\n",
       "      <td>250</td>\n",
       "      <td>NaN</td>\n",
       "      <td>M</td>\n",
       "      <td>0.0</td>\n",
       "      <td>0.0</td>\n",
       "      <td>590</td>\n",
       "    </tr>\n",
       "    <tr>\n",
       "      <th>8</th>\n",
       "      <td>201600000009</td>\n",
       "      <td>16</td>\n",
       "      <td>9</td>\n",
       "      <td>23</td>\n",
       "      <td>1900</td>\n",
       "      <td>1</td>\n",
       "      <td>2</td>\n",
       "      <td>1</td>\n",
       "      <td>1</td>\n",
       "      <td>3.0</td>\n",
       "      <td>51</td>\n",
       "      <td>rn41</td>\n",
       "      <td>M</td>\n",
       "      <td>0.0</td>\n",
       "      <td>0.0</td>\n",
       "      <td>590</td>\n",
       "    </tr>\n",
       "    <tr>\n",
       "      <th>9</th>\n",
       "      <td>201600000010</td>\n",
       "      <td>16</td>\n",
       "      <td>12</td>\n",
       "      <td>30</td>\n",
       "      <td>1030</td>\n",
       "      <td>1</td>\n",
       "      <td>1</td>\n",
       "      <td>1</td>\n",
       "      <td>9</td>\n",
       "      <td>6.0</td>\n",
       "      <td>303</td>\n",
       "      <td>NaN</td>\n",
       "      <td>M</td>\n",
       "      <td>0.0</td>\n",
       "      <td>0.0</td>\n",
       "      <td>590</td>\n",
       "    </tr>\n",
       "  </tbody>\n",
       "</table>\n",
       "</div>"
      ],
      "text/plain": [
       "        Num_Acc  an  mois  jour  hrmn  lum  agg  int  atm  col  com  \\\n",
       "0  201600000001  16     2     1  1445    1    2    1    8  3.0    5   \n",
       "1  201600000002  16     3    16  1800    1    2    6    1  6.0    5   \n",
       "2  201600000003  16     7    13  1900    1    1    1    1  6.0   11   \n",
       "3  201600000004  16     8    15  1930    2    2    1    7  3.0  477   \n",
       "4  201600000005  16    12    23  1100    1    2    3    1  3.0   11   \n",
       "5  201600000006  16    12    23  1115    1    2    1    7  6.0   11   \n",
       "6  201600000007  16     5     1  1145    1    2    1    7  2.0   51   \n",
       "7  201600000008  16     5    14  1915    2    1    1    1  1.0  250   \n",
       "8  201600000009  16     9    23  1900    1    2    1    1  3.0   51   \n",
       "9  201600000010  16    12    30  1030    1    1    1    9  6.0  303   \n",
       "\n",
       "                       adr gps  lat  long  dep  \n",
       "0       46, rue Sonneville   M  0.0   0.0  590  \n",
       "1      1a rue du cimetière   M  0.0   0.0  590  \n",
       "2                      NaN   M  0.0   0.0  590  \n",
       "3       52 rue victor hugo   M  0.0   0.0  590  \n",
       "4         rue Joliot curie   M  0.0   0.0  590  \n",
       "5  Rue Jean-baptiste LEBAS   M  0.0   0.0  590  \n",
       "6          rue Jules FERRY   M  0.0   0.0  590  \n",
       "7                      NaN   M  0.0   0.0  590  \n",
       "8                     rn41   M  0.0   0.0  590  \n",
       "9                      NaN   M  0.0   0.0  590  "
      ]
     },
     "execution_count": 463,
     "metadata": {},
     "output_type": "execute_result"
    }
   ],
   "source": [
    "df.head(10)"
   ]
  },
  {
   "cell_type": "markdown",
   "metadata": {},
   "source": [
    "#### 1.2.1 simple slicing"
   ]
  },
  {
   "cell_type": "code",
   "execution_count": 362,
   "metadata": {},
   "outputs": [
    {
     "data": {
      "text/html": [
       "<div>\n",
       "<style scoped>\n",
       "    .dataframe tbody tr th:only-of-type {\n",
       "        vertical-align: middle;\n",
       "    }\n",
       "\n",
       "    .dataframe tbody tr th {\n",
       "        vertical-align: top;\n",
       "    }\n",
       "\n",
       "    .dataframe thead th {\n",
       "        text-align: right;\n",
       "    }\n",
       "</style>\n",
       "<table border=\"1\" class=\"dataframe\">\n",
       "  <thead>\n",
       "    <tr style=\"text-align: right;\">\n",
       "      <th></th>\n",
       "      <th>Num_Acc</th>\n",
       "      <th>annee</th>\n",
       "      <th>mois</th>\n",
       "      <th>jour</th>\n",
       "      <th>hrmn</th>\n",
       "      <th>lum</th>\n",
       "      <th>agg</th>\n",
       "      <th>int</th>\n",
       "      <th>atm</th>\n",
       "      <th>col</th>\n",
       "      <th>com</th>\n",
       "      <th>adr</th>\n",
       "      <th>gps</th>\n",
       "      <th>lat</th>\n",
       "      <th>long</th>\n",
       "      <th>dep</th>\n",
       "      <th>date</th>\n",
       "    </tr>\n",
       "  </thead>\n",
       "  <tbody>\n",
       "    <tr>\n",
       "      <th>1</th>\n",
       "      <td>201600000002</td>\n",
       "      <td>16</td>\n",
       "      <td>3</td>\n",
       "      <td>16</td>\n",
       "      <td>1800</td>\n",
       "      <td>1</td>\n",
       "      <td>En agglomeration</td>\n",
       "      <td>Giratoire</td>\n",
       "      <td>Normale</td>\n",
       "      <td>6.0</td>\n",
       "      <td>5</td>\n",
       "      <td>1a rue du cimetière</td>\n",
       "      <td>M</td>\n",
       "      <td>0.0</td>\n",
       "      <td>0.0</td>\n",
       "      <td>590</td>\n",
       "      <td>2016-03-16</td>\n",
       "    </tr>\n",
       "  </tbody>\n",
       "</table>\n",
       "</div>"
      ],
      "text/plain": [
       "        Num_Acc  annee  mois  jour  hrmn  lum               agg        int  \\\n",
       "1  201600000002     16     3    16  1800    1  En agglomeration  Giratoire   \n",
       "\n",
       "       atm  col  com                  adr gps  lat  long  dep       date  \n",
       "1  Normale  6.0    5  1a rue du cimetière   M  0.0   0.0  590 2016-03-16  "
      ]
     },
     "execution_count": 362,
     "metadata": {},
     "output_type": "execute_result"
    }
   ],
   "source": [
    "df[df['Num_Acc'] == 201600000002]"
   ]
  },
  {
   "cell_type": "code",
   "execution_count": 386,
   "metadata": {},
   "outputs": [
    {
     "data": {
      "text/plain": [
       "0     2\n",
       "1     3\n",
       "2     7\n",
       "3     8\n",
       "4    12\n",
       "Name: mois, dtype: int64"
      ]
     },
     "execution_count": 386,
     "metadata": {},
     "output_type": "execute_result"
    }
   ],
   "source": [
    "df['mois'].head()"
   ]
  },
  {
   "cell_type": "code",
   "execution_count": 387,
   "metadata": {},
   "outputs": [
    {
     "data": {
      "text/html": [
       "<div>\n",
       "<style scoped>\n",
       "    .dataframe tbody tr th:only-of-type {\n",
       "        vertical-align: middle;\n",
       "    }\n",
       "\n",
       "    .dataframe tbody tr th {\n",
       "        vertical-align: top;\n",
       "    }\n",
       "\n",
       "    .dataframe thead th {\n",
       "        text-align: right;\n",
       "    }\n",
       "</style>\n",
       "<table border=\"1\" class=\"dataframe\">\n",
       "  <thead>\n",
       "    <tr style=\"text-align: right;\">\n",
       "      <th></th>\n",
       "      <th>mois</th>\n",
       "      <th>jour</th>\n",
       "    </tr>\n",
       "  </thead>\n",
       "  <tbody>\n",
       "    <tr>\n",
       "      <th>0</th>\n",
       "      <td>2</td>\n",
       "      <td>1</td>\n",
       "    </tr>\n",
       "    <tr>\n",
       "      <th>1</th>\n",
       "      <td>3</td>\n",
       "      <td>16</td>\n",
       "    </tr>\n",
       "    <tr>\n",
       "      <th>2</th>\n",
       "      <td>7</td>\n",
       "      <td>13</td>\n",
       "    </tr>\n",
       "    <tr>\n",
       "      <th>3</th>\n",
       "      <td>8</td>\n",
       "      <td>15</td>\n",
       "    </tr>\n",
       "    <tr>\n",
       "      <th>4</th>\n",
       "      <td>12</td>\n",
       "      <td>23</td>\n",
       "    </tr>\n",
       "  </tbody>\n",
       "</table>\n",
       "</div>"
      ],
      "text/plain": [
       "   mois  jour\n",
       "0     2     1\n",
       "1     3    16\n",
       "2     7    13\n",
       "3     8    15\n",
       "4    12    23"
      ]
     },
     "execution_count": 387,
     "metadata": {},
     "output_type": "execute_result"
    }
   ],
   "source": [
    "df[['mois', 'jour']].head()"
   ]
  },
  {
   "cell_type": "code",
   "execution_count": 388,
   "metadata": {},
   "outputs": [
    {
     "data": {
      "text/html": [
       "<div>\n",
       "<style scoped>\n",
       "    .dataframe tbody tr th:only-of-type {\n",
       "        vertical-align: middle;\n",
       "    }\n",
       "\n",
       "    .dataframe tbody tr th {\n",
       "        vertical-align: top;\n",
       "    }\n",
       "\n",
       "    .dataframe thead th {\n",
       "        text-align: right;\n",
       "    }\n",
       "</style>\n",
       "<table border=\"1\" class=\"dataframe\">\n",
       "  <thead>\n",
       "    <tr style=\"text-align: right;\">\n",
       "      <th></th>\n",
       "      <th>mois</th>\n",
       "      <th>jour</th>\n",
       "    </tr>\n",
       "  </thead>\n",
       "  <tbody>\n",
       "    <tr>\n",
       "      <th>1</th>\n",
       "      <td>3</td>\n",
       "      <td>16</td>\n",
       "    </tr>\n",
       "  </tbody>\n",
       "</table>\n",
       "</div>"
      ],
      "text/plain": [
       "   mois  jour\n",
       "1     3    16"
      ]
     },
     "execution_count": 388,
     "metadata": {},
     "output_type": "execute_result"
    }
   ],
   "source": [
    "df[df['Num_Acc'] == 201600000002][['mois', 'jour']]"
   ]
  },
  {
   "cell_type": "markdown",
   "metadata": {},
   "source": [
    "### 1.2.2. autre possibilité : loc / iloc"
   ]
  },
  {
   "cell_type": "code",
   "execution_count": 389,
   "metadata": {},
   "outputs": [
    {
     "data": {
      "text/html": [
       "<div>\n",
       "<style scoped>\n",
       "    .dataframe tbody tr th:only-of-type {\n",
       "        vertical-align: middle;\n",
       "    }\n",
       "\n",
       "    .dataframe tbody tr th {\n",
       "        vertical-align: top;\n",
       "    }\n",
       "\n",
       "    .dataframe thead th {\n",
       "        text-align: right;\n",
       "    }\n",
       "</style>\n",
       "<table border=\"1\" class=\"dataframe\">\n",
       "  <thead>\n",
       "    <tr style=\"text-align: right;\">\n",
       "      <th></th>\n",
       "      <th>an</th>\n",
       "      <th>mois</th>\n",
       "      <th>jour</th>\n",
       "    </tr>\n",
       "  </thead>\n",
       "  <tbody>\n",
       "    <tr>\n",
       "      <th>2</th>\n",
       "      <td>16</td>\n",
       "      <td>7</td>\n",
       "      <td>13</td>\n",
       "    </tr>\n",
       "    <tr>\n",
       "      <th>3</th>\n",
       "      <td>16</td>\n",
       "      <td>8</td>\n",
       "      <td>15</td>\n",
       "    </tr>\n",
       "  </tbody>\n",
       "</table>\n",
       "</div>"
      ],
      "text/plain": [
       "   an  mois  jour\n",
       "2  16     7    13\n",
       "3  16     8    15"
      ]
     },
     "execution_count": 389,
     "metadata": {},
     "output_type": "execute_result"
    }
   ],
   "source": [
    "df.iloc[2:4, 1:4]"
   ]
  },
  {
   "cell_type": "code",
   "execution_count": 390,
   "metadata": {},
   "outputs": [
    {
     "data": {
      "text/html": [
       "<div>\n",
       "<style scoped>\n",
       "    .dataframe tbody tr th:only-of-type {\n",
       "        vertical-align: middle;\n",
       "    }\n",
       "\n",
       "    .dataframe tbody tr th {\n",
       "        vertical-align: top;\n",
       "    }\n",
       "\n",
       "    .dataframe thead th {\n",
       "        text-align: right;\n",
       "    }\n",
       "</style>\n",
       "<table border=\"1\" class=\"dataframe\">\n",
       "  <thead>\n",
       "    <tr style=\"text-align: right;\">\n",
       "      <th></th>\n",
       "      <th>mois</th>\n",
       "      <th>jour</th>\n",
       "    </tr>\n",
       "  </thead>\n",
       "  <tbody>\n",
       "    <tr>\n",
       "      <th>1</th>\n",
       "      <td>3</td>\n",
       "      <td>16</td>\n",
       "    </tr>\n",
       "  </tbody>\n",
       "</table>\n",
       "</div>"
      ],
      "text/plain": [
       "   mois  jour\n",
       "1     3    16"
      ]
     },
     "execution_count": 390,
     "metadata": {},
     "output_type": "execute_result"
    }
   ],
   "source": [
    "df.loc[df['Num_Acc']==201600000002, ['mois', 'jour']]"
   ]
  },
  {
   "cell_type": "markdown",
   "metadata": {},
   "source": [
    "### 1.3. des infos sur le dataset"
   ]
  },
  {
   "cell_type": "code",
   "execution_count": 391,
   "metadata": {},
   "outputs": [
    {
     "data": {
      "text/plain": [
       "(59432, 16)"
      ]
     },
     "execution_count": 391,
     "metadata": {},
     "output_type": "execute_result"
    }
   ],
   "source": [
    "df.shape"
   ]
  },
  {
   "cell_type": "code",
   "execution_count": 177,
   "metadata": {},
   "outputs": [
    {
     "data": {
      "text/html": [
       "<div>\n",
       "<style scoped>\n",
       "    .dataframe tbody tr th:only-of-type {\n",
       "        vertical-align: middle;\n",
       "    }\n",
       "\n",
       "    .dataframe tbody tr th {\n",
       "        vertical-align: top;\n",
       "    }\n",
       "\n",
       "    .dataframe thead th {\n",
       "        text-align: right;\n",
       "    }\n",
       "</style>\n",
       "<table border=\"1\" class=\"dataframe\">\n",
       "  <thead>\n",
       "    <tr style=\"text-align: right;\">\n",
       "      <th></th>\n",
       "      <th>0</th>\n",
       "      <th>1</th>\n",
       "      <th>2</th>\n",
       "      <th>3</th>\n",
       "      <th>4</th>\n",
       "    </tr>\n",
       "  </thead>\n",
       "  <tbody>\n",
       "    <tr>\n",
       "      <th>Num_Acc</th>\n",
       "      <td>201600000001</td>\n",
       "      <td>201600000002</td>\n",
       "      <td>201600000003</td>\n",
       "      <td>201600000004</td>\n",
       "      <td>201600000005</td>\n",
       "    </tr>\n",
       "    <tr>\n",
       "      <th>an</th>\n",
       "      <td>16</td>\n",
       "      <td>16</td>\n",
       "      <td>16</td>\n",
       "      <td>16</td>\n",
       "      <td>16</td>\n",
       "    </tr>\n",
       "    <tr>\n",
       "      <th>mois</th>\n",
       "      <td>2</td>\n",
       "      <td>3</td>\n",
       "      <td>7</td>\n",
       "      <td>8</td>\n",
       "      <td>12</td>\n",
       "    </tr>\n",
       "    <tr>\n",
       "      <th>jour</th>\n",
       "      <td>1</td>\n",
       "      <td>16</td>\n",
       "      <td>13</td>\n",
       "      <td>15</td>\n",
       "      <td>23</td>\n",
       "    </tr>\n",
       "    <tr>\n",
       "      <th>hrmn</th>\n",
       "      <td>1445</td>\n",
       "      <td>1800</td>\n",
       "      <td>1900</td>\n",
       "      <td>1930</td>\n",
       "      <td>1100</td>\n",
       "    </tr>\n",
       "    <tr>\n",
       "      <th>lum</th>\n",
       "      <td>1</td>\n",
       "      <td>1</td>\n",
       "      <td>1</td>\n",
       "      <td>2</td>\n",
       "      <td>1</td>\n",
       "    </tr>\n",
       "    <tr>\n",
       "      <th>agg</th>\n",
       "      <td>2</td>\n",
       "      <td>2</td>\n",
       "      <td>1</td>\n",
       "      <td>2</td>\n",
       "      <td>2</td>\n",
       "    </tr>\n",
       "    <tr>\n",
       "      <th>int</th>\n",
       "      <td>1</td>\n",
       "      <td>6</td>\n",
       "      <td>1</td>\n",
       "      <td>1</td>\n",
       "      <td>3</td>\n",
       "    </tr>\n",
       "    <tr>\n",
       "      <th>atm</th>\n",
       "      <td>8</td>\n",
       "      <td>1</td>\n",
       "      <td>1</td>\n",
       "      <td>7</td>\n",
       "      <td>1</td>\n",
       "    </tr>\n",
       "    <tr>\n",
       "      <th>col</th>\n",
       "      <td>3</td>\n",
       "      <td>6</td>\n",
       "      <td>6</td>\n",
       "      <td>3</td>\n",
       "      <td>3</td>\n",
       "    </tr>\n",
       "    <tr>\n",
       "      <th>com</th>\n",
       "      <td>5</td>\n",
       "      <td>5</td>\n",
       "      <td>11</td>\n",
       "      <td>477</td>\n",
       "      <td>11</td>\n",
       "    </tr>\n",
       "    <tr>\n",
       "      <th>adr</th>\n",
       "      <td>46, rue Sonneville</td>\n",
       "      <td>1a rue du cimetière</td>\n",
       "      <td>NaN</td>\n",
       "      <td>52 rue victor hugo</td>\n",
       "      <td>rue Joliot curie</td>\n",
       "    </tr>\n",
       "    <tr>\n",
       "      <th>gps</th>\n",
       "      <td>M</td>\n",
       "      <td>M</td>\n",
       "      <td>M</td>\n",
       "      <td>M</td>\n",
       "      <td>M</td>\n",
       "    </tr>\n",
       "    <tr>\n",
       "      <th>lat</th>\n",
       "      <td>0</td>\n",
       "      <td>0</td>\n",
       "      <td>0</td>\n",
       "      <td>0</td>\n",
       "      <td>0</td>\n",
       "    </tr>\n",
       "    <tr>\n",
       "      <th>long</th>\n",
       "      <td>0</td>\n",
       "      <td>0</td>\n",
       "      <td>0</td>\n",
       "      <td>0</td>\n",
       "      <td>0</td>\n",
       "    </tr>\n",
       "    <tr>\n",
       "      <th>dep</th>\n",
       "      <td>590</td>\n",
       "      <td>590</td>\n",
       "      <td>590</td>\n",
       "      <td>590</td>\n",
       "      <td>590</td>\n",
       "    </tr>\n",
       "  </tbody>\n",
       "</table>\n",
       "</div>"
      ],
      "text/plain": [
       "                          0                    1             2  \\\n",
       "Num_Acc        201600000001         201600000002  201600000003   \n",
       "an                       16                   16            16   \n",
       "mois                      2                    3             7   \n",
       "jour                      1                   16            13   \n",
       "hrmn                   1445                 1800          1900   \n",
       "lum                       1                    1             1   \n",
       "agg                       2                    2             1   \n",
       "int                       1                    6             1   \n",
       "atm                       8                    1             1   \n",
       "col                       3                    6             6   \n",
       "com                       5                    5            11   \n",
       "adr      46, rue Sonneville  1a rue du cimetière           NaN   \n",
       "gps                       M                    M             M   \n",
       "lat                       0                    0             0   \n",
       "long                      0                    0             0   \n",
       "dep                     590                  590           590   \n",
       "\n",
       "                          3                 4  \n",
       "Num_Acc        201600000004      201600000005  \n",
       "an                       16                16  \n",
       "mois                      8                12  \n",
       "jour                     15                23  \n",
       "hrmn                   1930              1100  \n",
       "lum                       2                 1  \n",
       "agg                       2                 2  \n",
       "int                       1                 3  \n",
       "atm                       7                 1  \n",
       "col                       3                 3  \n",
       "com                     477                11  \n",
       "adr      52 rue victor hugo  rue Joliot curie  \n",
       "gps                       M                 M  \n",
       "lat                       0                 0  \n",
       "long                      0                 0  \n",
       "dep                     590               590  "
      ]
     },
     "execution_count": 177,
     "metadata": {},
     "output_type": "execute_result"
    }
   ],
   "source": [
    "df.head(5).T"
   ]
  },
  {
   "cell_type": "code",
   "execution_count": 178,
   "metadata": {},
   "outputs": [
    {
     "data": {
      "text/html": [
       "<div>\n",
       "<style scoped>\n",
       "    .dataframe tbody tr th:only-of-type {\n",
       "        vertical-align: middle;\n",
       "    }\n",
       "\n",
       "    .dataframe tbody tr th {\n",
       "        vertical-align: top;\n",
       "    }\n",
       "\n",
       "    .dataframe thead th {\n",
       "        text-align: right;\n",
       "    }\n",
       "</style>\n",
       "<table border=\"1\" class=\"dataframe\">\n",
       "  <thead>\n",
       "    <tr style=\"text-align: right;\">\n",
       "      <th></th>\n",
       "      <th>Num_Acc</th>\n",
       "      <th>an</th>\n",
       "      <th>mois</th>\n",
       "      <th>jour</th>\n",
       "      <th>hrmn</th>\n",
       "      <th>lum</th>\n",
       "      <th>agg</th>\n",
       "      <th>int</th>\n",
       "      <th>atm</th>\n",
       "      <th>col</th>\n",
       "      <th>com</th>\n",
       "      <th>lat</th>\n",
       "      <th>long</th>\n",
       "      <th>dep</th>\n",
       "    </tr>\n",
       "  </thead>\n",
       "  <tbody>\n",
       "    <tr>\n",
       "      <th>count</th>\n",
       "      <td>5.943200e+04</td>\n",
       "      <td>59432.0</td>\n",
       "      <td>59432.000000</td>\n",
       "      <td>59432.000000</td>\n",
       "      <td>59432.000000</td>\n",
       "      <td>59432.000000</td>\n",
       "      <td>59432.000000</td>\n",
       "      <td>59432.000000</td>\n",
       "      <td>59432.000000</td>\n",
       "      <td>59430.000000</td>\n",
       "      <td>59432.000000</td>\n",
       "      <td>4.658500e+04</td>\n",
       "      <td>4.658500e+04</td>\n",
       "      <td>59432.000000</td>\n",
       "    </tr>\n",
       "    <tr>\n",
       "      <th>mean</th>\n",
       "      <td>2.016000e+11</td>\n",
       "      <td>16.0</td>\n",
       "      <td>6.701844</td>\n",
       "      <td>15.532693</td>\n",
       "      <td>1373.312710</td>\n",
       "      <td>1.909039</td>\n",
       "      <td>1.644569</td>\n",
       "      <td>1.760600</td>\n",
       "      <td>1.521419</td>\n",
       "      <td>4.126283</td>\n",
       "      <td>189.693465</td>\n",
       "      <td>4.101576e+06</td>\n",
       "      <td>2.368367e+05</td>\n",
       "      <td>583.326036</td>\n",
       "    </tr>\n",
       "    <tr>\n",
       "      <th>std</th>\n",
       "      <td>1.715668e+04</td>\n",
       "      <td>0.0</td>\n",
       "      <td>3.430012</td>\n",
       "      <td>8.811738</td>\n",
       "      <td>545.604479</td>\n",
       "      <td>1.503857</td>\n",
       "      <td>0.478648</td>\n",
       "      <td>1.573385</td>\n",
       "      <td>1.505213</td>\n",
       "      <td>1.962217</td>\n",
       "      <td>170.001085</td>\n",
       "      <td>1.568368e+06</td>\n",
       "      <td>4.428120e+05</td>\n",
       "      <td>294.487352</td>\n",
       "    </tr>\n",
       "    <tr>\n",
       "      <th>min</th>\n",
       "      <td>2.016000e+11</td>\n",
       "      <td>16.0</td>\n",
       "      <td>1.000000</td>\n",
       "      <td>1.000000</td>\n",
       "      <td>1.000000</td>\n",
       "      <td>1.000000</td>\n",
       "      <td>1.000000</td>\n",
       "      <td>1.000000</td>\n",
       "      <td>1.000000</td>\n",
       "      <td>1.000000</td>\n",
       "      <td>1.000000</td>\n",
       "      <td>0.000000e+00</td>\n",
       "      <td>-4.760340e+05</td>\n",
       "      <td>10.000000</td>\n",
       "    </tr>\n",
       "    <tr>\n",
       "      <th>25%</th>\n",
       "      <td>2.016000e+11</td>\n",
       "      <td>16.0</td>\n",
       "      <td>4.000000</td>\n",
       "      <td>8.000000</td>\n",
       "      <td>945.000000</td>\n",
       "      <td>1.000000</td>\n",
       "      <td>1.000000</td>\n",
       "      <td>1.000000</td>\n",
       "      <td>1.000000</td>\n",
       "      <td>3.000000</td>\n",
       "      <td>57.000000</td>\n",
       "      <td>4.353665e+06</td>\n",
       "      <td>0.000000e+00</td>\n",
       "      <td>330.000000</td>\n",
       "    </tr>\n",
       "    <tr>\n",
       "      <th>50%</th>\n",
       "      <td>2.016000e+11</td>\n",
       "      <td>16.0</td>\n",
       "      <td>7.000000</td>\n",
       "      <td>15.000000</td>\n",
       "      <td>1442.000000</td>\n",
       "      <td>1.000000</td>\n",
       "      <td>2.000000</td>\n",
       "      <td>1.000000</td>\n",
       "      <td>1.000000</td>\n",
       "      <td>3.000000</td>\n",
       "      <td>118.000000</td>\n",
       "      <td>4.722596e+06</td>\n",
       "      <td>2.321900e+05</td>\n",
       "      <td>670.000000</td>\n",
       "    </tr>\n",
       "    <tr>\n",
       "      <th>75%</th>\n",
       "      <td>2.016000e+11</td>\n",
       "      <td>16.0</td>\n",
       "      <td>10.000000</td>\n",
       "      <td>23.000000</td>\n",
       "      <td>1810.000000</td>\n",
       "      <td>3.000000</td>\n",
       "      <td>2.000000</td>\n",
       "      <td>2.000000</td>\n",
       "      <td>1.000000</td>\n",
       "      <td>6.000000</td>\n",
       "      <td>281.000000</td>\n",
       "      <td>4.883760e+06</td>\n",
       "      <td>4.021730e+05</td>\n",
       "      <td>840.000000</td>\n",
       "    </tr>\n",
       "    <tr>\n",
       "      <th>max</th>\n",
       "      <td>2.016001e+11</td>\n",
       "      <td>16.0</td>\n",
       "      <td>12.000000</td>\n",
       "      <td>31.000000</td>\n",
       "      <td>2359.000000</td>\n",
       "      <td>5.000000</td>\n",
       "      <td>2.000000</td>\n",
       "      <td>9.000000</td>\n",
       "      <td>9.000000</td>\n",
       "      <td>7.000000</td>\n",
       "      <td>907.000000</td>\n",
       "      <td>5.106528e+06</td>\n",
       "      <td>6.156877e+06</td>\n",
       "      <td>976.000000</td>\n",
       "    </tr>\n",
       "  </tbody>\n",
       "</table>\n",
       "</div>"
      ],
      "text/plain": [
       "            Num_Acc       an          mois          jour          hrmn  \\\n",
       "count  5.943200e+04  59432.0  59432.000000  59432.000000  59432.000000   \n",
       "mean   2.016000e+11     16.0      6.701844     15.532693   1373.312710   \n",
       "std    1.715668e+04      0.0      3.430012      8.811738    545.604479   \n",
       "min    2.016000e+11     16.0      1.000000      1.000000      1.000000   \n",
       "25%    2.016000e+11     16.0      4.000000      8.000000    945.000000   \n",
       "50%    2.016000e+11     16.0      7.000000     15.000000   1442.000000   \n",
       "75%    2.016000e+11     16.0     10.000000     23.000000   1810.000000   \n",
       "max    2.016001e+11     16.0     12.000000     31.000000   2359.000000   \n",
       "\n",
       "                lum           agg           int           atm           col  \\\n",
       "count  59432.000000  59432.000000  59432.000000  59432.000000  59430.000000   \n",
       "mean       1.909039      1.644569      1.760600      1.521419      4.126283   \n",
       "std        1.503857      0.478648      1.573385      1.505213      1.962217   \n",
       "min        1.000000      1.000000      1.000000      1.000000      1.000000   \n",
       "25%        1.000000      1.000000      1.000000      1.000000      3.000000   \n",
       "50%        1.000000      2.000000      1.000000      1.000000      3.000000   \n",
       "75%        3.000000      2.000000      2.000000      1.000000      6.000000   \n",
       "max        5.000000      2.000000      9.000000      9.000000      7.000000   \n",
       "\n",
       "                com           lat          long           dep  \n",
       "count  59432.000000  4.658500e+04  4.658500e+04  59432.000000  \n",
       "mean     189.693465  4.101576e+06  2.368367e+05    583.326036  \n",
       "std      170.001085  1.568368e+06  4.428120e+05    294.487352  \n",
       "min        1.000000  0.000000e+00 -4.760340e+05     10.000000  \n",
       "25%       57.000000  4.353665e+06  0.000000e+00    330.000000  \n",
       "50%      118.000000  4.722596e+06  2.321900e+05    670.000000  \n",
       "75%      281.000000  4.883760e+06  4.021730e+05    840.000000  \n",
       "max      907.000000  5.106528e+06  6.156877e+06    976.000000  "
      ]
     },
     "execution_count": 178,
     "metadata": {},
     "output_type": "execute_result"
    }
   ],
   "source": [
    "df.describe()"
   ]
  },
  {
   "cell_type": "markdown",
   "metadata": {},
   "source": [
    "###  1.4.regardons les types de chaques colonnes "
   ]
  },
  {
   "cell_type": "code",
   "execution_count": 180,
   "metadata": {
    "scrolled": true
   },
   "outputs": [
    {
     "data": {
      "text/plain": [
       "Num_Acc      int64\n",
       "an           int64\n",
       "mois         int64\n",
       "jour         int64\n",
       "hrmn         int64\n",
       "lum          int64\n",
       "agg          int64\n",
       "int          int64\n",
       "atm          int64\n",
       "col        float64\n",
       "com          int64\n",
       "adr         object\n",
       "gps         object\n",
       "lat        float64\n",
       "long       float64\n",
       "dep          int64\n",
       "dtype: object"
      ]
     },
     "execution_count": 180,
     "metadata": {},
     "output_type": "execute_result"
    }
   ],
   "source": [
    "df.dtypes"
   ]
  },
  {
   "cell_type": "markdown",
   "metadata": {},
   "source": [
    "### 1.5. Listons les colonnes"
   ]
  },
  {
   "cell_type": "code",
   "execution_count": 181,
   "metadata": {},
   "outputs": [
    {
     "data": {
      "text/plain": [
       "Index(['Num_Acc', 'an', 'mois', 'jour', 'hrmn', 'lum', 'agg', 'int', 'atm',\n",
       "       'col', 'com', 'adr', 'gps', 'lat', 'long', 'dep'],\n",
       "      dtype='object')"
      ]
     },
     "execution_count": 181,
     "metadata": {},
     "output_type": "execute_result"
    }
   ],
   "source": [
    "df.columns"
   ]
  },
  {
   "cell_type": "markdown",
   "metadata": {},
   "source": [
    "### 1.6. Affichage / Viz directement avec Pandas"
   ]
  },
  {
   "cell_type": "markdown",
   "metadata": {},
   "source": [
    "pandas donne aux dataframes la possibilité de faire des graphs, avec la méthode \"plot\" .\n",
    "Ici [ plot(kind=\"box\") ] pour une boîte à moustache\n",
    "une configuration du notebook avec [ %matplotlib notebook ] pour un affichage dynamique\n"
   ]
  },
  {
   "cell_type": "code",
   "execution_count": 182,
   "metadata": {},
   "outputs": [],
   "source": [
    "%matplotlib inline"
   ]
  },
  {
   "cell_type": "markdown",
   "metadata": {},
   "source": [
    "### 1.7. setting parameters for figure size :"
   ]
  },
  {
   "cell_type": "code",
   "execution_count": 183,
   "metadata": {},
   "outputs": [],
   "source": [
    "### c'est plus gros comme ça... on override les params par défaut"
   ]
  },
  {
   "cell_type": "code",
   "execution_count": 187,
   "metadata": {},
   "outputs": [
    {
     "data": {
      "text/plain": [
       "[12.0, 4.0]"
      ]
     },
     "execution_count": 187,
     "metadata": {},
     "output_type": "execute_result"
    }
   ],
   "source": [
    "import matplotlib.pyplot as plt\n",
    "plt.rcParams['figure.figsize']"
   ]
  },
  {
   "cell_type": "code",
   "execution_count": 188,
   "metadata": {},
   "outputs": [],
   "source": [
    "plt.rcParams['figure.figsize'] = [12, 4]"
   ]
  },
  {
   "cell_type": "code",
   "execution_count": 190,
   "metadata": {},
   "outputs": [
    {
     "data": {
      "text/plain": [
       "<matplotlib.axes._subplots.AxesSubplot at 0x129b14ba8>"
      ]
     },
     "execution_count": 190,
     "metadata": {},
     "output_type": "execute_result"
    },
    {
     "data": {
      "image/png": "[encoded data removed]",
      "text/plain": [
       "<Figure size 864x288 with 1 Axes>"
      ]
     },
     "metadata": {},
     "output_type": "display_data"
    }
   ],
   "source": [
    "df.int.plot(kind='box')"
   ]
  },
  {
   "cell_type": "code",
   "execution_count": 191,
   "metadata": {},
   "outputs": [
    {
     "data": {
      "text/plain": [
       "1    41629\n",
       "2     6990\n",
       "3     5513\n",
       "6     1924\n",
       "4     1018\n",
       "7      822\n",
       "9      804\n",
       "5      658\n",
       "8       74\n",
       "Name: int, dtype: int64"
      ]
     },
     "execution_count": 191,
     "metadata": {},
     "output_type": "execute_result"
    }
   ],
   "source": [
    "df.int.value_counts(dropna=False)"
   ]
  },
  {
   "cell_type": "code",
   "execution_count": 192,
   "metadata": {
    "scrolled": false
   },
   "outputs": [
    {
     "data": {
      "text/plain": [
       "<matplotlib.axes._subplots.AxesSubplot at 0x13bf667b8>"
      ]
     },
     "execution_count": 192,
     "metadata": {},
     "output_type": "execute_result"
    },
    {
     "data": {
      "image/png": "[encoded data removed]",
      "text/plain": [
       "<Figure size 864x288 with 1 Axes>"
      ]
     },
     "metadata": {},
     "output_type": "display_data"
    }
   ],
   "source": [
    "df.int.value_counts(dropna=False).plot(kind='bar')"
   ]
  },
  {
   "cell_type": "code",
   "execution_count": 392,
   "metadata": {
    "scrolled": true
   },
   "outputs": [
    {
     "data": {
      "text/plain": [
       "<matplotlib.axes._subplots.AxesSubplot at 0x136ca23c8>"
      ]
     },
     "execution_count": 392,
     "metadata": {},
     "output_type": "execute_result"
    },
    {
     "data": {
      "image/png": "[encoded data removed]",
      "text/plain": [
       "<Figure size 864x288 with 1 Axes>"
      ]
     },
     "metadata": {},
     "output_type": "display_data"
    }
   ],
   "source": [
    "df.plot(kind='scatter', x='long', y='lat')"
   ]
  },
  {
   "cell_type": "code",
   "execution_count": 423,
   "metadata": {},
   "outputs": [
    {
     "data": {
      "text/plain": [
       "<matplotlib.axes._subplots.AxesSubplot at 0x131f39b70>"
      ]
     },
     "execution_count": 423,
     "metadata": {},
     "output_type": "execute_result"
    },
    {
     "data": {
      "image/png": "[encoded data removed]",
      "text/plain": [
       "<Figure size 864x288 with 1 Axes>"
      ]
     },
     "metadata": {},
     "output_type": "display_data"
    }
   ],
   "source": [
    "df[df['dep'] == 750].plot(kind='scatter', x='long', y='lat')"
   ]
  },
  {
   "cell_type": "markdown",
   "metadata": {},
   "source": [
    "### 1.8. Nb de valeurs uniques par colonnes"
   ]
  },
  {
   "cell_type": "code",
   "execution_count": 193,
   "metadata": {},
   "outputs": [
    {
     "data": {
      "text/plain": [
       "Num_Acc    59432\n",
       "an             1\n",
       "mois          12\n",
       "jour          31\n",
       "hrmn        1312\n",
       "lum            5\n",
       "agg            2\n",
       "int            9\n",
       "atm            9\n",
       "col            7\n",
       "com          814\n",
       "adr        36915\n",
       "gps            5\n",
       "lat        31334\n",
       "long       35810\n",
       "dep          101\n",
       "dtype: int64"
      ]
     },
     "execution_count": 193,
     "metadata": {},
     "output_type": "execute_result"
    }
   ],
   "source": [
    "valforcols = df.nunique()\n",
    "valforcols"
   ]
  },
  {
   "cell_type": "markdown",
   "metadata": {},
   "source": [
    "### 1.9. lister les colonnes ayant pour nb de valeurs uniques différentes moins de 50 catégories"
   ]
  },
  {
   "cell_type": "code",
   "execution_count": 194,
   "metadata": {
    "scrolled": true
   },
   "outputs": [
    {
     "data": {
      "text/plain": [
       "Index(['an', 'mois', 'jour', 'lum', 'agg', 'int', 'atm', 'col', 'gps'], dtype='object')"
      ]
     },
     "execution_count": 194,
     "metadata": {},
     "output_type": "execute_result"
    }
   ],
   "source": [
    "justunder50 = valforcols[valforcols<50].index\n",
    "justunder50"
   ]
  },
  {
   "cell_type": "markdown",
   "metadata": {},
   "source": [
    "### 1.10. faire une boucle (déconseillé sur les lignes, sur les colonnes ok ) "
   ]
  },
  {
   "cell_type": "code",
   "execution_count": 195,
   "metadata": {},
   "outputs": [
    {
     "name": "stdout",
     "output_type": "stream",
     "text": [
      "an\n",
      "16    59432\n",
      "Name: an, dtype: int64\n",
      "mois\n",
      "10    5596\n",
      "9     5408\n",
      "11    5356\n",
      "6     5328\n",
      "7     5252\n",
      "5     5139\n",
      "12    5110\n",
      "1     4802\n",
      "3     4599\n",
      "4     4430\n",
      "8     4311\n",
      "2     4101\n",
      "Name: mois, dtype: int64\n",
      "jour\n",
      "6     2148\n",
      "8     2135\n",
      "12    2095\n",
      "7     2079\n",
      "9     2073\n",
      "10    2066\n",
      "4     2063\n",
      "5     2027\n",
      "22    2021\n",
      "13    2002\n",
      "15    1989\n",
      "23    1967\n",
      "14    1966\n",
      "3     1961\n",
      "28    1941\n",
      "29    1912\n",
      "1     1912\n",
      "11    1908\n",
      "16    1894\n",
      "18    1886\n",
      "30    1870\n",
      "2     1859\n",
      "21    1854\n",
      "27    1847\n",
      "25    1844\n",
      "19    1839\n",
      "26    1809\n",
      "24    1800\n",
      "17    1799\n",
      "20    1770\n",
      "31    1096\n",
      "Name: jour, dtype: int64\n",
      "lum\n",
      "1    40578\n",
      "5     9689\n",
      "3     5089\n",
      "2     3568\n",
      "4      508\n",
      "Name: lum, dtype: int64\n",
      "agg\n",
      "2    38308\n",
      "1    21124\n",
      "Name: agg, dtype: int64\n",
      "int\n",
      "1    41629\n",
      "2     6990\n",
      "3     5513\n",
      "6     1924\n",
      "4     1018\n",
      "7      822\n",
      "9      804\n",
      "5      658\n",
      "8       74\n",
      "Name: int, dtype: int64\n",
      "atm\n",
      "1    47897\n",
      "2     6582\n",
      "8     1640\n",
      "3     1422\n",
      "7      667\n",
      "5      621\n",
      "9      300\n",
      "4      159\n",
      "6      144\n",
      "Name: atm, dtype: int64\n",
      "col\n",
      "6.0    19993\n",
      "3.0    16576\n",
      "2.0     7199\n",
      "1.0     6280\n",
      "7.0     5095\n",
      "4.0     2239\n",
      "5.0     2048\n",
      "Name: col, dtype: int64\n",
      "gps\n",
      "M    45888\n",
      "R      475\n",
      "A      432\n",
      "G      370\n",
      "Y       21\n",
      "Name: gps, dtype: int64\n"
     ]
    }
   ],
   "source": [
    "for col in justunder50:\n",
    "    print(col)\n",
    "    print(pd.value_counts(df[col]))"
   ]
  },
  {
   "cell_type": "markdown",
   "metadata": {},
   "source": [
    "### 1.11. Les duplicates"
   ]
  },
  {
   "cell_type": "code",
   "execution_count": 333,
   "metadata": {},
   "outputs": [
    {
     "data": {
      "text/html": [
       "<div>\n",
       "<style scoped>\n",
       "    .dataframe tbody tr th:only-of-type {\n",
       "        vertical-align: middle;\n",
       "    }\n",
       "\n",
       "    .dataframe tbody tr th {\n",
       "        vertical-align: top;\n",
       "    }\n",
       "\n",
       "    .dataframe thead th {\n",
       "        text-align: right;\n",
       "    }\n",
       "</style>\n",
       "<table border=\"1\" class=\"dataframe\">\n",
       "  <thead>\n",
       "    <tr style=\"text-align: right;\">\n",
       "      <th></th>\n",
       "      <th>Num_Acc</th>\n",
       "      <th>annee</th>\n",
       "      <th>mois</th>\n",
       "      <th>jour</th>\n",
       "      <th>hrmn</th>\n",
       "      <th>lum</th>\n",
       "      <th>agg</th>\n",
       "      <th>int</th>\n",
       "      <th>atm</th>\n",
       "      <th>col</th>\n",
       "      <th>com</th>\n",
       "      <th>adr</th>\n",
       "      <th>gps</th>\n",
       "      <th>lat</th>\n",
       "      <th>long</th>\n",
       "      <th>dep</th>\n",
       "      <th>date</th>\n",
       "    </tr>\n",
       "  </thead>\n",
       "  <tbody>\n",
       "  </tbody>\n",
       "</table>\n",
       "</div>"
      ],
      "text/plain": [
       "Empty DataFrame\n",
       "Columns: [Num_Acc, annee, mois, jour, hrmn, lum, agg, int, atm, col, com, adr, gps, lat, long, dep, date]\n",
       "Index: []"
      ]
     },
     "execution_count": 333,
     "metadata": {},
     "output_type": "execute_result"
    }
   ],
   "source": [
    "df[df.duplicated()]"
   ]
  },
  {
   "cell_type": "code",
   "execution_count": 337,
   "metadata": {},
   "outputs": [
    {
     "data": {
      "text/plain": [
       "Index(['Num_Acc', 'annee', 'mois', 'jour', 'hrmn', 'lum', 'agg', 'int', 'atm',\n",
       "       'col', 'com', 'adr', 'gps', 'lat', 'long', 'dep', 'date'],\n",
       "      dtype='object')"
      ]
     },
     "execution_count": 337,
     "metadata": {},
     "output_type": "execute_result"
    }
   ],
   "source": [
    "df.columns"
   ]
  },
  {
   "cell_type": "code",
   "execution_count": 353,
   "metadata": {},
   "outputs": [
    {
     "data": {
      "text/html": [
       "<div>\n",
       "<style scoped>\n",
       "    .dataframe tbody tr th:only-of-type {\n",
       "        vertical-align: middle;\n",
       "    }\n",
       "\n",
       "    .dataframe tbody tr th {\n",
       "        vertical-align: top;\n",
       "    }\n",
       "\n",
       "    .dataframe thead th {\n",
       "        text-align: right;\n",
       "    }\n",
       "</style>\n",
       "<table border=\"1\" class=\"dataframe\">\n",
       "  <thead>\n",
       "    <tr style=\"text-align: right;\">\n",
       "      <th></th>\n",
       "      <th>Num_Acc</th>\n",
       "      <th>annee</th>\n",
       "      <th>mois</th>\n",
       "      <th>jour</th>\n",
       "      <th>hrmn</th>\n",
       "      <th>lum</th>\n",
       "      <th>agg</th>\n",
       "      <th>int</th>\n",
       "      <th>atm</th>\n",
       "      <th>col</th>\n",
       "      <th>com</th>\n",
       "      <th>adr</th>\n",
       "      <th>gps</th>\n",
       "      <th>lat</th>\n",
       "      <th>long</th>\n",
       "      <th>dep</th>\n",
       "      <th>date</th>\n",
       "    </tr>\n",
       "  </thead>\n",
       "  <tbody>\n",
       "    <tr>\n",
       "      <th>1</th>\n",
       "      <td>201600000002</td>\n",
       "      <td>16</td>\n",
       "      <td>3</td>\n",
       "      <td>16</td>\n",
       "      <td>1800</td>\n",
       "      <td>1</td>\n",
       "      <td>En agglomeration</td>\n",
       "      <td>Giratoire</td>\n",
       "      <td>Normale</td>\n",
       "      <td>6.0</td>\n",
       "      <td>5</td>\n",
       "      <td>1a rue du cimetière</td>\n",
       "      <td>M</td>\n",
       "      <td>0.0</td>\n",
       "      <td>0.0</td>\n",
       "      <td>590</td>\n",
       "      <td>2016-03-16</td>\n",
       "    </tr>\n",
       "    <tr>\n",
       "      <th>2</th>\n",
       "      <td>201600000003</td>\n",
       "      <td>16</td>\n",
       "      <td>7</td>\n",
       "      <td>13</td>\n",
       "      <td>1900</td>\n",
       "      <td>1</td>\n",
       "      <td>Hors agglomeration</td>\n",
       "      <td>Hors intersection</td>\n",
       "      <td>Normale</td>\n",
       "      <td>6.0</td>\n",
       "      <td>11</td>\n",
       "      <td>NaN</td>\n",
       "      <td>M</td>\n",
       "      <td>0.0</td>\n",
       "      <td>0.0</td>\n",
       "      <td>590</td>\n",
       "      <td>2016-07-13</td>\n",
       "    </tr>\n",
       "    <tr>\n",
       "      <th>3</th>\n",
       "      <td>201600000004</td>\n",
       "      <td>16</td>\n",
       "      <td>8</td>\n",
       "      <td>15</td>\n",
       "      <td>1930</td>\n",
       "      <td>2</td>\n",
       "      <td>En agglomeration</td>\n",
       "      <td>Hors intersection</td>\n",
       "      <td>Temps éblouissant</td>\n",
       "      <td>3.0</td>\n",
       "      <td>477</td>\n",
       "      <td>52 rue victor hugo</td>\n",
       "      <td>M</td>\n",
       "      <td>0.0</td>\n",
       "      <td>0.0</td>\n",
       "      <td>590</td>\n",
       "      <td>2016-08-15</td>\n",
       "    </tr>\n",
       "    <tr>\n",
       "      <th>4</th>\n",
       "      <td>201600000005</td>\n",
       "      <td>16</td>\n",
       "      <td>12</td>\n",
       "      <td>23</td>\n",
       "      <td>1100</td>\n",
       "      <td>1</td>\n",
       "      <td>En agglomeration</td>\n",
       "      <td>Intersection en T</td>\n",
       "      <td>Normale</td>\n",
       "      <td>3.0</td>\n",
       "      <td>11</td>\n",
       "      <td>rue Joliot curie</td>\n",
       "      <td>M</td>\n",
       "      <td>0.0</td>\n",
       "      <td>0.0</td>\n",
       "      <td>590</td>\n",
       "      <td>2016-12-23</td>\n",
       "    </tr>\n",
       "    <tr>\n",
       "      <th>5</th>\n",
       "      <td>201600000006</td>\n",
       "      <td>16</td>\n",
       "      <td>12</td>\n",
       "      <td>23</td>\n",
       "      <td>1115</td>\n",
       "      <td>1</td>\n",
       "      <td>En agglomeration</td>\n",
       "      <td>Hors intersection</td>\n",
       "      <td>Temps éblouissant</td>\n",
       "      <td>6.0</td>\n",
       "      <td>11</td>\n",
       "      <td>Rue Jean-baptiste LEBAS</td>\n",
       "      <td>M</td>\n",
       "      <td>0.0</td>\n",
       "      <td>0.0</td>\n",
       "      <td>590</td>\n",
       "      <td>2016-12-23</td>\n",
       "    </tr>\n",
       "    <tr>\n",
       "      <th>6</th>\n",
       "      <td>201600000007</td>\n",
       "      <td>16</td>\n",
       "      <td>5</td>\n",
       "      <td>1</td>\n",
       "      <td>1145</td>\n",
       "      <td>1</td>\n",
       "      <td>En agglomeration</td>\n",
       "      <td>Hors intersection</td>\n",
       "      <td>Temps éblouissant</td>\n",
       "      <td>2.0</td>\n",
       "      <td>51</td>\n",
       "      <td>rue Jules FERRY</td>\n",
       "      <td>M</td>\n",
       "      <td>0.0</td>\n",
       "      <td>0.0</td>\n",
       "      <td>590</td>\n",
       "      <td>2016-05-01</td>\n",
       "    </tr>\n",
       "    <tr>\n",
       "      <th>7</th>\n",
       "      <td>201600000008</td>\n",
       "      <td>16</td>\n",
       "      <td>5</td>\n",
       "      <td>14</td>\n",
       "      <td>1915</td>\n",
       "      <td>2</td>\n",
       "      <td>Hors agglomeration</td>\n",
       "      <td>Hors intersection</td>\n",
       "      <td>Normale</td>\n",
       "      <td>1.0</td>\n",
       "      <td>250</td>\n",
       "      <td>NaN</td>\n",
       "      <td>M</td>\n",
       "      <td>0.0</td>\n",
       "      <td>0.0</td>\n",
       "      <td>590</td>\n",
       "      <td>2016-05-14</td>\n",
       "    </tr>\n",
       "    <tr>\n",
       "      <th>8</th>\n",
       "      <td>201600000009</td>\n",
       "      <td>16</td>\n",
       "      <td>9</td>\n",
       "      <td>23</td>\n",
       "      <td>1900</td>\n",
       "      <td>1</td>\n",
       "      <td>En agglomeration</td>\n",
       "      <td>Hors intersection</td>\n",
       "      <td>Normale</td>\n",
       "      <td>3.0</td>\n",
       "      <td>51</td>\n",
       "      <td>rn41</td>\n",
       "      <td>M</td>\n",
       "      <td>0.0</td>\n",
       "      <td>0.0</td>\n",
       "      <td>590</td>\n",
       "      <td>2016-09-23</td>\n",
       "    </tr>\n",
       "    <tr>\n",
       "      <th>9</th>\n",
       "      <td>201600000010</td>\n",
       "      <td>16</td>\n",
       "      <td>12</td>\n",
       "      <td>30</td>\n",
       "      <td>1030</td>\n",
       "      <td>1</td>\n",
       "      <td>Hors agglomeration</td>\n",
       "      <td>Hors intersection</td>\n",
       "      <td>Autre</td>\n",
       "      <td>6.0</td>\n",
       "      <td>303</td>\n",
       "      <td>NaN</td>\n",
       "      <td>M</td>\n",
       "      <td>0.0</td>\n",
       "      <td>0.0</td>\n",
       "      <td>590</td>\n",
       "      <td>2016-12-30</td>\n",
       "    </tr>\n",
       "    <tr>\n",
       "      <th>10</th>\n",
       "      <td>201600000011</td>\n",
       "      <td>16</td>\n",
       "      <td>1</td>\n",
       "      <td>25</td>\n",
       "      <td>800</td>\n",
       "      <td>2</td>\n",
       "      <td>En agglomeration</td>\n",
       "      <td>Hors intersection</td>\n",
       "      <td>Temps couvert</td>\n",
       "      <td>6.0</td>\n",
       "      <td>466</td>\n",
       "      <td>141 rue nationale</td>\n",
       "      <td>M</td>\n",
       "      <td>0.0</td>\n",
       "      <td>0.0</td>\n",
       "      <td>590</td>\n",
       "      <td>2016-01-25</td>\n",
       "    </tr>\n",
       "  </tbody>\n",
       "</table>\n",
       "</div>"
      ],
      "text/plain": [
       "         Num_Acc  annee  mois  jour  hrmn  lum                 agg  \\\n",
       "1   201600000002     16     3    16  1800    1    En agglomeration   \n",
       "2   201600000003     16     7    13  1900    1  Hors agglomeration   \n",
       "3   201600000004     16     8    15  1930    2    En agglomeration   \n",
       "4   201600000005     16    12    23  1100    1    En agglomeration   \n",
       "5   201600000006     16    12    23  1115    1    En agglomeration   \n",
       "6   201600000007     16     5     1  1145    1    En agglomeration   \n",
       "7   201600000008     16     5    14  1915    2  Hors agglomeration   \n",
       "8   201600000009     16     9    23  1900    1    En agglomeration   \n",
       "9   201600000010     16    12    30  1030    1  Hors agglomeration   \n",
       "10  201600000011     16     1    25   800    2    En agglomeration   \n",
       "\n",
       "                  int                atm  col  com                      adr  \\\n",
       "1           Giratoire            Normale  6.0    5      1a rue du cimetière   \n",
       "2   Hors intersection            Normale  6.0   11                      NaN   \n",
       "3   Hors intersection  Temps éblouissant  3.0  477       52 rue victor hugo   \n",
       "4   Intersection en T            Normale  3.0   11         rue Joliot curie   \n",
       "5   Hors intersection  Temps éblouissant  6.0   11  Rue Jean-baptiste LEBAS   \n",
       "6   Hors intersection  Temps éblouissant  2.0   51          rue Jules FERRY   \n",
       "7   Hors intersection            Normale  1.0  250                      NaN   \n",
       "8   Hors intersection            Normale  3.0   51                     rn41   \n",
       "9   Hors intersection              Autre  6.0  303                      NaN   \n",
       "10  Hors intersection      Temps couvert  6.0  466        141 rue nationale   \n",
       "\n",
       "   gps  lat  long  dep       date  \n",
       "1    M  0.0   0.0  590 2016-03-16  \n",
       "2    M  0.0   0.0  590 2016-07-13  \n",
       "3    M  0.0   0.0  590 2016-08-15  \n",
       "4    M  0.0   0.0  590 2016-12-23  \n",
       "5    M  0.0   0.0  590 2016-12-23  \n",
       "6    M  0.0   0.0  590 2016-05-01  \n",
       "7    M  0.0   0.0  590 2016-05-14  \n",
       "8    M  0.0   0.0  590 2016-09-23  \n",
       "9    M  0.0   0.0  590 2016-12-30  \n",
       "10   M  0.0   0.0  590 2016-01-25  "
      ]
     },
     "execution_count": 353,
     "metadata": {},
     "output_type": "execute_result"
    }
   ],
   "source": [
    "df[df.duplicated(subset=['lat', 'long'])].head(10)"
   ]
  },
  {
   "cell_type": "markdown",
   "metadata": {},
   "source": [
    "## 2) Fonctions utiles de Pandas"
   ]
  },
  {
   "cell_type": "markdown",
   "metadata": {},
   "source": [
    "### 2.1. Appliquer une fonction sur une colonne"
   ]
  },
  {
   "cell_type": "code",
   "execution_count": 196,
   "metadata": {},
   "outputs": [],
   "source": [
    "uneFonctionEnUneLigne = lambda x: x**2 + x/10"
   ]
  },
  {
   "cell_type": "code",
   "execution_count": 197,
   "metadata": {},
   "outputs": [
    {
     "data": {
      "text/plain": [
       "81.9"
      ]
     },
     "execution_count": 197,
     "metadata": {},
     "output_type": "execute_result"
    }
   ],
   "source": [
    "uneFonctionEnUneLigne(9)"
   ]
  },
  {
   "cell_type": "code",
   "execution_count": 198,
   "metadata": {},
   "outputs": [
    {
     "data": {
      "text/plain": [
       "Num_Acc    int64\n",
       "an         int64\n",
       "mois       int64\n",
       "jour       int64\n",
       "hrmn       int64\n",
       "lum        int64\n",
       "agg        int64\n",
       "int        int64\n",
       "atm        int64\n",
       "com        int64\n",
       "dep        int64\n",
       "dtype: object"
      ]
     },
     "execution_count": 198,
     "metadata": {},
     "output_type": "execute_result"
    }
   ],
   "source": [
    "df.dtypes[df.dtypes=='int64']"
   ]
  },
  {
   "cell_type": "code",
   "execution_count": 202,
   "metadata": {},
   "outputs": [
    {
     "data": {
      "text/plain": [
       "0     1.1\n",
       "1    36.6\n",
       "2     1.1\n",
       "3     1.1\n",
       "4     9.3\n",
       "Name: int, dtype: float64"
      ]
     },
     "execution_count": 202,
     "metadata": {},
     "output_type": "execute_result"
    }
   ],
   "source": [
    "df.int.apply(uneFonctionEnUneLigne)[0:5]"
   ]
  },
  {
   "cell_type": "markdown",
   "metadata": {},
   "source": [
    "### ... ou sur plusieurs colonnes"
   ]
  },
  {
   "cell_type": "code",
   "execution_count": 206,
   "metadata": {},
   "outputs": [
    {
     "data": {
      "text/html": [
       "<div>\n",
       "<style scoped>\n",
       "    .dataframe tbody tr th:only-of-type {\n",
       "        vertical-align: middle;\n",
       "    }\n",
       "\n",
       "    .dataframe tbody tr th {\n",
       "        vertical-align: top;\n",
       "    }\n",
       "\n",
       "    .dataframe thead th {\n",
       "        text-align: right;\n",
       "    }\n",
       "</style>\n",
       "<table border=\"1\" class=\"dataframe\">\n",
       "  <thead>\n",
       "    <tr style=\"text-align: right;\">\n",
       "      <th></th>\n",
       "      <th>Num_Acc</th>\n",
       "      <th>annee</th>\n",
       "      <th>mois</th>\n",
       "      <th>jour</th>\n",
       "      <th>hrmn</th>\n",
       "      <th>lum</th>\n",
       "      <th>agg</th>\n",
       "      <th>int</th>\n",
       "      <th>atm</th>\n",
       "      <th>com</th>\n",
       "      <th>dep</th>\n",
       "    </tr>\n",
       "  </thead>\n",
       "  <tbody>\n",
       "    <tr>\n",
       "      <th>0</th>\n",
       "      <td>4.382806e+18</td>\n",
       "      <td>257.6</td>\n",
       "      <td>4.2</td>\n",
       "      <td>1.1</td>\n",
       "      <td>2088169.5</td>\n",
       "      <td>1.1</td>\n",
       "      <td>4.2</td>\n",
       "      <td>1.1</td>\n",
       "      <td>64.8</td>\n",
       "      <td>25.5</td>\n",
       "      <td>348159.0</td>\n",
       "    </tr>\n",
       "    <tr>\n",
       "      <th>1</th>\n",
       "      <td>4.382806e+18</td>\n",
       "      <td>257.6</td>\n",
       "      <td>9.3</td>\n",
       "      <td>257.6</td>\n",
       "      <td>3240180.0</td>\n",
       "      <td>1.1</td>\n",
       "      <td>4.2</td>\n",
       "      <td>36.6</td>\n",
       "      <td>1.1</td>\n",
       "      <td>25.5</td>\n",
       "      <td>348159.0</td>\n",
       "    </tr>\n",
       "    <tr>\n",
       "      <th>2</th>\n",
       "      <td>4.382807e+18</td>\n",
       "      <td>257.6</td>\n",
       "      <td>49.7</td>\n",
       "      <td>170.3</td>\n",
       "      <td>3610190.0</td>\n",
       "      <td>1.1</td>\n",
       "      <td>1.1</td>\n",
       "      <td>1.1</td>\n",
       "      <td>1.1</td>\n",
       "      <td>122.1</td>\n",
       "      <td>348159.0</td>\n",
       "    </tr>\n",
       "    <tr>\n",
       "      <th>3</th>\n",
       "      <td>4.382807e+18</td>\n",
       "      <td>257.6</td>\n",
       "      <td>64.8</td>\n",
       "      <td>226.5</td>\n",
       "      <td>3725093.0</td>\n",
       "      <td>4.2</td>\n",
       "      <td>4.2</td>\n",
       "      <td>1.1</td>\n",
       "      <td>49.7</td>\n",
       "      <td>227576.7</td>\n",
       "      <td>348159.0</td>\n",
       "    </tr>\n",
       "    <tr>\n",
       "      <th>4</th>\n",
       "      <td>4.382808e+18</td>\n",
       "      <td>257.6</td>\n",
       "      <td>145.2</td>\n",
       "      <td>531.3</td>\n",
       "      <td>1210110.0</td>\n",
       "      <td>1.1</td>\n",
       "      <td>4.2</td>\n",
       "      <td>9.3</td>\n",
       "      <td>1.1</td>\n",
       "      <td>122.1</td>\n",
       "      <td>348159.0</td>\n",
       "    </tr>\n",
       "  </tbody>\n",
       "</table>\n",
       "</div>"
      ],
      "text/plain": [
       "        Num_Acc  annee   mois   jour       hrmn  lum  agg   int   atm  \\\n",
       "0  4.382806e+18  257.6    4.2    1.1  2088169.5  1.1  4.2   1.1  64.8   \n",
       "1  4.382806e+18  257.6    9.3  257.6  3240180.0  1.1  4.2  36.6   1.1   \n",
       "2  4.382807e+18  257.6   49.7  170.3  3610190.0  1.1  1.1   1.1   1.1   \n",
       "3  4.382807e+18  257.6   64.8  226.5  3725093.0  4.2  4.2   1.1  49.7   \n",
       "4  4.382808e+18  257.6  145.2  531.3  1210110.0  1.1  4.2   9.3   1.1   \n",
       "\n",
       "        com       dep  \n",
       "0      25.5  348159.0  \n",
       "1      25.5  348159.0  \n",
       "2     122.1  348159.0  \n",
       "3  227576.7  348159.0  \n",
       "4     122.1  348159.0  "
      ]
     },
     "execution_count": 206,
     "metadata": {},
     "output_type": "execute_result"
    }
   ],
   "source": [
    "df[df.dtypes[df.dtypes=='int64'].index].apply(uneFonctionEnUneLigne).head()"
   ]
  },
  {
   "cell_type": "markdown",
   "metadata": {},
   "source": [
    "### ... ou même uniquement sélectionner des colonnes particulières pour effectuer un calcul.\n",
    "Example: créer une colonnes de **temps** en mode jour/mois/année (format: datetime)"
   ]
  },
  {
   "cell_type": "markdown",
   "metadata": {},
   "source": [
    "#### 2.1.1. Mais d'abord : les dates avec pd.to_datetime()"
   ]
  },
  {
   "cell_type": "code",
   "execution_count": 240,
   "metadata": {},
   "outputs": [],
   "source": [
    "une_date = pd.to_datetime('2017-09-18') #string, default None strftime to parse time, eg \"%d/%m/%Y\""
   ]
  },
  {
   "cell_type": "code",
   "execution_count": 241,
   "metadata": {},
   "outputs": [
    {
     "data": {
      "text/plain": [
       "Timestamp('2017-09-18 00:00:00')"
      ]
     },
     "execution_count": 241,
     "metadata": {},
     "output_type": "execute_result"
    }
   ],
   "source": [
    "une_date"
   ]
  },
  {
   "cell_type": "code",
   "execution_count": 242,
   "metadata": {},
   "outputs": [
    {
     "data": {
      "text/plain": [
       "18"
      ]
     },
     "execution_count": 242,
     "metadata": {},
     "output_type": "execute_result"
    }
   ],
   "source": [
    "une_date.day"
   ]
  },
  {
   "cell_type": "code",
   "execution_count": 248,
   "metadata": {},
   "outputs": [
    {
     "data": {
      "text/plain": [
       "Timedelta('732 days 00:00:00')"
      ]
     },
     "execution_count": 248,
     "metadata": {},
     "output_type": "execute_result"
    }
   ],
   "source": [
    "pd.to_datetime(\"2019-09-20\") - une_date"
   ]
  },
  {
   "cell_type": "code",
   "execution_count": 249,
   "metadata": {},
   "outputs": [
    {
     "data": {
      "text/plain": [
       "732"
      ]
     },
     "execution_count": 249,
     "metadata": {},
     "output_type": "execute_result"
    }
   ],
   "source": [
    "(pd.to_datetime(\"2019-09-20\") - une_date).days"
   ]
  },
  {
   "cell_type": "markdown",
   "metadata": {},
   "source": [
    "#### Spécifier un format \n",
    "pd.to_datetime('', format=\"\")"
   ]
  },
  {
   "cell_type": "code",
   "execution_count": 252,
   "metadata": {},
   "outputs": [
    {
     "data": {
      "text/plain": [
       "Timestamp('2019-10-09 00:00:00')"
      ]
     },
     "execution_count": 252,
     "metadata": {},
     "output_type": "execute_result"
    }
   ],
   "source": [
    "pd.to_datetime('10/09/2019', format=\"%m/%d/%Y\") # bien regarder les diff de format sur le site"
   ]
  },
  {
   "cell_type": "code",
   "execution_count": 255,
   "metadata": {},
   "outputs": [
    {
     "name": "stdout",
     "output_type": "stream",
     "text": [
      "did not convert because :\n",
      "time data '10/09/19' does not match format '%m/%d/%Y' (match)\n"
     ]
    }
   ],
   "source": [
    "try:\n",
    "    pd.to_datetime('10/09/19', format=\"%m/%d/%Y\") # bien regarder les diff de format sur le site\n",
    "except Exception as e:\n",
    "    print('did not convert because :\\n' + str(e))"
   ]
  },
  {
   "cell_type": "markdown",
   "metadata": {},
   "source": [
    "### 2.2. le conseil de votre vie ! Faites attention à pd.to_datetime si vous ne spécifiez pas de format\n",
    "il est parfois trop intelligent et tente le tout pour le tout"
   ]
  },
  {
   "cell_type": "code",
   "execution_count": 270,
   "metadata": {},
   "outputs": [
    {
     "data": {
      "text/plain": [
       "7"
      ]
     },
     "execution_count": 270,
     "metadata": {},
     "output_type": "execute_result"
    }
   ],
   "source": [
    "pd.to_datetime('10/07/19').day"
   ]
  },
  {
   "cell_type": "code",
   "execution_count": 271,
   "metadata": {},
   "outputs": [
    {
     "data": {
      "text/plain": [
       "30"
      ]
     },
     "execution_count": 271,
     "metadata": {},
     "output_type": "execute_result"
    }
   ],
   "source": [
    "pd.to_datetime('30/09/19').day"
   ]
  },
  {
   "cell_type": "code",
   "execution_count": 278,
   "metadata": {},
   "outputs": [],
   "source": [
    "def f(row):\n",
    "    mois = str(row['mois']) if row['mois'] > 9 else '0'+str(row['mois'])\n",
    "    jour = str(row['jour']) if row['jour'] > 9 else '0'+str(row['jour'])\n",
    "    an   = str(row['an'])\n",
    "    as_str =  \"/\".join([an, mois, jour])\n",
    "    return pd.to_datetime(as_str, format=\"%y/%m/%d\")\n",
    "df[\"date\"] = df.apply(f, axis=1) # axis =1 => sur les lignes"
   ]
  },
  {
   "cell_type": "code",
   "execution_count": 279,
   "metadata": {},
   "outputs": [
    {
     "data": {
      "text/html": [
       "<div>\n",
       "<style scoped>\n",
       "    .dataframe tbody tr th:only-of-type {\n",
       "        vertical-align: middle;\n",
       "    }\n",
       "\n",
       "    .dataframe tbody tr th {\n",
       "        vertical-align: top;\n",
       "    }\n",
       "\n",
       "    .dataframe thead th {\n",
       "        text-align: right;\n",
       "    }\n",
       "</style>\n",
       "<table border=\"1\" class=\"dataframe\">\n",
       "  <thead>\n",
       "    <tr style=\"text-align: right;\">\n",
       "      <th></th>\n",
       "      <th>date</th>\n",
       "    </tr>\n",
       "  </thead>\n",
       "  <tbody>\n",
       "    <tr>\n",
       "      <th>0</th>\n",
       "      <td>2016-02-01</td>\n",
       "    </tr>\n",
       "    <tr>\n",
       "      <th>1</th>\n",
       "      <td>2016-03-16</td>\n",
       "    </tr>\n",
       "    <tr>\n",
       "      <th>2</th>\n",
       "      <td>2016-07-13</td>\n",
       "    </tr>\n",
       "    <tr>\n",
       "      <th>3</th>\n",
       "      <td>2016-08-15</td>\n",
       "    </tr>\n",
       "    <tr>\n",
       "      <th>4</th>\n",
       "      <td>2016-12-23</td>\n",
       "    </tr>\n",
       "  </tbody>\n",
       "</table>\n",
       "</div>"
      ],
      "text/plain": [
       "        date\n",
       "0 2016-02-01\n",
       "1 2016-03-16\n",
       "2 2016-07-13\n",
       "3 2016-08-15\n",
       "4 2016-12-23"
      ]
     },
     "execution_count": 279,
     "metadata": {},
     "output_type": "execute_result"
    }
   ],
   "source": [
    "df[[\"date\"]].head()"
   ]
  },
  {
   "cell_type": "markdown",
   "metadata": {},
   "source": [
    "### 2.3. Renommage de colonnes"
   ]
  },
  {
   "cell_type": "code",
   "execution_count": 280,
   "metadata": {},
   "outputs": [],
   "source": [
    "df.rename({'an': 'annee', \n",
    "           'uneColonneQuiExistePas':'Test'}, axis='columns', inplace=True)\n",
    "# inplace = changement directement opéré 'sur place' = 'sur la dataframe', pas besoin de réassigner : df = df.rename(...)"
   ]
  },
  {
   "cell_type": "code",
   "execution_count": 281,
   "metadata": {
    "scrolled": true
   },
   "outputs": [
    {
     "data": {
      "text/plain": [
       "Index(['Num_Acc', 'annee', 'mois', 'jour', 'hrmn', 'lum', 'agg', 'int', 'atm',\n",
       "       'col', 'com', 'adr', 'gps', 'lat', 'long', 'dep', 'date'],\n",
       "      dtype='object')"
      ]
     },
     "execution_count": 281,
     "metadata": {},
     "output_type": "execute_result"
    }
   ],
   "source": [
    "df.columns"
   ]
  },
  {
   "cell_type": "markdown",
   "metadata": {},
   "source": [
    "### 2.4. Renommage ou remplacement des valeurs "
   ]
  },
  {
   "cell_type": "markdown",
   "metadata": {},
   "source": [
    "### 2.4.1 Regardons dans la doc ce que signifie int"
   ]
  },
  {
   "cell_type": "code",
   "execution_count": 285,
   "metadata": {},
   "outputs": [
    {
     "data": {
      "image/png": "[encoded data removed]",
      "text/plain": [
       "<IPython.core.display.Image object>"
      ]
     },
     "execution_count": 285,
     "metadata": {},
     "output_type": "execute_result"
    }
   ],
   "source": [
    "from IPython.display import Image\n",
    "Image(filename=dossier+'extrait_documentation.png')"
   ]
  },
  {
   "cell_type": "markdown",
   "metadata": {},
   "source": [
    "### 2.4.2. Remplaçons les valeurs par celles-ci  : {old_value : new_value}"
   ]
  },
  {
   "cell_type": "code",
   "execution_count": 297,
   "metadata": {
    "scrolled": true
   },
   "outputs": [],
   "source": [
    "unDicoDeRemplacement = {\n",
    "        1: \"Hors intersection\",\n",
    "        2: \"Intersection en X\",\n",
    "        3: \"Intersection en T\",\n",
    "        4: \"Intersection en Y\",\n",
    "        5: \"Intersection à plus de 4 branches \",\n",
    "        6: \"Giratoire\",\n",
    "        7: \"Place\",\n",
    "        8: \"Passage à niveau \",\n",
    "        9: \"Autre intersection\"\n",
    "}"
   ]
  },
  {
   "cell_type": "markdown",
   "metadata": {},
   "source": [
    "**Avant :**"
   ]
  },
  {
   "cell_type": "code",
   "execution_count": 298,
   "metadata": {},
   "outputs": [
    {
     "data": {
      "text/html": [
       "<div>\n",
       "<style scoped>\n",
       "    .dataframe tbody tr th:only-of-type {\n",
       "        vertical-align: middle;\n",
       "    }\n",
       "\n",
       "    .dataframe tbody tr th {\n",
       "        vertical-align: top;\n",
       "    }\n",
       "\n",
       "    .dataframe thead th {\n",
       "        text-align: right;\n",
       "    }\n",
       "</style>\n",
       "<table border=\"1\" class=\"dataframe\">\n",
       "  <thead>\n",
       "    <tr style=\"text-align: right;\">\n",
       "      <th></th>\n",
       "      <th>Num_Acc</th>\n",
       "      <th>annee</th>\n",
       "      <th>mois</th>\n",
       "      <th>jour</th>\n",
       "      <th>hrmn</th>\n",
       "      <th>lum</th>\n",
       "      <th>agg</th>\n",
       "      <th>int</th>\n",
       "      <th>atm</th>\n",
       "      <th>col</th>\n",
       "      <th>com</th>\n",
       "      <th>adr</th>\n",
       "      <th>gps</th>\n",
       "      <th>lat</th>\n",
       "      <th>long</th>\n",
       "      <th>dep</th>\n",
       "      <th>date</th>\n",
       "    </tr>\n",
       "  </thead>\n",
       "  <tbody>\n",
       "    <tr>\n",
       "      <th>0</th>\n",
       "      <td>201600000001</td>\n",
       "      <td>16</td>\n",
       "      <td>2</td>\n",
       "      <td>1</td>\n",
       "      <td>1445</td>\n",
       "      <td>1</td>\n",
       "      <td>2</td>\n",
       "      <td>Hors intersection</td>\n",
       "      <td>8</td>\n",
       "      <td>3.0</td>\n",
       "      <td>5</td>\n",
       "      <td>46, rue Sonneville</td>\n",
       "      <td>M</td>\n",
       "      <td>0.0</td>\n",
       "      <td>0.0</td>\n",
       "      <td>590</td>\n",
       "      <td>2016-02-01</td>\n",
       "    </tr>\n",
       "    <tr>\n",
       "      <th>1</th>\n",
       "      <td>201600000002</td>\n",
       "      <td>16</td>\n",
       "      <td>3</td>\n",
       "      <td>16</td>\n",
       "      <td>1800</td>\n",
       "      <td>1</td>\n",
       "      <td>2</td>\n",
       "      <td>Giratoire</td>\n",
       "      <td>1</td>\n",
       "      <td>6.0</td>\n",
       "      <td>5</td>\n",
       "      <td>1a rue du cimetière</td>\n",
       "      <td>M</td>\n",
       "      <td>0.0</td>\n",
       "      <td>0.0</td>\n",
       "      <td>590</td>\n",
       "      <td>2016-03-16</td>\n",
       "    </tr>\n",
       "    <tr>\n",
       "      <th>2</th>\n",
       "      <td>201600000003</td>\n",
       "      <td>16</td>\n",
       "      <td>7</td>\n",
       "      <td>13</td>\n",
       "      <td>1900</td>\n",
       "      <td>1</td>\n",
       "      <td>1</td>\n",
       "      <td>Hors intersection</td>\n",
       "      <td>1</td>\n",
       "      <td>6.0</td>\n",
       "      <td>11</td>\n",
       "      <td>NaN</td>\n",
       "      <td>M</td>\n",
       "      <td>0.0</td>\n",
       "      <td>0.0</td>\n",
       "      <td>590</td>\n",
       "      <td>2016-07-13</td>\n",
       "    </tr>\n",
       "    <tr>\n",
       "      <th>3</th>\n",
       "      <td>201600000004</td>\n",
       "      <td>16</td>\n",
       "      <td>8</td>\n",
       "      <td>15</td>\n",
       "      <td>1930</td>\n",
       "      <td>2</td>\n",
       "      <td>2</td>\n",
       "      <td>Hors intersection</td>\n",
       "      <td>7</td>\n",
       "      <td>3.0</td>\n",
       "      <td>477</td>\n",
       "      <td>52 rue victor hugo</td>\n",
       "      <td>M</td>\n",
       "      <td>0.0</td>\n",
       "      <td>0.0</td>\n",
       "      <td>590</td>\n",
       "      <td>2016-08-15</td>\n",
       "    </tr>\n",
       "    <tr>\n",
       "      <th>4</th>\n",
       "      <td>201600000005</td>\n",
       "      <td>16</td>\n",
       "      <td>12</td>\n",
       "      <td>23</td>\n",
       "      <td>1100</td>\n",
       "      <td>1</td>\n",
       "      <td>2</td>\n",
       "      <td>Intersection en T</td>\n",
       "      <td>1</td>\n",
       "      <td>3.0</td>\n",
       "      <td>11</td>\n",
       "      <td>rue Joliot curie</td>\n",
       "      <td>M</td>\n",
       "      <td>0.0</td>\n",
       "      <td>0.0</td>\n",
       "      <td>590</td>\n",
       "      <td>2016-12-23</td>\n",
       "    </tr>\n",
       "  </tbody>\n",
       "</table>\n",
       "</div>"
      ],
      "text/plain": [
       "        Num_Acc  annee  mois  jour  hrmn  lum  agg                int  atm  \\\n",
       "0  201600000001     16     2     1  1445    1    2  Hors intersection    8   \n",
       "1  201600000002     16     3    16  1800    1    2          Giratoire    1   \n",
       "2  201600000003     16     7    13  1900    1    1  Hors intersection    1   \n",
       "3  201600000004     16     8    15  1930    2    2  Hors intersection    7   \n",
       "4  201600000005     16    12    23  1100    1    2  Intersection en T    1   \n",
       "\n",
       "   col  com                  adr gps  lat  long  dep       date  \n",
       "0  3.0    5   46, rue Sonneville   M  0.0   0.0  590 2016-02-01  \n",
       "1  6.0    5  1a rue du cimetière   M  0.0   0.0  590 2016-03-16  \n",
       "2  6.0   11                  NaN   M  0.0   0.0  590 2016-07-13  \n",
       "3  3.0  477   52 rue victor hugo   M  0.0   0.0  590 2016-08-15  \n",
       "4  3.0   11     rue Joliot curie   M  0.0   0.0  590 2016-12-23  "
      ]
     },
     "execution_count": 298,
     "metadata": {},
     "output_type": "execute_result"
    }
   ],
   "source": [
    "df.head()"
   ]
  },
  {
   "cell_type": "markdown",
   "metadata": {},
   "source": [
    "**Après**"
   ]
  },
  {
   "cell_type": "code",
   "execution_count": 299,
   "metadata": {},
   "outputs": [
    {
     "data": {
      "text/plain": [
       "0    Hors intersection\n",
       "1            Giratoire\n",
       "2    Hors intersection\n",
       "3    Hors intersection\n",
       "4    Intersection en T\n",
       "5    Hors intersection\n",
       "6    Hors intersection\n",
       "7    Hors intersection\n",
       "8    Hors intersection\n",
       "9    Hors intersection\n",
       "Name: int, dtype: object"
      ]
     },
     "execution_count": 299,
     "metadata": {},
     "output_type": "execute_result"
    }
   ],
   "source": [
    "df.int.replace(unDicoDeRemplacement)[0:10]"
   ]
  },
  {
   "cell_type": "markdown",
   "metadata": {},
   "source": [
    "#### parametre inplace=True pour effectuer la modif directement sur la df"
   ]
  },
  {
   "cell_type": "code",
   "execution_count": 300,
   "metadata": {},
   "outputs": [],
   "source": [
    "df.int.replace(unDicoDeRemplacement, inplace=True)"
   ]
  },
  {
   "cell_type": "code",
   "execution_count": 301,
   "metadata": {},
   "outputs": [
    {
     "data": {
      "text/html": [
       "<div>\n",
       "<style scoped>\n",
       "    .dataframe tbody tr th:only-of-type {\n",
       "        vertical-align: middle;\n",
       "    }\n",
       "\n",
       "    .dataframe tbody tr th {\n",
       "        vertical-align: top;\n",
       "    }\n",
       "\n",
       "    .dataframe thead th {\n",
       "        text-align: right;\n",
       "    }\n",
       "</style>\n",
       "<table border=\"1\" class=\"dataframe\">\n",
       "  <thead>\n",
       "    <tr style=\"text-align: right;\">\n",
       "      <th></th>\n",
       "      <th>Num_Acc</th>\n",
       "      <th>annee</th>\n",
       "      <th>mois</th>\n",
       "      <th>jour</th>\n",
       "      <th>hrmn</th>\n",
       "      <th>lum</th>\n",
       "      <th>agg</th>\n",
       "      <th>int</th>\n",
       "      <th>atm</th>\n",
       "      <th>col</th>\n",
       "      <th>com</th>\n",
       "      <th>adr</th>\n",
       "      <th>gps</th>\n",
       "      <th>lat</th>\n",
       "      <th>long</th>\n",
       "      <th>dep</th>\n",
       "      <th>date</th>\n",
       "    </tr>\n",
       "  </thead>\n",
       "  <tbody>\n",
       "    <tr>\n",
       "      <th>0</th>\n",
       "      <td>201600000001</td>\n",
       "      <td>16</td>\n",
       "      <td>2</td>\n",
       "      <td>1</td>\n",
       "      <td>1445</td>\n",
       "      <td>1</td>\n",
       "      <td>2</td>\n",
       "      <td>Hors intersection</td>\n",
       "      <td>8</td>\n",
       "      <td>3.0</td>\n",
       "      <td>5</td>\n",
       "      <td>46, rue Sonneville</td>\n",
       "      <td>M</td>\n",
       "      <td>0.0</td>\n",
       "      <td>0.0</td>\n",
       "      <td>590</td>\n",
       "      <td>2016-02-01</td>\n",
       "    </tr>\n",
       "    <tr>\n",
       "      <th>1</th>\n",
       "      <td>201600000002</td>\n",
       "      <td>16</td>\n",
       "      <td>3</td>\n",
       "      <td>16</td>\n",
       "      <td>1800</td>\n",
       "      <td>1</td>\n",
       "      <td>2</td>\n",
       "      <td>Giratoire</td>\n",
       "      <td>1</td>\n",
       "      <td>6.0</td>\n",
       "      <td>5</td>\n",
       "      <td>1a rue du cimetière</td>\n",
       "      <td>M</td>\n",
       "      <td>0.0</td>\n",
       "      <td>0.0</td>\n",
       "      <td>590</td>\n",
       "      <td>2016-03-16</td>\n",
       "    </tr>\n",
       "    <tr>\n",
       "      <th>2</th>\n",
       "      <td>201600000003</td>\n",
       "      <td>16</td>\n",
       "      <td>7</td>\n",
       "      <td>13</td>\n",
       "      <td>1900</td>\n",
       "      <td>1</td>\n",
       "      <td>1</td>\n",
       "      <td>Hors intersection</td>\n",
       "      <td>1</td>\n",
       "      <td>6.0</td>\n",
       "      <td>11</td>\n",
       "      <td>NaN</td>\n",
       "      <td>M</td>\n",
       "      <td>0.0</td>\n",
       "      <td>0.0</td>\n",
       "      <td>590</td>\n",
       "      <td>2016-07-13</td>\n",
       "    </tr>\n",
       "    <tr>\n",
       "      <th>3</th>\n",
       "      <td>201600000004</td>\n",
       "      <td>16</td>\n",
       "      <td>8</td>\n",
       "      <td>15</td>\n",
       "      <td>1930</td>\n",
       "      <td>2</td>\n",
       "      <td>2</td>\n",
       "      <td>Hors intersection</td>\n",
       "      <td>7</td>\n",
       "      <td>3.0</td>\n",
       "      <td>477</td>\n",
       "      <td>52 rue victor hugo</td>\n",
       "      <td>M</td>\n",
       "      <td>0.0</td>\n",
       "      <td>0.0</td>\n",
       "      <td>590</td>\n",
       "      <td>2016-08-15</td>\n",
       "    </tr>\n",
       "    <tr>\n",
       "      <th>4</th>\n",
       "      <td>201600000005</td>\n",
       "      <td>16</td>\n",
       "      <td>12</td>\n",
       "      <td>23</td>\n",
       "      <td>1100</td>\n",
       "      <td>1</td>\n",
       "      <td>2</td>\n",
       "      <td>Intersection en T</td>\n",
       "      <td>1</td>\n",
       "      <td>3.0</td>\n",
       "      <td>11</td>\n",
       "      <td>rue Joliot curie</td>\n",
       "      <td>M</td>\n",
       "      <td>0.0</td>\n",
       "      <td>0.0</td>\n",
       "      <td>590</td>\n",
       "      <td>2016-12-23</td>\n",
       "    </tr>\n",
       "  </tbody>\n",
       "</table>\n",
       "</div>"
      ],
      "text/plain": [
       "        Num_Acc  annee  mois  jour  hrmn  lum  agg                int  atm  \\\n",
       "0  201600000001     16     2     1  1445    1    2  Hors intersection    8   \n",
       "1  201600000002     16     3    16  1800    1    2          Giratoire    1   \n",
       "2  201600000003     16     7    13  1900    1    1  Hors intersection    1   \n",
       "3  201600000004     16     8    15  1930    2    2  Hors intersection    7   \n",
       "4  201600000005     16    12    23  1100    1    2  Intersection en T    1   \n",
       "\n",
       "   col  com                  adr gps  lat  long  dep       date  \n",
       "0  3.0    5   46, rue Sonneville   M  0.0   0.0  590 2016-02-01  \n",
       "1  6.0    5  1a rue du cimetière   M  0.0   0.0  590 2016-03-16  \n",
       "2  6.0   11                  NaN   M  0.0   0.0  590 2016-07-13  \n",
       "3  3.0  477   52 rue victor hugo   M  0.0   0.0  590 2016-08-15  \n",
       "4  3.0   11     rue Joliot curie   M  0.0   0.0  590 2016-12-23  "
      ]
     },
     "execution_count": 301,
     "metadata": {},
     "output_type": "execute_result"
    }
   ],
   "source": [
    "df.head()"
   ]
  },
  {
   "cell_type": "markdown",
   "metadata": {},
   "source": [
    "#### 2.4.3 Encore mieux: renommer plusieurs colonnes d'un coup !\n",
    "<=> faire un dico de dicos donc ... "
   ]
  },
  {
   "cell_type": "code",
   "execution_count": 303,
   "metadata": {},
   "outputs": [],
   "source": [
    "remplacements_par_colonnes = {\n",
    "    'colonne1': { 'ancienne_valeur1' : 'nouvelle_valeur1',\n",
    "                  'ancienne_valeur2' : 'nouvelle_valeur2'},\n",
    "    \n",
    "    'agg':      { 1: 'Hors agglomeration',\n",
    "                  2: 'En agglomeration' },\n",
    "    \n",
    "    'atm': {\n",
    "                  1 : 'Normale',\n",
    "                  2 : 'Pluie légère',\n",
    "                  3 : 'Pluie forte',\n",
    "                  4 : 'Neige - grêle',\n",
    "                  5 : 'Brouillard - fumée ',\n",
    "                  6 : 'Vent fort - tempête ',\n",
    "                  7 : 'Temps éblouissant',\n",
    "                  8 : 'Temps couvert',\n",
    "                  9 : 'Autre'\n",
    "            }\n",
    "}"
   ]
  },
  {
   "cell_type": "code",
   "execution_count": 304,
   "metadata": {},
   "outputs": [],
   "source": [
    "df.replace(remplacements_par_colonnes, inplace=True)"
   ]
  },
  {
   "cell_type": "code",
   "execution_count": 305,
   "metadata": {},
   "outputs": [
    {
     "data": {
      "text/html": [
       "<div>\n",
       "<style scoped>\n",
       "    .dataframe tbody tr th:only-of-type {\n",
       "        vertical-align: middle;\n",
       "    }\n",
       "\n",
       "    .dataframe tbody tr th {\n",
       "        vertical-align: top;\n",
       "    }\n",
       "\n",
       "    .dataframe thead th {\n",
       "        text-align: right;\n",
       "    }\n",
       "</style>\n",
       "<table border=\"1\" class=\"dataframe\">\n",
       "  <thead>\n",
       "    <tr style=\"text-align: right;\">\n",
       "      <th></th>\n",
       "      <th>Num_Acc</th>\n",
       "      <th>annee</th>\n",
       "      <th>mois</th>\n",
       "      <th>jour</th>\n",
       "      <th>hrmn</th>\n",
       "      <th>lum</th>\n",
       "      <th>agg</th>\n",
       "      <th>int</th>\n",
       "      <th>atm</th>\n",
       "      <th>col</th>\n",
       "      <th>com</th>\n",
       "      <th>adr</th>\n",
       "      <th>gps</th>\n",
       "      <th>lat</th>\n",
       "      <th>long</th>\n",
       "      <th>dep</th>\n",
       "      <th>date</th>\n",
       "    </tr>\n",
       "  </thead>\n",
       "  <tbody>\n",
       "    <tr>\n",
       "      <th>0</th>\n",
       "      <td>201600000001</td>\n",
       "      <td>16</td>\n",
       "      <td>2</td>\n",
       "      <td>1</td>\n",
       "      <td>1445</td>\n",
       "      <td>1</td>\n",
       "      <td>En agglomeration</td>\n",
       "      <td>Hors intersection</td>\n",
       "      <td>Temps couvert</td>\n",
       "      <td>3.0</td>\n",
       "      <td>5</td>\n",
       "      <td>46, rue Sonneville</td>\n",
       "      <td>M</td>\n",
       "      <td>0.0</td>\n",
       "      <td>0.0</td>\n",
       "      <td>590</td>\n",
       "      <td>2016-02-01</td>\n",
       "    </tr>\n",
       "    <tr>\n",
       "      <th>1</th>\n",
       "      <td>201600000002</td>\n",
       "      <td>16</td>\n",
       "      <td>3</td>\n",
       "      <td>16</td>\n",
       "      <td>1800</td>\n",
       "      <td>1</td>\n",
       "      <td>En agglomeration</td>\n",
       "      <td>Giratoire</td>\n",
       "      <td>Normale</td>\n",
       "      <td>6.0</td>\n",
       "      <td>5</td>\n",
       "      <td>1a rue du cimetière</td>\n",
       "      <td>M</td>\n",
       "      <td>0.0</td>\n",
       "      <td>0.0</td>\n",
       "      <td>590</td>\n",
       "      <td>2016-03-16</td>\n",
       "    </tr>\n",
       "    <tr>\n",
       "      <th>2</th>\n",
       "      <td>201600000003</td>\n",
       "      <td>16</td>\n",
       "      <td>7</td>\n",
       "      <td>13</td>\n",
       "      <td>1900</td>\n",
       "      <td>1</td>\n",
       "      <td>Hors agglomeration</td>\n",
       "      <td>Hors intersection</td>\n",
       "      <td>Normale</td>\n",
       "      <td>6.0</td>\n",
       "      <td>11</td>\n",
       "      <td>NaN</td>\n",
       "      <td>M</td>\n",
       "      <td>0.0</td>\n",
       "      <td>0.0</td>\n",
       "      <td>590</td>\n",
       "      <td>2016-07-13</td>\n",
       "    </tr>\n",
       "    <tr>\n",
       "      <th>3</th>\n",
       "      <td>201600000004</td>\n",
       "      <td>16</td>\n",
       "      <td>8</td>\n",
       "      <td>15</td>\n",
       "      <td>1930</td>\n",
       "      <td>2</td>\n",
       "      <td>En agglomeration</td>\n",
       "      <td>Hors intersection</td>\n",
       "      <td>Temps éblouissant</td>\n",
       "      <td>3.0</td>\n",
       "      <td>477</td>\n",
       "      <td>52 rue victor hugo</td>\n",
       "      <td>M</td>\n",
       "      <td>0.0</td>\n",
       "      <td>0.0</td>\n",
       "      <td>590</td>\n",
       "      <td>2016-08-15</td>\n",
       "    </tr>\n",
       "    <tr>\n",
       "      <th>4</th>\n",
       "      <td>201600000005</td>\n",
       "      <td>16</td>\n",
       "      <td>12</td>\n",
       "      <td>23</td>\n",
       "      <td>1100</td>\n",
       "      <td>1</td>\n",
       "      <td>En agglomeration</td>\n",
       "      <td>Intersection en T</td>\n",
       "      <td>Normale</td>\n",
       "      <td>3.0</td>\n",
       "      <td>11</td>\n",
       "      <td>rue Joliot curie</td>\n",
       "      <td>M</td>\n",
       "      <td>0.0</td>\n",
       "      <td>0.0</td>\n",
       "      <td>590</td>\n",
       "      <td>2016-12-23</td>\n",
       "    </tr>\n",
       "  </tbody>\n",
       "</table>\n",
       "</div>"
      ],
      "text/plain": [
       "        Num_Acc  annee  mois  jour  hrmn  lum                 agg  \\\n",
       "0  201600000001     16     2     1  1445    1    En agglomeration   \n",
       "1  201600000002     16     3    16  1800    1    En agglomeration   \n",
       "2  201600000003     16     7    13  1900    1  Hors agglomeration   \n",
       "3  201600000004     16     8    15  1930    2    En agglomeration   \n",
       "4  201600000005     16    12    23  1100    1    En agglomeration   \n",
       "\n",
       "                 int                atm  col  com                  adr gps  \\\n",
       "0  Hors intersection      Temps couvert  3.0    5   46, rue Sonneville   M   \n",
       "1          Giratoire            Normale  6.0    5  1a rue du cimetière   M   \n",
       "2  Hors intersection            Normale  6.0   11                  NaN   M   \n",
       "3  Hors intersection  Temps éblouissant  3.0  477   52 rue victor hugo   M   \n",
       "4  Intersection en T            Normale  3.0   11     rue Joliot curie   M   \n",
       "\n",
       "   lat  long  dep       date  \n",
       "0  0.0   0.0  590 2016-02-01  \n",
       "1  0.0   0.0  590 2016-03-16  \n",
       "2  0.0   0.0  590 2016-07-13  \n",
       "3  0.0   0.0  590 2016-08-15  \n",
       "4  0.0   0.0  590 2016-12-23  "
      ]
     },
     "execution_count": 305,
     "metadata": {},
     "output_type": "execute_result"
    }
   ],
   "source": [
    "df.head()"
   ]
  },
  {
   "cell_type": "markdown",
   "metadata": {},
   "source": [
    "### 2.5. Les jointures"
   ]
  },
  {
   "cell_type": "markdown",
   "metadata": {},
   "source": [
    "Amusons-nous un peu"
   ]
  },
  {
   "cell_type": "code",
   "execution_count": 531,
   "metadata": {},
   "outputs": [
    {
     "name": "stderr",
     "output_type": "stream",
     "text": [
      "DtypeWarning: Columns (2) have mixed types. Specify dtype option on import or set low_memory=False. [interactiveshell.py:2785]\n"
     ]
    }
   ],
   "source": [
    "df_vehicules2017 = pd.read_csv(dossier+\"vehicules2017.csv\")\n",
    "df_usagers2017 = pd.read_csv(dossier+\"usagers2017.csv\")\n",
    "df_caracteristiques2017 = pd.read_csv(dossier+\"caracteristiques2017.csv\", encoding='latin-1')\n",
    "df_lieux2017 = pd.read_csv(dossier+\"lieux2017.csv\")"
   ]
  },
  {
   "cell_type": "code",
   "execution_count": 532,
   "metadata": {},
   "outputs": [],
   "source": [
    "df_lieux_and_vehicules = df_vehicules2017.merge(df_lieux2017, on=[\"Num_Acc\"], how='inner')"
   ]
  },
  {
   "cell_type": "code",
   "execution_count": 533,
   "metadata": {},
   "outputs": [],
   "source": [
    "df_lieux_carac_vehicules = df_lieux_and_vehicules.merge(df_caracteristiques2017, on=[\"Num_Acc\"], how='inner')"
   ]
  },
  {
   "cell_type": "code",
   "execution_count": 536,
   "metadata": {},
   "outputs": [],
   "source": [
    "df_all = df_lieux_carac_vehicules.merge(df_usagers2017, on=['Num_Acc'], how='inner')"
   ]
  },
  {
   "cell_type": "code",
   "execution_count": 538,
   "metadata": {},
   "outputs": [
    {
     "data": {
      "text/plain": [
       "((260392, 52), (103546, 41), (103546, 26), (136021, 12), (103546, 9))"
      ]
     },
     "execution_count": 538,
     "metadata": {},
     "output_type": "execute_result"
    }
   ],
   "source": [
    "df_all.shape, df_lieux_carac_vehicules.shape, df_lieux_and_vehicules.shape, df_usagers2017.shape, df_vehicules2017.shape"
   ]
  },
  {
   "cell_type": "markdown",
   "metadata": {},
   "source": [
    "#### pourquoi avons-nous plus de lignes?"
   ]
  },
  {
   "cell_type": "markdown",
   "metadata": {},
   "source": [
    "### 2.6. Le GroupBy "
   ]
  },
  {
   "cell_type": "markdown",
   "metadata": {},
   "source": [
    "#### 2.6.1. juste pour regarder le nbr de valeurs types possibles par colonnes"
   ]
  },
  {
   "cell_type": "code",
   "execution_count": 503,
   "metadata": {},
   "outputs": [
    {
     "data": {
      "text/plain": [
       "Num_Acc      60701\n",
       "senc             3\n",
       "catv            24\n",
       "occutc          61\n",
       "obs             17\n",
       "obsm             7\n",
       "choc            10\n",
       "manv            25\n",
       "num_veh_x       43\n",
       "catr             7\n",
       "voie          1526\n",
       "v1               2\n",
       "v2              45\n",
       "circ             5\n",
       "nbv             13\n",
       "pr             444\n",
       "pr1           1164\n",
       "vosp             4\n",
       "prof             5\n",
       "plan             5\n",
       "lartpc         231\n",
       "larrout        356\n",
       "surf            10\n",
       "infra            8\n",
       "situ             6\n",
       "env1             3\n",
       "place            9\n",
       "catu             4\n",
       "grav             4\n",
       "sexe             2\n",
       "trajet           7\n",
       "secu            18\n",
       "locp             9\n",
       "actp             8\n",
       "etatp            4\n",
       "an_nais        103\n",
       "num_veh_y       39\n",
       "dtype: int64"
      ]
     },
     "execution_count": 503,
     "metadata": {},
     "output_type": "execute_result"
    }
   ],
   "source": [
    "df_all.nunique()"
   ]
  },
  {
   "cell_type": "code",
   "execution_count": 496,
   "metadata": {},
   "outputs": [
    {
     "data": {
      "text/html": [
       "<div>\n",
       "<style scoped>\n",
       "    .dataframe tbody tr th:only-of-type {\n",
       "        vertical-align: middle;\n",
       "    }\n",
       "\n",
       "    .dataframe tbody tr th {\n",
       "        vertical-align: top;\n",
       "    }\n",
       "\n",
       "    .dataframe thead th {\n",
       "        text-align: right;\n",
       "    }\n",
       "</style>\n",
       "<table border=\"1\" class=\"dataframe\">\n",
       "  <thead>\n",
       "    <tr style=\"text-align: right;\">\n",
       "      <th></th>\n",
       "      <th>Num_Acc</th>\n",
       "      <th>senc</th>\n",
       "      <th>catv</th>\n",
       "      <th>occutc</th>\n",
       "      <th>obs</th>\n",
       "      <th>obsm</th>\n",
       "      <th>choc</th>\n",
       "      <th>manv</th>\n",
       "      <th>num_veh_x</th>\n",
       "      <th>catr</th>\n",
       "      <th>...</th>\n",
       "      <th>catu</th>\n",
       "      <th>grav</th>\n",
       "      <th>sexe</th>\n",
       "      <th>trajet</th>\n",
       "      <th>secu</th>\n",
       "      <th>locp</th>\n",
       "      <th>actp</th>\n",
       "      <th>etatp</th>\n",
       "      <th>an_nais</th>\n",
       "      <th>num_veh_y</th>\n",
       "    </tr>\n",
       "  </thead>\n",
       "  <tbody>\n",
       "    <tr>\n",
       "      <th>0</th>\n",
       "      <td>201700000001</td>\n",
       "      <td>0.0</td>\n",
       "      <td>7</td>\n",
       "      <td>0</td>\n",
       "      <td>0.0</td>\n",
       "      <td>2.0</td>\n",
       "      <td>3.0</td>\n",
       "      <td>9.0</td>\n",
       "      <td>B01</td>\n",
       "      <td>3</td>\n",
       "      <td>...</td>\n",
       "      <td>1</td>\n",
       "      <td>3</td>\n",
       "      <td>1</td>\n",
       "      <td>9.0</td>\n",
       "      <td>13.0</td>\n",
       "      <td>0.0</td>\n",
       "      <td>0.0</td>\n",
       "      <td>0.0</td>\n",
       "      <td>1968.0</td>\n",
       "      <td>B01</td>\n",
       "    </tr>\n",
       "    <tr>\n",
       "      <th>1</th>\n",
       "      <td>201700000001</td>\n",
       "      <td>0.0</td>\n",
       "      <td>7</td>\n",
       "      <td>0</td>\n",
       "      <td>0.0</td>\n",
       "      <td>2.0</td>\n",
       "      <td>3.0</td>\n",
       "      <td>9.0</td>\n",
       "      <td>B01</td>\n",
       "      <td>3</td>\n",
       "      <td>...</td>\n",
       "      <td>2</td>\n",
       "      <td>3</td>\n",
       "      <td>2</td>\n",
       "      <td>9.0</td>\n",
       "      <td>11.0</td>\n",
       "      <td>0.0</td>\n",
       "      <td>0.0</td>\n",
       "      <td>0.0</td>\n",
       "      <td>1973.0</td>\n",
       "      <td>B01</td>\n",
       "    </tr>\n",
       "    <tr>\n",
       "      <th>2</th>\n",
       "      <td>201700000001</td>\n",
       "      <td>0.0</td>\n",
       "      <td>7</td>\n",
       "      <td>0</td>\n",
       "      <td>0.0</td>\n",
       "      <td>2.0</td>\n",
       "      <td>3.0</td>\n",
       "      <td>9.0</td>\n",
       "      <td>B01</td>\n",
       "      <td>3</td>\n",
       "      <td>...</td>\n",
       "      <td>1</td>\n",
       "      <td>3</td>\n",
       "      <td>1</td>\n",
       "      <td>1.0</td>\n",
       "      <td>13.0</td>\n",
       "      <td>0.0</td>\n",
       "      <td>0.0</td>\n",
       "      <td>0.0</td>\n",
       "      <td>1967.0</td>\n",
       "      <td>A01</td>\n",
       "    </tr>\n",
       "    <tr>\n",
       "      <th>3</th>\n",
       "      <td>201700000001</td>\n",
       "      <td>0.0</td>\n",
       "      <td>10</td>\n",
       "      <td>0</td>\n",
       "      <td>0.0</td>\n",
       "      <td>2.0</td>\n",
       "      <td>3.0</td>\n",
       "      <td>13.0</td>\n",
       "      <td>A01</td>\n",
       "      <td>3</td>\n",
       "      <td>...</td>\n",
       "      <td>1</td>\n",
       "      <td>3</td>\n",
       "      <td>1</td>\n",
       "      <td>9.0</td>\n",
       "      <td>13.0</td>\n",
       "      <td>0.0</td>\n",
       "      <td>0.0</td>\n",
       "      <td>0.0</td>\n",
       "      <td>1968.0</td>\n",
       "      <td>B01</td>\n",
       "    </tr>\n",
       "    <tr>\n",
       "      <th>4</th>\n",
       "      <td>201700000001</td>\n",
       "      <td>0.0</td>\n",
       "      <td>10</td>\n",
       "      <td>0</td>\n",
       "      <td>0.0</td>\n",
       "      <td>2.0</td>\n",
       "      <td>3.0</td>\n",
       "      <td>13.0</td>\n",
       "      <td>A01</td>\n",
       "      <td>3</td>\n",
       "      <td>...</td>\n",
       "      <td>2</td>\n",
       "      <td>3</td>\n",
       "      <td>2</td>\n",
       "      <td>9.0</td>\n",
       "      <td>11.0</td>\n",
       "      <td>0.0</td>\n",
       "      <td>0.0</td>\n",
       "      <td>0.0</td>\n",
       "      <td>1973.0</td>\n",
       "      <td>B01</td>\n",
       "    </tr>\n",
       "  </tbody>\n",
       "</table>\n",
       "<p>5 rows × 37 columns</p>\n",
       "</div>"
      ],
      "text/plain": [
       "        Num_Acc  senc  catv  occutc  obs  obsm  choc  manv num_veh_x  catr  \\\n",
       "0  201700000001   0.0     7       0  0.0   2.0   3.0   9.0       B01     3   \n",
       "1  201700000001   0.0     7       0  0.0   2.0   3.0   9.0       B01     3   \n",
       "2  201700000001   0.0     7       0  0.0   2.0   3.0   9.0       B01     3   \n",
       "3  201700000001   0.0    10       0  0.0   2.0   3.0  13.0       A01     3   \n",
       "4  201700000001   0.0    10       0  0.0   2.0   3.0  13.0       A01     3   \n",
       "\n",
       "     ...     catu  grav sexe  trajet  secu  locp  actp  etatp  an_nais  \\\n",
       "0    ...        1     3    1     9.0  13.0   0.0   0.0    0.0   1968.0   \n",
       "1    ...        2     3    2     9.0  11.0   0.0   0.0    0.0   1973.0   \n",
       "2    ...        1     3    1     1.0  13.0   0.0   0.0    0.0   1967.0   \n",
       "3    ...        1     3    1     9.0  13.0   0.0   0.0    0.0   1968.0   \n",
       "4    ...        2     3    2     9.0  11.0   0.0   0.0    0.0   1973.0   \n",
       "\n",
       "   num_veh_y  \n",
       "0        B01  \n",
       "1        B01  \n",
       "2        A01  \n",
       "3        B01  \n",
       "4        B01  \n",
       "\n",
       "[5 rows x 37 columns]"
      ]
     },
     "execution_count": 496,
     "metadata": {},
     "output_type": "execute_result"
    }
   ],
   "source": [
    "df_all.head()"
   ]
  },
  {
   "cell_type": "code",
   "execution_count": 504,
   "metadata": {},
   "outputs": [
    {
     "data": {
      "text/plain": [
       "<pandas.core.groupby.groupby.DataFrameGroupBy object at 0x1a6a6caf98>"
      ]
     },
     "execution_count": 504,
     "metadata": {},
     "output_type": "execute_result"
    }
   ],
   "source": [
    "df_all[['sexe', 'catv','catu']].groupby('sexe')"
   ]
  },
  {
   "cell_type": "code",
   "execution_count": 505,
   "metadata": {},
   "outputs": [
    {
     "name": "stdout",
     "output_type": "stream",
     "text": [
      "\n",
      " nom du subset = 1\n",
      "\n",
      "    sexe  catv  catu\n",
      "0      1     7     1\n",
      "2      1     7     1\n",
      "3      1    10     1\n",
      "5      1    10     1\n",
      "6      1     7     1\n",
      "7      1     7     1\n",
      "8      1     1     1\n",
      "9      1     1     1\n",
      "10     1    10     1\n",
      "11     1    10     1\n",
      "\n",
      " nom du subset = 2\n",
      "\n",
      "    sexe  catv  catu\n",
      "1      2     7     2\n",
      "4      2    10     2\n",
      "13     2    10     2\n",
      "17     2     7     2\n",
      "21     2     7     2\n",
      "22     2     7     1\n",
      "32     2     7     1\n",
      "34     2    33     1\n",
      "37     2     7     2\n",
      "42     2    33     1\n"
     ]
    }
   ],
   "source": [
    "for df_sub_name, df_subset in df_all[['sexe', 'catv','catu']].groupby('sexe'):\n",
    "    print('\\n nom du subset = ' + str(df_sub_name) + '\\n')\n",
    "    print(df_subset.head(10)) "
   ]
  },
  {
   "cell_type": "markdown",
   "metadata": {},
   "source": [
    "### 2.2. Faire des opérations avec groupby"
   ]
  },
  {
   "cell_type": "markdown",
   "metadata": {},
   "source": [
    "Pas besoin de faire une boucle..."
   ]
  },
  {
   "cell_type": "markdown",
   "metadata": {},
   "source": [
    "sum"
   ]
  },
  {
   "cell_type": "code",
   "execution_count": 516,
   "metadata": {
    "scrolled": true
   },
   "outputs": [
    {
     "data": {
      "text/html": [
       "<div>\n",
       "<style scoped>\n",
       "    .dataframe tbody tr th:only-of-type {\n",
       "        vertical-align: middle;\n",
       "    }\n",
       "\n",
       "    .dataframe tbody tr th {\n",
       "        vertical-align: top;\n",
       "    }\n",
       "\n",
       "    .dataframe thead th {\n",
       "        text-align: right;\n",
       "    }\n",
       "</style>\n",
       "<table border=\"1\" class=\"dataframe\">\n",
       "  <thead>\n",
       "    <tr style=\"text-align: right;\">\n",
       "      <th></th>\n",
       "      <th></th>\n",
       "      <th>sexe</th>\n",
       "    </tr>\n",
       "    <tr>\n",
       "      <th>catu</th>\n",
       "      <th>etatp</th>\n",
       "      <th></th>\n",
       "    </tr>\n",
       "  </thead>\n",
       "  <tbody>\n",
       "    <tr>\n",
       "      <th>1</th>\n",
       "      <th>0.0</th>\n",
       "      <td>1.260947</td>\n",
       "    </tr>\n",
       "    <tr>\n",
       "      <th>2</th>\n",
       "      <th>0.0</th>\n",
       "      <td>1.536917</td>\n",
       "    </tr>\n",
       "    <tr>\n",
       "      <th rowspan=\"4\" valign=\"top\">3</th>\n",
       "      <th>0.0</th>\n",
       "      <td>1.465160</td>\n",
       "    </tr>\n",
       "    <tr>\n",
       "      <th>1.0</th>\n",
       "      <td>1.503612</td>\n",
       "    </tr>\n",
       "    <tr>\n",
       "      <th>2.0</th>\n",
       "      <td>1.527878</td>\n",
       "    </tr>\n",
       "    <tr>\n",
       "      <th>3.0</th>\n",
       "      <td>1.389671</td>\n",
       "    </tr>\n",
       "    <tr>\n",
       "      <th rowspan=\"4\" valign=\"top\">4</th>\n",
       "      <th>0.0</th>\n",
       "      <td>1.166667</td>\n",
       "    </tr>\n",
       "    <tr>\n",
       "      <th>1.0</th>\n",
       "      <td>1.288136</td>\n",
       "    </tr>\n",
       "    <tr>\n",
       "      <th>2.0</th>\n",
       "      <td>1.230769</td>\n",
       "    </tr>\n",
       "    <tr>\n",
       "      <th>3.0</th>\n",
       "      <td>1.333333</td>\n",
       "    </tr>\n",
       "  </tbody>\n",
       "</table>\n",
       "</div>"
      ],
      "text/plain": [
       "                sexe\n",
       "catu etatp          \n",
       "1    0.0    1.260947\n",
       "2    0.0    1.536917\n",
       "3    0.0    1.465160\n",
       "     1.0    1.503612\n",
       "     2.0    1.527878\n",
       "     3.0    1.389671\n",
       "4    0.0    1.166667\n",
       "     1.0    1.288136\n",
       "     2.0    1.230769\n",
       "     3.0    1.333333"
      ]
     },
     "execution_count": 516,
     "metadata": {},
     "output_type": "execute_result"
    }
   ],
   "source": [
    "df_all[['sexe','catu', 'etatp']].groupby(['catu', 'etatp']).mean()"
   ]
  },
  {
   "cell_type": "code",
   "execution_count": 539,
   "metadata": {},
   "outputs": [],
   "source": [
    "df_all.replace({'sexe' : { 1: 'Homme', 2: 'Femme'},\n",
    "            'grav': {  1: 'Indemne',\n",
    "                        2: 'Tué',\n",
    "                        3: 'Blessé hospitalisé',\n",
    "                        4: 'Blessé léger'},\n",
    "            'catu': { 1: 'Conducteur',\n",
    "                    2: 'Passager',\n",
    "                    3: 'Piéton',\n",
    "                    4: 'Piéton en roller ou en trottinette'}}, inplace=True)"
   ]
  },
  {
   "cell_type": "code",
   "execution_count": 587,
   "metadata": {
    "scrolled": false
   },
   "outputs": [
    {
     "data": {
      "text/plain": [
       "grav\n",
       "Blessé hospitalisé    AxesSubplot(0.125,0.125;0.775x0.755)\n",
       "Blessé léger          AxesSubplot(0.125,0.125;0.775x0.755)\n",
       "Indemne               AxesSubplot(0.125,0.125;0.775x0.755)\n",
       "Tué                   AxesSubplot(0.125,0.125;0.775x0.755)\n",
       "dtype: object"
      ]
     },
     "execution_count": 587,
     "metadata": {},
     "output_type": "execute_result"
    },
    {
     "data": {
      "image/png": "[encoded data removed]",
      "text/plain": [
       "<Figure size 864x288 with 1 Axes>"
      ]
     },
     "metadata": {},
     "output_type": "display_data"
    },
    {
     "data": {
      "image/png": "[encoded data removed]",
      "text/plain": [
       "<Figure size 864x288 with 1 Axes>"
      ]
     },
     "metadata": {},
     "output_type": "display_data"
    },
    {
     "data": {
      "image/png": "[encoded data removed]",
      "text/plain": [
       "<Figure size 864x288 with 1 Axes>"
      ]
     },
     "metadata": {},
     "output_type": "display_data"
    },
    {
     "data": {
      "image/png": "[encoded data removed]",
      "text/plain": [
       "<Figure size 864x288 with 1 Axes>"
      ]
     },
     "metadata": {},
     "output_type": "display_data"
    }
   ],
   "source": [
    "df_all[df_all['dep'] == 750].groupby(['grav']).plot(kind='scatter', x='long', y='lat') # oui c'est de l'art contemporain"
   ]
  },
  {
   "cell_type": "markdown",
   "metadata": {},
   "source": [
    "#### sur même figure"
   ]
  },
  {
   "cell_type": "code",
   "execution_count": 601,
   "metadata": {},
   "outputs": [
    {
     "data": {
      "text/plain": [
       "<matplotlib.legend.Legend at 0x1acd469208>"
      ]
     },
     "execution_count": 601,
     "metadata": {},
     "output_type": "execute_result"
    },
    {
     "data": {
      "image/png": "[encoded data removed]",
      "text/plain": [
       "<Figure size 864x288 with 1 Axes>"
      ]
     },
     "metadata": {},
     "output_type": "display_data"
    }
   ],
   "source": [
    "fig, ax = plt.subplots(nrows=1, ncols=1)\n",
    "for name, group in df_all[df_all['dep']==750].groupby(['grav']):\n",
    "    ax.plot(group.long, group.lat, marker='o', linestyle='', ms=6, label=name)\n",
    "ax.legend()"
   ]
  },
  {
   "cell_type": "markdown",
   "metadata": {},
   "source": [
    "il y a autant de subsets que de valeurs différentes de org"
   ]
  },
  {
   "cell_type": "markdown",
   "metadata": {},
   "source": [
    "On aurait pu utiliser seaborn biensûr sans faire de groupby mais les params {col='org', col_wrap=7} (si on voulait)"
   ]
  },
  {
   "cell_type": "code",
   "execution_count": 582,
   "metadata": {},
   "outputs": [
    {
     "data": {
      "text/plain": [
       "sexe   catu                                grav              \n",
       "Femme  Conducteur                          Blessé hospitalisé     7616\n",
       "                                           Blessé léger          19539\n",
       "                                           Indemne               24540\n",
       "                                           Tué                     654\n",
       "       Passager                            Blessé hospitalisé     5382\n",
       "                                           Blessé léger          11731\n",
       "                                           Indemne                7947\n",
       "                                           Tué                     468\n",
       "       Piéton                              Blessé hospitalisé     2286\n",
       "                                           Blessé léger           3398\n",
       "                                           Indemne                 104\n",
       "                                           Tué                     192\n",
       "       Piéton en roller ou en trottinette  Blessé hospitalisé       33\n",
       "                                           Blessé léger             50\n",
       "Homme  Conducteur                          Blessé hospitalisé    26980\n",
       "                                           Blessé léger          42746\n",
       "                                           Indemne               74967\n",
       "                                           Tué                    3589\n",
       "       Passager                            Blessé hospitalisé     4135\n",
       "                                           Blessé léger           8290\n",
       "                                           Indemne                9169\n",
       "                                           Tué                     430\n",
       "       Piéton                              Blessé hospitalisé     2351\n",
       "                                           Blessé léger           3064\n",
       "                                           Indemne                 143\n",
       "                                           Tué                     366\n",
       "       Piéton en roller ou en trottinette  Blessé hospitalisé       69\n",
       "                                           Blessé léger            143\n",
       "                                           Indemne                   4\n",
       "                                           Tué                       6\n",
       "dtype: int64"
      ]
     },
     "execution_count": 582,
     "metadata": {},
     "output_type": "execute_result"
    }
   ],
   "source": [
    "df_all[['sexe','catu', 'grav']].groupby(['sexe', 'catu', 'grav']).size()"
   ]
  },
  {
   "cell_type": "code",
   "execution_count": 586,
   "metadata": {},
   "outputs": [
    {
     "data": {
      "text/html": [
       "<div>\n",
       "<style scoped>\n",
       "    .dataframe tbody tr th:only-of-type {\n",
       "        vertical-align: middle;\n",
       "    }\n",
       "\n",
       "    .dataframe tbody tr th {\n",
       "        vertical-align: top;\n",
       "    }\n",
       "\n",
       "    .dataframe thead th {\n",
       "        text-align: right;\n",
       "    }\n",
       "</style>\n",
       "<table border=\"1\" class=\"dataframe\">\n",
       "  <thead>\n",
       "    <tr style=\"text-align: right;\">\n",
       "      <th></th>\n",
       "      <th>grav</th>\n",
       "      <th>Blessé hospitalisé</th>\n",
       "      <th>Blessé léger</th>\n",
       "      <th>Indemne</th>\n",
       "      <th>Tué</th>\n",
       "    </tr>\n",
       "    <tr>\n",
       "      <th>sexe</th>\n",
       "      <th>catu</th>\n",
       "      <th></th>\n",
       "      <th></th>\n",
       "      <th></th>\n",
       "      <th></th>\n",
       "    </tr>\n",
       "  </thead>\n",
       "  <tbody>\n",
       "    <tr>\n",
       "      <th rowspan=\"4\" valign=\"top\">Femme</th>\n",
       "      <th>Conducteur</th>\n",
       "      <td>7616.0</td>\n",
       "      <td>19539.0</td>\n",
       "      <td>24540.0</td>\n",
       "      <td>654.0</td>\n",
       "    </tr>\n",
       "    <tr>\n",
       "      <th>Passager</th>\n",
       "      <td>5382.0</td>\n",
       "      <td>11731.0</td>\n",
       "      <td>7947.0</td>\n",
       "      <td>468.0</td>\n",
       "    </tr>\n",
       "    <tr>\n",
       "      <th>Piéton</th>\n",
       "      <td>2286.0</td>\n",
       "      <td>3398.0</td>\n",
       "      <td>104.0</td>\n",
       "      <td>192.0</td>\n",
       "    </tr>\n",
       "    <tr>\n",
       "      <th>Piéton en roller ou en trottinette</th>\n",
       "      <td>33.0</td>\n",
       "      <td>50.0</td>\n",
       "      <td>NaN</td>\n",
       "      <td>NaN</td>\n",
       "    </tr>\n",
       "    <tr>\n",
       "      <th rowspan=\"4\" valign=\"top\">Homme</th>\n",
       "      <th>Conducteur</th>\n",
       "      <td>26980.0</td>\n",
       "      <td>42746.0</td>\n",
       "      <td>74967.0</td>\n",
       "      <td>3589.0</td>\n",
       "    </tr>\n",
       "    <tr>\n",
       "      <th>Passager</th>\n",
       "      <td>4135.0</td>\n",
       "      <td>8290.0</td>\n",
       "      <td>9169.0</td>\n",
       "      <td>430.0</td>\n",
       "    </tr>\n",
       "    <tr>\n",
       "      <th>Piéton</th>\n",
       "      <td>2351.0</td>\n",
       "      <td>3064.0</td>\n",
       "      <td>143.0</td>\n",
       "      <td>366.0</td>\n",
       "    </tr>\n",
       "    <tr>\n",
       "      <th>Piéton en roller ou en trottinette</th>\n",
       "      <td>69.0</td>\n",
       "      <td>143.0</td>\n",
       "      <td>4.0</td>\n",
       "      <td>6.0</td>\n",
       "    </tr>\n",
       "  </tbody>\n",
       "</table>\n",
       "</div>"
      ],
      "text/plain": [
       "grav                                      Blessé hospitalisé  Blessé léger  \\\n",
       "sexe  catu                                                                   \n",
       "Femme Conducteur                                      7616.0       19539.0   \n",
       "      Passager                                        5382.0       11731.0   \n",
       "      Piéton                                          2286.0        3398.0   \n",
       "      Piéton en roller ou en trottinette                33.0          50.0   \n",
       "Homme Conducteur                                     26980.0       42746.0   \n",
       "      Passager                                        4135.0        8290.0   \n",
       "      Piéton                                          2351.0        3064.0   \n",
       "      Piéton en roller ou en trottinette                69.0         143.0   \n",
       "\n",
       "grav                                      Indemne     Tué  \n",
       "sexe  catu                                                 \n",
       "Femme Conducteur                          24540.0   654.0  \n",
       "      Passager                             7947.0   468.0  \n",
       "      Piéton                                104.0   192.0  \n",
       "      Piéton en roller ou en trottinette      NaN     NaN  \n",
       "Homme Conducteur                          74967.0  3589.0  \n",
       "      Passager                             9169.0   430.0  \n",
       "      Piéton                                143.0   366.0  \n",
       "      Piéton en roller ou en trottinette      4.0     6.0  "
      ]
     },
     "execution_count": 586,
     "metadata": {},
     "output_type": "execute_result"
    }
   ],
   "source": [
    "df_all[['sexe','catu', 'grav']].groupby(['sexe', 'catu', 'grav']).size().unstack()"
   ]
  },
  {
   "cell_type": "code",
   "execution_count": 608,
   "metadata": {},
   "outputs": [
    {
     "data": {
      "text/plain": [
       "<matplotlib.axes._subplots.AxesSubplot at 0x1ad6707fd0>"
      ]
     },
     "execution_count": 608,
     "metadata": {},
     "output_type": "execute_result"
    },
    {
     "data": {
      "image/png": "[encoded data removed]",
      "text/plain": [
       "<Figure size 864x288 with 1 Axes>"
      ]
     },
     "metadata": {},
     "output_type": "display_data"
    }
   ],
   "source": [
    "df_all[['sexe','catu', 'grav']].groupby(['catu', 'grav','sexe']).size().unstack().plot(kind='bar', stacked=True)"
   ]
  },
  {
   "cell_type": "markdown",
   "metadata": {},
   "source": [
    "### 2.3. Faire des aggrégations avec GroupBy"
   ]
  },
  {
   "cell_type": "markdown",
   "metadata": {},
   "source": [
    "Plusieurs opés d'aggrégation peut être spécifiés avec le groupby (attention: a la fin il faut une ligne par clés du groupby)"
   ]
  },
  {
   "cell_type": "markdown",
   "metadata": {},
   "source": [
    "(transfo en liste de valeurs par valeurs de org par exemple)"
   ]
  },
  {
   "cell_type": "code",
   "execution_count": 617,
   "metadata": {},
   "outputs": [
    {
     "data": {
      "text/html": [
       "<div>\n",
       "<style scoped>\n",
       "    .dataframe tbody tr th:only-of-type {\n",
       "        vertical-align: middle;\n",
       "    }\n",
       "\n",
       "    .dataframe tbody tr th {\n",
       "        vertical-align: top;\n",
       "    }\n",
       "\n",
       "    .dataframe thead tr th {\n",
       "        text-align: left;\n",
       "    }\n",
       "\n",
       "    .dataframe thead tr:last-of-type th {\n",
       "        text-align: right;\n",
       "    }\n",
       "</style>\n",
       "<table border=\"1\" class=\"dataframe\">\n",
       "  <thead>\n",
       "    <tr>\n",
       "      <th></th>\n",
       "      <th>sexe</th>\n",
       "      <th colspan=\"3\" halign=\"left\">occutc</th>\n",
       "    </tr>\n",
       "    <tr>\n",
       "      <th></th>\n",
       "      <th>list</th>\n",
       "      <th>mean</th>\n",
       "      <th>sum</th>\n",
       "      <th>min</th>\n",
       "    </tr>\n",
       "    <tr>\n",
       "      <th>grav</th>\n",
       "      <th></th>\n",
       "      <th></th>\n",
       "      <th></th>\n",
       "      <th></th>\n",
       "    </tr>\n",
       "  </thead>\n",
       "  <tbody>\n",
       "    <tr>\n",
       "      <th>Blessé hospitalisé</th>\n",
       "      <td>[Homme, Femme, Homme, Homme, Femme, Homme, Hom...</td>\n",
       "      <td>0.149042</td>\n",
       "      <td>7281</td>\n",
       "      <td>0</td>\n",
       "    </tr>\n",
       "    <tr>\n",
       "      <th>Blessé léger</th>\n",
       "      <td>[Homme, Homme, Homme, Homme, Homme, Femme, Fem...</td>\n",
       "      <td>0.111959</td>\n",
       "      <td>9960</td>\n",
       "      <td>0</td>\n",
       "    </tr>\n",
       "    <tr>\n",
       "      <th>Indemne</th>\n",
       "      <td>[Homme, Homme, Homme, Homme, Femme, Homme, Hom...</td>\n",
       "      <td>0.217174</td>\n",
       "      <td>25382</td>\n",
       "      <td>0</td>\n",
       "    </tr>\n",
       "    <tr>\n",
       "      <th>Tué</th>\n",
       "      <td>[Homme, Homme, Homme, Homme, Homme, Homme, Fem...</td>\n",
       "      <td>0.397897</td>\n",
       "      <td>2270</td>\n",
       "      <td>0</td>\n",
       "    </tr>\n",
       "  </tbody>\n",
       "</table>\n",
       "</div>"
      ],
      "text/plain": [
       "                                                                 sexe  \\\n",
       "                                                                 list   \n",
       "grav                                                                    \n",
       "Blessé hospitalisé  [Homme, Femme, Homme, Homme, Femme, Homme, Hom...   \n",
       "Blessé léger        [Homme, Homme, Homme, Homme, Homme, Femme, Fem...   \n",
       "Indemne             [Homme, Homme, Homme, Homme, Femme, Homme, Hom...   \n",
       "Tué                 [Homme, Homme, Homme, Homme, Homme, Homme, Fem...   \n",
       "\n",
       "                      occutc             \n",
       "                        mean    sum min  \n",
       "grav                                     \n",
       "Blessé hospitalisé  0.149042   7281   0  \n",
       "Blessé léger        0.111959   9960   0  \n",
       "Indemne             0.217174  25382   0  \n",
       "Tué                 0.397897   2270   0  "
      ]
     },
     "execution_count": 617,
     "metadata": {},
     "output_type": "execute_result"
    }
   ],
   "source": [
    "df_all[['sexe','grav', 'occutc']].groupby(['grav']).agg({'sexe':[list], 'occutc':['mean','sum', 'min']})"
   ]
  },
  {
   "cell_type": "markdown",
   "metadata": {},
   "source": [
    "on peut même faire des fonctions customs! "
   ]
  },
  {
   "cell_type": "code",
   "execution_count": 618,
   "metadata": {},
   "outputs": [],
   "source": [
    "def f(all_values):\n",
    "    # la fonction doit réduire comme dans un map / reduce n'est ce pas !\n",
    "    import numpy as np\n",
    "    return (np.std(all_values)/np.mean(all_values))"
   ]
  },
  {
   "cell_type": "code",
   "execution_count": 619,
   "metadata": {},
   "outputs": [
    {
     "data": {
      "text/html": [
       "<div>\n",
       "<style scoped>\n",
       "    .dataframe tbody tr th:only-of-type {\n",
       "        vertical-align: middle;\n",
       "    }\n",
       "\n",
       "    .dataframe tbody tr th {\n",
       "        vertical-align: top;\n",
       "    }\n",
       "\n",
       "    .dataframe thead th {\n",
       "        text-align: right;\n",
       "    }\n",
       "</style>\n",
       "<table border=\"1\" class=\"dataframe\">\n",
       "  <thead>\n",
       "    <tr style=\"text-align: right;\">\n",
       "      <th></th>\n",
       "      <th>occutc</th>\n",
       "    </tr>\n",
       "    <tr>\n",
       "      <th>grav</th>\n",
       "      <th></th>\n",
       "    </tr>\n",
       "  </thead>\n",
       "  <tbody>\n",
       "    <tr>\n",
       "      <th>Blessé hospitalisé</th>\n",
       "      <td>17.988098</td>\n",
       "    </tr>\n",
       "    <tr>\n",
       "      <th>Blessé léger</th>\n",
       "      <td>20.768508</td>\n",
       "    </tr>\n",
       "    <tr>\n",
       "      <th>Indemne</th>\n",
       "      <td>16.189552</td>\n",
       "    </tr>\n",
       "    <tr>\n",
       "      <th>Tué</th>\n",
       "      <td>17.955592</td>\n",
       "    </tr>\n",
       "  </tbody>\n",
       "</table>\n",
       "</div>"
      ],
      "text/plain": [
       "                       occutc\n",
       "grav                         \n",
       "Blessé hospitalisé  17.988098\n",
       "Blessé léger        20.768508\n",
       "Indemne             16.189552\n",
       "Tué                 17.955592"
      ]
     },
     "execution_count": 619,
     "metadata": {},
     "output_type": "execute_result"
    }
   ],
   "source": [
    "df_all[['sexe','grav', 'occutc']].groupby(['grav']).agg({'occutc':f})"
   ]
  },
  {
   "cell_type": "markdown",
   "metadata": {},
   "source": [
    "### 3.3 Regardons un peu les N/As"
   ]
  },
  {
   "cell_type": "code",
   "execution_count": 622,
   "metadata": {},
   "outputs": [
    {
     "data": {
      "text/html": [
       "<div>\n",
       "<style scoped>\n",
       "    .dataframe tbody tr th:only-of-type {\n",
       "        vertical-align: middle;\n",
       "    }\n",
       "\n",
       "    .dataframe tbody tr th {\n",
       "        vertical-align: top;\n",
       "    }\n",
       "\n",
       "    .dataframe thead th {\n",
       "        text-align: right;\n",
       "    }\n",
       "</style>\n",
       "<table border=\"1\" class=\"dataframe\">\n",
       "  <thead>\n",
       "    <tr style=\"text-align: right;\">\n",
       "      <th></th>\n",
       "      <th>Num_Acc</th>\n",
       "      <th>senc</th>\n",
       "      <th>catv</th>\n",
       "      <th>occutc</th>\n",
       "      <th>obs</th>\n",
       "      <th>obsm</th>\n",
       "      <th>choc</th>\n",
       "      <th>manv</th>\n",
       "      <th>num_veh_x</th>\n",
       "      <th>catr</th>\n",
       "      <th>...</th>\n",
       "      <th>sexe</th>\n",
       "      <th>trajet</th>\n",
       "      <th>secu</th>\n",
       "      <th>locp</th>\n",
       "      <th>actp</th>\n",
       "      <th>etatp</th>\n",
       "      <th>an_nais</th>\n",
       "      <th>num_veh_y</th>\n",
       "      <th>isHomme</th>\n",
       "      <th>isFemme</th>\n",
       "    </tr>\n",
       "  </thead>\n",
       "  <tbody>\n",
       "    <tr>\n",
       "      <th>0</th>\n",
       "      <td>False</td>\n",
       "      <td>False</td>\n",
       "      <td>False</td>\n",
       "      <td>False</td>\n",
       "      <td>False</td>\n",
       "      <td>False</td>\n",
       "      <td>False</td>\n",
       "      <td>False</td>\n",
       "      <td>False</td>\n",
       "      <td>False</td>\n",
       "      <td>...</td>\n",
       "      <td>False</td>\n",
       "      <td>False</td>\n",
       "      <td>False</td>\n",
       "      <td>False</td>\n",
       "      <td>False</td>\n",
       "      <td>False</td>\n",
       "      <td>False</td>\n",
       "      <td>False</td>\n",
       "      <td>False</td>\n",
       "      <td>False</td>\n",
       "    </tr>\n",
       "    <tr>\n",
       "      <th>1</th>\n",
       "      <td>False</td>\n",
       "      <td>False</td>\n",
       "      <td>False</td>\n",
       "      <td>False</td>\n",
       "      <td>False</td>\n",
       "      <td>False</td>\n",
       "      <td>False</td>\n",
       "      <td>False</td>\n",
       "      <td>False</td>\n",
       "      <td>False</td>\n",
       "      <td>...</td>\n",
       "      <td>False</td>\n",
       "      <td>False</td>\n",
       "      <td>False</td>\n",
       "      <td>False</td>\n",
       "      <td>False</td>\n",
       "      <td>False</td>\n",
       "      <td>False</td>\n",
       "      <td>False</td>\n",
       "      <td>False</td>\n",
       "      <td>False</td>\n",
       "    </tr>\n",
       "    <tr>\n",
       "      <th>2</th>\n",
       "      <td>False</td>\n",
       "      <td>False</td>\n",
       "      <td>False</td>\n",
       "      <td>False</td>\n",
       "      <td>False</td>\n",
       "      <td>False</td>\n",
       "      <td>False</td>\n",
       "      <td>False</td>\n",
       "      <td>False</td>\n",
       "      <td>False</td>\n",
       "      <td>...</td>\n",
       "      <td>False</td>\n",
       "      <td>False</td>\n",
       "      <td>False</td>\n",
       "      <td>False</td>\n",
       "      <td>False</td>\n",
       "      <td>False</td>\n",
       "      <td>False</td>\n",
       "      <td>False</td>\n",
       "      <td>False</td>\n",
       "      <td>False</td>\n",
       "    </tr>\n",
       "    <tr>\n",
       "      <th>3</th>\n",
       "      <td>False</td>\n",
       "      <td>False</td>\n",
       "      <td>False</td>\n",
       "      <td>False</td>\n",
       "      <td>False</td>\n",
       "      <td>False</td>\n",
       "      <td>False</td>\n",
       "      <td>False</td>\n",
       "      <td>False</td>\n",
       "      <td>False</td>\n",
       "      <td>...</td>\n",
       "      <td>False</td>\n",
       "      <td>False</td>\n",
       "      <td>False</td>\n",
       "      <td>False</td>\n",
       "      <td>False</td>\n",
       "      <td>False</td>\n",
       "      <td>False</td>\n",
       "      <td>False</td>\n",
       "      <td>False</td>\n",
       "      <td>False</td>\n",
       "    </tr>\n",
       "    <tr>\n",
       "      <th>4</th>\n",
       "      <td>False</td>\n",
       "      <td>False</td>\n",
       "      <td>False</td>\n",
       "      <td>False</td>\n",
       "      <td>False</td>\n",
       "      <td>False</td>\n",
       "      <td>False</td>\n",
       "      <td>False</td>\n",
       "      <td>False</td>\n",
       "      <td>False</td>\n",
       "      <td>...</td>\n",
       "      <td>False</td>\n",
       "      <td>False</td>\n",
       "      <td>False</td>\n",
       "      <td>False</td>\n",
       "      <td>False</td>\n",
       "      <td>False</td>\n",
       "      <td>False</td>\n",
       "      <td>False</td>\n",
       "      <td>False</td>\n",
       "      <td>False</td>\n",
       "    </tr>\n",
       "    <tr>\n",
       "      <th>5</th>\n",
       "      <td>False</td>\n",
       "      <td>False</td>\n",
       "      <td>False</td>\n",
       "      <td>False</td>\n",
       "      <td>False</td>\n",
       "      <td>False</td>\n",
       "      <td>False</td>\n",
       "      <td>False</td>\n",
       "      <td>False</td>\n",
       "      <td>False</td>\n",
       "      <td>...</td>\n",
       "      <td>False</td>\n",
       "      <td>False</td>\n",
       "      <td>False</td>\n",
       "      <td>False</td>\n",
       "      <td>False</td>\n",
       "      <td>False</td>\n",
       "      <td>False</td>\n",
       "      <td>False</td>\n",
       "      <td>False</td>\n",
       "      <td>False</td>\n",
       "    </tr>\n",
       "    <tr>\n",
       "      <th>6</th>\n",
       "      <td>False</td>\n",
       "      <td>False</td>\n",
       "      <td>False</td>\n",
       "      <td>False</td>\n",
       "      <td>False</td>\n",
       "      <td>False</td>\n",
       "      <td>False</td>\n",
       "      <td>False</td>\n",
       "      <td>False</td>\n",
       "      <td>False</td>\n",
       "      <td>...</td>\n",
       "      <td>False</td>\n",
       "      <td>False</td>\n",
       "      <td>False</td>\n",
       "      <td>False</td>\n",
       "      <td>False</td>\n",
       "      <td>False</td>\n",
       "      <td>False</td>\n",
       "      <td>False</td>\n",
       "      <td>False</td>\n",
       "      <td>False</td>\n",
       "    </tr>\n",
       "  </tbody>\n",
       "</table>\n",
       "<p>7 rows × 54 columns</p>\n",
       "</div>"
      ],
      "text/plain": [
       "   Num_Acc   senc   catv  occutc    obs   obsm   choc   manv  num_veh_x  \\\n",
       "0    False  False  False   False  False  False  False  False      False   \n",
       "1    False  False  False   False  False  False  False  False      False   \n",
       "2    False  False  False   False  False  False  False  False      False   \n",
       "3    False  False  False   False  False  False  False  False      False   \n",
       "4    False  False  False   False  False  False  False  False      False   \n",
       "5    False  False  False   False  False  False  False  False      False   \n",
       "6    False  False  False   False  False  False  False  False      False   \n",
       "\n",
       "    catr   ...      sexe  trajet   secu   locp   actp  etatp  an_nais  \\\n",
       "0  False   ...     False   False  False  False  False  False    False   \n",
       "1  False   ...     False   False  False  False  False  False    False   \n",
       "2  False   ...     False   False  False  False  False  False    False   \n",
       "3  False   ...     False   False  False  False  False  False    False   \n",
       "4  False   ...     False   False  False  False  False  False    False   \n",
       "5  False   ...     False   False  False  False  False  False    False   \n",
       "6  False   ...     False   False  False  False  False  False    False   \n",
       "\n",
       "   num_veh_y  isHomme  isFemme  \n",
       "0      False    False    False  \n",
       "1      False    False    False  \n",
       "2      False    False    False  \n",
       "3      False    False    False  \n",
       "4      False    False    False  \n",
       "5      False    False    False  \n",
       "6      False    False    False  \n",
       "\n",
       "[7 rows x 54 columns]"
      ]
     },
     "execution_count": 622,
     "metadata": {},
     "output_type": "execute_result"
    }
   ],
   "source": [
    "df_all.isna().head(7)"
   ]
  },
  {
   "cell_type": "code",
   "execution_count": 623,
   "metadata": {},
   "outputs": [],
   "source": [
    "import seaborn as sns"
   ]
  },
  {
   "cell_type": "code",
   "execution_count": 624,
   "metadata": {},
   "outputs": [
    {
     "data": {
      "text/plain": [
       "<matplotlib.axes._subplots.AxesSubplot at 0x1ae6bc5be0>"
      ]
     },
     "execution_count": 624,
     "metadata": {},
     "output_type": "execute_result"
    },
    {
     "data": {
      "image/png": "[encoded data removed]",
      "text/plain": [
       "<Figure size 864x288 with 2 Axes>"
      ]
     },
     "metadata": {},
     "output_type": "display_data"
    }
   ],
   "source": [
    "sns.heatmap(df_all.isna())"
   ]
  },
  {
   "cell_type": "markdown",
   "metadata": {},
   "source": [
    "# Fin"
   ]
  }
 ],
 "metadata": {
  "kernelspec": {
   "display_name": "Python 3",
   "language": "python",
   "name": "python3"
  },
  "language_info": {
   "codemirror_mode": {
    "name": "ipython",
    "version": 3
   },
   "file_extension": ".py",
   "mimetype": "text/x-python",
   "name": "python",
   "nbconvert_exporter": "python",
   "pygments_lexer": "ipython3",
   "version": "3.6.5"
  }
 },
 "nbformat": 4,
 "nbformat_minor": 2
}
