{
 "cells": [
  {
   "cell_type": "code",
   "execution_count": 43,
   "metadata": {},
   "outputs": [],
   "source": [
    "import github_command as gitcmd"
   ]
  },
  {
   "cell_type": "code",
   "execution_count": 45,
   "metadata": {},
   "outputs": [],
   "source": [
    "gitcmd.push(file_to_transfer='TD3_PlayingWithPandas.ipynb',\n",
    "            message = 'TD3 Ajouts',\n",
    "            repos = 'TDs_ESILV')"
   ]
  },
  {
   "cell_type": "code",
   "execution_count": 3,
   "metadata": {},
   "outputs": [],
   "source": [
    "#files_to_push = ['TD3_PlayingWithPandas.ipynb', 'data', 'chromedriver']\n",
    "#commits       = ['Jupyter Notebook', 'Where scrapped images are', 'Chromedriver is used here by Selenium']\n",
    "#gitcmd.push_multiple_files(files_to_push, commits, 'TDs_ESILV.git')"
   ]
  },
  {
   "cell_type": "markdown",
   "metadata": {},
   "source": [
    "## 0) Téléchargement de la base"
   ]
  },
  {
   "cell_type": "code",
   "execution_count": 4,
   "metadata": {},
   "outputs": [],
   "source": [
    "url = \"https://www.data.gouv.fr/fr/datasets/r/6aad6dbd-5da0-4815-8e68-39e950cec49e\""
   ]
  },
  {
   "cell_type": "code",
   "execution_count": 5,
   "metadata": {},
   "outputs": [],
   "source": [
    "import requests as req"
   ]
  },
  {
   "cell_type": "code",
   "execution_count": 15,
   "metadata": {},
   "outputs": [],
   "source": [
    "reponse = req.get(url)"
   ]
  },
  {
   "cell_type": "code",
   "execution_count": 17,
   "metadata": {},
   "outputs": [
    {
     "name": "stdout",
     "output_type": "stream",
     "text": [
      "Collecting wget\n",
      "  Downloading https://files.pythonhosted.org/packages/47/6a/62e288da7bcda82b935ff0c6cfe542970f04e29c756b0e147251b2fb251f/wget-3.2.zip\n",
      "Building wheels for collected packages: wget\n",
      "  Building wheel for wget (setup.py) ... \u001b[?25ldone\n",
      "\u001b[?25h  Created wheel for wget: filename=wget-3.2-cp36-none-any.whl size=9688 sha256=67d729e1c2be0e6336728a51c60c5fe9ca4b09de454cc390b2ae9758a05c71e4\n",
      "  Stored in directory: /Users/lucbertin/Library/Caches/pip/wheels/40/15/30/7d8f7cea2902b4db79e3fea550d7d7b85ecb27ef992b618f3f\n",
      "Successfully built wget\n",
      "Installing collected packages: wget\n",
      "Successfully installed wget-3.2\n"
     ]
    }
   ],
   "source": [
    "!pip install wget"
   ]
  },
  {
   "cell_type": "code",
   "execution_count": 18,
   "metadata": {},
   "outputs": [],
   "source": [
    "import wget"
   ]
  },
  {
   "cell_type": "code",
   "execution_count": 21,
   "metadata": {},
   "outputs": [
    {
     "data": {
      "text/plain": [
       "'accidents.zip'"
      ]
     },
     "execution_count": 21,
     "metadata": {},
     "output_type": "execute_result"
    }
   ],
   "source": [
    "wget.download(url, out=\"accidents.zip\")"
   ]
  },
  {
   "cell_type": "code",
   "execution_count": 22,
   "metadata": {},
   "outputs": [
    {
     "name": "stdout",
     "output_type": "stream",
     "text": [
      "Archive:  accidents.zip\n",
      "  inflating: accidents_insee.csv     \n"
     ]
    }
   ],
   "source": [
    "!unzip accidents.zip"
   ]
  },
  {
   "cell_type": "code",
   "execution_count": 28,
   "metadata": {},
   "outputs": [
    {
     "name": "stdout",
     "output_type": "stream",
     "text": [
      "\"org\";\"lum\";\"agg\";\"int\";\"atm\";\"col\";\"com\";\"dep\";\"catr\";\"infra\";\"voie\";\"v1\";\"v2\";\"circ\";\"nbv\";\"pr\";\"pr1\";\"vosp\";\"prof\";\"plan\";\"situ\";\"ttue\";\"tbg\";\"tbl\";\"tindm\";\"typenumero\";\"numero\";\"distancemetre\";\"libellevoie\";\"coderivoli\";\"grav\";\"gps\";\"lat\";\"long\";\"adr\";\"numac\";\"codeinsee\";\"geoflamatch\";\"nbimplique\"\r\n",
      "1;1;1;1;1;3;\"305\";\"973\";;;\"\";\"\";\"\";;;\"\";\"\";;;;;0;1;0;1;;\"\";\"\";\"\";\"\";10.8;\"G\";\"0000000\";\"0000000\";\"\";\"382566\";\"97305\";\"N\";2\r\n"
     ]
    }
   ],
   "source": [
    "!head -n 2 accidents_insee.csv"
   ]
  },
  {
   "cell_type": "markdown",
   "metadata": {},
   "source": [
    "## 1) Ouverture du CSV "
   ]
  },
  {
   "cell_type": "code",
   "execution_count": 1,
   "metadata": {},
   "outputs": [],
   "source": [
    "import pandas as pd"
   ]
  },
  {
   "cell_type": "code",
   "execution_count": 2,
   "metadata": {},
   "outputs": [
    {
     "name": "stderr",
     "output_type": "stream",
     "text": [
      "/Users/lucbertin/anaconda3/lib/python3.6/site-packages/IPython/core/interactiveshell.py:2785: DtypeWarning: Columns (15,29,31,33,36) have mixed types. Specify dtype option on import or set low_memory=False.\n",
      "  interactivity=interactivity, compiler=compiler, result=result)\n"
     ]
    }
   ],
   "source": [
    "df = pd.read_csv(\"accidents_insee.csv\", sep=';')"
   ]
  },
  {
   "cell_type": "markdown",
   "metadata": {},
   "source": [
    "Mieux: bien regarder l'encoding du dataset vis à vis de l'encoding de python (utf-8)"
   ]
  },
  {
   "cell_type": "markdown",
   "metadata": {},
   "source": [
    "### 1.0 des infos sur le dataset"
   ]
  },
  {
   "cell_type": "code",
   "execution_count": 50,
   "metadata": {},
   "outputs": [
    {
     "data": {
      "text/plain": [
       "(454372, 39)"
      ]
     },
     "execution_count": 50,
     "metadata": {},
     "output_type": "execute_result"
    }
   ],
   "source": [
    "df.shape"
   ]
  },
  {
   "cell_type": "code",
   "execution_count": 53,
   "metadata": {},
   "outputs": [
    {
     "data": {
      "text/html": [
       "<div>\n",
       "<style scoped>\n",
       "    .dataframe tbody tr th:only-of-type {\n",
       "        vertical-align: middle;\n",
       "    }\n",
       "\n",
       "    .dataframe tbody tr th {\n",
       "        vertical-align: top;\n",
       "    }\n",
       "\n",
       "    .dataframe thead th {\n",
       "        text-align: right;\n",
       "    }\n",
       "</style>\n",
       "<table border=\"1\" class=\"dataframe\">\n",
       "  <thead>\n",
       "    <tr style=\"text-align: right;\">\n",
       "      <th></th>\n",
       "      <th>0</th>\n",
       "      <th>1</th>\n",
       "      <th>2</th>\n",
       "      <th>3</th>\n",
       "      <th>4</th>\n",
       "    </tr>\n",
       "  </thead>\n",
       "  <tbody>\n",
       "    <tr>\n",
       "      <th>org</th>\n",
       "      <td>1</td>\n",
       "      <td>1</td>\n",
       "      <td>1</td>\n",
       "      <td>1</td>\n",
       "      <td>1</td>\n",
       "    </tr>\n",
       "    <tr>\n",
       "      <th>lum</th>\n",
       "      <td>1</td>\n",
       "      <td>1</td>\n",
       "      <td>1</td>\n",
       "      <td>1</td>\n",
       "      <td>1</td>\n",
       "    </tr>\n",
       "    <tr>\n",
       "      <th>agg</th>\n",
       "      <td>1</td>\n",
       "      <td>5</td>\n",
       "      <td>5</td>\n",
       "      <td>5</td>\n",
       "      <td>4</td>\n",
       "    </tr>\n",
       "    <tr>\n",
       "      <th>int</th>\n",
       "      <td>1</td>\n",
       "      <td>1</td>\n",
       "      <td>1</td>\n",
       "      <td>1</td>\n",
       "      <td>1</td>\n",
       "    </tr>\n",
       "    <tr>\n",
       "      <th>atm</th>\n",
       "      <td>1</td>\n",
       "      <td>1</td>\n",
       "      <td>1</td>\n",
       "      <td>1</td>\n",
       "      <td>1</td>\n",
       "    </tr>\n",
       "    <tr>\n",
       "      <th>col</th>\n",
       "      <td>3</td>\n",
       "      <td>3</td>\n",
       "      <td>3</td>\n",
       "      <td>3</td>\n",
       "      <td>2</td>\n",
       "    </tr>\n",
       "    <tr>\n",
       "      <th>com</th>\n",
       "      <td>305</td>\n",
       "      <td>311</td>\n",
       "      <td>309</td>\n",
       "      <td>304</td>\n",
       "      <td>312</td>\n",
       "    </tr>\n",
       "    <tr>\n",
       "      <th>dep</th>\n",
       "      <td>973</td>\n",
       "      <td>973</td>\n",
       "      <td>973</td>\n",
       "      <td>973</td>\n",
       "      <td>973</td>\n",
       "    </tr>\n",
       "    <tr>\n",
       "      <th>catr</th>\n",
       "      <td>NaN</td>\n",
       "      <td>NaN</td>\n",
       "      <td>NaN</td>\n",
       "      <td>NaN</td>\n",
       "      <td>NaN</td>\n",
       "    </tr>\n",
       "    <tr>\n",
       "      <th>infra</th>\n",
       "      <td>NaN</td>\n",
       "      <td>NaN</td>\n",
       "      <td>NaN</td>\n",
       "      <td>NaN</td>\n",
       "      <td>NaN</td>\n",
       "    </tr>\n",
       "    <tr>\n",
       "      <th>voie</th>\n",
       "      <td>NaN</td>\n",
       "      <td>NaN</td>\n",
       "      <td>NaN</td>\n",
       "      <td>NaN</td>\n",
       "      <td>NaN</td>\n",
       "    </tr>\n",
       "    <tr>\n",
       "      <th>v1</th>\n",
       "      <td>NaN</td>\n",
       "      <td>NaN</td>\n",
       "      <td>NaN</td>\n",
       "      <td>NaN</td>\n",
       "      <td>NaN</td>\n",
       "    </tr>\n",
       "    <tr>\n",
       "      <th>v2</th>\n",
       "      <td>NaN</td>\n",
       "      <td>NaN</td>\n",
       "      <td>NaN</td>\n",
       "      <td>NaN</td>\n",
       "      <td>NaN</td>\n",
       "    </tr>\n",
       "    <tr>\n",
       "      <th>circ</th>\n",
       "      <td>NaN</td>\n",
       "      <td>NaN</td>\n",
       "      <td>NaN</td>\n",
       "      <td>NaN</td>\n",
       "      <td>NaN</td>\n",
       "    </tr>\n",
       "    <tr>\n",
       "      <th>nbv</th>\n",
       "      <td>NaN</td>\n",
       "      <td>NaN</td>\n",
       "      <td>NaN</td>\n",
       "      <td>NaN</td>\n",
       "      <td>NaN</td>\n",
       "    </tr>\n",
       "    <tr>\n",
       "      <th>pr</th>\n",
       "      <td>NaN</td>\n",
       "      <td>NaN</td>\n",
       "      <td>NaN</td>\n",
       "      <td>NaN</td>\n",
       "      <td>NaN</td>\n",
       "    </tr>\n",
       "    <tr>\n",
       "      <th>pr1</th>\n",
       "      <td>NaN</td>\n",
       "      <td>NaN</td>\n",
       "      <td>NaN</td>\n",
       "      <td>NaN</td>\n",
       "      <td>NaN</td>\n",
       "    </tr>\n",
       "    <tr>\n",
       "      <th>vosp</th>\n",
       "      <td>NaN</td>\n",
       "      <td>NaN</td>\n",
       "      <td>NaN</td>\n",
       "      <td>NaN</td>\n",
       "      <td>NaN</td>\n",
       "    </tr>\n",
       "    <tr>\n",
       "      <th>prof</th>\n",
       "      <td>NaN</td>\n",
       "      <td>NaN</td>\n",
       "      <td>NaN</td>\n",
       "      <td>NaN</td>\n",
       "      <td>NaN</td>\n",
       "    </tr>\n",
       "    <tr>\n",
       "      <th>plan</th>\n",
       "      <td>NaN</td>\n",
       "      <td>NaN</td>\n",
       "      <td>NaN</td>\n",
       "      <td>NaN</td>\n",
       "      <td>NaN</td>\n",
       "    </tr>\n",
       "    <tr>\n",
       "      <th>situ</th>\n",
       "      <td>NaN</td>\n",
       "      <td>NaN</td>\n",
       "      <td>NaN</td>\n",
       "      <td>NaN</td>\n",
       "      <td>NaN</td>\n",
       "    </tr>\n",
       "    <tr>\n",
       "      <th>ttue</th>\n",
       "      <td>0</td>\n",
       "      <td>0</td>\n",
       "      <td>0</td>\n",
       "      <td>0</td>\n",
       "      <td>0</td>\n",
       "    </tr>\n",
       "    <tr>\n",
       "      <th>tbg</th>\n",
       "      <td>1</td>\n",
       "      <td>1</td>\n",
       "      <td>1</td>\n",
       "      <td>1</td>\n",
       "      <td>1</td>\n",
       "    </tr>\n",
       "    <tr>\n",
       "      <th>tbl</th>\n",
       "      <td>0</td>\n",
       "      <td>0</td>\n",
       "      <td>0</td>\n",
       "      <td>0</td>\n",
       "      <td>0</td>\n",
       "    </tr>\n",
       "    <tr>\n",
       "      <th>tindm</th>\n",
       "      <td>1</td>\n",
       "      <td>2</td>\n",
       "      <td>1</td>\n",
       "      <td>4</td>\n",
       "      <td>1</td>\n",
       "    </tr>\n",
       "    <tr>\n",
       "      <th>typenumero</th>\n",
       "      <td>NaN</td>\n",
       "      <td>NaN</td>\n",
       "      <td>NaN</td>\n",
       "      <td>NaN</td>\n",
       "      <td>NaN</td>\n",
       "    </tr>\n",
       "    <tr>\n",
       "      <th>numero</th>\n",
       "      <td>NaN</td>\n",
       "      <td>NaN</td>\n",
       "      <td>NaN</td>\n",
       "      <td>NaN</td>\n",
       "      <td>NaN</td>\n",
       "    </tr>\n",
       "    <tr>\n",
       "      <th>distancemetre</th>\n",
       "      <td>NaN</td>\n",
       "      <td>NaN</td>\n",
       "      <td>NaN</td>\n",
       "      <td>NaN</td>\n",
       "      <td>NaN</td>\n",
       "    </tr>\n",
       "    <tr>\n",
       "      <th>libellevoie</th>\n",
       "      <td>NaN</td>\n",
       "      <td>NaN</td>\n",
       "      <td>NaN</td>\n",
       "      <td>NaN</td>\n",
       "      <td>NaN</td>\n",
       "    </tr>\n",
       "    <tr>\n",
       "      <th>coderivoli</th>\n",
       "      <td>NaN</td>\n",
       "      <td>NaN</td>\n",
       "      <td>NaN</td>\n",
       "      <td>NaN</td>\n",
       "      <td>NaN</td>\n",
       "    </tr>\n",
       "    <tr>\n",
       "      <th>grav</th>\n",
       "      <td>10.8</td>\n",
       "      <td>10.8</td>\n",
       "      <td>10.8</td>\n",
       "      <td>10.8</td>\n",
       "      <td>10.8</td>\n",
       "    </tr>\n",
       "    <tr>\n",
       "      <th>gps</th>\n",
       "      <td>G</td>\n",
       "      <td>G</td>\n",
       "      <td>G</td>\n",
       "      <td>G</td>\n",
       "      <td>G</td>\n",
       "    </tr>\n",
       "    <tr>\n",
       "      <th>lat</th>\n",
       "      <td>0</td>\n",
       "      <td>0</td>\n",
       "      <td>0</td>\n",
       "      <td>0</td>\n",
       "      <td>0</td>\n",
       "    </tr>\n",
       "    <tr>\n",
       "      <th>long</th>\n",
       "      <td>0</td>\n",
       "      <td>0</td>\n",
       "      <td>0</td>\n",
       "      <td>0</td>\n",
       "      <td>0</td>\n",
       "    </tr>\n",
       "    <tr>\n",
       "      <th>adr</th>\n",
       "      <td>NaN</td>\n",
       "      <td>13 Rue H. RIVIEREZ</td>\n",
       "      <td>PK7, route de Montjoly</td>\n",
       "      <td>rue Duchesne</td>\n",
       "      <td>ancienne RN1</td>\n",
       "    </tr>\n",
       "    <tr>\n",
       "      <th>numac</th>\n",
       "      <td>382566</td>\n",
       "      <td>382567</td>\n",
       "      <td>382568</td>\n",
       "      <td>382569</td>\n",
       "      <td>382570</td>\n",
       "    </tr>\n",
       "    <tr>\n",
       "      <th>codeinsee</th>\n",
       "      <td>97305</td>\n",
       "      <td>97311</td>\n",
       "      <td>97309</td>\n",
       "      <td>97304</td>\n",
       "      <td>97312</td>\n",
       "    </tr>\n",
       "    <tr>\n",
       "      <th>geoflamatch</th>\n",
       "      <td>N</td>\n",
       "      <td>N</td>\n",
       "      <td>N</td>\n",
       "      <td>N</td>\n",
       "      <td>N</td>\n",
       "    </tr>\n",
       "    <tr>\n",
       "      <th>nbimplique</th>\n",
       "      <td>2</td>\n",
       "      <td>3</td>\n",
       "      <td>2</td>\n",
       "      <td>5</td>\n",
       "      <td>2</td>\n",
       "    </tr>\n",
       "  </tbody>\n",
       "</table>\n",
       "</div>"
      ],
      "text/plain": [
       "                    0                   1                       2  \\\n",
       "org                 1                   1                       1   \n",
       "lum                 1                   1                       1   \n",
       "agg                 1                   5                       5   \n",
       "int                 1                   1                       1   \n",
       "atm                 1                   1                       1   \n",
       "col                 3                   3                       3   \n",
       "com               305                 311                     309   \n",
       "dep               973                 973                     973   \n",
       "catr              NaN                 NaN                     NaN   \n",
       "infra             NaN                 NaN                     NaN   \n",
       "voie              NaN                 NaN                     NaN   \n",
       "v1                NaN                 NaN                     NaN   \n",
       "v2                NaN                 NaN                     NaN   \n",
       "circ              NaN                 NaN                     NaN   \n",
       "nbv               NaN                 NaN                     NaN   \n",
       "pr                NaN                 NaN                     NaN   \n",
       "pr1               NaN                 NaN                     NaN   \n",
       "vosp              NaN                 NaN                     NaN   \n",
       "prof              NaN                 NaN                     NaN   \n",
       "plan              NaN                 NaN                     NaN   \n",
       "situ              NaN                 NaN                     NaN   \n",
       "ttue                0                   0                       0   \n",
       "tbg                 1                   1                       1   \n",
       "tbl                 0                   0                       0   \n",
       "tindm               1                   2                       1   \n",
       "typenumero        NaN                 NaN                     NaN   \n",
       "numero            NaN                 NaN                     NaN   \n",
       "distancemetre     NaN                 NaN                     NaN   \n",
       "libellevoie       NaN                 NaN                     NaN   \n",
       "coderivoli        NaN                 NaN                     NaN   \n",
       "grav             10.8                10.8                    10.8   \n",
       "gps                 G                   G                       G   \n",
       "lat                 0                   0                       0   \n",
       "long                0                   0                       0   \n",
       "adr               NaN  13 Rue H. RIVIEREZ  PK7, route de Montjoly   \n",
       "numac          382566              382567                  382568   \n",
       "codeinsee       97305               97311                   97309   \n",
       "geoflamatch         N                   N                       N   \n",
       "nbimplique          2                   3                       2   \n",
       "\n",
       "                          3             4  \n",
       "org                       1             1  \n",
       "lum                       1             1  \n",
       "agg                       5             4  \n",
       "int                       1             1  \n",
       "atm                       1             1  \n",
       "col                       3             2  \n",
       "com                     304           312  \n",
       "dep                     973           973  \n",
       "catr                    NaN           NaN  \n",
       "infra                   NaN           NaN  \n",
       "voie                    NaN           NaN  \n",
       "v1                      NaN           NaN  \n",
       "v2                      NaN           NaN  \n",
       "circ                    NaN           NaN  \n",
       "nbv                     NaN           NaN  \n",
       "pr                      NaN           NaN  \n",
       "pr1                     NaN           NaN  \n",
       "vosp                    NaN           NaN  \n",
       "prof                    NaN           NaN  \n",
       "plan                    NaN           NaN  \n",
       "situ                    NaN           NaN  \n",
       "ttue                      0             0  \n",
       "tbg                       1             1  \n",
       "tbl                       0             0  \n",
       "tindm                     4             1  \n",
       "typenumero              NaN           NaN  \n",
       "numero                  NaN           NaN  \n",
       "distancemetre           NaN           NaN  \n",
       "libellevoie             NaN           NaN  \n",
       "coderivoli              NaN           NaN  \n",
       "grav                   10.8          10.8  \n",
       "gps                       G             G  \n",
       "lat                       0             0  \n",
       "long                      0             0  \n",
       "adr            rue Duchesne  ancienne RN1  \n",
       "numac                382569        382570  \n",
       "codeinsee             97304         97312  \n",
       "geoflamatch               N             N  \n",
       "nbimplique                5             2  "
      ]
     },
     "execution_count": 53,
     "metadata": {},
     "output_type": "execute_result"
    }
   ],
   "source": [
    "df.head(5).T"
   ]
  },
  {
   "cell_type": "code",
   "execution_count": 54,
   "metadata": {},
   "outputs": [
    {
     "data": {
      "text/html": [
       "<div>\n",
       "<style scoped>\n",
       "    .dataframe tbody tr th:only-of-type {\n",
       "        vertical-align: middle;\n",
       "    }\n",
       "\n",
       "    .dataframe tbody tr th {\n",
       "        vertical-align: top;\n",
       "    }\n",
       "\n",
       "    .dataframe thead th {\n",
       "        text-align: right;\n",
       "    }\n",
       "</style>\n",
       "<table border=\"1\" class=\"dataframe\">\n",
       "  <thead>\n",
       "    <tr style=\"text-align: right;\">\n",
       "      <th></th>\n",
       "      <th>org</th>\n",
       "      <th>lum</th>\n",
       "      <th>agg</th>\n",
       "      <th>int</th>\n",
       "      <th>atm</th>\n",
       "      <th>col</th>\n",
       "      <th>com</th>\n",
       "      <th>dep</th>\n",
       "      <th>catr</th>\n",
       "      <th>infra</th>\n",
       "      <th>...</th>\n",
       "      <th>tbg</th>\n",
       "      <th>tbl</th>\n",
       "      <th>tindm</th>\n",
       "      <th>typenumero</th>\n",
       "      <th>numero</th>\n",
       "      <th>distancemetre</th>\n",
       "      <th>grav</th>\n",
       "      <th>lat</th>\n",
       "      <th>numac</th>\n",
       "      <th>nbimplique</th>\n",
       "    </tr>\n",
       "  </thead>\n",
       "  <tbody>\n",
       "    <tr>\n",
       "      <th>count</th>\n",
       "      <td>454372.000000</td>\n",
       "      <td>454372.000000</td>\n",
       "      <td>454372.000000</td>\n",
       "      <td>454372.000000</td>\n",
       "      <td>454349.000000</td>\n",
       "      <td>454363.000000</td>\n",
       "      <td>454372.000000</td>\n",
       "      <td>454372.000000</td>\n",
       "      <td>440695.000000</td>\n",
       "      <td>440347.000000</td>\n",
       "      <td>...</td>\n",
       "      <td>454372.000000</td>\n",
       "      <td>454372.000000</td>\n",
       "      <td>454372.000000</td>\n",
       "      <td>324314.000000</td>\n",
       "      <td>2.055230e+05</td>\n",
       "      <td>322016.000000</td>\n",
       "      <td>454372.000000</td>\n",
       "      <td>1.659330e+05</td>\n",
       "      <td>454372.000000</td>\n",
       "      <td>454372.000000</td>\n",
       "    </tr>\n",
       "    <tr>\n",
       "      <th>mean</th>\n",
       "      <td>3.487510</td>\n",
       "      <td>1.916828</td>\n",
       "      <td>4.966615</td>\n",
       "      <td>1.673378</td>\n",
       "      <td>1.545123</td>\n",
       "      <td>4.192520</td>\n",
       "      <td>188.051440</td>\n",
       "      <td>560.217645</td>\n",
       "      <td>3.456849</td>\n",
       "      <td>0.451814</td>\n",
       "      <td>...</td>\n",
       "      <td>0.471596</td>\n",
       "      <td>0.792461</td>\n",
       "      <td>0.910923</td>\n",
       "      <td>1.336498</td>\n",
       "      <td>3.892508e+275</td>\n",
       "      <td>0.596424</td>\n",
       "      <td>11.365038</td>\n",
       "      <td>1.163120e+75</td>\n",
       "      <td>227186.500000</td>\n",
       "      <td>2.234290</td>\n",
       "    </tr>\n",
       "    <tr>\n",
       "      <th>std</th>\n",
       "      <td>1.795572</td>\n",
       "      <td>1.524197</td>\n",
       "      <td>3.069634</td>\n",
       "      <td>1.485990</td>\n",
       "      <td>1.593388</td>\n",
       "      <td>1.977477</td>\n",
       "      <td>172.584147</td>\n",
       "      <td>289.326704</td>\n",
       "      <td>1.225236</td>\n",
       "      <td>1.370732</td>\n",
       "      <td>...</td>\n",
       "      <td>0.682383</td>\n",
       "      <td>0.808042</td>\n",
       "      <td>0.908218</td>\n",
       "      <td>1.987186</td>\n",
       "      <td>inf</td>\n",
       "      <td>16.542833</td>\n",
       "      <td>27.062357</td>\n",
       "      <td>4.737955e+77</td>\n",
       "      <td>131166.042593</td>\n",
       "      <td>1.183179</td>\n",
       "    </tr>\n",
       "    <tr>\n",
       "      <th>min</th>\n",
       "      <td>1.000000</td>\n",
       "      <td>1.000000</td>\n",
       "      <td>1.000000</td>\n",
       "      <td>0.000000</td>\n",
       "      <td>1.000000</td>\n",
       "      <td>1.000000</td>\n",
       "      <td>1.000000</td>\n",
       "      <td>10.000000</td>\n",
       "      <td>1.000000</td>\n",
       "      <td>0.000000</td>\n",
       "      <td>...</td>\n",
       "      <td>0.000000</td>\n",
       "      <td>0.000000</td>\n",
       "      <td>0.000000</td>\n",
       "      <td>0.000000</td>\n",
       "      <td>-1.439300e+04</td>\n",
       "      <td>-159.000000</td>\n",
       "      <td>0.430000</td>\n",
       "      <td>-4.000000e+05</td>\n",
       "      <td>1.000000</td>\n",
       "      <td>1.000000</td>\n",
       "    </tr>\n",
       "    <tr>\n",
       "      <th>25%</th>\n",
       "      <td>1.000000</td>\n",
       "      <td>1.000000</td>\n",
       "      <td>1.000000</td>\n",
       "      <td>1.000000</td>\n",
       "      <td>1.000000</td>\n",
       "      <td>3.000000</td>\n",
       "      <td>55.000000</td>\n",
       "      <td>310.000000</td>\n",
       "      <td>3.000000</td>\n",
       "      <td>0.000000</td>\n",
       "      <td>...</td>\n",
       "      <td>0.000000</td>\n",
       "      <td>0.000000</td>\n",
       "      <td>0.000000</td>\n",
       "      <td>1.000000</td>\n",
       "      <td>0.000000e+00</td>\n",
       "      <td>0.000000</td>\n",
       "      <td>0.430000</td>\n",
       "      <td>0.000000e+00</td>\n",
       "      <td>113593.750000</td>\n",
       "      <td>2.000000</td>\n",
       "    </tr>\n",
       "    <tr>\n",
       "      <th>50%</th>\n",
       "      <td>5.000000</td>\n",
       "      <td>1.000000</td>\n",
       "      <td>6.000000</td>\n",
       "      <td>1.000000</td>\n",
       "      <td>1.000000</td>\n",
       "      <td>3.000000</td>\n",
       "      <td>119.000000</td>\n",
       "      <td>620.000000</td>\n",
       "      <td>4.000000</td>\n",
       "      <td>0.000000</td>\n",
       "      <td>...</td>\n",
       "      <td>0.000000</td>\n",
       "      <td>1.000000</td>\n",
       "      <td>1.000000</td>\n",
       "      <td>1.000000</td>\n",
       "      <td>9.000000e+00</td>\n",
       "      <td>0.000000</td>\n",
       "      <td>0.860000</td>\n",
       "      <td>4.382029e+06</td>\n",
       "      <td>227186.500000</td>\n",
       "      <td>2.000000</td>\n",
       "    </tr>\n",
       "    <tr>\n",
       "      <th>75%</th>\n",
       "      <td>5.000000</td>\n",
       "      <td>3.000000</td>\n",
       "      <td>8.000000</td>\n",
       "      <td>2.000000</td>\n",
       "      <td>1.000000</td>\n",
       "      <td>6.000000</td>\n",
       "      <td>279.000000</td>\n",
       "      <td>780.000000</td>\n",
       "      <td>4.000000</td>\n",
       "      <td>0.000000</td>\n",
       "      <td>...</td>\n",
       "      <td>1.000000</td>\n",
       "      <td>1.000000</td>\n",
       "      <td>1.000000</td>\n",
       "      <td>1.000000</td>\n",
       "      <td>6.100000e+01</td>\n",
       "      <td>0.000000</td>\n",
       "      <td>10.800000</td>\n",
       "      <td>4.800710e+06</td>\n",
       "      <td>340779.250000</td>\n",
       "      <td>2.000000</td>\n",
       "    </tr>\n",
       "    <tr>\n",
       "      <th>max</th>\n",
       "      <td>5.000000</td>\n",
       "      <td>5.000000</td>\n",
       "      <td>9.000000</td>\n",
       "      <td>9.000000</td>\n",
       "      <td>9.000000</td>\n",
       "      <td>7.000000</td>\n",
       "      <td>987.000000</td>\n",
       "      <td>974.000000</td>\n",
       "      <td>9.000000</td>\n",
       "      <td>7.000000</td>\n",
       "      <td>...</td>\n",
       "      <td>42.000000</td>\n",
       "      <td>53.000000</td>\n",
       "      <td>71.000000</td>\n",
       "      <td>9.000000</td>\n",
       "      <td>8.000000e+280</td>\n",
       "      <td>4102.000000</td>\n",
       "      <td>2859.200000</td>\n",
       "      <td>1.930000e+80</td>\n",
       "      <td>454372.000000</td>\n",
       "      <td>86.000000</td>\n",
       "    </tr>\n",
       "  </tbody>\n",
       "</table>\n",
       "<p>8 rows × 30 columns</p>\n",
       "</div>"
      ],
      "text/plain": [
       "                 org            lum            agg            int  \\\n",
       "count  454372.000000  454372.000000  454372.000000  454372.000000   \n",
       "mean        3.487510       1.916828       4.966615       1.673378   \n",
       "std         1.795572       1.524197       3.069634       1.485990   \n",
       "min         1.000000       1.000000       1.000000       0.000000   \n",
       "25%         1.000000       1.000000       1.000000       1.000000   \n",
       "50%         5.000000       1.000000       6.000000       1.000000   \n",
       "75%         5.000000       3.000000       8.000000       2.000000   \n",
       "max         5.000000       5.000000       9.000000       9.000000   \n",
       "\n",
       "                 atm            col            com            dep  \\\n",
       "count  454349.000000  454363.000000  454372.000000  454372.000000   \n",
       "mean        1.545123       4.192520     188.051440     560.217645   \n",
       "std         1.593388       1.977477     172.584147     289.326704   \n",
       "min         1.000000       1.000000       1.000000      10.000000   \n",
       "25%         1.000000       3.000000      55.000000     310.000000   \n",
       "50%         1.000000       3.000000     119.000000     620.000000   \n",
       "75%         1.000000       6.000000     279.000000     780.000000   \n",
       "max         9.000000       7.000000     987.000000     974.000000   \n",
       "\n",
       "                catr          infra      ...                  tbg  \\\n",
       "count  440695.000000  440347.000000      ...        454372.000000   \n",
       "mean        3.456849       0.451814      ...             0.471596   \n",
       "std         1.225236       1.370732      ...             0.682383   \n",
       "min         1.000000       0.000000      ...             0.000000   \n",
       "25%         3.000000       0.000000      ...             0.000000   \n",
       "50%         4.000000       0.000000      ...             0.000000   \n",
       "75%         4.000000       0.000000      ...             1.000000   \n",
       "max         9.000000       7.000000      ...            42.000000   \n",
       "\n",
       "                 tbl          tindm     typenumero         numero  \\\n",
       "count  454372.000000  454372.000000  324314.000000   2.055230e+05   \n",
       "mean        0.792461       0.910923       1.336498  3.892508e+275   \n",
       "std         0.808042       0.908218       1.987186            inf   \n",
       "min         0.000000       0.000000       0.000000  -1.439300e+04   \n",
       "25%         0.000000       0.000000       1.000000   0.000000e+00   \n",
       "50%         1.000000       1.000000       1.000000   9.000000e+00   \n",
       "75%         1.000000       1.000000       1.000000   6.100000e+01   \n",
       "max        53.000000      71.000000       9.000000  8.000000e+280   \n",
       "\n",
       "       distancemetre           grav           lat          numac  \\\n",
       "count  322016.000000  454372.000000  1.659330e+05  454372.000000   \n",
       "mean        0.596424      11.365038  1.163120e+75  227186.500000   \n",
       "std        16.542833      27.062357  4.737955e+77  131166.042593   \n",
       "min      -159.000000       0.430000 -4.000000e+05       1.000000   \n",
       "25%         0.000000       0.430000  0.000000e+00  113593.750000   \n",
       "50%         0.000000       0.860000  4.382029e+06  227186.500000   \n",
       "75%         0.000000      10.800000  4.800710e+06  340779.250000   \n",
       "max      4102.000000    2859.200000  1.930000e+80  454372.000000   \n",
       "\n",
       "          nbimplique  \n",
       "count  454372.000000  \n",
       "mean        2.234290  \n",
       "std         1.183179  \n",
       "min         1.000000  \n",
       "25%         2.000000  \n",
       "50%         2.000000  \n",
       "75%         2.000000  \n",
       "max        86.000000  \n",
       "\n",
       "[8 rows x 30 columns]"
      ]
     },
     "execution_count": 54,
     "metadata": {},
     "output_type": "execute_result"
    }
   ],
   "source": [
    "df.describe()"
   ]
  },
  {
   "cell_type": "markdown",
   "metadata": {},
   "source": [
    "###  1.1 regardons les types de chaques colonnes "
   ]
  },
  {
   "cell_type": "code",
   "execution_count": 6,
   "metadata": {
    "scrolled": true
   },
   "outputs": [
    {
     "data": {
      "text/plain": [
       "org                int64\n",
       "lum                int64\n",
       "agg                int64\n",
       "int                int64\n",
       "atm              float64\n",
       "col              float64\n",
       "com                int64\n",
       "dep                int64\n",
       "catr             float64\n",
       "infra            float64\n",
       "voie             float64\n",
       "v1               float64\n",
       "v2                object\n",
       "circ             float64\n",
       "nbv              float64\n",
       "pr                object\n",
       "pr1              float64\n",
       "vosp             float64\n",
       "prof             float64\n",
       "plan             float64\n",
       "situ             float64\n",
       "ttue               int64\n",
       "tbg                int64\n",
       "tbl                int64\n",
       "tindm              int64\n",
       "typenumero       float64\n",
       "numero           float64\n",
       "distancemetre    float64\n",
       "libellevoie       object\n",
       "coderivoli        object\n",
       "grav             float64\n",
       "gps               object\n",
       "lat              float64\n",
       "long              object\n",
       "adr               object\n",
       "numac              int64\n",
       "codeinsee         object\n",
       "geoflamatch       object\n",
       "nbimplique         int64\n",
       "dtype: object"
      ]
     },
     "execution_count": 6,
     "metadata": {},
     "output_type": "execute_result"
    }
   ],
   "source": [
    "df.dtypes"
   ]
  },
  {
   "cell_type": "markdown",
   "metadata": {},
   "source": [
    "### 1.2 Listons les colonnes"
   ]
  },
  {
   "cell_type": "code",
   "execution_count": 7,
   "metadata": {},
   "outputs": [
    {
     "data": {
      "text/plain": [
       "Index(['org', 'lum', 'agg', 'int', 'atm', 'col', 'com', 'dep', 'catr', 'infra',\n",
       "       'voie', 'v1', 'v2', 'circ', 'nbv', 'pr', 'pr1', 'vosp', 'prof', 'plan',\n",
       "       'situ', 'ttue', 'tbg', 'tbl', 'tindm', 'typenumero', 'numero',\n",
       "       'distancemetre', 'libellevoie', 'coderivoli', 'grav', 'gps', 'lat',\n",
       "       'long', 'adr', 'numac', 'codeinsee', 'geoflamatch', 'nbimplique'],\n",
       "      dtype='object')"
      ]
     },
     "execution_count": 7,
     "metadata": {},
     "output_type": "execute_result"
    }
   ],
   "source": [
    "df.columns"
   ]
  },
  {
   "cell_type": "markdown",
   "metadata": {},
   "source": [
    "### 1.3. Affichage / Viz directement avec Pandas"
   ]
  },
  {
   "cell_type": "markdown",
   "metadata": {},
   "source": [
    "pandas donne aux dataframes la possibilité de faire des graphs, avec la méthode \"plot\" .\n",
    "Ici [ plot(kind=\"box\") ] pour une boîte à moustache\n",
    "une configuration du notebook avec [ %matplotlib notebook ] pour un affichage dynamique\n"
   ]
  },
  {
   "cell_type": "code",
   "execution_count": 126,
   "metadata": {},
   "outputs": [],
   "source": [
    "%matplotlib inline"
   ]
  },
  {
   "cell_type": "markdown",
   "metadata": {},
   "source": [
    "## setting parameters for figure size :"
   ]
  },
  {
   "cell_type": "code",
   "execution_count": 16,
   "metadata": {},
   "outputs": [],
   "source": [
    "### c'est plus gros comme ça... on override les params par défaut"
   ]
  },
  {
   "cell_type": "code",
   "execution_count": 17,
   "metadata": {},
   "outputs": [
    {
     "data": {
      "text/plain": [
       "[12.0, 6.0]"
      ]
     },
     "execution_count": 17,
     "metadata": {},
     "output_type": "execute_result"
    }
   ],
   "source": [
    "import matplotlib.pyplot as plt\n",
    "plt.rcParams['figure.figsize']"
   ]
  },
  {
   "cell_type": "code",
   "execution_count": 18,
   "metadata": {},
   "outputs": [],
   "source": [
    "plt.rcParams['figure.figsize'] = [12, 4]"
   ]
  },
  {
   "cell_type": "code",
   "execution_count": 19,
   "metadata": {},
   "outputs": [
    {
     "data": {
      "text/plain": [
       "<matplotlib.axes._subplots.AxesSubplot at 0x115ad64e0>"
      ]
     },
     "execution_count": 19,
     "metadata": {},
     "output_type": "execute_result"
    },
    {
     "data": {
      "image/png": "[encoded data removed]",
      "text/plain": [
       "<Figure size 864x288 with 1 Axes>"
      ]
     },
     "metadata": {},
     "output_type": "display_data"
    }
   ],
   "source": [
    "df.nbv.plot(kind='box')"
   ]
  },
  {
   "cell_type": "code",
   "execution_count": 20,
   "metadata": {},
   "outputs": [
    {
     "data": {
      "text/plain": [
       " 2.0     247614\n",
       " 1.0      52738\n",
       " 0.0      50784\n",
       " 4.0      39931\n",
       " 3.0      35676\n",
       "NaN       14566\n",
       " 6.0       6722\n",
       " 5.0       4169\n",
       " 8.0       1008\n",
       " 7.0        404\n",
       " 10.0       235\n",
       " 20.0       154\n",
       " 50.0       147\n",
       " 9.0         69\n",
       " 40.0        21\n",
       " 11.0        17\n",
       " 12.0        16\n",
       " 30.0        15\n",
       " 25.0        11\n",
       " 15.0         8\n",
       " 21.0         8\n",
       " 90.0         6\n",
       " 13.0         6\n",
       " 26.0         5\n",
       " 70.0         5\n",
       " 14.0         5\n",
       " 22.0         5\n",
       " 31.0         3\n",
       " 45.0         2\n",
       " 17.0         2\n",
       " 53.0         2\n",
       " 24.0         2\n",
       " 60.0         2\n",
       " 36.0         1\n",
       " 28.0         1\n",
       " 99.0         1\n",
       " 52.0         1\n",
       " 76.0         1\n",
       " 41.0         1\n",
       " 86.0         1\n",
       " 42.0         1\n",
       " 23.0         1\n",
       " 16.0         1\n",
       " 33.0         1\n",
       " 65.0         1\n",
       " 44.0         1\n",
       " 91.0         1\n",
       "Name: nbv, dtype: int64"
      ]
     },
     "execution_count": 20,
     "metadata": {},
     "output_type": "execute_result"
    }
   ],
   "source": [
    "df.nbv.value_counts(dropna=False)"
   ]
  },
  {
   "cell_type": "code",
   "execution_count": 21,
   "metadata": {},
   "outputs": [
    {
     "data": {
      "text/plain": [
       "<matplotlib.axes._subplots.AxesSubplot at 0x115c490b8>"
      ]
     },
     "execution_count": 21,
     "metadata": {},
     "output_type": "execute_result"
    },
    {
     "data": {
      "image/png": "[encoded data removed]",
      "text/plain": [
       "<Figure size 864x288 with 1 Axes>"
      ]
     },
     "metadata": {},
     "output_type": "display_data"
    }
   ],
   "source": [
    "df.nbv.value_counts(dropna=False).plot(kind='bar')"
   ]
  },
  {
   "cell_type": "markdown",
   "metadata": {},
   "source": [
    "## 2) Un peu de 'data découverte' ;)"
   ]
  },
  {
   "cell_type": "markdown",
   "metadata": {},
   "source": [
    "### 1.3 Nb de valeurs uniques par colonnes"
   ]
  },
  {
   "cell_type": "code",
   "execution_count": 22,
   "metadata": {},
   "outputs": [
    {
     "data": {
      "text/plain": [
       "org                   5\n",
       "lum                   5\n",
       "agg                   9\n",
       "int                  10\n",
       "atm                   9\n",
       "col                   7\n",
       "com                 912\n",
       "dep                 100\n",
       "catr                  7\n",
       "infra                 8\n",
       "voie               1318\n",
       "v1                   10\n",
       "v2                   52\n",
       "circ                  5\n",
       "nbv                  46\n",
       "pr                 1257\n",
       "pr1                1684\n",
       "vosp                  4\n",
       "prof                  5\n",
       "plan                  5\n",
       "situ                  6\n",
       "ttue                  8\n",
       "tbg                  20\n",
       "tbl                  29\n",
       "tindm                44\n",
       "typenumero            4\n",
       "numero             4475\n",
       "distancemetre       217\n",
       "libellevoie       68027\n",
       "coderivoli          101\n",
       "grav                235\n",
       "gps                   4\n",
       "lat               42203\n",
       "long              60482\n",
       "adr                5944\n",
       "numac            454372\n",
       "codeinsee         37522\n",
       "geoflamatch           3\n",
       "nbimplique           53\n",
       "dtype: int64"
      ]
     },
     "execution_count": 22,
     "metadata": {},
     "output_type": "execute_result"
    }
   ],
   "source": [
    "valforcols = df.nunique()\n",
    "valforcols"
   ]
  },
  {
   "cell_type": "markdown",
   "metadata": {},
   "source": [
    "### 1.4. lister les colonnes ayant pour nb de valeurs uniques différentes moins de 50 catégories"
   ]
  },
  {
   "cell_type": "code",
   "execution_count": 24,
   "metadata": {
    "scrolled": true
   },
   "outputs": [
    {
     "data": {
      "text/plain": [
       "Index(['org', 'lum', 'agg', 'int', 'atm', 'col', 'catr', 'infra', 'v1', 'circ',\n",
       "       'nbv', 'vosp', 'prof', 'plan', 'situ', 'ttue', 'tbg', 'tbl', 'tindm',\n",
       "       'typenumero', 'gps', 'geoflamatch'],\n",
       "      dtype='object')"
      ]
     },
     "execution_count": 24,
     "metadata": {},
     "output_type": "execute_result"
    }
   ],
   "source": [
    "justunder50 = valforcols[valforcols<50].index\n",
    "justunder50"
   ]
  },
  {
   "cell_type": "markdown",
   "metadata": {},
   "source": [
    "### 1.5. faire une boucle (déconseillé sur les lignes, sur les colonnes ok ) "
   ]
  },
  {
   "cell_type": "code",
   "execution_count": 70,
   "metadata": {},
   "outputs": [
    {
     "name": "stdout",
     "output_type": "stream",
     "text": [
      "org\n",
      "5    257834\n",
      "1    123576\n",
      "2     47141\n",
      "3     25685\n",
      "4       136\n",
      "Name: org, dtype: int64\n",
      "lum\n",
      "1    312282\n",
      "5     77468\n",
      "3     34941\n",
      "2     26108\n",
      "4      3573\n",
      "Name: lum, dtype: int64\n",
      "agg\n",
      "1    140246\n",
      "9     78939\n",
      "6     65520\n",
      "5     47402\n",
      "8     46120\n",
      "7     42590\n",
      "4     15146\n",
      "3     11372\n",
      "2      7037\n",
      "Name: agg, dtype: int64\n",
      "int\n",
      "1    326028\n",
      "2     56639\n",
      "3     39214\n",
      "6     11652\n",
      "9      7426\n",
      "4      5739\n",
      "5      5225\n",
      "7      1967\n",
      "8       474\n",
      "0         8\n",
      "Name: int, dtype: int64\n",
      "atm\n",
      "1.0    369397\n",
      "2.0     46202\n",
      "8.0     15061\n",
      "3.0      9520\n",
      "7.0      3852\n",
      "9.0      3597\n",
      "4.0      2865\n",
      "5.0      2751\n",
      "6.0      1104\n",
      "Name: atm, dtype: int64\n",
      "col\n",
      "6.0    147394\n",
      "3.0    134182\n",
      "2.0     51340\n",
      "7.0     49801\n",
      "1.0     44676\n",
      "5.0     14173\n",
      "4.0     12797\n",
      "Name: col, dtype: int64\n",
      "catr\n",
      "4.0    227219\n",
      "3.0    136519\n",
      "2.0     33595\n",
      "1.0     30006\n",
      "9.0      9521\n",
      "6.0      2923\n",
      "5.0       912\n",
      "Name: catr, dtype: int64\n",
      "infra\n",
      "0.0    391755\n",
      "5.0     27709\n",
      "3.0      6848\n",
      "2.0      5925\n",
      "1.0      3528\n",
      "6.0      2699\n",
      "4.0      1629\n",
      "7.0       254\n",
      "Name: infra, dtype: int64\n",
      "v1\n",
      "0.0    233126\n",
      "2.0      1294\n",
      "1.0       561\n",
      "3.0       374\n",
      "6.0       317\n",
      "7.0       265\n",
      "4.0       248\n",
      "9.0       198\n",
      "8.0       177\n",
      "5.0       133\n",
      "Name: v1, dtype: int64\n",
      "circ\n",
      "2.0    282996\n",
      "1.0     78577\n",
      "3.0     54836\n",
      "0.0     21582\n",
      "4.0      2487\n",
      "Name: circ, dtype: int64\n",
      "nbv\n",
      "2.0     247614\n",
      "1.0      52738\n",
      "0.0      50784\n",
      "4.0      39931\n",
      "3.0      35676\n",
      "6.0       6722\n",
      "5.0       4169\n",
      "8.0       1008\n",
      "7.0        404\n",
      "10.0       235\n",
      "20.0       154\n",
      "50.0       147\n",
      "9.0         69\n",
      "40.0        21\n",
      "11.0        17\n",
      "12.0        16\n",
      "30.0        15\n",
      "25.0        11\n",
      "15.0         8\n",
      "21.0         8\n",
      "13.0         6\n",
      "90.0         6\n",
      "70.0         5\n",
      "26.0         5\n",
      "14.0         5\n",
      "22.0         5\n",
      "31.0         3\n",
      "17.0         2\n",
      "45.0         2\n",
      "24.0         2\n",
      "60.0         2\n",
      "53.0         2\n",
      "41.0         1\n",
      "86.0         1\n",
      "28.0         1\n",
      "42.0         1\n",
      "52.0         1\n",
      "76.0         1\n",
      "91.0         1\n",
      "23.0         1\n",
      "99.0         1\n",
      "36.0         1\n",
      "33.0         1\n",
      "65.0         1\n",
      "44.0         1\n",
      "16.0         1\n",
      "Name: nbv, dtype: int64\n",
      "vosp\n",
      "0.0    413018\n",
      "3.0     12602\n",
      "1.0      8489\n",
      "2.0      6039\n",
      "Name: vosp, dtype: int64\n",
      "prof\n",
      "1.0    336288\n",
      "2.0     58995\n",
      "0.0     31147\n",
      "3.0      8016\n",
      "4.0      6005\n",
      "Name: prof, dtype: int64\n",
      "plan\n",
      "1.0    338390\n",
      "2.0     35817\n",
      "3.0     32496\n",
      "0.0     28064\n",
      "4.0      5687\n",
      "Name: plan, dtype: int64\n",
      "situ\n",
      "1.0    380482\n",
      "3.0     25822\n",
      "0.0     21416\n",
      "4.0      7622\n",
      "2.0      2629\n",
      "5.0      2535\n",
      "Name: situ, dtype: int64\n",
      "ttue\n",
      "0     429511\n",
      "1      23142\n",
      "2       1465\n",
      "3        188\n",
      "4         48\n",
      "5         12\n",
      "7          5\n",
      "26         1\n",
      "Name: ttue, dtype: int64\n",
      "tbg\n",
      "0     273554\n",
      "1     156170\n",
      "2      18865\n",
      "3       3930\n",
      "4       1207\n",
      "5        406\n",
      "6        157\n",
      "7         42\n",
      "8         20\n",
      "9          5\n",
      "11         4\n",
      "10         3\n",
      "14         2\n",
      "34         1\n",
      "16         1\n",
      "20         1\n",
      "22         1\n",
      "24         1\n",
      "31         1\n",
      "42         1\n",
      "Name: tbg, dtype: int64\n",
      "tbl\n",
      "1     232740\n",
      "0     168108\n",
      "2      40411\n",
      "3       8844\n",
      "4       2713\n",
      "5       1017\n",
      "6        301\n",
      "7        110\n",
      "8         56\n",
      "9         18\n",
      "10        12\n",
      "11        12\n",
      "12         5\n",
      "14         4\n",
      "13         3\n",
      "15         2\n",
      "16         2\n",
      "17         2\n",
      "18         2\n",
      "43         1\n",
      "19         1\n",
      "20         1\n",
      "24         1\n",
      "26         1\n",
      "28         1\n",
      "29         1\n",
      "32         1\n",
      "42         1\n",
      "53         1\n",
      "Name: tbl, dtype: int64\n",
      "tindm\n",
      "1     258723\n",
      "0     132754\n",
      "2      45874\n",
      "3      10881\n",
      "4       3730\n",
      "5       1340\n",
      "6        501\n",
      "7        214\n",
      "8        112\n",
      "9         63\n",
      "10        42\n",
      "11        26\n",
      "12        21\n",
      "15        11\n",
      "13        10\n",
      "17         7\n",
      "14         5\n",
      "26         5\n",
      "22         4\n",
      "16         4\n",
      "38         4\n",
      "23         3\n",
      "27         3\n",
      "28         3\n",
      "20         3\n",
      "32         3\n",
      "21         2\n",
      "18         2\n",
      "37         2\n",
      "52         2\n",
      "24         2\n",
      "44         2\n",
      "33         2\n",
      "39         2\n",
      "50         1\n",
      "40         1\n",
      "35         1\n",
      "36         1\n",
      "19         1\n",
      "34         1\n",
      "30         1\n",
      "25         1\n",
      "55         1\n",
      "71         1\n",
      "Name: tindm, dtype: int64\n",
      "typenumero\n",
      "1.0    205295\n",
      "0.0     71521\n",
      "2.0     28476\n",
      "9.0     19022\n",
      "Name: typenumero, dtype: int64\n",
      "gps\n",
      "A    2399\n",
      "R    1363\n",
      "G     756\n",
      "3       3\n",
      "Name: gps, dtype: int64\n",
      "geoflamatch\n",
      "O    414572\n",
      "N     28488\n",
      "C     11312\n",
      "Name: geoflamatch, dtype: int64\n"
     ]
    }
   ],
   "source": [
    "for col in justunder50:\n",
    "    print(col)\n",
    "    print(pd.value_counts(df[col]))"
   ]
  },
  {
   "cell_type": "markdown",
   "metadata": {},
   "source": [
    "## 2) Data processing: appliquer une fonction sur une colonne "
   ]
  },
  {
   "cell_type": "code",
   "execution_count": 25,
   "metadata": {},
   "outputs": [],
   "source": [
    "uneFonctionEnUneLigne = lambda x: x**2 + x/10"
   ]
  },
  {
   "cell_type": "code",
   "execution_count": 26,
   "metadata": {},
   "outputs": [
    {
     "data": {
      "text/plain": [
       "81.9"
      ]
     },
     "execution_count": 26,
     "metadata": {},
     "output_type": "execute_result"
    }
   ],
   "source": [
    "uneFonctionEnUneLigne(9)"
   ]
  },
  {
   "cell_type": "code",
   "execution_count": 27,
   "metadata": {},
   "outputs": [
    {
     "data": {
      "text/plain": [
       "org           int64\n",
       "lum           int64\n",
       "agg           int64\n",
       "int           int64\n",
       "com           int64\n",
       "dep           int64\n",
       "ttue          int64\n",
       "tbg           int64\n",
       "tbl           int64\n",
       "tindm         int64\n",
       "numac         int64\n",
       "nbimplique    int64\n",
       "dtype: object"
      ]
     },
     "execution_count": 27,
     "metadata": {},
     "output_type": "execute_result"
    }
   ],
   "source": [
    "df.dtypes[df.dtypes=='int']"
   ]
  },
  {
   "cell_type": "code",
   "execution_count": 28,
   "metadata": {},
   "outputs": [
    {
     "data": {
      "text/plain": [
       "0    1.1\n",
       "1    1.1\n",
       "2    1.1\n",
       "3    1.1\n",
       "4    1.1\n",
       "Name: org, dtype: float64"
      ]
     },
     "execution_count": 28,
     "metadata": {},
     "output_type": "execute_result"
    }
   ],
   "source": [
    "df.org.apply(uneFonctionEnUneLigne)[0:5]"
   ]
  },
  {
   "cell_type": "markdown",
   "metadata": {},
   "source": [
    "## ... ou sur plusieurs colonnes"
   ]
  },
  {
   "cell_type": "code",
   "execution_count": 29,
   "metadata": {},
   "outputs": [
    {
     "data": {
      "text/html": [
       "<div>\n",
       "<style scoped>\n",
       "    .dataframe tbody tr th:only-of-type {\n",
       "        vertical-align: middle;\n",
       "    }\n",
       "\n",
       "    .dataframe tbody tr th {\n",
       "        vertical-align: top;\n",
       "    }\n",
       "\n",
       "    .dataframe thead th {\n",
       "        text-align: right;\n",
       "    }\n",
       "</style>\n",
       "<table border=\"1\" class=\"dataframe\">\n",
       "  <thead>\n",
       "    <tr style=\"text-align: right;\">\n",
       "      <th></th>\n",
       "      <th>org</th>\n",
       "      <th>lum</th>\n",
       "      <th>agg</th>\n",
       "      <th>int</th>\n",
       "      <th>com</th>\n",
       "      <th>dep</th>\n",
       "      <th>ttue</th>\n",
       "      <th>tbg</th>\n",
       "      <th>tbl</th>\n",
       "      <th>tindm</th>\n",
       "      <th>numac</th>\n",
       "      <th>nbimplique</th>\n",
       "    </tr>\n",
       "  </thead>\n",
       "  <tbody>\n",
       "    <tr>\n",
       "      <th>0</th>\n",
       "      <td>1.1</td>\n",
       "      <td>1.1</td>\n",
       "      <td>1.1</td>\n",
       "      <td>1.1</td>\n",
       "      <td>93055.5</td>\n",
       "      <td>946826.3</td>\n",
       "      <td>0.0</td>\n",
       "      <td>1.1</td>\n",
       "      <td>0.0</td>\n",
       "      <td>1.1</td>\n",
       "      <td>1.463568e+11</td>\n",
       "      <td>4.2</td>\n",
       "    </tr>\n",
       "    <tr>\n",
       "      <th>1</th>\n",
       "      <td>1.1</td>\n",
       "      <td>1.1</td>\n",
       "      <td>25.5</td>\n",
       "      <td>1.1</td>\n",
       "      <td>96752.1</td>\n",
       "      <td>946826.3</td>\n",
       "      <td>0.0</td>\n",
       "      <td>1.1</td>\n",
       "      <td>0.0</td>\n",
       "      <td>4.2</td>\n",
       "      <td>1.463575e+11</td>\n",
       "      <td>9.3</td>\n",
       "    </tr>\n",
       "    <tr>\n",
       "      <th>2</th>\n",
       "      <td>1.1</td>\n",
       "      <td>1.1</td>\n",
       "      <td>25.5</td>\n",
       "      <td>1.1</td>\n",
       "      <td>95511.9</td>\n",
       "      <td>946826.3</td>\n",
       "      <td>0.0</td>\n",
       "      <td>1.1</td>\n",
       "      <td>0.0</td>\n",
       "      <td>1.1</td>\n",
       "      <td>1.463583e+11</td>\n",
       "      <td>4.2</td>\n",
       "    </tr>\n",
       "    <tr>\n",
       "      <th>3</th>\n",
       "      <td>1.1</td>\n",
       "      <td>1.1</td>\n",
       "      <td>25.5</td>\n",
       "      <td>1.1</td>\n",
       "      <td>92446.4</td>\n",
       "      <td>946826.3</td>\n",
       "      <td>0.0</td>\n",
       "      <td>1.1</td>\n",
       "      <td>0.0</td>\n",
       "      <td>16.4</td>\n",
       "      <td>1.463591e+11</td>\n",
       "      <td>25.5</td>\n",
       "    </tr>\n",
       "    <tr>\n",
       "      <th>4</th>\n",
       "      <td>1.1</td>\n",
       "      <td>1.1</td>\n",
       "      <td>16.4</td>\n",
       "      <td>1.1</td>\n",
       "      <td>97375.2</td>\n",
       "      <td>946826.3</td>\n",
       "      <td>0.0</td>\n",
       "      <td>1.1</td>\n",
       "      <td>0.0</td>\n",
       "      <td>1.1</td>\n",
       "      <td>1.463598e+11</td>\n",
       "      <td>4.2</td>\n",
       "    </tr>\n",
       "  </tbody>\n",
       "</table>\n",
       "</div>"
      ],
      "text/plain": [
       "   org  lum   agg  int      com       dep  ttue  tbg  tbl  tindm  \\\n",
       "0  1.1  1.1   1.1  1.1  93055.5  946826.3   0.0  1.1  0.0    1.1   \n",
       "1  1.1  1.1  25.5  1.1  96752.1  946826.3   0.0  1.1  0.0    4.2   \n",
       "2  1.1  1.1  25.5  1.1  95511.9  946826.3   0.0  1.1  0.0    1.1   \n",
       "3  1.1  1.1  25.5  1.1  92446.4  946826.3   0.0  1.1  0.0   16.4   \n",
       "4  1.1  1.1  16.4  1.1  97375.2  946826.3   0.0  1.1  0.0    1.1   \n",
       "\n",
       "          numac  nbimplique  \n",
       "0  1.463568e+11         4.2  \n",
       "1  1.463575e+11         9.3  \n",
       "2  1.463583e+11         4.2  \n",
       "3  1.463591e+11        25.5  \n",
       "4  1.463598e+11         4.2  "
      ]
     },
     "execution_count": 29,
     "metadata": {},
     "output_type": "execute_result"
    }
   ],
   "source": [
    "df[df.dtypes[df.dtypes=='int'].index].apply(uneFonctionEnUneLigne).head()"
   ]
  },
  {
   "cell_type": "markdown",
   "metadata": {},
   "source": [
    "## sur des lignes avec des colonnes particulières"
   ]
  },
  {
   "cell_type": "code",
   "execution_count": 30,
   "metadata": {},
   "outputs": [
    {
     "data": {
      "text/plain": [
       "0    2\n",
       "1    2\n",
       "2    2\n",
       "3    2\n",
       "4    2\n",
       "dtype: int64"
      ]
     },
     "execution_count": 30,
     "metadata": {},
     "output_type": "execute_result"
    }
   ],
   "source": [
    "def f(row):\n",
    "    return row['org'] + row['lum']\n",
    "df.head().apply(f, axis=1) # axis =1 => sur les lignes"
   ]
  },
  {
   "cell_type": "code",
   "execution_count": 111,
   "metadata": {},
   "outputs": [
    {
     "data": {
      "text/plain": [
       "Index(['org', 'lum', 'agg', 'int', 'atm', 'col', 'com', 'dep', 'catr', 'infra',\n",
       "       'voie', 'v1', 'v2', 'circ', 'nbv', 'pr', 'pr1', 'vosp', 'prof', 'plan',\n",
       "       'situ', 'ttue', 'tbg', 'tbl', 'tindm', 'typenumero', 'numero',\n",
       "       'distancemetre', 'libellevoie', 'coderivoli', 'grav', 'gps', 'lat',\n",
       "       'long', 'adr', 'numac', 'codeinsee', 'geoflamatch', 'nbimplique'],\n",
       "      dtype='object')"
      ]
     },
     "execution_count": 111,
     "metadata": {},
     "output_type": "execute_result"
    }
   ],
   "source": [
    "df.columns"
   ]
  },
  {
   "cell_type": "code",
   "execution_count": 8,
   "metadata": {
    "scrolled": true
   },
   "outputs": [
    {
     "data": {
      "text/plain": [
       "<matplotlib.axes._subplots.AxesSubplot at 0x10d677898>"
      ]
     },
     "execution_count": 8,
     "metadata": {},
     "output_type": "execute_result"
    }
   ],
   "source": [
    "df[justunder50].plot()"
   ]
  },
  {
   "cell_type": "markdown",
   "metadata": {},
   "source": [
    "### 2.1 Le GroupBy "
   ]
  },
  {
   "cell_type": "code",
   "execution_count": 49,
   "metadata": {},
   "outputs": [
    {
     "data": {
      "text/plain": [
       "<pandas.core.groupby.groupby.DataFrameGroupBy object at 0x10cd9d940>"
      ]
     },
     "execution_count": 49,
     "metadata": {},
     "output_type": "execute_result"
    }
   ],
   "source": [
    "df[['org','lum','agg']].groupby('org')"
   ]
  },
  {
   "cell_type": "code",
   "execution_count": 53,
   "metadata": {},
   "outputs": [
    {
     "name": "stdout",
     "output_type": "stream",
     "text": [
      "nom du subset 1\n",
      "   org  lum  agg\n",
      "0    1    1    1\n",
      "1    1    1    5\n",
      "2    1    1    5\n",
      "3    1    1    5\n",
      "4    1    1    4\n",
      "nom du subset 2\n",
      "       org  lum  agg\n",
      "13897    2    3    9\n",
      "13982    2    5    9\n",
      "14195    2    5    9\n",
      "16107    2    1    9\n",
      "16110    2    1    9\n",
      "nom du subset 3\n",
      "     org  lum  agg\n",
      "320    3    5    1\n",
      "364    3    1    1\n",
      "371    3    1    1\n",
      "372    3    5    1\n",
      "389    3    5    1\n",
      "nom du subset 4\n",
      "       org  lum  agg\n",
      "38492    4    1    6\n",
      "42273    4    5    1\n",
      "45252    4    1    1\n",
      "45609    4    1    1\n",
      "45651    4    1    1\n",
      "nom du subset 5\n",
      "    org  lum  agg\n",
      "7     5    3    8\n",
      "8     5    3    1\n",
      "22    5    1    6\n",
      "23    5    1    6\n",
      "32    5    5    7\n"
     ]
    }
   ],
   "source": [
    "for df_sub_name, df_subset in df[['org', 'lum', 'agg']].groupby('org'):\n",
    "    print('nom du subset ' + str(df_sub_name))\n",
    "    print(df_subset.head()) "
   ]
  },
  {
   "cell_type": "markdown",
   "metadata": {},
   "source": [
    "### 2.2. Faire des opérations avec groupby"
   ]
  },
  {
   "cell_type": "markdown",
   "metadata": {},
   "source": [
    "Pas besoin de faire une boucle..."
   ]
  },
  {
   "cell_type": "markdown",
   "metadata": {},
   "source": [
    "sum"
   ]
  },
  {
   "cell_type": "code",
   "execution_count": 3,
   "metadata": {},
   "outputs": [
    {
     "data": {
      "text/html": [
       "<div>\n",
       "<style scoped>\n",
       "    .dataframe tbody tr th:only-of-type {\n",
       "        vertical-align: middle;\n",
       "    }\n",
       "\n",
       "    .dataframe tbody tr th {\n",
       "        vertical-align: top;\n",
       "    }\n",
       "\n",
       "    .dataframe thead th {\n",
       "        text-align: right;\n",
       "    }\n",
       "</style>\n",
       "<table border=\"1\" class=\"dataframe\">\n",
       "  <thead>\n",
       "    <tr style=\"text-align: right;\">\n",
       "      <th></th>\n",
       "      <th>lum</th>\n",
       "      <th>agg</th>\n",
       "    </tr>\n",
       "    <tr>\n",
       "      <th>org</th>\n",
       "      <th></th>\n",
       "      <th></th>\n",
       "    </tr>\n",
       "  </thead>\n",
       "  <tbody>\n",
       "    <tr>\n",
       "      <th>1</th>\n",
       "      <td>217492</td>\n",
       "      <td>230943</td>\n",
       "    </tr>\n",
       "    <tr>\n",
       "      <th>2</th>\n",
       "      <td>103587</td>\n",
       "      <td>423581</td>\n",
       "    </tr>\n",
       "    <tr>\n",
       "      <th>3</th>\n",
       "      <td>49378</td>\n",
       "      <td>25735</td>\n",
       "    </tr>\n",
       "    <tr>\n",
       "      <th>4</th>\n",
       "      <td>329</td>\n",
       "      <td>218</td>\n",
       "    </tr>\n",
       "    <tr>\n",
       "      <th>5</th>\n",
       "      <td>500167</td>\n",
       "      <td>1576214</td>\n",
       "    </tr>\n",
       "  </tbody>\n",
       "</table>\n",
       "</div>"
      ],
      "text/plain": [
       "        lum      agg\n",
       "org                 \n",
       "1    217492   230943\n",
       "2    103587   423581\n",
       "3     49378    25735\n",
       "4       329      218\n",
       "5    500167  1576214"
      ]
     },
     "execution_count": 3,
     "metadata": {},
     "output_type": "execute_result"
    }
   ],
   "source": [
    "df[['org', 'lum', 'agg']].groupby('org').sum()"
   ]
  },
  {
   "cell_type": "code",
   "execution_count": 4,
   "metadata": {},
   "outputs": [
    {
     "data": {
      "text/html": [
       "<div>\n",
       "<style scoped>\n",
       "    .dataframe tbody tr th:only-of-type {\n",
       "        vertical-align: middle;\n",
       "    }\n",
       "\n",
       "    .dataframe tbody tr th {\n",
       "        vertical-align: top;\n",
       "    }\n",
       "\n",
       "    .dataframe thead th {\n",
       "        text-align: right;\n",
       "    }\n",
       "</style>\n",
       "<table border=\"1\" class=\"dataframe\">\n",
       "  <thead>\n",
       "    <tr style=\"text-align: right;\">\n",
       "      <th></th>\n",
       "      <th>lum</th>\n",
       "      <th>agg</th>\n",
       "    </tr>\n",
       "    <tr>\n",
       "      <th>org</th>\n",
       "      <th></th>\n",
       "      <th></th>\n",
       "    </tr>\n",
       "  </thead>\n",
       "  <tbody>\n",
       "    <tr>\n",
       "      <th>1</th>\n",
       "      <td>1.759986</td>\n",
       "      <td>1.868834</td>\n",
       "    </tr>\n",
       "    <tr>\n",
       "      <th>2</th>\n",
       "      <td>2.197387</td>\n",
       "      <td>8.985405</td>\n",
       "    </tr>\n",
       "    <tr>\n",
       "      <th>3</th>\n",
       "      <td>1.922445</td>\n",
       "      <td>1.001947</td>\n",
       "    </tr>\n",
       "    <tr>\n",
       "      <th>4</th>\n",
       "      <td>2.419118</td>\n",
       "      <td>1.602941</td>\n",
       "    </tr>\n",
       "    <tr>\n",
       "      <th>5</th>\n",
       "      <td>1.939880</td>\n",
       "      <td>6.113290</td>\n",
       "    </tr>\n",
       "  </tbody>\n",
       "</table>\n",
       "</div>"
      ],
      "text/plain": [
       "          lum       agg\n",
       "org                    \n",
       "1    1.759986  1.868834\n",
       "2    2.197387  8.985405\n",
       "3    1.922445  1.001947\n",
       "4    2.419118  1.602941\n",
       "5    1.939880  6.113290"
      ]
     },
     "execution_count": 4,
     "metadata": {},
     "output_type": "execute_result"
    }
   ],
   "source": [
    "df[['org', 'lum', 'agg']].groupby('org').mean()"
   ]
  },
  {
   "cell_type": "code",
   "execution_count": 6,
   "metadata": {},
   "outputs": [
    {
     "data": {
      "text/plain": [
       "org\n",
       "1    AxesSubplot(0.125,0.125;0.775x0.755)\n",
       "2    AxesSubplot(0.125,0.125;0.775x0.755)\n",
       "3    AxesSubplot(0.125,0.125;0.775x0.755)\n",
       "4    AxesSubplot(0.125,0.125;0.775x0.755)\n",
       "5    AxesSubplot(0.125,0.125;0.775x0.755)\n",
       "dtype: object"
      ]
     },
     "execution_count": 6,
     "metadata": {},
     "output_type": "execute_result"
    },
    {
     "data": {
      "image/png": "[encoded data removed]",
      "text/plain": [
       "<Figure size 432x288 with 1 Axes>"
      ]
     },
     "metadata": {},
     "output_type": "display_data"
    },
    {
     "data": {
      "image/png": "[encoded data removed]",
      "text/plain": [
       "<Figure size 432x288 with 1 Axes>"
      ]
     },
     "metadata": {},
     "output_type": "display_data"
    },
    {
     "data": {
      "image/png": "[encoded data removed]",
      "text/plain": [
       "<Figure size 432x288 with 1 Axes>"
      ]
     },
     "metadata": {},
     "output_type": "display_data"
    },
    {
     "data": {
      "image/png": "[encoded data removed]",
      "text/plain": [
       "<Figure size 432x288 with 1 Axes>"
      ]
     },
     "metadata": {},
     "output_type": "display_data"
    },
    {
     "data": {
      "image/png": "[encoded data removed]",
      "text/plain": [
       "<Figure size 432x288 with 1 Axes>"
      ]
     },
     "metadata": {},
     "output_type": "display_data"
    }
   ],
   "source": [
    "df[['org', 'lum', 'agg']].groupby('org').plot(kind='line') # oui c'est de l'art contemporain"
   ]
  },
  {
   "cell_type": "markdown",
   "metadata": {},
   "source": [
    "il y a autant de subsets que de valeurs différentes de org"
   ]
  },
  {
   "cell_type": "markdown",
   "metadata": {},
   "source": [
    "On aurait pu utiliser seaborn biensûr sans faire de groupby mais les params {col='org', col_wrap=7} (si on voulait)"
   ]
  },
  {
   "cell_type": "code",
   "execution_count": 147,
   "metadata": {},
   "outputs": [
    {
     "data": {
      "text/plain": [
       "<matplotlib.axes._subplots.AxesSubplot at 0x13c78d940>"
      ]
     },
     "execution_count": 147,
     "metadata": {},
     "output_type": "execute_result"
    },
    {
     "data": {
      "image/png": "[encoded data removed]",
      "text/plain": [
       "<Figure size 864x576 with 1 Axes>"
      ]
     },
     "metadata": {},
     "output_type": "display_data"
    }
   ],
   "source": [
    "df[justunder50].groupby(['org', 'lum']).size().unstack().plot(kind='bar', stacked=True)"
   ]
  },
  {
   "cell_type": "markdown",
   "metadata": {},
   "source": [
    "### 2.3. Faire des aggrégations avec GroupBy"
   ]
  },
  {
   "cell_type": "markdown",
   "metadata": {},
   "source": [
    "Plusieurs opés d'aggrégation peut être spécifiés avec le groupby (attention: a la fin il faut une ligne par clés du groupby)"
   ]
  },
  {
   "cell_type": "markdown",
   "metadata": {},
   "source": [
    "(transfo en liste de valeurs par valeurs de org par exemple)"
   ]
  },
  {
   "cell_type": "code",
   "execution_count": 15,
   "metadata": {},
   "outputs": [
    {
     "data": {
      "text/html": [
       "<div>\n",
       "<style scoped>\n",
       "    .dataframe tbody tr th:only-of-type {\n",
       "        vertical-align: middle;\n",
       "    }\n",
       "\n",
       "    .dataframe tbody tr th {\n",
       "        vertical-align: top;\n",
       "    }\n",
       "\n",
       "    .dataframe thead tr th {\n",
       "        text-align: left;\n",
       "    }\n",
       "\n",
       "    .dataframe thead tr:last-of-type th {\n",
       "        text-align: right;\n",
       "    }\n",
       "</style>\n",
       "<table border=\"1\" class=\"dataframe\">\n",
       "  <thead>\n",
       "    <tr>\n",
       "      <th></th>\n",
       "      <th>lum</th>\n",
       "      <th colspan=\"3\" halign=\"left\">agg</th>\n",
       "    </tr>\n",
       "    <tr>\n",
       "      <th></th>\n",
       "      <th>list</th>\n",
       "      <th>mean</th>\n",
       "      <th>sum</th>\n",
       "      <th>min</th>\n",
       "    </tr>\n",
       "    <tr>\n",
       "      <th>org</th>\n",
       "      <th></th>\n",
       "      <th></th>\n",
       "      <th></th>\n",
       "      <th></th>\n",
       "    </tr>\n",
       "  </thead>\n",
       "  <tbody>\n",
       "    <tr>\n",
       "      <th>1</th>\n",
       "      <td>[1, 1, 1, 1, 1, 1, 1, 1, 3, 1, 1, 1, 1, 3, 1, ...</td>\n",
       "      <td>1.868834</td>\n",
       "      <td>230943</td>\n",
       "      <td>1</td>\n",
       "    </tr>\n",
       "    <tr>\n",
       "      <th>2</th>\n",
       "      <td>[3, 5, 5, 1, 1, 1, 1, 5, 1, 1, 1, 5, 1, 1, 1, ...</td>\n",
       "      <td>8.985405</td>\n",
       "      <td>423581</td>\n",
       "      <td>1</td>\n",
       "    </tr>\n",
       "    <tr>\n",
       "      <th>3</th>\n",
       "      <td>[5, 1, 1, 5, 5, 1, 1, 5, 1, 1, 3, 3, 1, 1, 5, ...</td>\n",
       "      <td>1.001947</td>\n",
       "      <td>25735</td>\n",
       "      <td>1</td>\n",
       "    </tr>\n",
       "    <tr>\n",
       "      <th>4</th>\n",
       "      <td>[1, 5, 1, 1, 1, 2, 1, 5, 5, 2, 1, 1, 1, 5, 1, ...</td>\n",
       "      <td>1.602941</td>\n",
       "      <td>218</td>\n",
       "      <td>1</td>\n",
       "    </tr>\n",
       "    <tr>\n",
       "      <th>5</th>\n",
       "      <td>[3, 3, 1, 1, 5, 5, 1, 1, 1, 1, 1, 1, 1, 1, 3, ...</td>\n",
       "      <td>6.113290</td>\n",
       "      <td>1576214</td>\n",
       "      <td>1</td>\n",
       "    </tr>\n",
       "  </tbody>\n",
       "</table>\n",
       "</div>"
      ],
      "text/plain": [
       "                                                   lum       agg             \n",
       "                                                  list      mean      sum min\n",
       "org                                                                          \n",
       "1    [1, 1, 1, 1, 1, 1, 1, 1, 3, 1, 1, 1, 1, 3, 1, ...  1.868834   230943   1\n",
       "2    [3, 5, 5, 1, 1, 1, 1, 5, 1, 1, 1, 5, 1, 1, 1, ...  8.985405   423581   1\n",
       "3    [5, 1, 1, 5, 5, 1, 1, 5, 1, 1, 3, 3, 1, 1, 5, ...  1.001947    25735   1\n",
       "4    [1, 5, 1, 1, 1, 2, 1, 5, 5, 2, 1, 1, 1, 5, 1, ...  1.602941      218   1\n",
       "5    [3, 3, 1, 1, 5, 5, 1, 1, 1, 1, 1, 1, 1, 1, 3, ...  6.113290  1576214   1"
      ]
     },
     "execution_count": 15,
     "metadata": {},
     "output_type": "execute_result"
    }
   ],
   "source": [
    "df[['org', 'lum', 'agg']].groupby('org').agg({'lum':[list], 'agg':['mean','sum', 'min']})"
   ]
  },
  {
   "cell_type": "markdown",
   "metadata": {},
   "source": [
    "on peut même faire des fonctions customs! "
   ]
  },
  {
   "cell_type": "code",
   "execution_count": 32,
   "metadata": {},
   "outputs": [],
   "source": [
    "def f(all_values):\n",
    "    # la fonction doit réduire comme dans un map / reduce n'est ce pas !\n",
    "    import numpy as np\n",
    "    return (np.std(all_values)/np.mean(all_values))"
   ]
  },
  {
   "cell_type": "code",
   "execution_count": 37,
   "metadata": {},
   "outputs": [
    {
     "data": {
      "text/html": [
       "<div>\n",
       "<style scoped>\n",
       "    .dataframe tbody tr th:only-of-type {\n",
       "        vertical-align: middle;\n",
       "    }\n",
       "\n",
       "    .dataframe tbody tr th {\n",
       "        vertical-align: top;\n",
       "    }\n",
       "\n",
       "    .dataframe thead th {\n",
       "        text-align: right;\n",
       "    }\n",
       "</style>\n",
       "<table border=\"1\" class=\"dataframe\">\n",
       "  <thead>\n",
       "    <tr style=\"text-align: right;\">\n",
       "      <th></th>\n",
       "      <th>lum</th>\n",
       "    </tr>\n",
       "    <tr>\n",
       "      <th>org</th>\n",
       "      <th></th>\n",
       "    </tr>\n",
       "  </thead>\n",
       "  <tbody>\n",
       "    <tr>\n",
       "      <th>1</th>\n",
       "      <td>0.690379</td>\n",
       "    </tr>\n",
       "    <tr>\n",
       "      <th>2</th>\n",
       "      <td>0.813978</td>\n",
       "    </tr>\n",
       "    <tr>\n",
       "      <th>3</th>\n",
       "      <td>0.743506</td>\n",
       "    </tr>\n",
       "    <tr>\n",
       "      <th>4</th>\n",
       "      <td>0.730843</td>\n",
       "    </tr>\n",
       "    <tr>\n",
       "      <th>5</th>\n",
       "      <td>0.826323</td>\n",
       "    </tr>\n",
       "  </tbody>\n",
       "</table>\n",
       "</div>"
      ],
      "text/plain": [
       "          lum\n",
       "org          \n",
       "1    0.690379\n",
       "2    0.813978\n",
       "3    0.743506\n",
       "4    0.730843\n",
       "5    0.826323"
      ]
     },
     "execution_count": 37,
     "metadata": {},
     "output_type": "execute_result"
    }
   ],
   "source": [
    "df[['org', 'lum', 'agg']].groupby('org').agg({'lum':f})"
   ]
  },
  {
   "cell_type": "code",
   "execution_count": 39,
   "metadata": {},
   "outputs": [],
   "source": [
    "def howMuchNAs(all_values):\n",
    "    return sum(pd.isna(all_values))"
   ]
  },
  {
   "cell_type": "code",
   "execution_count": 40,
   "metadata": {},
   "outputs": [
    {
     "data": {
      "text/html": [
       "<div>\n",
       "<style scoped>\n",
       "    .dataframe tbody tr th:only-of-type {\n",
       "        vertical-align: middle;\n",
       "    }\n",
       "\n",
       "    .dataframe tbody tr th {\n",
       "        vertical-align: top;\n",
       "    }\n",
       "\n",
       "    .dataframe thead th {\n",
       "        text-align: right;\n",
       "    }\n",
       "</style>\n",
       "<table border=\"1\" class=\"dataframe\">\n",
       "  <thead>\n",
       "    <tr style=\"text-align: right;\">\n",
       "      <th></th>\n",
       "      <th>lum</th>\n",
       "    </tr>\n",
       "    <tr>\n",
       "      <th>org</th>\n",
       "      <th></th>\n",
       "    </tr>\n",
       "  </thead>\n",
       "  <tbody>\n",
       "    <tr>\n",
       "      <th>1</th>\n",
       "      <td>0</td>\n",
       "    </tr>\n",
       "    <tr>\n",
       "      <th>2</th>\n",
       "      <td>0</td>\n",
       "    </tr>\n",
       "    <tr>\n",
       "      <th>3</th>\n",
       "      <td>0</td>\n",
       "    </tr>\n",
       "    <tr>\n",
       "      <th>4</th>\n",
       "      <td>0</td>\n",
       "    </tr>\n",
       "    <tr>\n",
       "      <th>5</th>\n",
       "      <td>0</td>\n",
       "    </tr>\n",
       "  </tbody>\n",
       "</table>\n",
       "</div>"
      ],
      "text/plain": [
       "     lum\n",
       "org     \n",
       "1      0\n",
       "2      0\n",
       "3      0\n",
       "4      0\n",
       "5      0"
      ]
     },
     "execution_count": 40,
     "metadata": {},
     "output_type": "execute_result"
    }
   ],
   "source": [
    "df[['org', 'lum', 'agg']].groupby('org').agg({'lum': howMuchNAs})"
   ]
  },
  {
   "cell_type": "markdown",
   "metadata": {},
   "source": [
    "### 3.3 Regardons un peu les N/As"
   ]
  },
  {
   "cell_type": "code",
   "execution_count": 42,
   "metadata": {},
   "outputs": [
    {
     "data": {
      "text/html": [
       "<div>\n",
       "<style scoped>\n",
       "    .dataframe tbody tr th:only-of-type {\n",
       "        vertical-align: middle;\n",
       "    }\n",
       "\n",
       "    .dataframe tbody tr th {\n",
       "        vertical-align: top;\n",
       "    }\n",
       "\n",
       "    .dataframe thead th {\n",
       "        text-align: right;\n",
       "    }\n",
       "</style>\n",
       "<table border=\"1\" class=\"dataframe\">\n",
       "  <thead>\n",
       "    <tr style=\"text-align: right;\">\n",
       "      <th></th>\n",
       "      <th>org</th>\n",
       "      <th>lum</th>\n",
       "      <th>agg</th>\n",
       "      <th>int</th>\n",
       "      <th>atm</th>\n",
       "      <th>col</th>\n",
       "      <th>com</th>\n",
       "      <th>dep</th>\n",
       "      <th>catr</th>\n",
       "      <th>infra</th>\n",
       "      <th>...</th>\n",
       "      <th>coderivoli</th>\n",
       "      <th>grav</th>\n",
       "      <th>gps</th>\n",
       "      <th>lat</th>\n",
       "      <th>long</th>\n",
       "      <th>adr</th>\n",
       "      <th>numac</th>\n",
       "      <th>codeinsee</th>\n",
       "      <th>geoflamatch</th>\n",
       "      <th>nbimplique</th>\n",
       "    </tr>\n",
       "  </thead>\n",
       "  <tbody>\n",
       "    <tr>\n",
       "      <th>0</th>\n",
       "      <td>False</td>\n",
       "      <td>False</td>\n",
       "      <td>False</td>\n",
       "      <td>False</td>\n",
       "      <td>False</td>\n",
       "      <td>False</td>\n",
       "      <td>False</td>\n",
       "      <td>False</td>\n",
       "      <td>True</td>\n",
       "      <td>True</td>\n",
       "      <td>...</td>\n",
       "      <td>True</td>\n",
       "      <td>False</td>\n",
       "      <td>False</td>\n",
       "      <td>False</td>\n",
       "      <td>False</td>\n",
       "      <td>True</td>\n",
       "      <td>False</td>\n",
       "      <td>False</td>\n",
       "      <td>False</td>\n",
       "      <td>False</td>\n",
       "    </tr>\n",
       "    <tr>\n",
       "      <th>1</th>\n",
       "      <td>False</td>\n",
       "      <td>False</td>\n",
       "      <td>False</td>\n",
       "      <td>False</td>\n",
       "      <td>False</td>\n",
       "      <td>False</td>\n",
       "      <td>False</td>\n",
       "      <td>False</td>\n",
       "      <td>True</td>\n",
       "      <td>True</td>\n",
       "      <td>...</td>\n",
       "      <td>True</td>\n",
       "      <td>False</td>\n",
       "      <td>False</td>\n",
       "      <td>False</td>\n",
       "      <td>False</td>\n",
       "      <td>False</td>\n",
       "      <td>False</td>\n",
       "      <td>False</td>\n",
       "      <td>False</td>\n",
       "      <td>False</td>\n",
       "    </tr>\n",
       "    <tr>\n",
       "      <th>2</th>\n",
       "      <td>False</td>\n",
       "      <td>False</td>\n",
       "      <td>False</td>\n",
       "      <td>False</td>\n",
       "      <td>False</td>\n",
       "      <td>False</td>\n",
       "      <td>False</td>\n",
       "      <td>False</td>\n",
       "      <td>True</td>\n",
       "      <td>True</td>\n",
       "      <td>...</td>\n",
       "      <td>True</td>\n",
       "      <td>False</td>\n",
       "      <td>False</td>\n",
       "      <td>False</td>\n",
       "      <td>False</td>\n",
       "      <td>False</td>\n",
       "      <td>False</td>\n",
       "      <td>False</td>\n",
       "      <td>False</td>\n",
       "      <td>False</td>\n",
       "    </tr>\n",
       "    <tr>\n",
       "      <th>3</th>\n",
       "      <td>False</td>\n",
       "      <td>False</td>\n",
       "      <td>False</td>\n",
       "      <td>False</td>\n",
       "      <td>False</td>\n",
       "      <td>False</td>\n",
       "      <td>False</td>\n",
       "      <td>False</td>\n",
       "      <td>True</td>\n",
       "      <td>True</td>\n",
       "      <td>...</td>\n",
       "      <td>True</td>\n",
       "      <td>False</td>\n",
       "      <td>False</td>\n",
       "      <td>False</td>\n",
       "      <td>False</td>\n",
       "      <td>False</td>\n",
       "      <td>False</td>\n",
       "      <td>False</td>\n",
       "      <td>False</td>\n",
       "      <td>False</td>\n",
       "    </tr>\n",
       "    <tr>\n",
       "      <th>4</th>\n",
       "      <td>False</td>\n",
       "      <td>False</td>\n",
       "      <td>False</td>\n",
       "      <td>False</td>\n",
       "      <td>False</td>\n",
       "      <td>False</td>\n",
       "      <td>False</td>\n",
       "      <td>False</td>\n",
       "      <td>True</td>\n",
       "      <td>True</td>\n",
       "      <td>...</td>\n",
       "      <td>True</td>\n",
       "      <td>False</td>\n",
       "      <td>False</td>\n",
       "      <td>False</td>\n",
       "      <td>False</td>\n",
       "      <td>False</td>\n",
       "      <td>False</td>\n",
       "      <td>False</td>\n",
       "      <td>False</td>\n",
       "      <td>False</td>\n",
       "    </tr>\n",
       "    <tr>\n",
       "      <th>5</th>\n",
       "      <td>False</td>\n",
       "      <td>False</td>\n",
       "      <td>False</td>\n",
       "      <td>False</td>\n",
       "      <td>False</td>\n",
       "      <td>False</td>\n",
       "      <td>False</td>\n",
       "      <td>False</td>\n",
       "      <td>True</td>\n",
       "      <td>True</td>\n",
       "      <td>...</td>\n",
       "      <td>True</td>\n",
       "      <td>False</td>\n",
       "      <td>False</td>\n",
       "      <td>False</td>\n",
       "      <td>False</td>\n",
       "      <td>False</td>\n",
       "      <td>False</td>\n",
       "      <td>False</td>\n",
       "      <td>False</td>\n",
       "      <td>False</td>\n",
       "    </tr>\n",
       "    <tr>\n",
       "      <th>6</th>\n",
       "      <td>False</td>\n",
       "      <td>False</td>\n",
       "      <td>False</td>\n",
       "      <td>False</td>\n",
       "      <td>False</td>\n",
       "      <td>False</td>\n",
       "      <td>False</td>\n",
       "      <td>False</td>\n",
       "      <td>True</td>\n",
       "      <td>True</td>\n",
       "      <td>...</td>\n",
       "      <td>True</td>\n",
       "      <td>False</td>\n",
       "      <td>False</td>\n",
       "      <td>False</td>\n",
       "      <td>False</td>\n",
       "      <td>False</td>\n",
       "      <td>False</td>\n",
       "      <td>False</td>\n",
       "      <td>False</td>\n",
       "      <td>False</td>\n",
       "    </tr>\n",
       "  </tbody>\n",
       "</table>\n",
       "<p>7 rows × 39 columns</p>\n",
       "</div>"
      ],
      "text/plain": [
       "     org    lum    agg    int    atm    col    com    dep  catr  infra  \\\n",
       "0  False  False  False  False  False  False  False  False  True   True   \n",
       "1  False  False  False  False  False  False  False  False  True   True   \n",
       "2  False  False  False  False  False  False  False  False  True   True   \n",
       "3  False  False  False  False  False  False  False  False  True   True   \n",
       "4  False  False  False  False  False  False  False  False  True   True   \n",
       "5  False  False  False  False  False  False  False  False  True   True   \n",
       "6  False  False  False  False  False  False  False  False  True   True   \n",
       "\n",
       "      ...      coderivoli   grav    gps    lat   long    adr  numac  \\\n",
       "0     ...            True  False  False  False  False   True  False   \n",
       "1     ...            True  False  False  False  False  False  False   \n",
       "2     ...            True  False  False  False  False  False  False   \n",
       "3     ...            True  False  False  False  False  False  False   \n",
       "4     ...            True  False  False  False  False  False  False   \n",
       "5     ...            True  False  False  False  False  False  False   \n",
       "6     ...            True  False  False  False  False  False  False   \n",
       "\n",
       "   codeinsee  geoflamatch  nbimplique  \n",
       "0      False        False       False  \n",
       "1      False        False       False  \n",
       "2      False        False       False  \n",
       "3      False        False       False  \n",
       "4      False        False       False  \n",
       "5      False        False       False  \n",
       "6      False        False       False  \n",
       "\n",
       "[7 rows x 39 columns]"
      ]
     },
     "execution_count": 42,
     "metadata": {},
     "output_type": "execute_result"
    }
   ],
   "source": [
    "df.isna().head(7)"
   ]
  },
  {
   "cell_type": "code",
   "execution_count": 44,
   "metadata": {},
   "outputs": [],
   "source": [
    "import seaborn as sns"
   ]
  },
  {
   "cell_type": "code",
   "execution_count": 45,
   "metadata": {},
   "outputs": [
    {
     "data": {
      "text/plain": [
       "<matplotlib.axes._subplots.AxesSubplot at 0x111d370f0>"
      ]
     },
     "execution_count": 45,
     "metadata": {},
     "output_type": "execute_result"
    },
    {
     "data": {
      "image/png": "[encoded data removed]",
      "text/plain": [
       "<Figure size 432x288 with 2 Axes>"
      ]
     },
     "metadata": {},
     "output_type": "display_data"
    }
   ],
   "source": [
    "sns.heatmap(df.isna())"
   ]
  },
  {
   "cell_type": "code",
   "execution_count": null,
   "metadata": {},
   "outputs": [],
   "source": []
  }
 ],
 "metadata": {
  "kernelspec": {
   "display_name": "Python 3",
   "language": "python",
   "name": "python3"
  },
  "language_info": {
   "codemirror_mode": {
    "name": "ipython",
    "version": 3
   },
   "file_extension": ".py",
   "mimetype": "text/x-python",
   "name": "python",
   "nbconvert_exporter": "python",
   "pygments_lexer": "ipython3",
   "version": "3.6.5"
  }
 },
 "nbformat": 4,
 "nbformat_minor": 2
}
