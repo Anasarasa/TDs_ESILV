{
 "cells": [
  {
   "cell_type": "markdown",
   "metadata": {},
   "source": [
    "# TD1 - Python - Les bases\n",
    "\n",
    "* Installation Anaconda\n",
    "* Jupyter Notebook (Shortcuts, Mardown vs Code cells)\n",
    "* Mutables & Immutables (listes, dicts, tuples)\n",
    "* Lists indexations + value assignemements\n",
    "* Functions (one-line functions, multi-line functions)\n",
    "* Python classes (staticmethods, attributes, properties)\n",
    "* Import external python files in Jupyter Notebook \n",
    "* Useful packages (numpy, pandas, glob, regex, os, sys) + short description\n",
    "* Jupyer Notebook wih Github\n",
    "* ?? Pandas DataFrame ? Numpy array?\n",
    "      - Looper sur df\n",
    "      - Regexes\n",
    "- apply, groupby, replace, lambdas"
   ]
  },
  {
   "cell_type": "code",
   "execution_count": null,
   "metadata": {},
   "outputs": [],
   "source": []
  }
 ],
 "metadata": {
  "kernelspec": {
   "display_name": "Python 3",
   "language": "python",
   "name": "python3"
  },
  "language_info": {
   "codemirror_mode": {
    "name": "ipython",
    "version": 3
   },
   "file_extension": ".py",
   "mimetype": "text/x-python",
   "name": "python",
   "nbconvert_exporter": "python",
   "pygments_lexer": "ipython3",
   "version": "3.6.5"
  }
 },
 "nbformat": 4,
 "nbformat_minor": 2
}
