{
 "cells": [
  {
   "cell_type": "code",
   "execution_count": 2,
   "metadata": {},
   "outputs": [],
   "source": [
    "url_incidents = \"https://www.data.gouv.fr/fr/datasets/r/a7e77e63-518e-4429-88ac-0e7255a77fc3\""
   ]
  },
  {
   "cell_type": "code",
   "execution_count": 3,
   "metadata": {},
   "outputs": [],
   "source": [
    "url_regularite = \"https://www.data.gouv.fr/fr/datasets/r/2a4f7375-e090-4fbb-bea4-ea280a2d1028\""
   ]
  },
  {
   "cell_type": "markdown",
   "metadata": {},
   "source": [
    "# si vous n'avez pas wget"
   ]
  },
  {
   "cell_type": "markdown",
   "metadata": {},
   "source": [
    "... il faut le télécharger"
   ]
  },
  {
   "cell_type": "code",
   "execution_count": 4,
   "metadata": {},
   "outputs": [
    {
     "name": "stdout",
     "output_type": "stream",
     "text": [
      "Requirement already satisfied: wget in /Users/lucbertin/anaconda3/lib/python3.6/site-packages (3.2)\n",
      "\u001b[33mWARNING: You are using pip version 19.3.1; however, version 20.0.2 is available.\n",
      "You should consider upgrading via the 'pip install --upgrade pip' command.\u001b[0m\n"
     ]
    }
   ],
   "source": [
    "!pip install wget"
   ]
  },
  {
   "cell_type": "code",
   "execution_count": 5,
   "metadata": {},
   "outputs": [],
   "source": [
    "import wget"
   ]
  },
  {
   "cell_type": "code",
   "execution_count": 6,
   "metadata": {},
   "outputs": [
    {
     "data": {
      "text/plain": [
       "'incidents_sncf.csv'"
      ]
     },
     "execution_count": 6,
     "metadata": {},
     "output_type": "execute_result"
    }
   ],
   "source": [
    "wget.download(url_incidents, out='incidents_sncf.csv')"
   ]
  },
  {
   "cell_type": "code",
   "execution_count": 7,
   "metadata": {},
   "outputs": [
    {
     "data": {
      "text/plain": [
       "'regularite_sncf.csv'"
      ]
     },
     "execution_count": 7,
     "metadata": {},
     "output_type": "execute_result"
    }
   ],
   "source": [
    "wget.download(url_regularite, out='regularite_sncf.csv')"
   ]
  },
  {
   "cell_type": "markdown",
   "metadata": {},
   "source": [
    "## lire avec une commande systeme"
   ]
  },
  {
   "cell_type": "code",
   "execution_count": 8,
   "metadata": {},
   "outputs": [
    {
     "name": "stdout",
     "output_type": "stream",
     "text": [
      "date,famille_transport,ligne,incidents\r",
      "\r\n",
      "2019-01-23,transilien,A,\"['Défaut de signalisation entre Nation et Auber', 'Malaise voyageur à Auber', \"\"Panne d'une rame à Cergy-le-Haut\"\"]\"\r",
      "\r\n"
     ]
    }
   ],
   "source": [
    "!head -n 2 incidents_sncf.csv"
   ]
  },
  {
   "cell_type": "code",
   "execution_count": 9,
   "metadata": {},
   "outputs": [
    {
     "name": "stdout",
     "output_type": "stream",
     "text": [
      "date,famille_transport,ligne,regularite,explication\r",
      "\r\n",
      "2019-01-23,transilien,global,84.2,\r",
      "\r\n"
     ]
    }
   ],
   "source": [
    "!head -n 2 regularite_sncf.csv"
   ]
  },
  {
   "cell_type": "markdown",
   "metadata": {},
   "source": [
    "## rentrer dans le dur "
   ]
  },
  {
   "cell_type": "code",
   "execution_count": 10,
   "metadata": {},
   "outputs": [],
   "source": [
    "import pandas as pd"
   ]
  },
  {
   "cell_type": "code",
   "execution_count": 11,
   "metadata": {},
   "outputs": [],
   "source": [
    "df = pd.read_csv(\"regularite_sncf.csv\", sep=',')"
   ]
  },
  {
   "cell_type": "code",
   "execution_count": 12,
   "metadata": {},
   "outputs": [],
   "source": [
    "df2 = pd.read_csv(\"incidents_sncf.csv\", sep=',')"
   ]
  },
  {
   "cell_type": "code",
   "execution_count": 13,
   "metadata": {},
   "outputs": [
    {
     "data": {
      "text/html": [
       "<div>\n",
       "<style scoped>\n",
       "    .dataframe tbody tr th:only-of-type {\n",
       "        vertical-align: middle;\n",
       "    }\n",
       "\n",
       "    .dataframe tbody tr th {\n",
       "        vertical-align: top;\n",
       "    }\n",
       "\n",
       "    .dataframe thead th {\n",
       "        text-align: right;\n",
       "    }\n",
       "</style>\n",
       "<table border=\"1\" class=\"dataframe\">\n",
       "  <thead>\n",
       "    <tr style=\"text-align: right;\">\n",
       "      <th></th>\n",
       "      <th>date</th>\n",
       "      <th>famille_transport</th>\n",
       "      <th>ligne</th>\n",
       "      <th>incidents</th>\n",
       "    </tr>\n",
       "  </thead>\n",
       "  <tbody>\n",
       "    <tr>\n",
       "      <td>0</td>\n",
       "      <td>2019-01-23</td>\n",
       "      <td>transilien</td>\n",
       "      <td>A</td>\n",
       "      <td>['Défaut de signalisation entre Nation et Aube...</td>\n",
       "    </tr>\n",
       "    <tr>\n",
       "      <td>1</td>\n",
       "      <td>2019-01-23</td>\n",
       "      <td>transilien</td>\n",
       "      <td>B</td>\n",
       "      <td>['Intervention de police à Gare-du-Nord pour u...</td>\n",
       "    </tr>\n",
       "    <tr>\n",
       "      <td>2</td>\n",
       "      <td>2019-01-23</td>\n",
       "      <td>transilien</td>\n",
       "      <td>C</td>\n",
       "      <td>[\"Signal d'alarme à Bibiliothèque-François-Mit...</td>\n",
       "    </tr>\n",
       "    <tr>\n",
       "      <td>3</td>\n",
       "      <td>2019-01-23</td>\n",
       "      <td>transilien</td>\n",
       "      <td>D</td>\n",
       "      <td>['Restitution tardive de travaux de nuit à Com...</td>\n",
       "    </tr>\n",
       "    <tr>\n",
       "      <td>4</td>\n",
       "      <td>2019-01-23</td>\n",
       "      <td>transilien</td>\n",
       "      <td>E</td>\n",
       "      <td>[\"Signaux d'alarme malveillants à Haussamann-S...</td>\n",
       "    </tr>\n",
       "    <tr>\n",
       "      <td>...</td>\n",
       "      <td>...</td>\n",
       "      <td>...</td>\n",
       "      <td>...</td>\n",
       "      <td>...</td>\n",
       "    </tr>\n",
       "    <tr>\n",
       "      <td>3740</td>\n",
       "      <td>2020-03-13</td>\n",
       "      <td>intercites</td>\n",
       "      <td>Nantes-Lyon</td>\n",
       "      <td>[\"Présence d'individus sur le pont-rail du Rhô...</td>\n",
       "    </tr>\n",
       "    <tr>\n",
       "      <td>3741</td>\n",
       "      <td>2020-03-13</td>\n",
       "      <td>intercites</td>\n",
       "      <td>Toulouse-Bayonne</td>\n",
       "      <td>NaN</td>\n",
       "    </tr>\n",
       "    <tr>\n",
       "      <td>3742</td>\n",
       "      <td>2020-03-13</td>\n",
       "      <td>intercites</td>\n",
       "      <td>Clermont-Béziers</td>\n",
       "      <td>NaN</td>\n",
       "    </tr>\n",
       "    <tr>\n",
       "      <td>3743</td>\n",
       "      <td>2020-03-13</td>\n",
       "      <td>intercites</td>\n",
       "      <td>Paris-Toulouse-Latour De Carol/Cerbere/Rodez</td>\n",
       "      <td>NaN</td>\n",
       "    </tr>\n",
       "    <tr>\n",
       "      <td>3744</td>\n",
       "      <td>2020-03-13</td>\n",
       "      <td>intercites</td>\n",
       "      <td>Paris-Briançon</td>\n",
       "      <td>NaN</td>\n",
       "    </tr>\n",
       "  </tbody>\n",
       "</table>\n",
       "<p>3745 rows × 4 columns</p>\n",
       "</div>"
      ],
      "text/plain": [
       "            date famille_transport  \\\n",
       "0     2019-01-23        transilien   \n",
       "1     2019-01-23        transilien   \n",
       "2     2019-01-23        transilien   \n",
       "3     2019-01-23        transilien   \n",
       "4     2019-01-23        transilien   \n",
       "...          ...               ...   \n",
       "3740  2020-03-13        intercites   \n",
       "3741  2020-03-13        intercites   \n",
       "3742  2020-03-13        intercites   \n",
       "3743  2020-03-13        intercites   \n",
       "3744  2020-03-13        intercites   \n",
       "\n",
       "                                             ligne  \\\n",
       "0                                                A   \n",
       "1                                                B   \n",
       "2                                                C   \n",
       "3                                                D   \n",
       "4                                                E   \n",
       "...                                            ...   \n",
       "3740                                   Nantes-Lyon   \n",
       "3741                              Toulouse-Bayonne   \n",
       "3742                              Clermont-Béziers   \n",
       "3743  Paris-Toulouse-Latour De Carol/Cerbere/Rodez   \n",
       "3744                                Paris-Briançon   \n",
       "\n",
       "                                              incidents  \n",
       "0     ['Défaut de signalisation entre Nation et Aube...  \n",
       "1     ['Intervention de police à Gare-du-Nord pour u...  \n",
       "2     [\"Signal d'alarme à Bibiliothèque-François-Mit...  \n",
       "3     ['Restitution tardive de travaux de nuit à Com...  \n",
       "4     [\"Signaux d'alarme malveillants à Haussamann-S...  \n",
       "...                                                 ...  \n",
       "3740  [\"Présence d'individus sur le pont-rail du Rhô...  \n",
       "3741                                                NaN  \n",
       "3742                                                NaN  \n",
       "3743                                                NaN  \n",
       "3744                                                NaN  \n",
       "\n",
       "[3745 rows x 4 columns]"
      ]
     },
     "execution_count": 13,
     "metadata": {},
     "output_type": "execute_result"
    }
   ],
   "source": [
    "df2"
   ]
  },
  {
   "cell_type": "code",
   "execution_count": 14,
   "metadata": {},
   "outputs": [
    {
     "data": {
      "text/plain": [
       "date                  object\n",
       "famille_transport     object\n",
       "ligne                 object\n",
       "regularite           float64\n",
       "explication           object\n",
       "dtype: object"
      ]
     },
     "execution_count": 14,
     "metadata": {},
     "output_type": "execute_result"
    }
   ],
   "source": [
    "df.dtypes"
   ]
  },
  {
   "cell_type": "code",
   "execution_count": 15,
   "metadata": {},
   "outputs": [
    {
     "data": {
      "text/html": [
       "<div>\n",
       "<style scoped>\n",
       "    .dataframe tbody tr th:only-of-type {\n",
       "        vertical-align: middle;\n",
       "    }\n",
       "\n",
       "    .dataframe tbody tr th {\n",
       "        vertical-align: top;\n",
       "    }\n",
       "\n",
       "    .dataframe thead th {\n",
       "        text-align: right;\n",
       "    }\n",
       "</style>\n",
       "<table border=\"1\" class=\"dataframe\">\n",
       "  <thead>\n",
       "    <tr style=\"text-align: right;\">\n",
       "      <th></th>\n",
       "      <th>date</th>\n",
       "      <th>famille_transport</th>\n",
       "      <th>ligne</th>\n",
       "      <th>regularite</th>\n",
       "      <th>explication</th>\n",
       "    </tr>\n",
       "  </thead>\n",
       "  <tbody>\n",
       "    <tr>\n",
       "      <td>0</td>\n",
       "      <td>2019-01-23</td>\n",
       "      <td>transilien</td>\n",
       "      <td>global</td>\n",
       "      <td>84.2</td>\n",
       "      <td>NaN</td>\n",
       "    </tr>\n",
       "    <tr>\n",
       "      <td>1</td>\n",
       "      <td>2019-01-23</td>\n",
       "      <td>transilien</td>\n",
       "      <td>A</td>\n",
       "      <td>82.1</td>\n",
       "      <td>NaN</td>\n",
       "    </tr>\n",
       "    <tr>\n",
       "      <td>2</td>\n",
       "      <td>2019-01-23</td>\n",
       "      <td>transilien</td>\n",
       "      <td>B</td>\n",
       "      <td>88.9</td>\n",
       "      <td>NaN</td>\n",
       "    </tr>\n",
       "    <tr>\n",
       "      <td>3</td>\n",
       "      <td>2019-01-23</td>\n",
       "      <td>transilien</td>\n",
       "      <td>C</td>\n",
       "      <td>84.3</td>\n",
       "      <td>NaN</td>\n",
       "    </tr>\n",
       "    <tr>\n",
       "      <td>4</td>\n",
       "      <td>2019-01-23</td>\n",
       "      <td>transilien</td>\n",
       "      <td>D</td>\n",
       "      <td>74.5</td>\n",
       "      <td>NaN</td>\n",
       "    </tr>\n",
       "    <tr>\n",
       "      <td>...</td>\n",
       "      <td>...</td>\n",
       "      <td>...</td>\n",
       "      <td>...</td>\n",
       "      <td>...</td>\n",
       "      <td>...</td>\n",
       "    </tr>\n",
       "    <tr>\n",
       "      <td>4080</td>\n",
       "      <td>2020-03-13</td>\n",
       "      <td>intercites</td>\n",
       "      <td>Nantes-Lyon</td>\n",
       "      <td>75.0</td>\n",
       "      <td>NaN</td>\n",
       "    </tr>\n",
       "    <tr>\n",
       "      <td>4081</td>\n",
       "      <td>2020-03-13</td>\n",
       "      <td>intercites</td>\n",
       "      <td>Toulouse-Bayonne</td>\n",
       "      <td>87.5</td>\n",
       "      <td>NaN</td>\n",
       "    </tr>\n",
       "    <tr>\n",
       "      <td>4082</td>\n",
       "      <td>2020-03-13</td>\n",
       "      <td>intercites</td>\n",
       "      <td>Clermont-Béziers</td>\n",
       "      <td>100.0</td>\n",
       "      <td>NaN</td>\n",
       "    </tr>\n",
       "    <tr>\n",
       "      <td>4083</td>\n",
       "      <td>2020-03-13</td>\n",
       "      <td>intercites</td>\n",
       "      <td>Paris-Toulouse-Latour De Carol/Cerbere/Rodez</td>\n",
       "      <td>83.3</td>\n",
       "      <td>NaN</td>\n",
       "    </tr>\n",
       "    <tr>\n",
       "      <td>4084</td>\n",
       "      <td>2020-03-13</td>\n",
       "      <td>intercites</td>\n",
       "      <td>Paris-Briançon</td>\n",
       "      <td>100.0</td>\n",
       "      <td>NaN</td>\n",
       "    </tr>\n",
       "  </tbody>\n",
       "</table>\n",
       "<p>4085 rows × 5 columns</p>\n",
       "</div>"
      ],
      "text/plain": [
       "            date famille_transport  \\\n",
       "0     2019-01-23        transilien   \n",
       "1     2019-01-23        transilien   \n",
       "2     2019-01-23        transilien   \n",
       "3     2019-01-23        transilien   \n",
       "4     2019-01-23        transilien   \n",
       "...          ...               ...   \n",
       "4080  2020-03-13        intercites   \n",
       "4081  2020-03-13        intercites   \n",
       "4082  2020-03-13        intercites   \n",
       "4083  2020-03-13        intercites   \n",
       "4084  2020-03-13        intercites   \n",
       "\n",
       "                                             ligne  regularite explication  \n",
       "0                                           global        84.2         NaN  \n",
       "1                                                A        82.1         NaN  \n",
       "2                                                B        88.9         NaN  \n",
       "3                                                C        84.3         NaN  \n",
       "4                                                D        74.5         NaN  \n",
       "...                                            ...         ...         ...  \n",
       "4080                                   Nantes-Lyon        75.0         NaN  \n",
       "4081                              Toulouse-Bayonne        87.5         NaN  \n",
       "4082                              Clermont-Béziers       100.0         NaN  \n",
       "4083  Paris-Toulouse-Latour De Carol/Cerbere/Rodez        83.3         NaN  \n",
       "4084                                Paris-Briançon       100.0         NaN  \n",
       "\n",
       "[4085 rows x 5 columns]"
      ]
     },
     "execution_count": 15,
     "metadata": {},
     "output_type": "execute_result"
    }
   ],
   "source": [
    "df"
   ]
  },
  {
   "cell_type": "markdown",
   "metadata": {},
   "source": [
    "## changer la date"
   ]
  },
  {
   "cell_type": "code",
   "execution_count": 16,
   "metadata": {},
   "outputs": [],
   "source": [
    "unedate = \"01/12/2019\""
   ]
  },
  {
   "cell_type": "code",
   "execution_count": 17,
   "metadata": {},
   "outputs": [
    {
     "data": {
      "text/plain": [
       "Timestamp('2019-01-12 00:00:00')"
      ]
     },
     "execution_count": 17,
     "metadata": {},
     "output_type": "execute_result"
    }
   ],
   "source": [
    "pd.to_datetime(unedate)"
   ]
  },
  {
   "cell_type": "code",
   "execution_count": 18,
   "metadata": {},
   "outputs": [],
   "source": [
    "une_autre_date = \"24/01/2020\""
   ]
  },
  {
   "cell_type": "code",
   "execution_count": 19,
   "metadata": {},
   "outputs": [
    {
     "data": {
      "text/plain": [
       "Timestamp('2020-01-24 00:00:00')"
      ]
     },
     "execution_count": 19,
     "metadata": {},
     "output_type": "execute_result"
    }
   ],
   "source": [
    "pd.to_datetime(une_autre_date)"
   ]
  },
  {
   "cell_type": "markdown",
   "metadata": {},
   "source": [
    "## difference de dates"
   ]
  },
  {
   "cell_type": "code",
   "execution_count": 20,
   "metadata": {},
   "outputs": [],
   "source": [
    "diff = pd.to_datetime(une_autre_date) - pd.to_datetime(unedate)"
   ]
  },
  {
   "cell_type": "code",
   "execution_count": 21,
   "metadata": {},
   "outputs": [
    {
     "data": {
      "text/plain": [
       "Timedelta('377 days 00:00:00')"
      ]
     },
     "execution_count": 21,
     "metadata": {},
     "output_type": "execute_result"
    }
   ],
   "source": [
    "diff"
   ]
  },
  {
   "cell_type": "code",
   "execution_count": 22,
   "metadata": {},
   "outputs": [
    {
     "data": {
      "text/plain": [
       "377"
      ]
     },
     "execution_count": 22,
     "metadata": {},
     "output_type": "execute_result"
    }
   ],
   "source": [
    "diff.days"
   ]
  },
  {
   "cell_type": "markdown",
   "metadata": {},
   "source": [
    "## ne pas se fier à pd.to_datetime SANS FORMAT !"
   ]
  },
  {
   "cell_type": "code",
   "execution_count": 23,
   "metadata": {},
   "outputs": [
    {
     "data": {
      "text/plain": [
       "7"
      ]
     },
     "execution_count": 23,
     "metadata": {},
     "output_type": "execute_result"
    }
   ],
   "source": [
    "pd.to_datetime(\"07/10/2019\", format=\"%d/%m/%Y\").day"
   ]
  },
  {
   "cell_type": "code",
   "execution_count": 24,
   "metadata": {},
   "outputs": [
    {
     "data": {
      "text/plain": [
       "30"
      ]
     },
     "execution_count": 24,
     "metadata": {},
     "output_type": "execute_result"
    }
   ],
   "source": [
    "pd.to_datetime(\"30/10/2019\", format=\"%d/%m/%Y\").day"
   ]
  },
  {
   "cell_type": "markdown",
   "metadata": {},
   "source": [
    "## maintenant qu'on sait: convertir la colonne"
   ]
  },
  {
   "cell_type": "code",
   "execution_count": 25,
   "metadata": {},
   "outputs": [],
   "source": [
    "df.date = pd.to_datetime(df.date, format=\"%Y/%m/%d\")"
   ]
  },
  {
   "cell_type": "code",
   "execution_count": 26,
   "metadata": {},
   "outputs": [
    {
     "data": {
      "text/plain": [
       "date                 datetime64[ns]\n",
       "famille_transport            object\n",
       "ligne                        object\n",
       "regularite                  float64\n",
       "explication                  object\n",
       "dtype: object"
      ]
     },
     "execution_count": 26,
     "metadata": {},
     "output_type": "execute_result"
    }
   ],
   "source": [
    "df.dtypes"
   ]
  },
  {
   "cell_type": "code",
   "execution_count": 27,
   "metadata": {},
   "outputs": [
    {
     "data": {
      "text/plain": [
       "Index(['date', 'famille_transport', 'ligne', 'regularite', 'explication'], dtype='object')"
      ]
     },
     "execution_count": 27,
     "metadata": {},
     "output_type": "execute_result"
    }
   ],
   "source": [
    "df.columns"
   ]
  },
  {
   "cell_type": "code",
   "execution_count": 28,
   "metadata": {},
   "outputs": [
    {
     "data": {
      "text/html": [
       "<div>\n",
       "<style scoped>\n",
       "    .dataframe tbody tr th:only-of-type {\n",
       "        vertical-align: middle;\n",
       "    }\n",
       "\n",
       "    .dataframe tbody tr th {\n",
       "        vertical-align: top;\n",
       "    }\n",
       "\n",
       "    .dataframe thead th {\n",
       "        text-align: right;\n",
       "    }\n",
       "</style>\n",
       "<table border=\"1\" class=\"dataframe\">\n",
       "  <thead>\n",
       "    <tr style=\"text-align: right;\">\n",
       "      <th></th>\n",
       "      <th>date</th>\n",
       "      <th>famille_transport</th>\n",
       "      <th>ligne</th>\n",
       "      <th>regularite</th>\n",
       "      <th>explication</th>\n",
       "    </tr>\n",
       "  </thead>\n",
       "  <tbody>\n",
       "    <tr>\n",
       "      <td>0</td>\n",
       "      <td>2019-01-23</td>\n",
       "      <td>transilien</td>\n",
       "      <td>global</td>\n",
       "      <td>84.2</td>\n",
       "      <td>NaN</td>\n",
       "    </tr>\n",
       "    <tr>\n",
       "      <td>1</td>\n",
       "      <td>2019-01-23</td>\n",
       "      <td>transilien</td>\n",
       "      <td>A</td>\n",
       "      <td>82.1</td>\n",
       "      <td>NaN</td>\n",
       "    </tr>\n",
       "    <tr>\n",
       "      <td>2</td>\n",
       "      <td>2019-01-23</td>\n",
       "      <td>transilien</td>\n",
       "      <td>B</td>\n",
       "      <td>88.9</td>\n",
       "      <td>NaN</td>\n",
       "    </tr>\n",
       "    <tr>\n",
       "      <td>3</td>\n",
       "      <td>2019-01-23</td>\n",
       "      <td>transilien</td>\n",
       "      <td>C</td>\n",
       "      <td>84.3</td>\n",
       "      <td>NaN</td>\n",
       "    </tr>\n",
       "    <tr>\n",
       "      <td>4</td>\n",
       "      <td>2019-01-23</td>\n",
       "      <td>transilien</td>\n",
       "      <td>D</td>\n",
       "      <td>74.5</td>\n",
       "      <td>NaN</td>\n",
       "    </tr>\n",
       "    <tr>\n",
       "      <td>...</td>\n",
       "      <td>...</td>\n",
       "      <td>...</td>\n",
       "      <td>...</td>\n",
       "      <td>...</td>\n",
       "      <td>...</td>\n",
       "    </tr>\n",
       "    <tr>\n",
       "      <td>4080</td>\n",
       "      <td>2020-03-13</td>\n",
       "      <td>intercites</td>\n",
       "      <td>Nantes-Lyon</td>\n",
       "      <td>75.0</td>\n",
       "      <td>NaN</td>\n",
       "    </tr>\n",
       "    <tr>\n",
       "      <td>4081</td>\n",
       "      <td>2020-03-13</td>\n",
       "      <td>intercites</td>\n",
       "      <td>Toulouse-Bayonne</td>\n",
       "      <td>87.5</td>\n",
       "      <td>NaN</td>\n",
       "    </tr>\n",
       "    <tr>\n",
       "      <td>4082</td>\n",
       "      <td>2020-03-13</td>\n",
       "      <td>intercites</td>\n",
       "      <td>Clermont-Béziers</td>\n",
       "      <td>100.0</td>\n",
       "      <td>NaN</td>\n",
       "    </tr>\n",
       "    <tr>\n",
       "      <td>4083</td>\n",
       "      <td>2020-03-13</td>\n",
       "      <td>intercites</td>\n",
       "      <td>Paris-Toulouse-Latour De Carol/Cerbere/Rodez</td>\n",
       "      <td>83.3</td>\n",
       "      <td>NaN</td>\n",
       "    </tr>\n",
       "    <tr>\n",
       "      <td>4084</td>\n",
       "      <td>2020-03-13</td>\n",
       "      <td>intercites</td>\n",
       "      <td>Paris-Briançon</td>\n",
       "      <td>100.0</td>\n",
       "      <td>NaN</td>\n",
       "    </tr>\n",
       "  </tbody>\n",
       "</table>\n",
       "<p>4085 rows × 5 columns</p>\n",
       "</div>"
      ],
      "text/plain": [
       "           date famille_transport  \\\n",
       "0    2019-01-23        transilien   \n",
       "1    2019-01-23        transilien   \n",
       "2    2019-01-23        transilien   \n",
       "3    2019-01-23        transilien   \n",
       "4    2019-01-23        transilien   \n",
       "...         ...               ...   \n",
       "4080 2020-03-13        intercites   \n",
       "4081 2020-03-13        intercites   \n",
       "4082 2020-03-13        intercites   \n",
       "4083 2020-03-13        intercites   \n",
       "4084 2020-03-13        intercites   \n",
       "\n",
       "                                             ligne  regularite explication  \n",
       "0                                           global        84.2         NaN  \n",
       "1                                                A        82.1         NaN  \n",
       "2                                                B        88.9         NaN  \n",
       "3                                                C        84.3         NaN  \n",
       "4                                                D        74.5         NaN  \n",
       "...                                            ...         ...         ...  \n",
       "4080                                   Nantes-Lyon        75.0         NaN  \n",
       "4081                              Toulouse-Bayonne        87.5         NaN  \n",
       "4082                              Clermont-Béziers       100.0         NaN  \n",
       "4083  Paris-Toulouse-Latour De Carol/Cerbere/Rodez        83.3         NaN  \n",
       "4084                                Paris-Briançon       100.0         NaN  \n",
       "\n",
       "[4085 rows x 5 columns]"
      ]
     },
     "execution_count": 28,
     "metadata": {},
     "output_type": "execute_result"
    }
   ],
   "source": [
    "df"
   ]
  },
  {
   "cell_type": "markdown",
   "metadata": {},
   "source": [
    "## types de lignes SNCF sur Paris "
   ]
  },
  {
   "cell_type": "code",
   "execution_count": 29,
   "metadata": {},
   "outputs": [
    {
     "data": {
      "text/plain": [
       "global                                          340\n",
       "Paris-Toulouse-Latour De Carol/Cerbere/Rodez     85\n",
       "Paris-Briançon                                   85\n",
       "Nouvelle-Aquitaine                               85\n",
       "Pays de la Loire                                 85\n",
       "Bourgogne-Franche-Comté                          85\n",
       "Hauts-de-France                                  85\n",
       "sudest                                           85\n",
       "nord                                             85\n",
       "Paris-Clermont                                   85\n",
       "L                                                85\n",
       "T11                                              85\n",
       "Nantes-Bordeaux                                  85\n",
       "europe                                           85\n",
       "Bordeaux-Marseille                               85\n",
       "Toulouse-Bayonne                                 85\n",
       "H                                                85\n",
       "est                                              85\n",
       "Centre-Val de Loire                              85\n",
       "B                                                85\n",
       "N                                                85\n",
       "Grand Est                                        85\n",
       "J                                                85\n",
       "Normandie                                        85\n",
       "Occitanie                                        85\n",
       "Provence-Alpes-Côte d'Azur                       85\n",
       "R                                                85\n",
       "A                                                85\n",
       "Clermont-Béziers                                 85\n",
       "U                                                85\n",
       "D                                                85\n",
       "Auvergne-Rhône-Alpes                             85\n",
       "Paris-Limoges-Toulouse                           85\n",
       "C                                                85\n",
       "atlantique                                       85\n",
       "P                                                85\n",
       "T4                                               85\n",
       "ouigo                                            85\n",
       "Bretagne                                         85\n",
       "K                                                85\n",
       "Nantes-Lyon                                      85\n",
       "E                                                85\n",
       "Paris-Caen-Cherbourg Trouville/Deauville         65\n",
       "Paris-Rouen-Le Havre                             65\n",
       "Paris-Granville                                  65\n",
       "Caen-Le Mans-Tours                               65\n",
       "Name: ligne, dtype: int64"
      ]
     },
     "execution_count": 29,
     "metadata": {},
     "output_type": "execute_result"
    }
   ],
   "source": [
    "df.ligne.value_counts()"
   ]
  },
  {
   "cell_type": "code",
   "execution_count": 30,
   "metadata": {},
   "outputs": [
    {
     "data": {
      "text/plain": [
       "transilien    1360\n",
       "intercites    1110\n",
       "ter           1020\n",
       "tgv            595\n",
       "Name: famille_transport, dtype: int64"
      ]
     },
     "execution_count": 30,
     "metadata": {},
     "output_type": "execute_result"
    }
   ],
   "source": [
    "df.famille_transport.value_counts()"
   ]
  },
  {
   "cell_type": "markdown",
   "metadata": {},
   "source": [
    "## quelques métriques sur des valeurs continues"
   ]
  },
  {
   "cell_type": "code",
   "execution_count": 31,
   "metadata": {},
   "outputs": [
    {
     "data": {
      "text/html": [
       "<div>\n",
       "<style scoped>\n",
       "    .dataframe tbody tr th:only-of-type {\n",
       "        vertical-align: middle;\n",
       "    }\n",
       "\n",
       "    .dataframe tbody tr th {\n",
       "        vertical-align: top;\n",
       "    }\n",
       "\n",
       "    .dataframe thead th {\n",
       "        text-align: right;\n",
       "    }\n",
       "</style>\n",
       "<table border=\"1\" class=\"dataframe\">\n",
       "  <thead>\n",
       "    <tr style=\"text-align: right;\">\n",
       "      <th></th>\n",
       "      <th>regularite</th>\n",
       "    </tr>\n",
       "  </thead>\n",
       "  <tbody>\n",
       "    <tr>\n",
       "      <td>count</td>\n",
       "      <td>3935.000000</td>\n",
       "    </tr>\n",
       "    <tr>\n",
       "      <td>mean</td>\n",
       "      <td>84.640178</td>\n",
       "    </tr>\n",
       "    <tr>\n",
       "      <td>std</td>\n",
       "      <td>16.431291</td>\n",
       "    </tr>\n",
       "    <tr>\n",
       "      <td>min</td>\n",
       "      <td>0.000000</td>\n",
       "    </tr>\n",
       "    <tr>\n",
       "      <td>25%</td>\n",
       "      <td>81.050000</td>\n",
       "    </tr>\n",
       "    <tr>\n",
       "      <td>50%</td>\n",
       "      <td>89.700000</td>\n",
       "    </tr>\n",
       "    <tr>\n",
       "      <td>75%</td>\n",
       "      <td>94.600000</td>\n",
       "    </tr>\n",
       "    <tr>\n",
       "      <td>max</td>\n",
       "      <td>100.000000</td>\n",
       "    </tr>\n",
       "  </tbody>\n",
       "</table>\n",
       "</div>"
      ],
      "text/plain": [
       "        regularite\n",
       "count  3935.000000\n",
       "mean     84.640178\n",
       "std      16.431291\n",
       "min       0.000000\n",
       "25%      81.050000\n",
       "50%      89.700000\n",
       "75%      94.600000\n",
       "max     100.000000"
      ]
     },
     "execution_count": 31,
     "metadata": {},
     "output_type": "execute_result"
    }
   ],
   "source": [
    "df.describe()"
   ]
  },
  {
   "cell_type": "markdown",
   "metadata": {},
   "source": [
    "## visualization"
   ]
  },
  {
   "cell_type": "code",
   "execution_count": 32,
   "metadata": {},
   "outputs": [],
   "source": [
    "%matplotlib inline"
   ]
  },
  {
   "cell_type": "code",
   "execution_count": 33,
   "metadata": {},
   "outputs": [
    {
     "data": {
      "text/plain": [
       "<matplotlib.axes._subplots.AxesSubplot at 0x11391d978>"
      ]
     },
     "execution_count": 33,
     "metadata": {},
     "output_type": "execute_result"
    },
    {
     "data": {
      "image/png": "[encoded data removed]",
      "text/plain": [
       "<Figure size 432x288 with 1 Axes>"
      ]
     },
     "metadata": {},
     "output_type": "display_data"
    }
   ],
   "source": [
    "df.regularite.plot(kind=\"density\")"
   ]
  },
  {
   "cell_type": "markdown",
   "metadata": {},
   "source": [
    "### exercices : faire un histogramme nb de valeurs dans famille de transports"
   ]
  },
  {
   "cell_type": "code",
   "execution_count": 34,
   "metadata": {},
   "outputs": [
    {
     "data": {
      "image/png": "[encoded data removed]",
      "text/plain": [
       "<Figure size 432x288 with 1 Axes>"
      ]
     },
     "metadata": {},
     "output_type": "display_data"
    }
   ],
   "source": [
    "df_pour_histogram = df.famille_transport.value_counts().plot(kind='bar')"
   ]
  },
  {
   "cell_type": "markdown",
   "metadata": {},
   "source": [
    "## grouper par catégorie"
   ]
  },
  {
   "cell_type": "code",
   "execution_count": 35,
   "metadata": {},
   "outputs": [
    {
     "data": {
      "text/plain": [
       "<pandas.core.groupby.generic.DataFrameGroupBy object at 0x1129cba58>"
      ]
     },
     "execution_count": 35,
     "metadata": {},
     "output_type": "execute_result"
    }
   ],
   "source": [
    "df.groupby([\"famille_transport\"])"
   ]
  },
  {
   "cell_type": "code",
   "execution_count": 36,
   "metadata": {},
   "outputs": [
    {
     "data": {
      "text/plain": [
       "'intercites'"
      ]
     },
     "metadata": {},
     "output_type": "display_data"
    },
    {
     "data": {
      "text/html": [
       "<div>\n",
       "<style scoped>\n",
       "    .dataframe tbody tr th:only-of-type {\n",
       "        vertical-align: middle;\n",
       "    }\n",
       "\n",
       "    .dataframe tbody tr th {\n",
       "        vertical-align: top;\n",
       "    }\n",
       "\n",
       "    .dataframe thead th {\n",
       "        text-align: right;\n",
       "    }\n",
       "</style>\n",
       "<table border=\"1\" class=\"dataframe\">\n",
       "  <thead>\n",
       "    <tr style=\"text-align: right;\">\n",
       "      <th></th>\n",
       "      <th>date</th>\n",
       "      <th>famille_transport</th>\n",
       "      <th>ligne</th>\n",
       "      <th>regularite</th>\n",
       "      <th>explication</th>\n",
       "    </tr>\n",
       "  </thead>\n",
       "  <tbody>\n",
       "    <tr>\n",
       "      <td>35</td>\n",
       "      <td>2019-01-23</td>\n",
       "      <td>intercites</td>\n",
       "      <td>global</td>\n",
       "      <td>81.9</td>\n",
       "      <td>NaN</td>\n",
       "    </tr>\n",
       "    <tr>\n",
       "      <td>36</td>\n",
       "      <td>2019-01-23</td>\n",
       "      <td>intercites</td>\n",
       "      <td>Paris-Limoges-Toulouse</td>\n",
       "      <td>85.0</td>\n",
       "      <td>NaN</td>\n",
       "    </tr>\n",
       "    <tr>\n",
       "      <td>37</td>\n",
       "      <td>2019-01-23</td>\n",
       "      <td>intercites</td>\n",
       "      <td>Paris-Clermont</td>\n",
       "      <td>93.8</td>\n",
       "      <td>NaN</td>\n",
       "    </tr>\n",
       "    <tr>\n",
       "      <td>38</td>\n",
       "      <td>2019-01-23</td>\n",
       "      <td>intercites</td>\n",
       "      <td>Bordeaux-Marseille</td>\n",
       "      <td>66.7</td>\n",
       "      <td>NaN</td>\n",
       "    </tr>\n",
       "    <tr>\n",
       "      <td>39</td>\n",
       "      <td>2019-01-23</td>\n",
       "      <td>intercites</td>\n",
       "      <td>Nantes-Bordeaux</td>\n",
       "      <td>100.0</td>\n",
       "      <td>NaN</td>\n",
       "    </tr>\n",
       "    <tr>\n",
       "      <td>...</td>\n",
       "      <td>...</td>\n",
       "      <td>...</td>\n",
       "      <td>...</td>\n",
       "      <td>...</td>\n",
       "      <td>...</td>\n",
       "    </tr>\n",
       "    <tr>\n",
       "      <td>4080</td>\n",
       "      <td>2020-03-13</td>\n",
       "      <td>intercites</td>\n",
       "      <td>Nantes-Lyon</td>\n",
       "      <td>75.0</td>\n",
       "      <td>NaN</td>\n",
       "    </tr>\n",
       "    <tr>\n",
       "      <td>4081</td>\n",
       "      <td>2020-03-13</td>\n",
       "      <td>intercites</td>\n",
       "      <td>Toulouse-Bayonne</td>\n",
       "      <td>87.5</td>\n",
       "      <td>NaN</td>\n",
       "    </tr>\n",
       "    <tr>\n",
       "      <td>4082</td>\n",
       "      <td>2020-03-13</td>\n",
       "      <td>intercites</td>\n",
       "      <td>Clermont-Béziers</td>\n",
       "      <td>100.0</td>\n",
       "      <td>NaN</td>\n",
       "    </tr>\n",
       "    <tr>\n",
       "      <td>4083</td>\n",
       "      <td>2020-03-13</td>\n",
       "      <td>intercites</td>\n",
       "      <td>Paris-Toulouse-Latour De Carol/Cerbere/Rodez</td>\n",
       "      <td>83.3</td>\n",
       "      <td>NaN</td>\n",
       "    </tr>\n",
       "    <tr>\n",
       "      <td>4084</td>\n",
       "      <td>2020-03-13</td>\n",
       "      <td>intercites</td>\n",
       "      <td>Paris-Briançon</td>\n",
       "      <td>100.0</td>\n",
       "      <td>NaN</td>\n",
       "    </tr>\n",
       "  </tbody>\n",
       "</table>\n",
       "<p>1110 rows × 5 columns</p>\n",
       "</div>"
      ],
      "text/plain": [
       "           date famille_transport  \\\n",
       "35   2019-01-23        intercites   \n",
       "36   2019-01-23        intercites   \n",
       "37   2019-01-23        intercites   \n",
       "38   2019-01-23        intercites   \n",
       "39   2019-01-23        intercites   \n",
       "...         ...               ...   \n",
       "4080 2020-03-13        intercites   \n",
       "4081 2020-03-13        intercites   \n",
       "4082 2020-03-13        intercites   \n",
       "4083 2020-03-13        intercites   \n",
       "4084 2020-03-13        intercites   \n",
       "\n",
       "                                             ligne  regularite explication  \n",
       "35                                          global        81.9         NaN  \n",
       "36                          Paris-Limoges-Toulouse        85.0         NaN  \n",
       "37                                  Paris-Clermont        93.8         NaN  \n",
       "38                              Bordeaux-Marseille        66.7         NaN  \n",
       "39                                 Nantes-Bordeaux       100.0         NaN  \n",
       "...                                            ...         ...         ...  \n",
       "4080                                   Nantes-Lyon        75.0         NaN  \n",
       "4081                              Toulouse-Bayonne        87.5         NaN  \n",
       "4082                              Clermont-Béziers       100.0         NaN  \n",
       "4083  Paris-Toulouse-Latour De Carol/Cerbere/Rodez        83.3         NaN  \n",
       "4084                                Paris-Briançon       100.0         NaN  \n",
       "\n",
       "[1110 rows x 5 columns]"
      ]
     },
     "metadata": {},
     "output_type": "display_data"
    },
    {
     "data": {
      "text/plain": [
       "'ter'"
      ]
     },
     "metadata": {},
     "output_type": "display_data"
    },
    {
     "data": {
      "text/html": [
       "<div>\n",
       "<style scoped>\n",
       "    .dataframe tbody tr th:only-of-type {\n",
       "        vertical-align: middle;\n",
       "    }\n",
       "\n",
       "    .dataframe tbody tr th {\n",
       "        vertical-align: top;\n",
       "    }\n",
       "\n",
       "    .dataframe thead th {\n",
       "        text-align: right;\n",
       "    }\n",
       "</style>\n",
       "<table border=\"1\" class=\"dataframe\">\n",
       "  <thead>\n",
       "    <tr style=\"text-align: right;\">\n",
       "      <th></th>\n",
       "      <th>date</th>\n",
       "      <th>famille_transport</th>\n",
       "      <th>ligne</th>\n",
       "      <th>regularite</th>\n",
       "      <th>explication</th>\n",
       "    </tr>\n",
       "  </thead>\n",
       "  <tbody>\n",
       "    <tr>\n",
       "      <td>16</td>\n",
       "      <td>2019-01-23</td>\n",
       "      <td>ter</td>\n",
       "      <td>global</td>\n",
       "      <td>87.8</td>\n",
       "      <td>NaN</td>\n",
       "    </tr>\n",
       "    <tr>\n",
       "      <td>17</td>\n",
       "      <td>2019-01-23</td>\n",
       "      <td>ter</td>\n",
       "      <td>Grand Est</td>\n",
       "      <td>91.4</td>\n",
       "      <td>NaN</td>\n",
       "    </tr>\n",
       "    <tr>\n",
       "      <td>18</td>\n",
       "      <td>2019-01-23</td>\n",
       "      <td>ter</td>\n",
       "      <td>Nouvelle-Aquitaine</td>\n",
       "      <td>96.4</td>\n",
       "      <td>NaN</td>\n",
       "    </tr>\n",
       "    <tr>\n",
       "      <td>19</td>\n",
       "      <td>2019-01-23</td>\n",
       "      <td>ter</td>\n",
       "      <td>Auvergne-Rhône-Alpes</td>\n",
       "      <td>86.5</td>\n",
       "      <td>NaN</td>\n",
       "    </tr>\n",
       "    <tr>\n",
       "      <td>20</td>\n",
       "      <td>2019-01-23</td>\n",
       "      <td>ter</td>\n",
       "      <td>Bourgogne-Franche-Comté</td>\n",
       "      <td>90.3</td>\n",
       "      <td>NaN</td>\n",
       "    </tr>\n",
       "    <tr>\n",
       "      <td>...</td>\n",
       "      <td>...</td>\n",
       "      <td>...</td>\n",
       "      <td>...</td>\n",
       "      <td>...</td>\n",
       "      <td>...</td>\n",
       "    </tr>\n",
       "    <tr>\n",
       "      <td>4063</td>\n",
       "      <td>2020-03-13</td>\n",
       "      <td>ter</td>\n",
       "      <td>Occitanie</td>\n",
       "      <td>91.5</td>\n",
       "      <td>NaN</td>\n",
       "    </tr>\n",
       "    <tr>\n",
       "      <td>4064</td>\n",
       "      <td>2020-03-13</td>\n",
       "      <td>ter</td>\n",
       "      <td>Hauts-de-France</td>\n",
       "      <td>93.6</td>\n",
       "      <td>NaN</td>\n",
       "    </tr>\n",
       "    <tr>\n",
       "      <td>4065</td>\n",
       "      <td>2020-03-13</td>\n",
       "      <td>ter</td>\n",
       "      <td>Normandie</td>\n",
       "      <td>94.6</td>\n",
       "      <td>NaN</td>\n",
       "    </tr>\n",
       "    <tr>\n",
       "      <td>4066</td>\n",
       "      <td>2020-03-13</td>\n",
       "      <td>ter</td>\n",
       "      <td>Pays de la Loire</td>\n",
       "      <td>92.9</td>\n",
       "      <td>NaN</td>\n",
       "    </tr>\n",
       "    <tr>\n",
       "      <td>4067</td>\n",
       "      <td>2020-03-13</td>\n",
       "      <td>ter</td>\n",
       "      <td>Provence-Alpes-Côte d'Azur</td>\n",
       "      <td>94.4</td>\n",
       "      <td>NaN</td>\n",
       "    </tr>\n",
       "  </tbody>\n",
       "</table>\n",
       "<p>1020 rows × 5 columns</p>\n",
       "</div>"
      ],
      "text/plain": [
       "           date famille_transport                       ligne  regularite  \\\n",
       "16   2019-01-23               ter                      global        87.8   \n",
       "17   2019-01-23               ter                   Grand Est        91.4   \n",
       "18   2019-01-23               ter          Nouvelle-Aquitaine        96.4   \n",
       "19   2019-01-23               ter        Auvergne-Rhône-Alpes        86.5   \n",
       "20   2019-01-23               ter     Bourgogne-Franche-Comté        90.3   \n",
       "...         ...               ...                         ...         ...   \n",
       "4063 2020-03-13               ter                   Occitanie        91.5   \n",
       "4064 2020-03-13               ter             Hauts-de-France        93.6   \n",
       "4065 2020-03-13               ter                   Normandie        94.6   \n",
       "4066 2020-03-13               ter            Pays de la Loire        92.9   \n",
       "4067 2020-03-13               ter  Provence-Alpes-Côte d'Azur        94.4   \n",
       "\n",
       "     explication  \n",
       "16           NaN  \n",
       "17           NaN  \n",
       "18           NaN  \n",
       "19           NaN  \n",
       "20           NaN  \n",
       "...          ...  \n",
       "4063         NaN  \n",
       "4064         NaN  \n",
       "4065         NaN  \n",
       "4066         NaN  \n",
       "4067         NaN  \n",
       "\n",
       "[1020 rows x 5 columns]"
      ]
     },
     "metadata": {},
     "output_type": "display_data"
    },
    {
     "data": {
      "text/plain": [
       "'tgv'"
      ]
     },
     "metadata": {},
     "output_type": "display_data"
    },
    {
     "data": {
      "text/html": [
       "<div>\n",
       "<style scoped>\n",
       "    .dataframe tbody tr th:only-of-type {\n",
       "        vertical-align: middle;\n",
       "    }\n",
       "\n",
       "    .dataframe tbody tr th {\n",
       "        vertical-align: top;\n",
       "    }\n",
       "\n",
       "    .dataframe thead th {\n",
       "        text-align: right;\n",
       "    }\n",
       "</style>\n",
       "<table border=\"1\" class=\"dataframe\">\n",
       "  <thead>\n",
       "    <tr style=\"text-align: right;\">\n",
       "      <th></th>\n",
       "      <th>date</th>\n",
       "      <th>famille_transport</th>\n",
       "      <th>ligne</th>\n",
       "      <th>regularite</th>\n",
       "      <th>explication</th>\n",
       "    </tr>\n",
       "  </thead>\n",
       "  <tbody>\n",
       "    <tr>\n",
       "      <td>28</td>\n",
       "      <td>2019-01-23</td>\n",
       "      <td>tgv</td>\n",
       "      <td>global</td>\n",
       "      <td>52.2</td>\n",
       "      <td>NaN</td>\n",
       "    </tr>\n",
       "    <tr>\n",
       "      <td>29</td>\n",
       "      <td>2019-01-23</td>\n",
       "      <td>tgv</td>\n",
       "      <td>nord</td>\n",
       "      <td>11.8</td>\n",
       "      <td>NaN</td>\n",
       "    </tr>\n",
       "    <tr>\n",
       "      <td>30</td>\n",
       "      <td>2019-01-23</td>\n",
       "      <td>tgv</td>\n",
       "      <td>est</td>\n",
       "      <td>12.3</td>\n",
       "      <td>NaN</td>\n",
       "    </tr>\n",
       "    <tr>\n",
       "      <td>31</td>\n",
       "      <td>2019-01-23</td>\n",
       "      <td>tgv</td>\n",
       "      <td>atlantique</td>\n",
       "      <td>88.7</td>\n",
       "      <td>NaN</td>\n",
       "    </tr>\n",
       "    <tr>\n",
       "      <td>32</td>\n",
       "      <td>2019-01-23</td>\n",
       "      <td>tgv</td>\n",
       "      <td>sudest</td>\n",
       "      <td>48.8</td>\n",
       "      <td>NaN</td>\n",
       "    </tr>\n",
       "    <tr>\n",
       "      <td>...</td>\n",
       "      <td>...</td>\n",
       "      <td>...</td>\n",
       "      <td>...</td>\n",
       "      <td>...</td>\n",
       "      <td>...</td>\n",
       "    </tr>\n",
       "    <tr>\n",
       "      <td>4070</td>\n",
       "      <td>2020-03-13</td>\n",
       "      <td>tgv</td>\n",
       "      <td>est</td>\n",
       "      <td>87.1</td>\n",
       "      <td>NaN</td>\n",
       "    </tr>\n",
       "    <tr>\n",
       "      <td>4071</td>\n",
       "      <td>2020-03-13</td>\n",
       "      <td>tgv</td>\n",
       "      <td>atlantique</td>\n",
       "      <td>83.6</td>\n",
       "      <td>NaN</td>\n",
       "    </tr>\n",
       "    <tr>\n",
       "      <td>4072</td>\n",
       "      <td>2020-03-13</td>\n",
       "      <td>tgv</td>\n",
       "      <td>sudest</td>\n",
       "      <td>95.7</td>\n",
       "      <td>NaN</td>\n",
       "    </tr>\n",
       "    <tr>\n",
       "      <td>4073</td>\n",
       "      <td>2020-03-13</td>\n",
       "      <td>tgv</td>\n",
       "      <td>ouigo</td>\n",
       "      <td>96.7</td>\n",
       "      <td>NaN</td>\n",
       "    </tr>\n",
       "    <tr>\n",
       "      <td>4074</td>\n",
       "      <td>2020-03-13</td>\n",
       "      <td>tgv</td>\n",
       "      <td>europe</td>\n",
       "      <td>76.8</td>\n",
       "      <td>NaN</td>\n",
       "    </tr>\n",
       "  </tbody>\n",
       "</table>\n",
       "<p>595 rows × 5 columns</p>\n",
       "</div>"
      ],
      "text/plain": [
       "           date famille_transport       ligne  regularite explication\n",
       "28   2019-01-23               tgv      global        52.2         NaN\n",
       "29   2019-01-23               tgv        nord        11.8         NaN\n",
       "30   2019-01-23               tgv         est        12.3         NaN\n",
       "31   2019-01-23               tgv  atlantique        88.7         NaN\n",
       "32   2019-01-23               tgv      sudest        48.8         NaN\n",
       "...         ...               ...         ...         ...         ...\n",
       "4070 2020-03-13               tgv         est        87.1         NaN\n",
       "4071 2020-03-13               tgv  atlantique        83.6         NaN\n",
       "4072 2020-03-13               tgv      sudest        95.7         NaN\n",
       "4073 2020-03-13               tgv       ouigo        96.7         NaN\n",
       "4074 2020-03-13               tgv      europe        76.8         NaN\n",
       "\n",
       "[595 rows x 5 columns]"
      ]
     },
     "metadata": {},
     "output_type": "display_data"
    },
    {
     "data": {
      "text/plain": [
       "'transilien'"
      ]
     },
     "metadata": {},
     "output_type": "display_data"
    },
    {
     "data": {
      "text/html": [
       "<div>\n",
       "<style scoped>\n",
       "    .dataframe tbody tr th:only-of-type {\n",
       "        vertical-align: middle;\n",
       "    }\n",
       "\n",
       "    .dataframe tbody tr th {\n",
       "        vertical-align: top;\n",
       "    }\n",
       "\n",
       "    .dataframe thead th {\n",
       "        text-align: right;\n",
       "    }\n",
       "</style>\n",
       "<table border=\"1\" class=\"dataframe\">\n",
       "  <thead>\n",
       "    <tr style=\"text-align: right;\">\n",
       "      <th></th>\n",
       "      <th>date</th>\n",
       "      <th>famille_transport</th>\n",
       "      <th>ligne</th>\n",
       "      <th>regularite</th>\n",
       "      <th>explication</th>\n",
       "    </tr>\n",
       "  </thead>\n",
       "  <tbody>\n",
       "    <tr>\n",
       "      <td>0</td>\n",
       "      <td>2019-01-23</td>\n",
       "      <td>transilien</td>\n",
       "      <td>global</td>\n",
       "      <td>84.2</td>\n",
       "      <td>NaN</td>\n",
       "    </tr>\n",
       "    <tr>\n",
       "      <td>1</td>\n",
       "      <td>2019-01-23</td>\n",
       "      <td>transilien</td>\n",
       "      <td>A</td>\n",
       "      <td>82.1</td>\n",
       "      <td>NaN</td>\n",
       "    </tr>\n",
       "    <tr>\n",
       "      <td>2</td>\n",
       "      <td>2019-01-23</td>\n",
       "      <td>transilien</td>\n",
       "      <td>B</td>\n",
       "      <td>88.9</td>\n",
       "      <td>NaN</td>\n",
       "    </tr>\n",
       "    <tr>\n",
       "      <td>3</td>\n",
       "      <td>2019-01-23</td>\n",
       "      <td>transilien</td>\n",
       "      <td>C</td>\n",
       "      <td>84.3</td>\n",
       "      <td>NaN</td>\n",
       "    </tr>\n",
       "    <tr>\n",
       "      <td>4</td>\n",
       "      <td>2019-01-23</td>\n",
       "      <td>transilien</td>\n",
       "      <td>D</td>\n",
       "      <td>74.5</td>\n",
       "      <td>NaN</td>\n",
       "    </tr>\n",
       "    <tr>\n",
       "      <td>...</td>\n",
       "      <td>...</td>\n",
       "      <td>...</td>\n",
       "      <td>...</td>\n",
       "      <td>...</td>\n",
       "      <td>...</td>\n",
       "    </tr>\n",
       "    <tr>\n",
       "      <td>4051</td>\n",
       "      <td>2020-03-13</td>\n",
       "      <td>transilien</td>\n",
       "      <td>P</td>\n",
       "      <td>85.8</td>\n",
       "      <td>NaN</td>\n",
       "    </tr>\n",
       "    <tr>\n",
       "      <td>4052</td>\n",
       "      <td>2020-03-13</td>\n",
       "      <td>transilien</td>\n",
       "      <td>R</td>\n",
       "      <td>91.9</td>\n",
       "      <td>NaN</td>\n",
       "    </tr>\n",
       "    <tr>\n",
       "      <td>4053</td>\n",
       "      <td>2020-03-13</td>\n",
       "      <td>transilien</td>\n",
       "      <td>U</td>\n",
       "      <td>97.7</td>\n",
       "      <td>NaN</td>\n",
       "    </tr>\n",
       "    <tr>\n",
       "      <td>4054</td>\n",
       "      <td>2020-03-13</td>\n",
       "      <td>transilien</td>\n",
       "      <td>T4</td>\n",
       "      <td>87.0</td>\n",
       "      <td>NaN</td>\n",
       "    </tr>\n",
       "    <tr>\n",
       "      <td>4055</td>\n",
       "      <td>2020-03-13</td>\n",
       "      <td>transilien</td>\n",
       "      <td>T11</td>\n",
       "      <td>85.7</td>\n",
       "      <td>NaN</td>\n",
       "    </tr>\n",
       "  </tbody>\n",
       "</table>\n",
       "<p>1360 rows × 5 columns</p>\n",
       "</div>"
      ],
      "text/plain": [
       "           date famille_transport   ligne  regularite explication\n",
       "0    2019-01-23        transilien  global        84.2         NaN\n",
       "1    2019-01-23        transilien       A        82.1         NaN\n",
       "2    2019-01-23        transilien       B        88.9         NaN\n",
       "3    2019-01-23        transilien       C        84.3         NaN\n",
       "4    2019-01-23        transilien       D        74.5         NaN\n",
       "...         ...               ...     ...         ...         ...\n",
       "4051 2020-03-13        transilien       P        85.8         NaN\n",
       "4052 2020-03-13        transilien       R        91.9         NaN\n",
       "4053 2020-03-13        transilien       U        97.7         NaN\n",
       "4054 2020-03-13        transilien      T4        87.0         NaN\n",
       "4055 2020-03-13        transilien     T11        85.7         NaN\n",
       "\n",
       "[1360 rows x 5 columns]"
      ]
     },
     "metadata": {},
     "output_type": "display_data"
    }
   ],
   "source": [
    "for x,y in df.groupby([\"famille_transport\"]):\n",
    "    display(x)\n",
    "    display(y)"
   ]
  },
  {
   "cell_type": "code",
   "execution_count": 37,
   "metadata": {},
   "outputs": [
    {
     "data": {
      "text/html": [
       "<div>\n",
       "<style scoped>\n",
       "    .dataframe tbody tr th:only-of-type {\n",
       "        vertical-align: middle;\n",
       "    }\n",
       "\n",
       "    .dataframe tbody tr th {\n",
       "        vertical-align: top;\n",
       "    }\n",
       "\n",
       "    .dataframe thead th {\n",
       "        text-align: right;\n",
       "    }\n",
       "</style>\n",
       "<table border=\"1\" class=\"dataframe\">\n",
       "  <thead>\n",
       "    <tr style=\"text-align: right;\">\n",
       "      <th></th>\n",
       "      <th>regularite</th>\n",
       "    </tr>\n",
       "    <tr>\n",
       "      <th>famille_transport</th>\n",
       "      <th></th>\n",
       "    </tr>\n",
       "  </thead>\n",
       "  <tbody>\n",
       "    <tr>\n",
       "      <td>intercites</td>\n",
       "      <td>72.995356</td>\n",
       "    </tr>\n",
       "    <tr>\n",
       "      <td>ter</td>\n",
       "      <td>90.004804</td>\n",
       "    </tr>\n",
       "    <tr>\n",
       "      <td>tgv</td>\n",
       "      <td>87.241176</td>\n",
       "    </tr>\n",
       "    <tr>\n",
       "      <td>transilien</td>\n",
       "      <td>88.283180</td>\n",
       "    </tr>\n",
       "  </tbody>\n",
       "</table>\n",
       "</div>"
      ],
      "text/plain": [
       "                   regularite\n",
       "famille_transport            \n",
       "intercites          72.995356\n",
       "ter                 90.004804\n",
       "tgv                 87.241176\n",
       "transilien          88.283180"
      ]
     },
     "execution_count": 37,
     "metadata": {},
     "output_type": "execute_result"
    }
   ],
   "source": [
    "df.groupby([\"famille_transport\"]).mean()"
   ]
  },
  {
   "cell_type": "markdown",
   "metadata": {},
   "source": [
    "## définir votre propre fonction"
   ]
  },
  {
   "cell_type": "code",
   "execution_count": 38,
   "metadata": {},
   "outputs": [],
   "source": [
    "def fonction(a):\n",
    "    return sum(a)**2"
   ]
  },
  {
   "cell_type": "code",
   "execution_count": 39,
   "metadata": {},
   "outputs": [
    {
     "data": {
      "text/plain": [
       "famille_transport\n",
       "intercites             NaN\n",
       "ter           8.428140e+09\n",
       "tgv           2.694492e+09\n",
       "transilien             NaN\n",
       "Name: regularite, dtype: float64"
      ]
     },
     "execution_count": 39,
     "metadata": {},
     "output_type": "execute_result"
    }
   ],
   "source": [
    "df.groupby([\"famille_transport\"])[\"regularite\"].apply(fonction)"
   ]
  },
  {
   "cell_type": "markdown",
   "metadata": {},
   "source": [
    "## filtrer un dataset"
   ]
  },
  {
   "cell_type": "markdown",
   "metadata": {},
   "source": [
    "loc [ lignes , colonnes]"
   ]
  },
  {
   "cell_type": "code",
   "execution_count": 40,
   "metadata": {},
   "outputs": [
    {
     "data": {
      "text/html": [
       "<div>\n",
       "<style scoped>\n",
       "    .dataframe tbody tr th:only-of-type {\n",
       "        vertical-align: middle;\n",
       "    }\n",
       "\n",
       "    .dataframe tbody tr th {\n",
       "        vertical-align: top;\n",
       "    }\n",
       "\n",
       "    .dataframe thead th {\n",
       "        text-align: right;\n",
       "    }\n",
       "</style>\n",
       "<table border=\"1\" class=\"dataframe\">\n",
       "  <thead>\n",
       "    <tr style=\"text-align: right;\">\n",
       "      <th></th>\n",
       "      <th>date</th>\n",
       "      <th>famille_transport</th>\n",
       "      <th>ligne</th>\n",
       "      <th>regularite</th>\n",
       "      <th>explication</th>\n",
       "    </tr>\n",
       "  </thead>\n",
       "  <tbody>\n",
       "    <tr>\n",
       "      <td>0</td>\n",
       "      <td>2019-01-23</td>\n",
       "      <td>transilien</td>\n",
       "      <td>global</td>\n",
       "      <td>84.2</td>\n",
       "      <td>NaN</td>\n",
       "    </tr>\n",
       "    <tr>\n",
       "      <td>1</td>\n",
       "      <td>2019-01-23</td>\n",
       "      <td>transilien</td>\n",
       "      <td>A</td>\n",
       "      <td>82.1</td>\n",
       "      <td>NaN</td>\n",
       "    </tr>\n",
       "    <tr>\n",
       "      <td>2</td>\n",
       "      <td>2019-01-23</td>\n",
       "      <td>transilien</td>\n",
       "      <td>B</td>\n",
       "      <td>88.9</td>\n",
       "      <td>NaN</td>\n",
       "    </tr>\n",
       "    <tr>\n",
       "      <td>3</td>\n",
       "      <td>2019-01-23</td>\n",
       "      <td>transilien</td>\n",
       "      <td>C</td>\n",
       "      <td>84.3</td>\n",
       "      <td>NaN</td>\n",
       "    </tr>\n",
       "    <tr>\n",
       "      <td>4</td>\n",
       "      <td>2019-01-23</td>\n",
       "      <td>transilien</td>\n",
       "      <td>D</td>\n",
       "      <td>74.5</td>\n",
       "      <td>NaN</td>\n",
       "    </tr>\n",
       "  </tbody>\n",
       "</table>\n",
       "</div>"
      ],
      "text/plain": [
       "        date famille_transport   ligne  regularite explication\n",
       "0 2019-01-23        transilien  global        84.2         NaN\n",
       "1 2019-01-23        transilien       A        82.1         NaN\n",
       "2 2019-01-23        transilien       B        88.9         NaN\n",
       "3 2019-01-23        transilien       C        84.3         NaN\n",
       "4 2019-01-23        transilien       D        74.5         NaN"
      ]
     },
     "execution_count": 40,
     "metadata": {},
     "output_type": "execute_result"
    }
   ],
   "source": [
    "df.head()"
   ]
  },
  {
   "cell_type": "code",
   "execution_count": 41,
   "metadata": {},
   "outputs": [
    {
     "data": {
      "text/plain": [
       "ligne                           A\n",
       "regularite                   82.1\n",
       "date          2019-01-23 00:00:00\n",
       "Name: 1, dtype: object"
      ]
     },
     "execution_count": 41,
     "metadata": {},
     "output_type": "execute_result"
    }
   ],
   "source": [
    "df.loc[1, [\"ligne\", \"regularite\", \"date\"] ]"
   ]
  },
  {
   "cell_type": "code",
   "execution_count": 42,
   "metadata": {},
   "outputs": [
    {
     "data": {
      "text/html": [
       "<div>\n",
       "<style scoped>\n",
       "    .dataframe tbody tr th:only-of-type {\n",
       "        vertical-align: middle;\n",
       "    }\n",
       "\n",
       "    .dataframe tbody tr th {\n",
       "        vertical-align: top;\n",
       "    }\n",
       "\n",
       "    .dataframe thead th {\n",
       "        text-align: right;\n",
       "    }\n",
       "</style>\n",
       "<table border=\"1\" class=\"dataframe\">\n",
       "  <thead>\n",
       "    <tr style=\"text-align: right;\">\n",
       "      <th></th>\n",
       "      <th>ligne</th>\n",
       "      <th>date</th>\n",
       "    </tr>\n",
       "  </thead>\n",
       "  <tbody>\n",
       "    <tr>\n",
       "      <td>1</td>\n",
       "      <td>A</td>\n",
       "      <td>2019-01-23</td>\n",
       "    </tr>\n",
       "    <tr>\n",
       "      <td>2</td>\n",
       "      <td>B</td>\n",
       "      <td>2019-01-23</td>\n",
       "    </tr>\n",
       "    <tr>\n",
       "      <td>3</td>\n",
       "      <td>C</td>\n",
       "      <td>2019-01-23</td>\n",
       "    </tr>\n",
       "  </tbody>\n",
       "</table>\n",
       "</div>"
      ],
      "text/plain": [
       "  ligne       date\n",
       "1     A 2019-01-23\n",
       "2     B 2019-01-23\n",
       "3     C 2019-01-23"
      ]
     },
     "execution_count": 42,
     "metadata": {},
     "output_type": "execute_result"
    }
   ],
   "source": [
    "df.loc[1:3,  [\"ligne\", \"date\"]]"
   ]
  },
  {
   "cell_type": "code",
   "execution_count": 43,
   "metadata": {},
   "outputs": [],
   "source": [
    "fin_aout = pd.to_datetime(\"31/08/2019\", format=\"%d/%m/%Y\")"
   ]
  },
  {
   "cell_type": "code",
   "execution_count": 44,
   "metadata": {},
   "outputs": [],
   "source": [
    "debut_juillet = pd.to_datetime(\"01/06/2019\", format=\"%d/%m/%Y\")"
   ]
  },
  {
   "cell_type": "code",
   "execution_count": 45,
   "metadata": {},
   "outputs": [],
   "source": [
    "entre = (df[\"date\"] > debut_juillet) & (df[\"date\"]< fin_aout)"
   ]
  },
  {
   "cell_type": "code",
   "execution_count": 48,
   "metadata": {
    "scrolled": false
   },
   "outputs": [
    {
     "data": {
      "text/html": [
       "<div>\n",
       "<style scoped>\n",
       "    .dataframe tbody tr th:only-of-type {\n",
       "        vertical-align: middle;\n",
       "    }\n",
       "\n",
       "    .dataframe tbody tr th {\n",
       "        vertical-align: top;\n",
       "    }\n",
       "\n",
       "    .dataframe thead th {\n",
       "        text-align: right;\n",
       "    }\n",
       "</style>\n",
       "<table border=\"1\" class=\"dataframe\">\n",
       "  <thead>\n",
       "    <tr style=\"text-align: right;\">\n",
       "      <th></th>\n",
       "      <th>date</th>\n",
       "      <th>famille_transport</th>\n",
       "      <th>ligne</th>\n",
       "      <th>regularite</th>\n",
       "      <th>explication</th>\n",
       "    </tr>\n",
       "  </thead>\n",
       "  <tbody>\n",
       "    <tr>\n",
       "      <td>98</td>\n",
       "      <td>2019-07-09</td>\n",
       "      <td>transilien</td>\n",
       "      <td>global</td>\n",
       "      <td>90.0</td>\n",
       "      <td>NaN</td>\n",
       "    </tr>\n",
       "    <tr>\n",
       "      <td>99</td>\n",
       "      <td>2019-07-09</td>\n",
       "      <td>transilien</td>\n",
       "      <td>A</td>\n",
       "      <td>91.9</td>\n",
       "      <td>NaN</td>\n",
       "    </tr>\n",
       "    <tr>\n",
       "      <td>100</td>\n",
       "      <td>2019-07-09</td>\n",
       "      <td>transilien</td>\n",
       "      <td>B</td>\n",
       "      <td>85.6</td>\n",
       "      <td>NaN</td>\n",
       "    </tr>\n",
       "    <tr>\n",
       "      <td>101</td>\n",
       "      <td>2019-07-09</td>\n",
       "      <td>transilien</td>\n",
       "      <td>C</td>\n",
       "      <td>92.4</td>\n",
       "      <td>NaN</td>\n",
       "    </tr>\n",
       "    <tr>\n",
       "      <td>102</td>\n",
       "      <td>2019-07-09</td>\n",
       "      <td>transilien</td>\n",
       "      <td>D</td>\n",
       "      <td>79.2</td>\n",
       "      <td>NaN</td>\n",
       "    </tr>\n",
       "    <tr>\n",
       "      <td>103</td>\n",
       "      <td>2019-07-09</td>\n",
       "      <td>transilien</td>\n",
       "      <td>E</td>\n",
       "      <td>95.8</td>\n",
       "      <td>NaN</td>\n",
       "    </tr>\n",
       "    <tr>\n",
       "      <td>104</td>\n",
       "      <td>2019-07-09</td>\n",
       "      <td>transilien</td>\n",
       "      <td>H</td>\n",
       "      <td>89.1</td>\n",
       "      <td>NaN</td>\n",
       "    </tr>\n",
       "    <tr>\n",
       "      <td>105</td>\n",
       "      <td>2019-07-09</td>\n",
       "      <td>transilien</td>\n",
       "      <td>J</td>\n",
       "      <td>92.4</td>\n",
       "      <td>NaN</td>\n",
       "    </tr>\n",
       "    <tr>\n",
       "      <td>106</td>\n",
       "      <td>2019-07-09</td>\n",
       "      <td>transilien</td>\n",
       "      <td>K</td>\n",
       "      <td>95.0</td>\n",
       "      <td>NaN</td>\n",
       "    </tr>\n",
       "    <tr>\n",
       "      <td>107</td>\n",
       "      <td>2019-07-09</td>\n",
       "      <td>transilien</td>\n",
       "      <td>L</td>\n",
       "      <td>95.4</td>\n",
       "      <td>NaN</td>\n",
       "    </tr>\n",
       "    <tr>\n",
       "      <td>108</td>\n",
       "      <td>2019-07-09</td>\n",
       "      <td>transilien</td>\n",
       "      <td>N</td>\n",
       "      <td>96.0</td>\n",
       "      <td>NaN</td>\n",
       "    </tr>\n",
       "    <tr>\n",
       "      <td>109</td>\n",
       "      <td>2019-07-09</td>\n",
       "      <td>transilien</td>\n",
       "      <td>P</td>\n",
       "      <td>90.9</td>\n",
       "      <td>NaN</td>\n",
       "    </tr>\n",
       "    <tr>\n",
       "      <td>110</td>\n",
       "      <td>2019-07-09</td>\n",
       "      <td>transilien</td>\n",
       "      <td>R</td>\n",
       "      <td>85.5</td>\n",
       "      <td>NaN</td>\n",
       "    </tr>\n",
       "    <tr>\n",
       "      <td>111</td>\n",
       "      <td>2019-07-09</td>\n",
       "      <td>transilien</td>\n",
       "      <td>U</td>\n",
       "      <td>99.0</td>\n",
       "      <td>NaN</td>\n",
       "    </tr>\n",
       "    <tr>\n",
       "      <td>112</td>\n",
       "      <td>2019-07-09</td>\n",
       "      <td>transilien</td>\n",
       "      <td>T4</td>\n",
       "      <td>NaN</td>\n",
       "      <td>Travaux</td>\n",
       "    </tr>\n",
       "    <tr>\n",
       "      <td>113</td>\n",
       "      <td>2019-07-09</td>\n",
       "      <td>transilien</td>\n",
       "      <td>T11</td>\n",
       "      <td>98.0</td>\n",
       "      <td>NaN</td>\n",
       "    </tr>\n",
       "    <tr>\n",
       "      <td>114</td>\n",
       "      <td>2019-07-09</td>\n",
       "      <td>ter</td>\n",
       "      <td>global</td>\n",
       "      <td>92.0</td>\n",
       "      <td>NaN</td>\n",
       "    </tr>\n",
       "    <tr>\n",
       "      <td>115</td>\n",
       "      <td>2019-07-09</td>\n",
       "      <td>ter</td>\n",
       "      <td>Grand Est</td>\n",
       "      <td>96.8</td>\n",
       "      <td>NaN</td>\n",
       "    </tr>\n",
       "    <tr>\n",
       "      <td>116</td>\n",
       "      <td>2019-07-09</td>\n",
       "      <td>ter</td>\n",
       "      <td>Nouvelle-Aquitaine</td>\n",
       "      <td>91.5</td>\n",
       "      <td>NaN</td>\n",
       "    </tr>\n",
       "    <tr>\n",
       "      <td>117</td>\n",
       "      <td>2019-07-09</td>\n",
       "      <td>ter</td>\n",
       "      <td>Auvergne-Rhône-Alpes</td>\n",
       "      <td>89.9</td>\n",
       "      <td>NaN</td>\n",
       "    </tr>\n",
       "    <tr>\n",
       "      <td>118</td>\n",
       "      <td>2019-07-09</td>\n",
       "      <td>ter</td>\n",
       "      <td>Bourgogne-Franche-Comté</td>\n",
       "      <td>93.2</td>\n",
       "      <td>NaN</td>\n",
       "    </tr>\n",
       "    <tr>\n",
       "      <td>119</td>\n",
       "      <td>2019-07-09</td>\n",
       "      <td>ter</td>\n",
       "      <td>Bretagne</td>\n",
       "      <td>96.9</td>\n",
       "      <td>NaN</td>\n",
       "    </tr>\n",
       "    <tr>\n",
       "      <td>120</td>\n",
       "      <td>2019-07-09</td>\n",
       "      <td>ter</td>\n",
       "      <td>Centre-Val de Loire</td>\n",
       "      <td>95.8</td>\n",
       "      <td>NaN</td>\n",
       "    </tr>\n",
       "    <tr>\n",
       "      <td>121</td>\n",
       "      <td>2019-07-09</td>\n",
       "      <td>ter</td>\n",
       "      <td>Occitanie</td>\n",
       "      <td>81.8</td>\n",
       "      <td>NaN</td>\n",
       "    </tr>\n",
       "    <tr>\n",
       "      <td>122</td>\n",
       "      <td>2019-07-09</td>\n",
       "      <td>ter</td>\n",
       "      <td>Hauts-de-France</td>\n",
       "      <td>87.9</td>\n",
       "      <td>NaN</td>\n",
       "    </tr>\n",
       "    <tr>\n",
       "      <td>123</td>\n",
       "      <td>2019-07-09</td>\n",
       "      <td>ter</td>\n",
       "      <td>Normandie</td>\n",
       "      <td>91.9</td>\n",
       "      <td>NaN</td>\n",
       "    </tr>\n",
       "    <tr>\n",
       "      <td>124</td>\n",
       "      <td>2019-07-09</td>\n",
       "      <td>ter</td>\n",
       "      <td>Pays de la Loire</td>\n",
       "      <td>90.4</td>\n",
       "      <td>NaN</td>\n",
       "    </tr>\n",
       "    <tr>\n",
       "      <td>125</td>\n",
       "      <td>2019-07-09</td>\n",
       "      <td>ter</td>\n",
       "      <td>Provence-Alpes-Côte d'Azur</td>\n",
       "      <td>93.2</td>\n",
       "      <td>NaN</td>\n",
       "    </tr>\n",
       "    <tr>\n",
       "      <td>126</td>\n",
       "      <td>2019-07-09</td>\n",
       "      <td>tgv</td>\n",
       "      <td>global</td>\n",
       "      <td>86.3</td>\n",
       "      <td>NaN</td>\n",
       "    </tr>\n",
       "    <tr>\n",
       "      <td>127</td>\n",
       "      <td>2019-07-09</td>\n",
       "      <td>tgv</td>\n",
       "      <td>nord</td>\n",
       "      <td>82.1</td>\n",
       "      <td>NaN</td>\n",
       "    </tr>\n",
       "    <tr>\n",
       "      <td>128</td>\n",
       "      <td>2019-07-09</td>\n",
       "      <td>tgv</td>\n",
       "      <td>est</td>\n",
       "      <td>96.6</td>\n",
       "      <td>NaN</td>\n",
       "    </tr>\n",
       "    <tr>\n",
       "      <td>129</td>\n",
       "      <td>2019-07-09</td>\n",
       "      <td>tgv</td>\n",
       "      <td>atlantique</td>\n",
       "      <td>86.1</td>\n",
       "      <td>NaN</td>\n",
       "    </tr>\n",
       "    <tr>\n",
       "      <td>130</td>\n",
       "      <td>2019-07-09</td>\n",
       "      <td>tgv</td>\n",
       "      <td>sudest</td>\n",
       "      <td>79.4</td>\n",
       "      <td>NaN</td>\n",
       "    </tr>\n",
       "    <tr>\n",
       "      <td>131</td>\n",
       "      <td>2019-07-09</td>\n",
       "      <td>tgv</td>\n",
       "      <td>ouigo</td>\n",
       "      <td>90.4</td>\n",
       "      <td>NaN</td>\n",
       "    </tr>\n",
       "    <tr>\n",
       "      <td>132</td>\n",
       "      <td>2019-07-09</td>\n",
       "      <td>tgv</td>\n",
       "      <td>europe</td>\n",
       "      <td>91.2</td>\n",
       "      <td>NaN</td>\n",
       "    </tr>\n",
       "    <tr>\n",
       "      <td>133</td>\n",
       "      <td>2019-07-09</td>\n",
       "      <td>intercites</td>\n",
       "      <td>global</td>\n",
       "      <td>68.9</td>\n",
       "      <td>NaN</td>\n",
       "    </tr>\n",
       "    <tr>\n",
       "      <td>134</td>\n",
       "      <td>2019-07-09</td>\n",
       "      <td>intercites</td>\n",
       "      <td>Paris-Limoges-Toulouse</td>\n",
       "      <td>85.0</td>\n",
       "      <td>NaN</td>\n",
       "    </tr>\n",
       "    <tr>\n",
       "      <td>135</td>\n",
       "      <td>2019-07-09</td>\n",
       "      <td>intercites</td>\n",
       "      <td>Paris-Clermont</td>\n",
       "      <td>57.1</td>\n",
       "      <td>NaN</td>\n",
       "    </tr>\n",
       "    <tr>\n",
       "      <td>136</td>\n",
       "      <td>2019-07-09</td>\n",
       "      <td>intercites</td>\n",
       "      <td>Bordeaux-Marseille</td>\n",
       "      <td>66.7</td>\n",
       "      <td>NaN</td>\n",
       "    </tr>\n",
       "    <tr>\n",
       "      <td>137</td>\n",
       "      <td>2019-07-09</td>\n",
       "      <td>intercites</td>\n",
       "      <td>Nantes-Bordeaux</td>\n",
       "      <td>83.3</td>\n",
       "      <td>NaN</td>\n",
       "    </tr>\n",
       "    <tr>\n",
       "      <td>138</td>\n",
       "      <td>2019-07-09</td>\n",
       "      <td>intercites</td>\n",
       "      <td>Nantes-Lyon</td>\n",
       "      <td>75.0</td>\n",
       "      <td>NaN</td>\n",
       "    </tr>\n",
       "    <tr>\n",
       "      <td>139</td>\n",
       "      <td>2019-07-09</td>\n",
       "      <td>intercites</td>\n",
       "      <td>Toulouse-Bayonne</td>\n",
       "      <td>62.5</td>\n",
       "      <td>NaN</td>\n",
       "    </tr>\n",
       "    <tr>\n",
       "      <td>140</td>\n",
       "      <td>2019-07-09</td>\n",
       "      <td>intercites</td>\n",
       "      <td>Clermont-Béziers</td>\n",
       "      <td>100.0</td>\n",
       "      <td>NaN</td>\n",
       "    </tr>\n",
       "    <tr>\n",
       "      <td>141</td>\n",
       "      <td>2019-07-09</td>\n",
       "      <td>intercites</td>\n",
       "      <td>Paris-Caen-Cherbourg Trouville/Deauville</td>\n",
       "      <td>47.4</td>\n",
       "      <td>NaN</td>\n",
       "    </tr>\n",
       "    <tr>\n",
       "      <td>142</td>\n",
       "      <td>2019-07-09</td>\n",
       "      <td>intercites</td>\n",
       "      <td>Paris-Rouen-Le Havre</td>\n",
       "      <td>75.0</td>\n",
       "      <td>NaN</td>\n",
       "    </tr>\n",
       "    <tr>\n",
       "      <td>143</td>\n",
       "      <td>2019-07-09</td>\n",
       "      <td>intercites</td>\n",
       "      <td>Paris-Granville</td>\n",
       "      <td>80.0</td>\n",
       "      <td>NaN</td>\n",
       "    </tr>\n",
       "    <tr>\n",
       "      <td>144</td>\n",
       "      <td>2019-07-09</td>\n",
       "      <td>intercites</td>\n",
       "      <td>Caen-Le Mans-Tours</td>\n",
       "      <td>100.0</td>\n",
       "      <td>NaN</td>\n",
       "    </tr>\n",
       "    <tr>\n",
       "      <td>145</td>\n",
       "      <td>2019-07-09</td>\n",
       "      <td>intercites</td>\n",
       "      <td>Paris-Toulouse-Latour De Carol/Cerbere/Rodez</td>\n",
       "      <td>100.0</td>\n",
       "      <td>NaN</td>\n",
       "    </tr>\n",
       "    <tr>\n",
       "      <td>146</td>\n",
       "      <td>2019-07-09</td>\n",
       "      <td>intercites</td>\n",
       "      <td>Paris-Briançon</td>\n",
       "      <td>100.0</td>\n",
       "      <td>NaN</td>\n",
       "    </tr>\n",
       "  </tbody>\n",
       "</table>\n",
       "</div>"
      ],
      "text/plain": [
       "          date famille_transport  \\\n",
       "98  2019-07-09        transilien   \n",
       "99  2019-07-09        transilien   \n",
       "100 2019-07-09        transilien   \n",
       "101 2019-07-09        transilien   \n",
       "102 2019-07-09        transilien   \n",
       "103 2019-07-09        transilien   \n",
       "104 2019-07-09        transilien   \n",
       "105 2019-07-09        transilien   \n",
       "106 2019-07-09        transilien   \n",
       "107 2019-07-09        transilien   \n",
       "108 2019-07-09        transilien   \n",
       "109 2019-07-09        transilien   \n",
       "110 2019-07-09        transilien   \n",
       "111 2019-07-09        transilien   \n",
       "112 2019-07-09        transilien   \n",
       "113 2019-07-09        transilien   \n",
       "114 2019-07-09               ter   \n",
       "115 2019-07-09               ter   \n",
       "116 2019-07-09               ter   \n",
       "117 2019-07-09               ter   \n",
       "118 2019-07-09               ter   \n",
       "119 2019-07-09               ter   \n",
       "120 2019-07-09               ter   \n",
       "121 2019-07-09               ter   \n",
       "122 2019-07-09               ter   \n",
       "123 2019-07-09               ter   \n",
       "124 2019-07-09               ter   \n",
       "125 2019-07-09               ter   \n",
       "126 2019-07-09               tgv   \n",
       "127 2019-07-09               tgv   \n",
       "128 2019-07-09               tgv   \n",
       "129 2019-07-09               tgv   \n",
       "130 2019-07-09               tgv   \n",
       "131 2019-07-09               tgv   \n",
       "132 2019-07-09               tgv   \n",
       "133 2019-07-09        intercites   \n",
       "134 2019-07-09        intercites   \n",
       "135 2019-07-09        intercites   \n",
       "136 2019-07-09        intercites   \n",
       "137 2019-07-09        intercites   \n",
       "138 2019-07-09        intercites   \n",
       "139 2019-07-09        intercites   \n",
       "140 2019-07-09        intercites   \n",
       "141 2019-07-09        intercites   \n",
       "142 2019-07-09        intercites   \n",
       "143 2019-07-09        intercites   \n",
       "144 2019-07-09        intercites   \n",
       "145 2019-07-09        intercites   \n",
       "146 2019-07-09        intercites   \n",
       "\n",
       "                                            ligne  regularite explication  \n",
       "98                                         global        90.0         NaN  \n",
       "99                                              A        91.9         NaN  \n",
       "100                                             B        85.6         NaN  \n",
       "101                                             C        92.4         NaN  \n",
       "102                                             D        79.2         NaN  \n",
       "103                                             E        95.8         NaN  \n",
       "104                                             H        89.1         NaN  \n",
       "105                                             J        92.4         NaN  \n",
       "106                                             K        95.0         NaN  \n",
       "107                                             L        95.4         NaN  \n",
       "108                                             N        96.0         NaN  \n",
       "109                                             P        90.9         NaN  \n",
       "110                                             R        85.5         NaN  \n",
       "111                                             U        99.0         NaN  \n",
       "112                                            T4         NaN     Travaux  \n",
       "113                                           T11        98.0         NaN  \n",
       "114                                        global        92.0         NaN  \n",
       "115                                     Grand Est        96.8         NaN  \n",
       "116                            Nouvelle-Aquitaine        91.5         NaN  \n",
       "117                          Auvergne-Rhône-Alpes        89.9         NaN  \n",
       "118                       Bourgogne-Franche-Comté        93.2         NaN  \n",
       "119                                      Bretagne        96.9         NaN  \n",
       "120                           Centre-Val de Loire        95.8         NaN  \n",
       "121                                     Occitanie        81.8         NaN  \n",
       "122                               Hauts-de-France        87.9         NaN  \n",
       "123                                     Normandie        91.9         NaN  \n",
       "124                              Pays de la Loire        90.4         NaN  \n",
       "125                    Provence-Alpes-Côte d'Azur        93.2         NaN  \n",
       "126                                        global        86.3         NaN  \n",
       "127                                          nord        82.1         NaN  \n",
       "128                                           est        96.6         NaN  \n",
       "129                                    atlantique        86.1         NaN  \n",
       "130                                        sudest        79.4         NaN  \n",
       "131                                         ouigo        90.4         NaN  \n",
       "132                                        europe        91.2         NaN  \n",
       "133                                        global        68.9         NaN  \n",
       "134                        Paris-Limoges-Toulouse        85.0         NaN  \n",
       "135                                Paris-Clermont        57.1         NaN  \n",
       "136                            Bordeaux-Marseille        66.7         NaN  \n",
       "137                               Nantes-Bordeaux        83.3         NaN  \n",
       "138                                   Nantes-Lyon        75.0         NaN  \n",
       "139                              Toulouse-Bayonne        62.5         NaN  \n",
       "140                              Clermont-Béziers       100.0         NaN  \n",
       "141      Paris-Caen-Cherbourg Trouville/Deauville        47.4         NaN  \n",
       "142                          Paris-Rouen-Le Havre        75.0         NaN  \n",
       "143                               Paris-Granville        80.0         NaN  \n",
       "144                            Caen-Le Mans-Tours       100.0         NaN  \n",
       "145  Paris-Toulouse-Latour De Carol/Cerbere/Rodez       100.0         NaN  \n",
       "146                                Paris-Briançon       100.0         NaN  "
      ]
     },
     "execution_count": 48,
     "metadata": {},
     "output_type": "execute_result"
    }
   ],
   "source": [
    "df.loc[ entre, :]"
   ]
  },
  {
   "cell_type": "markdown",
   "metadata": {},
   "source": [
    "### exercice: filtrer sur les RER A, B, C, D, E et F"
   ]
  },
  {
   "cell_type": "code",
   "execution_count": 49,
   "metadata": {},
   "outputs": [],
   "source": [
    "df_que_RER = df.loc[ df[\"ligne\"].isin([\"A\",\"B\",\"C\",\"D\",\"E\"]) , :   ]"
   ]
  },
  {
   "cell_type": "markdown",
   "metadata": {},
   "source": [
    "## fonctions utiles / splits et joins"
   ]
  },
  {
   "cell_type": "code",
   "execution_count": 50,
   "metadata": {},
   "outputs": [],
   "source": [
    "string = \"2019-02-01\""
   ]
  },
  {
   "cell_type": "code",
   "execution_count": 51,
   "metadata": {},
   "outputs": [
    {
     "data": {
      "text/plain": [
       "['2019', '02', '01']"
      ]
     },
     "execution_count": 51,
     "metadata": {},
     "output_type": "execute_result"
    }
   ],
   "source": [
    "string.split('-')"
   ]
  },
  {
   "cell_type": "code",
   "execution_count": 52,
   "metadata": {},
   "outputs": [],
   "source": [
    "liste = [\"2019\", \"01\", \"30\"]"
   ]
  },
  {
   "cell_type": "code",
   "execution_count": 53,
   "metadata": {},
   "outputs": [
    {
     "data": {
      "text/plain": [
       "'2019/01/30'"
      ]
     },
     "execution_count": 53,
     "metadata": {},
     "output_type": "execute_result"
    }
   ],
   "source": [
    "\"/\".join(liste)"
   ]
  },
  {
   "cell_type": "markdown",
   "metadata": {},
   "source": [
    "## appliquer une fonction sur une colonne"
   ]
  },
  {
   "cell_type": "code",
   "execution_count": 54,
   "metadata": {},
   "outputs": [],
   "source": [
    "def retrouve_le_mois_a_partir_de_strin(une_date):\n",
    "    return une_date.split(\"-\")[1]"
   ]
  },
  {
   "cell_type": "code",
   "execution_count": 57,
   "metadata": {},
   "outputs": [
    {
     "data": {
      "text/plain": [
       "'01'"
      ]
     },
     "execution_count": 57,
     "metadata": {},
     "output_type": "execute_result"
    }
   ],
   "source": [
    "retrouve_le_mois_a_partir_de_strin(\"2019-01-30\")"
   ]
  },
  {
   "cell_type": "code",
   "execution_count": 58,
   "metadata": {},
   "outputs": [],
   "source": [
    "def retrouve_le_mois(une_date_DATETIME):\n",
    "    return une_date_DATETIME.month"
   ]
  },
  {
   "cell_type": "code",
   "execution_count": 59,
   "metadata": {},
   "outputs": [],
   "source": [
    "df[\"mois\"] = df.date.apply(lambda x: x.month)"
   ]
  },
  {
   "cell_type": "code",
   "execution_count": 60,
   "metadata": {},
   "outputs": [
    {
     "data": {
      "text/html": [
       "<div>\n",
       "<style scoped>\n",
       "    .dataframe tbody tr th:only-of-type {\n",
       "        vertical-align: middle;\n",
       "    }\n",
       "\n",
       "    .dataframe tbody tr th {\n",
       "        vertical-align: top;\n",
       "    }\n",
       "\n",
       "    .dataframe thead th {\n",
       "        text-align: right;\n",
       "    }\n",
       "</style>\n",
       "<table border=\"1\" class=\"dataframe\">\n",
       "  <thead>\n",
       "    <tr style=\"text-align: right;\">\n",
       "      <th></th>\n",
       "      <th>date</th>\n",
       "      <th>famille_transport</th>\n",
       "      <th>ligne</th>\n",
       "      <th>regularite</th>\n",
       "      <th>explication</th>\n",
       "      <th>mois</th>\n",
       "    </tr>\n",
       "  </thead>\n",
       "  <tbody>\n",
       "    <tr>\n",
       "      <td>0</td>\n",
       "      <td>2019-01-23</td>\n",
       "      <td>transilien</td>\n",
       "      <td>global</td>\n",
       "      <td>84.2</td>\n",
       "      <td>NaN</td>\n",
       "      <td>1</td>\n",
       "    </tr>\n",
       "    <tr>\n",
       "      <td>1</td>\n",
       "      <td>2019-01-23</td>\n",
       "      <td>transilien</td>\n",
       "      <td>A</td>\n",
       "      <td>82.1</td>\n",
       "      <td>NaN</td>\n",
       "      <td>1</td>\n",
       "    </tr>\n",
       "    <tr>\n",
       "      <td>2</td>\n",
       "      <td>2019-01-23</td>\n",
       "      <td>transilien</td>\n",
       "      <td>B</td>\n",
       "      <td>88.9</td>\n",
       "      <td>NaN</td>\n",
       "      <td>1</td>\n",
       "    </tr>\n",
       "    <tr>\n",
       "      <td>3</td>\n",
       "      <td>2019-01-23</td>\n",
       "      <td>transilien</td>\n",
       "      <td>C</td>\n",
       "      <td>84.3</td>\n",
       "      <td>NaN</td>\n",
       "      <td>1</td>\n",
       "    </tr>\n",
       "    <tr>\n",
       "      <td>4</td>\n",
       "      <td>2019-01-23</td>\n",
       "      <td>transilien</td>\n",
       "      <td>D</td>\n",
       "      <td>74.5</td>\n",
       "      <td>NaN</td>\n",
       "      <td>1</td>\n",
       "    </tr>\n",
       "    <tr>\n",
       "      <td>...</td>\n",
       "      <td>...</td>\n",
       "      <td>...</td>\n",
       "      <td>...</td>\n",
       "      <td>...</td>\n",
       "      <td>...</td>\n",
       "      <td>...</td>\n",
       "    </tr>\n",
       "    <tr>\n",
       "      <td>4080</td>\n",
       "      <td>2020-03-13</td>\n",
       "      <td>intercites</td>\n",
       "      <td>Nantes-Lyon</td>\n",
       "      <td>75.0</td>\n",
       "      <td>NaN</td>\n",
       "      <td>3</td>\n",
       "    </tr>\n",
       "    <tr>\n",
       "      <td>4081</td>\n",
       "      <td>2020-03-13</td>\n",
       "      <td>intercites</td>\n",
       "      <td>Toulouse-Bayonne</td>\n",
       "      <td>87.5</td>\n",
       "      <td>NaN</td>\n",
       "      <td>3</td>\n",
       "    </tr>\n",
       "    <tr>\n",
       "      <td>4082</td>\n",
       "      <td>2020-03-13</td>\n",
       "      <td>intercites</td>\n",
       "      <td>Clermont-Béziers</td>\n",
       "      <td>100.0</td>\n",
       "      <td>NaN</td>\n",
       "      <td>3</td>\n",
       "    </tr>\n",
       "    <tr>\n",
       "      <td>4083</td>\n",
       "      <td>2020-03-13</td>\n",
       "      <td>intercites</td>\n",
       "      <td>Paris-Toulouse-Latour De Carol/Cerbere/Rodez</td>\n",
       "      <td>83.3</td>\n",
       "      <td>NaN</td>\n",
       "      <td>3</td>\n",
       "    </tr>\n",
       "    <tr>\n",
       "      <td>4084</td>\n",
       "      <td>2020-03-13</td>\n",
       "      <td>intercites</td>\n",
       "      <td>Paris-Briançon</td>\n",
       "      <td>100.0</td>\n",
       "      <td>NaN</td>\n",
       "      <td>3</td>\n",
       "    </tr>\n",
       "  </tbody>\n",
       "</table>\n",
       "<p>4085 rows × 6 columns</p>\n",
       "</div>"
      ],
      "text/plain": [
       "           date famille_transport  \\\n",
       "0    2019-01-23        transilien   \n",
       "1    2019-01-23        transilien   \n",
       "2    2019-01-23        transilien   \n",
       "3    2019-01-23        transilien   \n",
       "4    2019-01-23        transilien   \n",
       "...         ...               ...   \n",
       "4080 2020-03-13        intercites   \n",
       "4081 2020-03-13        intercites   \n",
       "4082 2020-03-13        intercites   \n",
       "4083 2020-03-13        intercites   \n",
       "4084 2020-03-13        intercites   \n",
       "\n",
       "                                             ligne  regularite explication  \\\n",
       "0                                           global        84.2         NaN   \n",
       "1                                                A        82.1         NaN   \n",
       "2                                                B        88.9         NaN   \n",
       "3                                                C        84.3         NaN   \n",
       "4                                                D        74.5         NaN   \n",
       "...                                            ...         ...         ...   \n",
       "4080                                   Nantes-Lyon        75.0         NaN   \n",
       "4081                              Toulouse-Bayonne        87.5         NaN   \n",
       "4082                              Clermont-Béziers       100.0         NaN   \n",
       "4083  Paris-Toulouse-Latour De Carol/Cerbere/Rodez        83.3         NaN   \n",
       "4084                                Paris-Briançon       100.0         NaN   \n",
       "\n",
       "      mois  \n",
       "0        1  \n",
       "1        1  \n",
       "2        1  \n",
       "3        1  \n",
       "4        1  \n",
       "...    ...  \n",
       "4080     3  \n",
       "4081     3  \n",
       "4082     3  \n",
       "4083     3  \n",
       "4084     3  \n",
       "\n",
       "[4085 rows x 6 columns]"
      ]
     },
     "execution_count": 60,
     "metadata": {},
     "output_type": "execute_result"
    }
   ],
   "source": [
    "df"
   ]
  },
  {
   "cell_type": "markdown",
   "metadata": {},
   "source": [
    "## Mapping de valeurs"
   ]
  },
  {
   "cell_type": "code",
   "execution_count": 61,
   "metadata": {},
   "outputs": [],
   "source": [
    "dico_mapping_mois= {1:\"Janvier\",2:\"Février\",\n",
    "                   3: \"Mars\", 4: \"Avril\",\n",
    "                   5: \"Mai\", 6:\"Juin\",\n",
    "                   7:\"Juillet\", 8:\"Aout\",\n",
    "                   9:\"Septembre\", 10: \"Octobre\",\n",
    "                   11:\"Novembre\", 12: \"Décembre\"}"
   ]
  },
  {
   "cell_type": "code",
   "execution_count": 62,
   "metadata": {},
   "outputs": [
    {
     "data": {
      "text/plain": [
       "{1: 'Janvier',\n",
       " 2: 'Février',\n",
       " 3: 'Mars',\n",
       " 4: 'Avril',\n",
       " 5: 'Mai',\n",
       " 6: 'Juin',\n",
       " 7: 'Juillet',\n",
       " 8: 'Aout',\n",
       " 9: 'Septembre',\n",
       " 10: 'Octobre',\n",
       " 11: 'Novembre',\n",
       " 12: 'Décembre'}"
      ]
     },
     "execution_count": 62,
     "metadata": {},
     "output_type": "execute_result"
    }
   ],
   "source": [
    "dico_mapping_mois"
   ]
  },
  {
   "cell_type": "code",
   "execution_count": 63,
   "metadata": {},
   "outputs": [],
   "source": [
    "df[\"mois\"]=df.mois.replace(dico_mapping_mois)"
   ]
  },
  {
   "cell_type": "code",
   "execution_count": 64,
   "metadata": {},
   "outputs": [
    {
     "data": {
      "text/plain": [
       "<matplotlib.axes._subplots.AxesSubplot at 0x112bb16d8>"
      ]
     },
     "execution_count": 64,
     "metadata": {},
     "output_type": "execute_result"
    },
    {
     "data": {
      "image/png": "[encoded data removed]",
      "text/plain": [
       "<Figure size 432x288 with 1 Axes>"
      ]
     },
     "metadata": {},
     "output_type": "display_data"
    }
   ],
   "source": [
    "df[ df[\"ligne\"].isin([\"A\",\"B\",\"C\",\"D\",\"E\",\"F\"])].groupby([\"ligne\", \"mois\"]).mean().unstack().plot(kind='bar', stacked=True)"
   ]
  },
  {
   "cell_type": "code",
   "execution_count": null,
   "metadata": {},
   "outputs": [],
   "source": [
    "!git add Mon_Premier_Notebook.ipynb\n",
    "!git commit -m \"manipul\"\n",
    "!git push origin master"
   ]
  }
 ],
 "metadata": {
  "kernelspec": {
   "display_name": "Python 3",
   "language": "python",
   "name": "python3"
  },
  "language_info": {
   "codemirror_mode": {
    "name": "ipython",
    "version": 3
   },
   "file_extension": ".py",
   "mimetype": "text/x-python",
   "name": "python",
   "nbconvert_exporter": "python",
   "pygments_lexer": "ipython3",
   "version": "3.6.8"
  }
 },
 "nbformat": 4,
 "nbformat_minor": 2
}
