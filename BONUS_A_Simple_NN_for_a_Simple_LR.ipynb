{
 "cells": [
  {
   "cell_type": "markdown",
   "metadata": {},
   "source": [
    "# Coding a simple perceptron with Backprop"
   ]
  },
  {
   "cell_type": "code",
   "execution_count": 1,
   "metadata": {},
   "outputs": [],
   "source": [
    "import github_command as gt"
   ]
  },
  {
   "cell_type": "code",
   "execution_count": 164,
   "metadata": {},
   "outputs": [],
   "source": [
    "gt.push(file_to_transfer=\"BONUS_A_Simple_NN_for_a_Simple_LR.ipynb\",\n",
    "        message=\"Added bias update\", repos=\"TDs_ESILV.git\")"
   ]
  },
  {
   "cell_type": "code",
   "execution_count": 14,
   "metadata": {},
   "outputs": [],
   "source": [
    "import os, numpy as np"
   ]
  },
  {
   "cell_type": "markdown",
   "metadata": {},
   "source": [
    "<img src=\"td4_ressources/img_perceptron_towards_data_science.png\" width=500>"
   ]
  },
  {
   "cell_type": "code",
   "execution_count": 23,
   "metadata": {},
   "outputs": [],
   "source": [
    "import pandas as pd\n",
    "import matplotlib.pyplot as plt"
   ]
  },
  {
   "cell_type": "code",
   "execution_count": 97,
   "metadata": {},
   "outputs": [
    {
     "data": {
      "text/plain": [
       "<matplotlib.collections.PathCollection at 0x11c300748>"
      ]
     },
     "execution_count": 97,
     "metadata": {},
     "output_type": "execute_result"
    },
    {
     "data": {
      "image/png": "[encoded data removed]",
      "text/plain": [
       "<Figure size 432x288 with 1 Axes>"
      ]
     },
     "metadata": {},
     "output_type": "display_data"
    }
   ],
   "source": [
    "random_values = np.random.randint( 0,100, (200, 1))\n",
    "X, y = random_values, 2*random_values + np.random.normal(0, 30, size=(200,1))  # y = 2*x + epsilon with epsilon ~ N(0,1)\n",
    "plt.scatter(x=X,y=y)"
   ]
  },
  {
   "cell_type": "code",
   "execution_count": 100,
   "metadata": {},
   "outputs": [
    {
     "data": {
      "text/plain": [
       "array([93, 27, 18, 46,  3, 62, 24, 36,  0, 50,  8, 95, 98, 88, 59, 77, 61,\n",
       "        1, 48, 46, 36, 48, 16,  2, 26, 65, 26,  9, 88, 41, 19, 63, 37, 39,\n",
       "       60, 33, 12,  6, 62, 92,  2, 83, 15, 26, 31, 71, 65, 55,  8, 34, 41,\n",
       "       90, 16, 44,  2,  4, 62, 58, 23, 82, 26,  5, 55, 55, 75, 44, 15, 46,\n",
       "       19, 70, 64, 48, 30, 79, 63, 61,  8, 72, 23, 54, 38, 78, 29, 54, 11,\n",
       "       86, 20, 92,  8, 46, 76, 62, 79, 90, 96, 80, 94, 16,  3, 45, 46, 62,\n",
       "       29, 62, 32, 17, 94, 45, 70, 92, 26, 81, 23, 15, 41, 67, 59, 19, 93,\n",
       "       70, 45, 53,  0,  9, 37, 47, 61, 21, 52, 99, 79, 81, 50, 26, 77,  5,\n",
       "       65, 84, 76,  1, 58, 83, 53, 67, 40, 31, 93, 95,  1, 53, 22, 16, 20,\n",
       "        5, 48, 85, 71, 71, 21, 38, 23, 73, 91, 94, 51, 97, 77,  7, 56, 58,\n",
       "       33, 72, 45, 66, 74,  7, 55, 53, 31, 85, 47, 58, 63, 43, 33, 37, 49,\n",
       "       54, 57, 67, 11, 63, 35, 14, 85, 74, 16, 85, 51, 30])"
      ]
     },
     "execution_count": 100,
     "metadata": {},
     "output_type": "execute_result"
    }
   ],
   "source": [
    "X.reshape((200,))"
   ]
  },
  {
   "cell_type": "code",
   "execution_count": 101,
   "metadata": {},
   "outputs": [
    {
     "data": {
      "text/html": [
       "<div>\n",
       "<style scoped>\n",
       "    .dataframe tbody tr th:only-of-type {\n",
       "        vertical-align: middle;\n",
       "    }\n",
       "\n",
       "    .dataframe tbody tr th {\n",
       "        vertical-align: top;\n",
       "    }\n",
       "\n",
       "    .dataframe thead th {\n",
       "        text-align: right;\n",
       "    }\n",
       "</style>\n",
       "<table border=\"1\" class=\"dataframe\">\n",
       "  <thead>\n",
       "    <tr style=\"text-align: right;\">\n",
       "      <th></th>\n",
       "      <th>X</th>\n",
       "      <th>y</th>\n",
       "    </tr>\n",
       "  </thead>\n",
       "  <tbody>\n",
       "    <tr>\n",
       "      <td>0</td>\n",
       "      <td>93</td>\n",
       "      <td>145.931790</td>\n",
       "    </tr>\n",
       "    <tr>\n",
       "      <td>1</td>\n",
       "      <td>27</td>\n",
       "      <td>80.173902</td>\n",
       "    </tr>\n",
       "    <tr>\n",
       "      <td>2</td>\n",
       "      <td>18</td>\n",
       "      <td>71.298260</td>\n",
       "    </tr>\n",
       "    <tr>\n",
       "      <td>3</td>\n",
       "      <td>46</td>\n",
       "      <td>71.420844</td>\n",
       "    </tr>\n",
       "    <tr>\n",
       "      <td>4</td>\n",
       "      <td>3</td>\n",
       "      <td>8.391260</td>\n",
       "    </tr>\n",
       "    <tr>\n",
       "      <td>...</td>\n",
       "      <td>...</td>\n",
       "      <td>...</td>\n",
       "    </tr>\n",
       "    <tr>\n",
       "      <td>195</td>\n",
       "      <td>74</td>\n",
       "      <td>82.976088</td>\n",
       "    </tr>\n",
       "    <tr>\n",
       "      <td>196</td>\n",
       "      <td>16</td>\n",
       "      <td>-1.881656</td>\n",
       "    </tr>\n",
       "    <tr>\n",
       "      <td>197</td>\n",
       "      <td>85</td>\n",
       "      <td>202.149811</td>\n",
       "    </tr>\n",
       "    <tr>\n",
       "      <td>198</td>\n",
       "      <td>51</td>\n",
       "      <td>44.381436</td>\n",
       "    </tr>\n",
       "    <tr>\n",
       "      <td>199</td>\n",
       "      <td>30</td>\n",
       "      <td>116.265345</td>\n",
       "    </tr>\n",
       "  </tbody>\n",
       "</table>\n",
       "<p>200 rows × 2 columns</p>\n",
       "</div>"
      ],
      "text/plain": [
       "      X           y\n",
       "0    93  145.931790\n",
       "1    27   80.173902\n",
       "2    18   71.298260\n",
       "3    46   71.420844\n",
       "4     3    8.391260\n",
       "..   ..         ...\n",
       "195  74   82.976088\n",
       "196  16   -1.881656\n",
       "197  85  202.149811\n",
       "198  51   44.381436\n",
       "199  30  116.265345\n",
       "\n",
       "[200 rows x 2 columns]"
      ]
     },
     "execution_count": 101,
     "metadata": {},
     "output_type": "execute_result"
    }
   ],
   "source": [
    "pd.DataFrame({\"X\":  X.reshape((200,)), 'y': y.reshape((200,))})"
   ]
  },
  {
   "cell_type": "code",
   "execution_count": 113,
   "metadata": {},
   "outputs": [
    {
     "name": "stderr",
     "output_type": "stream",
     "text": [
      "/Users/lucbertin/anaconda3/lib/python3.6/site-packages/ipykernel_launcher.py:1: DeprecationWarning: This function is deprecated. Please call randint(-2, 2 + 1) instead\n",
      "  \"\"\"Entry point for launching an IPython kernel.\n"
     ]
    },
    {
     "data": {
      "text/plain": [
       "array([-2])"
      ]
     },
     "execution_count": 113,
     "metadata": {},
     "output_type": "execute_result"
    }
   ],
   "source": [
    "np.random.random_integers(-2,2, (1,))"
   ]
  },
  {
   "cell_type": "code",
   "execution_count": 117,
   "metadata": {},
   "outputs": [],
   "source": [
    "weight = np.random.randint(-2,2, (X.shape[1],))"
   ]
  },
  {
   "cell_type": "code",
   "execution_count": 121,
   "metadata": {},
   "outputs": [],
   "source": [
    "b= np.random.randint(0,10)"
   ]
  },
  {
   "cell_type": "code",
   "execution_count": 290,
   "metadata": {},
   "outputs": [],
   "source": [
    "w =np.random.randint(-2,2,(1,1))"
   ]
  },
  {
   "cell_type": "code",
   "execution_count": 295,
   "metadata": {},
   "outputs": [
    {
     "data": {
      "text/plain": [
       "array([[145.93178982],\n",
       "       [ 80.17390217],\n",
       "       [ 71.29825975],\n",
       "       [ 71.42084411],\n",
       "       [  8.39126007],\n",
       "       [142.34683809],\n",
       "       [ 76.31820435],\n",
       "       [ 61.61841695],\n",
       "       [ 19.79571225],\n",
       "       [132.3672977 ],\n",
       "       [  1.89991732],\n",
       "       [192.52945117],\n",
       "       [128.18121876],\n",
       "       [175.05857274],\n",
       "       [115.29118304],\n",
       "       [171.65133423],\n",
       "       [ 65.91903326],\n",
       "       [  9.89344311],\n",
       "       [ 23.68512365],\n",
       "       [ 88.12458562],\n",
       "       [130.55395279],\n",
       "       [ 60.48065131],\n",
       "       [ 72.62927998],\n",
       "       [ 44.0689104 ],\n",
       "       [ 57.97472405],\n",
       "       [150.04099997],\n",
       "       [ 92.40688193],\n",
       "       [ 19.77886399],\n",
       "       [201.47740337],\n",
       "       [ 39.2361096 ],\n",
       "       [  8.51393659],\n",
       "       [124.58870683],\n",
       "       [ 68.93477238],\n",
       "       [ 84.91891424],\n",
       "       [122.22741059],\n",
       "       [ 83.77499462],\n",
       "       [-15.28511625],\n",
       "       [ 43.73068227],\n",
       "       [142.90841437],\n",
       "       [150.91538568],\n",
       "       [-55.86767788],\n",
       "       [132.27923101],\n",
       "       [ 38.75981237],\n",
       "       [ 22.04917526],\n",
       "       [ 90.45355623],\n",
       "       [149.05416218],\n",
       "       [121.90747111],\n",
       "       [ 95.32739957],\n",
       "       [-26.14253921],\n",
       "       [ 31.80354428],\n",
       "       [ 72.40686572],\n",
       "       [166.20146176],\n",
       "       [ 66.18964405],\n",
       "       [142.14623639],\n",
       "       [ 18.28927915],\n",
       "       [ 18.19490651],\n",
       "       [123.86388492],\n",
       "       [ 75.09651833],\n",
       "       [ 63.34652547],\n",
       "       [149.5045624 ],\n",
       "       [ 81.43450623],\n",
       "       [-14.09131957],\n",
       "       [111.37692362],\n",
       "       [ 73.18251383],\n",
       "       [113.35169672],\n",
       "       [131.45284486],\n",
       "       [ 56.85339309],\n",
       "       [109.21794648],\n",
       "       [ 56.74408348],\n",
       "       [134.77271432],\n",
       "       [185.92936487],\n",
       "       [ 92.92318938],\n",
       "       [ 40.31774917],\n",
       "       [190.45339336],\n",
       "       [ 85.91501191],\n",
       "       [130.65581287],\n",
       "       [  8.36607835],\n",
       "       [111.56612157],\n",
       "       [ 20.6975717 ],\n",
       "       [126.23522624],\n",
       "       [ 56.59699641],\n",
       "       [152.89973297],\n",
       "       [ 66.95517808],\n",
       "       [ 92.06945991],\n",
       "       [ 15.96979829],\n",
       "       [161.27924411],\n",
       "       [ 90.70432543],\n",
       "       [199.78942269],\n",
       "       [ 17.3106922 ],\n",
       "       [ 82.38839316],\n",
       "       [154.38729625],\n",
       "       [118.81071946],\n",
       "       [123.6478185 ],\n",
       "       [157.44332572],\n",
       "       [206.73283668],\n",
       "       [158.23422187],\n",
       "       [194.68024532],\n",
       "       [ 16.28741666],\n",
       "       [  2.87805533],\n",
       "       [ 74.35956739],\n",
       "       [107.03059109],\n",
       "       [107.87457199],\n",
       "       [ 57.41397358],\n",
       "       [136.45568239],\n",
       "       [ 86.4766589 ],\n",
       "       [-22.65789527],\n",
       "       [228.69701573],\n",
       "       [126.04736022],\n",
       "       [173.14850309],\n",
       "       [133.54680061],\n",
       "       [ 78.57057381],\n",
       "       [156.76513127],\n",
       "       [ 39.94028911],\n",
       "       [ 76.90914726],\n",
       "       [148.50326839],\n",
       "       [132.19561798],\n",
       "       [ 94.93427839],\n",
       "       [ 45.59390669],\n",
       "       [200.92599539],\n",
       "       [156.58082496],\n",
       "       [ 95.07437587],\n",
       "       [ 87.99194721],\n",
       "       [ 25.47801269],\n",
       "       [ 27.02291454],\n",
       "       [ 42.4383614 ],\n",
       "       [112.69991235],\n",
       "       [ 94.60476996],\n",
       "       [ 23.86948448],\n",
       "       [ 88.23171838],\n",
       "       [210.11507352],\n",
       "       [180.74467676],\n",
       "       [200.67581752],\n",
       "       [129.41276769],\n",
       "       [ 51.92028294],\n",
       "       [187.1858714 ],\n",
       "       [-28.04814525],\n",
       "       [123.85166762],\n",
       "       [202.96574356],\n",
       "       [159.62517679],\n",
       "       [ 33.07568855],\n",
       "       [123.63774108],\n",
       "       [212.99192917],\n",
       "       [114.79951561],\n",
       "       [133.26249648],\n",
       "       [ 68.97229659],\n",
       "       [ 89.13462678],\n",
       "       [158.0294955 ],\n",
       "       [199.7901698 ],\n",
       "       [ 37.10001943],\n",
       "       [ 72.17966334],\n",
       "       [ 26.80165025],\n",
       "       [ 23.38932062],\n",
       "       [ 64.59210209],\n",
       "       [ 29.26498902],\n",
       "       [ 71.19844285],\n",
       "       [184.18744585],\n",
       "       [121.2841033 ],\n",
       "       [148.13163886],\n",
       "       [ 87.13774401],\n",
       "       [ 74.32328062],\n",
       "       [ 77.05026658],\n",
       "       [126.61488753],\n",
       "       [189.88565282],\n",
       "       [157.71209004],\n",
       "       [127.42176709],\n",
       "       [190.25190667],\n",
       "       [159.44159129],\n",
       "       [-11.29129505],\n",
       "       [163.32795384],\n",
       "       [133.2034774 ],\n",
       "       [ 79.92023057],\n",
       "       [143.76577322],\n",
       "       [124.18211261],\n",
       "       [132.1837995 ],\n",
       "       [195.4547546 ],\n",
       "       [ 77.86215372],\n",
       "       [136.65351084],\n",
       "       [129.35368856],\n",
       "       [ 77.91008128],\n",
       "       [184.76668161],\n",
       "       [134.55828803],\n",
       "       [135.91119477],\n",
       "       [128.79124569],\n",
       "       [ 60.27131419],\n",
       "       [ 26.5424698 ],\n",
       "       [111.66602073],\n",
       "       [ 76.863886  ],\n",
       "       [ 76.90942166],\n",
       "       [109.72945539],\n",
       "       [142.43221531],\n",
       "       [ 84.31153797],\n",
       "       [ 95.91484369],\n",
       "       [ 75.54549958],\n",
       "       [ 18.45850349],\n",
       "       [137.73275606],\n",
       "       [ 82.97608806],\n",
       "       [ -1.8816557 ],\n",
       "       [202.14981052],\n",
       "       [ 44.38143611],\n",
       "       [116.26534476]])"
      ]
     },
     "execution_count": 295,
     "metadata": {},
     "output_type": "execute_result"
    }
   ],
   "source": [
    "y"
   ]
  },
  {
   "cell_type": "markdown",
   "metadata": {},
   "source": [
    "np.dot(X, weight) + b\n"
   ]
  },
  {
   "cell_type": "markdown",
   "metadata": {},
   "source": [
    "<img src=\"td4_ressources/img_formula_gradient_descent_backprop_mattmazur.png\" width=600>"
   ]
  },
  {
   "cell_type": "code",
   "execution_count": 387,
   "metadata": {},
   "outputs": [],
   "source": [
    "class Neural_Network_1neuron:\n",
    "    import numpy as np, pandas as pd\n",
    "    from sklearn.model_selection import train_test_split\n",
    "    from sklearn.preprocessing import StandardScaler\n",
    "    \n",
    "    def __init__(self, X, y, nb_epochs=100):\n",
    "        self.X_train, self.X_test, self.y_train, self.y_test = train_test_split(X, y, test_size=0.20)\n",
    "        self.X_train, self.X_test = self.scale_values(self.X_train, self.X_test)\n",
    "        \n",
    "        self.weights = [] * X.shape[1]  # as many weights as features, here 1\n",
    "        self.weights = self.init_weights(X)\n",
    "        self.bias    = np.random.randint(-10, 10)\n",
    "        self.training_predictions, self.mse = 0, 0\n",
    "        self.learning_rate = 0.01\n",
    "        self.nb_epochs = nb_epochs\n",
    "        self.weights_update, self.bias_update = 0, 0\n",
    "        self.records = pd.DataFrame([[self.weights, self.bias,0]], columns=['weights', 'bias', 'mse'])\n",
    "    \n",
    "    def scale_values(self, X_train, X_test):\n",
    "        scale   = StandardScaler()\n",
    "        X_train = scale.fit_transform(X_train)\n",
    "        X_test  = scale.transform(X_test)\n",
    "        return X_train, X_test\n",
    "        \n",
    "    def init_weights(self, X):\n",
    "        nb_of_features_input = X.shape[1]\n",
    "        return np.random.randint(-2,2, (nb_of_features_input, 1))\n",
    "    \n",
    "    def activation(self):\n",
    "        return x\n",
    "    def derivate_activation(self):\n",
    "        return 1\n",
    "    \n",
    "    def forward_pass(self):\n",
    "        self.training_predictions = np.dot(self.X_train, self.weights) + self.bias\n",
    "    \n",
    "    def compute_mse(self):\n",
    "        self.mse = 1/(2*len(self.X_train)) * sum( ( self.training_predictions - self.y_train)**2 )\n",
    "    \n",
    "    def backpropagation(self):\n",
    "        # derivative of error by weights so to update them along with bias\n",
    "        # dE/dw = dE/da * da/dz * dz/dw\n",
    "        # w = w - n*dE/dw\n",
    "        # E = mse = (1/2n)* sum(( predictions(==activations) - target)**2) ON ALL TRAINING EXAMPLES\n",
    "        \n",
    "        dE_da = self.training_predictions - self.y_train #for all training examples\n",
    "        da_dz = self.derivate_activation() # derivate of activation\n",
    "        \n",
    "        dz_dw = self.X_train     # z = W*X + bias => dz_dw = X    \n",
    "        \n",
    "        \n",
    "        self.weights_update, self.bias_update = \\\n",
    "            ( 1 / self.X_train.shape[0] ) * sum( dE_da * da_dz * dz_dw),\\\n",
    "            ( 1 / self.X_train.shape[0] ) * sum( dE_da * da_dz ) # weights updates, bias update\n",
    "    \n",
    "    def update(self):\n",
    "        self.weights = self.weights - self.learning_rate * self.weights_update\n",
    "        self.bias    = self.bias    - self.learning_rate * self.bias_update\n",
    "    \n",
    "    def predict(self):\n",
    "        return np.dot(self.X_test, self.weights) + self.bias\n",
    "    \n",
    "    def run(self):\n",
    "        for i in range(1, self.nb_epochs):\n",
    "            self.forward_pass()\n",
    "            self.compute_mse()\n",
    "            self.backpropagation()\n",
    "            self.update()\n",
    "            self.records.loc[i] = [self.weights, self.bias, self.mse]  \n",
    "        return self.records"
   ]
  },
  {
   "cell_type": "code",
   "execution_count": 388,
   "metadata": {},
   "outputs": [
    {
     "name": "stderr",
     "output_type": "stream",
     "text": [
      "/Users/lucbertin/anaconda3/lib/python3.6/site-packages/sklearn/utils/validation.py:475: DataConversionWarning: Data with input dtype int64 was converted to float64 by StandardScaler.\n",
      "  warnings.warn(msg, DataConversionWarning)\n"
     ]
    }
   ],
   "source": [
    "unReseauDeNeurone = Neural_Network_1neuron(X, y, nb_epochs=2000)"
   ]
  },
  {
   "cell_type": "code",
   "execution_count": 389,
   "metadata": {},
   "outputs": [],
   "source": [
    "records= unReseauDeNeurone.run()"
   ]
  },
  {
   "cell_type": "code",
   "execution_count": 406,
   "metadata": {},
   "outputs": [
    {
     "data": {
      "text/plain": [
       "[<matplotlib.lines.Line2D at 0xa1de75588>]"
      ]
     },
     "execution_count": 406,
     "metadata": {},
     "output_type": "execute_result"
    },
    {
     "data": {
      "image/png": "[encoded data removed]",
      "text/plain": [
       "<Figure size 432x288 with 1 Axes>"
      ]
     },
     "metadata": {},
     "output_type": "display_data"
    }
   ],
   "source": [
    "plt.plot(records['weights'])\n",
    "plt.plot(records['bias'])"
   ]
  },
  {
   "cell_type": "code",
   "execution_count": null,
   "metadata": {},
   "outputs": [],
   "source": [
    "from sklearn.preprocessing import StandardScaler\n",
    "x_ = np.linspace(0, 120, 100).reshape((100,1))\n",
    "y_ = float(unReseauDeNeurone.weights)*StandardScaler().fit_transform(x_) + float(unReseauDeNeurone.bias)\n",
    "plt.plot(x_, y_, color='red')"
   ]
  },
  {
   "cell_type": "code",
   "execution_count": 424,
   "metadata": {},
   "outputs": [
    {
     "data": {
      "text/plain": [
       "[<matplotlib.lines.Line2D at 0x1a20548748>]"
      ]
     },
     "execution_count": 424,
     "metadata": {},
     "output_type": "execute_result"
    },
    {
     "data": {
      "image/png": "[encoded data removed]",
      "text/plain": [
       "<Figure size 432x288 with 1 Axes>"
      ]
     },
     "metadata": {},
     "output_type": "display_data"
    }
   ],
   "source": [
    "#plt.scatter(x=unReseauDeNeurone.X_test, y=unReseauDeNeurone.predict())\n",
    "plt.scatter(x=unReseauDeNeurone.X_test, y= unReseauDeNeurone.y_test, color='green')\n",
    "\n",
    "x_ = np.linspace(-2, 2, 100).reshape((100,1))\n",
    "y_ = float(unReseauDeNeurone.weights)*x_ + float(unReseauDeNeurone.bias)\n",
    "plt.plot(x_, y_, color='red')"
   ]
  },
  {
   "cell_type": "code",
   "execution_count": 355,
   "metadata": {},
   "outputs": [],
   "source": [
    "import numpy as np\n",
    "import matplotlib.pyplot as plt\n",
    "import matplotlib.animation as animation"
   ]
  },
  {
   "cell_type": "code",
   "execution_count": 254,
   "metadata": {},
   "outputs": [],
   "source": [
    "test = pd.DataFrame([[0,0,0]], columns=['weights', 'bias', 'mse'])"
   ]
  },
  {
   "cell_type": "code",
   "execution_count": 266,
   "metadata": {},
   "outputs": [],
   "source": []
  },
  {
   "cell_type": "code",
   "execution_count": 267,
   "metadata": {},
   "outputs": [
    {
     "data": {
      "text/html": [
       "<div>\n",
       "<style scoped>\n",
       "    .dataframe tbody tr th:only-of-type {\n",
       "        vertical-align: middle;\n",
       "    }\n",
       "\n",
       "    .dataframe tbody tr th {\n",
       "        vertical-align: top;\n",
       "    }\n",
       "\n",
       "    .dataframe thead th {\n",
       "        text-align: right;\n",
       "    }\n",
       "</style>\n",
       "<table border=\"1\" class=\"dataframe\">\n",
       "  <thead>\n",
       "    <tr style=\"text-align: right;\">\n",
       "      <th></th>\n",
       "      <th>weights</th>\n",
       "      <th>bias</th>\n",
       "      <th>mse</th>\n",
       "    </tr>\n",
       "  </thead>\n",
       "  <tbody>\n",
       "    <tr>\n",
       "      <td>0</td>\n",
       "      <td>0</td>\n",
       "      <td>0</td>\n",
       "      <td>0</td>\n",
       "    </tr>\n",
       "    <tr>\n",
       "      <td>-1</td>\n",
       "      <td>2</td>\n",
       "      <td>3</td>\n",
       "      <td>4</td>\n",
       "    </tr>\n",
       "    <tr>\n",
       "      <td>1</td>\n",
       "      <td>2</td>\n",
       "      <td>3</td>\n",
       "      <td>4</td>\n",
       "    </tr>\n",
       "  </tbody>\n",
       "</table>\n",
       "</div>"
      ],
      "text/plain": [
       "    weights  bias  mse\n",
       " 0        0     0    0\n",
       "-1        2     3    4\n",
       " 1        2     3    4"
      ]
     },
     "execution_count": 267,
     "metadata": {},
     "output_type": "execute_result"
    }
   ],
   "source": [
    "test"
   ]
  },
  {
   "cell_type": "code",
   "execution_count": 279,
   "metadata": {},
   "outputs": [
    {
     "ename": "ValueError",
     "evalue": "shapes (200,1) and (200,1) not aligned: 1 (dim 1) != 200 (dim 0)",
     "output_type": "error",
     "traceback": [
      "\u001b[0;31m---------------------------------------------------------------------------\u001b[0m",
      "\u001b[0;31mValueError\u001b[0m                                Traceback (most recent call last)",
      "\u001b[0;32m<ipython-input-279-4a6df5e7b1cb>\u001b[0m in \u001b[0;36m<module>\u001b[0;34m()\u001b[0m\n\u001b[0;32m----> 1\u001b[0;31m \u001b[0mnp\u001b[0m\u001b[0;34m.\u001b[0m\u001b[0mdot\u001b[0m\u001b[0;34m(\u001b[0m \u001b[0my\u001b[0m\u001b[0;34m,\u001b[0m \u001b[0mX\u001b[0m\u001b[0;34m)\u001b[0m\u001b[0;34m\u001b[0m\u001b[0m\n\u001b[0m",
      "\u001b[0;32m<__array_function__ internals>\u001b[0m in \u001b[0;36mdot\u001b[0;34m(*args, **kwargs)\u001b[0m\n",
      "\u001b[0;31mValueError\u001b[0m: shapes (200,1) and (200,1) not aligned: 1 (dim 1) != 200 (dim 0)"
     ]
    }
   ],
   "source": [
    "np.dot( y, X)"
   ]
  },
  {
   "cell_type": "code",
   "execution_count": null,
   "metadata": {},
   "outputs": [],
   "source": []
  }
 ],
 "metadata": {
  "kernelspec": {
   "display_name": "Python 3",
   "language": "python",
   "name": "python3"
  },
  "language_info": {
   "codemirror_mode": {
    "name": "ipython",
    "version": 3
   },
   "file_extension": ".py",
   "mimetype": "text/x-python",
   "name": "python",
   "nbconvert_exporter": "python",
   "pygments_lexer": "ipython3",
   "version": "3.6.5"
  }
 },
 "nbformat": 4,
 "nbformat_minor": 2
}
