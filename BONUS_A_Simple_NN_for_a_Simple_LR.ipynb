{
 "cells": [
  {
   "cell_type": "code",
   "execution_count": 1,
   "metadata": {},
   "outputs": [],
   "source": [
    "import github_command as gt"
   ]
  },
  {
   "cell_type": "code",
   "execution_count": 2,
   "metadata": {},
   "outputs": [],
   "source": [
    "gt.push(file_to_transfer=\"BONUS_A_Simple_NN_for_a_Simple_LR.ipynb\",\n",
    "        message=\"first upload\", repos=\"TDs_ESILV.git\")"
   ]
  },
  {
   "cell_type": "code",
   "execution_count": 14,
   "metadata": {},
   "outputs": [],
   "source": [
    "import os, numpy as np"
   ]
  },
  {
   "cell_type": "markdown",
   "metadata": {},
   "source": [
    "<img src=\"td4_ressources/img_perceptron_towards_data_science.png\" width=500>"
   ]
  },
  {
   "cell_type": "code",
   "execution_count": 23,
   "metadata": {},
   "outputs": [],
   "source": [
    "import pandas as pd\n",
    "import matplotlib.pyplot as plt"
   ]
  },
  {
   "cell_type": "code",
   "execution_count": null,
   "metadata": {},
   "outputs": [],
   "source": []
  },
  {
   "cell_type": "code",
   "execution_count": 97,
   "metadata": {},
   "outputs": [
    {
     "data": {
      "text/plain": [
       "<matplotlib.collections.PathCollection at 0x11c300748>"
      ]
     },
     "execution_count": 97,
     "metadata": {},
     "output_type": "execute_result"
    },
    {
     "data": {
      "image/png": "[encoded data removed]",
      "text/plain": [
       "<Figure size 432x288 with 1 Axes>"
      ]
     },
     "metadata": {},
     "output_type": "display_data"
    }
   ],
   "source": [
    "random_values = np.random.randint( 0,100, (200, 1))\n",
    "X, y = random_values, 2*random_values + np.random.normal(0, 30, size=(200,1))  # y = 2*x + epsilon with epsilon ~ N(0,1)\n",
    "plt.scatter(x=X,y=y)"
   ]
  },
  {
   "cell_type": "code",
   "execution_count": 100,
   "metadata": {},
   "outputs": [
    {
     "data": {
      "text/plain": [
       "array([93, 27, 18, 46,  3, 62, 24, 36,  0, 50,  8, 95, 98, 88, 59, 77, 61,\n",
       "        1, 48, 46, 36, 48, 16,  2, 26, 65, 26,  9, 88, 41, 19, 63, 37, 39,\n",
       "       60, 33, 12,  6, 62, 92,  2, 83, 15, 26, 31, 71, 65, 55,  8, 34, 41,\n",
       "       90, 16, 44,  2,  4, 62, 58, 23, 82, 26,  5, 55, 55, 75, 44, 15, 46,\n",
       "       19, 70, 64, 48, 30, 79, 63, 61,  8, 72, 23, 54, 38, 78, 29, 54, 11,\n",
       "       86, 20, 92,  8, 46, 76, 62, 79, 90, 96, 80, 94, 16,  3, 45, 46, 62,\n",
       "       29, 62, 32, 17, 94, 45, 70, 92, 26, 81, 23, 15, 41, 67, 59, 19, 93,\n",
       "       70, 45, 53,  0,  9, 37, 47, 61, 21, 52, 99, 79, 81, 50, 26, 77,  5,\n",
       "       65, 84, 76,  1, 58, 83, 53, 67, 40, 31, 93, 95,  1, 53, 22, 16, 20,\n",
       "        5, 48, 85, 71, 71, 21, 38, 23, 73, 91, 94, 51, 97, 77,  7, 56, 58,\n",
       "       33, 72, 45, 66, 74,  7, 55, 53, 31, 85, 47, 58, 63, 43, 33, 37, 49,\n",
       "       54, 57, 67, 11, 63, 35, 14, 85, 74, 16, 85, 51, 30])"
      ]
     },
     "execution_count": 100,
     "metadata": {},
     "output_type": "execute_result"
    }
   ],
   "source": [
    "X.reshape((200,))"
   ]
  },
  {
   "cell_type": "code",
   "execution_count": 101,
   "metadata": {},
   "outputs": [
    {
     "data": {
      "text/html": [
       "<div>\n",
       "<style scoped>\n",
       "    .dataframe tbody tr th:only-of-type {\n",
       "        vertical-align: middle;\n",
       "    }\n",
       "\n",
       "    .dataframe tbody tr th {\n",
       "        vertical-align: top;\n",
       "    }\n",
       "\n",
       "    .dataframe thead th {\n",
       "        text-align: right;\n",
       "    }\n",
       "</style>\n",
       "<table border=\"1\" class=\"dataframe\">\n",
       "  <thead>\n",
       "    <tr style=\"text-align: right;\">\n",
       "      <th></th>\n",
       "      <th>X</th>\n",
       "      <th>y</th>\n",
       "    </tr>\n",
       "  </thead>\n",
       "  <tbody>\n",
       "    <tr>\n",
       "      <td>0</td>\n",
       "      <td>93</td>\n",
       "      <td>145.931790</td>\n",
       "    </tr>\n",
       "    <tr>\n",
       "      <td>1</td>\n",
       "      <td>27</td>\n",
       "      <td>80.173902</td>\n",
       "    </tr>\n",
       "    <tr>\n",
       "      <td>2</td>\n",
       "      <td>18</td>\n",
       "      <td>71.298260</td>\n",
       "    </tr>\n",
       "    <tr>\n",
       "      <td>3</td>\n",
       "      <td>46</td>\n",
       "      <td>71.420844</td>\n",
       "    </tr>\n",
       "    <tr>\n",
       "      <td>4</td>\n",
       "      <td>3</td>\n",
       "      <td>8.391260</td>\n",
       "    </tr>\n",
       "    <tr>\n",
       "      <td>...</td>\n",
       "      <td>...</td>\n",
       "      <td>...</td>\n",
       "    </tr>\n",
       "    <tr>\n",
       "      <td>195</td>\n",
       "      <td>74</td>\n",
       "      <td>82.976088</td>\n",
       "    </tr>\n",
       "    <tr>\n",
       "      <td>196</td>\n",
       "      <td>16</td>\n",
       "      <td>-1.881656</td>\n",
       "    </tr>\n",
       "    <tr>\n",
       "      <td>197</td>\n",
       "      <td>85</td>\n",
       "      <td>202.149811</td>\n",
       "    </tr>\n",
       "    <tr>\n",
       "      <td>198</td>\n",
       "      <td>51</td>\n",
       "      <td>44.381436</td>\n",
       "    </tr>\n",
       "    <tr>\n",
       "      <td>199</td>\n",
       "      <td>30</td>\n",
       "      <td>116.265345</td>\n",
       "    </tr>\n",
       "  </tbody>\n",
       "</table>\n",
       "<p>200 rows × 2 columns</p>\n",
       "</div>"
      ],
      "text/plain": [
       "      X           y\n",
       "0    93  145.931790\n",
       "1    27   80.173902\n",
       "2    18   71.298260\n",
       "3    46   71.420844\n",
       "4     3    8.391260\n",
       "..   ..         ...\n",
       "195  74   82.976088\n",
       "196  16   -1.881656\n",
       "197  85  202.149811\n",
       "198  51   44.381436\n",
       "199  30  116.265345\n",
       "\n",
       "[200 rows x 2 columns]"
      ]
     },
     "execution_count": 101,
     "metadata": {},
     "output_type": "execute_result"
    }
   ],
   "source": [
    "pd.DataFrame({\"X\":  X.reshape((200,)), 'y': y.reshape((200,))})"
   ]
  },
  {
   "cell_type": "code",
   "execution_count": 113,
   "metadata": {},
   "outputs": [
    {
     "name": "stderr",
     "output_type": "stream",
     "text": [
      "/Users/lucbertin/anaconda3/lib/python3.6/site-packages/ipykernel_launcher.py:1: DeprecationWarning: This function is deprecated. Please call randint(-2, 2 + 1) instead\n",
      "  \"\"\"Entry point for launching an IPython kernel.\n"
     ]
    },
    {
     "data": {
      "text/plain": [
       "array([-2])"
      ]
     },
     "execution_count": 113,
     "metadata": {},
     "output_type": "execute_result"
    }
   ],
   "source": [
    "np.random.random_integers(-2,2, (1,))"
   ]
  },
  {
   "cell_type": "code",
   "execution_count": 117,
   "metadata": {},
   "outputs": [],
   "source": [
    "weight = np.random.randint(-2,2, (X.shape[1],))"
   ]
  },
  {
   "cell_type": "code",
   "execution_count": 121,
   "metadata": {},
   "outputs": [],
   "source": [
    "b= np.random.randint(0,10)"
   ]
  },
  {
   "cell_type": "code",
   "execution_count": 124,
   "metadata": {},
   "outputs": [
    {
     "data": {
      "text/plain": [
       "array([-179,  -47,  -29,  -85,    1, -117,  -41,  -65,    7,  -93,   -9,\n",
       "       -183, -189, -169, -111, -147, -115,    5,  -89,  -85,  -65,  -89,\n",
       "        -25,    3,  -45, -123,  -45,  -11, -169,  -75,  -31, -119,  -67,\n",
       "        -71, -113,  -59,  -17,   -5, -117, -177,    3, -159,  -23,  -45,\n",
       "        -55, -135, -123, -103,   -9,  -61,  -75, -173,  -25,  -81,    3,\n",
       "         -1, -117, -109,  -39, -157,  -45,   -3, -103, -103, -143,  -81,\n",
       "        -23,  -85,  -31, -133, -121,  -89,  -53, -151, -119, -115,   -9,\n",
       "       -137,  -39, -101,  -69, -149,  -51, -101,  -15, -165,  -33, -177,\n",
       "         -9,  -85, -145, -117, -151, -173, -185, -153, -181,  -25,    1,\n",
       "        -83,  -85, -117,  -51, -117,  -57,  -27, -181,  -83, -133, -177,\n",
       "        -45, -155,  -39,  -23,  -75, -127, -111,  -31, -179, -133,  -83,\n",
       "        -99,    7,  -11,  -67,  -87, -115,  -35,  -97, -191, -151, -155,\n",
       "        -93,  -45, -147,   -3, -123, -161, -145,    5, -109, -159,  -99,\n",
       "       -127,  -73,  -55, -179, -183,    5,  -99,  -37,  -25,  -33,   -3,\n",
       "        -89, -163, -135, -135,  -35,  -69,  -39, -139, -175, -181,  -95,\n",
       "       -187, -147,   -7, -105, -109,  -59, -137,  -83, -125, -141,   -7,\n",
       "       -103,  -99,  -55, -163,  -87, -109, -119,  -79,  -59,  -67,  -91,\n",
       "       -101, -107, -127,  -15, -119,  -63,  -21, -163, -141,  -25, -163,\n",
       "        -95,  -53])"
      ]
     },
     "execution_count": 124,
     "metadata": {},
     "output_type": "execute_result"
    }
   ],
   "source": [
    "np.dot(X, weight) + b\n"
   ]
  },
  {
   "cell_type": "code",
   "execution_count": 126,
   "metadata": {},
   "outputs": [
    {
     "data": {
      "text/plain": [
       "16"
      ]
     },
     "execution_count": 126,
     "metadata": {},
     "output_type": "execute_result"
    }
   ],
   "source": [
    "4**2"
   ]
  },
  {
   "cell_type": "code",
   "execution_count": null,
   "metadata": {},
   "outputs": [],
   "source": []
  },
  {
   "cell_type": "code",
   "execution_count": null,
   "metadata": {},
   "outputs": [],
   "source": []
  },
  {
   "cell_type": "code",
   "execution_count": 16,
   "metadata": {},
   "outputs": [
    {
     "ename": "NameError",
     "evalue": "name 'weights' is not defined",
     "output_type": "error",
     "traceback": [
      "\u001b[0;31m---------------------------------------------------------------------------\u001b[0m",
      "\u001b[0;31mNameError\u001b[0m                                 Traceback (most recent call last)",
      "\u001b[0;32m<ipython-input-16-7c3885bd820c>\u001b[0m in \u001b[0;36m<module>\u001b[0;34m()\u001b[0m\n\u001b[0;32m----> 1\u001b[0;31m \u001b[0;32mclass\u001b[0m \u001b[0mNeural_Network\u001b[0m\u001b[0;34m:\u001b[0m\u001b[0;34m\u001b[0m\u001b[0m\n\u001b[0m\u001b[1;32m      2\u001b[0m     \u001b[0;32mimport\u001b[0m \u001b[0mnumpy\u001b[0m \u001b[0;32mas\u001b[0m \u001b[0mnp\u001b[0m\u001b[0;34m\u001b[0m\u001b[0m\n\u001b[1;32m      3\u001b[0m     \u001b[0mweights\u001b[0m\u001b[0;34m\u001b[0m\u001b[0m\n",
      "\u001b[0;32m<ipython-input-16-7c3885bd820c>\u001b[0m in \u001b[0;36mNeural_Network\u001b[0;34m()\u001b[0m\n\u001b[1;32m      1\u001b[0m \u001b[0;32mclass\u001b[0m \u001b[0mNeural_Network\u001b[0m\u001b[0;34m:\u001b[0m\u001b[0;34m\u001b[0m\u001b[0m\n\u001b[1;32m      2\u001b[0m     \u001b[0;32mimport\u001b[0m \u001b[0mnumpy\u001b[0m \u001b[0;32mas\u001b[0m \u001b[0mnp\u001b[0m\u001b[0;34m\u001b[0m\u001b[0m\n\u001b[0;32m----> 3\u001b[0;31m     \u001b[0mweights\u001b[0m\u001b[0;34m\u001b[0m\u001b[0m\n\u001b[0m",
      "\u001b[0;31mNameError\u001b[0m: name 'weights' is not defined"
     ]
    }
   ],
   "source": [
    "class Neural_Network:\n",
    "    import numpy as np\n",
    "    from sklearn.model_selection import train_test_split\n",
    "    \n",
    "    def __init__(self, X, y):\n",
    "        self.X_train, self.X_test, self.y_train, self.y_test = train_test_split(X, y, test_size=0.20)\n",
    "        self.weights = [] * X.shape[1]  # as many weights as features, here 1\n",
    "        self.weights = self.init_weights(X)\n",
    "        self.bias    = np.random.randint(-10, 10)\n",
    "        self.training_predictions, self.mse = 0, 0\n",
    "        self.learning_rate = 0.01\n",
    "    \n",
    "    def init_weights(self, X):\n",
    "        nb_of_features_input = X.shape[1]\n",
    "        return np.random.randint(-2,2, (X.shape[1],))\n",
    "    \n",
    "    def activation(self):\n",
    "        return x\n",
    "    def derivate_activation(self):\n",
    "        return 1\n",
    "    \n",
    "    def forward_pass(self):\n",
    "        self.training_predictions = np.dot(self.X_train, self.weights) + self.bias\n",
    "        return self.training_predictions\n",
    "    \n",
    "    def mse(self):\n",
    "        self.mse = 1/(2*len(self.X_train)) * sum( ( self.training_predictions - self.y_train)**2 )\n",
    "        return self.mse\n",
    "    \n",
    "    def backpropagation(self):\n",
    "        # derivative of error by weights so to update them along with bias\n",
    "        # dE/dw = dE/da * da/dz * dz/dw\n",
    "        # w = w - n*dE/dw\n",
    "        # E = mse = (1/2n)* sum(( predictions(==activations) - target)**2)\n",
    "        dE_dw = ( 1 / self.X_train.shape[0] ) * self.training_predictions\n",
    "        \n",
    "        \n",
    "        "
   ]
  },
  {
   "cell_type": "code",
   "execution_count": null,
   "metadata": {},
   "outputs": [],
   "source": []
  }
 ],
 "metadata": {
  "kernelspec": {
   "display_name": "Python 3",
   "language": "python",
   "name": "python3"
  },
  "language_info": {
   "codemirror_mode": {
    "name": "ipython",
    "version": 3
   },
   "file_extension": ".py",
   "mimetype": "text/x-python",
   "name": "python",
   "nbconvert_exporter": "python",
   "pygments_lexer": "ipython3",
   "version": "3.6.5"
  }
 },
 "nbformat": 4,
 "nbformat_minor": 2
}
