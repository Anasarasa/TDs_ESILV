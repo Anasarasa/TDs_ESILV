{
 "cells": [
  {
   "cell_type": "markdown",
   "metadata": {},
   "source": [
    "# TD5 • Coding a simple perceptron with Backprop"
   ]
  },
  {
   "cell_type": "markdown",
   "metadata": {},
   "source": [
    "<h3> Un <a href=\"http://playground.tensorflow.org/#activation=linear&regularization=L1&batchSize=29&dataset=gauss&regDataset=reg-plane&learningRate=0.001&regularizationRate=0.003&noise=15&networkShape=1&seed=0.37334&showTestData=true&discretize=false&percTrainData=50&x=false&y=false&xTimesY=true&xSquared=true&ySquared=true&cosX=false&sinX=false&cosY=false&sinY=false&collectStats=false&problem=classification&initZero=false&hideText=false\">lien sympathique</a> pour s'amuser avec différentes architectures de réseau de neurones </h3>"
   ]
  },
  {
   "cell_type": "code",
   "execution_count": 209,
   "metadata": {},
   "outputs": [],
   "source": [
    "import github_command as gt"
   ]
  },
  {
   "cell_type": "code",
   "execution_count": 212,
   "metadata": {},
   "outputs": [],
   "source": [
    "gt.push(file_to_transfer=\"READMe.md\",\n",
    "        message=\"Added Keras example of the previous implemented perceptron\", repos=\"TDs_ESILV.git\")"
   ]
  },
  {
   "cell_type": "code",
   "execution_count": 210,
   "metadata": {},
   "outputs": [],
   "source": [
    "gt.push(file_to_transfer=\"td5_ressources/\",\n",
    "       message=\"Ressources & images\",\n",
    "       repos=\"TDs_ESILV.git\")"
   ]
  },
  {
   "cell_type": "code",
   "execution_count": 2,
   "metadata": {},
   "outputs": [],
   "source": [
    "gt.push(file_to_transfer=\"TD5_A_Simple_NN_for_a_Simple_LR.ipynb\",\n",
    "        message=\"Added descriptions done in classes for students\", repos=\"TDs_ESILV.git\")"
   ]
  },
  {
   "cell_type": "code",
   "execution_count": 1,
   "metadata": {},
   "outputs": [],
   "source": [
    "import os, numpy as np\n",
    "import pandas as pd\n",
    "import matplotlib.pyplot as plt"
   ]
  },
  {
   "cell_type": "markdown",
   "metadata": {},
   "source": [
    "<h1> à l'origine, le perceptron... </h1>\n",
    "<p> Le perceptron est un algorithme d'apprentissage supervisé de classifieurs binaires (c'est-à-dire séparant deux classes). Il a été inventé en 1957 par Frank Rosenblatt au laboratoire d'aéronautique de l'université Cornell.<p>"
   ]
  },
  {
   "cell_type": "markdown",
   "metadata": {},
   "source": [
    "<img src=\"td4_ressources/img_perceptron_towards_data_science.png\" width=500>"
   ]
  },
  {
   "cell_type": "code",
   "execution_count": 7,
   "metadata": {},
   "outputs": [],
   "source": [
    "import numpy as np, pandas as pd"
   ]
  },
  {
   "cell_type": "markdown",
   "metadata": {},
   "source": [
    "## A vector"
   ]
  },
  {
   "cell_type": "code",
   "execution_count": 8,
   "metadata": {},
   "outputs": [
    {
     "data": {
      "text/plain": [
       "array([1, 2, 3, 4, 5, 6])"
      ]
     },
     "execution_count": 8,
     "metadata": {},
     "output_type": "execute_result"
    }
   ],
   "source": [
    "test = np.array([1,2,3,4,5,6])\n",
    "test"
   ]
  },
  {
   "cell_type": "markdown",
   "metadata": {},
   "source": [
    "## Transpose vector"
   ]
  },
  {
   "cell_type": "code",
   "execution_count": 13,
   "metadata": {},
   "outputs": [
    {
     "data": {
      "text/plain": [
       "array([1, 2, 3, 4, 5, 6])"
      ]
     },
     "execution_count": 13,
     "metadata": {},
     "output_type": "execute_result"
    }
   ],
   "source": [
    "test.T"
   ]
  },
  {
   "cell_type": "code",
   "execution_count": 28,
   "metadata": {},
   "outputs": [
    {
     "data": {
      "text/plain": [
       "1"
      ]
     },
     "execution_count": 28,
     "metadata": {},
     "output_type": "execute_result"
    }
   ],
   "source": [
    "test.ndim # dim =0 :scalar | dim = 1 : vector | dim =2: matrix"
   ]
  },
  {
   "cell_type": "code",
   "execution_count": 29,
   "metadata": {},
   "outputs": [
    {
     "data": {
      "text/plain": [
       "(6,)"
      ]
     },
     "execution_count": 29,
     "metadata": {},
     "output_type": "execute_result"
    }
   ],
   "source": [
    "test.shape"
   ]
  },
  {
   "cell_type": "code",
   "execution_count": 30,
   "metadata": {},
   "outputs": [
    {
     "data": {
      "text/plain": [
       "0"
      ]
     },
     "execution_count": 30,
     "metadata": {},
     "output_type": "execute_result"
    }
   ],
   "source": [
    "np.array(2).ndim"
   ]
  },
  {
   "cell_type": "markdown",
   "metadata": {},
   "source": [
    "## Reshape a vector or matrix into different size"
   ]
  },
  {
   "cell_type": "code",
   "execution_count": 9,
   "metadata": {},
   "outputs": [
    {
     "data": {
      "text/plain": [
       "array([[1, 2, 3],\n",
       "       [4, 5, 6]])"
      ]
     },
     "execution_count": 9,
     "metadata": {},
     "output_type": "execute_result"
    }
   ],
   "source": [
    "test.reshape((2,3))"
   ]
  },
  {
   "cell_type": "markdown",
   "metadata": {},
   "source": [
    "## as DataFrame"
   ]
  },
  {
   "cell_type": "code",
   "execution_count": 33,
   "metadata": {},
   "outputs": [
    {
     "data": {
      "text/html": [
       "<div>\n",
       "<style scoped>\n",
       "    .dataframe tbody tr th:only-of-type {\n",
       "        vertical-align: middle;\n",
       "    }\n",
       "\n",
       "    .dataframe tbody tr th {\n",
       "        vertical-align: top;\n",
       "    }\n",
       "\n",
       "    .dataframe thead th {\n",
       "        text-align: right;\n",
       "    }\n",
       "</style>\n",
       "<table border=\"1\" class=\"dataframe\">\n",
       "  <thead>\n",
       "    <tr style=\"text-align: right;\">\n",
       "      <th></th>\n",
       "      <th>0</th>\n",
       "    </tr>\n",
       "  </thead>\n",
       "  <tbody>\n",
       "    <tr>\n",
       "      <td>0</td>\n",
       "      <td>1</td>\n",
       "    </tr>\n",
       "    <tr>\n",
       "      <td>1</td>\n",
       "      <td>2</td>\n",
       "    </tr>\n",
       "    <tr>\n",
       "      <td>2</td>\n",
       "      <td>3</td>\n",
       "    </tr>\n",
       "    <tr>\n",
       "      <td>3</td>\n",
       "      <td>4</td>\n",
       "    </tr>\n",
       "    <tr>\n",
       "      <td>4</td>\n",
       "      <td>5</td>\n",
       "    </tr>\n",
       "    <tr>\n",
       "      <td>5</td>\n",
       "      <td>6</td>\n",
       "    </tr>\n",
       "  </tbody>\n",
       "</table>\n",
       "</div>"
      ],
      "text/plain": [
       "   0\n",
       "0  1\n",
       "1  2\n",
       "2  3\n",
       "3  4\n",
       "4  5\n",
       "5  6"
      ]
     },
     "execution_count": 33,
     "metadata": {},
     "output_type": "execute_result"
    }
   ],
   "source": [
    "pd.DataFrame(test)"
   ]
  },
  {
   "cell_type": "code",
   "execution_count": 11,
   "metadata": {},
   "outputs": [
    {
     "data": {
      "text/html": [
       "<div>\n",
       "<style scoped>\n",
       "    .dataframe tbody tr th:only-of-type {\n",
       "        vertical-align: middle;\n",
       "    }\n",
       "\n",
       "    .dataframe tbody tr th {\n",
       "        vertical-align: top;\n",
       "    }\n",
       "\n",
       "    .dataframe thead th {\n",
       "        text-align: right;\n",
       "    }\n",
       "</style>\n",
       "<table border=\"1\" class=\"dataframe\">\n",
       "  <thead>\n",
       "    <tr style=\"text-align: right;\">\n",
       "      <th></th>\n",
       "      <th>0</th>\n",
       "      <th>1</th>\n",
       "      <th>2</th>\n",
       "    </tr>\n",
       "  </thead>\n",
       "  <tbody>\n",
       "    <tr>\n",
       "      <td>0</td>\n",
       "      <td>1</td>\n",
       "      <td>2</td>\n",
       "      <td>3</td>\n",
       "    </tr>\n",
       "    <tr>\n",
       "      <td>1</td>\n",
       "      <td>4</td>\n",
       "      <td>5</td>\n",
       "      <td>6</td>\n",
       "    </tr>\n",
       "  </tbody>\n",
       "</table>\n",
       "</div>"
      ],
      "text/plain": [
       "   0  1  2\n",
       "0  1  2  3\n",
       "1  4  5  6"
      ]
     },
     "execution_count": 11,
     "metadata": {},
     "output_type": "execute_result"
    }
   ],
   "source": [
    "pd.DataFrame(test.reshape((2,3)))"
   ]
  },
  {
   "cell_type": "markdown",
   "metadata": {},
   "source": [
    "## dot Product (produit scalaire)"
   ]
  },
  {
   "cell_type": "code",
   "execution_count": 34,
   "metadata": {},
   "outputs": [
    {
     "data": {
      "text/plain": [
       "array([1, 2, 3])"
      ]
     },
     "execution_count": 34,
     "metadata": {},
     "output_type": "execute_result"
    }
   ],
   "source": [
    "np.dot( np.array([1,0]), test.reshape((2,3)))"
   ]
  },
  {
   "cell_type": "markdown",
   "metadata": {},
   "source": [
    "## element-wise multiplication (Hadamard Product)"
   ]
  },
  {
   "cell_type": "code",
   "execution_count": 27,
   "metadata": {},
   "outputs": [
    {
     "data": {
      "text/plain": [
       "array([[ 2,  6, 12, 20],\n",
       "       [ 2,  6, 12, 20],\n",
       "       [ 2,  6, 12, 20]])"
      ]
     },
     "execution_count": 27,
     "metadata": {},
     "output_type": "execute_result"
    }
   ],
   "source": [
    "a = np.array([[1,2,3,4], [1,2,3,4], [1,2,3,4]])\n",
    "b = np.array([2,3,4,5])\n",
    "np.multiply(a,b)"
   ]
  },
  {
   "cell_type": "markdown",
   "metadata": {},
   "source": [
    "## Créer un exemple avec un vecteur de valeurs randoms"
   ]
  },
  {
   "cell_type": "code",
   "execution_count": 4,
   "metadata": {},
   "outputs": [],
   "source": [
    "%matplotlib inline"
   ]
  },
  {
   "cell_type": "code",
   "execution_count": 5,
   "metadata": {},
   "outputs": [
    {
     "data": {
      "image/png": "[encoded data removed]",
      "text/plain": [
       "<Figure size 432x288 with 1 Axes>"
      ]
     },
     "metadata": {},
     "output_type": "display_data"
    }
   ],
   "source": [
    "random_values = np.random.randint( 0, 100, (200, 1))\n",
    "X, y = random_values, 2*random_values + np.random.normal(0, 30, size=(200,1))  # y = 2*x + epsilon with epsilon ~ N(0,1)\n",
    "plt.scatter(x=X,y=y)\n",
    "plt.show()"
   ]
  },
  {
   "cell_type": "code",
   "execution_count": 6,
   "metadata": {},
   "outputs": [
    {
     "data": {
      "text/plain": [
       "array([ 1, 16, 95, 61, 61, 15, 26, 76, 53, 73, 43, 88, 84, 67, 97,  3,  9,\n",
       "       11, 74, 13, 86, 29, 22,  1, 23,  0, 20, 71, 87, 30, 78, 33, 95, 13,\n",
       "       40, 51, 64,  6, 30, 66, 40, 23, 54, 56, 12, 53, 42, 71,  0, 28, 39,\n",
       "        4, 12, 16, 48, 65, 68, 67, 85, 62, 54, 17, 21, 15, 14, 77, 71, 94,\n",
       "       79, 26, 50, 85, 23, 26, 92, 94, 28, 43, 68, 39, 19, 12, 17, 89, 23,\n",
       "       66, 32, 99, 57, 33, 88, 22, 30,  2, 33,  3, 62, 37, 39, 38, 82, 36,\n",
       "       23, 78, 49, 79, 78, 96, 48, 24, 74,  5, 53, 36, 61, 37, 47, 70, 89,\n",
       "       76, 20, 46, 20, 58, 91, 35, 13, 27, 86, 33,  7, 18, 31, 42,  9, 54,\n",
       "       35, 37, 37, 35, 96,  3, 54, 10, 63, 84, 32, 76, 70, 64, 91,  3, 55,\n",
       "       22, 16, 46, 46, 44, 79, 67, 28, 18, 20,  1, 89, 96, 45, 24, 81, 94,\n",
       "       69, 39,  2, 85, 24, 96, 85, 49, 98, 30, 16, 46, 90, 16, 75, 24,  3,\n",
       "       71,  4, 65,  0, 19,  0, 72, 38, 57, 64, 93,  9, 67])"
      ]
     },
     "execution_count": 6,
     "metadata": {},
     "output_type": "execute_result"
    }
   ],
   "source": [
    "X.reshape((200,))"
   ]
  },
  {
   "cell_type": "code",
   "execution_count": 7,
   "metadata": {},
   "outputs": [
    {
     "data": {
      "text/html": [
       "<div>\n",
       "<style scoped>\n",
       "    .dataframe tbody tr th:only-of-type {\n",
       "        vertical-align: middle;\n",
       "    }\n",
       "\n",
       "    .dataframe tbody tr th {\n",
       "        vertical-align: top;\n",
       "    }\n",
       "\n",
       "    .dataframe thead th {\n",
       "        text-align: right;\n",
       "    }\n",
       "</style>\n",
       "<table border=\"1\" class=\"dataframe\">\n",
       "  <thead>\n",
       "    <tr style=\"text-align: right;\">\n",
       "      <th></th>\n",
       "      <th>X</th>\n",
       "      <th>y</th>\n",
       "    </tr>\n",
       "  </thead>\n",
       "  <tbody>\n",
       "    <tr>\n",
       "      <td>0</td>\n",
       "      <td>1</td>\n",
       "      <td>13.768436</td>\n",
       "    </tr>\n",
       "    <tr>\n",
       "      <td>1</td>\n",
       "      <td>16</td>\n",
       "      <td>108.477645</td>\n",
       "    </tr>\n",
       "    <tr>\n",
       "      <td>2</td>\n",
       "      <td>95</td>\n",
       "      <td>209.201057</td>\n",
       "    </tr>\n",
       "    <tr>\n",
       "      <td>3</td>\n",
       "      <td>61</td>\n",
       "      <td>168.685723</td>\n",
       "    </tr>\n",
       "    <tr>\n",
       "      <td>4</td>\n",
       "      <td>61</td>\n",
       "      <td>111.407319</td>\n",
       "    </tr>\n",
       "    <tr>\n",
       "      <td>...</td>\n",
       "      <td>...</td>\n",
       "      <td>...</td>\n",
       "    </tr>\n",
       "    <tr>\n",
       "      <td>195</td>\n",
       "      <td>57</td>\n",
       "      <td>135.581419</td>\n",
       "    </tr>\n",
       "    <tr>\n",
       "      <td>196</td>\n",
       "      <td>64</td>\n",
       "      <td>92.387057</td>\n",
       "    </tr>\n",
       "    <tr>\n",
       "      <td>197</td>\n",
       "      <td>93</td>\n",
       "      <td>166.693067</td>\n",
       "    </tr>\n",
       "    <tr>\n",
       "      <td>198</td>\n",
       "      <td>9</td>\n",
       "      <td>25.886497</td>\n",
       "    </tr>\n",
       "    <tr>\n",
       "      <td>199</td>\n",
       "      <td>67</td>\n",
       "      <td>117.563860</td>\n",
       "    </tr>\n",
       "  </tbody>\n",
       "</table>\n",
       "<p>200 rows × 2 columns</p>\n",
       "</div>"
      ],
      "text/plain": [
       "      X           y\n",
       "0     1   13.768436\n",
       "1    16  108.477645\n",
       "2    95  209.201057\n",
       "3    61  168.685723\n",
       "4    61  111.407319\n",
       "..   ..         ...\n",
       "195  57  135.581419\n",
       "196  64   92.387057\n",
       "197  93  166.693067\n",
       "198   9   25.886497\n",
       "199  67  117.563860\n",
       "\n",
       "[200 rows x 2 columns]"
      ]
     },
     "execution_count": 7,
     "metadata": {},
     "output_type": "execute_result"
    }
   ],
   "source": [
    "pd.DataFrame({\"X\":  X.reshape((200,)), 'y': y.reshape((200,))})"
   ]
  },
  {
   "cell_type": "code",
   "execution_count": 52,
   "metadata": {},
   "outputs": [
    {
     "data": {
      "text/plain": [
       "array([0])"
      ]
     },
     "execution_count": 52,
     "metadata": {},
     "output_type": "execute_result"
    }
   ],
   "source": [
    "weight = np.random.randint(-2,2, (X.shape[1],))\n",
    "weight"
   ]
  },
  {
   "cell_type": "code",
   "execution_count": 57,
   "metadata": {},
   "outputs": [
    {
     "data": {
      "text/plain": [
       "9"
      ]
     },
     "execution_count": 57,
     "metadata": {},
     "output_type": "execute_result"
    }
   ],
   "source": [
    "b = np.random.randint(0,10)\n",
    "b"
   ]
  },
  {
   "cell_type": "code",
   "execution_count": 58,
   "metadata": {},
   "outputs": [
    {
     "data": {
      "text/plain": [
       "array([[1]])"
      ]
     },
     "execution_count": 58,
     "metadata": {},
     "output_type": "execute_result"
    }
   ],
   "source": [
    "w = np.random.randint(-2,2,(1,1))\n",
    "w"
   ]
  },
  {
   "cell_type": "code",
   "execution_count": 59,
   "metadata": {},
   "outputs": [
    {
     "data": {
      "text/plain": [
       "array([[-39.49015945],\n",
       "       [166.68791971],\n",
       "       [ 52.60694096],\n",
       "       [140.53762857],\n",
       "       [ -3.00541532],\n",
       "       [194.18097917],\n",
       "       [189.41323431],\n",
       "       [105.05136934],\n",
       "       [146.799365  ],\n",
       "       [ 29.30607457],\n",
       "       [ 66.59905824],\n",
       "       [  5.92846253],\n",
       "       [173.80899736],\n",
       "       [134.63069586],\n",
       "       [101.34398066],\n",
       "       [168.85842965],\n",
       "       [ 96.26160151],\n",
       "       [ 59.33780341],\n",
       "       [158.84253519],\n",
       "       [110.77710307],\n",
       "       [216.71960825],\n",
       "       [196.86238429],\n",
       "       [135.60243193],\n",
       "       [143.33912896],\n",
       "       [ 93.38500182],\n",
       "       [ 91.62711914],\n",
       "       [-16.31791351],\n",
       "       [174.65625884],\n",
       "       [ 76.13604513],\n",
       "       [ 14.28432912],\n",
       "       [ 74.39597815],\n",
       "       [132.34924308],\n",
       "       [  5.85360588],\n",
       "       [ 50.20081603],\n",
       "       [ 88.62610286],\n",
       "       [181.31937472],\n",
       "       [166.22545376],\n",
       "       [146.24121887],\n",
       "       [ 90.43247471],\n",
       "       [ 66.19318618],\n",
       "       [ 67.24409125],\n",
       "       [178.23898056],\n",
       "       [120.28416641],\n",
       "       [201.67767668],\n",
       "       [ 89.64976049],\n",
       "       [118.51120679],\n",
       "       [128.31231747],\n",
       "       [142.00186492],\n",
       "       [ 67.32405255],\n",
       "       [230.35570661],\n",
       "       [  3.54578275],\n",
       "       [ 38.43463859],\n",
       "       [  2.71502972],\n",
       "       [ 87.29247352],\n",
       "       [125.08724435],\n",
       "       [ 36.21173393],\n",
       "       [ -7.97117596],\n",
       "       [121.69920463],\n",
       "       [ 40.06321252],\n",
       "       [136.36937559],\n",
       "       [212.21601503],\n",
       "       [189.99422555],\n",
       "       [206.8014779 ],\n",
       "       [ 80.68420906],\n",
       "       [ 81.78947752],\n",
       "       [ 54.35312616],\n",
       "       [114.65959046],\n",
       "       [121.03372048],\n",
       "       [136.01246131],\n",
       "       [179.58667895],\n",
       "       [ 76.37468818],\n",
       "       [ 76.73275829],\n",
       "       [111.79216285],\n",
       "       [ 51.51302598],\n",
       "       [ 72.46643299],\n",
       "       [114.01788817],\n",
       "       [ 46.89427168],\n",
       "       [ 26.31461916],\n",
       "       [112.83195148],\n",
       "       [ 89.92161405],\n",
       "       [ 56.38494698],\n",
       "       [-10.97018303],\n",
       "       [ 52.32774079],\n",
       "       [ 78.88889059],\n",
       "       [115.98128212],\n",
       "       [ 48.46992021],\n",
       "       [ 83.11214026],\n",
       "       [179.43098163],\n",
       "       [155.50406886],\n",
       "       [ 79.57147153],\n",
       "       [103.60893995],\n",
       "       [ 81.5836553 ],\n",
       "       [111.51379559],\n",
       "       [  7.92007682],\n",
       "       [ 22.16896517],\n",
       "       [130.90400794],\n",
       "       [117.36138662],\n",
       "       [ 93.19386936],\n",
       "       [ 72.49774996],\n",
       "       [ 56.16496229],\n",
       "       [  6.62819003],\n",
       "       [  5.97069649],\n",
       "       [131.46918842],\n",
       "       [136.68960329],\n",
       "       [ 89.22483775],\n",
       "       [ 87.70423417],\n",
       "       [ 11.60718644],\n",
       "       [156.9960064 ],\n",
       "       [116.18819819],\n",
       "       [ 70.78082695],\n",
       "       [ 64.91125568],\n",
       "       [ 80.09072724],\n",
       "       [126.0884527 ],\n",
       "       [  7.02413071],\n",
       "       [157.25485967],\n",
       "       [129.94180834],\n",
       "       [183.79563656],\n",
       "       [112.36528907],\n",
       "       [122.1035515 ],\n",
       "       [157.03721076],\n",
       "       [159.65491834],\n",
       "       [ 46.06638296],\n",
       "       [134.12726153],\n",
       "       [152.20170484],\n",
       "       [ 23.84624528],\n",
       "       [169.7873841 ],\n",
       "       [120.27761921],\n",
       "       [ 12.52624051],\n",
       "       [147.91147523],\n",
       "       [203.67324558],\n",
       "       [153.42526901],\n",
       "       [ 98.34914168],\n",
       "       [135.79061838],\n",
       "       [190.18933752],\n",
       "       [137.07105594],\n",
       "       [ 28.13446407],\n",
       "       [149.65120612],\n",
       "       [ 88.9112252 ],\n",
       "       [102.49341096],\n",
       "       [ 49.95663466],\n",
       "       [-16.70647926],\n",
       "       [154.56758537],\n",
       "       [176.67711342],\n",
       "       [222.99531822],\n",
       "       [ 91.40551499],\n",
       "       [ -1.94144802],\n",
       "       [-15.36927905],\n",
       "       [ 69.39572149],\n",
       "       [169.10214405],\n",
       "       [ 59.21578812],\n",
       "       [151.18350767],\n",
       "       [ 49.18608121],\n",
       "       [ 64.64548511],\n",
       "       [ 16.6843695 ],\n",
       "       [ 54.10865811],\n",
       "       [ 79.46379734],\n",
       "       [ 90.5409083 ],\n",
       "       [ 20.65599861],\n",
       "       [120.11313172],\n",
       "       [221.39235604],\n",
       "       [ 43.51666613],\n",
       "       [140.64855556],\n",
       "       [ 11.17540204],\n",
       "       [ 57.50181148],\n",
       "       [157.15182174],\n",
       "       [ 82.74776596],\n",
       "       [142.92621948],\n",
       "       [ -6.03542441],\n",
       "       [ 57.1201598 ],\n",
       "       [ 96.82660396],\n",
       "       [218.18239129],\n",
       "       [ 99.29085005],\n",
       "       [162.22775347],\n",
       "       [ 82.6009929 ],\n",
       "       [180.62393607],\n",
       "       [164.18733943],\n",
       "       [186.4575266 ],\n",
       "       [171.58900624],\n",
       "       [ 20.50702081],\n",
       "       [162.12073994],\n",
       "       [189.77077575],\n",
       "       [ 73.10256409],\n",
       "       [153.04531686],\n",
       "       [209.34237266],\n",
       "       [143.48812594],\n",
       "       [ 32.58476795],\n",
       "       [ 93.88210068],\n",
       "       [ 31.75057558],\n",
       "       [ 12.97370507],\n",
       "       [157.18994909],\n",
       "       [-26.61082247],\n",
       "       [232.11415613],\n",
       "       [ 61.74346904],\n",
       "       [ 27.26302118],\n",
       "       [166.2166209 ],\n",
       "       [155.08813709],\n",
       "       [ 29.36720987],\n",
       "       [157.40694553],\n",
       "       [ 84.97897787],\n",
       "       [ 26.6870883 ]])"
      ]
     },
     "execution_count": 59,
     "metadata": {},
     "output_type": "execute_result"
    }
   ],
   "source": [
    "y"
   ]
  },
  {
   "cell_type": "markdown",
   "metadata": {},
   "source": [
    "np.dot(X, weight) + b\n"
   ]
  },
  {
   "cell_type": "markdown",
   "metadata": {},
   "source": [
    "<img src=\"td4_ressources/img_formula_gradient_descent_backprop_mattmazur.png\" width=600>"
   ]
  },
  {
   "cell_type": "markdown",
   "metadata": {},
   "source": [
    "<img src=\"td5_ressources/img_explanations_Bertin_Luc.png\">"
   ]
  },
  {
   "cell_type": "code",
   "execution_count": 9,
   "metadata": {},
   "outputs": [],
   "source": [
    "import numpy as np, pandas as pd\n",
    "from sklearn.model_selection import train_test_split\n",
    "from sklearn.preprocessing import StandardScaler\n",
    "\n",
    "class Neural_Network_1neuron:\n",
    "    \n",
    "    def __init__(self, X, y, nb_epochs=100, fixed_bias=False, learning_rate=0.03):\n",
    "        self.X_train, self.X_test, self.y_train, self.y_test = train_test_split(X, y, test_size=0.20)\n",
    "        self.X_train, self.X_test = self.scale_values(self.X_train, self.X_test)\n",
    "        self.y_train, self.y_test = \\\n",
    "            np.reshape(self.y_train, (len(self.y_train),1)),\\\n",
    "            np.reshape(self.y_test, (len(self.y_test),1))\n",
    "        \n",
    "        self.weights = [] * X.shape[1]  # as many weights as features, here 1\n",
    "        self.weights = self.init_weights(X)\n",
    "        self.bias, self.fixed_bias    = 0, fixed_bias\n",
    "        self.training_predictions, self.mse = 0, 0\n",
    "        self.learning_rate = learning_rate\n",
    "        self.nb_epochs = nb_epochs\n",
    "        self.weights_update, self.bias_update = 0, 0\n",
    "        self.records = pd.DataFrame([[self.weights, self.bias,0]], columns=['weights', 'bias', 'mse'])\n",
    "    \n",
    "    def scale_values(self, X_train, X_test):\n",
    "        scale   = StandardScaler()\n",
    "        X_train = scale.fit_transform(X_train)\n",
    "        X_test  = scale.transform(X_test)\n",
    "        return X_train, X_test\n",
    "        \n",
    "    def init_weights(self, X):\n",
    "        nb_of_features_input = X.shape[1]\n",
    "        return np.random.randint(-2,2, (nb_of_features_input, 1))\n",
    "    \n",
    "    def activation(self):\n",
    "        return x\n",
    "    def derivate_activation(self):\n",
    "        return 1\n",
    "    \n",
    "    def forward_pass(self):\n",
    "        self.training_predictions = np.dot(self.X_train, self.weights) + self.bias\n",
    "    \n",
    "    def compute_mse(self):\n",
    "        self.mse = 1/(2*len(self.X_train)) * sum( ( self.training_predictions - self.y_train)**2 )\n",
    "    \n",
    "    def backpropagation(self):\n",
    "        # derivative of error by weights so to update them along with bias\n",
    "        # dE/dw = dE/da * da/dz * dz/dw\n",
    "        # w = w - n*dE/dw\n",
    "        # E = mse = (1/2n)* sum(( predictions(==activations) - target)**2) ON ALL TRAINING EXAMPLES\n",
    "        \n",
    "        self.dE_da = self.training_predictions - self.y_train #for all training examples\n",
    "        \n",
    "        self.da_dz = self.derivate_activation() # derivate of activation\n",
    "        \n",
    "        self.dz_dw = self.X_train     # z = W*X + bias => dz_dw = X    \n",
    "        \n",
    "        self.weights_update, self.bias_update = \\\n",
    "            ( 1 / self.X_train.shape[0] ) * np.reshape( sum( self.dE_da * self.da_dz * self.dz_dw), (self.X_train.shape[1], 1) ),\\\n",
    "            ( 1 / self.X_train.shape[0] ) * sum( self.dE_da * self.da_dz ),  # weights updates, bias update\n",
    "    \n",
    "    def update(self):\n",
    "        self.weights = self.weights - self.learning_rate * self.weights_update\n",
    "        self.bias    = self.bias    - self.learning_rate * self.bias_update if not self.fixed_bias else self.bias\n",
    "        \n",
    "    def predict(self):\n",
    "        return np.dot(self.X_test, self.weights) + self.bias\n",
    "    \n",
    "    def run(self):\n",
    "        for i in range(1, self.nb_epochs):\n",
    "            self.forward_pass()\n",
    "            self.compute_mse()\n",
    "            self.backpropagation()\n",
    "            self.update()\n",
    "            self.records.loc[i] = [self.weights, self.bias, self.mse]  \n",
    "        return self.records"
   ]
  },
  {
   "cell_type": "code",
   "execution_count": 10,
   "metadata": {},
   "outputs": [
    {
     "name": "stderr",
     "output_type": "stream",
     "text": [
      "/Users/lucbertin/anaconda3/lib/python3.6/site-packages/sklearn/utils/validation.py:475: DataConversionWarning: Data with input dtype int64 was converted to float64 by StandardScaler.\n",
      "  warnings.warn(msg, DataConversionWarning)\n"
     ]
    }
   ],
   "source": [
    "unReseauDeNeurone = Neural_Network_1neuron(X, y, nb_epochs=2000)"
   ]
  },
  {
   "cell_type": "code",
   "execution_count": 11,
   "metadata": {},
   "outputs": [],
   "source": [
    "records= unReseauDeNeurone.run()"
   ]
  },
  {
   "cell_type": "code",
   "execution_count": 12,
   "metadata": {},
   "outputs": [
    {
     "data": {
      "text/plain": [
       "[<matplotlib.lines.Line2D at 0x1a2240cdd8>]"
      ]
     },
     "execution_count": 12,
     "metadata": {},
     "output_type": "execute_result"
    },
    {
     "data": {
      "image/png": "[encoded data removed]",
      "text/plain": [
       "<Figure size 432x288 with 1 Axes>"
      ]
     },
     "metadata": {},
     "output_type": "display_data"
    }
   ],
   "source": [
    "plt.plot(records['weights'])\n",
    "plt.plot(records['bias'])"
   ]
  },
  {
   "cell_type": "code",
   "execution_count": 16,
   "metadata": {},
   "outputs": [
    {
     "data": {
      "text/plain": [
       "[<matplotlib.lines.Line2D at 0x11b987ba8>]"
      ]
     },
     "execution_count": 16,
     "metadata": {},
     "output_type": "execute_result"
    },
    {
     "data": {
      "image/png": "[encoded data removed]",
      "text/plain": [
       "<Figure size 432x288 with 1 Axes>"
      ]
     },
     "metadata": {},
     "output_type": "display_data"
    }
   ],
   "source": [
    "from sklearn.preprocessing import StandardScaler\n",
    "plt.scatter(x=unReseauDeNeurone.X_test, y= unReseauDeNeurone.y_test, color='green')\n",
    "x_ = np.linspace(-2, 2, 100).reshape((100,1))\n",
    "y_ = float(unReseauDeNeurone.weights)*x_ + float(unReseauDeNeurone.bias)\n",
    "plt.plot(x_, y_, color='red')"
   ]
  },
  {
   "cell_type": "code",
   "execution_count": 18,
   "metadata": {},
   "outputs": [
    {
     "data": {
      "application/javascript": [
       "/* Put everything inside the global mpl namespace */\n",
       "window.mpl = {};\n",
       "\n",
       "\n",
       "mpl.get_websocket_type = function() {\n",
       "    if (typeof(WebSocket) !== 'undefined') {\n",
       "        return WebSocket;\n",
       "    } else if (typeof(MozWebSocket) !== 'undefined') {\n",
       "        return MozWebSocket;\n",
       "    } else {\n",
       "        alert('Your browser does not have WebSocket support.' +\n",
       "              'Please try Chrome, Safari or Firefox ≥ 6. ' +\n",
       "              'Firefox 4 and 5 are also supported but you ' +\n",
       "              'have to enable WebSockets in about:config.');\n",
       "    };\n",
       "}\n",
       "\n",
       "mpl.figure = function(figure_id, websocket, ondownload, parent_element) {\n",
       "    this.id = figure_id;\n",
       "\n",
       "    this.ws = websocket;\n",
       "\n",
       "    this.supports_binary = (this.ws.binaryType != undefined);\n",
       "\n",
       "    if (!this.supports_binary) {\n",
       "        var warnings = document.getElementById(\"mpl-warnings\");\n",
       "        if (warnings) {\n",
       "            warnings.style.display = 'block';\n",
       "            warnings.textContent = (\n",
       "                \"This browser does not support binary websocket messages. \" +\n",
       "                    \"Performance may be slow.\");\n",
       "        }\n",
       "    }\n",
       "\n",
       "    this.imageObj = new Image();\n",
       "\n",
       "    this.context = undefined;\n",
       "    this.message = undefined;\n",
       "    this.canvas = undefined;\n",
       "    this.rubberband_canvas = undefined;\n",
       "    this.rubberband_context = undefined;\n",
       "    this.format_dropdown = undefined;\n",
       "\n",
       "    this.image_mode = 'full';\n",
       "\n",
       "    this.root = $('<div/>');\n",
       "    this._root_extra_style(this.root)\n",
       "    this.root.attr('style', 'display: inline-block');\n",
       "\n",
       "    $(parent_element).append(this.root);\n",
       "\n",
       "    this._init_header(this);\n",
       "    this._init_canvas(this);\n",
       "    this._init_toolbar(this);\n",
       "\n",
       "    var fig = this;\n",
       "\n",
       "    this.waiting = false;\n",
       "\n",
       "    this.ws.onopen =  function () {\n",
       "            fig.send_message(\"supports_binary\", {value: fig.supports_binary});\n",
       "            fig.send_message(\"send_image_mode\", {});\n",
       "            if (mpl.ratio != 1) {\n",
       "                fig.send_message(\"set_dpi_ratio\", {'dpi_ratio': mpl.ratio});\n",
       "            }\n",
       "            fig.send_message(\"refresh\", {});\n",
       "        }\n",
       "\n",
       "    this.imageObj.onload = function() {\n",
       "            if (fig.image_mode == 'full') {\n",
       "                // Full images could contain transparency (where diff images\n",
       "                // almost always do), so we need to clear the canvas so that\n",
       "                // there is no ghosting.\n",
       "                fig.context.clearRect(0, 0, fig.canvas.width, fig.canvas.height);\n",
       "            }\n",
       "            fig.context.drawImage(fig.imageObj, 0, 0);\n",
       "        };\n",
       "\n",
       "    this.imageObj.onunload = function() {\n",
       "        fig.ws.close();\n",
       "    }\n",
       "\n",
       "    this.ws.onmessage = this._make_on_message_function(this);\n",
       "\n",
       "    this.ondownload = ondownload;\n",
       "}\n",
       "\n",
       "mpl.figure.prototype._init_header = function() {\n",
       "    var titlebar = $(\n",
       "        '<div class=\"ui-dialog-titlebar ui-widget-header ui-corner-all ' +\n",
       "        'ui-helper-clearfix\"/>');\n",
       "    var titletext = $(\n",
       "        '<div class=\"ui-dialog-title\" style=\"width: 100%; ' +\n",
       "        'text-align: center; padding: 3px;\"/>');\n",
       "    titlebar.append(titletext)\n",
       "    this.root.append(titlebar);\n",
       "    this.header = titletext[0];\n",
       "}\n",
       "\n",
       "\n",
       "\n",
       "mpl.figure.prototype._canvas_extra_style = function(canvas_div) {\n",
       "\n",
       "}\n",
       "\n",
       "\n",
       "mpl.figure.prototype._root_extra_style = function(canvas_div) {\n",
       "\n",
       "}\n",
       "\n",
       "mpl.figure.prototype._init_canvas = function() {\n",
       "    var fig = this;\n",
       "\n",
       "    var canvas_div = $('<div/>');\n",
       "\n",
       "    canvas_div.attr('style', 'position: relative; clear: both; outline: 0');\n",
       "\n",
       "    function canvas_keyboard_event(event) {\n",
       "        return fig.key_event(event, event['data']);\n",
       "    }\n",
       "\n",
       "    canvas_div.keydown('key_press', canvas_keyboard_event);\n",
       "    canvas_div.keyup('key_release', canvas_keyboard_event);\n",
       "    this.canvas_div = canvas_div\n",
       "    this._canvas_extra_style(canvas_div)\n",
       "    this.root.append(canvas_div);\n",
       "\n",
       "    var canvas = $('<canvas/>');\n",
       "    canvas.addClass('mpl-canvas');\n",
       "    canvas.attr('style', \"left: 0; top: 0; z-index: 0; outline: 0\")\n",
       "\n",
       "    this.canvas = canvas[0];\n",
       "    this.context = canvas[0].getContext(\"2d\");\n",
       "\n",
       "    var backingStore = this.context.backingStorePixelRatio ||\n",
       "\tthis.context.webkitBackingStorePixelRatio ||\n",
       "\tthis.context.mozBackingStorePixelRatio ||\n",
       "\tthis.context.msBackingStorePixelRatio ||\n",
       "\tthis.context.oBackingStorePixelRatio ||\n",
       "\tthis.context.backingStorePixelRatio || 1;\n",
       "\n",
       "    mpl.ratio = (window.devicePixelRatio || 1) / backingStore;\n",
       "\n",
       "    var rubberband = $('<canvas/>');\n",
       "    rubberband.attr('style', \"position: absolute; left: 0; top: 0; z-index: 1;\")\n",
       "\n",
       "    var pass_mouse_events = true;\n",
       "\n",
       "    canvas_div.resizable({\n",
       "        start: function(event, ui) {\n",
       "            pass_mouse_events = false;\n",
       "        },\n",
       "        resize: function(event, ui) {\n",
       "            fig.request_resize(ui.size.width, ui.size.height);\n",
       "        },\n",
       "        stop: function(event, ui) {\n",
       "            pass_mouse_events = true;\n",
       "            fig.request_resize(ui.size.width, ui.size.height);\n",
       "        },\n",
       "    });\n",
       "\n",
       "    function mouse_event_fn(event) {\n",
       "        if (pass_mouse_events)\n",
       "            return fig.mouse_event(event, event['data']);\n",
       "    }\n",
       "\n",
       "    rubberband.mousedown('button_press', mouse_event_fn);\n",
       "    rubberband.mouseup('button_release', mouse_event_fn);\n",
       "    // Throttle sequential mouse events to 1 every 20ms.\n",
       "    rubberband.mousemove('motion_notify', mouse_event_fn);\n",
       "\n",
       "    rubberband.mouseenter('figure_enter', mouse_event_fn);\n",
       "    rubberband.mouseleave('figure_leave', mouse_event_fn);\n",
       "\n",
       "    canvas_div.on(\"wheel\", function (event) {\n",
       "        event = event.originalEvent;\n",
       "        event['data'] = 'scroll'\n",
       "        if (event.deltaY < 0) {\n",
       "            event.step = 1;\n",
       "        } else {\n",
       "            event.step = -1;\n",
       "        }\n",
       "        mouse_event_fn(event);\n",
       "    });\n",
       "\n",
       "    canvas_div.append(canvas);\n",
       "    canvas_div.append(rubberband);\n",
       "\n",
       "    this.rubberband = rubberband;\n",
       "    this.rubberband_canvas = rubberband[0];\n",
       "    this.rubberband_context = rubberband[0].getContext(\"2d\");\n",
       "    this.rubberband_context.strokeStyle = \"#000000\";\n",
       "\n",
       "    this._resize_canvas = function(width, height) {\n",
       "        // Keep the size of the canvas, canvas container, and rubber band\n",
       "        // canvas in synch.\n",
       "        canvas_div.css('width', width)\n",
       "        canvas_div.css('height', height)\n",
       "\n",
       "        canvas.attr('width', width * mpl.ratio);\n",
       "        canvas.attr('height', height * mpl.ratio);\n",
       "        canvas.attr('style', 'width: ' + width + 'px; height: ' + height + 'px;');\n",
       "\n",
       "        rubberband.attr('width', width);\n",
       "        rubberband.attr('height', height);\n",
       "    }\n",
       "\n",
       "    // Set the figure to an initial 600x600px, this will subsequently be updated\n",
       "    // upon first draw.\n",
       "    this._resize_canvas(600, 600);\n",
       "\n",
       "    // Disable right mouse context menu.\n",
       "    $(this.rubberband_canvas).bind(\"contextmenu\",function(e){\n",
       "        return false;\n",
       "    });\n",
       "\n",
       "    function set_focus () {\n",
       "        canvas.focus();\n",
       "        canvas_div.focus();\n",
       "    }\n",
       "\n",
       "    window.setTimeout(set_focus, 100);\n",
       "}\n",
       "\n",
       "mpl.figure.prototype._init_toolbar = function() {\n",
       "    var fig = this;\n",
       "\n",
       "    var nav_element = $('<div/>')\n",
       "    nav_element.attr('style', 'width: 100%');\n",
       "    this.root.append(nav_element);\n",
       "\n",
       "    // Define a callback function for later on.\n",
       "    function toolbar_event(event) {\n",
       "        return fig.toolbar_button_onclick(event['data']);\n",
       "    }\n",
       "    function toolbar_mouse_event(event) {\n",
       "        return fig.toolbar_button_onmouseover(event['data']);\n",
       "    }\n",
       "\n",
       "    for(var toolbar_ind in mpl.toolbar_items) {\n",
       "        var name = mpl.toolbar_items[toolbar_ind][0];\n",
       "        var tooltip = mpl.toolbar_items[toolbar_ind][1];\n",
       "        var image = mpl.toolbar_items[toolbar_ind][2];\n",
       "        var method_name = mpl.toolbar_items[toolbar_ind][3];\n",
       "\n",
       "        if (!name) {\n",
       "            // put a spacer in here.\n",
       "            continue;\n",
       "        }\n",
       "        var button = $('<button/>');\n",
       "        button.addClass('ui-button ui-widget ui-state-default ui-corner-all ' +\n",
       "                        'ui-button-icon-only');\n",
       "        button.attr('role', 'button');\n",
       "        button.attr('aria-disabled', 'false');\n",
       "        button.click(method_name, toolbar_event);\n",
       "        button.mouseover(tooltip, toolbar_mouse_event);\n",
       "\n",
       "        var icon_img = $('<span/>');\n",
       "        icon_img.addClass('ui-button-icon-primary ui-icon');\n",
       "        icon_img.addClass(image);\n",
       "        icon_img.addClass('ui-corner-all');\n",
       "\n",
       "        var tooltip_span = $('<span/>');\n",
       "        tooltip_span.addClass('ui-button-text');\n",
       "        tooltip_span.html(tooltip);\n",
       "\n",
       "        button.append(icon_img);\n",
       "        button.append(tooltip_span);\n",
       "\n",
       "        nav_element.append(button);\n",
       "    }\n",
       "\n",
       "    var fmt_picker_span = $('<span/>');\n",
       "\n",
       "    var fmt_picker = $('<select/>');\n",
       "    fmt_picker.addClass('mpl-toolbar-option ui-widget ui-widget-content');\n",
       "    fmt_picker_span.append(fmt_picker);\n",
       "    nav_element.append(fmt_picker_span);\n",
       "    this.format_dropdown = fmt_picker[0];\n",
       "\n",
       "    for (var ind in mpl.extensions) {\n",
       "        var fmt = mpl.extensions[ind];\n",
       "        var option = $(\n",
       "            '<option/>', {selected: fmt === mpl.default_extension}).html(fmt);\n",
       "        fmt_picker.append(option)\n",
       "    }\n",
       "\n",
       "    // Add hover states to the ui-buttons\n",
       "    $( \".ui-button\" ).hover(\n",
       "        function() { $(this).addClass(\"ui-state-hover\");},\n",
       "        function() { $(this).removeClass(\"ui-state-hover\");}\n",
       "    );\n",
       "\n",
       "    var status_bar = $('<span class=\"mpl-message\"/>');\n",
       "    nav_element.append(status_bar);\n",
       "    this.message = status_bar[0];\n",
       "}\n",
       "\n",
       "mpl.figure.prototype.request_resize = function(x_pixels, y_pixels) {\n",
       "    // Request matplotlib to resize the figure. Matplotlib will then trigger a resize in the client,\n",
       "    // which will in turn request a refresh of the image.\n",
       "    this.send_message('resize', {'width': x_pixels, 'height': y_pixels});\n",
       "}\n",
       "\n",
       "mpl.figure.prototype.send_message = function(type, properties) {\n",
       "    properties['type'] = type;\n",
       "    properties['figure_id'] = this.id;\n",
       "    this.ws.send(JSON.stringify(properties));\n",
       "}\n",
       "\n",
       "mpl.figure.prototype.send_draw_message = function() {\n",
       "    if (!this.waiting) {\n",
       "        this.waiting = true;\n",
       "        this.ws.send(JSON.stringify({type: \"draw\", figure_id: this.id}));\n",
       "    }\n",
       "}\n",
       "\n",
       "\n",
       "mpl.figure.prototype.handle_save = function(fig, msg) {\n",
       "    var format_dropdown = fig.format_dropdown;\n",
       "    var format = format_dropdown.options[format_dropdown.selectedIndex].value;\n",
       "    fig.ondownload(fig, format);\n",
       "}\n",
       "\n",
       "\n",
       "mpl.figure.prototype.handle_resize = function(fig, msg) {\n",
       "    var size = msg['size'];\n",
       "    if (size[0] != fig.canvas.width || size[1] != fig.canvas.height) {\n",
       "        fig._resize_canvas(size[0], size[1]);\n",
       "        fig.send_message(\"refresh\", {});\n",
       "    };\n",
       "}\n",
       "\n",
       "mpl.figure.prototype.handle_rubberband = function(fig, msg) {\n",
       "    var x0 = msg['x0'] / mpl.ratio;\n",
       "    var y0 = (fig.canvas.height - msg['y0']) / mpl.ratio;\n",
       "    var x1 = msg['x1'] / mpl.ratio;\n",
       "    var y1 = (fig.canvas.height - msg['y1']) / mpl.ratio;\n",
       "    x0 = Math.floor(x0) + 0.5;\n",
       "    y0 = Math.floor(y0) + 0.5;\n",
       "    x1 = Math.floor(x1) + 0.5;\n",
       "    y1 = Math.floor(y1) + 0.5;\n",
       "    var min_x = Math.min(x0, x1);\n",
       "    var min_y = Math.min(y0, y1);\n",
       "    var width = Math.abs(x1 - x0);\n",
       "    var height = Math.abs(y1 - y0);\n",
       "\n",
       "    fig.rubberband_context.clearRect(\n",
       "        0, 0, fig.canvas.width, fig.canvas.height);\n",
       "\n",
       "    fig.rubberband_context.strokeRect(min_x, min_y, width, height);\n",
       "}\n",
       "\n",
       "mpl.figure.prototype.handle_figure_label = function(fig, msg) {\n",
       "    // Updates the figure title.\n",
       "    fig.header.textContent = msg['label'];\n",
       "}\n",
       "\n",
       "mpl.figure.prototype.handle_cursor = function(fig, msg) {\n",
       "    var cursor = msg['cursor'];\n",
       "    switch(cursor)\n",
       "    {\n",
       "    case 0:\n",
       "        cursor = 'pointer';\n",
       "        break;\n",
       "    case 1:\n",
       "        cursor = 'default';\n",
       "        break;\n",
       "    case 2:\n",
       "        cursor = 'crosshair';\n",
       "        break;\n",
       "    case 3:\n",
       "        cursor = 'move';\n",
       "        break;\n",
       "    }\n",
       "    fig.rubberband_canvas.style.cursor = cursor;\n",
       "}\n",
       "\n",
       "mpl.figure.prototype.handle_message = function(fig, msg) {\n",
       "    fig.message.textContent = msg['message'];\n",
       "}\n",
       "\n",
       "mpl.figure.prototype.handle_draw = function(fig, msg) {\n",
       "    // Request the server to send over a new figure.\n",
       "    fig.send_draw_message();\n",
       "}\n",
       "\n",
       "mpl.figure.prototype.handle_image_mode = function(fig, msg) {\n",
       "    fig.image_mode = msg['mode'];\n",
       "}\n",
       "\n",
       "mpl.figure.prototype.updated_canvas_event = function() {\n",
       "    // Called whenever the canvas gets updated.\n",
       "    this.send_message(\"ack\", {});\n",
       "}\n",
       "\n",
       "// A function to construct a web socket function for onmessage handling.\n",
       "// Called in the figure constructor.\n",
       "mpl.figure.prototype._make_on_message_function = function(fig) {\n",
       "    return function socket_on_message(evt) {\n",
       "        if (evt.data instanceof Blob) {\n",
       "            /* FIXME: We get \"Resource interpreted as Image but\n",
       "             * transferred with MIME type text/plain:\" errors on\n",
       "             * Chrome.  But how to set the MIME type?  It doesn't seem\n",
       "             * to be part of the websocket stream */\n",
       "            evt.data.type = \"image/png\";\n",
       "\n",
       "            /* Free the memory for the previous frames */\n",
       "            if (fig.imageObj.src) {\n",
       "                (window.URL || window.webkitURL).revokeObjectURL(\n",
       "                    fig.imageObj.src);\n",
       "            }\n",
       "\n",
       "            fig.imageObj.src = (window.URL || window.webkitURL).createObjectURL(\n",
       "                evt.data);\n",
       "            fig.updated_canvas_event();\n",
       "            fig.waiting = false;\n",
       "            return;\n",
       "        }\n",
       "        else if (typeof evt.data === 'string' && evt.data.slice(0, 21) == \"data:image/png;base64\") {\n",
       "            fig.imageObj.src = evt.data;\n",
       "            fig.updated_canvas_event();\n",
       "            fig.waiting = false;\n",
       "            return;\n",
       "        }\n",
       "\n",
       "        var msg = JSON.parse(evt.data);\n",
       "        var msg_type = msg['type'];\n",
       "\n",
       "        // Call the  \"handle_{type}\" callback, which takes\n",
       "        // the figure and JSON message as its only arguments.\n",
       "        try {\n",
       "            var callback = fig[\"handle_\" + msg_type];\n",
       "        } catch (e) {\n",
       "            console.log(\"No handler for the '\" + msg_type + \"' message type: \", msg);\n",
       "            return;\n",
       "        }\n",
       "\n",
       "        if (callback) {\n",
       "            try {\n",
       "                // console.log(\"Handling '\" + msg_type + \"' message: \", msg);\n",
       "                callback(fig, msg);\n",
       "            } catch (e) {\n",
       "                console.log(\"Exception inside the 'handler_\" + msg_type + \"' callback:\", e, e.stack, msg);\n",
       "            }\n",
       "        }\n",
       "    };\n",
       "}\n",
       "\n",
       "// from http://stackoverflow.com/questions/1114465/getting-mouse-location-in-canvas\n",
       "mpl.findpos = function(e) {\n",
       "    //this section is from http://www.quirksmode.org/js/events_properties.html\n",
       "    var targ;\n",
       "    if (!e)\n",
       "        e = window.event;\n",
       "    if (e.target)\n",
       "        targ = e.target;\n",
       "    else if (e.srcElement)\n",
       "        targ = e.srcElement;\n",
       "    if (targ.nodeType == 3) // defeat Safari bug\n",
       "        targ = targ.parentNode;\n",
       "\n",
       "    // jQuery normalizes the pageX and pageY\n",
       "    // pageX,Y are the mouse positions relative to the document\n",
       "    // offset() returns the position of the element relative to the document\n",
       "    var x = e.pageX - $(targ).offset().left;\n",
       "    var y = e.pageY - $(targ).offset().top;\n",
       "\n",
       "    return {\"x\": x, \"y\": y};\n",
       "};\n",
       "\n",
       "/*\n",
       " * return a copy of an object with only non-object keys\n",
       " * we need this to avoid circular references\n",
       " * http://stackoverflow.com/a/24161582/3208463\n",
       " */\n",
       "function simpleKeys (original) {\n",
       "  return Object.keys(original).reduce(function (obj, key) {\n",
       "    if (typeof original[key] !== 'object')\n",
       "        obj[key] = original[key]\n",
       "    return obj;\n",
       "  }, {});\n",
       "}\n",
       "\n",
       "mpl.figure.prototype.mouse_event = function(event, name) {\n",
       "    var canvas_pos = mpl.findpos(event)\n",
       "\n",
       "    if (name === 'button_press')\n",
       "    {\n",
       "        this.canvas.focus();\n",
       "        this.canvas_div.focus();\n",
       "    }\n",
       "\n",
       "    var x = canvas_pos.x * mpl.ratio;\n",
       "    var y = canvas_pos.y * mpl.ratio;\n",
       "\n",
       "    this.send_message(name, {x: x, y: y, button: event.button,\n",
       "                             step: event.step,\n",
       "                             guiEvent: simpleKeys(event)});\n",
       "\n",
       "    /* This prevents the web browser from automatically changing to\n",
       "     * the text insertion cursor when the button is pressed.  We want\n",
       "     * to control all of the cursor setting manually through the\n",
       "     * 'cursor' event from matplotlib */\n",
       "    event.preventDefault();\n",
       "    return false;\n",
       "}\n",
       "\n",
       "mpl.figure.prototype._key_event_extra = function(event, name) {\n",
       "    // Handle any extra behaviour associated with a key event\n",
       "}\n",
       "\n",
       "mpl.figure.prototype.key_event = function(event, name) {\n",
       "\n",
       "    // Prevent repeat events\n",
       "    if (name == 'key_press')\n",
       "    {\n",
       "        if (event.which === this._key)\n",
       "            return;\n",
       "        else\n",
       "            this._key = event.which;\n",
       "    }\n",
       "    if (name == 'key_release')\n",
       "        this._key = null;\n",
       "\n",
       "    var value = '';\n",
       "    if (event.ctrlKey && event.which != 17)\n",
       "        value += \"ctrl+\";\n",
       "    if (event.altKey && event.which != 18)\n",
       "        value += \"alt+\";\n",
       "    if (event.shiftKey && event.which != 16)\n",
       "        value += \"shift+\";\n",
       "\n",
       "    value += 'k';\n",
       "    value += event.which.toString();\n",
       "\n",
       "    this._key_event_extra(event, name);\n",
       "\n",
       "    this.send_message(name, {key: value,\n",
       "                             guiEvent: simpleKeys(event)});\n",
       "    return false;\n",
       "}\n",
       "\n",
       "mpl.figure.prototype.toolbar_button_onclick = function(name) {\n",
       "    if (name == 'download') {\n",
       "        this.handle_save(this, null);\n",
       "    } else {\n",
       "        this.send_message(\"toolbar_button\", {name: name});\n",
       "    }\n",
       "};\n",
       "\n",
       "mpl.figure.prototype.toolbar_button_onmouseover = function(tooltip) {\n",
       "    this.message.textContent = tooltip;\n",
       "};\n",
       "mpl.toolbar_items = [[\"Home\", \"Reset original view\", \"fa fa-home icon-home\", \"home\"], [\"Back\", \"Back to  previous view\", \"fa fa-arrow-left icon-arrow-left\", \"back\"], [\"Forward\", \"Forward to next view\", \"fa fa-arrow-right icon-arrow-right\", \"forward\"], [\"\", \"\", \"\", \"\"], [\"Pan\", \"Pan axes with left mouse, zoom with right\", \"fa fa-arrows icon-move\", \"pan\"], [\"Zoom\", \"Zoom to rectangle\", \"fa fa-square-o icon-check-empty\", \"zoom\"], [\"\", \"\", \"\", \"\"], [\"Download\", \"Download plot\", \"fa fa-floppy-o icon-save\", \"download\"]];\n",
       "\n",
       "mpl.extensions = [\"eps\", \"jpeg\", \"pdf\", \"png\", \"ps\", \"raw\", \"svg\", \"tif\"];\n",
       "\n",
       "mpl.default_extension = \"png\";var comm_websocket_adapter = function(comm) {\n",
       "    // Create a \"websocket\"-like object which calls the given IPython comm\n",
       "    // object with the appropriate methods. Currently this is a non binary\n",
       "    // socket, so there is still some room for performance tuning.\n",
       "    var ws = {};\n",
       "\n",
       "    ws.close = function() {\n",
       "        comm.close()\n",
       "    };\n",
       "    ws.send = function(m) {\n",
       "        //console.log('sending', m);\n",
       "        comm.send(m);\n",
       "    };\n",
       "    // Register the callback with on_msg.\n",
       "    comm.on_msg(function(msg) {\n",
       "        //console.log('receiving', msg['content']['data'], msg);\n",
       "        // Pass the mpl event to the overridden (by mpl) onmessage function.\n",
       "        ws.onmessage(msg['content']['data'])\n",
       "    });\n",
       "    return ws;\n",
       "}\n",
       "\n",
       "mpl.mpl_figure_comm = function(comm, msg) {\n",
       "    // This is the function which gets called when the mpl process\n",
       "    // starts-up an IPython Comm through the \"matplotlib\" channel.\n",
       "\n",
       "    var id = msg.content.data.id;\n",
       "    // Get hold of the div created by the display call when the Comm\n",
       "    // socket was opened in Python.\n",
       "    var element = $(\"#\" + id);\n",
       "    var ws_proxy = comm_websocket_adapter(comm)\n",
       "\n",
       "    function ondownload(figure, format) {\n",
       "        window.open(figure.imageObj.src);\n",
       "    }\n",
       "\n",
       "    var fig = new mpl.figure(id, ws_proxy,\n",
       "                           ondownload,\n",
       "                           element.get(0));\n",
       "\n",
       "    // Call onopen now - mpl needs it, as it is assuming we've passed it a real\n",
       "    // web socket which is closed, not our websocket->open comm proxy.\n",
       "    ws_proxy.onopen();\n",
       "\n",
       "    fig.parent_element = element.get(0);\n",
       "    fig.cell_info = mpl.find_output_cell(\"<div id='\" + id + \"'></div>\");\n",
       "    if (!fig.cell_info) {\n",
       "        console.error(\"Failed to find cell for figure\", id, fig);\n",
       "        return;\n",
       "    }\n",
       "\n",
       "    var output_index = fig.cell_info[2]\n",
       "    var cell = fig.cell_info[0];\n",
       "\n",
       "};\n",
       "\n",
       "mpl.figure.prototype.handle_close = function(fig, msg) {\n",
       "    var width = fig.canvas.width/mpl.ratio\n",
       "    fig.root.unbind('remove')\n",
       "\n",
       "    // Update the output cell to use the data from the current canvas.\n",
       "    fig.push_to_output();\n",
       "    var dataURL = fig.canvas.toDataURL();\n",
       "    // Re-enable the keyboard manager in IPython - without this line, in FF,\n",
       "    // the notebook keyboard shortcuts fail.\n",
       "    IPython.keyboard_manager.enable()\n",
       "    $(fig.parent_element).html('<img src=\"' + dataURL + '\" width=\"' + width + '\">');\n",
       "    fig.close_ws(fig, msg);\n",
       "}\n",
       "\n",
       "mpl.figure.prototype.close_ws = function(fig, msg){\n",
       "    fig.send_message('closing', msg);\n",
       "    // fig.ws.close()\n",
       "}\n",
       "\n",
       "mpl.figure.prototype.push_to_output = function(remove_interactive) {\n",
       "    // Turn the data on the canvas into data in the output cell.\n",
       "    var width = this.canvas.width/mpl.ratio\n",
       "    var dataURL = this.canvas.toDataURL();\n",
       "    this.cell_info[1]['text/html'] = '<img src=\"' + dataURL + '\" width=\"' + width + '\">';\n",
       "}\n",
       "\n",
       "mpl.figure.prototype.updated_canvas_event = function() {\n",
       "    // Tell IPython that the notebook contents must change.\n",
       "    IPython.notebook.set_dirty(true);\n",
       "    this.send_message(\"ack\", {});\n",
       "    var fig = this;\n",
       "    // Wait a second, then push the new image to the DOM so\n",
       "    // that it is saved nicely (might be nice to debounce this).\n",
       "    setTimeout(function () { fig.push_to_output() }, 1000);\n",
       "}\n",
       "\n",
       "mpl.figure.prototype._init_toolbar = function() {\n",
       "    var fig = this;\n",
       "\n",
       "    var nav_element = $('<div/>')\n",
       "    nav_element.attr('style', 'width: 100%');\n",
       "    this.root.append(nav_element);\n",
       "\n",
       "    // Define a callback function for later on.\n",
       "    function toolbar_event(event) {\n",
       "        return fig.toolbar_button_onclick(event['data']);\n",
       "    }\n",
       "    function toolbar_mouse_event(event) {\n",
       "        return fig.toolbar_button_onmouseover(event['data']);\n",
       "    }\n",
       "\n",
       "    for(var toolbar_ind in mpl.toolbar_items){\n",
       "        var name = mpl.toolbar_items[toolbar_ind][0];\n",
       "        var tooltip = mpl.toolbar_items[toolbar_ind][1];\n",
       "        var image = mpl.toolbar_items[toolbar_ind][2];\n",
       "        var method_name = mpl.toolbar_items[toolbar_ind][3];\n",
       "\n",
       "        if (!name) { continue; };\n",
       "\n",
       "        var button = $('<button class=\"btn btn-default\" href=\"#\" title=\"' + name + '\"><i class=\"fa ' + image + ' fa-lg\"></i></button>');\n",
       "        button.click(method_name, toolbar_event);\n",
       "        button.mouseover(tooltip, toolbar_mouse_event);\n",
       "        nav_element.append(button);\n",
       "    }\n",
       "\n",
       "    // Add the status bar.\n",
       "    var status_bar = $('<span class=\"mpl-message\" style=\"text-align:right; float: right;\"/>');\n",
       "    nav_element.append(status_bar);\n",
       "    this.message = status_bar[0];\n",
       "\n",
       "    // Add the close button to the window.\n",
       "    var buttongrp = $('<div class=\"btn-group inline pull-right\"></div>');\n",
       "    var button = $('<button class=\"btn btn-mini btn-primary\" href=\"#\" title=\"Stop Interaction\"><i class=\"fa fa-power-off icon-remove icon-large\"></i></button>');\n",
       "    button.click(function (evt) { fig.handle_close(fig, {}); } );\n",
       "    button.mouseover('Stop Interaction', toolbar_mouse_event);\n",
       "    buttongrp.append(button);\n",
       "    var titlebar = this.root.find($('.ui-dialog-titlebar'));\n",
       "    titlebar.prepend(buttongrp);\n",
       "}\n",
       "\n",
       "mpl.figure.prototype._root_extra_style = function(el){\n",
       "    var fig = this\n",
       "    el.on(\"remove\", function(){\n",
       "\tfig.close_ws(fig, {});\n",
       "    });\n",
       "}\n",
       "\n",
       "mpl.figure.prototype._canvas_extra_style = function(el){\n",
       "    // this is important to make the div 'focusable\n",
       "    el.attr('tabindex', 0)\n",
       "    // reach out to IPython and tell the keyboard manager to turn it's self\n",
       "    // off when our div gets focus\n",
       "\n",
       "    // location in version 3\n",
       "    if (IPython.notebook.keyboard_manager) {\n",
       "        IPython.notebook.keyboard_manager.register_events(el);\n",
       "    }\n",
       "    else {\n",
       "        // location in version 2\n",
       "        IPython.keyboard_manager.register_events(el);\n",
       "    }\n",
       "\n",
       "}\n",
       "\n",
       "mpl.figure.prototype._key_event_extra = function(event, name) {\n",
       "    var manager = IPython.notebook.keyboard_manager;\n",
       "    if (!manager)\n",
       "        manager = IPython.keyboard_manager;\n",
       "\n",
       "    // Check for shift+enter\n",
       "    if (event.shiftKey && event.which == 13) {\n",
       "        this.canvas_div.blur();\n",
       "        event.shiftKey = false;\n",
       "        // Send a \"J\" for go to next cell\n",
       "        event.which = 74;\n",
       "        event.keyCode = 74;\n",
       "        manager.command_mode();\n",
       "        manager.handle_keydown(event);\n",
       "    }\n",
       "}\n",
       "\n",
       "mpl.figure.prototype.handle_save = function(fig, msg) {\n",
       "    fig.ondownload(fig, null);\n",
       "}\n",
       "\n",
       "\n",
       "mpl.find_output_cell = function(html_output) {\n",
       "    // Return the cell and output element which can be found *uniquely* in the notebook.\n",
       "    // Note - this is a bit hacky, but it is done because the \"notebook_saving.Notebook\"\n",
       "    // IPython event is triggered only after the cells have been serialised, which for\n",
       "    // our purposes (turning an active figure into a static one), is too late.\n",
       "    var cells = IPython.notebook.get_cells();\n",
       "    var ncells = cells.length;\n",
       "    for (var i=0; i<ncells; i++) {\n",
       "        var cell = cells[i];\n",
       "        if (cell.cell_type === 'code'){\n",
       "            for (var j=0; j<cell.output_area.outputs.length; j++) {\n",
       "                var data = cell.output_area.outputs[j];\n",
       "                if (data.data) {\n",
       "                    // IPython >= 3 moved mimebundle to data attribute of output\n",
       "                    data = data.data;\n",
       "                }\n",
       "                if (data['text/html'] == html_output) {\n",
       "                    return [cell, data, j];\n",
       "                }\n",
       "            }\n",
       "        }\n",
       "    }\n",
       "}\n",
       "\n",
       "// Register the function which deals with the matplotlib target/channel.\n",
       "// The kernel may be null if the page has been refreshed.\n",
       "if (IPython.notebook.kernel != null) {\n",
       "    IPython.notebook.kernel.comm_manager.register_target('matplotlib', mpl.mpl_figure_comm);\n",
       "}\n"
      ],
      "text/plain": [
       "<IPython.core.display.Javascript object>"
      ]
     },
     "metadata": {},
     "output_type": "display_data"
    },
    {
     "data": {
      "text/html": [
       "<img src=\"data:image/png;base64,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\" width=\"800\">"
      ],
      "text/plain": [
       "<IPython.core.display.HTML object>"
      ]
     },
     "metadata": {},
     "output_type": "display_data"
    }
   ],
   "source": [
    "%matplotlib notebook\n",
    "\n",
    "import matplotlib.animation as animation\n",
    "\n",
    "fig, ax = plt.subplots()\n",
    "# Initial plot\n",
    "x_ = np.linspace(-2, 2, 100).reshape((100,1))\n",
    "y_ = float(records.loc[0, \"weights\"])*x_ + float(records.loc[0, \"bias\"])\n",
    "\n",
    "line, = ax.plot(x_, y_, label=\"Fit from the perceptron\")\n",
    "\n",
    "plt.rcParams[\"figure.figsize\"] = (8,6)\n",
    "plt.ylabel(\"y\")\n",
    "plt.xlabel(\"X\")\n",
    "plt.scatter(x=unReseauDeNeurone.X_train, y= unReseauDeNeurone.y_train, color='red', label=\"Training data\")\n",
    "plt.scatter(x=unReseauDeNeurone.X_test, y= unReseauDeNeurone.y_test, color='green', label=\"Test data\")\n",
    "plt.xlim(-2, 2)\n",
    "plt.legend()\n",
    "plt.title(\"Linear regression training fit using a single neuron | perceptron\")\n",
    "\n",
    "def animate(i):\n",
    "    line.set_label(\"Fit from the perceptron : epoch {}\".format(i))\n",
    "    plt.legend()\n",
    "    x_ = np.linspace(-2, 2, 100).reshape((100,1))\n",
    "    line.set_xdata(x_)  # update the data\n",
    "    line.set_ydata( float(records.loc[i, \"weights\"])*x_ + float(records.loc[i, \"bias\"]))# update the data\n",
    "    return line,\n"
   ]
  },
  {
   "cell_type": "code",
   "execution_count": 19,
   "metadata": {},
   "outputs": [],
   "source": [
    "ani = animation.FuncAnimation(fig, animate, frames=np.arange(1, len(records)), interval=100)\n",
    "plt.show()"
   ]
  },
  {
   "cell_type": "markdown",
   "metadata": {},
   "source": [
    "## Time to try with multiple features ;-)"
   ]
  },
  {
   "cell_type": "code",
   "execution_count": 26,
   "metadata": {},
   "outputs": [],
   "source": [
    "from sklearn.datasets import load_boston"
   ]
  },
  {
   "cell_type": "code",
   "execution_count": 27,
   "metadata": {},
   "outputs": [],
   "source": [
    "X, y=load_boston(True)"
   ]
  },
  {
   "cell_type": "code",
   "execution_count": 28,
   "metadata": {},
   "outputs": [
    {
     "data": {
      "text/html": [
       "<div>\n",
       "<style scoped>\n",
       "    .dataframe tbody tr th:only-of-type {\n",
       "        vertical-align: middle;\n",
       "    }\n",
       "\n",
       "    .dataframe tbody tr th {\n",
       "        vertical-align: top;\n",
       "    }\n",
       "\n",
       "    .dataframe thead th {\n",
       "        text-align: right;\n",
       "    }\n",
       "</style>\n",
       "<table border=\"1\" class=\"dataframe\">\n",
       "  <thead>\n",
       "    <tr style=\"text-align: right;\">\n",
       "      <th></th>\n",
       "      <th>0</th>\n",
       "      <th>1</th>\n",
       "      <th>2</th>\n",
       "      <th>3</th>\n",
       "      <th>4</th>\n",
       "      <th>5</th>\n",
       "      <th>6</th>\n",
       "      <th>7</th>\n",
       "      <th>8</th>\n",
       "      <th>9</th>\n",
       "      <th>10</th>\n",
       "      <th>11</th>\n",
       "      <th>12</th>\n",
       "    </tr>\n",
       "  </thead>\n",
       "  <tbody>\n",
       "    <tr>\n",
       "      <td>0</td>\n",
       "      <td>0.00632</td>\n",
       "      <td>18.0</td>\n",
       "      <td>2.31</td>\n",
       "      <td>0.0</td>\n",
       "      <td>0.538</td>\n",
       "      <td>6.575</td>\n",
       "      <td>65.2</td>\n",
       "      <td>4.0900</td>\n",
       "      <td>1.0</td>\n",
       "      <td>296.0</td>\n",
       "      <td>15.3</td>\n",
       "      <td>396.90</td>\n",
       "      <td>4.98</td>\n",
       "    </tr>\n",
       "    <tr>\n",
       "      <td>1</td>\n",
       "      <td>0.02731</td>\n",
       "      <td>0.0</td>\n",
       "      <td>7.07</td>\n",
       "      <td>0.0</td>\n",
       "      <td>0.469</td>\n",
       "      <td>6.421</td>\n",
       "      <td>78.9</td>\n",
       "      <td>4.9671</td>\n",
       "      <td>2.0</td>\n",
       "      <td>242.0</td>\n",
       "      <td>17.8</td>\n",
       "      <td>396.90</td>\n",
       "      <td>9.14</td>\n",
       "    </tr>\n",
       "    <tr>\n",
       "      <td>2</td>\n",
       "      <td>0.02729</td>\n",
       "      <td>0.0</td>\n",
       "      <td>7.07</td>\n",
       "      <td>0.0</td>\n",
       "      <td>0.469</td>\n",
       "      <td>7.185</td>\n",
       "      <td>61.1</td>\n",
       "      <td>4.9671</td>\n",
       "      <td>2.0</td>\n",
       "      <td>242.0</td>\n",
       "      <td>17.8</td>\n",
       "      <td>392.83</td>\n",
       "      <td>4.03</td>\n",
       "    </tr>\n",
       "    <tr>\n",
       "      <td>3</td>\n",
       "      <td>0.03237</td>\n",
       "      <td>0.0</td>\n",
       "      <td>2.18</td>\n",
       "      <td>0.0</td>\n",
       "      <td>0.458</td>\n",
       "      <td>6.998</td>\n",
       "      <td>45.8</td>\n",
       "      <td>6.0622</td>\n",
       "      <td>3.0</td>\n",
       "      <td>222.0</td>\n",
       "      <td>18.7</td>\n",
       "      <td>394.63</td>\n",
       "      <td>2.94</td>\n",
       "    </tr>\n",
       "    <tr>\n",
       "      <td>4</td>\n",
       "      <td>0.06905</td>\n",
       "      <td>0.0</td>\n",
       "      <td>2.18</td>\n",
       "      <td>0.0</td>\n",
       "      <td>0.458</td>\n",
       "      <td>7.147</td>\n",
       "      <td>54.2</td>\n",
       "      <td>6.0622</td>\n",
       "      <td>3.0</td>\n",
       "      <td>222.0</td>\n",
       "      <td>18.7</td>\n",
       "      <td>396.90</td>\n",
       "      <td>5.33</td>\n",
       "    </tr>\n",
       "    <tr>\n",
       "      <td>...</td>\n",
       "      <td>...</td>\n",
       "      <td>...</td>\n",
       "      <td>...</td>\n",
       "      <td>...</td>\n",
       "      <td>...</td>\n",
       "      <td>...</td>\n",
       "      <td>...</td>\n",
       "      <td>...</td>\n",
       "      <td>...</td>\n",
       "      <td>...</td>\n",
       "      <td>...</td>\n",
       "      <td>...</td>\n",
       "      <td>...</td>\n",
       "    </tr>\n",
       "    <tr>\n",
       "      <td>501</td>\n",
       "      <td>0.06263</td>\n",
       "      <td>0.0</td>\n",
       "      <td>11.93</td>\n",
       "      <td>0.0</td>\n",
       "      <td>0.573</td>\n",
       "      <td>6.593</td>\n",
       "      <td>69.1</td>\n",
       "      <td>2.4786</td>\n",
       "      <td>1.0</td>\n",
       "      <td>273.0</td>\n",
       "      <td>21.0</td>\n",
       "      <td>391.99</td>\n",
       "      <td>9.67</td>\n",
       "    </tr>\n",
       "    <tr>\n",
       "      <td>502</td>\n",
       "      <td>0.04527</td>\n",
       "      <td>0.0</td>\n",
       "      <td>11.93</td>\n",
       "      <td>0.0</td>\n",
       "      <td>0.573</td>\n",
       "      <td>6.120</td>\n",
       "      <td>76.7</td>\n",
       "      <td>2.2875</td>\n",
       "      <td>1.0</td>\n",
       "      <td>273.0</td>\n",
       "      <td>21.0</td>\n",
       "      <td>396.90</td>\n",
       "      <td>9.08</td>\n",
       "    </tr>\n",
       "    <tr>\n",
       "      <td>503</td>\n",
       "      <td>0.06076</td>\n",
       "      <td>0.0</td>\n",
       "      <td>11.93</td>\n",
       "      <td>0.0</td>\n",
       "      <td>0.573</td>\n",
       "      <td>6.976</td>\n",
       "      <td>91.0</td>\n",
       "      <td>2.1675</td>\n",
       "      <td>1.0</td>\n",
       "      <td>273.0</td>\n",
       "      <td>21.0</td>\n",
       "      <td>396.90</td>\n",
       "      <td>5.64</td>\n",
       "    </tr>\n",
       "    <tr>\n",
       "      <td>504</td>\n",
       "      <td>0.10959</td>\n",
       "      <td>0.0</td>\n",
       "      <td>11.93</td>\n",
       "      <td>0.0</td>\n",
       "      <td>0.573</td>\n",
       "      <td>6.794</td>\n",
       "      <td>89.3</td>\n",
       "      <td>2.3889</td>\n",
       "      <td>1.0</td>\n",
       "      <td>273.0</td>\n",
       "      <td>21.0</td>\n",
       "      <td>393.45</td>\n",
       "      <td>6.48</td>\n",
       "    </tr>\n",
       "    <tr>\n",
       "      <td>505</td>\n",
       "      <td>0.04741</td>\n",
       "      <td>0.0</td>\n",
       "      <td>11.93</td>\n",
       "      <td>0.0</td>\n",
       "      <td>0.573</td>\n",
       "      <td>6.030</td>\n",
       "      <td>80.8</td>\n",
       "      <td>2.5050</td>\n",
       "      <td>1.0</td>\n",
       "      <td>273.0</td>\n",
       "      <td>21.0</td>\n",
       "      <td>396.90</td>\n",
       "      <td>7.88</td>\n",
       "    </tr>\n",
       "  </tbody>\n",
       "</table>\n",
       "<p>506 rows × 13 columns</p>\n",
       "</div>"
      ],
      "text/plain": [
       "           0     1      2    3      4      5     6       7    8      9    10  \\\n",
       "0    0.00632  18.0   2.31  0.0  0.538  6.575  65.2  4.0900  1.0  296.0  15.3   \n",
       "1    0.02731   0.0   7.07  0.0  0.469  6.421  78.9  4.9671  2.0  242.0  17.8   \n",
       "2    0.02729   0.0   7.07  0.0  0.469  7.185  61.1  4.9671  2.0  242.0  17.8   \n",
       "3    0.03237   0.0   2.18  0.0  0.458  6.998  45.8  6.0622  3.0  222.0  18.7   \n",
       "4    0.06905   0.0   2.18  0.0  0.458  7.147  54.2  6.0622  3.0  222.0  18.7   \n",
       "..       ...   ...    ...  ...    ...    ...   ...     ...  ...    ...   ...   \n",
       "501  0.06263   0.0  11.93  0.0  0.573  6.593  69.1  2.4786  1.0  273.0  21.0   \n",
       "502  0.04527   0.0  11.93  0.0  0.573  6.120  76.7  2.2875  1.0  273.0  21.0   \n",
       "503  0.06076   0.0  11.93  0.0  0.573  6.976  91.0  2.1675  1.0  273.0  21.0   \n",
       "504  0.10959   0.0  11.93  0.0  0.573  6.794  89.3  2.3889  1.0  273.0  21.0   \n",
       "505  0.04741   0.0  11.93  0.0  0.573  6.030  80.8  2.5050  1.0  273.0  21.0   \n",
       "\n",
       "         11    12  \n",
       "0    396.90  4.98  \n",
       "1    396.90  9.14  \n",
       "2    392.83  4.03  \n",
       "3    394.63  2.94  \n",
       "4    396.90  5.33  \n",
       "..      ...   ...  \n",
       "501  391.99  9.67  \n",
       "502  396.90  9.08  \n",
       "503  396.90  5.64  \n",
       "504  393.45  6.48  \n",
       "505  396.90  7.88  \n",
       "\n",
       "[506 rows x 13 columns]"
      ]
     },
     "execution_count": 28,
     "metadata": {},
     "output_type": "execute_result"
    }
   ],
   "source": [
    "pd.DataFrame(X)"
   ]
  },
  {
   "cell_type": "code",
   "execution_count": 29,
   "metadata": {},
   "outputs": [
    {
     "data": {
      "text/html": [
       "<div>\n",
       "<style scoped>\n",
       "    .dataframe tbody tr th:only-of-type {\n",
       "        vertical-align: middle;\n",
       "    }\n",
       "\n",
       "    .dataframe tbody tr th {\n",
       "        vertical-align: top;\n",
       "    }\n",
       "\n",
       "    .dataframe thead th {\n",
       "        text-align: right;\n",
       "    }\n",
       "</style>\n",
       "<table border=\"1\" class=\"dataframe\">\n",
       "  <thead>\n",
       "    <tr style=\"text-align: right;\">\n",
       "      <th></th>\n",
       "      <th>0</th>\n",
       "    </tr>\n",
       "  </thead>\n",
       "  <tbody>\n",
       "    <tr>\n",
       "      <td>0</td>\n",
       "      <td>24.0</td>\n",
       "    </tr>\n",
       "    <tr>\n",
       "      <td>1</td>\n",
       "      <td>21.6</td>\n",
       "    </tr>\n",
       "    <tr>\n",
       "      <td>2</td>\n",
       "      <td>34.7</td>\n",
       "    </tr>\n",
       "    <tr>\n",
       "      <td>3</td>\n",
       "      <td>33.4</td>\n",
       "    </tr>\n",
       "    <tr>\n",
       "      <td>4</td>\n",
       "      <td>36.2</td>\n",
       "    </tr>\n",
       "    <tr>\n",
       "      <td>...</td>\n",
       "      <td>...</td>\n",
       "    </tr>\n",
       "    <tr>\n",
       "      <td>501</td>\n",
       "      <td>22.4</td>\n",
       "    </tr>\n",
       "    <tr>\n",
       "      <td>502</td>\n",
       "      <td>20.6</td>\n",
       "    </tr>\n",
       "    <tr>\n",
       "      <td>503</td>\n",
       "      <td>23.9</td>\n",
       "    </tr>\n",
       "    <tr>\n",
       "      <td>504</td>\n",
       "      <td>22.0</td>\n",
       "    </tr>\n",
       "    <tr>\n",
       "      <td>505</td>\n",
       "      <td>11.9</td>\n",
       "    </tr>\n",
       "  </tbody>\n",
       "</table>\n",
       "<p>506 rows × 1 columns</p>\n",
       "</div>"
      ],
      "text/plain": [
       "        0\n",
       "0    24.0\n",
       "1    21.6\n",
       "2    34.7\n",
       "3    33.4\n",
       "4    36.2\n",
       "..    ...\n",
       "501  22.4\n",
       "502  20.6\n",
       "503  23.9\n",
       "504  22.0\n",
       "505  11.9\n",
       "\n",
       "[506 rows x 1 columns]"
      ]
     },
     "execution_count": 29,
     "metadata": {},
     "output_type": "execute_result"
    }
   ],
   "source": [
    "pd.DataFrame(y)"
   ]
  },
  {
   "cell_type": "code",
   "execution_count": 30,
   "metadata": {},
   "outputs": [],
   "source": [
    "from sklearn.preprocessing import StandardScaler\n",
    "from sklearn.linear_model import LinearRegression\n",
    "from sklearn.model_selection import train_test_split"
   ]
  },
  {
   "cell_type": "code",
   "execution_count": 31,
   "metadata": {},
   "outputs": [],
   "source": [
    "X_train, X_test, y_train, y_test = train_test_split(X, y, test_size=0.2)"
   ]
  },
  {
   "cell_type": "code",
   "execution_count": 32,
   "metadata": {},
   "outputs": [],
   "source": [
    "scaler  = StandardScaler()\n",
    "X_train = scaler.fit_transform(X_train)\n",
    "X_test  = scaler.transform(X_test)"
   ]
  },
  {
   "cell_type": "code",
   "execution_count": 33,
   "metadata": {},
   "outputs": [],
   "source": [
    "lm = LinearRegression()"
   ]
  },
  {
   "cell_type": "code",
   "execution_count": 34,
   "metadata": {},
   "outputs": [
    {
     "data": {
      "text/plain": [
       "LinearRegression(copy_X=True, fit_intercept=True, n_jobs=1, normalize=False)"
      ]
     },
     "execution_count": 34,
     "metadata": {},
     "output_type": "execute_result"
    }
   ],
   "source": [
    "lm.fit(X_train, y_train)"
   ]
  },
  {
   "cell_type": "code",
   "execution_count": 35,
   "metadata": {},
   "outputs": [
    {
     "data": {
      "text/plain": [
       "array([-0.96620454,  1.23781203,  0.36341317,  0.63008827, -1.8996985 ,\n",
       "        2.7563194 ,  0.14444426, -2.78470628,  2.76313136, -2.19674258,\n",
       "       -2.05812186,  0.88517458, -3.6199798 ])"
      ]
     },
     "execution_count": 35,
     "metadata": {},
     "output_type": "execute_result"
    }
   ],
   "source": [
    "lm.coef_"
   ]
  },
  {
   "cell_type": "code",
   "execution_count": 36,
   "metadata": {},
   "outputs": [],
   "source": [
    "unReseauDeNeurone = Neural_Network_1neuron(X, y, nb_epochs=5000, fixed_bias=True)"
   ]
  },
  {
   "cell_type": "code",
   "execution_count": 37,
   "metadata": {},
   "outputs": [],
   "source": [
    "unReseauDeNeurone.forward_pass()"
   ]
  },
  {
   "cell_type": "code",
   "execution_count": 38,
   "metadata": {},
   "outputs": [],
   "source": [
    "unReseauDeNeurone.compute_mse()"
   ]
  },
  {
   "cell_type": "code",
   "execution_count": 39,
   "metadata": {},
   "outputs": [],
   "source": [
    "unReseauDeNeurone.backpropagation()"
   ]
  },
  {
   "cell_type": "code",
   "execution_count": 41,
   "metadata": {},
   "outputs": [
    {
     "data": {
      "text/plain": [
       "array([[ 1.17112081],\n",
       "       [-2.80716197],\n",
       "       [ 2.20648337],\n",
       "       [-2.60100595],\n",
       "       [ 1.53649353],\n",
       "       [-6.35267367],\n",
       "       [ 0.98673239],\n",
       "       [ 0.08818374],\n",
       "       [ 0.99814613],\n",
       "       [ 1.83668694],\n",
       "       [ 4.40765325],\n",
       "       [-1.63153833],\n",
       "       [ 5.02196791]])"
      ]
     },
     "execution_count": 41,
     "metadata": {},
     "output_type": "execute_result"
    }
   ],
   "source": [
    "unReseauDeNeurone.weights_update"
   ]
  },
  {
   "cell_type": "code",
   "execution_count": 42,
   "metadata": {},
   "outputs": [],
   "source": [
    "unReseauDeNeurone.update()"
   ]
  },
  {
   "cell_type": "code",
   "execution_count": 43,
   "metadata": {},
   "outputs": [
    {
     "data": {
      "text/plain": [
       "(array([[-1.03513362],\n",
       "        [-0.91578514],\n",
       "        [-1.0661945 ],\n",
       "        [-0.92196982],\n",
       "        [ 0.95390519],\n",
       "        [ 0.19058021],\n",
       "        [-2.02960197],\n",
       "        [ 0.99735449],\n",
       "        [-2.02994438],\n",
       "        [-0.05510061],\n",
       "        [ 0.8677704 ],\n",
       "        [ 0.04894615],\n",
       "        [ 0.84934096]]), 0)"
      ]
     },
     "execution_count": 43,
     "metadata": {},
     "output_type": "execute_result"
    }
   ],
   "source": [
    "unReseauDeNeurone.weights, unReseauDeNeurone.bias"
   ]
  },
  {
   "cell_type": "code",
   "execution_count": 44,
   "metadata": {},
   "outputs": [
    {
     "data": {
      "text/html": [
       "<div>\n",
       "<style scoped>\n",
       "    .dataframe tbody tr th:only-of-type {\n",
       "        vertical-align: middle;\n",
       "    }\n",
       "\n",
       "    .dataframe tbody tr th {\n",
       "        vertical-align: top;\n",
       "    }\n",
       "\n",
       "    .dataframe thead th {\n",
       "        text-align: right;\n",
       "    }\n",
       "</style>\n",
       "<table border=\"1\" class=\"dataframe\">\n",
       "  <thead>\n",
       "    <tr style=\"text-align: right;\">\n",
       "      <th></th>\n",
       "      <th>weights</th>\n",
       "      <th>bias</th>\n",
       "      <th>mse</th>\n",
       "    </tr>\n",
       "  </thead>\n",
       "  <tbody>\n",
       "    <tr>\n",
       "      <td>0</td>\n",
       "      <td>[[-1], [-1], [-1], [-1], [1], [0], [-2], [1], ...</td>\n",
       "      <td>0</td>\n",
       "      <td>0</td>\n",
       "    </tr>\n",
       "    <tr>\n",
       "      <td>1</td>\n",
       "      <td>[[-1.0600658475216926], [-0.8429564311694063],...</td>\n",
       "      <td>0</td>\n",
       "      <td>[285.54357387109593]</td>\n",
       "    </tr>\n",
       "    <tr>\n",
       "      <td>2</td>\n",
       "      <td>[[-1.0767579350855052], [-0.779534345381746], ...</td>\n",
       "      <td>0</td>\n",
       "      <td>[282.89096308369574]</td>\n",
       "    </tr>\n",
       "    <tr>\n",
       "      <td>3</td>\n",
       "      <td>[[-1.086807496320263], [-0.7239012479069222], ...</td>\n",
       "      <td>0</td>\n",
       "      <td>[280.7007169245824]</td>\n",
       "    </tr>\n",
       "    <tr>\n",
       "      <td>4</td>\n",
       "      <td>[[-1.0915157130180937], [-0.6747345957806112],...</td>\n",
       "      <td>0</td>\n",
       "      <td>[278.84886417633453]</td>\n",
       "    </tr>\n",
       "    <tr>\n",
       "      <td>...</td>\n",
       "      <td>...</td>\n",
       "      <td>...</td>\n",
       "      <td>...</td>\n",
       "    </tr>\n",
       "    <tr>\n",
       "      <td>4995</td>\n",
       "      <td>[[-0.687186549703986], [1.0599727562375176], [...</td>\n",
       "      <td>0</td>\n",
       "      <td>[257.2783683478366]</td>\n",
       "    </tr>\n",
       "    <tr>\n",
       "      <td>4996</td>\n",
       "      <td>[[-0.6871865956252705], [1.0599728209706125], ...</td>\n",
       "      <td>0</td>\n",
       "      <td>[257.278368347802]</td>\n",
       "    </tr>\n",
       "    <tr>\n",
       "      <td>4997</td>\n",
       "      <td>[[-0.687186641462786], [1.059972885585622], [-...</td>\n",
       "      <td>0</td>\n",
       "      <td>[257.2783683477677]</td>\n",
       "    </tr>\n",
       "    <tr>\n",
       "      <td>4998</td>\n",
       "      <td>[[-0.6871866872166852], [1.059972950082762], [...</td>\n",
       "      <td>0</td>\n",
       "      <td>[257.2783683477334]</td>\n",
       "    </tr>\n",
       "    <tr>\n",
       "      <td>4999</td>\n",
       "      <td>[[-0.6871867328871207], [1.0599730144622468], ...</td>\n",
       "      <td>0</td>\n",
       "      <td>[257.2783683476991]</td>\n",
       "    </tr>\n",
       "  </tbody>\n",
       "</table>\n",
       "<p>5000 rows × 3 columns</p>\n",
       "</div>"
      ],
      "text/plain": [
       "                                                weights  bias  \\\n",
       "0     [[-1], [-1], [-1], [-1], [1], [0], [-2], [1], ...     0   \n",
       "1     [[-1.0600658475216926], [-0.8429564311694063],...     0   \n",
       "2     [[-1.0767579350855052], [-0.779534345381746], ...     0   \n",
       "3     [[-1.086807496320263], [-0.7239012479069222], ...     0   \n",
       "4     [[-1.0915157130180937], [-0.6747345957806112],...     0   \n",
       "...                                                 ...   ...   \n",
       "4995  [[-0.687186549703986], [1.0599727562375176], [...     0   \n",
       "4996  [[-0.6871865956252705], [1.0599728209706125], ...     0   \n",
       "4997  [[-0.687186641462786], [1.059972885585622], [-...     0   \n",
       "4998  [[-0.6871866872166852], [1.059972950082762], [...     0   \n",
       "4999  [[-0.6871867328871207], [1.0599730144622468], ...     0   \n",
       "\n",
       "                       mse  \n",
       "0                        0  \n",
       "1     [285.54357387109593]  \n",
       "2     [282.89096308369574]  \n",
       "3      [280.7007169245824]  \n",
       "4     [278.84886417633453]  \n",
       "...                    ...  \n",
       "4995   [257.2783683478366]  \n",
       "4996    [257.278368347802]  \n",
       "4997   [257.2783683477677]  \n",
       "4998   [257.2783683477334]  \n",
       "4999   [257.2783683476991]  \n",
       "\n",
       "[5000 rows x 3 columns]"
      ]
     },
     "execution_count": 44,
     "metadata": {},
     "output_type": "execute_result"
    }
   ],
   "source": [
    "unReseauDeNeurone.run()"
   ]
  },
  {
   "cell_type": "markdown",
   "metadata": {},
   "source": [
    "### Visualization • Multiple regression line"
   ]
  },
  {
   "cell_type": "code",
   "execution_count": 47,
   "metadata": {},
   "outputs": [
    {
     "data": {
      "text/plain": [
       "array([-0.96620454,  1.23781203,  0.36341317,  0.63008827, -1.8996985 ,\n",
       "        2.7563194 ,  0.14444426, -2.78470628,  2.76313136, -2.19674258,\n",
       "       -2.05812186,  0.88517458, -3.6199798 ])"
      ]
     },
     "execution_count": 47,
     "metadata": {},
     "output_type": "execute_result"
    }
   ],
   "source": [
    "lm.coef_"
   ]
  },
  {
   "cell_type": "code",
   "execution_count": 48,
   "metadata": {},
   "outputs": [],
   "source": [
    "at_499  = unReseauDeNeurone.records.loc[499, \"weights\"].reshape((13,))\n",
    "at_1999 = unReseauDeNeurone.records.loc[1999, \"weights\"].reshape((13,))\n",
    "at_4999 = unReseauDeNeurone.records.loc[4999, \"weights\"].reshape((13,))"
   ]
  },
  {
   "cell_type": "code",
   "execution_count": 49,
   "metadata": {
    "scrolled": true
   },
   "outputs": [
    {
     "data": {
      "text/plain": [
       "<BarContainer object of 13 artists>"
      ]
     },
     "execution_count": 49,
     "metadata": {},
     "output_type": "execute_result"
    },
    {
     "data": {
      "image/png": "[encoded data removed]",
      "text/plain": [
       "<Figure size 432x288 with 1 Axes>"
      ]
     },
     "metadata": {},
     "output_type": "display_data"
    }
   ],
   "source": [
    "plt.bar(x=np.arange(len(lm.coef_)), height=lm.coef_, color='red')\n",
    "plt.bar(x=np.arange(len(lm.coef_)), height=at_499, color='white', alpha = 0.5)\n",
    "plt.bar(x=np.arange(len(lm.coef_)), height=at_1999, color='white', alpha = 0.5)\n",
    "plt.bar(x=np.arange(len(lm.coef_)), height=at_4999, color='white', alpha = 0.5)"
   ]
  },
  {
   "cell_type": "markdown",
   "metadata": {},
   "source": [
    "## In Keras ? "
   ]
  },
  {
   "cell_type": "code",
   "execution_count": 105,
   "metadata": {},
   "outputs": [],
   "source": [
    "from keras.models import Sequential\n",
    "from keras.layers import Dense\n",
    "from keras import optimizers"
   ]
  },
  {
   "cell_type": "code",
   "execution_count": 120,
   "metadata": {},
   "outputs": [],
   "source": [
    "from keras.callbacks import ModelCheckpoint"
   ]
  },
  {
   "cell_type": "code",
   "execution_count": 107,
   "metadata": {
    "scrolled": false
   },
   "outputs": [
    {
     "data": {
      "text/plain": [
       "((404, 13), (404,))"
      ]
     },
     "execution_count": 107,
     "metadata": {},
     "output_type": "execute_result"
    }
   ],
   "source": [
    "X_train.shape, y_train.shape"
   ]
  },
  {
   "cell_type": "code",
   "execution_count": 108,
   "metadata": {},
   "outputs": [],
   "source": [
    "model = Sequential()\n",
    "model.add(Dense(1, input_shape=(X.shape[1],), activation='linear'))\n",
    "sgd = optimizers.SGD(lr=0.01)\n",
    "model.compile(loss='mean_squared_error', optimizer=sgd)"
   ]
  },
  {
   "cell_type": "markdown",
   "metadata": {},
   "source": [
    "## A callback to store weights"
   ]
  },
  {
   "cell_type": "code",
   "execution_count": 177,
   "metadata": {},
   "outputs": [],
   "source": [
    "df_weights = {}\n",
    "def save_weights(epoch, logs):\n",
    "    df_weights[epoch] = model.layers[0].get_weights()"
   ]
  },
  {
   "cell_type": "code",
   "execution_count": 178,
   "metadata": {},
   "outputs": [],
   "source": [
    "keep_weights = LambdaCallback(on_epoch_end=save_weights)"
   ]
  },
  {
   "cell_type": "code",
   "execution_count": 179,
   "metadata": {},
   "outputs": [],
   "source": [
    "history = model.fit(x=X_train, y=y_train, \n",
    "                    batch_size=X_train.shape[0], epochs=500, \n",
    "                    validation_data=(X_test, y_test), \n",
    "                    verbose=0, callbacks=[keep_weights])"
   ]
  },
  {
   "cell_type": "code",
   "execution_count": 183,
   "metadata": {},
   "outputs": [],
   "source": [
    "weights = pd.DataFrame(df_weights).T"
   ]
  },
  {
   "cell_type": "code",
   "execution_count": 184,
   "metadata": {},
   "outputs": [
    {
     "data": {
      "text/plain": [
       "{'batch_size': 404,\n",
       " 'epochs': 500,\n",
       " 'steps': None,\n",
       " 'samples': 404,\n",
       " 'verbose': 0,\n",
       " 'do_validation': True,\n",
       " 'metrics': ['loss', 'val_loss']}"
      ]
     },
     "execution_count": 184,
     "metadata": {},
     "output_type": "execute_result"
    }
   ],
   "source": [
    "history.params"
   ]
  },
  {
   "cell_type": "code",
   "execution_count": 186,
   "metadata": {},
   "outputs": [],
   "source": [
    "losses_ = pd.DataFrame(history.history)"
   ]
  },
  {
   "cell_type": "code",
   "execution_count": 207,
   "metadata": {},
   "outputs": [
    {
     "data": {
      "text/plain": [
       "<matplotlib.axes._subplots.AxesSubplot at 0x1a3e5205c0>"
      ]
     },
     "execution_count": 207,
     "metadata": {},
     "output_type": "execute_result"
    },
    {
     "data": {
      "image/png": "[encoded data removed]",
      "text/plain": [
       "<Figure size 432x288 with 1 Axes>"
      ]
     },
     "metadata": {},
     "output_type": "display_data"
    }
   ],
   "source": [
    "losses_.plot(kind=\"line\", ylim=(10,30), xlim=(0,10))"
   ]
  },
  {
   "cell_type": "code",
   "execution_count": 204,
   "metadata": {},
   "outputs": [
    {
     "data": {
      "text/plain": [
       "<BarContainer object of 13 artists>"
      ]
     },
     "execution_count": 204,
     "metadata": {},
     "output_type": "execute_result"
    },
    {
     "data": {
      "image/png": "[encoded data removed]",
      "text/plain": [
       "<Figure size 432x288 with 1 Axes>"
      ]
     },
     "metadata": {},
     "output_type": "display_data"
    }
   ],
   "source": [
    "at_499  = weights.loc[499, 0].reshape((13,))\n",
    "plt.bar(x=np.arange(len(lm.coef_)), height=lm.coef_, color='red')\n",
    "plt.bar(x=np.arange(len(lm.coef_)), height=at_499, color='white', alpha = 0.8)"
   ]
  },
  {
   "cell_type": "code",
   "execution_count": 205,
   "metadata": {},
   "outputs": [
    {
     "data": {
      "text/plain": [
       "[array([[-0.960102  ],\n",
       "        [ 1.2244184 ],\n",
       "        [ 0.32739377],\n",
       "        [ 0.6351688 ],\n",
       "        [-1.8948327 ],\n",
       "        [ 2.7635255 ],\n",
       "        [ 0.13879687],\n",
       "        [-2.7843046 ],\n",
       "        [ 2.670297  ],\n",
       "        [-2.0908844 ],\n",
       "        [-2.0564735 ],\n",
       "        [ 0.8835324 ],\n",
       "        [-3.613994  ]], dtype=float32), array([22.750944], dtype=float32)]"
      ]
     },
     "execution_count": 205,
     "metadata": {},
     "output_type": "execute_result"
    }
   ],
   "source": [
    "history.model.get_weights()"
   ]
  },
  {
   "cell_type": "markdown",
   "metadata": {},
   "source": [
    "# Fin."
   ]
  }
 ],
 "metadata": {
  "kernelspec": {
   "display_name": "Python 3",
   "language": "python",
   "name": "python3"
  },
  "language_info": {
   "codemirror_mode": {
    "name": "ipython",
    "version": 3
   },
   "file_extension": ".py",
   "mimetype": "text/x-python",
   "name": "python",
   "nbconvert_exporter": "python",
   "pygments_lexer": "ipython3",
   "version": "3.6.5"
  }
 },
 "nbformat": 4,
 "nbformat_minor": 2
}
