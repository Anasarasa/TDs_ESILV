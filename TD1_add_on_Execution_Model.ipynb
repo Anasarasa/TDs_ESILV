{
 "cells": [
  {
   "cell_type": "markdown",
   "metadata": {},
   "source": [
    "A **code block** is a piece of Python code executed as a unit:\n",
    "- A function body is executed as a unit\n",
    "- A script file to be run from the terminal using Python shell: ```python ./script.py```\n",
    "- A module is a unit\n",
    "- A class definition is a unit\n",
    "- A single command run in a python interpreter is a unit"
   ]
  },
  {
   "cell_type": "markdown",
   "metadata": {},
   "source": [
    "we already saw what are names/variables = pointers refering to an object location, hence being bound to it doing so. <br>\n",
    "You can then adress the object by using its associated name."
   ]
  },
  {
   "cell_type": "markdown",
   "metadata": {},
   "source": [
    "<p style=\"font-size: 16px; font-family: Menlo\">But is any binding created within a block still visible anywhere in the code?<br> By \"visible\" we not only mean <strong>nameA</strong> exists, but that the relation to the object <strong>objectA</strong> is still valid. \n",
    "<br><br>The \"where (which region of the code)\" the bindings, defined in a block, are visible, is also named <strong>scope</strong> of a name/variable.\n",
    "</p>"
   ]
  },
  {
   "cell_type": "markdown",
   "metadata": {},
   "source": [
    "Sometimes, scope is also defined as the set of variables/names available at a certain point in the code."
   ]
  },
  {
   "cell_type": "markdown",
   "metadata": {},
   "source": [
    "but it is better to take the definition of W3Schools:\n",
    "> A variable is only available from inside the region it is created. This is called scope."
   ]
  },
  {
   "cell_type": "markdown",
   "metadata": {},
   "source": [
    "### scope"
   ]
  },
  {
   "cell_type": "code",
   "execution_count": 93,
   "metadata": {},
   "outputs": [
    {
     "name": "stdout",
     "output_type": "stream",
     "text": [
      "4\n"
     ]
    }
   ],
   "source": [
    "# variable defined in a block\n",
    "a = 4\n",
    "# in the same block, `a` is visible\n",
    "print(a)"
   ]
  },
  {
   "cell_type": "code",
   "execution_count": 94,
   "metadata": {},
   "outputs": [],
   "source": [
    "# a is defined on the block module level\n",
    "# ...(imagining this markdown code is a .py file on its own)\n",
    "# a is then a global variable (RELATIVE to this module)\n",
    "a = 4\n",
    "# a is then reachable for any block within this one, which is the top-level \n",
    "\n",
    "def multiply_by_2():\n",
    "    # the function body is a block\n",
    "    # b is bound to the object of value 2 within that block\n",
    "    # b is then said a \"local variable\"\n",
    "    b = 2\n",
    "    # it is discoverable anywhere after this assignement\n",
    "    # and inside any inner blocks may exist\n",
    "    # a is not defined, but was in the nearest enclosing scope\n",
    "    # in a function, as highlighted in the FAQ, referenced variable are implicitly global\n",
    "    return a*b"
   ]
  },
  {
   "cell_type": "code",
   "execution_count": 95,
   "metadata": {},
   "outputs": [
    {
     "data": {
      "text/plain": [
       "8"
      ]
     },
     "execution_count": 95,
     "metadata": {},
     "output_type": "execute_result"
    }
   ],
   "source": [
    "multiply_by_2()"
   ]
  },
  {
   "cell_type": "markdown",
   "metadata": {},
   "source": [
    "If we change a little bit the code to that, it will raise us an ```UnboundLocalError```:"
   ]
  },
  {
   "cell_type": "code",
   "execution_count": 96,
   "metadata": {},
   "outputs": [
    {
     "ename": "UnboundLocalError",
     "evalue": "local variable 'a' referenced before assignment",
     "output_type": "error",
     "traceback": [
      "\u001b[0;31m---------------------------------------------------------------------------\u001b[0m",
      "\u001b[0;31mUnboundLocalError\u001b[0m                         Traceback (most recent call last)",
      "\u001b[0;32m<ipython-input-96-98e4dc25cb3c>\u001b[0m in \u001b[0;36m<module>\u001b[0;34m\u001b[0m\n\u001b[1;32m      7\u001b[0m     \u001b[0;32mreturn\u001b[0m \u001b[0ma\u001b[0m\u001b[0;34m*\u001b[0m\u001b[0mb\u001b[0m\u001b[0;34m\u001b[0m\u001b[0;34m\u001b[0m\u001b[0m\n\u001b[1;32m      8\u001b[0m \u001b[0;34m\u001b[0m\u001b[0m\n\u001b[0;32m----> 9\u001b[0;31m \u001b[0mmultiply_by_2\u001b[0m\u001b[0;34m(\u001b[0m\u001b[0;34m)\u001b[0m\u001b[0;34m\u001b[0m\u001b[0;34m\u001b[0m\u001b[0m\n\u001b[0m",
      "\u001b[0;32m<ipython-input-96-98e4dc25cb3c>\u001b[0m in \u001b[0;36mmultiply_by_2\u001b[0;34m()\u001b[0m\n\u001b[1;32m      2\u001b[0m \u001b[0;34m\u001b[0m\u001b[0m\n\u001b[1;32m      3\u001b[0m \u001b[0;32mdef\u001b[0m \u001b[0mmultiply_by_2\u001b[0m\u001b[0;34m(\u001b[0m\u001b[0;34m)\u001b[0m\u001b[0;34m:\u001b[0m\u001b[0;34m\u001b[0m\u001b[0;34m\u001b[0m\u001b[0m\n\u001b[0;32m----> 4\u001b[0;31m     \u001b[0mprint\u001b[0m\u001b[0;34m(\u001b[0m\u001b[0ma\u001b[0m\u001b[0;34m)\u001b[0m\u001b[0;34m\u001b[0m\u001b[0;34m\u001b[0m\u001b[0m\n\u001b[0m\u001b[1;32m      5\u001b[0m     \u001b[0ma\u001b[0m\u001b[0;34m+=\u001b[0m\u001b[0;36m1\u001b[0m\u001b[0;34m\u001b[0m\u001b[0;34m\u001b[0m\u001b[0m\n\u001b[1;32m      6\u001b[0m     \u001b[0mb\u001b[0m \u001b[0;34m=\u001b[0m \u001b[0;36m2\u001b[0m\u001b[0;34m\u001b[0m\u001b[0;34m\u001b[0m\u001b[0m\n",
      "\u001b[0;31mUnboundLocalError\u001b[0m: local variable 'a' referenced before assignment"
     ]
    }
   ],
   "source": [
    "a = 4\n",
    "\n",
    "def multiply_by_2():\n",
    "    print(a)\n",
    "    a+=1\n",
    "    b = 2\n",
    "    return a*b\n",
    "\n",
    "multiply_by_2()"
   ]
  },
  {
   "cell_type": "markdown",
   "metadata": {},
   "source": [
    "> It has a [pretty good explanation](https://docs.python.org/3/faq/programming.html#why-am-i-getting-an-unboundlocalerror-when-the-variable-has-a-value) on the Python FAQ. If you make an assignement in the function scope, ```a``` becomes a local-variable to that function block and <u>**shadows**</u> any same named variable in the outer/enclosing scope. \"The compiler recognizes this as a local-variable. Hence any statement before the variable has actually been assigned raise an UnboundLocalError."
   ]
  },
  {
   "cell_type": "markdown",
   "metadata": {},
   "source": [
    "> Same explanation in different words from the docs: \"If a name binding operation occurs anywhere within a code block all uses of the name within the block are treated as references to the current block. This rule is subtle. Python lacks declarations. The local variables of a code block can be determined by scanning the entire text of the block for name binding operations\""
   ]
  },
  {
   "cell_type": "markdown",
   "metadata": {},
   "source": [
    "If you recall the course from the functional programming, it is the same type of behavior when any ```yield``` word scanned within the function body makes it a generator"
   ]
  },
  {
   "cell_type": "markdown",
   "metadata": {},
   "source": [
    "To workaround this issue, we can use ```global``` keyword, saying \"no, this is not a local variable, use the global variable ```a``` that must have been defined elsewhere, at top-level module."
   ]
  },
  {
   "cell_type": "code",
   "execution_count": 92,
   "metadata": {
    "scrolled": true
   },
   "outputs": [
    {
     "name": "stdout",
     "output_type": "stream",
     "text": [
      "4465474080\n",
      "4465474080 4\n",
      "4465474112 5\n"
     ]
    },
    {
     "data": {
      "text/plain": [
       "10"
      ]
     },
     "execution_count": 92,
     "metadata": {},
     "output_type": "execute_result"
    }
   ],
   "source": [
    "a = 4\n",
    "print(id(a))\n",
    "\n",
    "def multiply_by_2():\n",
    "    global a\n",
    "    print(id(a), a) # same object location\n",
    "    a+=1\n",
    "    print(id(a), a) # different because it is an immutable\n",
    "    b = 2\n",
    "    return a*b\n",
    "BERTIN\n",
    "multiply_by_2()"
   ]
  },
  {
   "cell_type": "markdown",
   "metadata": {},
   "source": [
    "if the name is not found in the function body or enclosing scopes, you get a NameError exception"
   ]
  },
  {
   "cell_type": "code",
   "execution_count": 36,
   "metadata": {},
   "outputs": [],
   "source": [
    "a = 4\n",
    "Luc BERTIN\n",
    "def multiply_by_2():\n",
    "    return a*c"
   ]
  },
  {
   "cell_type": "code",
   "execution_count": 39,
   "metadata": {},
   "outputs": [
    {
     "ename": "NameError",
     "evalue": "name 'c' is not defined",
     "output_type": "error",
     "traceback": [
      "\u001b[0;31m---------------------------------------------------------------------------\u001b[0m",
      "\u001b[0;31mNameError\u001b[0m                                 Traceback (most recent call last)",
      "\u001b[0;32m<ipython-input-39-64522ae2309b>\u001b[0m in \u001b[0;36m<module>\u001b[0;34m\u001b[0m\n\u001b[0;32m----> 1\u001b[0;31m \u001b[0mmultiply_by_2\u001b[0m\u001b[0;34m(\u001b[0m\u001b[0;34m)\u001b[0m\u001b[0;34m\u001b[0m\u001b[0;34m\u001b[0m\u001b[0m\n\u001b[0m",
      "\u001b[0;32m<ipython-input-36-9910d1b69fd6>\u001b[0m in \u001b[0;36mmultiply_by_2\u001b[0;34m()\u001b[0m\n\u001b[1;32m      2\u001b[0m \u001b[0;34m\u001b[0m\u001b[0m\n\u001b[1;32m      3\u001b[0m \u001b[0;32mdef\u001b[0m \u001b[0mmultiply_by_2\u001b[0m\u001b[0;34m(\u001b[0m\u001b[0;34m)\u001b[0m\u001b[0;34m:\u001b[0m\u001b[0;34m\u001b[0m\u001b[0;34m\u001b[0m\u001b[0m\n\u001b[0;32m----> 4\u001b[0;31m     \u001b[0;32mreturn\u001b[0m \u001b[0ma\u001b[0m\u001b[0;34m*\u001b[0m\u001b[0mc\u001b[0m\u001b[0;34m\u001b[0m\u001b[0;34m\u001b[0m\u001b[0m\n\u001b[0m",
      "\u001b[0;31mNameError\u001b[0m: name 'c' is not defined"
     ]
    }
   ],
   "source": [
    "multiply_by_2()"
   ]
  },
  {
   "cell_type": "markdown",
   "metadata": {},
   "source": [
    "### namespaces"
   ]
  },
  {
   "cell_type": "markdown",
   "metadata": {},
   "source": [
    "Python needs to keep track of all the 'visible' bindings within a block, or at a certain point of the program, this is also called **namespace** or **context**.\n",
    "```\n",
    "{\n",
    "    symbolic_name1 : referenced object1, \n",
    "    symbolic_name2 : referenced object2\n",
    "}\n",
    "```\n"
   ]
  },
  {
   "cell_type": "markdown",
   "metadata": {},
   "source": [
    "Namespaces are implemented as **dictionaries** in Python, a table listing symbolic variables/names (keys) to their objects (values) at a certain point in the program."
   ]
  },
  {
   "cell_type": "markdown",
   "metadata": {},
   "source": [
    "back to the definition of scope we can pick up from the [docs]:(https://docs.python.org/3/tutorial/classes.html)\n",
    "> A scope is a textual region of a Python program where a namespace is directly accessible."
   ]
  },
  {
   "cell_type": "markdown",
   "metadata": {},
   "source": [
    "```globals()``` is a built-in function which returns the global namespace/context"
   ]
  },
  {
   "cell_type": "code",
   "execution_count": 105,
   "metadata": {
    "scrolled": true
   },
   "outputs": [
    {
     "data": {
      "text/plain": [
       "4"
      ]
     },
     "execution_count": 105,
     "metadata": {},
     "output_type": "execute_result"
    }
   ],
   "source": [
    "globals()['a']BERTIN"
   ]
  },
  {
   "cell_type": "markdown",
   "metadata": {},
   "source": [
    "You can use it to change a globally defined binding"
   ]
  },
  {
   "cell_type": "code",
   "execution_count": 106,
   "metadata": {},
   "outputs": [],
   "source": [
    "globals()['a'] = 37"
   ]
  },
  {
   "cell_type": "code",
   "execution_count": 107,
   "metadata": {},
   "outputs": [
    {
     "name": "stdout",
     "output_type": "stream",
     "text": [
      "37\n"
     ]
    }
   ],
   "source": [
    "print(a)"
   ]
  },
  {
   "cell_type": "markdown",
   "metadata": {},
   "source": [
    "```locals()```is a built-in function which returns the local namespace"
   ]
  },
  {
   "cell_type": "markdown",
   "metadata": {},
   "source": [
    "in the top-level module, locals and globals return the same thing"
   ]
  },
  {
   "cell_type": "code",
   "execution_count": 109,
   "metadata": {},
   "outputs": [
    {
     "data": {
      "text/plain": [
       "True"
      ]
     },
     "execution_count": 109,
     "metadata": {},
     "output_type": "execute_result"
    }
   ],
   "source": [
    "locals() is globals()"
   ]
  },
  {
   "cell_type": "markdown",
   "metadata": {},
   "source": [
    "but inside a function it is not,"
   ]
  },
  {
   "cell_type": "code",
   "execution_count": 140,
   "metadata": {},
   "outputs": [],
   "source": [
    "def function():\n",
    "    a = 2\n",
    "    print( \"Is locals()  same as globals()? {}\".format(locals() is globals())) \n",
    "    print( \"Locals dictionary: {}\".format(locals()))\n",
    "    print( \"What about name a in globals(): {}\".format({k:v for k,v in globals().items() if k=='a'}))"
   ]
  },
  {
   "cell_type": "code",
   "execution_count": 141,
   "metadata": {
    "scrolled": true
   },
   "outputs": [
    {
     "name": "stdout",
     "output_type": "stream",
     "text": [
      "Is locals()  same as globals()? False\n",
      "Locals dictionary: {'a': 2}\n",
      "What about name a in globals(): {'a': 37}\n"
     ]
    }
   ],
   "source": [
    "function(Luc BERTIN)"
   ]
  },
  {
   "cell_type": "markdown",
   "metadata": {},
   "source": [
    "**note:** after the function finishes executing, Python \"forget\" about the function local namespace"
   ]
  },
  {
   "cell_type": "markdown",
   "metadata": {},
   "source": [
    "<u>**Caution:**</u> **global variables** are relative to a module context/namespace <br>they are **not** shared across all modules.\n",
    "All the global variables i wrote since then can also be seen in ```__main__``` (name of the scope in which top-level code executes)"
   ]
  },
  {
   "cell_type": "code",
   "execution_count": 213,
   "metadata": {},
   "outputs": [
    {
     "data": {
      "text/plain": [
       "37"
      ]
     },
     "execution_count": 213,
     "metadata": {},
     "output_type": "execute_result"
    }
   ],
   "source": [
    "import __main__\n",
    "__main__.aLuc BERTIN"
   ]
  },
  {
   "cell_type": "markdown",
   "metadata": {},
   "source": [
    "This is a working example attached here"
   ]
  },
  {
   "cell_type": "markdown",
   "metadata": {},
   "source": [
    "CENTURION IMAGE\n",
    "\n",
    "\n",
    "CENTURION SCRIPT"
   ]
  },
  {
   "cell_type": "markdown",
   "metadata": {},
   "source": [
    "The local variables are always the ones defined within the current called function"
   ]
  },
  {
   "cell_type": "code",
   "execution_count": 197,
   "metadata": {},
   "outputs": [
    {
     "data": {
      "text/plain": [
       "37"
      ]
     },
     "execution_count": 197,
     "metadata": {},
     "output_type": "execute_result"
    }
   ],
   "source": [
    "a"
   ]
  },
  {
   "cell_type": "code",
   "execution_count": 201,
   "metadata": {},
   "outputs": [
    {
     "name": "stdout",
     "output_type": "stream",
     "text": [
      "outer function locals:{}\n",
      "outer function locals:{'function2': <function function.<locals>.function2 at 0x10e39bca0>, 'c': 3, 'd': 4}\n",
      "inner function locals:{'b': 2, 'd': 4}\n",
      "outer function locals:{'function2': <function function.<locals>.function2 at 0x10e39bca0>, 'c': 3, 'd': 4}\n"
     ]
    }
   ],
   "source": [
    "def function():\n",
    "    print(\"outer function locals:{}\".format(locals()))\n",
    "    d=4\n",
    "    def function2():\n",
    "        b=2\n",
    "        print(\"inner function locals:{}\".format(locals()))\n",
    "        nonlocal d\n",
    "    c=3\n",
    "    print(\"outer function locals:{}\".format(locals()))\n",
    "    function2()\n",
    "    print(\"outer function locals:{}\".format(locals()))\n",
    "function()"
   ]
  },
  {
   "cell_type": "code",
   "execution_count": 202,
   "metadata": {},
   "outputs": [
    {
     "name": "stdout",
     "output_type": "stream",
     "text": [
      "outer function locals:{'function2': <function function.<locals>.function2 at 0x10e39bdc0>, 'c': 3}\n",
      "outer function locals:{'function2': <function function.<locals>.function2 at 0x10e39bdc0>, 'c': 7}\n"
     ]
    }
   ],
   "source": [
    "def function():\n",
    "    def function2():\n",
    "        nonlocal c\n",
    "        c += 4\n",
    "    c=3\n",
    "    print(\"outer function locals:{}\".format(locals()))\n",
    "    function2()\n",
    "    print(\"outer function locals:{}\".format(locals()))\n",
    "function()"
   ]
  },
  {
   "cell_type": "markdown",
   "metadata": {},
   "source": [
    "3 types of namespace exist:\n",
    "  - Built-in namespace: containing the built-in objects (```dir(__builtins__)``` to list them)\n",
    "  - Global namespace: global names **IN THE MODULE**\n",
    "  - Local namespace"
   ]
  },
  {
   "cell_type": "markdown",
   "metadata": {},
   "source": [
    "There is absolutely no relation between 2 names in different scopes."
   ]
  },
  {
   "cell_type": "markdown",
   "metadata": {},
   "source": [
    "> Each module has its own private symbol table, which is used as the global symbol table by all functions defined in the module."
   ]
  },
  {
   "cell_type": "markdown",
   "metadata": {},
   "source": [
    "> The statements executed by the top-level invocation of the interpreter, either read from a script file or interactively, are considered part of a module called ```__main__```"
   ]
  },
  {
   "cell_type": "markdown",
   "metadata": {},
   "source": [
    "names are resolved dynamically at runtime by following the **LEGB rule**:\n",
    "   - is the variable **L**ocal?\n",
    "   - no? is it in the nearest **E**nclosing blocks?\n",
    "   - no? may be **G**lobal to the module ?\n",
    "   - then look in **B**uilt-in namespace or raise an exception"
   ]
  },
  {
   "cell_type": "markdown",
   "metadata": {},
   "source": [
    "#### classes "
   ]
  },
  {
   "cell_type": "markdown",
   "metadata": {},
   "source": [
    "classes have their own namespace<br>\n",
    "> In a sense the set of attributes of an object also form a namespace\n",
    "\n",
    "\n",
    "```obj.name``` is an attribute reference, a name in obj namespace bound to a corresponding method or attribute"
   ]
  },
  {
   "cell_type": "code",
   "execution_count": 177,
   "metadata": {},
   "outputs": [],
   "source": [
    "class Test:\n",
    "    i=12"
   ]
  },
  {
   "cell_type": "code",
   "execution_count": 178,
   "metadata": {},
   "outputs": [
    {
     "data": {
      "text/plain": [
       "__main__.Test"
      ]
     },
     "execution_count": 178,
     "metadata": {},
     "output_type": "execute_result"
    }
   ],
   "source": [
    "globals()['Test']"
   ]
  },
  {
   "cell_type": "markdown",
   "metadata": {},
   "source": [
    "### module import"
   ]
  },
  {
   "cell_type": "code",
   "execution_count": 234,
   "metadata": {},
   "outputs": [],
   "source": [
    "import webencodings"
   ]
  },
  {
   "cell_type": "code",
   "execution_count": 235,
   "metadata": {},
   "outputs": [
    {
     "data": {
      "text/plain": [
       "<module 'webencodings' from '/Users/lucbertin/.pyenv/versions/3.8.4/lib/python3.8/site-packages/webencodings/__init__.py'>"
      ]
     },
     "execution_count": 235,
     "metadata": {},
     "output_type": "execute_result"
    }
   ],
   "source": [
    "globals()['webencodings']"
   ]
  },
  {
   "cell_type": "code",
   "execution_count": 236,
   "metadata": {},
   "outputs": [],
   "source": [
    "del webencodings\n",
    "from webencodings import ascii_lower"
   ]
  },
  {
   "cell_type": "code",
   "execution_count": 237,
   "metadata": {},
   "outputs": [
    {
     "ename": "KeyError",
     "evalue": "'webencodings'",
     "output_type": "error",
     "traceback": [
      "\u001b[0;31m---------------------------------------------------------------------------\u001b[0m",
      "\u001b[0;31mKeyError\u001b[0m                                  Traceback (most recent call last)",
      "\u001b[0;32m<ipython-input-237-3cf7b0abaaac>\u001b[0m in \u001b[0;36m<module>\u001b[0;34m\u001b[0m\n\u001b[0;32m----> 1\u001b[0;31m \u001b[0mglobals\u001b[0m\u001b[0;34m(\u001b[0m\u001b[0;34m)\u001b[0m\u001b[0;34m[\u001b[0m\u001b[0;34m'webencodings'\u001b[0m\u001b[0;34m]\u001b[0m\u001b[0;34m\u001b[0m\u001b[0;34m\u001b[0m\u001b[0m\n\u001b[0m",
      "\u001b[0;31mKeyError\u001b[0m: 'webencodings'"
     ]
    }
   ],
   "source": [
    "globals()['webencodings']"
   ]
  },
  {
   "cell_type": "code",
   "execution_count": 238,
   "metadata": {},
   "outputs": [
    {
     "data": {
      "text/plain": [
       "<function webencodings.ascii_lower(string)>"
      ]
     },
     "execution_count": 238,
     "metadata": {},
     "output_type": "execute_result"
    }
   ],
   "source": [
    "globals()['ascii_lower']"
   ]
  },
  {
   "cell_type": "markdown",
   "metadata": {},
   "source": [
    "#### one word on mutability"
   ]
  },
  {
   "cell_type": "markdown",
   "metadata": {},
   "source": [
    "> multiple names (in multiple scopes) can be bound to the same object. This is known as aliasing. Passing an object as parameter to a function is cheap since just a pointer is passed by the implemententation. Hence using mutable objects might affect the code "
   ]
  },
  {
   "cell_type": "code",
   "execution_count": 242,
   "metadata": {},
   "outputs": [
    {
     "data": {
      "text/plain": [
       "{'__name__': '__main__',\n",
       " '__doc__': 'Automatically created module for IPython interactive environment',\n",
       " '__package__': None,\n",
       " '__loader__': None,\n",
       " '__spec__': None,\n",
       " '__builtin__': <module 'builtins' (built-in)>,\n",
       " '__builtins__': <module 'builtins' (built-in)>,\n",
       " '_ih': ['',\n",
       "  'we already saw what are names/variables = pointers refering to an object location, hence being bound to it doing so.\\n\\nBut this binding does occur differently based on which block it was run.',\n",
       "  'def multiply_by_2(a):\\n    b = 2\\n    return a*b',\n",
       "  '# a is defined on the module level\\na = 4\\n\\ndef multiply_by_2(a):\\n    # the function body is a block\\n    # b is bound to the object of value 2 within that block\\n    # b is then said a \"local variable\"\\n    b = 2\\n    # a is not defined \\n    return a*b + c',\n",
       "  'multiply_by_2(a)',\n",
       "  'multiply_by_2(Z)',\n",
       "  '# a is defined on the module level\\na = 4\\n# a is then reachable for any block within this one.z\\n\\ndef multiply_by_2():\\n    # the function body is a block\\n    # b is bound to the object of value 2 within that block\\n    # b is then said a \"local variable\"\\n    b = 2\\n    # a is not defined \\n    return a*b + c',\n",
       "  '# a is defined on the module level\\na = 4\\n# a is then reachable for any block within this one.z\\n\\ndef multiply_by_2():\\n    # the function body is a block\\n    # b is bound to the object of value 2 within that block\\n    # b is then said a \"local variable\"\\n    b = 2\\n    # a is not defined \\n    return a*b + c',\n",
       "  'multiply_by_2(a)',\n",
       "  'multiply_by_2()',\n",
       "  '# a is defined on the module level\\na = 4\\n# a is then reachable for any block within this one.z\\n\\ndef multiply_by_2():\\n    # the function body is a block\\n    # b is bound to the object of value 2 within that block\\n    # b is then said a \"local variable\"\\n    b = 2\\n    # a is not defined \\n    return a*b',\n",
       "  'multiply_by_2()',\n",
       "  'x = 10\\ndef foo():\\n    x += 1\\n    print x\\nfoo()',\n",
       "  'x = 10\\ndef foo():\\n    x += 1\\n    print(x)\\nfoo()',\n",
       "  '# a is defined on the module level\\na = 4\\n# a is then reachable for any block within this one.z\\n\\ndef multiply_by_2():\\n    # the function body is a block\\n    # b is bound to the object of value 2 within that block\\n    # b is then said a \"local variable\"\\n    b = 2\\n    # a is not defined \\n    return a*b',\n",
       "  'multiply_by_2()',\n",
       "  'def une(a);',\n",
       "  '# a is defined on the module level (imagining this markdown is a .py file on his own)\\na = 4\\n# a is then reachable for any block within this one.z\\n\\ndef multiply_by_2():\\n    # the function body is a block\\n    # b is bound to the object of value 2 within that block\\n    # b is then said a \"local variable\"\\n    b = 2\\n    # a is not defined, but was in the nearest enclosing scope \\n    return a*b',\n",
       "  '# a is defined on the module level \\n# ...(imagining this markdown is a .py file on his own)\\n# a is then a global variable (viewed from this module)\\na = 4\\n# a is then reachable for any block within this one, which is the top-level \\n\\ndef multiply_by_2():\\n    # the function body is a block\\n    # b is bound to the object of value 2 within that block\\n    # b is then said a \"local variable\"\\n    b = 2\\n    # it is discoverable anywhere after this assignement\\n    # and inside any inner blocks may exist\\n    # a is not defined, but was in the nearest enclosing scope \\n    return a*b',\n",
       "  'multiply_by_2()',\n",
       "  '> https://docs.python.org/3/faq/programming.html#why-am-i-getting-an-unboundlocalerror-when-the-variable-has-a-value',\n",
       "  '# a is defined on the module level \\n# ...(imagining this markdown block is a .py file on his own)\\n# a is then a global variable (viewed from this module)\\na = 4\\n# a is then reachable for any block within this one, which is the top-level \\n\\ndef multiply_by_2():\\n    # the function body is a block\\n    # b is bound to the object of value 2 within that block\\n    # b is then said a \"local variable\"\\n    b = 2\\n    # it is discoverable anywhere after this assignement\\n    # and inside any inner blocks may exist\\n    # a is not defined, but was in the nearest enclosing scope \\n    return a*b',\n",
       "  '# a is defined on the module level \\n# ...(imagining this markdown block is a .py file on its own)\\n# a is then a global variable (viewed from this module)\\na = 4\\n# a is then reachable for any block within this one, which is the top-level \\n\\ndef multiply_by_2():\\n    # the function body is a block\\n    # b is bound to the object of value 2 within that block\\n    # b is then said a \"local variable\"\\n    b = 2\\n    # it is discoverable anywhere after this assignement\\n    # and inside any inner blocks may exist\\n    # a is not defined, but was in the nearest enclosing scope \\n    return a*b',\n",
       "  'multiply_by_2()',\n",
       "  'a = 4\\ndef multiply_by_2():\\n    a+=1\\n    b = 2\\n    return a*b',\n",
       "  'a = 4\\ndef multiply_by_2():\\n    print(a)\\n    b = 2\\n    a+=1\\n    return a*b',\n",
       "  'a = 4\\ndef multiply_by_2():\\n    print(a)\\n    b = 2\\n    a+=1\\n    return a*b',\n",
       "  'a = 4\\ndef multiply_by_2():\\n    print(a)\\n    a+=1',\n",
       "  'a = 4\\ndef multiply_by_2():\\n    print(a)\\n    b = 2\\n    a+=1\\n    return a*b',\n",
       "  'a = 4\\ndef multiply_by_2():\\n    print(a)\\n    b = 2\\n    a+=1\\n    return a*b\\nmultiply_by_2',\n",
       "  'a = 4\\ndef multiply_by_2():\\n    print(a)\\n    b = 2\\n    a+=1\\n    return a*b\\nmultiply_by_2()',\n",
       "  'a = 4\\ndef multiply_by_2():\\n    \\n    b = 2\\n    a+=1\\n    print(a)\\n    return a*b\\nmultiply_by_2()',\n",
       "  'a = 4\\ndef multiply_by_2():\\n    print(a)\\n    b = 2\\n    a+=1\\n    return a*b\\nmultiply_by_2()',\n",
       "  'a = 4\\n\\ndef multiply_by_2():\\n    print(a)\\n    b = 2\\n    a+=1\\n    return a*b\\n\\nmultiply_by_2()',\n",
       "  'https://docs.python.org/3/faq/programming.html#why-am-i-getting-an-unboundlocalerror-when-the-variable-has-a-value',\n",
       "  'a = 4\\n\\ndef multiply_by_2():\\n    print(a)\\n    a+=1\\n    b = 2\\n    return a*b\\n\\nmultiply_by_2()',\n",
       "  'a = 4\\n\\ndef multiply_by_2():\\n    return a*c',\n",
       "  'try:\\n    multiply_by_2()\\nexcept Exception as e:\\n    print(e)',\n",
       "  'multiply_by_2',\n",
       "  'multiply_by_2()',\n",
       "  '> same explanation in different words from the docs:\\n    \"all uses of the name within the block are treated as references to the current block\"',\n",
       "  'a = 4\\n\\ndef multiply_by_2():\\n    global(a)\\n    print(a)\\n    a+=1\\n    b = 2\\n    return a*b\\n\\nmultiply_by_2()',\n",
       "  'a = 4\\n\\ndef multiply_by_2():\\n    global a\\n    print(a)\\n    a+=1\\n    b = 2\\n    return a*b\\n\\nmultiply_by_2()',\n",
       "  'def multiply_by_2():\\n    global b\\n    print(a)\\n    a+=1\\n    b = 2\\n    return a*b\\n\\nmultiply_by_2()',\n",
       "  'def multiply_by_2():\\n    \\n    print(a)\\n    a+=1\\n    global a\\n    b = 2\\n    return a*b\\n\\nmultiply_by_2()',\n",
       "  'def multiply_by_2():\\n    global b\\n    b = 2\\n    return a*b\\n\\nmultiply_by_2()',\n",
       "  'a',\n",
       "  'a',\n",
       "  'a = 4\\n\\ndef multiply_by_2():\\n    global a\\n    print(id(a))\\n    print(a)\\n    a+=1\\n    b = 2\\n    return a*b\\n\\nmultiply_by_2()',\n",
       "  'a',\n",
       "  'a, id(a)',\n",
       "  'a = 4\\n\\ndef multiply_by_2():\\n    global a\\n    print(id(a))\\n    print(a)\\n    a+=1\\n    b = 2\\n    return a*b\\n\\nmultiply_by_2()',\n",
       "  'a, id(a)',\n",
       "  'a = 4\\n\\ndef multiply_by_2():\\n    global a\\n    print(id(a))\\n    print(a)\\n    #a+=1\\n    b = 2\\n    return a*b\\n\\nmultiply_by_2()',\n",
       "  'a, id(a)',\n",
       "  'a = 4\\n\\ndef multiply_by_2():\\n    global a\\n    print(id(a))\\n    print(a)\\n    #a+=1\\n    b = 2\\n    return a*b\\n\\nmultiply_by_2()',\n",
       "  'a, id(a)',\n",
       "  'a = 4\\n\\ndef multiply_by_2():\\n    global a\\n    print(id(a))\\n    print(a)\\n    a+=1\\n    b = 2\\n    return a*b\\n\\nmultiply_by_2()',\n",
       "  'a = 4\\n\\ndef multiply_by_2():\\n    global a\\n    print(id(a))\\n    print(a)\\n    a+=1\\n    b = 2\\n    return a*b\\n\\nmultiply_by_2()',\n",
       "  'def myfunction():\\n    global a\\n    print(id(a))\\n    print(a)\\n\\nmyfunction()',\n",
       "  'def myfunction():\\n    global a\\n    print(id(a))\\n    print(a)\\n\\nmyfunction()',\n",
       "  'id(a)',\n",
       "  'def myfunction():\\n    global a\\n    print(id(a))\\n    print(a)\\n\\nmyfunction()',\n",
       "  'def myfunction():\\n    global a\\n    print(id(a))\\n    a += 1\\n    print(a)\\n\\nmyfunction()',\n",
       "  'def myfunction():\\n    global a\\n    print(id(a))\\n    print(a)\\n\\nmyfunction()',\n",
       "  'def myfunction():\\n    global a\\n    print(id(a))\\n    a += 1\\n    print(a)\\n\\nmyfunction()',\n",
       "  'def myfunction():\\n    global a\\n    print(id(a))\\n    print(a)\\n\\nmyfunction()',\n",
       "  'def myfunction():\\n    global a\\n    print(id(a))\\n    a += 1\\n    print(a)\\n\\nmyfunction()',\n",
       "  'def myfunction():\\n    global a\\n    print(id(a))\\n    print(a)\\n\\nmyfunction()',\n",
       "  'def myfunction():\\n    global a\\n    print(id(a))\\n    a += 1\\n    print(a)\\n\\nmyfunction()',\n",
       "  'def myfunction():\\n    global a\\n    print(id(a))\\n    print(a)\\n\\nmyfunction()',\n",
       "  'def myfunction():\\n    global a\\n    print(id(a))\\n    a += 1\\n    print(a)\\n\\nmyfunction()',\n",
       "  'id(a)',\n",
       "  'def myfunction():\\n    global a\\n    print(id(a))\\n    print(a)\\n\\nmyfunction()',\n",
       "  'def myfunction():\\n    global a\\n    print(id(a))\\n    a += 1\\n    print(a)\\n\\nmyfunction()',\n",
       "  'id(a)',\n",
       "  'def myfunction():\\n    global a\\n    print(id(a))\\n    a += 1\\n    print(a)\\n\\nmyfunction()',\n",
       "  'id(a)',\n",
       "  'def myfunction():\\n    global a\\n    print(id(a))\\n    a += 1\\n    print(a)\\n\\nmyfunction()',\n",
       "  'a = 4\\n\\ndef multiply_by_2():\\n    global a\\n    print(id(a))\\n    print(a)\\n    a+=1\\n    b = 2\\n    return a*b\\n\\nmultiply_by_2()',\n",
       "  'a = 4\\nprint(id(a))\\n\\ndef multiply_by_2():\\n    global a\\n    print(id(a))\\n    print(a)\\n    a+=1\\n    b = 2\\n    return a*b\\n\\nmultiply_by_2()',\n",
       "  'def myfunction():\\n    global a\\n    print(id(a))\\n    a += 1\\n    print(a)\\n\\nmyfunction()',\n",
       "  'a = 4\\nprint(id(a))\\n\\ndef multiply_by_2():\\n    global a\\n    print(id(a))\\n    print(a)\\n    a+=1\\n    b = 2\\n    return a*b\\n\\nmultiply_by_2()',\n",
       "  'a = 4\\nprint(id(a))\\n\\ndef multiply_by_2():\\n    global a\\n    print(id(a), a)\\n    a+=1\\n    b = 2\\n    return a*b\\n\\nmultiply_by_2()',\n",
       "  'a = 4\\nprint(id(a))\\n\\ndef multiply_by_2():\\n    global a\\n    print(id(a), a)\\n    a+=1\\n    b = 2\\n    return a*b\\n\\nmultiply_by_2()',\n",
       "  'a = 4\\nprint(id(a))\\n\\ndef multiply_by_2():\\n    global a\\n    print(id(a), a)\\n    a+=1\\n    print(a)\\n    b = 2\\n    return a*b\\n\\nmultiply_by_2()',\n",
       "  'a = 4\\nprint(id(a))\\n\\ndef multiply_by_2():\\n    global a\\n    print(id(a), a)\\n    a+=1\\n    print(id(a), a)\\n    b = 2\\n    return a*b\\n\\nmultiply_by_2()',\n",
       "  'a, id(a)',\n",
       "  'a = 4\\nprint(id(a))\\n\\ndef multiply_by_2():\\n    global a\\n    print(id(a), a) # same object location\\n    a+=1\\n    print(id(a), a) # different because its an immutable\\n    b = 2\\n    return a*b\\n\\nmultiply_by_2()',\n",
       "  '# a is defined on the module level \\n# ...(imagining this markdown block is a .py file on its own)\\n# a is then a global variable (RELATIVE to this module)\\na = 4\\n# a is then reachable for any block within this one, which is the top-level \\n\\ndef multiply_by_2():\\n    # the function body is a block\\n    # b is bound to the object of value 2 within that block\\n    # b is then said a \"local variable\"\\n    b = 2\\n    # it is discoverable anywhere after this assignement\\n    # and inside any inner blocks may exist\\n    # a is not defined, but was in the nearest enclosing scope \\n    return a*b',\n",
       "  'multiply_by_2()',\n",
       "  '# a is defined on the module level \\n# ...(imagining this markdown block is a .py file on its own)\\n# a is then a global variable (RELATIVE to this module)\\na = 4\\n# a is then reachable for any block within this one, which is the top-level \\n\\ndef multiply_by_2():\\n    # the function body is a block\\n    # b is bound to the object of value 2 within that block\\n    # b is then said a \"local variable\"\\n    b = 2\\n    # it is discoverable anywhere after this assignement\\n    # and inside any inner blocks may exist\\n    # a is not defined, but was in the nearest enclosing scope\\n    # in a function, as highlighted in the FAQ, referenced variable are implicitly global\\n    return a*b',\n",
       "  'a = 4\\nprint(id(a))\\n\\ndef multiply_by_2():\\n    global a\\n    print(id(a), a) # same object location\\n    a+=1\\n    print(id(a), a) # different because it is an immutable\\n    b = 2\\n    return a*b\\n\\nmultiply_by_2()',\n",
       "  '# variable defined in a block\\na = 4\\n# in the same block, `a` is visible\\nprint(a)',\n",
       "  '# a is defined on the block module level\\n# ...(imagining this markdown code is a .py file on its own)\\n# a is then a global variable (RELATIVE to this module)\\na = 4\\n# a is then reachable for any block within this one, which is the top-level \\n\\ndef multiply_by_2():\\n    # the function body is a block\\n    # b is bound to the object of value 2 within that block\\n    # b is then said a \"local variable\"\\n    b = 2\\n    # it is discoverable anywhere after this assignement\\n    # and inside any inner blocks may exist\\n    # a is not defined, but was in the nearest enclosing scope\\n    # in a function, as highlighted in the FAQ, referenced variable are implicitly global\\n    return a*b',\n",
       "  'multiply_by_2()',\n",
       "  'a = 4\\n\\ndef multiply_by_2():\\n    print(a)\\n    a+=1\\n    b = 2\\n    return a*b\\n\\nmultiply_by_2()',\n",
       "  'namespaces are implemented as dictionaries',\n",
       "  'globals()',\n",
       "  '```globals()``` is a built-in function which returns the global namespace/context',\n",
       "  'globals()',\n",
       "  'globals()',\n",
       "  'globals().keys()',\n",
       "  'globals().keys().sample',\n",
       "  'globals().keys()[1:4]',\n",
       "  \"globals()['a']\",\n",
       "  \"globals()['a'] =37\",\n",
       "  'print(a)',\n",
       "  'locals()',\n",
       "  'locals() is globals()',\n",
       "  'def function():\\n    print( locals() is globals() ) \\n    print( locals() )',\n",
       "  'function()',\n",
       "  'def function():\\n    a = 2\\n    print( locals() is globals() ) \\n    print( locals() )',\n",
       "  'function()',\n",
       "  'def function():\\n    a = 2\\n    print( locals() is globals() ) \\n    print( locals() )',\n",
       "  'function()',\n",
       "  'def function():\\n    a = 2\\n    print( locals() is globals() ) \\n    print( locals() )\\n    print( globals()[\"a\"])',\n",
       "  'function()',\n",
       "  \"def function():\\n    a = 2\\n    print( locals() is globals() ) \\n    print( locals() )\\n    print( {k:v for k,v in globals() if k=='a')\",\n",
       "  \"def function():\\n    a = 2\\n    print( locals() is globals() ) \\n    print( locals() )\\n    print( {k:v for k,v in globals() if k=='a'})\",\n",
       "  'function()',\n",
       "  \"def function():\\n    a = 2\\n    print( locals() is globals() ) \\n    print( locals() )\\n    print( {k:v for k,v in globals().items() if k=='a'})\",\n",
       "  'function()',\n",
       "  'def function():\\n    a = 2\\n    print( \"is locals  same as globals? {}.\"format({locals() is globals()}) \\n    print( locals() )\\n    print( {k:v for k,v in globals().items() if k==\\'a\\'})',\n",
       "  'def function():\\n    a = 2\\n    print( \"is locals  same as globals? {}.\"format({locals() is globals()})) \\n    print( locals() )\\n    print( {k:v for k,v in globals().items() if k==\\'a\\'})',\n",
       "  'def function():\\n    a = 2\\n    print( \"is locals  same as globals? {}.\"format(locals() is globals())) \\n    print( locals() )\\n    print( {k:v for k,v in globals().items() if k==\\'a\\'})',\n",
       "  'def function():\\n    a = 2\\n    print( \"is locals  same as globals? {}\".format(locals() is globals())) \\n    print( locals() )\\n    print( {k:v for k,v in globals().items() if k==\\'a\\'})',\n",
       "  'function()',\n",
       "  'def function():\\n    a = 2\\n    print( \"Is locals  same as globals? {}\".format(locals() is globals())) \\n    print( \"locals dictionary\".format({locals()})\\n    print( {k:v for k,v in globals().items() if k==\\'a\\'})',\n",
       "  'def function():\\n    a = 2\\n    print( \"Is locals  same as globals? {}\".format(locals() is globals())) \\n    print( \"locals dictionary\".format(locals()))\\n    print( {k:v for k,v in globals().items() if k==\\'a\\'})',\n",
       "  'def function():\\n    a = 2\\n    print( \"Is locals  same as globals? {}\".format(locals() is globals())) \\n    print( \"locals dictionary\".format(locals()))\\n    print( \"what about name a in globals()\".format({k:v for k,v in globals().items() if k==\\'a\\'}))',\n",
       "  'function()',\n",
       "  'def function():\\n    a = 2\\n    print( \"Is locals  same as globals? {}\".format(locals() is globals())) \\n    print( \"locals dictionary {}\".format(locals()))\\n    print( \"what about name a in globals(){}\".format({k:v for k,v in globals().items() if k==\\'a\\'}))',\n",
       "  'function()',\n",
       "  'def function():\\n    a = 2\\n    print( \"Is locals  same as globals? {}\".format(locals() is globals())) \\n    print( \"Locals() dictionary {}\".format(locals()))\\n    print( \"What about name a in globals(){}\".format({k:v for k,v in globals().items() if k==\\'a\\'}))',\n",
       "  'function()',\n",
       "  'def function():\\n    a = 2\\n    print( \"Is locals  same as globals? {}\".format(locals() is globals())) \\n    print( \"Locals dictionary {}\".format(locals()))\\n    print( \"What about name a in globals(){}\".format({k:v for k,v in globals().items() if k==\\'a\\'}))',\n",
       "  'function()',\n",
       "  'def function():\\n    a = 2\\n    print( \"Is locals()  same as globals()? {}\".format(locals() is globals())) \\n    print( \"Locals dictionary {}\".format(locals()))\\n    print( \"What about name a in globals(){}\".format({k:v for k,v in globals().items() if k==\\'a\\'}))',\n",
       "  'function()',\n",
       "  'def function():\\n    a = 2\\n    print( \"Is locals()  same as globals()? {}\".format(locals() is globals())) \\n    print( \"Locals dictionary: {}\".format(locals()))\\n    print( \"What about name a in globals(): {}\".format({k:v for k,v in globals().items() if k==\\'a\\'}))',\n",
       "  'function()',\n",
       "  'liste = [1,3]\\ndef function(liste):\\n    liste2 = liste\\n    liste2 +=[\"a\"]\\n    ',\n",
       "  'liste = [1,3]\\ndef function(liste):\\n    liste2 = liste\\n    liste2 +=[\"a\"]\\nfunction()\\nliste',\n",
       "  'liste = [1,3]\\ndef function(liste):\\n    liste2 = liste\\n    liste2 +=[\"a\"]\\nfunction(lsite)\\nliste',\n",
       "  'liste = [1,3]\\ndef function(liste):\\n    liste2 = liste\\n    liste2 +=[\"a\"]\\nfunction(liste)\\nliste',\n",
       "  'liste = [1,3]\\ndef function(liste):\\n    liste2 = liste\\n    liste2 +=[\"a\"]\\nfunction(liste)\\nliste',\n",
       "  'liste = [1,3]',\n",
       "  'def function(liste):\\n    liste2 = liste\\n    liste2 +=[\"a\"]\\nfunction(liste)',\n",
       "  'def function(liste):\\n    liste2 = liste\\n    liste2 +=[\"a\"]\\nfunction(liste)',\n",
       "  'def function(liste):\\n    liste2 = liste\\n    liste2 +=[\"a\"]\\nfunction(liste)',\n",
       "  'def function(liste):\\n    liste2 = liste\\n    liste2 +=[\"a\"]\\nfunction(liste)',\n",
       "  'liste',\n",
       "  '> The important thing to know about namespaces is that there is absolutely no relation between names in different namespaces',\n",
       "  'def function:\\n    print(locals())\\n    def function2:\\n        b=2\\n    c=3\\n    print(locals())\\nfunction()',\n",
       "  'def function:\\n    print(locals())\\n    def function2:\\n        b=2\\n        print(\"inner function locals:\")\\n        print(locals())\\n    c=3\\n    print(locals())\\nfunction()',\n",
       "  'def function():\\n    print(locals())\\n    def function2():\\n        b=2\\n        print(\"inner function locals:\")\\n        print(locals())\\n    c=3\\n    print(locals())\\nfunction()',\n",
       "  'def function():\\n    print(\"outer function:{}\".format(locals()))\\n    def function2():\\n        b=2\\n        print(\"inner function locals:\")\\n        print(locals())\\n    c=3\\n    print(locals())\\nfunction()',\n",
       "  'def function():\\n    print(\"outer function locals:{}\".format(locals()))\\n    def function2():\\n        b=2\\n        print(\"inner function locals:\")\\n        print(locals())\\n    c=3\\n    print(locals())\\nfunction()',\n",
       "  'def function():\\n    print(\"outer function locals:{}\".format(locals()))\\n    def function2():\\n        b=2\\n        print(\"inner function locals:\".format(locals()))\\n    c=3\\n    print(\"outer function locals:{}\".format(locals()))\\nfunction()',\n",
       "  'def function():\\n    print(\"outer function locals:{}\".format(locals()))\\n    def function2():\\n        b=2\\n        print(\"inner function locals:\".format(locals()))\\n    c=3\\n    print(\"outer function locals:{}\".format(locals()))\\n    function2()\\n    print(\"outer function locals:{}\".format(locals()))\\nfunction()',\n",
       "  'def function():\\n    print(\"outer function locals:{}\".format(locals()))\\n    def function2():\\n        b=2\\n        print(\"inner function locals:\".format(locals()))\\n    c=3\\n    print(\"outer function locals:{}\".format(locals()))\\n    function2()\\n    print(\"outer function locals:{}\".format(locals()))\\nfunction()',\n",
       "  'def function():\\n    print(\"outer function locals:{}\".format(locals()))\\n    def function2():\\n        b=2\\n        print(\"inner function locals:\".format(locals()))\\n    c=3\\n    print(\"outer function locals:{}\".format(locals()))\\n    function2()\\n    print(\"outer function locals:{}\".format(locals()))\\nfunction()',\n",
       "  'def function():\\n    print(\"outer function locals:{}\".format(locals()))\\n    def function2():\\n        b=2\\n        print(\"inner function locals:\".format(locals()))\\n    c=3\\n    print(\"outer function locals:{}\".format(locals()))\\n    function2()\\n    print(\"outer function locals:{}\".format(locals()))\\nfunction()',\n",
       "  'def function():\\n    print(\"outer function locals:{}\".format(locals()))\\n    def function2():\\n        b=2\\n        print(\"inner function locals:\".format(locals()))\\n    c=3\\n    print(\"outer function locals:{}\".format(locals()))\\n    function2()\\n    print(\"outer function locals:{}\".format(locals()))\\nfunction()',\n",
       "  'def function():\\n    print(\"outer function locals:{}\".format(locals()))\\n    def function2():\\n        b=2\\n        print(\"inner function locals:\".format(locals()))\\n    c=3\\n    print(\"outer function locals:{}\".format(locals()))\\n    function2()\\n    print(\"outer function locals:{}\".format(locals()))\\nfunction()',\n",
       "  'def function():\\n    print(\"outer function locals:{}\".format(locals()))\\n    def function2():\\n        b=2\\n        print(\"inner function locals:\".format(locals()))\\n    c=3\\n    print(\"outer function locals:{}\".format(locals()))\\n    function2()\\n    print(\"outer function locals:{}\".format(locals()))\\nfunction()',\n",
       "  'def function():\\n    print(\"outer function locals:{}\".format(locals()))\\n    def function2():\\n        nonlocal c\\n        print(\"inner function locals:\".format(locals()))\\n    c=3\\n    print(\"outer function locals:{}\".format(locals()))\\n    function2()\\n    print(\"outer function locals:{}\".format(locals()))\\nfunction()',\n",
       "  'def function():\\n    print(\"outer function locals:{}\".format(locals()))\\n    def function2():\\n        nonlocal c\\n        c += 4\\n    c=3\\n    print(\"outer function locals:{}\".format(locals()))\\n    function2()\\n    print(\"outer function locals:{}\".format(locals()))\\nfunction()',\n",
       "  'def function():\\n    print(\"outer function locals:{}\".format(locals()))\\n    def function2():\\n        global c\\n        c += 4\\n    c=3\\n    print(\"outer function locals:{}\".format(locals()))\\n    function2()\\n    print(\"outer function locals:{}\".format(locals()))\\nfunction()',\n",
       "  'def function():\\n    print(\"outer function locals:{}\".format(locals()))\\n    def function2():\\n        nonlocal c\\n        c += 4\\n    c=3\\n    print(\"outer function locals:{}\".format(locals()))\\n    function2()\\n    print(\"outer function locals:{}\".format(locals()))\\nfunction()',\n",
       "  'def function():\\n    def function2():\\n        nonlocal c\\n        c += 4\\n    c=3\\n    print(\"outer function locals:{}\".format(locals()))\\n    function2()\\n    print(\"outer function locals:{}\".format(locals()))\\nfunction()',\n",
       "  'def function():\\n    #print(\"outer function locals:{}\".format(locals()))\\n    def function2():\\n        b=2\\n        print(\"inner function locals:\".format(locals()))\\n    c=3\\n    #print(\"outer function locals:{}\".format(locals()))\\n    function2()\\n    #print(\"outer function locals:{}\".format(locals()))\\nfunction()',\n",
       "  'def function():\\n    print(\"outer function locals:{}\".format(locals()))\\n    def function2():\\n        b=2\\n        print(\"inner function locals:\".format(locals()))\\n    c=3\\n    print(\"outer function locals:{}\".format(locals()))\\n    function2()\\n    print(\"outer function locals:{}\".format(locals()))\\nfunction()',\n",
       "  'def function():\\n    print(\"outer function locals:{}\".format(locals()))\\n    def function2():\\n        b=2\\n        print(c)\\n        print(\"inner function locals:\".format(locals()))\\n    c=3\\n    print(\"outer function locals:{}\".format(locals()))\\n    function2()\\n    print(\"outer function locals:{}\".format(locals()))\\nfunction()',\n",
       "  'def function():\\n    print(\"outer function locals:{}\".format(locals()))\\n    def function2():\\n        b=2\\n        print(c)\\n        print(\"inner function locals:\".format(locals()))\\n    c=3\\n    print(\"outer function locals:{}\".format(locals()))\\n    function2()\\n    print(\"outer function locals:{}\".format(locals()))\\nfunction()',\n",
       "  'def function():\\n    print(\"outer function locals:{}\".format(locals()))\\n    def function2():\\n        b=2\\n        print(\"inner function locals:\".format(locals()))\\n    c=3\\n    print(\"outer function locals:{}\".format(locals()))\\n    function2()\\n    print(\"outer function locals:{}\".format(locals()))\\nfunction()',\n",
       "  'class Test:\\n    i=12',\n",
       "  \"globals()['Test']\",\n",
       "  'Test.__dict__',\n",
       "  'Test.__dict__()',\n",
       "  'Test.__dict__()',\n",
       "  'Test.__dict__',\n",
       "  'def function():\\n    print(\"outer function locals:{}\".format(locals()))\\n    d=4\\n    def function2():\\n        b=2\\n        print(\"inner function locals:\".format(locals()))\\n    c=3\\n    print(\"outer function locals:{}\".format(locals()))\\n    function2()\\n    print(\"outer function locals:{}\".format(locals()))\\nfunction()',\n",
       "  'def function():\\n    print(\"outer function locals:{}\".format(locals()))\\n    d=4\\n    def function2():\\n        nonlocal d\\n        print(\"inner function locals:\".format(locals()))\\n    c=3\\n    print(\"outer function locals:{}\".format(locals()))\\n    function2()\\n    print(\"outer function locals:{}\".format(locals()))\\nfunction()',\n",
       "  'def function():\\n    print(\"outer function locals:{}\".format(locals()))\\n    d=4\\n    def function2():\\n        b=2\\n        print(\"inner function locals:\".format(locals().locals()))\\n    c=3\\n    print(\"outer function locals:{}\".format(locals()))\\n    function2()\\n    print(\"outer function locals:{}\".format(locals()))\\nfunction()',\n",
       "  'def function():\\n    print(\"outer function locals:{}\".format(locals()))\\n    d=4\\n    def function2():\\n        b=2\\n        print(\"inner function locals:\".format(locals(locals()))\\n    c=3\\n    print(\"outer function locals:{}\".format(locals()))\\n    function2()\\n    print(\"outer function locals:{}\".format(locals()))\\nfunction()',\n",
       "  'def function():\\n    print(\"outer function locals:{}\".format(locals()))\\n    d=4\\n    def function2():\\n        b=2\\n        print(\"inner function locals:\".format(locals(locals())))\\n    c=3\\n    print(\"outer function locals:{}\".format(locals()))\\n    function2()\\n    print(\"outer function locals:{}\".format(locals()))\\nfunction()',\n",
       "  'def function():\\n    print(\"outer function locals:{}\".format(locals()))\\n    d=4\\n    def function2():\\n        b=2\\n        print(\"inner function locals:\".format(locals()))\\n    c=3\\n    print(\"outer function locals:{}\".format(locals()))\\n    function2()\\n    print(\"outer function locals:{}\".format(locals()))\\nfunction()',\n",
       "  'def function():\\n    print(\"outer function locals:{}\".format(locals()))\\n    d=4\\n    def function2():\\n        b=2\\n        print(\"inner function locals:{}\".format(locals()))\\n    c=3\\n    print(\"outer function locals:{}\".format(locals()))\\n    function2()\\n    print(\"outer function locals:{}\".format(locals()))\\nfunction()',\n",
       "  'def function():\\n    print(\"outer function locals:{}\".format(locals()))\\n    d=4\\n    def function2():\\n        b=2\\n        print(\"inner function locals:{}\".format(locals()))\\n    c=3\\n    print(\"outer function locals:{}\".format(locals()))\\n    function2()\\n    print(\"outer function locals:{}\".format(locals()))\\nfunction()',\n",
       "  'def function():\\n    print(\"outer function locals:{}\".format(locals()))\\n    d=4\\n    def function2():\\n        b=2\\n        print(\"inner function locals:{}\".format(locals()))\\n        nonlocal d\\n    c=3\\n    print(\"outer function locals:{}\".format(locals()))\\n    function2()\\n    print(\"outer function locals:{}\".format(locals()))\\nfunction()',\n",
       "  'def function():\\n    print(\"outer function locals:{}\".format(locals()))\\n    d=4\\n    def function2():\\n        b=2\\n        print(\"inner function locals:{}\".format(locals()))\\n        global d\\n    c=3\\n    print(\"outer function locals:{}\".format(locals()))\\n    function2()\\n    print(\"outer function locals:{}\".format(locals()))\\nfunction()',\n",
       "  'def function():\\n    print(\"outer function locals:{}\".format(locals()))\\n    d=4\\n    def function2():\\n        b=2\\n        print(\"inner function locals:{}\".format(locals()))\\n        global d\\n    c=3\\n    print(\"outer function locals:{}\".format(locals()))\\n    function2()\\n    print(\"outer function locals:{}\".format(locals()))\\nfunction()',\n",
       "  'def function():\\n    print(\"outer function locals:{}\".format(locals()))\\n    d=4\\n    def function2():\\n        b=2\\n        print(\"inner function locals:{}\".format(locals()))\\n        global d\\n    c=3\\n    print(\"outer function locals:{}\".format(locals()))\\n    function2()\\n    print(\"outer function locals:{}\".format(locals()))\\nfunction()',\n",
       "  'def function():\\n    print(\"outer function locals:{}\".format(locals()))\\n    d=4\\n    def function2():\\n        b=2\\n        print(\"inner function locals:{}\".format(locals()))\\n        global a\\n    c=3\\n    print(\"outer function locals:{}\".format(locals()))\\n    function2()\\n    print(\"outer function locals:{}\".format(locals()))\\nfunction()',\n",
       "  'def function():\\n    print(\"outer function locals:{}\".format(locals()))\\n    d=4\\n    def function2():\\n        b=2\\n        print(\"inner function locals:{}\".format(locals()))\\n        nonlocal d\\n    c=3\\n    print(\"outer function locals:{}\".format(locals()))\\n    function2()\\n    print(\"outer function locals:{}\".format(locals()))\\nfunction()',\n",
       "  'a',\n",
       "  'def function():\\n    print(\"outer function locals:{}\".format(locals()))\\n    d=4\\n    def function2():\\n        b=2\\n        print(\"inner function locals:{}\".format(locals()))\\n        global a\\n    c=3\\n    print(\"outer function locals:{}\".format(locals()))\\n    function2()\\n    print(\"outer function locals:{}\".format(locals()))\\nfunction()',\n",
       "  'def function():\\n    print(\"outer function locals:{}\".format(locals()))\\n    d=4\\n    def function2():\\n        b=2\\n        print(\"inner function locals:{}\".format(locals()))\\n        nonlocal d\\n    c=3\\n    print(\"outer function locals:{}\".format(locals()))\\n    function2()\\n    print(\"outer function locals:{}\".format(locals()))\\nfunction()',\n",
       "  'def function():\\n    def function2():\\n        nonlocal c\\n        c += 4\\n    c=3\\n    print(\"outer function locals:{}\".format(locals()))\\n    function2()\\n    print(\"outer function locals:{}\".format(locals()))\\nfunction()',\n",
       "  'def function():\\n    print(\"outer function locals:{}\".format(locals()))\\n    d=4\\n    def function2():\\n        b=2\\n        print(\"inner function locals:{}\".format(locals()))\\n        nonlocal d\\n    c=3\\n    print(\"outer function locals:{}\".format(locals()))\\n    function2()\\n    print(\"outer function locals:{}\".format(locals()))\\nfunction()',\n",
       "  'def function():\\n    def function2():\\n        nonlocal c\\n        c += 4\\n    c=3\\n    print(\"outer function locals:{}\".format(locals()))\\n    function2()\\n    print(\"outer function locals:{}\".format(locals()))\\nfunction()',\n",
       "  'globals()',\n",
       "  \"globals()['__main__']\",\n",
       "  '__main__.a',\n",
       "  \"'__main__'.a\",\n",
       "  '__main__.a',\n",
       "  '__main__.a',\n",
       "  '__main',\n",
       "  '__main__',\n",
       "  'import __main__',\n",
       "  '__main__.a',\n",
       "  'import __main__\\n__main__.a',\n",
       "  'Sometimes, scope is also defined as the set of variables/names available at a certain point in the code execution',\n",
       "  'import regex',\n",
       "  'import selenium',\n",
       "  \"get_ipython().system('pip freeze')\",\n",
       "  'import Pygments',\n",
       "  \"get_ipython().system('pip freeze')\",\n",
       "  'import webencodings',\n",
       "  'globals()',\n",
       "  \"globals()['webencodings']\",\n",
       "  'del webencodings',\n",
       "  'import webencodings',\n",
       "  \"globals()['webencodings']\",\n",
       "  'del webencodings',\n",
       "  \"globals()['webencodings']\",\n",
       "  'del webencodings',\n",
       "  'del webencodings',\n",
       "  'del webencodings',\n",
       "  'import webencodings',\n",
       "  \"globals()['webencodings']\",\n",
       "  'del webencodings',\n",
       "  'import webencodings',\n",
       "  \"globals()['webencodings']\",\n",
       "  'del webencodings\\nfrom webencodings import ascii_lower',\n",
       "  \"globals()['webencodings']\",\n",
       "  \"globals()['ascii_lower']\",\n",
       "  \"get_ipython().system('git status')\",\n",
       "  \"get_ipython().system('echo $NALME')\",\n",
       "  \"get_ipython().system('echo $NAME')\",\n",
       "  'globals()'],\n",
       " '_oh': {11: 8,\n",
       "  15: 8,\n",
       "  19: 8,\n",
       "  23: 8,\n",
       "  29: <function __main__.multiply_by_2()>,\n",
       "  38: <function __main__.multiply_by_2()>,\n",
       "  42: 10,\n",
       "  45: 10,\n",
       "  46: 5,\n",
       "  47: 5,\n",
       "  48: 10,\n",
       "  49: 5,\n",
       "  50: (5, 4465474112),\n",
       "  51: 10,\n",
       "  52: (5, 4465474112),\n",
       "  53: 8,\n",
       "  54: (4, 4465474080),\n",
       "  55: 8,\n",
       "  56: (4, 4465474080),\n",
       "  57: 10,\n",
       "  58: 10,\n",
       "  61: 4465474112,\n",
       "  72: 4465474272,\n",
       "  75: 4465474304,\n",
       "  77: 4465474336,\n",
       "  79: 10,\n",
       "  80: 10,\n",
       "  82: 10,\n",
       "  83: 10,\n",
       "  84: 10,\n",
       "  85: 10,\n",
       "  86: 10,\n",
       "  87: (5, 4465474112),\n",
       "  88: 10,\n",
       "  90: 8,\n",
       "  92: 10,\n",
       "  95: 8,\n",
       "  98: {...},\n",
       "  100: {...},\n",
       "  101: {...},\n",
       "  102: dict_keys(['__name__', '__doc__', '__package__', '__loader__', '__spec__', '__builtin__', '__builtins__', '_ih', '_oh', '_dh', 'In', 'Out', 'get_ipython', 'exit', 'quit', '_', '__', '___', '_i', '_ii', '_iii', '_i1', '_i2', 'multiply_by_2', '_i3', 'a', '_i4', '_i5', '_i6', '_i7', '_i8', '_i9', '_i10', '_i11', '_11', '_i12', '_i13', 'x', 'foo', '_i14', '_i15', '_15', '_i16', '_i17', '_i18', '_i19', '_19', '_i20', '_i21', '_i22', '_i23', '_23', '_i24', '_i25', '_i26', '_i27', '_i28', '_i29', '_29', '_i30', '_i31', '_i32', '_i33', '_i34', '_i35', '_i36', '_i37', '_i38', '_38', '_i39', '_i40', '_i41', '_i42', '_42', '_i43', '_i44', '_i45', 'b', '_45', '_i46', '_46', '_i47', '_47', '_i48', '_48', '_i49', '_49', '_i50', '_50', '_i51', '_51', '_i52', '_52', '_i53', '_53', '_i54', '_54', '_i55', '_55', '_i56', '_56', '_i57', '_57', '_i58', '_58', '_i59', 'myfunction', '_i60', '_i61', '_61', '_i62', '_i63', '_i64', '_i65', '_i66', '_i67', '_i68', '_i69', '_i70', '_i71', '_i72', '_72', '_i73', '_i74', '_i75', '_75', '_i76', '_i77', '_77', '_i78', '_i79', '_79', '_i80', '_80', '_i81', '_i82', '_82', '_i83', '_83', '_i84', '_84', '_i85', '_85', '_i86', '_86', '_i87', '_87', '_i88', '_88', '_i89', '_i90', '_90', '_i91', '_i92', '_92', '_i93', '_i94', '_i95', '_95', '_i96', '_i97', '_i98', '_98', '_i99', '_i100', '_100', '_i101', '_101', '_i102', '_102', '_i103', '_i104', '_i105', '_105', '_i106', '_i107', '_i108', '_108', '_i109', '_109', '_i110', 'function', '_i111', '_i112', '_i113', '_i114', '_i115', '_i116', '_i117', '_i118', '_i119', '_i120', '_i121', '_i122', '_i123', '_i124', '_i125', '_i126', '_i127', '_i128', '_i129', '_i130', '_i131', '_i132', '_i133', '_i134', '_i135', '_i136', '_i137', '_i138', '_i139', '_i140', '_i141', '_i142', 'liste', '_i143', '_i144', '_i145', '_145', '_i146', '_146', '_i147', '_i148', '_i149', '_i150', '_i151', '_i152', '_152', '_i153', '_i154', '_i155', '_i156', '_i157', '_i158', '_i159', '_i160', '_i161', '_i162', '_i163', '_i164', '_i165', '_i166', '_i167', '_i168', '_i169', '_i170', '_i171', '_i172', '_i173', '_i174', '_i175', '_i176', '_i177', 'Test', '_i178', '_178', '_i179', '_179', '_i180', '_i181', '_i182', '_182', '_i183', '_i184', '_i185', '_i186', '_i187', '_i188', '_i189', '_i190', '_i191', '_i192', '_i193', '_i194', '_i195', '_i196', '_i197', '_197', '_i198', '_i199', '_i200', '_i201', '_i202', '_i203', '_203', '_i204', '_i205', '_i206', '_i207', '_i208', '_i209', '_i210', '_i211', '__main__', '_i212', '_212', '_i213', '_213', '_i214', '_i215', '_i216', '_i217', '_exit_code', '_i218', '_i219', '_i220', '_i221', '_221', '_i222', '_222', '_i223', '_i224', '_i225', '_225', '_i226', '_i227', '_i228', '_i229', '_i230', '_i231', '_i232', '_232', '_i233', '_i234', '_i235', '_235', '_i236', 'ascii_lower', '_i237', '_i238', '_238', '_i239', '_i240', '_i241', '_i242']),\n",
       "  105: 4,\n",
       "  108: {...},\n",
       "  109: True,\n",
       "  145: [1, 3, 'a'],\n",
       "  146: [1, 3, 'a'],\n",
       "  152: [1, 3, 'a', 'a', 'a', 'a'],\n",
       "  178: __main__.Test,\n",
       "  179: mappingproxy({'__module__': '__main__',\n",
       "                'i': 12,\n",
       "                '__dict__': <attribute '__dict__' of 'Test' objects>,\n",
       "                '__weakref__': <attribute '__weakref__' of 'Test' objects>,\n",
       "                '__doc__': None}),\n",
       "  182: mappingproxy({'__module__': '__main__',\n",
       "                'i': 12,\n",
       "                '__dict__': <attribute '__dict__' of 'Test' objects>,\n",
       "                '__weakref__': <attribute '__weakref__' of 'Test' objects>,\n",
       "                '__doc__': None}),\n",
       "  197: 37,\n",
       "  203: {...},\n",
       "  212: 37,\n",
       "  213: 37,\n",
       "  221: {...},\n",
       "  222: <module 'webencodings' from '/Users/lucbertin/.pyenv/versions/3.8.4/lib/python3.8/site-packages/webencodings/__init__.py'>,\n",
       "  225: <module 'webencodings' from '/Users/lucbertin/.pyenv/versions/3.8.4/lib/python3.8/site-packages/webencodings/__init__.py'>,\n",
       "  232: <module 'webencodings' from '/Users/lucbertin/.pyenv/versions/3.8.4/lib/python3.8/site-packages/webencodings/__init__.py'>,\n",
       "  235: <module 'webencodings' from '/Users/lucbertin/.pyenv/versions/3.8.4/lib/python3.8/site-packages/webencodings/__init__.py'>,\n",
       "  238: <function webencodings.ascii_lower(string)>},\n",
       " '_dh': ['/Users/lucbertin/Desktop/TDs_Python_ESILV_5A'],\n",
       " 'In': ['',\n",
       "  'we already saw what are names/variables = pointers refering to an object location, hence being bound to it doing so.\\n\\nBut this binding does occur differently based on which block it was run.',\n",
       "  'def multiply_by_2(a):\\n    b = 2\\n    return a*b',\n",
       "  '# a is defined on the module level\\na = 4\\n\\ndef multiply_by_2(a):\\n    # the function body is a block\\n    # b is bound to the object of value 2 within that block\\n    # b is then said a \"local variable\"\\n    b = 2\\n    # a is not defined \\n    return a*b + c',\n",
       "  'multiply_by_2(a)',\n",
       "  'multiply_by_2(Z)',\n",
       "  '# a is defined on the module level\\na = 4\\n# a is then reachable for any block within this one.z\\n\\ndef multiply_by_2():\\n    # the function body is a block\\n    # b is bound to the object of value 2 within that block\\n    # b is then said a \"local variable\"\\n    b = 2\\n    # a is not defined \\n    return a*b + c',\n",
       "  '# a is defined on the module level\\na = 4\\n# a is then reachable for any block within this one.z\\n\\ndef multiply_by_2():\\n    # the function body is a block\\n    # b is bound to the object of value 2 within that block\\n    # b is then said a \"local variable\"\\n    b = 2\\n    # a is not defined \\n    return a*b + c',\n",
       "  'multiply_by_2(a)',\n",
       "  'multiply_by_2()',\n",
       "  '# a is defined on the module level\\na = 4\\n# a is then reachable for any block within this one.z\\n\\ndef multiply_by_2():\\n    # the function body is a block\\n    # b is bound to the object of value 2 within that block\\n    # b is then said a \"local variable\"\\n    b = 2\\n    # a is not defined \\n    return a*b',\n",
       "  'multiply_by_2()',\n",
       "  'x = 10\\ndef foo():\\n    x += 1\\n    print x\\nfoo()',\n",
       "  'x = 10\\ndef foo():\\n    x += 1\\n    print(x)\\nfoo()',\n",
       "  '# a is defined on the module level\\na = 4\\n# a is then reachable for any block within this one.z\\n\\ndef multiply_by_2():\\n    # the function body is a block\\n    # b is bound to the object of value 2 within that block\\n    # b is then said a \"local variable\"\\n    b = 2\\n    # a is not defined \\n    return a*b',\n",
       "  'multiply_by_2()',\n",
       "  'def une(a);',\n",
       "  '# a is defined on the module level (imagining this markdown is a .py file on his own)\\na = 4\\n# a is then reachable for any block within this one.z\\n\\ndef multiply_by_2():\\n    # the function body is a block\\n    # b is bound to the object of value 2 within that block\\n    # b is then said a \"local variable\"\\n    b = 2\\n    # a is not defined, but was in the nearest enclosing scope \\n    return a*b',\n",
       "  '# a is defined on the module level \\n# ...(imagining this markdown is a .py file on his own)\\n# a is then a global variable (viewed from this module)\\na = 4\\n# a is then reachable for any block within this one, which is the top-level \\n\\ndef multiply_by_2():\\n    # the function body is a block\\n    # b is bound to the object of value 2 within that block\\n    # b is then said a \"local variable\"\\n    b = 2\\n    # it is discoverable anywhere after this assignement\\n    # and inside any inner blocks may exist\\n    # a is not defined, but was in the nearest enclosing scope \\n    return a*b',\n",
       "  'multiply_by_2()',\n",
       "  '> https://docs.python.org/3/faq/programming.html#why-am-i-getting-an-unboundlocalerror-when-the-variable-has-a-value',\n",
       "  '# a is defined on the module level \\n# ...(imagining this markdown block is a .py file on his own)\\n# a is then a global variable (viewed from this module)\\na = 4\\n# a is then reachable for any block within this one, which is the top-level \\n\\ndef multiply_by_2():\\n    # the function body is a block\\n    # b is bound to the object of value 2 within that block\\n    # b is then said a \"local variable\"\\n    b = 2\\n    # it is discoverable anywhere after this assignement\\n    # and inside any inner blocks may exist\\n    # a is not defined, but was in the nearest enclosing scope \\n    return a*b',\n",
       "  '# a is defined on the module level \\n# ...(imagining this markdown block is a .py file on its own)\\n# a is then a global variable (viewed from this module)\\na = 4\\n# a is then reachable for any block within this one, which is the top-level \\n\\ndef multiply_by_2():\\n    # the function body is a block\\n    # b is bound to the object of value 2 within that block\\n    # b is then said a \"local variable\"\\n    b = 2\\n    # it is discoverable anywhere after this assignement\\n    # and inside any inner blocks may exist\\n    # a is not defined, but was in the nearest enclosing scope \\n    return a*b',\n",
       "  'multiply_by_2()',\n",
       "  'a = 4\\ndef multiply_by_2():\\n    a+=1\\n    b = 2\\n    return a*b',\n",
       "  'a = 4\\ndef multiply_by_2():\\n    print(a)\\n    b = 2\\n    a+=1\\n    return a*b',\n",
       "  'a = 4\\ndef multiply_by_2():\\n    print(a)\\n    b = 2\\n    a+=1\\n    return a*b',\n",
       "  'a = 4\\ndef multiply_by_2():\\n    print(a)\\n    a+=1',\n",
       "  'a = 4\\ndef multiply_by_2():\\n    print(a)\\n    b = 2\\n    a+=1\\n    return a*b',\n",
       "  'a = 4\\ndef multiply_by_2():\\n    print(a)\\n    b = 2\\n    a+=1\\n    return a*b\\nmultiply_by_2',\n",
       "  'a = 4\\ndef multiply_by_2():\\n    print(a)\\n    b = 2\\n    a+=1\\n    return a*b\\nmultiply_by_2()',\n",
       "  'a = 4\\ndef multiply_by_2():\\n    \\n    b = 2\\n    a+=1\\n    print(a)\\n    return a*b\\nmultiply_by_2()',\n",
       "  'a = 4\\ndef multiply_by_2():\\n    print(a)\\n    b = 2\\n    a+=1\\n    return a*b\\nmultiply_by_2()',\n",
       "  'a = 4\\n\\ndef multiply_by_2():\\n    print(a)\\n    b = 2\\n    a+=1\\n    return a*b\\n\\nmultiply_by_2()',\n",
       "  'https://docs.python.org/3/faq/programming.html#why-am-i-getting-an-unboundlocalerror-when-the-variable-has-a-value',\n",
       "  'a = 4\\n\\ndef multiply_by_2():\\n    print(a)\\n    a+=1\\n    b = 2\\n    return a*b\\n\\nmultiply_by_2()',\n",
       "  'a = 4\\n\\ndef multiply_by_2():\\n    return a*c',\n",
       "  'try:\\n    multiply_by_2()\\nexcept Exception as e:\\n    print(e)',\n",
       "  'multiply_by_2',\n",
       "  'multiply_by_2()',\n",
       "  '> same explanation in different words from the docs:\\n    \"all uses of the name within the block are treated as references to the current block\"',\n",
       "  'a = 4\\n\\ndef multiply_by_2():\\n    global(a)\\n    print(a)\\n    a+=1\\n    b = 2\\n    return a*b\\n\\nmultiply_by_2()',\n",
       "  'a = 4\\n\\ndef multiply_by_2():\\n    global a\\n    print(a)\\n    a+=1\\n    b = 2\\n    return a*b\\n\\nmultiply_by_2()',\n",
       "  'def multiply_by_2():\\n    global b\\n    print(a)\\n    a+=1\\n    b = 2\\n    return a*b\\n\\nmultiply_by_2()',\n",
       "  'def multiply_by_2():\\n    \\n    print(a)\\n    a+=1\\n    global a\\n    b = 2\\n    return a*b\\n\\nmultiply_by_2()',\n",
       "  'def multiply_by_2():\\n    global b\\n    b = 2\\n    return a*b\\n\\nmultiply_by_2()',\n",
       "  'a',\n",
       "  'a',\n",
       "  'a = 4\\n\\ndef multiply_by_2():\\n    global a\\n    print(id(a))\\n    print(a)\\n    a+=1\\n    b = 2\\n    return a*b\\n\\nmultiply_by_2()',\n",
       "  'a',\n",
       "  'a, id(a)',\n",
       "  'a = 4\\n\\ndef multiply_by_2():\\n    global a\\n    print(id(a))\\n    print(a)\\n    a+=1\\n    b = 2\\n    return a*b\\n\\nmultiply_by_2()',\n",
       "  'a, id(a)',\n",
       "  'a = 4\\n\\ndef multiply_by_2():\\n    global a\\n    print(id(a))\\n    print(a)\\n    #a+=1\\n    b = 2\\n    return a*b\\n\\nmultiply_by_2()',\n",
       "  'a, id(a)',\n",
       "  'a = 4\\n\\ndef multiply_by_2():\\n    global a\\n    print(id(a))\\n    print(a)\\n    #a+=1\\n    b = 2\\n    return a*b\\n\\nmultiply_by_2()',\n",
       "  'a, id(a)',\n",
       "  'a = 4\\n\\ndef multiply_by_2():\\n    global a\\n    print(id(a))\\n    print(a)\\n    a+=1\\n    b = 2\\n    return a*b\\n\\nmultiply_by_2()',\n",
       "  'a = 4\\n\\ndef multiply_by_2():\\n    global a\\n    print(id(a))\\n    print(a)\\n    a+=1\\n    b = 2\\n    return a*b\\n\\nmultiply_by_2()',\n",
       "  'def myfunction():\\n    global a\\n    print(id(a))\\n    print(a)\\n\\nmyfunction()',\n",
       "  'def myfunction():\\n    global a\\n    print(id(a))\\n    print(a)\\n\\nmyfunction()',\n",
       "  'id(a)',\n",
       "  'def myfunction():\\n    global a\\n    print(id(a))\\n    print(a)\\n\\nmyfunction()',\n",
       "  'def myfunction():\\n    global a\\n    print(id(a))\\n    a += 1\\n    print(a)\\n\\nmyfunction()',\n",
       "  'def myfunction():\\n    global a\\n    print(id(a))\\n    print(a)\\n\\nmyfunction()',\n",
       "  'def myfunction():\\n    global a\\n    print(id(a))\\n    a += 1\\n    print(a)\\n\\nmyfunction()',\n",
       "  'def myfunction():\\n    global a\\n    print(id(a))\\n    print(a)\\n\\nmyfunction()',\n",
       "  'def myfunction():\\n    global a\\n    print(id(a))\\n    a += 1\\n    print(a)\\n\\nmyfunction()',\n",
       "  'def myfunction():\\n    global a\\n    print(id(a))\\n    print(a)\\n\\nmyfunction()',\n",
       "  'def myfunction():\\n    global a\\n    print(id(a))\\n    a += 1\\n    print(a)\\n\\nmyfunction()',\n",
       "  'def myfunction():\\n    global a\\n    print(id(a))\\n    print(a)\\n\\nmyfunction()',\n",
       "  'def myfunction():\\n    global a\\n    print(id(a))\\n    a += 1\\n    print(a)\\n\\nmyfunction()',\n",
       "  'id(a)',\n",
       "  'def myfunction():\\n    global a\\n    print(id(a))\\n    print(a)\\n\\nmyfunction()',\n",
       "  'def myfunction():\\n    global a\\n    print(id(a))\\n    a += 1\\n    print(a)\\n\\nmyfunction()',\n",
       "  'id(a)',\n",
       "  'def myfunction():\\n    global a\\n    print(id(a))\\n    a += 1\\n    print(a)\\n\\nmyfunction()',\n",
       "  'id(a)',\n",
       "  'def myfunction():\\n    global a\\n    print(id(a))\\n    a += 1\\n    print(a)\\n\\nmyfunction()',\n",
       "  'a = 4\\n\\ndef multiply_by_2():\\n    global a\\n    print(id(a))\\n    print(a)\\n    a+=1\\n    b = 2\\n    return a*b\\n\\nmultiply_by_2()',\n",
       "  'a = 4\\nprint(id(a))\\n\\ndef multiply_by_2():\\n    global a\\n    print(id(a))\\n    print(a)\\n    a+=1\\n    b = 2\\n    return a*b\\n\\nmultiply_by_2()',\n",
       "  'def myfunction():\\n    global a\\n    print(id(a))\\n    a += 1\\n    print(a)\\n\\nmyfunction()',\n",
       "  'a = 4\\nprint(id(a))\\n\\ndef multiply_by_2():\\n    global a\\n    print(id(a))\\n    print(a)\\n    a+=1\\n    b = 2\\n    return a*b\\n\\nmultiply_by_2()',\n",
       "  'a = 4\\nprint(id(a))\\n\\ndef multiply_by_2():\\n    global a\\n    print(id(a), a)\\n    a+=1\\n    b = 2\\n    return a*b\\n\\nmultiply_by_2()',\n",
       "  'a = 4\\nprint(id(a))\\n\\ndef multiply_by_2():\\n    global a\\n    print(id(a), a)\\n    a+=1\\n    b = 2\\n    return a*b\\n\\nmultiply_by_2()',\n",
       "  'a = 4\\nprint(id(a))\\n\\ndef multiply_by_2():\\n    global a\\n    print(id(a), a)\\n    a+=1\\n    print(a)\\n    b = 2\\n    return a*b\\n\\nmultiply_by_2()',\n",
       "  'a = 4\\nprint(id(a))\\n\\ndef multiply_by_2():\\n    global a\\n    print(id(a), a)\\n    a+=1\\n    print(id(a), a)\\n    b = 2\\n    return a*b\\n\\nmultiply_by_2()',\n",
       "  'a, id(a)',\n",
       "  'a = 4\\nprint(id(a))\\n\\ndef multiply_by_2():\\n    global a\\n    print(id(a), a) # same object location\\n    a+=1\\n    print(id(a), a) # different because its an immutable\\n    b = 2\\n    return a*b\\n\\nmultiply_by_2()',\n",
       "  '# a is defined on the module level \\n# ...(imagining this markdown block is a .py file on its own)\\n# a is then a global variable (RELATIVE to this module)\\na = 4\\n# a is then reachable for any block within this one, which is the top-level \\n\\ndef multiply_by_2():\\n    # the function body is a block\\n    # b is bound to the object of value 2 within that block\\n    # b is then said a \"local variable\"\\n    b = 2\\n    # it is discoverable anywhere after this assignement\\n    # and inside any inner blocks may exist\\n    # a is not defined, but was in the nearest enclosing scope \\n    return a*b',\n",
       "  'multiply_by_2()',\n",
       "  '# a is defined on the module level \\n# ...(imagining this markdown block is a .py file on its own)\\n# a is then a global variable (RELATIVE to this module)\\na = 4\\n# a is then reachable for any block within this one, which is the top-level \\n\\ndef multiply_by_2():\\n    # the function body is a block\\n    # b is bound to the object of value 2 within that block\\n    # b is then said a \"local variable\"\\n    b = 2\\n    # it is discoverable anywhere after this assignement\\n    # and inside any inner blocks may exist\\n    # a is not defined, but was in the nearest enclosing scope\\n    # in a function, as highlighted in the FAQ, referenced variable are implicitly global\\n    return a*b',\n",
       "  'a = 4\\nprint(id(a))\\n\\ndef multiply_by_2():\\n    global a\\n    print(id(a), a) # same object location\\n    a+=1\\n    print(id(a), a) # different because it is an immutable\\n    b = 2\\n    return a*b\\n\\nmultiply_by_2()',\n",
       "  '# variable defined in a block\\na = 4\\n# in the same block, `a` is visible\\nprint(a)',\n",
       "  '# a is defined on the block module level\\n# ...(imagining this markdown code is a .py file on its own)\\n# a is then a global variable (RELATIVE to this module)\\na = 4\\n# a is then reachable for any block within this one, which is the top-level \\n\\ndef multiply_by_2():\\n    # the function body is a block\\n    # b is bound to the object of value 2 within that block\\n    # b is then said a \"local variable\"\\n    b = 2\\n    # it is discoverable anywhere after this assignement\\n    # and inside any inner blocks may exist\\n    # a is not defined, but was in the nearest enclosing scope\\n    # in a function, as highlighted in the FAQ, referenced variable are implicitly global\\n    return a*b',\n",
       "  'multiply_by_2()',\n",
       "  'a = 4\\n\\ndef multiply_by_2():\\n    print(a)\\n    a+=1\\n    b = 2\\n    return a*b\\n\\nmultiply_by_2()',\n",
       "  'namespaces are implemented as dictionaries',\n",
       "  'globals()',\n",
       "  '```globals()``` is a built-in function which returns the global namespace/context',\n",
       "  'globals()',\n",
       "  'globals()',\n",
       "  'globals().keys()',\n",
       "  'globals().keys().sample',\n",
       "  'globals().keys()[1:4]',\n",
       "  \"globals()['a']\",\n",
       "  \"globals()['a'] =37\",\n",
       "  'print(a)',\n",
       "  'locals()',\n",
       "  'locals() is globals()',\n",
       "  'def function():\\n    print( locals() is globals() ) \\n    print( locals() )',\n",
       "  'function()',\n",
       "  'def function():\\n    a = 2\\n    print( locals() is globals() ) \\n    print( locals() )',\n",
       "  'function()',\n",
       "  'def function():\\n    a = 2\\n    print( locals() is globals() ) \\n    print( locals() )',\n",
       "  'function()',\n",
       "  'def function():\\n    a = 2\\n    print( locals() is globals() ) \\n    print( locals() )\\n    print( globals()[\"a\"])',\n",
       "  'function()',\n",
       "  \"def function():\\n    a = 2\\n    print( locals() is globals() ) \\n    print( locals() )\\n    print( {k:v for k,v in globals() if k=='a')\",\n",
       "  \"def function():\\n    a = 2\\n    print( locals() is globals() ) \\n    print( locals() )\\n    print( {k:v for k,v in globals() if k=='a'})\",\n",
       "  'function()',\n",
       "  \"def function():\\n    a = 2\\n    print( locals() is globals() ) \\n    print( locals() )\\n    print( {k:v for k,v in globals().items() if k=='a'})\",\n",
       "  'function()',\n",
       "  'def function():\\n    a = 2\\n    print( \"is locals  same as globals? {}.\"format({locals() is globals()}) \\n    print( locals() )\\n    print( {k:v for k,v in globals().items() if k==\\'a\\'})',\n",
       "  'def function():\\n    a = 2\\n    print( \"is locals  same as globals? {}.\"format({locals() is globals()})) \\n    print( locals() )\\n    print( {k:v for k,v in globals().items() if k==\\'a\\'})',\n",
       "  'def function():\\n    a = 2\\n    print( \"is locals  same as globals? {}.\"format(locals() is globals())) \\n    print( locals() )\\n    print( {k:v for k,v in globals().items() if k==\\'a\\'})',\n",
       "  'def function():\\n    a = 2\\n    print( \"is locals  same as globals? {}\".format(locals() is globals())) \\n    print( locals() )\\n    print( {k:v for k,v in globals().items() if k==\\'a\\'})',\n",
       "  'function()',\n",
       "  'def function():\\n    a = 2\\n    print( \"Is locals  same as globals? {}\".format(locals() is globals())) \\n    print( \"locals dictionary\".format({locals()})\\n    print( {k:v for k,v in globals().items() if k==\\'a\\'})',\n",
       "  'def function():\\n    a = 2\\n    print( \"Is locals  same as globals? {}\".format(locals() is globals())) \\n    print( \"locals dictionary\".format(locals()))\\n    print( {k:v for k,v in globals().items() if k==\\'a\\'})',\n",
       "  'def function():\\n    a = 2\\n    print( \"Is locals  same as globals? {}\".format(locals() is globals())) \\n    print( \"locals dictionary\".format(locals()))\\n    print( \"what about name a in globals()\".format({k:v for k,v in globals().items() if k==\\'a\\'}))',\n",
       "  'function()',\n",
       "  'def function():\\n    a = 2\\n    print( \"Is locals  same as globals? {}\".format(locals() is globals())) \\n    print( \"locals dictionary {}\".format(locals()))\\n    print( \"what about name a in globals(){}\".format({k:v for k,v in globals().items() if k==\\'a\\'}))',\n",
       "  'function()',\n",
       "  'def function():\\n    a = 2\\n    print( \"Is locals  same as globals? {}\".format(locals() is globals())) \\n    print( \"Locals() dictionary {}\".format(locals()))\\n    print( \"What about name a in globals(){}\".format({k:v for k,v in globals().items() if k==\\'a\\'}))',\n",
       "  'function()',\n",
       "  'def function():\\n    a = 2\\n    print( \"Is locals  same as globals? {}\".format(locals() is globals())) \\n    print( \"Locals dictionary {}\".format(locals()))\\n    print( \"What about name a in globals(){}\".format({k:v for k,v in globals().items() if k==\\'a\\'}))',\n",
       "  'function()',\n",
       "  'def function():\\n    a = 2\\n    print( \"Is locals()  same as globals()? {}\".format(locals() is globals())) \\n    print( \"Locals dictionary {}\".format(locals()))\\n    print( \"What about name a in globals(){}\".format({k:v for k,v in globals().items() if k==\\'a\\'}))',\n",
       "  'function()',\n",
       "  'def function():\\n    a = 2\\n    print( \"Is locals()  same as globals()? {}\".format(locals() is globals())) \\n    print( \"Locals dictionary: {}\".format(locals()))\\n    print( \"What about name a in globals(): {}\".format({k:v for k,v in globals().items() if k==\\'a\\'}))',\n",
       "  'function()',\n",
       "  'liste = [1,3]\\ndef function(liste):\\n    liste2 = liste\\n    liste2 +=[\"a\"]\\n    ',\n",
       "  'liste = [1,3]\\ndef function(liste):\\n    liste2 = liste\\n    liste2 +=[\"a\"]\\nfunction()\\nliste',\n",
       "  'liste = [1,3]\\ndef function(liste):\\n    liste2 = liste\\n    liste2 +=[\"a\"]\\nfunction(lsite)\\nliste',\n",
       "  'liste = [1,3]\\ndef function(liste):\\n    liste2 = liste\\n    liste2 +=[\"a\"]\\nfunction(liste)\\nliste',\n",
       "  'liste = [1,3]\\ndef function(liste):\\n    liste2 = liste\\n    liste2 +=[\"a\"]\\nfunction(liste)\\nliste',\n",
       "  'liste = [1,3]',\n",
       "  'def function(liste):\\n    liste2 = liste\\n    liste2 +=[\"a\"]\\nfunction(liste)',\n",
       "  'def function(liste):\\n    liste2 = liste\\n    liste2 +=[\"a\"]\\nfunction(liste)',\n",
       "  'def function(liste):\\n    liste2 = liste\\n    liste2 +=[\"a\"]\\nfunction(liste)',\n",
       "  'def function(liste):\\n    liste2 = liste\\n    liste2 +=[\"a\"]\\nfunction(liste)',\n",
       "  'liste',\n",
       "  '> The important thing to know about namespaces is that there is absolutely no relation between names in different namespaces',\n",
       "  'def function:\\n    print(locals())\\n    def function2:\\n        b=2\\n    c=3\\n    print(locals())\\nfunction()',\n",
       "  'def function:\\n    print(locals())\\n    def function2:\\n        b=2\\n        print(\"inner function locals:\")\\n        print(locals())\\n    c=3\\n    print(locals())\\nfunction()',\n",
       "  'def function():\\n    print(locals())\\n    def function2():\\n        b=2\\n        print(\"inner function locals:\")\\n        print(locals())\\n    c=3\\n    print(locals())\\nfunction()',\n",
       "  'def function():\\n    print(\"outer function:{}\".format(locals()))\\n    def function2():\\n        b=2\\n        print(\"inner function locals:\")\\n        print(locals())\\n    c=3\\n    print(locals())\\nfunction()',\n",
       "  'def function():\\n    print(\"outer function locals:{}\".format(locals()))\\n    def function2():\\n        b=2\\n        print(\"inner function locals:\")\\n        print(locals())\\n    c=3\\n    print(locals())\\nfunction()',\n",
       "  'def function():\\n    print(\"outer function locals:{}\".format(locals()))\\n    def function2():\\n        b=2\\n        print(\"inner function locals:\".format(locals()))\\n    c=3\\n    print(\"outer function locals:{}\".format(locals()))\\nfunction()',\n",
       "  'def function():\\n    print(\"outer function locals:{}\".format(locals()))\\n    def function2():\\n        b=2\\n        print(\"inner function locals:\".format(locals()))\\n    c=3\\n    print(\"outer function locals:{}\".format(locals()))\\n    function2()\\n    print(\"outer function locals:{}\".format(locals()))\\nfunction()',\n",
       "  'def function():\\n    print(\"outer function locals:{}\".format(locals()))\\n    def function2():\\n        b=2\\n        print(\"inner function locals:\".format(locals()))\\n    c=3\\n    print(\"outer function locals:{}\".format(locals()))\\n    function2()\\n    print(\"outer function locals:{}\".format(locals()))\\nfunction()',\n",
       "  'def function():\\n    print(\"outer function locals:{}\".format(locals()))\\n    def function2():\\n        b=2\\n        print(\"inner function locals:\".format(locals()))\\n    c=3\\n    print(\"outer function locals:{}\".format(locals()))\\n    function2()\\n    print(\"outer function locals:{}\".format(locals()))\\nfunction()',\n",
       "  'def function():\\n    print(\"outer function locals:{}\".format(locals()))\\n    def function2():\\n        b=2\\n        print(\"inner function locals:\".format(locals()))\\n    c=3\\n    print(\"outer function locals:{}\".format(locals()))\\n    function2()\\n    print(\"outer function locals:{}\".format(locals()))\\nfunction()',\n",
       "  'def function():\\n    print(\"outer function locals:{}\".format(locals()))\\n    def function2():\\n        b=2\\n        print(\"inner function locals:\".format(locals()))\\n    c=3\\n    print(\"outer function locals:{}\".format(locals()))\\n    function2()\\n    print(\"outer function locals:{}\".format(locals()))\\nfunction()',\n",
       "  'def function():\\n    print(\"outer function locals:{}\".format(locals()))\\n    def function2():\\n        b=2\\n        print(\"inner function locals:\".format(locals()))\\n    c=3\\n    print(\"outer function locals:{}\".format(locals()))\\n    function2()\\n    print(\"outer function locals:{}\".format(locals()))\\nfunction()',\n",
       "  'def function():\\n    print(\"outer function locals:{}\".format(locals()))\\n    def function2():\\n        b=2\\n        print(\"inner function locals:\".format(locals()))\\n    c=3\\n    print(\"outer function locals:{}\".format(locals()))\\n    function2()\\n    print(\"outer function locals:{}\".format(locals()))\\nfunction()',\n",
       "  'def function():\\n    print(\"outer function locals:{}\".format(locals()))\\n    def function2():\\n        nonlocal c\\n        print(\"inner function locals:\".format(locals()))\\n    c=3\\n    print(\"outer function locals:{}\".format(locals()))\\n    function2()\\n    print(\"outer function locals:{}\".format(locals()))\\nfunction()',\n",
       "  'def function():\\n    print(\"outer function locals:{}\".format(locals()))\\n    def function2():\\n        nonlocal c\\n        c += 4\\n    c=3\\n    print(\"outer function locals:{}\".format(locals()))\\n    function2()\\n    print(\"outer function locals:{}\".format(locals()))\\nfunction()',\n",
       "  'def function():\\n    print(\"outer function locals:{}\".format(locals()))\\n    def function2():\\n        global c\\n        c += 4\\n    c=3\\n    print(\"outer function locals:{}\".format(locals()))\\n    function2()\\n    print(\"outer function locals:{}\".format(locals()))\\nfunction()',\n",
       "  'def function():\\n    print(\"outer function locals:{}\".format(locals()))\\n    def function2():\\n        nonlocal c\\n        c += 4\\n    c=3\\n    print(\"outer function locals:{}\".format(locals()))\\n    function2()\\n    print(\"outer function locals:{}\".format(locals()))\\nfunction()',\n",
       "  'def function():\\n    def function2():\\n        nonlocal c\\n        c += 4\\n    c=3\\n    print(\"outer function locals:{}\".format(locals()))\\n    function2()\\n    print(\"outer function locals:{}\".format(locals()))\\nfunction()',\n",
       "  'def function():\\n    #print(\"outer function locals:{}\".format(locals()))\\n    def function2():\\n        b=2\\n        print(\"inner function locals:\".format(locals()))\\n    c=3\\n    #print(\"outer function locals:{}\".format(locals()))\\n    function2()\\n    #print(\"outer function locals:{}\".format(locals()))\\nfunction()',\n",
       "  'def function():\\n    print(\"outer function locals:{}\".format(locals()))\\n    def function2():\\n        b=2\\n        print(\"inner function locals:\".format(locals()))\\n    c=3\\n    print(\"outer function locals:{}\".format(locals()))\\n    function2()\\n    print(\"outer function locals:{}\".format(locals()))\\nfunction()',\n",
       "  'def function():\\n    print(\"outer function locals:{}\".format(locals()))\\n    def function2():\\n        b=2\\n        print(c)\\n        print(\"inner function locals:\".format(locals()))\\n    c=3\\n    print(\"outer function locals:{}\".format(locals()))\\n    function2()\\n    print(\"outer function locals:{}\".format(locals()))\\nfunction()',\n",
       "  'def function():\\n    print(\"outer function locals:{}\".format(locals()))\\n    def function2():\\n        b=2\\n        print(c)\\n        print(\"inner function locals:\".format(locals()))\\n    c=3\\n    print(\"outer function locals:{}\".format(locals()))\\n    function2()\\n    print(\"outer function locals:{}\".format(locals()))\\nfunction()',\n",
       "  'def function():\\n    print(\"outer function locals:{}\".format(locals()))\\n    def function2():\\n        b=2\\n        print(\"inner function locals:\".format(locals()))\\n    c=3\\n    print(\"outer function locals:{}\".format(locals()))\\n    function2()\\n    print(\"outer function locals:{}\".format(locals()))\\nfunction()',\n",
       "  'class Test:\\n    i=12',\n",
       "  \"globals()['Test']\",\n",
       "  'Test.__dict__',\n",
       "  'Test.__dict__()',\n",
       "  'Test.__dict__()',\n",
       "  'Test.__dict__',\n",
       "  'def function():\\n    print(\"outer function locals:{}\".format(locals()))\\n    d=4\\n    def function2():\\n        b=2\\n        print(\"inner function locals:\".format(locals()))\\n    c=3\\n    print(\"outer function locals:{}\".format(locals()))\\n    function2()\\n    print(\"outer function locals:{}\".format(locals()))\\nfunction()',\n",
       "  'def function():\\n    print(\"outer function locals:{}\".format(locals()))\\n    d=4\\n    def function2():\\n        nonlocal d\\n        print(\"inner function locals:\".format(locals()))\\n    c=3\\n    print(\"outer function locals:{}\".format(locals()))\\n    function2()\\n    print(\"outer function locals:{}\".format(locals()))\\nfunction()',\n",
       "  'def function():\\n    print(\"outer function locals:{}\".format(locals()))\\n    d=4\\n    def function2():\\n        b=2\\n        print(\"inner function locals:\".format(locals().locals()))\\n    c=3\\n    print(\"outer function locals:{}\".format(locals()))\\n    function2()\\n    print(\"outer function locals:{}\".format(locals()))\\nfunction()',\n",
       "  'def function():\\n    print(\"outer function locals:{}\".format(locals()))\\n    d=4\\n    def function2():\\n        b=2\\n        print(\"inner function locals:\".format(locals(locals()))\\n    c=3\\n    print(\"outer function locals:{}\".format(locals()))\\n    function2()\\n    print(\"outer function locals:{}\".format(locals()))\\nfunction()',\n",
       "  'def function():\\n    print(\"outer function locals:{}\".format(locals()))\\n    d=4\\n    def function2():\\n        b=2\\n        print(\"inner function locals:\".format(locals(locals())))\\n    c=3\\n    print(\"outer function locals:{}\".format(locals()))\\n    function2()\\n    print(\"outer function locals:{}\".format(locals()))\\nfunction()',\n",
       "  'def function():\\n    print(\"outer function locals:{}\".format(locals()))\\n    d=4\\n    def function2():\\n        b=2\\n        print(\"inner function locals:\".format(locals()))\\n    c=3\\n    print(\"outer function locals:{}\".format(locals()))\\n    function2()\\n    print(\"outer function locals:{}\".format(locals()))\\nfunction()',\n",
       "  'def function():\\n    print(\"outer function locals:{}\".format(locals()))\\n    d=4\\n    def function2():\\n        b=2\\n        print(\"inner function locals:{}\".format(locals()))\\n    c=3\\n    print(\"outer function locals:{}\".format(locals()))\\n    function2()\\n    print(\"outer function locals:{}\".format(locals()))\\nfunction()',\n",
       "  'def function():\\n    print(\"outer function locals:{}\".format(locals()))\\n    d=4\\n    def function2():\\n        b=2\\n        print(\"inner function locals:{}\".format(locals()))\\n    c=3\\n    print(\"outer function locals:{}\".format(locals()))\\n    function2()\\n    print(\"outer function locals:{}\".format(locals()))\\nfunction()',\n",
       "  'def function():\\n    print(\"outer function locals:{}\".format(locals()))\\n    d=4\\n    def function2():\\n        b=2\\n        print(\"inner function locals:{}\".format(locals()))\\n        nonlocal d\\n    c=3\\n    print(\"outer function locals:{}\".format(locals()))\\n    function2()\\n    print(\"outer function locals:{}\".format(locals()))\\nfunction()',\n",
       "  'def function():\\n    print(\"outer function locals:{}\".format(locals()))\\n    d=4\\n    def function2():\\n        b=2\\n        print(\"inner function locals:{}\".format(locals()))\\n        global d\\n    c=3\\n    print(\"outer function locals:{}\".format(locals()))\\n    function2()\\n    print(\"outer function locals:{}\".format(locals()))\\nfunction()',\n",
       "  'def function():\\n    print(\"outer function locals:{}\".format(locals()))\\n    d=4\\n    def function2():\\n        b=2\\n        print(\"inner function locals:{}\".format(locals()))\\n        global d\\n    c=3\\n    print(\"outer function locals:{}\".format(locals()))\\n    function2()\\n    print(\"outer function locals:{}\".format(locals()))\\nfunction()',\n",
       "  'def function():\\n    print(\"outer function locals:{}\".format(locals()))\\n    d=4\\n    def function2():\\n        b=2\\n        print(\"inner function locals:{}\".format(locals()))\\n        global d\\n    c=3\\n    print(\"outer function locals:{}\".format(locals()))\\n    function2()\\n    print(\"outer function locals:{}\".format(locals()))\\nfunction()',\n",
       "  'def function():\\n    print(\"outer function locals:{}\".format(locals()))\\n    d=4\\n    def function2():\\n        b=2\\n        print(\"inner function locals:{}\".format(locals()))\\n        global a\\n    c=3\\n    print(\"outer function locals:{}\".format(locals()))\\n    function2()\\n    print(\"outer function locals:{}\".format(locals()))\\nfunction()',\n",
       "  'def function():\\n    print(\"outer function locals:{}\".format(locals()))\\n    d=4\\n    def function2():\\n        b=2\\n        print(\"inner function locals:{}\".format(locals()))\\n        nonlocal d\\n    c=3\\n    print(\"outer function locals:{}\".format(locals()))\\n    function2()\\n    print(\"outer function locals:{}\".format(locals()))\\nfunction()',\n",
       "  'a',\n",
       "  'def function():\\n    print(\"outer function locals:{}\".format(locals()))\\n    d=4\\n    def function2():\\n        b=2\\n        print(\"inner function locals:{}\".format(locals()))\\n        global a\\n    c=3\\n    print(\"outer function locals:{}\".format(locals()))\\n    function2()\\n    print(\"outer function locals:{}\".format(locals()))\\nfunction()',\n",
       "  'def function():\\n    print(\"outer function locals:{}\".format(locals()))\\n    d=4\\n    def function2():\\n        b=2\\n        print(\"inner function locals:{}\".format(locals()))\\n        nonlocal d\\n    c=3\\n    print(\"outer function locals:{}\".format(locals()))\\n    function2()\\n    print(\"outer function locals:{}\".format(locals()))\\nfunction()',\n",
       "  'def function():\\n    def function2():\\n        nonlocal c\\n        c += 4\\n    c=3\\n    print(\"outer function locals:{}\".format(locals()))\\n    function2()\\n    print(\"outer function locals:{}\".format(locals()))\\nfunction()',\n",
       "  'def function():\\n    print(\"outer function locals:{}\".format(locals()))\\n    d=4\\n    def function2():\\n        b=2\\n        print(\"inner function locals:{}\".format(locals()))\\n        nonlocal d\\n    c=3\\n    print(\"outer function locals:{}\".format(locals()))\\n    function2()\\n    print(\"outer function locals:{}\".format(locals()))\\nfunction()',\n",
       "  'def function():\\n    def function2():\\n        nonlocal c\\n        c += 4\\n    c=3\\n    print(\"outer function locals:{}\".format(locals()))\\n    function2()\\n    print(\"outer function locals:{}\".format(locals()))\\nfunction()',\n",
       "  'globals()',\n",
       "  \"globals()['__main__']\",\n",
       "  '__main__.a',\n",
       "  \"'__main__'.a\",\n",
       "  '__main__.a',\n",
       "  '__main__.a',\n",
       "  '__main',\n",
       "  '__main__',\n",
       "  'import __main__',\n",
       "  '__main__.a',\n",
       "  'import __main__\\n__main__.a',\n",
       "  'Sometimes, scope is also defined as the set of variables/names available at a certain point in the code execution',\n",
       "  'import regex',\n",
       "  'import selenium',\n",
       "  \"get_ipython().system('pip freeze')\",\n",
       "  'import Pygments',\n",
       "  \"get_ipython().system('pip freeze')\",\n",
       "  'import webencodings',\n",
       "  'globals()',\n",
       "  \"globals()['webencodings']\",\n",
       "  'del webencodings',\n",
       "  'import webencodings',\n",
       "  \"globals()['webencodings']\",\n",
       "  'del webencodings',\n",
       "  \"globals()['webencodings']\",\n",
       "  'del webencodings',\n",
       "  'del webencodings',\n",
       "  'del webencodings',\n",
       "  'import webencodings',\n",
       "  \"globals()['webencodings']\",\n",
       "  'del webencodings',\n",
       "  'import webencodings',\n",
       "  \"globals()['webencodings']\",\n",
       "  'del webencodings\\nfrom webencodings import ascii_lower',\n",
       "  \"globals()['webencodings']\",\n",
       "  \"globals()['ascii_lower']\",\n",
       "  \"get_ipython().system('git status')\",\n",
       "  \"get_ipython().system('echo $NALME')\",\n",
       "  \"get_ipython().system('echo $NAME')\",\n",
       "  'globals()'],\n",
       " 'Out': {11: 8,\n",
       "  15: 8,\n",
       "  19: 8,\n",
       "  23: 8,\n",
       "  29: <function __main__.multiply_by_2()>,\n",
       "  38: <function __main__.multiply_by_2()>,\n",
       "  42: 10,\n",
       "  45: 10,\n",
       "  46: 5,\n",
       "  47: 5,\n",
       "  48: 10,\n",
       "  49: 5,\n",
       "  50: (5, 4465474112),\n",
       "  51: 10,\n",
       "  52: (5, 4465474112),\n",
       "  53: 8,\n",
       "  54: (4, 4465474080),\n",
       "  55: 8,\n",
       "  56: (4, 4465474080),\n",
       "  57: 10,\n",
       "  58: 10,\n",
       "  61: 4465474112,\n",
       "  72: 4465474272,\n",
       "  75: 4465474304,\n",
       "  77: 4465474336,\n",
       "  79: 10,\n",
       "  80: 10,\n",
       "  82: 10,\n",
       "  83: 10,\n",
       "  84: 10,\n",
       "  85: 10,\n",
       "  86: 10,\n",
       "  87: (5, 4465474112),\n",
       "  88: 10,\n",
       "  90: 8,\n",
       "  92: 10,\n",
       "  95: 8,\n",
       "  98: {...},\n",
       "  100: {...},\n",
       "  101: {...},\n",
       "  102: dict_keys(['__name__', '__doc__', '__package__', '__loader__', '__spec__', '__builtin__', '__builtins__', '_ih', '_oh', '_dh', 'In', 'Out', 'get_ipython', 'exit', 'quit', '_', '__', '___', '_i', '_ii', '_iii', '_i1', '_i2', 'multiply_by_2', '_i3', 'a', '_i4', '_i5', '_i6', '_i7', '_i8', '_i9', '_i10', '_i11', '_11', '_i12', '_i13', 'x', 'foo', '_i14', '_i15', '_15', '_i16', '_i17', '_i18', '_i19', '_19', '_i20', '_i21', '_i22', '_i23', '_23', '_i24', '_i25', '_i26', '_i27', '_i28', '_i29', '_29', '_i30', '_i31', '_i32', '_i33', '_i34', '_i35', '_i36', '_i37', '_i38', '_38', '_i39', '_i40', '_i41', '_i42', '_42', '_i43', '_i44', '_i45', 'b', '_45', '_i46', '_46', '_i47', '_47', '_i48', '_48', '_i49', '_49', '_i50', '_50', '_i51', '_51', '_i52', '_52', '_i53', '_53', '_i54', '_54', '_i55', '_55', '_i56', '_56', '_i57', '_57', '_i58', '_58', '_i59', 'myfunction', '_i60', '_i61', '_61', '_i62', '_i63', '_i64', '_i65', '_i66', '_i67', '_i68', '_i69', '_i70', '_i71', '_i72', '_72', '_i73', '_i74', '_i75', '_75', '_i76', '_i77', '_77', '_i78', '_i79', '_79', '_i80', '_80', '_i81', '_i82', '_82', '_i83', '_83', '_i84', '_84', '_i85', '_85', '_i86', '_86', '_i87', '_87', '_i88', '_88', '_i89', '_i90', '_90', '_i91', '_i92', '_92', '_i93', '_i94', '_i95', '_95', '_i96', '_i97', '_i98', '_98', '_i99', '_i100', '_100', '_i101', '_101', '_i102', '_102', '_i103', '_i104', '_i105', '_105', '_i106', '_i107', '_i108', '_108', '_i109', '_109', '_i110', 'function', '_i111', '_i112', '_i113', '_i114', '_i115', '_i116', '_i117', '_i118', '_i119', '_i120', '_i121', '_i122', '_i123', '_i124', '_i125', '_i126', '_i127', '_i128', '_i129', '_i130', '_i131', '_i132', '_i133', '_i134', '_i135', '_i136', '_i137', '_i138', '_i139', '_i140', '_i141', '_i142', 'liste', '_i143', '_i144', '_i145', '_145', '_i146', '_146', '_i147', '_i148', '_i149', '_i150', '_i151', '_i152', '_152', '_i153', '_i154', '_i155', '_i156', '_i157', '_i158', '_i159', '_i160', '_i161', '_i162', '_i163', '_i164', '_i165', '_i166', '_i167', '_i168', '_i169', '_i170', '_i171', '_i172', '_i173', '_i174', '_i175', '_i176', '_i177', 'Test', '_i178', '_178', '_i179', '_179', '_i180', '_i181', '_i182', '_182', '_i183', '_i184', '_i185', '_i186', '_i187', '_i188', '_i189', '_i190', '_i191', '_i192', '_i193', '_i194', '_i195', '_i196', '_i197', '_197', '_i198', '_i199', '_i200', '_i201', '_i202', '_i203', '_203', '_i204', '_i205', '_i206', '_i207', '_i208', '_i209', '_i210', '_i211', '__main__', '_i212', '_212', '_i213', '_213', '_i214', '_i215', '_i216', '_i217', '_exit_code', '_i218', '_i219', '_i220', '_i221', '_221', '_i222', '_222', '_i223', '_i224', '_i225', '_225', '_i226', '_i227', '_i228', '_i229', '_i230', '_i231', '_i232', '_232', '_i233', '_i234', '_i235', '_235', '_i236', 'ascii_lower', '_i237', '_i238', '_238', '_i239', '_i240', '_i241', '_i242']),\n",
       "  105: 4,\n",
       "  108: {...},\n",
       "  109: True,\n",
       "  145: [1, 3, 'a'],\n",
       "  146: [1, 3, 'a'],\n",
       "  152: [1, 3, 'a', 'a', 'a', 'a'],\n",
       "  178: __main__.Test,\n",
       "  179: mappingproxy({'__module__': '__main__',\n",
       "                'i': 12,\n",
       "                '__dict__': <attribute '__dict__' of 'Test' objects>,\n",
       "                '__weakref__': <attribute '__weakref__' of 'Test' objects>,\n",
       "                '__doc__': None}),\n",
       "  182: mappingproxy({'__module__': '__main__',\n",
       "                'i': 12,\n",
       "                '__dict__': <attribute '__dict__' of 'Test' objects>,\n",
       "                '__weakref__': <attribute '__weakref__' of 'Test' objects>,\n",
       "                '__doc__': None}),\n",
       "  197: 37,\n",
       "  203: {...},\n",
       "  212: 37,\n",
       "  213: 37,\n",
       "  221: {...},\n",
       "  222: <module 'webencodings' from '/Users/lucbertin/.pyenv/versions/3.8.4/lib/python3.8/site-packages/webencodings/__init__.py'>,\n",
       "  225: <module 'webencodings' from '/Users/lucbertin/.pyenv/versions/3.8.4/lib/python3.8/site-packages/webencodings/__init__.py'>,\n",
       "  232: <module 'webencodings' from '/Users/lucbertin/.pyenv/versions/3.8.4/lib/python3.8/site-packages/webencodings/__init__.py'>,\n",
       "  235: <module 'webencodings' from '/Users/lucbertin/.pyenv/versions/3.8.4/lib/python3.8/site-packages/webencodings/__init__.py'>,\n",
       "  238: <function webencodings.ascii_lower(string)>},\n",
       " 'get_ipython': <bound method InteractiveShell.get_ipython of <ipykernel.zmqshell.ZMQInteractiveShell object at 0x10c106ee0>>,\n",
       " 'exit': <IPython.core.autocall.ZMQExitAutocall at 0x10c148f10>,\n",
       " 'quit': <IPython.core.autocall.ZMQExitAutocall at 0x10c148f10>,\n",
       " '_': <function webencodings.ascii_lower(string)>,\n",
       " '__': <module 'webencodings' from '/Users/lucbertin/.pyenv/versions/3.8.4/lib/python3.8/site-packages/webencodings/__init__.py'>,\n",
       " '___': <module 'webencodings' from '/Users/lucbertin/.pyenv/versions/3.8.4/lib/python3.8/site-packages/webencodings/__init__.py'>,\n",
       " '_i': '!echo $NAME',\n",
       " '_ii': '!echo $NALME',\n",
       " '_iii': '!git status',\n",
       " '_i1': 'we already saw what are names/variables = pointers refering to an object location, hence being bound to it doing so.\\n\\nBut this binding does occur differently based on which block it was run.',\n",
       " '_i2': 'def multiply_by_2(a):\\n    b = 2\\n    return a*b',\n",
       " 'multiply_by_2': <function __main__.multiply_by_2()>,\n",
       " '_i3': '# a is defined on the module level\\na = 4\\n\\ndef multiply_by_2(a):\\n    # the function body is a block\\n    # b is bound to the object of value 2 within that block\\n    # b is then said a \"local variable\"\\n    b = 2\\n    # a is not defined \\n    return a*b + c',\n",
       " 'a': 37,\n",
       " '_i4': 'multiply_by_2(a)',\n",
       " '_i5': 'multiply_by_2(Z)',\n",
       " '_i6': '# a is defined on the module level\\na = 4\\n# a is then reachable for any block within this one.z\\n\\ndef multiply_by_2():\\n    # the function body is a block\\n    # b is bound to the object of value 2 within that block\\n    # b is then said a \"local variable\"\\n    b = 2\\n    # a is not defined \\n    return a*b + c',\n",
       " '_i7': '# a is defined on the module level\\na = 4\\n# a is then reachable for any block within this one.z\\n\\ndef multiply_by_2():\\n    # the function body is a block\\n    # b is bound to the object of value 2 within that block\\n    # b is then said a \"local variable\"\\n    b = 2\\n    # a is not defined \\n    return a*b + c',\n",
       " '_i8': 'multiply_by_2(a)',\n",
       " '_i9': 'multiply_by_2()',\n",
       " '_i10': '# a is defined on the module level\\na = 4\\n# a is then reachable for any block within this one.z\\n\\ndef multiply_by_2():\\n    # the function body is a block\\n    # b is bound to the object of value 2 within that block\\n    # b is then said a \"local variable\"\\n    b = 2\\n    # a is not defined \\n    return a*b',\n",
       " '_i11': 'multiply_by_2()',\n",
       " '_11': 8,\n",
       " '_i12': 'x = 10\\ndef foo():\\n    x += 1\\n    print x\\nfoo()',\n",
       " '_i13': 'x = 10\\ndef foo():\\n    x += 1\\n    print(x)\\nfoo()',\n",
       " 'x': 10,\n",
       " 'foo': <function __main__.foo()>,\n",
       " '_i14': '# a is defined on the module level\\na = 4\\n# a is then reachable for any block within this one.z\\n\\ndef multiply_by_2():\\n    # the function body is a block\\n    # b is bound to the object of value 2 within that block\\n    # b is then said a \"local variable\"\\n    b = 2\\n    # a is not defined \\n    return a*b',\n",
       " '_i15': 'multiply_by_2()',\n",
       " '_15': 8,\n",
       " '_i16': 'def une(a);',\n",
       " '_i17': '# a is defined on the module level (imagining this markdown is a .py file on his own)\\na = 4\\n# a is then reachable for any block within this one.z\\n\\ndef multiply_by_2():\\n    # the function body is a block\\n    # b is bound to the object of value 2 within that block\\n    # b is then said a \"local variable\"\\n    b = 2\\n    # a is not defined, but was in the nearest enclosing scope \\n    return a*b',\n",
       " '_i18': '# a is defined on the module level \\n# ...(imagining this markdown is a .py file on his own)\\n# a is then a global variable (viewed from this module)\\na = 4\\n# a is then reachable for any block within this one, which is the top-level \\n\\ndef multiply_by_2():\\n    # the function body is a block\\n    # b is bound to the object of value 2 within that block\\n    # b is then said a \"local variable\"\\n    b = 2\\n    # it is discoverable anywhere after this assignement\\n    # and inside any inner blocks may exist\\n    # a is not defined, but was in the nearest enclosing scope \\n    return a*b',\n",
       " '_i19': 'multiply_by_2()',\n",
       " '_19': 8,\n",
       " '_i20': '> https://docs.python.org/3/faq/programming.html#why-am-i-getting-an-unboundlocalerror-when-the-variable-has-a-value',\n",
       " '_i21': '# a is defined on the module level \\n# ...(imagining this markdown block is a .py file on his own)\\n# a is then a global variable (viewed from this module)\\na = 4\\n# a is then reachable for any block within this one, which is the top-level \\n\\ndef multiply_by_2():\\n    # the function body is a block\\n    # b is bound to the object of value 2 within that block\\n    # b is then said a \"local variable\"\\n    b = 2\\n    # it is discoverable anywhere after this assignement\\n    # and inside any inner blocks may exist\\n    # a is not defined, but was in the nearest enclosing scope \\n    return a*b',\n",
       " '_i22': '# a is defined on the module level \\n# ...(imagining this markdown block is a .py file on its own)\\n# a is then a global variable (viewed from this module)\\na = 4\\n# a is then reachable for any block within this one, which is the top-level \\n\\ndef multiply_by_2():\\n    # the function body is a block\\n    # b is bound to the object of value 2 within that block\\n    # b is then said a \"local variable\"\\n    b = 2\\n    # it is discoverable anywhere after this assignement\\n    # and inside any inner blocks may exist\\n    # a is not defined, but was in the nearest enclosing scope \\n    return a*b',\n",
       " '_i23': 'multiply_by_2()',\n",
       " '_23': 8,\n",
       " '_i24': 'a = 4\\ndef multiply_by_2():\\n    a+=1\\n    b = 2\\n    return a*b',\n",
       " '_i25': 'a = 4\\ndef multiply_by_2():\\n    print(a)\\n    b = 2\\n    a+=1\\n    return a*b',\n",
       " '_i26': 'a = 4\\ndef multiply_by_2():\\n    print(a)\\n    b = 2\\n    a+=1\\n    return a*b',\n",
       " '_i27': 'a = 4\\ndef multiply_by_2():\\n    print(a)\\n    a+=1',\n",
       " '_i28': 'a = 4\\ndef multiply_by_2():\\n    print(a)\\n    b = 2\\n    a+=1\\n    return a*b',\n",
       " '_i29': 'a = 4\\ndef multiply_by_2():\\n    print(a)\\n    b = 2\\n    a+=1\\n    return a*b\\nmultiply_by_2',\n",
       " '_29': <function __main__.multiply_by_2()>,\n",
       " '_i30': 'a = 4\\ndef multiply_by_2():\\n    print(a)\\n    b = 2\\n    a+=1\\n    return a*b\\nmultiply_by_2()',\n",
       " '_i31': 'a = 4\\ndef multiply_by_2():\\n    \\n    b = 2\\n    a+=1\\n    print(a)\\n    return a*b\\nmultiply_by_2()',\n",
       " '_i32': 'a = 4\\ndef multiply_by_2():\\n    print(a)\\n    b = 2\\n    a+=1\\n    return a*b\\nmultiply_by_2()',\n",
       " '_i33': 'a = 4\\n\\ndef multiply_by_2():\\n    print(a)\\n    b = 2\\n    a+=1\\n    return a*b\\n\\nmultiply_by_2()',\n",
       " '_i34': 'https://docs.python.org/3/faq/programming.html#why-am-i-getting-an-unboundlocalerror-when-the-variable-has-a-value',\n",
       " '_i35': 'a = 4\\n\\ndef multiply_by_2():\\n    print(a)\\n    a+=1\\n    b = 2\\n    return a*b\\n\\nmultiply_by_2()',\n",
       " '_i36': 'a = 4\\n\\ndef multiply_by_2():\\n    return a*c',\n",
       " '_i37': 'try:\\n    multiply_by_2()\\nexcept Exception as e:\\n    print(e)',\n",
       " '_i38': 'multiply_by_2',\n",
       " '_38': <function __main__.multiply_by_2()>,\n",
       " '_i39': 'multiply_by_2()',\n",
       " '_i40': '    > same explanation in different words from the docs:\\n        \"all uses of the name within the block are treated as references to the current block\"',\n",
       " '_i41': 'a = 4\\n\\ndef multiply_by_2():\\n    global(a)\\n    print(a)\\n    a+=1\\n    b = 2\\n    return a*b\\n\\nmultiply_by_2()',\n",
       " '_i42': 'a = 4\\n\\ndef multiply_by_2():\\n    global a\\n    print(a)\\n    a+=1\\n    b = 2\\n    return a*b\\n\\nmultiply_by_2()',\n",
       " '_42': 10,\n",
       " '_i43': 'def multiply_by_2():\\n    global b\\n    print(a)\\n    a+=1\\n    b = 2\\n    return a*b\\n\\nmultiply_by_2()',\n",
       " '_i44': 'def multiply_by_2():\\n    \\n    print(a)\\n    a+=1\\n    global a\\n    b = 2\\n    return a*b\\n\\nmultiply_by_2()',\n",
       " '_i45': 'def multiply_by_2():\\n    global b\\n    b = 2\\n    return a*b\\n\\nmultiply_by_2()',\n",
       " 'b': 2,\n",
       " '_45': 10,\n",
       " '_i46': 'a',\n",
       " '_46': 5,\n",
       " '_i47': 'a',\n",
       " '_47': 5,\n",
       " '_i48': 'a = 4\\n\\ndef multiply_by_2():\\n    global a\\n    print(id(a))\\n    print(a)\\n    a+=1\\n    b = 2\\n    return a*b\\n\\nmultiply_by_2()',\n",
       " '_48': 10,\n",
       " '_i49': 'a',\n",
       " '_49': 5,\n",
       " '_i50': 'a, id(a)',\n",
       " '_50': (5, 4465474112),\n",
       " '_i51': 'a = 4\\n\\ndef multiply_by_2():\\n    global a\\n    print(id(a))\\n    print(a)\\n    a+=1\\n    b = 2\\n    return a*b\\n\\nmultiply_by_2()',\n",
       " '_51': 10,\n",
       " '_i52': 'a, id(a)',\n",
       " '_52': (5, 4465474112),\n",
       " '_i53': 'a = 4\\n\\ndef multiply_by_2():\\n    global a\\n    print(id(a))\\n    print(a)\\n    #a+=1\\n    b = 2\\n    return a*b\\n\\nmultiply_by_2()',\n",
       " '_53': 8,\n",
       " '_i54': 'a, id(a)',\n",
       " '_54': (4, 4465474080),\n",
       " '_i55': 'a = 4\\n\\ndef multiply_by_2():\\n    global a\\n    print(id(a))\\n    print(a)\\n    #a+=1\\n    b = 2\\n    return a*b\\n\\nmultiply_by_2()',\n",
       " '_55': 8,\n",
       " '_i56': 'a, id(a)',\n",
       " '_56': (4, 4465474080),\n",
       " '_i57': 'a = 4\\n\\ndef multiply_by_2():\\n    global a\\n    print(id(a))\\n    print(a)\\n    a+=1\\n    b = 2\\n    return a*b\\n\\nmultiply_by_2()',\n",
       " '_57': 10,\n",
       " '_i58': 'a = 4\\n\\ndef multiply_by_2():\\n    global a\\n    print(id(a))\\n    print(a)\\n    a+=1\\n    b = 2\\n    return a*b\\n\\nmultiply_by_2()',\n",
       " '_58': 10,\n",
       " '_i59': 'def myfunction():\\n    global a\\n    print(id(a))\\n    print(a)\\n\\nmyfunction()',\n",
       " 'myfunction': <function __main__.myfunction()>,\n",
       " '_i60': 'def myfunction():\\n    global a\\n    print(id(a))\\n    print(a)\\n\\nmyfunction()',\n",
       " '_i61': 'id(a)',\n",
       " '_61': 4465474112,\n",
       " '_i62': 'def myfunction():\\n    global a\\n    print(id(a))\\n    print(a)\\n\\nmyfunction()',\n",
       " '_i63': 'def myfunction():\\n    global a\\n    print(id(a))\\n    a += 1\\n    print(a)\\n\\nmyfunction()',\n",
       " '_i64': 'def myfunction():\\n    global a\\n    print(id(a))\\n    print(a)\\n\\nmyfunction()',\n",
       " '_i65': 'def myfunction():\\n    global a\\n    print(id(a))\\n    a += 1\\n    print(a)\\n\\nmyfunction()',\n",
       " '_i66': 'def myfunction():\\n    global a\\n    print(id(a))\\n    print(a)\\n\\nmyfunction()',\n",
       " '_i67': 'def myfunction():\\n    global a\\n    print(id(a))\\n    a += 1\\n    print(a)\\n\\nmyfunction()',\n",
       " '_i68': 'def myfunction():\\n    global a\\n    print(id(a))\\n    print(a)\\n\\nmyfunction()',\n",
       " '_i69': 'def myfunction():\\n    global a\\n    print(id(a))\\n    a += 1\\n    print(a)\\n\\nmyfunction()',\n",
       " '_i70': 'def myfunction():\\n    global a\\n    print(id(a))\\n    print(a)\\n\\nmyfunction()',\n",
       " '_i71': 'def myfunction():\\n    global a\\n    print(id(a))\\n    a += 1\\n    print(a)\\n\\nmyfunction()',\n",
       " '_i72': 'id(a)',\n",
       " '_72': 4465474272,\n",
       " '_i73': 'def myfunction():\\n    global a\\n    print(id(a))\\n    print(a)\\n\\nmyfunction()',\n",
       " '_i74': 'def myfunction():\\n    global a\\n    print(id(a))\\n    a += 1\\n    print(a)\\n\\nmyfunction()',\n",
       " '_i75': 'id(a)',\n",
       " '_75': 4465474304,\n",
       " '_i76': 'def myfunction():\\n    global a\\n    print(id(a))\\n    a += 1\\n    print(a)\\n\\nmyfunction()',\n",
       " '_i77': 'id(a)',\n",
       " '_77': 4465474336,\n",
       " '_i78': 'def myfunction():\\n    global a\\n    print(id(a))\\n    a += 1\\n    print(a)\\n\\nmyfunction()',\n",
       " '_i79': 'a = 4\\n\\ndef multiply_by_2():\\n    global a\\n    print(id(a))\\n    print(a)\\n    a+=1\\n    b = 2\\n    return a*b\\n\\nmultiply_by_2()',\n",
       " '_79': 10,\n",
       " '_i80': 'a = 4\\nprint(id(a))\\n\\ndef multiply_by_2():\\n    global a\\n    print(id(a))\\n    print(a)\\n    a+=1\\n    b = 2\\n    return a*b\\n\\nmultiply_by_2()',\n",
       " '_80': 10,\n",
       " '_i81': 'def myfunction():\\n    global a\\n    print(id(a))\\n    a += 1\\n    print(a)\\n\\nmyfunction()',\n",
       " '_i82': 'a = 4\\nprint(id(a))\\n\\ndef multiply_by_2():\\n    global a\\n    print(id(a))\\n    print(a)\\n    a+=1\\n    b = 2\\n    return a*b\\n\\nmultiply_by_2()',\n",
       " '_82': 10,\n",
       " '_i83': 'a = 4\\nprint(id(a))\\n\\ndef multiply_by_2():\\n    global a\\n    print(id(a), a)\\n    a+=1\\n    b = 2\\n    return a*b\\n\\nmultiply_by_2()',\n",
       " '_83': 10,\n",
       " '_i84': 'a = 4\\nprint(id(a))\\n\\ndef multiply_by_2():\\n    global a\\n    print(id(a), a)\\n    a+=1\\n    b = 2\\n    return a*b\\n\\nmultiply_by_2()',\n",
       " '_84': 10,\n",
       " '_i85': 'a = 4\\nprint(id(a))\\n\\ndef multiply_by_2():\\n    global a\\n    print(id(a), a)\\n    a+=1\\n    print(a)\\n    b = 2\\n    return a*b\\n\\nmultiply_by_2()',\n",
       " '_85': 10,\n",
       " '_i86': 'a = 4\\nprint(id(a))\\n\\ndef multiply_by_2():\\n    global a\\n    print(id(a), a)\\n    a+=1\\n    print(id(a), a)\\n    b = 2\\n    return a*b\\n\\nmultiply_by_2()',\n",
       " '_86': 10,\n",
       " '_i87': 'a, id(a)',\n",
       " '_87': (5, 4465474112),\n",
       " '_i88': 'a = 4\\nprint(id(a))\\n\\ndef multiply_by_2():\\n    global a\\n    print(id(a), a) # same object location\\n    a+=1\\n    print(id(a), a) # different because its an immutable\\n    b = 2\\n    return a*b\\n\\nmultiply_by_2()',\n",
       " '_88': 10,\n",
       " '_i89': '# a is defined on the module level \\n# ...(imagining this markdown block is a .py file on its own)\\n# a is then a global variable (RELATIVE to this module)\\na = 4\\n# a is then reachable for any block within this one, which is the top-level \\n\\ndef multiply_by_2():\\n    # the function body is a block\\n    # b is bound to the object of value 2 within that block\\n    # b is then said a \"local variable\"\\n    b = 2\\n    # it is discoverable anywhere after this assignement\\n    # and inside any inner blocks may exist\\n    # a is not defined, but was in the nearest enclosing scope \\n    return a*b',\n",
       " '_i90': 'multiply_by_2()',\n",
       " '_90': 8,\n",
       " '_i91': '# a is defined on the module level \\n# ...(imagining this markdown block is a .py file on its own)\\n# a is then a global variable (RELATIVE to this module)\\na = 4\\n# a is then reachable for any block within this one, which is the top-level \\n\\ndef multiply_by_2():\\n    # the function body is a block\\n    # b is bound to the object of value 2 within that block\\n    # b is then said a \"local variable\"\\n    b = 2\\n    # it is discoverable anywhere after this assignement\\n    # and inside any inner blocks may exist\\n    # a is not defined, but was in the nearest enclosing scope\\n    # in a function, as highlighted in the FAQ, referenced variable are implicitly global\\n    return a*b',\n",
       " '_i92': 'a = 4\\nprint(id(a))\\n\\ndef multiply_by_2():\\n    global a\\n    print(id(a), a) # same object location\\n    a+=1\\n    print(id(a), a) # different because it is an immutable\\n    b = 2\\n    return a*b\\n\\nmultiply_by_2()',\n",
       " '_92': 10,\n",
       " '_i93': '# variable defined in a block\\na = 4\\n# in the same block, `a` is visible\\nprint(a)',\n",
       " '_i94': '# a is defined on the block module level\\n# ...(imagining this markdown code is a .py file on its own)\\n# a is then a global variable (RELATIVE to this module)\\na = 4\\n# a is then reachable for any block within this one, which is the top-level \\n\\ndef multiply_by_2():\\n    # the function body is a block\\n    # b is bound to the object of value 2 within that block\\n    # b is then said a \"local variable\"\\n    b = 2\\n    # it is discoverable anywhere after this assignement\\n    # and inside any inner blocks may exist\\n    # a is not defined, but was in the nearest enclosing scope\\n    # in a function, as highlighted in the FAQ, referenced variable are implicitly global\\n    return a*b',\n",
       " '_i95': 'multiply_by_2()',\n",
       " '_95': 8,\n",
       " '_i96': 'a = 4\\n\\ndef multiply_by_2():\\n    print(a)\\n    a+=1\\n    b = 2\\n    return a*b\\n\\nmultiply_by_2()',\n",
       " '_i97': 'namespaces are implemented as dictionaries',\n",
       " '_i98': 'globals()',\n",
       " '_98': {...},\n",
       " '_i99': '```globals()``` is a built-in function which returns the global namespace/context',\n",
       " '_i100': 'globals()',\n",
       " '_100': {...},\n",
       " '_i101': 'globals()',\n",
       " '_101': {...},\n",
       " '_i102': 'globals().keys()',\n",
       " '_102': dict_keys(['__name__', '__doc__', '__package__', '__loader__', '__spec__', '__builtin__', '__builtins__', '_ih', '_oh', '_dh', 'In', 'Out', 'get_ipython', 'exit', 'quit', '_', '__', '___', '_i', '_ii', '_iii', '_i1', '_i2', 'multiply_by_2', '_i3', 'a', '_i4', '_i5', '_i6', '_i7', '_i8', '_i9', '_i10', '_i11', '_11', '_i12', '_i13', 'x', 'foo', '_i14', '_i15', '_15', '_i16', '_i17', '_i18', '_i19', '_19', '_i20', '_i21', '_i22', '_i23', '_23', '_i24', '_i25', '_i26', '_i27', '_i28', '_i29', '_29', '_i30', '_i31', '_i32', '_i33', '_i34', '_i35', '_i36', '_i37', '_i38', '_38', '_i39', '_i40', '_i41', '_i42', '_42', '_i43', '_i44', '_i45', 'b', '_45', '_i46', '_46', '_i47', '_47', '_i48', '_48', '_i49', '_49', '_i50', '_50', '_i51', '_51', '_i52', '_52', '_i53', '_53', '_i54', '_54', '_i55', '_55', '_i56', '_56', '_i57', '_57', '_i58', '_58', '_i59', 'myfunction', '_i60', '_i61', '_61', '_i62', '_i63', '_i64', '_i65', '_i66', '_i67', '_i68', '_i69', '_i70', '_i71', '_i72', '_72', '_i73', '_i74', '_i75', '_75', '_i76', '_i77', '_77', '_i78', '_i79', '_79', '_i80', '_80', '_i81', '_i82', '_82', '_i83', '_83', '_i84', '_84', '_i85', '_85', '_i86', '_86', '_i87', '_87', '_i88', '_88', '_i89', '_i90', '_90', '_i91', '_i92', '_92', '_i93', '_i94', '_i95', '_95', '_i96', '_i97', '_i98', '_98', '_i99', '_i100', '_100', '_i101', '_101', '_i102', '_102', '_i103', '_i104', '_i105', '_105', '_i106', '_i107', '_i108', '_108', '_i109', '_109', '_i110', 'function', '_i111', '_i112', '_i113', '_i114', '_i115', '_i116', '_i117', '_i118', '_i119', '_i120', '_i121', '_i122', '_i123', '_i124', '_i125', '_i126', '_i127', '_i128', '_i129', '_i130', '_i131', '_i132', '_i133', '_i134', '_i135', '_i136', '_i137', '_i138', '_i139', '_i140', '_i141', '_i142', 'liste', '_i143', '_i144', '_i145', '_145', '_i146', '_146', '_i147', '_i148', '_i149', '_i150', '_i151', '_i152', '_152', '_i153', '_i154', '_i155', '_i156', '_i157', '_i158', '_i159', '_i160', '_i161', '_i162', '_i163', '_i164', '_i165', '_i166', '_i167', '_i168', '_i169', '_i170', '_i171', '_i172', '_i173', '_i174', '_i175', '_i176', '_i177', 'Test', '_i178', '_178', '_i179', '_179', '_i180', '_i181', '_i182', '_182', '_i183', '_i184', '_i185', '_i186', '_i187', '_i188', '_i189', '_i190', '_i191', '_i192', '_i193', '_i194', '_i195', '_i196', '_i197', '_197', '_i198', '_i199', '_i200', '_i201', '_i202', '_i203', '_203', '_i204', '_i205', '_i206', '_i207', '_i208', '_i209', '_i210', '_i211', '__main__', '_i212', '_212', '_i213', '_213', '_i214', '_i215', '_i216', '_i217', '_exit_code', '_i218', '_i219', '_i220', '_i221', '_221', '_i222', '_222', '_i223', '_i224', '_i225', '_225', '_i226', '_i227', '_i228', '_i229', '_i230', '_i231', '_i232', '_232', '_i233', '_i234', '_i235', '_235', '_i236', 'ascii_lower', '_i237', '_i238', '_238', '_i239', '_i240', '_i241', '_i242']),\n",
       " '_i103': 'globals().keys().sample',\n",
       " '_i104': 'globals().keys()[1:4]',\n",
       " '_i105': \"globals()['a']\",\n",
       " '_105': 4,\n",
       " '_i106': \"globals()['a'] =37\",\n",
       " '_i107': 'print(a)',\n",
       " '_i108': 'locals()',\n",
       " '_108': {...},\n",
       " '_i109': 'locals() is globals()',\n",
       " '_109': True,\n",
       " '_i110': 'def function():\\n    print( locals() is globals() ) \\n    print( locals() )',\n",
       " 'function': <function __main__.function()>,\n",
       " '_i111': 'function()',\n",
       " '_i112': 'def function():\\n    a = 2\\n    print( locals() is globals() ) \\n    print( locals() )',\n",
       " '_i113': 'function()',\n",
       " '_i114': 'def function():\\n    a = 2\\n    print( locals() is globals() ) \\n    print( locals() )',\n",
       " '_i115': 'function()',\n",
       " '_i116': 'def function():\\n    a = 2\\n    print( locals() is globals() ) \\n    print( locals() )\\n    print( globals()[\"a\"])',\n",
       " '_i117': 'function()',\n",
       " '_i118': \"def function():\\n    a = 2\\n    print( locals() is globals() ) \\n    print( locals() )\\n    print( {k:v for k,v in globals() if k=='a')\",\n",
       " '_i119': \"def function():\\n    a = 2\\n    print( locals() is globals() ) \\n    print( locals() )\\n    print( {k:v for k,v in globals() if k=='a'})\",\n",
       " '_i120': 'function()',\n",
       " '_i121': \"def function():\\n    a = 2\\n    print( locals() is globals() ) \\n    print( locals() )\\n    print( {k:v for k,v in globals().items() if k=='a'})\",\n",
       " '_i122': 'function()',\n",
       " '_i123': 'def function():\\n    a = 2\\n    print( \"is locals  same as globals? {}.\"format({locals() is globals()}) \\n    print( locals() )\\n    print( {k:v for k,v in globals().items() if k==\\'a\\'})',\n",
       " '_i124': 'def function():\\n    a = 2\\n    print( \"is locals  same as globals? {}.\"format({locals() is globals()})) \\n    print( locals() )\\n    print( {k:v for k,v in globals().items() if k==\\'a\\'})',\n",
       " '_i125': 'def function():\\n    a = 2\\n    print( \"is locals  same as globals? {}.\"format(locals() is globals())) \\n    print( locals() )\\n    print( {k:v for k,v in globals().items() if k==\\'a\\'})',\n",
       " '_i126': 'def function():\\n    a = 2\\n    print( \"is locals  same as globals? {}\".format(locals() is globals())) \\n    print( locals() )\\n    print( {k:v for k,v in globals().items() if k==\\'a\\'})',\n",
       " '_i127': 'function()',\n",
       " '_i128': 'def function():\\n    a = 2\\n    print( \"Is locals  same as globals? {}\".format(locals() is globals())) \\n    print( \"locals dictionary\".format({locals()})\\n    print( {k:v for k,v in globals().items() if k==\\'a\\'})',\n",
       " '_i129': 'def function():\\n    a = 2\\n    print( \"Is locals  same as globals? {}\".format(locals() is globals())) \\n    print( \"locals dictionary\".format(locals()))\\n    print( {k:v for k,v in globals().items() if k==\\'a\\'})',\n",
       " '_i130': 'def function():\\n    a = 2\\n    print( \"Is locals  same as globals? {}\".format(locals() is globals())) \\n    print( \"locals dictionary\".format(locals()))\\n    print( \"what about name a in globals()\".format({k:v for k,v in globals().items() if k==\\'a\\'}))',\n",
       " '_i131': 'function()',\n",
       " '_i132': 'def function():\\n    a = 2\\n    print( \"Is locals  same as globals? {}\".format(locals() is globals())) \\n    print( \"locals dictionary {}\".format(locals()))\\n    print( \"what about name a in globals(){}\".format({k:v for k,v in globals().items() if k==\\'a\\'}))',\n",
       " '_i133': 'function()',\n",
       " '_i134': 'def function():\\n    a = 2\\n    print( \"Is locals  same as globals? {}\".format(locals() is globals())) \\n    print( \"Locals() dictionary {}\".format(locals()))\\n    print( \"What about name a in globals(){}\".format({k:v for k,v in globals().items() if k==\\'a\\'}))',\n",
       " '_i135': 'function()',\n",
       " '_i136': 'def function():\\n    a = 2\\n    print( \"Is locals  same as globals? {}\".format(locals() is globals())) \\n    print( \"Locals dictionary {}\".format(locals()))\\n    print( \"What about name a in globals(){}\".format({k:v for k,v in globals().items() if k==\\'a\\'}))',\n",
       " '_i137': 'function()',\n",
       " '_i138': 'def function():\\n    a = 2\\n    print( \"Is locals()  same as globals()? {}\".format(locals() is globals())) \\n    print( \"Locals dictionary {}\".format(locals()))\\n    print( \"What about name a in globals(){}\".format({k:v for k,v in globals().items() if k==\\'a\\'}))',\n",
       " '_i139': 'function()',\n",
       " '_i140': 'def function():\\n    a = 2\\n    print( \"Is locals()  same as globals()? {}\".format(locals() is globals())) \\n    print( \"Locals dictionary: {}\".format(locals()))\\n    print( \"What about name a in globals(): {}\".format({k:v for k,v in globals().items() if k==\\'a\\'}))',\n",
       " '_i141': 'function()',\n",
       " '_i142': 'liste = [1,3]\\ndef function(liste):\\n    liste2 = liste\\n    liste2 +=[\"a\"]\\n    ',\n",
       " 'liste': [1, 3, 'a', 'a', 'a', 'a'],\n",
       " '_i143': 'liste = [1,3]\\ndef function(liste):\\n    liste2 = liste\\n    liste2 +=[\"a\"]\\nfunction()\\nliste',\n",
       " '_i144': 'liste = [1,3]\\ndef function(liste):\\n    liste2 = liste\\n    liste2 +=[\"a\"]\\nfunction(lsite)\\nliste',\n",
       " '_i145': 'liste = [1,3]\\ndef function(liste):\\n    liste2 = liste\\n    liste2 +=[\"a\"]\\nfunction(liste)\\nliste',\n",
       " '_145': [1, 3, 'a'],\n",
       " '_i146': 'liste = [1,3]\\ndef function(liste):\\n    liste2 = liste\\n    liste2 +=[\"a\"]\\nfunction(liste)\\nliste',\n",
       " '_146': [1, 3, 'a'],\n",
       " '_i147': 'liste = [1,3]',\n",
       " '_i148': 'def function(liste):\\n    liste2 = liste\\n    liste2 +=[\"a\"]\\nfunction(liste)',\n",
       " '_i149': 'def function(liste):\\n    liste2 = liste\\n    liste2 +=[\"a\"]\\nfunction(liste)',\n",
       " '_i150': 'def function(liste):\\n    liste2 = liste\\n    liste2 +=[\"a\"]\\nfunction(liste)',\n",
       " '_i151': 'def function(liste):\\n    liste2 = liste\\n    liste2 +=[\"a\"]\\nfunction(liste)',\n",
       " '_i152': 'liste',\n",
       " '_152': [1, 3, 'a', 'a', 'a', 'a'],\n",
       " '_i153': '> The important thing to know about namespaces is that there is absolutely no relation between names in different namespaces',\n",
       " '_i154': 'def function:\\n    print(locals())\\n    def function2:\\n        b=2\\n    c=3\\n    print(locals())\\nfunction()',\n",
       " '_i155': 'def function:\\n    print(locals())\\n    def function2:\\n        b=2\\n        print(\"inner function locals:\")\\n        print(locals())\\n    c=3\\n    print(locals())\\nfunction()',\n",
       " '_i156': 'def function():\\n    print(locals())\\n    def function2():\\n        b=2\\n        print(\"inner function locals:\")\\n        print(locals())\\n    c=3\\n    print(locals())\\nfunction()',\n",
       " '_i157': 'def function():\\n    print(\"outer function:{}\".format(locals()))\\n    def function2():\\n        b=2\\n        print(\"inner function locals:\")\\n        print(locals())\\n    c=3\\n    print(locals())\\nfunction()',\n",
       " '_i158': 'def function():\\n    print(\"outer function locals:{}\".format(locals()))\\n    def function2():\\n        b=2\\n        print(\"inner function locals:\")\\n        print(locals())\\n    c=3\\n    print(locals())\\nfunction()',\n",
       " '_i159': 'def function():\\n    print(\"outer function locals:{}\".format(locals()))\\n    def function2():\\n        b=2\\n        print(\"inner function locals:\".format(locals()))\\n    c=3\\n    print(\"outer function locals:{}\".format(locals()))\\nfunction()',\n",
       " '_i160': 'def function():\\n    print(\"outer function locals:{}\".format(locals()))\\n    def function2():\\n        b=2\\n        print(\"inner function locals:\".format(locals()))\\n    c=3\\n    print(\"outer function locals:{}\".format(locals()))\\n    function2()\\n    print(\"outer function locals:{}\".format(locals()))\\nfunction()',\n",
       " '_i161': 'def function():\\n    print(\"outer function locals:{}\".format(locals()))\\n    def function2():\\n        b=2\\n        print(\"inner function locals:\".format(locals()))\\n    c=3\\n    print(\"outer function locals:{}\".format(locals()))\\n    function2()\\n    print(\"outer function locals:{}\".format(locals()))\\nfunction()',\n",
       " '_i162': 'def function():\\n    print(\"outer function locals:{}\".format(locals()))\\n    def function2():\\n        b=2\\n        print(\"inner function locals:\".format(locals()))\\n    c=3\\n    print(\"outer function locals:{}\".format(locals()))\\n    function2()\\n    print(\"outer function locals:{}\".format(locals()))\\nfunction()',\n",
       " '_i163': 'def function():\\n    print(\"outer function locals:{}\".format(locals()))\\n    def function2():\\n        b=2\\n        print(\"inner function locals:\".format(locals()))\\n    c=3\\n    print(\"outer function locals:{}\".format(locals()))\\n    function2()\\n    print(\"outer function locals:{}\".format(locals()))\\nfunction()',\n",
       " '_i164': 'def function():\\n    print(\"outer function locals:{}\".format(locals()))\\n    def function2():\\n        b=2\\n        print(\"inner function locals:\".format(locals()))\\n    c=3\\n    print(\"outer function locals:{}\".format(locals()))\\n    function2()\\n    print(\"outer function locals:{}\".format(locals()))\\nfunction()',\n",
       " '_i165': 'def function():\\n    print(\"outer function locals:{}\".format(locals()))\\n    def function2():\\n        b=2\\n        print(\"inner function locals:\".format(locals()))\\n    c=3\\n    print(\"outer function locals:{}\".format(locals()))\\n    function2()\\n    print(\"outer function locals:{}\".format(locals()))\\nfunction()',\n",
       " '_i166': 'def function():\\n    print(\"outer function locals:{}\".format(locals()))\\n    def function2():\\n        b=2\\n        print(\"inner function locals:\".format(locals()))\\n    c=3\\n    print(\"outer function locals:{}\".format(locals()))\\n    function2()\\n    print(\"outer function locals:{}\".format(locals()))\\nfunction()',\n",
       " '_i167': 'def function():\\n    print(\"outer function locals:{}\".format(locals()))\\n    def function2():\\n        nonlocal c\\n        print(\"inner function locals:\".format(locals()))\\n    c=3\\n    print(\"outer function locals:{}\".format(locals()))\\n    function2()\\n    print(\"outer function locals:{}\".format(locals()))\\nfunction()',\n",
       " '_i168': 'def function():\\n    print(\"outer function locals:{}\".format(locals()))\\n    def function2():\\n        nonlocal c\\n        c += 4\\n    c=3\\n    print(\"outer function locals:{}\".format(locals()))\\n    function2()\\n    print(\"outer function locals:{}\".format(locals()))\\nfunction()',\n",
       " '_i169': 'def function():\\n    print(\"outer function locals:{}\".format(locals()))\\n    def function2():\\n        global c\\n        c += 4\\n    c=3\\n    print(\"outer function locals:{}\".format(locals()))\\n    function2()\\n    print(\"outer function locals:{}\".format(locals()))\\nfunction()',\n",
       " '_i170': 'def function():\\n    print(\"outer function locals:{}\".format(locals()))\\n    def function2():\\n        nonlocal c\\n        c += 4\\n    c=3\\n    print(\"outer function locals:{}\".format(locals()))\\n    function2()\\n    print(\"outer function locals:{}\".format(locals()))\\nfunction()',\n",
       " '_i171': 'def function():\\n    def function2():\\n        nonlocal c\\n        c += 4\\n    c=3\\n    print(\"outer function locals:{}\".format(locals()))\\n    function2()\\n    print(\"outer function locals:{}\".format(locals()))\\nfunction()',\n",
       " '_i172': 'def function():\\n    #print(\"outer function locals:{}\".format(locals()))\\n    def function2():\\n        b=2\\n        print(\"inner function locals:\".format(locals()))\\n    c=3\\n    #print(\"outer function locals:{}\".format(locals()))\\n    function2()\\n    #print(\"outer function locals:{}\".format(locals()))\\nfunction()',\n",
       " '_i173': 'def function():\\n    print(\"outer function locals:{}\".format(locals()))\\n    def function2():\\n        b=2\\n        print(\"inner function locals:\".format(locals()))\\n    c=3\\n    print(\"outer function locals:{}\".format(locals()))\\n    function2()\\n    print(\"outer function locals:{}\".format(locals()))\\nfunction()',\n",
       " '_i174': 'def function():\\n    print(\"outer function locals:{}\".format(locals()))\\n    def function2():\\n        b=2\\n        print(c)\\n        print(\"inner function locals:\".format(locals()))\\n    c=3\\n    print(\"outer function locals:{}\".format(locals()))\\n    function2()\\n    print(\"outer function locals:{}\".format(locals()))\\nfunction()',\n",
       " '_i175': 'def function():\\n    print(\"outer function locals:{}\".format(locals()))\\n    def function2():\\n        b=2\\n        print(c)\\n        print(\"inner function locals:\".format(locals()))\\n    c=3\\n    print(\"outer function locals:{}\".format(locals()))\\n    function2()\\n    print(\"outer function locals:{}\".format(locals()))\\nfunction()',\n",
       " '_i176': 'def function():\\n    print(\"outer function locals:{}\".format(locals()))\\n    def function2():\\n        b=2\\n        print(\"inner function locals:\".format(locals()))\\n    c=3\\n    print(\"outer function locals:{}\".format(locals()))\\n    function2()\\n    print(\"outer function locals:{}\".format(locals()))\\nfunction()',\n",
       " '_i177': 'class Test:\\n    i=12',\n",
       " 'Test': __main__.Test,\n",
       " '_i178': \"globals()['Test']\",\n",
       " '_178': __main__.Test,\n",
       " '_i179': 'Test.__dict__',\n",
       " '_179': mappingproxy({'__module__': '__main__',\n",
       "               'i': 12,\n",
       "               '__dict__': <attribute '__dict__' of 'Test' objects>,\n",
       "               '__weakref__': <attribute '__weakref__' of 'Test' objects>,\n",
       "               '__doc__': None}),\n",
       " '_i180': 'Test.__dict__()',\n",
       " '_i181': 'Test.__dict__()',\n",
       " '_i182': 'Test.__dict__',\n",
       " '_182': mappingproxy({'__module__': '__main__',\n",
       "               'i': 12,\n",
       "               '__dict__': <attribute '__dict__' of 'Test' objects>,\n",
       "               '__weakref__': <attribute '__weakref__' of 'Test' objects>,\n",
       "               '__doc__': None}),\n",
       " '_i183': 'def function():\\n    print(\"outer function locals:{}\".format(locals()))\\n    d=4\\n    def function2():\\n        b=2\\n        print(\"inner function locals:\".format(locals()))\\n    c=3\\n    print(\"outer function locals:{}\".format(locals()))\\n    function2()\\n    print(\"outer function locals:{}\".format(locals()))\\nfunction()',\n",
       " '_i184': 'def function():\\n    print(\"outer function locals:{}\".format(locals()))\\n    d=4\\n    def function2():\\n        nonlocal d\\n        print(\"inner function locals:\".format(locals()))\\n    c=3\\n    print(\"outer function locals:{}\".format(locals()))\\n    function2()\\n    print(\"outer function locals:{}\".format(locals()))\\nfunction()',\n",
       " '_i185': 'def function():\\n    print(\"outer function locals:{}\".format(locals()))\\n    d=4\\n    def function2():\\n        b=2\\n        print(\"inner function locals:\".format(locals().locals()))\\n    c=3\\n    print(\"outer function locals:{}\".format(locals()))\\n    function2()\\n    print(\"outer function locals:{}\".format(locals()))\\nfunction()',\n",
       " '_i186': 'def function():\\n    print(\"outer function locals:{}\".format(locals()))\\n    d=4\\n    def function2():\\n        b=2\\n        print(\"inner function locals:\".format(locals(locals()))\\n    c=3\\n    print(\"outer function locals:{}\".format(locals()))\\n    function2()\\n    print(\"outer function locals:{}\".format(locals()))\\nfunction()',\n",
       " '_i187': 'def function():\\n    print(\"outer function locals:{}\".format(locals()))\\n    d=4\\n    def function2():\\n        b=2\\n        print(\"inner function locals:\".format(locals(locals())))\\n    c=3\\n    print(\"outer function locals:{}\".format(locals()))\\n    function2()\\n    print(\"outer function locals:{}\".format(locals()))\\nfunction()',\n",
       " '_i188': 'def function():\\n    print(\"outer function locals:{}\".format(locals()))\\n    d=4\\n    def function2():\\n        b=2\\n        print(\"inner function locals:\".format(locals()))\\n    c=3\\n    print(\"outer function locals:{}\".format(locals()))\\n    function2()\\n    print(\"outer function locals:{}\".format(locals()))\\nfunction()',\n",
       " '_i189': 'def function():\\n    print(\"outer function locals:{}\".format(locals()))\\n    d=4\\n    def function2():\\n        b=2\\n        print(\"inner function locals:{}\".format(locals()))\\n    c=3\\n    print(\"outer function locals:{}\".format(locals()))\\n    function2()\\n    print(\"outer function locals:{}\".format(locals()))\\nfunction()',\n",
       " '_i190': 'def function():\\n    print(\"outer function locals:{}\".format(locals()))\\n    d=4\\n    def function2():\\n        b=2\\n        print(\"inner function locals:{}\".format(locals()))\\n    c=3\\n    print(\"outer function locals:{}\".format(locals()))\\n    function2()\\n    print(\"outer function locals:{}\".format(locals()))\\nfunction()',\n",
       " '_i191': 'def function():\\n    print(\"outer function locals:{}\".format(locals()))\\n    d=4\\n    def function2():\\n        b=2\\n        print(\"inner function locals:{}\".format(locals()))\\n        nonlocal d\\n    c=3\\n    print(\"outer function locals:{}\".format(locals()))\\n    function2()\\n    print(\"outer function locals:{}\".format(locals()))\\nfunction()',\n",
       " '_i192': 'def function():\\n    print(\"outer function locals:{}\".format(locals()))\\n    d=4\\n    def function2():\\n        b=2\\n        print(\"inner function locals:{}\".format(locals()))\\n        global d\\n    c=3\\n    print(\"outer function locals:{}\".format(locals()))\\n    function2()\\n    print(\"outer function locals:{}\".format(locals()))\\nfunction()',\n",
       " '_i193': 'def function():\\n    print(\"outer function locals:{}\".format(locals()))\\n    d=4\\n    def function2():\\n        b=2\\n        print(\"inner function locals:{}\".format(locals()))\\n        global d\\n    c=3\\n    print(\"outer function locals:{}\".format(locals()))\\n    function2()\\n    print(\"outer function locals:{}\".format(locals()))\\nfunction()',\n",
       " '_i194': 'def function():\\n    print(\"outer function locals:{}\".format(locals()))\\n    d=4\\n    def function2():\\n        b=2\\n        print(\"inner function locals:{}\".format(locals()))\\n        global d\\n    c=3\\n    print(\"outer function locals:{}\".format(locals()))\\n    function2()\\n    print(\"outer function locals:{}\".format(locals()))\\nfunction()',\n",
       " '_i195': 'def function():\\n    print(\"outer function locals:{}\".format(locals()))\\n    d=4\\n    def function2():\\n        b=2\\n        print(\"inner function locals:{}\".format(locals()))\\n        global a\\n    c=3\\n    print(\"outer function locals:{}\".format(locals()))\\n    function2()\\n    print(\"outer function locals:{}\".format(locals()))\\nfunction()',\n",
       " '_i196': 'def function():\\n    print(\"outer function locals:{}\".format(locals()))\\n    d=4\\n    def function2():\\n        b=2\\n        print(\"inner function locals:{}\".format(locals()))\\n        nonlocal d\\n    c=3\\n    print(\"outer function locals:{}\".format(locals()))\\n    function2()\\n    print(\"outer function locals:{}\".format(locals()))\\nfunction()',\n",
       " '_i197': 'a',\n",
       " '_197': 37,\n",
       " '_i198': 'def function():\\n    print(\"outer function locals:{}\".format(locals()))\\n    d=4\\n    def function2():\\n        b=2\\n        print(\"inner function locals:{}\".format(locals()))\\n        global a\\n    c=3\\n    print(\"outer function locals:{}\".format(locals()))\\n    function2()\\n    print(\"outer function locals:{}\".format(locals()))\\nfunction()',\n",
       " '_i199': 'def function():\\n    print(\"outer function locals:{}\".format(locals()))\\n    d=4\\n    def function2():\\n        b=2\\n        print(\"inner function locals:{}\".format(locals()))\\n        nonlocal d\\n    c=3\\n    print(\"outer function locals:{}\".format(locals()))\\n    function2()\\n    print(\"outer function locals:{}\".format(locals()))\\nfunction()',\n",
       " '_i200': 'def function():\\n    def function2():\\n        nonlocal c\\n        c += 4\\n    c=3\\n    print(\"outer function locals:{}\".format(locals()))\\n    function2()\\n    print(\"outer function locals:{}\".format(locals()))\\nfunction()',\n",
       " '_i201': 'def function():\\n    print(\"outer function locals:{}\".format(locals()))\\n    d=4\\n    def function2():\\n        b=2\\n        print(\"inner function locals:{}\".format(locals()))\\n        nonlocal d\\n    c=3\\n    print(\"outer function locals:{}\".format(locals()))\\n    function2()\\n    print(\"outer function locals:{}\".format(locals()))\\nfunction()',\n",
       " '_i202': 'def function():\\n    def function2():\\n        nonlocal c\\n        c += 4\\n    c=3\\n    print(\"outer function locals:{}\".format(locals()))\\n    function2()\\n    print(\"outer function locals:{}\".format(locals()))\\nfunction()',\n",
       " '_i203': 'globals()',\n",
       " '_203': {...},\n",
       " '_i204': \"globals()['__main__']\",\n",
       " '_i205': '__main__.a',\n",
       " '_i206': \"'__main__'.a\",\n",
       " '_i207': '__main__.a',\n",
       " '_i208': '__main__.a',\n",
       " '_i209': '__main',\n",
       " '_i210': '__main__',\n",
       " '_i211': 'import __main__',\n",
       " '__main__': <module '__main__'>,\n",
       " '_i212': '__main__.a',\n",
       " '_212': 37,\n",
       " '_i213': 'import __main__\\n__main__.a',\n",
       " '_213': 37,\n",
       " '_i214': 'Sometimes, scope is also defined as the set of variables/names available at a certain point in the code execution',\n",
       " '_i215': 'import regex',\n",
       " '_i216': 'import selenium',\n",
       " '_i217': '!pip freeze',\n",
       " '_exit_code': 0,\n",
       " '_i218': 'import Pygments',\n",
       " '_i219': '!pip freeze',\n",
       " '_i220': 'import webencodings',\n",
       " '_i221': 'globals()',\n",
       " '_221': {...},\n",
       " '_i222': \"globals()['webencodings']\",\n",
       " '_222': <module 'webencodings' from '/Users/lucbertin/.pyenv/versions/3.8.4/lib/python3.8/site-packages/webencodings/__init__.py'>,\n",
       " '_i223': 'del webencodings',\n",
       " '_i224': 'import webencodings',\n",
       " '_i225': \"globals()['webencodings']\",\n",
       " '_225': <module 'webencodings' from '/Users/lucbertin/.pyenv/versions/3.8.4/lib/python3.8/site-packages/webencodings/__init__.py'>,\n",
       " '_i226': 'del webencodings',\n",
       " '_i227': \"globals()['webencodings']\",\n",
       " '_i228': 'del webencodings',\n",
       " '_i229': 'del webencodings',\n",
       " '_i230': 'del webencodings',\n",
       " '_i231': 'import webencodings',\n",
       " '_i232': \"globals()['webencodings']\",\n",
       " '_232': <module 'webencodings' from '/Users/lucbertin/.pyenv/versions/3.8.4/lib/python3.8/site-packages/webencodings/__init__.py'>,\n",
       " '_i233': 'del webencodings',\n",
       " '_i234': 'import webencodings',\n",
       " '_i235': \"globals()['webencodings']\",\n",
       " '_235': <module 'webencodings' from '/Users/lucbertin/.pyenv/versions/3.8.4/lib/python3.8/site-packages/webencodings/__init__.py'>,\n",
       " '_i236': 'del webencodings\\nfrom webencodings import ascii_lower',\n",
       " 'ascii_lower': <function webencodings.ascii_lower(string)>,\n",
       " '_i237': \"globals()['webencodings']\",\n",
       " '_i238': \"globals()['ascii_lower']\",\n",
       " '_238': <function webencodings.ascii_lower(string)>,\n",
       " '_i239': '!git status',\n",
       " '_i240': '!echo $NALME',\n",
       " '_i241': '!echo $NAME',\n",
       " '_i242': 'globals()'}"
      ]
     },
     "execution_count": 242,
     "metadata": {},
     "output_type": "execute_result"
    }
   ],
   "source": [
    "globals()"
   ]
  },
  {
   "cell_type": "code",
   "execution_count": 244,
   "metadata": {},
   "outputs": [
    {
     "data": {
      "text/plain": [
       "'/Users/lucbertin/Desktop/TDs_Python_ESILV_5A'"
      ]
     },
     "execution_count": 244,
     "metadata": {},
     "output_type": "execute_result"
    }
   ],
   "source": [
    "globals()['_dh'][0]"
   ]
  },
  {
   "cell_type": "code",
   "execution_count": 246,
   "metadata": {},
   "outputs": [
    {
     "data": {
      "application/javascript": [
       "\n",
       "console.log('Starting front end url_querystring_target comm target');\n",
       "const comm = Jupyter.notebook.kernel.comm_manager.new_comm('url_querystring_target', {'init': 1});\n",
       "comm.send({'ipyparams_browser_url': window.location.href});\n",
       "console.log('Sent window.location.href on url_querystring_target comm target');\n",
       "\n",
       "comm.on_msg(function(msg) {\n",
       "    console.log(msg.content.data);\n",
       "});\n"
      ],
      "text/plain": [
       "<IPython.core.display.Javascript object>"
      ]
     },
     "metadata": {},
     "output_type": "display_data"
    }
   ],
   "source": [
    "import ipyparams"
   ]
  },
  {
   "cell_type": "code",
   "execution_count": 239,
   "metadata": {
    "scrolled": true
   },
   "outputs": [
    {
     "name": "stdout",
     "output_type": "stream",
     "text": [
      "On branch master\r\n",
      "Changes not staged for commit:\r\n",
      "  (use \"git add/rm <file>...\" to update what will be committed)\r\n",
      "  (use \"git restore <file>...\" to discard changes in working directory)\r\n",
      "\t\u001b[31mmodified:   BONUS_Gradient_Boosting.ipynb\u001b[m\r\n",
      "\t\u001b[31mmodified:   ENV.py\u001b[m\r\n",
      "\t\u001b[31mmodified:   Mon_Premier_Notebook.ipynb\u001b[m\r\n",
      "\t\u001b[31mmodified:   TD2_webscrapping.ipynb\u001b[m\r\n",
      "\t\u001b[31mmodified:   TD3_PlayingWithPandas.ipynb\u001b[m\r\n",
      "\t\u001b[31mmodified:   TD4_Advanced_Regressions.ipynb\u001b[m\r\n",
      "\t\u001b[31mmodified:   TD4_Sklearn.ipynb\u001b[m\r\n",
      "\t\u001b[31mmodified:   TD5_A_Simple_NN_for_a_Simple_LR.ipynb\u001b[m\r\n",
      "\t\u001b[31mmodified:   TD7_Image_Captioning_CNN_RNN.ipynb\u001b[m\r\n",
      "\t\u001b[31mmodified:   TD7_Text_Generation_With_LSTM.ipynb\u001b[m\r\n",
      "\t\u001b[31mmodified:   TD8_django_tutorial/.DS_Store\u001b[m\r\n",
      "\t\u001b[31mmodified:   TD8_django_tutorial/db.sqlite3\u001b[m\r\n",
      "\t\u001b[31mmodified:   TD8_django_tutorial/ipynb/Boston_Dataset_VERY_Simple_Prediction.ipynb\u001b[m\r\n",
      "\t\u001b[31mmodified:   TD8_django_tutorial/predicteur_app/__pycache__/views.cpython-36.pyc\u001b[m\r\n",
      "\t\u001b[31mmodified:   chromedriver\u001b[m\r\n",
      "\t\u001b[31mdeleted:    data/.DS_Store\u001b[m\r\n",
      "\t\u001b[31mdeleted:    data/kimkadarshian1.jpg\u001b[m\r\n",
      "\t\u001b[31mdeleted:    data/kimkadarshian2.jpg\u001b[m\r\n",
      "\t\u001b[31mdeleted:    data/kimkadarshian3.jpg\u001b[m\r\n",
      "\t\u001b[31mdeleted:    data/kimkadarshian4.jpg\u001b[m\r\n",
      "\t\u001b[31mdeleted:    data/kimkadarshian5.jpg\u001b[m\r\n",
      "\t\u001b[31mdeleted:    data/kimkadarshian6.jpg\u001b[m\r\n",
      "\t\u001b[31mdeleted:    data/kimkadarshian7.jpg\u001b[m\r\n",
      "\t\u001b[31mdeleted:    data/kimkadarshian8.jpg\u001b[m\r\n",
      "\t\u001b[31mdeleted:    data/kimkadarshian9 copie.jpg\u001b[m\r\n",
      "\t\u001b[31mdeleted:    data/kimkadarshian9.jpg\u001b[m\r\n",
      "\t\u001b[31mmodified:   data_accidents/vehicules2017.csv\u001b[m\r\n",
      "\t\u001b[31mmodified:   github_command.py\u001b[m\r\n",
      "\t\u001b[31mmodified:   stream_file.py\u001b[m\r\n",
      "\t\u001b[31mmodified:   td6_ressources/FeatureMaps.png\u001b[m\r\n",
      "\r\n",
      "Untracked files:\r\n",
      "  (use \"git add <file>...\" to include in what will be committed)\r\n",
      "\t\u001b[31m.DS_Store\u001b[m\r\n",
      "\t\u001b[31m.ipynb_checkpoints/\u001b[m\r\n",
      "\t\u001b[31mAtom_packages_list.txt\u001b[m\r\n",
      "\t\u001b[31mBONUS_Create_Animated_Plots.ipynb\u001b[m\r\n",
      "\t\u001b[31mCNN.pptx\u001b[m\r\n",
      "\t\u001b[31mRNN_LSTM.pptx\u001b[m\r\n",
      "\t\u001b[31mRNN_model.sav\u001b[m\r\n",
      "\t\u001b[31mScrapperInsta.ipynb\u001b[m\r\n",
      "\t\u001b[31mTD1_add_on_Execution_Model.ipynb\u001b[m\r\n",
      "\t\u001b[31mTD1_premier_notebook/\u001b[m\r\n",
      "\t\u001b[31mTD2.R\u001b[m\r\n",
      "\t\u001b[31mTD4_data/\u001b[m\r\n",
      "\t\u001b[31mTD6_CNN.py\u001b[m\r\n",
      "\t\u001b[31mTD6_recuperation_photos.ipynb\u001b[m\r\n",
      "\t\u001b[31mTD8_django_tutorial/Django_tutorial.pdf\u001b[m\r\n",
      "\t\u001b[31mTD8_django_tutorial/Django_tutorial.pptx\u001b[m\r\n",
      "\t\u001b[31mWebScrapping.ipynb\u001b[m\r\n",
      "\t\u001b[31m__pycache__/\u001b[m\r\n",
      "\t\u001b[31mbest_model_normalised_input.hdf5\u001b[m\r\n",
      "\t\u001b[31mcatboost_info/\u001b[m\r\n",
      "\t\u001b[31mdata_accidents/vehicules2016.csv\u001b[m\r\n",
      "\t\u001b[31mdata_cat/\u001b[m\r\n",
      "\t\u001b[31mdata_dog/\u001b[m\r\n",
      "\t\u001b[31mdata_hakitainu/\u001b[m\r\n",
      "\t\u001b[31mdata_meandbeardedones/\u001b[m\r\n",
      "\t\u001b[31mdata_odai/\u001b[m\r\n",
      "\t\u001b[31mdata_tekel/\u001b[m\r\n",
      "\t\u001b[31mec2-user@ec2-54-174-64-166.compute-1.amazonaws.com\u001b[m\r\n",
      "\t\u001b[31mgit_credentials.py\u001b[m\r\n",
      "\t\u001b[31mincidents_sncf.csv\u001b[m\r\n",
      "\t\u001b[31minfos_envs.rtf\u001b[m\r\n",
      "\t\u001b[31mlorenz_attractor_short.gif\u001b[m\r\n",
      "\t\u001b[31mmygif.gif\u001b[m\r\n",
      "\t\u001b[31mnotes/\u001b[m\r\n",
      "\t\u001b[31mother_nice_ressources\u001b[m\r\n",
      "\t\u001b[31mother_nice_ressources.txt\u001b[m\r\n",
      "\t\u001b[31mregularite_sncf.csv\u001b[m\r\n",
      "\t\u001b[31msample_submission.csv\u001b[m\r\n",
      "\t\u001b[31mtd0_ressources/\u001b[m\r\n",
      "\t\u001b[31mtd1_ressources/\u001b[m\r\n",
      "\t\u001b[31mtd2_ressources/\u001b[m\r\n",
      "\t\u001b[31mtd4_ressources/BoostedTree.pdf\u001b[m\r\n",
      "\t\u001b[31mtd4_ressources/HOW CAN I CHECK THE CLOSENESS OF NORMAL DISTRIBUTION.pdf\u001b[m\r\n",
      "\t\u001b[31mtd4_ressources/LDA vs. SVM for Dimensionality Reduction - Cross Validated.pdf\u001b[m\r\n",
      "\t\u001b[31mtd4_ressources/Markov_chains.pdf\u001b[m\r\n",
      "\t\u001b[31mtd4_ressources/bayes7.ppt\u001b[m\r\n",
      "\t\u001b[31mtd4_ressources/img_IncMSE_RF.png\u001b[m\r\n",
      "\t\u001b[31mtd4_ressources/img_feature_choice_trees.png\u001b[m\r\n",
      "\t\u001b[31mtd4_ressources/img_oob_predictions_RF.png\u001b[m\r\n",
      "\t\u001b[31mtd4_ressources/img_random_independent_sample.png\u001b[m\r\n",
      "\t\u001b[31mtd4_ressources/lecture11.ppt\u001b[m\r\n",
      "\t\u001b[31mtd4_ressources/plot_grid_search.py\u001b[m\r\n",
      "\t\u001b[31mtd6_ressources/CNN_explanations.pdf\u001b[m\r\n",
      "\t\u001b[31mtd7_ressources/.DS_Store\u001b[m\r\n",
      "\t\u001b[31mtd7_ressources/Beach_search_optimization.png\u001b[m\r\n",
      "\t\u001b[31mtd7_ressources/Beam_search.png\u001b[m\r\n",
      "\t\u001b[31mtd7_ressources/beam_search2.png\u001b[m\r\n",
      "\t\u001b[31mtd7_ressources/references.rtf\u001b[m\r\n",
      "\t\u001b[31mtd7_ressources/references.txt\u001b[m\r\n",
      "\t\u001b[31mthe_key.pem\u001b[m\r\n",
      "\t\u001b[31myolo.txt\u001b[m\r\n",
      "\r\n",
      "no changes added to commit (use \"git add\" and/or \"git commit -a\")\r\n"
     ]
    }
   ],
   "source": [
    "!git add "
   ]
  },
  {
   "cell_type": "code",
   "execution_count": null,
   "metadata": {},
   "outputs": [],
   "source": []
  }
 ],
 "metadata": {
  "kernelspec": {
   "display_name": "Python 3",
   "language": "python",
   "name": "python3"
  },
  "language_info": {
   "codemirror_mode": {
    "name": "ipython",
    "version": 3
   },
   "file_extension": ".py",
   "mimetype": "text/x-python",
   "name": "python",
   "nbconvert_exporter": "python",
   "pygments_lexer": "ipython3",
   "version": "3.8.4"
  }
 },
 "nbformat": 4,
 "nbformat_minor": 4
}
